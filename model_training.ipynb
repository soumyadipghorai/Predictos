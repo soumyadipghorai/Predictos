{
 "cells": [
  {
   "cell_type": "code",
   "execution_count": 1419,
   "metadata": {},
   "outputs": [],
   "source": [
    "import numpy as np \n",
    "import pandas as pd \n",
    "import gender_guesser.detector as gender\n",
    "\n",
    "import seaborn as sns\n",
    "import plotly.express as px\n",
    "import plotly.graph_objects as go\n",
    "import matplotlib.pyplot as plt\n",
    "%matplotlib inline\n",
    "\n",
    "from sklearn import preprocessing\n",
    "from sklearn.model_selection import train_test_split\n",
    "from sklearn.preprocessing import StandardScaler\n",
    "\n",
    "from sklearn.svm import SVR\n",
    "from sklearn.linear_model import LinearRegression\n",
    "from sklearn.preprocessing import PolynomialFeatures\n",
    "from sklearn.tree import DecisionTreeRegressor\n",
    "from sklearn.ensemble import RandomForestRegressor\n",
    "from sklearn.model_selection import RandomizedSearchCV\n",
    "from sklearn.neighbors import KNeighborsRegressor\n",
    "from sklearn.ensemble import ExtraTreesRegressor\n",
    "\n",
    "from sklearn import ensemble\n",
    "from sklearn import metrics\n",
    "\n",
    "import warnings\n",
    "warnings.simplefilter(action='ignore', category=FutureWarning)"
   ]
  },
  {
   "cell_type": "code",
   "execution_count": 1420,
   "metadata": {},
   "outputs": [
    {
     "data": {
      "text/html": [
       "<div>\n",
       "<style scoped>\n",
       "    .dataframe tbody tr th:only-of-type {\n",
       "        vertical-align: middle;\n",
       "    }\n",
       "\n",
       "    .dataframe tbody tr th {\n",
       "        vertical-align: top;\n",
       "    }\n",
       "\n",
       "    .dataframe thead th {\n",
       "        text-align: right;\n",
       "    }\n",
       "</style>\n",
       "<table border=\"1\" class=\"dataframe\">\n",
       "  <thead>\n",
       "    <tr style=\"text-align: right;\">\n",
       "      <th></th>\n",
       "      <th>Name</th>\n",
       "      <th>age</th>\n",
       "      <th>country</th>\n",
       "      <th>category</th>\n",
       "      <th>image</th>\n",
       "      <th>marital_status</th>\n",
       "      <th>Education</th>\n",
       "      <th>net_worth</th>\n",
       "      <th>Degree</th>\n",
       "    </tr>\n",
       "  </thead>\n",
       "  <tbody>\n",
       "    <tr>\n",
       "      <th>0</th>\n",
       "      <td>Mary-Kate and Ashley Olsen</td>\n",
       "      <td>34.0</td>\n",
       "      <td>United states</td>\n",
       "      <td>actresses</td>\n",
       "      <td>https://static1.therichestimages.com/wordpress...</td>\n",
       "      <td>Single</td>\n",
       "      <td>Campbell Hall School and New York University</td>\n",
       "      <td>$500 Million</td>\n",
       "      <td>Graduate</td>\n",
       "    </tr>\n",
       "    <tr>\n",
       "      <th>1</th>\n",
       "      <td>Jennifer Aniston</td>\n",
       "      <td>52.0</td>\n",
       "      <td>United states</td>\n",
       "      <td>actresses</td>\n",
       "      <td>https://static2.therichestimages.com/wordpress...</td>\n",
       "      <td>Married (Justin Theroux)</td>\n",
       "      <td>Fiorello H. LaGuardia High School</td>\n",
       "      <td>$300 Million</td>\n",
       "      <td>high school</td>\n",
       "    </tr>\n",
       "    <tr>\n",
       "      <th>2</th>\n",
       "      <td>Julia Roberts</td>\n",
       "      <td>53.0</td>\n",
       "      <td>United states</td>\n",
       "      <td>actresses</td>\n",
       "      <td>https://static3.therichestimages.com/wordpress...</td>\n",
       "      <td>Married (Daniel Moder)</td>\n",
       "      <td>Smyrna's Campbell High School</td>\n",
       "      <td>$250 Million</td>\n",
       "      <td>high school</td>\n",
       "    </tr>\n",
       "    <tr>\n",
       "      <th>3</th>\n",
       "      <td>Julia Louis Dreyfus</td>\n",
       "      <td>60.0</td>\n",
       "      <td>United states</td>\n",
       "      <td>actresses</td>\n",
       "      <td>https://static2.therichestimages.com/wordpress...</td>\n",
       "      <td>Married (Brad Hall)</td>\n",
       "      <td>Holton-Arms School, Northwestern University</td>\n",
       "      <td>$250 Million</td>\n",
       "      <td>Graduate</td>\n",
       "    </tr>\n",
       "    <tr>\n",
       "      <th>4</th>\n",
       "      <td>Sasha Alexander</td>\n",
       "      <td>46.0</td>\n",
       "      <td>United states</td>\n",
       "      <td>actresses</td>\n",
       "      <td>https://static2.therichestimages.com/wordpress...</td>\n",
       "      <td>Married (Edoardo Ponti)</td>\n",
       "      <td>University of Southern California's School of...</td>\n",
       "      <td>$215 Million</td>\n",
       "      <td>Graduate</td>\n",
       "    </tr>\n",
       "  </tbody>\n",
       "</table>\n",
       "</div>"
      ],
      "text/plain": [
       "                         Name   age        country   category  \\\n",
       "0  Mary-Kate and Ashley Olsen  34.0  United states  actresses   \n",
       "1            Jennifer Aniston  52.0  United states  actresses   \n",
       "2               Julia Roberts  53.0  United states  actresses   \n",
       "3         Julia Louis Dreyfus  60.0  United states  actresses   \n",
       "4             Sasha Alexander  46.0  United states  actresses   \n",
       "\n",
       "                                               image  \\\n",
       "0  https://static1.therichestimages.com/wordpress...   \n",
       "1  https://static2.therichestimages.com/wordpress...   \n",
       "2  https://static3.therichestimages.com/wordpress...   \n",
       "3  https://static2.therichestimages.com/wordpress...   \n",
       "4  https://static2.therichestimages.com/wordpress...   \n",
       "\n",
       "             marital_status  \\\n",
       "0                    Single   \n",
       "1  Married (Justin Theroux)   \n",
       "2    Married (Daniel Moder)   \n",
       "3       Married (Brad Hall)   \n",
       "4   Married (Edoardo Ponti)   \n",
       "\n",
       "                                           Education     net_worth  \\\n",
       "0      Campbell Hall School and New York University   $500 Million   \n",
       "1                  Fiorello H. LaGuardia High School  $300 Million   \n",
       "2                      Smyrna's Campbell High School  $250 Million   \n",
       "3        Holton-Arms School, Northwestern University  $250 Million   \n",
       "4   University of Southern California's School of...  $215 Million   \n",
       "\n",
       "        Degree  \n",
       "0     Graduate  \n",
       "1  high school  \n",
       "2  high school  \n",
       "3     Graduate  \n",
       "4     Graduate  "
      ]
     },
     "execution_count": 1420,
     "metadata": {},
     "output_type": "execute_result"
    }
   ],
   "source": [
    "df = pd.read_csv('data/Rich.csv')\n",
    "df.head()"
   ]
  },
  {
   "cell_type": "code",
   "execution_count": 1421,
   "metadata": {},
   "outputs": [
    {
     "name": "stdout",
     "output_type": "stream",
     "text": [
      "<class 'pandas.core.frame.DataFrame'>\n",
      "RangeIndex: 1817 entries, 0 to 1816\n",
      "Data columns (total 9 columns):\n",
      " #   Column          Non-Null Count  Dtype  \n",
      "---  ------          --------------  -----  \n",
      " 0   Name            1817 non-null   object \n",
      " 1   age             1639 non-null   float64\n",
      " 2   country         1462 non-null   object \n",
      " 3   category        1817 non-null   object \n",
      " 4   image           1817 non-null   object \n",
      " 5   marital_status  1635 non-null   object \n",
      " 6   Education       1269 non-null   object \n",
      " 7   net_worth       1817 non-null   object \n",
      " 8   Degree          1273 non-null   object \n",
      "dtypes: float64(1), object(8)\n",
      "memory usage: 127.9+ KB\n"
     ]
    }
   ],
   "source": [
    "df.info()"
   ]
  },
  {
   "cell_type": "code",
   "execution_count": 1422,
   "metadata": {},
   "outputs": [],
   "source": [
    "df.shape\n",
    "old_row = df.shape[0]"
   ]
  },
  {
   "cell_type": "code",
   "execution_count": 1423,
   "metadata": {},
   "outputs": [
    {
     "data": {
      "text/plain": [
       "Name                0\n",
       "age               178\n",
       "country           355\n",
       "category            0\n",
       "image               0\n",
       "marital_status    182\n",
       "Education         548\n",
       "net_worth           0\n",
       "Degree            544\n",
       "dtype: int64"
      ]
     },
     "execution_count": 1423,
     "metadata": {},
     "output_type": "execute_result"
    }
   ],
   "source": [
    "df.isnull().sum()"
   ]
  },
  {
   "cell_type": "code",
   "execution_count": 1424,
   "metadata": {},
   "outputs": [
    {
     "data": {
      "text/html": [
       "<div>\n",
       "<style scoped>\n",
       "    .dataframe tbody tr th:only-of-type {\n",
       "        vertical-align: middle;\n",
       "    }\n",
       "\n",
       "    .dataframe tbody tr th {\n",
       "        vertical-align: top;\n",
       "    }\n",
       "\n",
       "    .dataframe thead th {\n",
       "        text-align: right;\n",
       "    }\n",
       "</style>\n",
       "<table border=\"1\" class=\"dataframe\">\n",
       "  <thead>\n",
       "    <tr style=\"text-align: right;\">\n",
       "      <th></th>\n",
       "      <th>age</th>\n",
       "    </tr>\n",
       "  </thead>\n",
       "  <tbody>\n",
       "    <tr>\n",
       "      <th>count</th>\n",
       "      <td>1639.000000</td>\n",
       "    </tr>\n",
       "    <tr>\n",
       "      <th>mean</th>\n",
       "      <td>55.837706</td>\n",
       "    </tr>\n",
       "    <tr>\n",
       "      <th>std</th>\n",
       "      <td>46.716776</td>\n",
       "    </tr>\n",
       "    <tr>\n",
       "      <th>min</th>\n",
       "      <td>23.000000</td>\n",
       "    </tr>\n",
       "    <tr>\n",
       "      <th>25%</th>\n",
       "      <td>41.000000</td>\n",
       "    </tr>\n",
       "    <tr>\n",
       "      <th>50%</th>\n",
       "      <td>53.000000</td>\n",
       "    </tr>\n",
       "    <tr>\n",
       "      <th>75%</th>\n",
       "      <td>67.000000</td>\n",
       "    </tr>\n",
       "    <tr>\n",
       "      <th>max</th>\n",
       "      <td>1824.000000</td>\n",
       "    </tr>\n",
       "  </tbody>\n",
       "</table>\n",
       "</div>"
      ],
      "text/plain": [
       "               age\n",
       "count  1639.000000\n",
       "mean     55.837706\n",
       "std      46.716776\n",
       "min      23.000000\n",
       "25%      41.000000\n",
       "50%      53.000000\n",
       "75%      67.000000\n",
       "max    1824.000000"
      ]
     },
     "execution_count": 1424,
     "metadata": {},
     "output_type": "execute_result"
    }
   ],
   "source": [
    "df.describe()"
   ]
  },
  {
   "cell_type": "code",
   "execution_count": 1425,
   "metadata": {},
   "outputs": [
    {
     "data": {
      "text/plain": [
       "753     1824.0\n",
       "862      174.0\n",
       "440      114.0\n",
       "1735     108.0\n",
       "91       104.0\n",
       "         ...  \n",
       "134       83.0\n",
       "136       83.0\n",
       "452       83.0\n",
       "138       83.0\n",
       "185       82.0\n",
       "Name: age, Length: 100, dtype: float64"
      ]
     },
     "execution_count": 1425,
     "metadata": {},
     "output_type": "execute_result"
    }
   ],
   "source": [
    "df.age.sort_values(ascending=False).head(100)"
   ]
  },
  {
   "cell_type": "code",
   "execution_count": 1426,
   "metadata": {},
   "outputs": [
    {
     "data": {
      "image/png": "[encoded data removed]",
      "text/plain": [
       "<Figure size 432x288 with 1 Axes>"
      ]
     },
     "metadata": {
      "needs_background": "light"
     },
     "output_type": "display_data"
    }
   ],
   "source": [
    "sns.histplot(df.age);"
   ]
  },
  {
   "cell_type": "code",
   "execution_count": 1427,
   "metadata": {},
   "outputs": [
    {
     "data": {
      "application/vnd.plotly.v1+json": {
       "config": {
        "plotlyServerURL": "https://plot.ly"
       },
       "data": [
        {
         "alignmentgroup": "True",
         "hovertemplate": "age=%{x}<extra></extra>",
         "legendgroup": "",
         "marker": {
          "color": "#636efa"
         },
         "name": "",
         "notched": false,
         "offsetgroup": "",
         "orientation": "h",
         "showlegend": false,
         "type": "box",
         "x": [
          34,
          52,
          53,
          60,
          46,
          71,
          61,
          77,
          39,
          58,
          48,
          27,
          45,
          58,
          36,
          44,
          68,
          36,
          30,
          46,
          56,
          67,
          83,
          53,
          44,
          59,
          48,
          45,
          56,
          54,
          62,
          67,
          45,
          75,
          64,
          50,
          56,
          95,
          64,
          70,
          54,
          31,
          37,
          89,
          56,
          55,
          66,
          63,
          55,
          31,
          57,
          72,
          57,
          35,
          74,
          46,
          39,
          35,
          59,
          60,
          74,
          75,
          64,
          44,
          71,
          57,
          56,
          36,
          27,
          62,
          67,
          56,
          74,
          78,
          50,
          78,
          26,
          51,
          65,
          59,
          71,
          51,
          50,
          50,
          56,
          59,
          38,
          63,
          44,
          50,
          48,
          104,
          67,
          88,
          58,
          57,
          65,
          41,
          67,
          83,
          95,
          55,
          58,
          59,
          77,
          65,
          52,
          54,
          83,
          74,
          67,
          90,
          49,
          64,
          76,
          73,
          56,
          47,
          45,
          46,
          57,
          55,
          78,
          50,
          67,
          72,
          48,
          72,
          53,
          57,
          66,
          47,
          66,
          57,
          83,
          65,
          83,
          59,
          83,
          60,
          76,
          80,
          58,
          50,
          43,
          48,
          37,
          66,
          55,
          66,
          null,
          55,
          55,
          75,
          68,
          31,
          59,
          70,
          63,
          null,
          46,
          90,
          52,
          34,
          66,
          28,
          48,
          68,
          74,
          60,
          48,
          67,
          40,
          55,
          83,
          60,
          51,
          80,
          45,
          50,
          88,
          68,
          51,
          71,
          85,
          82,
          79,
          70,
          38,
          76,
          70,
          50,
          91,
          85,
          59,
          39,
          53,
          59,
          63,
          98,
          45,
          46,
          40,
          41,
          41,
          40,
          37,
          57,
          48,
          41,
          48,
          48,
          51,
          36,
          37,
          51,
          37,
          51,
          37,
          56,
          55,
          43,
          50,
          38,
          53,
          41,
          48,
          42,
          47,
          46,
          53,
          28,
          52,
          35,
          45,
          48,
          50,
          47,
          42,
          58,
          45,
          42,
          46,
          79,
          72,
          37,
          39,
          41,
          45,
          42,
          53,
          49,
          53,
          57,
          36,
          45,
          38,
          38,
          59,
          56,
          41,
          35,
          35,
          36,
          37,
          36,
          43,
          40,
          39,
          42,
          40,
          55,
          38,
          36,
          48,
          52,
          46,
          55,
          53,
          47,
          43,
          46,
          45,
          79,
          44,
          53,
          32,
          37,
          45,
          33,
          36,
          55,
          35,
          42,
          38,
          38,
          36,
          37,
          37,
          39,
          58,
          61,
          67,
          26,
          36,
          49,
          42,
          58,
          44,
          47,
          44,
          31,
          42,
          46,
          39,
          52,
          31,
          38,
          32,
          35,
          39,
          37,
          35,
          47,
          38,
          55,
          55,
          31,
          58,
          36,
          37,
          48,
          31,
          37,
          76,
          41,
          32,
          46,
          54,
          57,
          48,
          51,
          42,
          42,
          43,
          44,
          40,
          34,
          40,
          48,
          40,
          40,
          37,
          42,
          36,
          32,
          42,
          44,
          53,
          42,
          46,
          39,
          34,
          41,
          35,
          36,
          41,
          36,
          38,
          49,
          82,
          34,
          35,
          45,
          40,
          55,
          37,
          50,
          45,
          33,
          38,
          31,
          53,
          59,
          48,
          51,
          64,
          44,
          44,
          33,
          33,
          36,
          41,
          40,
          43,
          37,
          46,
          49,
          43,
          34,
          80,
          null,
          79,
          39,
          57,
          58,
          66,
          59,
          101,
          67,
          null,
          82,
          null,
          null,
          null,
          null,
          null,
          null,
          60,
          null,
          68,
          71,
          null,
          null,
          68,
          77,
          null,
          58,
          89,
          null,
          77,
          59,
          null,
          null,
          null,
          86,
          46,
          78,
          50,
          82,
          114,
          null,
          null,
          null,
          null,
          71,
          null,
          null,
          null,
          58,
          85,
          null,
          83,
          69,
          78,
          null,
          77,
          69,
          48,
          55,
          null,
          null,
          59,
          69,
          null,
          null,
          66,
          null,
          null,
          null,
          null,
          66,
          null,
          null,
          null,
          null,
          null,
          null,
          93,
          59,
          null,
          null,
          60,
          null,
          null,
          81,
          57,
          65,
          72,
          36,
          90,
          48,
          76,
          84,
          81,
          47,
          79,
          null,
          63,
          85,
          76,
          72,
          65,
          95,
          98,
          85,
          49,
          84,
          83,
          87,
          55,
          null,
          92,
          null,
          null,
          null,
          68,
          63,
          93,
          58,
          63,
          90,
          65,
          80,
          null,
          75,
          60,
          64,
          85,
          67,
          70,
          88,
          null,
          68,
          71,
          79,
          null,
          null,
          80,
          91,
          74,
          95,
          80,
          66,
          null,
          64,
          73,
          49,
          54,
          81,
          66,
          65,
          65,
          null,
          75,
          70,
          62,
          49,
          58,
          44,
          84,
          76,
          56,
          73,
          55,
          69,
          58,
          78,
          29,
          null,
          55,
          81,
          95,
          52,
          null,
          56,
          71,
          85,
          null,
          49,
          85,
          72,
          72,
          96,
          55,
          68,
          56,
          65,
          null,
          43,
          50,
          48,
          null,
          null,
          58,
          58,
          43,
          72,
          null,
          72,
          81,
          null,
          57,
          null,
          76,
          null,
          64,
          68,
          null,
          null,
          72,
          null,
          null,
          null,
          null,
          58,
          null,
          79,
          null,
          63,
          90,
          null,
          null,
          81,
          null,
          null,
          70,
          60,
          null,
          61,
          48,
          null,
          84,
          56,
          69,
          87,
          44,
          93,
          75,
          null,
          null,
          null,
          null,
          74,
          67,
          64,
          73,
          71,
          79,
          62,
          45,
          null,
          85,
          null,
          76,
          null,
          null,
          null,
          null,
          49,
          null,
          null,
          73,
          57,
          60,
          null,
          null,
          74,
          null,
          null,
          null,
          null,
          64,
          68,
          60,
          85,
          59,
          null,
          65,
          66,
          72,
          67,
          83,
          70,
          50,
          48,
          41,
          47,
          62,
          59,
          86,
          66,
          68,
          48,
          70,
          63,
          63,
          62,
          63,
          56,
          94,
          67,
          55,
          59,
          53,
          56,
          57,
          78,
          58,
          45,
          58,
          73,
          56,
          47,
          56,
          49,
          63,
          52,
          51,
          53,
          59,
          45,
          59,
          46,
          60,
          49,
          63,
          65,
          94,
          95,
          62,
          49,
          58,
          65,
          46,
          87,
          52,
          71,
          56,
          45,
          72,
          77,
          70,
          47,
          60,
          53,
          67,
          51,
          49,
          78,
          59,
          51,
          43,
          1824,
          null,
          81,
          38,
          41,
          58,
          56,
          46,
          76,
          58,
          81,
          47,
          56,
          56,
          91,
          73,
          45,
          null,
          53,
          55,
          53,
          73,
          54,
          48,
          49,
          63,
          56,
          96,
          55,
          76,
          null,
          null,
          null,
          39,
          54,
          null,
          91,
          49,
          null,
          null,
          77,
          71,
          55,
          null,
          76,
          null,
          78,
          49,
          null,
          43,
          63,
          null,
          null,
          72,
          60,
          72,
          38,
          79,
          77,
          null,
          59,
          40,
          null,
          null,
          72,
          null,
          65,
          47,
          73,
          37,
          51,
          null,
          37,
          null,
          null,
          60,
          null,
          null,
          null,
          71,
          59,
          null,
          null,
          47,
          47,
          68,
          null,
          42,
          58,
          52,
          91,
          null,
          34,
          82,
          57,
          48,
          null,
          null,
          98,
          37,
          36,
          null,
          null,
          61,
          74,
          null,
          56,
          null,
          65,
          174,
          54,
          75,
          74,
          59,
          66,
          80,
          68,
          80,
          58,
          56,
          64,
          74,
          52,
          62,
          78,
          56,
          56,
          61,
          88,
          50,
          null,
          48,
          50,
          null,
          70,
          47,
          82,
          54,
          78,
          57,
          73,
          72,
          68,
          64,
          66,
          75,
          68,
          54,
          60,
          88,
          65,
          73,
          49,
          49,
          51,
          null,
          52,
          80,
          68,
          59,
          86,
          63,
          58,
          68,
          null,
          79,
          51,
          64,
          null,
          95,
          73,
          62,
          72,
          81,
          66,
          55,
          48,
          55,
          51,
          50,
          55,
          49,
          68,
          54,
          41,
          50,
          57,
          70,
          48,
          46,
          72,
          57,
          58,
          84,
          60,
          54,
          45,
          50,
          40,
          50,
          37,
          45,
          47,
          49,
          35,
          32,
          40,
          36,
          47,
          42,
          51,
          42,
          39,
          54,
          36,
          41,
          40,
          46,
          35,
          54,
          40,
          47,
          51,
          43,
          59,
          41,
          32,
          40,
          51,
          49,
          39,
          35,
          49,
          37,
          38,
          40,
          44,
          42,
          39,
          49,
          73,
          34,
          46,
          37,
          48,
          51,
          33,
          36,
          34,
          34,
          40,
          43,
          47,
          48,
          46,
          42,
          35,
          35,
          34,
          34,
          35,
          36,
          34,
          32,
          55,
          31,
          32,
          34,
          47,
          37,
          44,
          59,
          36,
          47,
          47,
          35,
          46,
          42,
          44,
          43,
          29,
          40,
          29,
          45,
          28,
          36,
          30,
          38,
          29,
          41,
          39,
          28,
          87,
          30,
          62,
          46,
          58,
          39,
          36,
          80,
          61,
          48,
          40,
          55,
          41,
          36,
          57,
          47,
          67,
          39,
          47,
          47,
          50,
          71,
          56,
          54,
          86,
          50,
          43,
          40,
          38,
          42,
          47,
          39,
          55,
          39,
          25,
          58,
          35,
          47,
          35,
          65,
          44,
          null,
          73,
          32,
          28,
          38,
          41,
          28,
          61,
          64,
          36,
          31,
          71,
          46,
          47,
          42,
          36,
          37,
          55,
          46,
          44,
          27,
          41,
          52,
          44,
          41,
          48,
          37,
          64,
          52,
          47,
          55,
          25,
          57,
          60,
          52,
          53,
          50,
          35,
          33,
          37,
          40,
          24,
          31,
          33,
          55,
          23,
          31,
          46,
          34,
          36,
          34,
          51,
          34,
          37,
          32,
          41,
          47,
          54,
          49,
          57,
          54,
          51,
          78,
          73,
          86,
          51,
          54,
          62,
          68,
          74,
          null,
          73,
          77,
          79,
          71,
          77,
          35,
          80,
          71,
          59,
          68,
          64,
          42,
          77,
          70,
          73,
          76,
          75,
          53,
          76,
          74,
          72,
          87,
          45,
          56,
          93,
          42,
          71,
          73,
          57,
          71,
          70,
          77,
          56,
          92,
          73,
          75,
          68,
          58,
          69,
          52,
          74,
          89,
          81,
          67,
          77,
          48,
          71,
          62,
          80,
          75,
          56,
          53,
          70,
          50,
          86,
          75,
          72,
          77,
          43,
          43,
          42,
          36,
          75,
          46,
          71,
          55,
          71,
          41,
          51,
          70,
          54,
          48,
          56,
          77,
          61,
          42,
          49,
          62,
          45,
          72,
          65,
          66,
          53,
          71,
          57,
          49,
          33,
          48,
          75,
          64,
          79,
          85,
          45,
          43,
          42,
          41,
          51,
          40,
          35,
          64,
          39,
          34,
          40,
          38,
          36,
          44,
          32,
          41,
          33,
          37,
          50,
          37,
          36,
          38,
          58,
          34,
          38,
          34,
          37,
          85,
          51,
          null,
          49,
          41,
          35,
          35,
          49,
          38,
          40,
          37,
          31,
          49,
          45,
          37,
          46,
          30,
          31,
          31,
          60,
          36,
          37,
          31,
          42,
          53,
          38,
          33,
          59,
          48,
          29,
          40,
          33,
          40,
          59,
          44,
          35,
          37,
          37,
          31,
          38,
          37,
          34,
          34,
          41,
          64,
          34,
          39,
          35,
          36,
          34,
          41,
          34,
          30,
          41,
          35,
          37,
          37,
          35,
          36,
          38,
          37,
          35,
          35,
          44,
          43,
          39,
          39,
          38,
          32,
          41,
          81,
          75,
          76,
          null,
          69,
          74,
          45,
          70,
          77,
          77,
          85,
          72,
          54,
          56,
          68,
          60,
          74,
          61,
          68,
          61,
          60,
          68,
          51,
          null,
          50,
          75,
          null,
          59,
          54,
          50,
          63,
          56,
          85,
          71,
          67,
          61,
          75,
          null,
          null,
          51,
          67,
          51,
          73,
          67,
          52,
          54,
          59,
          54,
          58,
          55,
          null,
          61,
          71,
          81,
          89,
          54,
          45,
          64,
          74,
          52,
          69,
          62,
          78,
          58,
          56,
          74,
          48,
          72,
          63,
          57,
          null,
          43,
          67,
          42,
          65,
          63,
          43,
          58,
          45,
          68,
          null,
          50,
          43,
          62,
          54,
          null,
          null,
          92,
          98,
          42,
          null,
          72,
          65,
          37,
          58,
          51,
          43,
          51,
          51,
          51,
          54,
          63,
          53,
          42,
          34,
          52,
          46,
          37,
          48,
          50,
          52,
          53,
          48,
          48,
          47,
          54,
          53,
          46,
          36,
          55,
          48,
          42,
          45,
          45,
          33,
          40,
          45,
          55,
          28,
          55,
          44,
          46,
          63,
          49,
          35,
          43,
          28,
          41,
          30,
          45,
          40,
          50,
          44,
          46,
          48,
          33,
          53,
          53,
          42,
          null,
          43,
          44,
          37,
          53,
          53,
          50,
          40,
          46,
          38,
          51,
          48,
          47,
          50,
          49,
          43,
          null,
          36,
          39,
          55,
          null,
          48,
          62,
          51,
          75,
          63,
          46,
          39,
          84,
          51,
          53,
          78,
          59,
          79,
          55,
          71,
          36,
          68,
          35,
          74,
          25,
          77,
          null,
          30,
          77,
          55,
          null,
          75,
          80,
          53,
          59,
          33,
          53,
          38,
          74,
          44,
          null,
          73,
          80,
          93,
          71,
          47,
          39,
          42,
          42,
          54,
          60,
          null,
          27,
          39,
          44,
          35,
          48,
          69,
          46,
          40,
          59,
          55,
          59,
          32,
          40,
          68,
          77,
          74,
          30,
          40,
          70,
          44,
          78,
          81,
          38,
          null,
          64,
          84,
          73,
          44,
          84,
          53,
          78,
          63,
          47,
          52,
          67,
          52,
          77,
          66,
          77,
          70,
          61,
          50,
          74,
          76,
          48,
          51,
          48,
          79,
          71,
          65,
          89,
          56,
          64,
          48,
          45,
          36,
          33,
          84,
          29,
          35,
          30,
          43,
          58,
          80,
          36,
          29,
          38,
          40,
          30,
          43,
          39,
          41,
          36,
          35,
          36,
          31,
          42,
          47,
          32,
          34,
          48,
          35,
          37,
          31,
          32,
          36,
          31,
          47,
          37,
          40,
          43,
          38,
          43,
          35,
          46,
          40,
          50,
          42,
          41,
          39,
          47,
          31,
          41,
          40,
          39,
          34,
          46,
          42,
          39,
          47,
          37,
          24,
          49,
          31,
          33,
          37,
          34,
          34,
          36,
          40,
          38,
          30,
          27,
          60,
          40,
          38,
          39,
          43,
          36,
          27,
          44,
          44,
          31,
          40,
          60,
          38,
          33,
          36,
          28,
          42,
          39,
          47,
          43,
          31,
          46,
          43,
          37,
          41,
          44,
          37,
          33,
          57,
          28,
          35,
          90,
          40,
          61,
          74,
          45,
          70,
          46,
          63,
          62,
          52,
          68,
          null,
          null,
          91,
          87,
          null,
          71,
          51,
          108,
          71,
          58,
          59,
          80,
          59,
          52,
          81,
          56,
          60,
          64,
          70,
          63,
          67,
          65,
          60,
          64,
          60,
          null,
          null,
          52,
          61,
          null,
          null,
          45,
          69,
          54,
          null,
          75,
          45,
          71,
          59,
          36,
          57,
          79,
          57,
          null,
          40,
          60,
          52,
          null,
          57,
          58,
          null,
          60,
          74,
          60,
          null,
          46,
          83,
          50,
          51,
          39,
          null,
          54,
          89,
          36,
          null,
          null,
          null,
          56,
          77,
          50,
          null,
          null,
          81,
          25,
          61,
          64,
          44,
          53,
          65,
          65,
          76,
          53,
          57,
          74,
          80,
          79,
          null,
          52,
          86
         ],
         "x0": " ",
         "xaxis": "x",
         "y0": " ",
         "yaxis": "y"
        }
       ],
       "layout": {
        "boxmode": "group",
        "legend": {
         "tracegroupgap": 0
        },
        "margin": {
         "t": 60
        },
        "template": {
         "data": {
          "bar": [
           {
            "error_x": {
             "color": "#2a3f5f"
            },
            "error_y": {
             "color": "#2a3f5f"
            },
            "marker": {
             "line": {
              "color": "#E5ECF6",
              "width": 0.5
             },
             "pattern": {
              "fillmode": "overlay",
              "size": 10,
              "solidity": 0.2
             }
            },
            "type": "bar"
           }
          ],
          "barpolar": [
           {
            "marker": {
             "line": {
              "color": "#E5ECF6",
              "width": 0.5
             },
             "pattern": {
              "fillmode": "overlay",
              "size": 10,
              "solidity": 0.2
             }
            },
            "type": "barpolar"
           }
          ],
          "carpet": [
           {
            "aaxis": {
             "endlinecolor": "#2a3f5f",
             "gridcolor": "white",
             "linecolor": "white",
             "minorgridcolor": "white",
             "startlinecolor": "#2a3f5f"
            },
            "baxis": {
             "endlinecolor": "#2a3f5f",
             "gridcolor": "white",
             "linecolor": "white",
             "minorgridcolor": "white",
             "startlinecolor": "#2a3f5f"
            },
            "type": "carpet"
           }
          ],
          "choropleth": [
           {
            "colorbar": {
             "outlinewidth": 0,
             "ticks": ""
            },
            "type": "choropleth"
           }
          ],
          "contour": [
           {
            "colorbar": {
             "outlinewidth": 0,
             "ticks": ""
            },
            "colorscale": [
             [
              0,
              "#0d0887"
             ],
             [
              0.1111111111111111,
              "#46039f"
             ],
             [
              0.2222222222222222,
              "#7201a8"
             ],
             [
              0.3333333333333333,
              "#9c179e"
             ],
             [
              0.4444444444444444,
              "#bd3786"
             ],
             [
              0.5555555555555556,
              "#d8576b"
             ],
             [
              0.6666666666666666,
              "#ed7953"
             ],
             [
              0.7777777777777778,
              "#fb9f3a"
             ],
             [
              0.8888888888888888,
              "#fdca26"
             ],
             [
              1,
              "#f0f921"
             ]
            ],
            "type": "contour"
           }
          ],
          "contourcarpet": [
           {
            "colorbar": {
             "outlinewidth": 0,
             "ticks": ""
            },
            "type": "contourcarpet"
           }
          ],
          "heatmap": [
           {
            "colorbar": {
             "outlinewidth": 0,
             "ticks": ""
            },
            "colorscale": [
             [
              0,
              "#0d0887"
             ],
             [
              0.1111111111111111,
              "#46039f"
             ],
             [
              0.2222222222222222,
              "#7201a8"
             ],
             [
              0.3333333333333333,
              "#9c179e"
             ],
             [
              0.4444444444444444,
              "#bd3786"
             ],
             [
              0.5555555555555556,
              "#d8576b"
             ],
             [
              0.6666666666666666,
              "#ed7953"
             ],
             [
              0.7777777777777778,
              "#fb9f3a"
             ],
             [
              0.8888888888888888,
              "#fdca26"
             ],
             [
              1,
              "#f0f921"
             ]
            ],
            "type": "heatmap"
           }
          ],
          "heatmapgl": [
           {
            "colorbar": {
             "outlinewidth": 0,
             "ticks": ""
            },
            "colorscale": [
             [
              0,
              "#0d0887"
             ],
             [
              0.1111111111111111,
              "#46039f"
             ],
             [
              0.2222222222222222,
              "#7201a8"
             ],
             [
              0.3333333333333333,
              "#9c179e"
             ],
             [
              0.4444444444444444,
              "#bd3786"
             ],
             [
              0.5555555555555556,
              "#d8576b"
             ],
             [
              0.6666666666666666,
              "#ed7953"
             ],
             [
              0.7777777777777778,
              "#fb9f3a"
             ],
             [
              0.8888888888888888,
              "#fdca26"
             ],
             [
              1,
              "#f0f921"
             ]
            ],
            "type": "heatmapgl"
           }
          ],
          "histogram": [
           {
            "marker": {
             "pattern": {
              "fillmode": "overlay",
              "size": 10,
              "solidity": 0.2
             }
            },
            "type": "histogram"
           }
          ],
          "histogram2d": [
           {
            "colorbar": {
             "outlinewidth": 0,
             "ticks": ""
            },
            "colorscale": [
             [
              0,
              "#0d0887"
             ],
             [
              0.1111111111111111,
              "#46039f"
             ],
             [
              0.2222222222222222,
              "#7201a8"
             ],
             [
              0.3333333333333333,
              "#9c179e"
             ],
             [
              0.4444444444444444,
              "#bd3786"
             ],
             [
              0.5555555555555556,
              "#d8576b"
             ],
             [
              0.6666666666666666,
              "#ed7953"
             ],
             [
              0.7777777777777778,
              "#fb9f3a"
             ],
             [
              0.8888888888888888,
              "#fdca26"
             ],
             [
              1,
              "#f0f921"
             ]
            ],
            "type": "histogram2d"
           }
          ],
          "histogram2dcontour": [
           {
            "colorbar": {
             "outlinewidth": 0,
             "ticks": ""
            },
            "colorscale": [
             [
              0,
              "#0d0887"
             ],
             [
              0.1111111111111111,
              "#46039f"
             ],
             [
              0.2222222222222222,
              "#7201a8"
             ],
             [
              0.3333333333333333,
              "#9c179e"
             ],
             [
              0.4444444444444444,
              "#bd3786"
             ],
             [
              0.5555555555555556,
              "#d8576b"
             ],
             [
              0.6666666666666666,
              "#ed7953"
             ],
             [
              0.7777777777777778,
              "#fb9f3a"
             ],
             [
              0.8888888888888888,
              "#fdca26"
             ],
             [
              1,
              "#f0f921"
             ]
            ],
            "type": "histogram2dcontour"
           }
          ],
          "mesh3d": [
           {
            "colorbar": {
             "outlinewidth": 0,
             "ticks": ""
            },
            "type": "mesh3d"
           }
          ],
          "parcoords": [
           {
            "line": {
             "colorbar": {
              "outlinewidth": 0,
              "ticks": ""
             }
            },
            "type": "parcoords"
           }
          ],
          "pie": [
           {
            "automargin": true,
            "type": "pie"
           }
          ],
          "scatter": [
           {
            "fillpattern": {
             "fillmode": "overlay",
             "size": 10,
             "solidity": 0.2
            },
            "type": "scatter"
           }
          ],
          "scatter3d": [
           {
            "line": {
             "colorbar": {
              "outlinewidth": 0,
              "ticks": ""
             }
            },
            "marker": {
             "colorbar": {
              "outlinewidth": 0,
              "ticks": ""
             }
            },
            "type": "scatter3d"
           }
          ],
          "scattercarpet": [
           {
            "marker": {
             "colorbar": {
              "outlinewidth": 0,
              "ticks": ""
             }
            },
            "type": "scattercarpet"
           }
          ],
          "scattergeo": [
           {
            "marker": {
             "colorbar": {
              "outlinewidth": 0,
              "ticks": ""
             }
            },
            "type": "scattergeo"
           }
          ],
          "scattergl": [
           {
            "marker": {
             "colorbar": {
              "outlinewidth": 0,
              "ticks": ""
             }
            },
            "type": "scattergl"
           }
          ],
          "scattermapbox": [
           {
            "marker": {
             "colorbar": {
              "outlinewidth": 0,
              "ticks": ""
             }
            },
            "type": "scattermapbox"
           }
          ],
          "scatterpolar": [
           {
            "marker": {
             "colorbar": {
              "outlinewidth": 0,
              "ticks": ""
             }
            },
            "type": "scatterpolar"
           }
          ],
          "scatterpolargl": [
           {
            "marker": {
             "colorbar": {
              "outlinewidth": 0,
              "ticks": ""
             }
            },
            "type": "scatterpolargl"
           }
          ],
          "scatterternary": [
           {
            "marker": {
             "colorbar": {
              "outlinewidth": 0,
              "ticks": ""
             }
            },
            "type": "scatterternary"
           }
          ],
          "surface": [
           {
            "colorbar": {
             "outlinewidth": 0,
             "ticks": ""
            },
            "colorscale": [
             [
              0,
              "#0d0887"
             ],
             [
              0.1111111111111111,
              "#46039f"
             ],
             [
              0.2222222222222222,
              "#7201a8"
             ],
             [
              0.3333333333333333,
              "#9c179e"
             ],
             [
              0.4444444444444444,
              "#bd3786"
             ],
             [
              0.5555555555555556,
              "#d8576b"
             ],
             [
              0.6666666666666666,
              "#ed7953"
             ],
             [
              0.7777777777777778,
              "#fb9f3a"
             ],
             [
              0.8888888888888888,
              "#fdca26"
             ],
             [
              1,
              "#f0f921"
             ]
            ],
            "type": "surface"
           }
          ],
          "table": [
           {
            "cells": {
             "fill": {
              "color": "#EBF0F8"
             },
             "line": {
              "color": "white"
             }
            },
            "header": {
             "fill": {
              "color": "#C8D4E3"
             },
             "line": {
              "color": "white"
             }
            },
            "type": "table"
           }
          ]
         },
         "layout": {
          "annotationdefaults": {
           "arrowcolor": "#2a3f5f",
           "arrowhead": 0,
           "arrowwidth": 1
          },
          "autotypenumbers": "strict",
          "coloraxis": {
           "colorbar": {
            "outlinewidth": 0,
            "ticks": ""
           }
          },
          "colorscale": {
           "diverging": [
            [
             0,
             "#8e0152"
            ],
            [
             0.1,
             "#c51b7d"
            ],
            [
             0.2,
             "#de77ae"
            ],
            [
             0.3,
             "#f1b6da"
            ],
            [
             0.4,
             "#fde0ef"
            ],
            [
             0.5,
             "#f7f7f7"
            ],
            [
             0.6,
             "#e6f5d0"
            ],
            [
             0.7,
             "#b8e186"
            ],
            [
             0.8,
             "#7fbc41"
            ],
            [
             0.9,
             "#4d9221"
            ],
            [
             1,
             "#276419"
            ]
           ],
           "sequential": [
            [
             0,
             "#0d0887"
            ],
            [
             0.1111111111111111,
             "#46039f"
            ],
            [
             0.2222222222222222,
             "#7201a8"
            ],
            [
             0.3333333333333333,
             "#9c179e"
            ],
            [
             0.4444444444444444,
             "#bd3786"
            ],
            [
             0.5555555555555556,
             "#d8576b"
            ],
            [
             0.6666666666666666,
             "#ed7953"
            ],
            [
             0.7777777777777778,
             "#fb9f3a"
            ],
            [
             0.8888888888888888,
             "#fdca26"
            ],
            [
             1,
             "#f0f921"
            ]
           ],
           "sequentialminus": [
            [
             0,
             "#0d0887"
            ],
            [
             0.1111111111111111,
             "#46039f"
            ],
            [
             0.2222222222222222,
             "#7201a8"
            ],
            [
             0.3333333333333333,
             "#9c179e"
            ],
            [
             0.4444444444444444,
             "#bd3786"
            ],
            [
             0.5555555555555556,
             "#d8576b"
            ],
            [
             0.6666666666666666,
             "#ed7953"
            ],
            [
             0.7777777777777778,
             "#fb9f3a"
            ],
            [
             0.8888888888888888,
             "#fdca26"
            ],
            [
             1,
             "#f0f921"
            ]
           ]
          },
          "colorway": [
           "#636efa",
           "#EF553B",
           "#00cc96",
           "#ab63fa",
           "#FFA15A",
           "#19d3f3",
           "#FF6692",
           "#B6E880",
           "#FF97FF",
           "#FECB52"
          ],
          "font": {
           "color": "#2a3f5f"
          },
          "geo": {
           "bgcolor": "white",
           "lakecolor": "white",
           "landcolor": "#E5ECF6",
           "showlakes": true,
           "showland": true,
           "subunitcolor": "white"
          },
          "hoverlabel": {
           "align": "left"
          },
          "hovermode": "closest",
          "mapbox": {
           "style": "light"
          },
          "paper_bgcolor": "white",
          "plot_bgcolor": "#E5ECF6",
          "polar": {
           "angularaxis": {
            "gridcolor": "white",
            "linecolor": "white",
            "ticks": ""
           },
           "bgcolor": "#E5ECF6",
           "radialaxis": {
            "gridcolor": "white",
            "linecolor": "white",
            "ticks": ""
           }
          },
          "scene": {
           "xaxis": {
            "backgroundcolor": "#E5ECF6",
            "gridcolor": "white",
            "gridwidth": 2,
            "linecolor": "white",
            "showbackground": true,
            "ticks": "",
            "zerolinecolor": "white"
           },
           "yaxis": {
            "backgroundcolor": "#E5ECF6",
            "gridcolor": "white",
            "gridwidth": 2,
            "linecolor": "white",
            "showbackground": true,
            "ticks": "",
            "zerolinecolor": "white"
           },
           "zaxis": {
            "backgroundcolor": "#E5ECF6",
            "gridcolor": "white",
            "gridwidth": 2,
            "linecolor": "white",
            "showbackground": true,
            "ticks": "",
            "zerolinecolor": "white"
           }
          },
          "shapedefaults": {
           "line": {
            "color": "#2a3f5f"
           }
          },
          "ternary": {
           "aaxis": {
            "gridcolor": "white",
            "linecolor": "white",
            "ticks": ""
           },
           "baxis": {
            "gridcolor": "white",
            "linecolor": "white",
            "ticks": ""
           },
           "bgcolor": "#E5ECF6",
           "caxis": {
            "gridcolor": "white",
            "linecolor": "white",
            "ticks": ""
           }
          },
          "title": {
           "x": 0.05
          },
          "xaxis": {
           "automargin": true,
           "gridcolor": "white",
           "linecolor": "white",
           "ticks": "",
           "title": {
            "standoff": 15
           },
           "zerolinecolor": "white",
           "zerolinewidth": 2
          },
          "yaxis": {
           "automargin": true,
           "gridcolor": "white",
           "linecolor": "white",
           "ticks": "",
           "title": {
            "standoff": 15
           },
           "zerolinecolor": "white",
           "zerolinewidth": 2
          }
         }
        },
        "xaxis": {
         "anchor": "y",
         "domain": [
          0,
          1
         ],
         "title": {
          "text": "age"
         }
        },
        "yaxis": {
         "anchor": "x",
         "domain": [
          0,
          1
         ]
        }
       }
      }
     },
     "metadata": {},
     "output_type": "display_data"
    }
   ],
   "source": [
    "fig = px.box(df, x = 'age')\n",
    "fig.show()"
   ]
  },
  {
   "cell_type": "code",
   "execution_count": 1428,
   "metadata": {},
   "outputs": [
    {
     "data": {
      "text/plain": [
       "Name                0\n",
       "age               178\n",
       "country           355\n",
       "category            0\n",
       "image               0\n",
       "marital_status    182\n",
       "Education         548\n",
       "net_worth           0\n",
       "Degree            544\n",
       "dtype: int64"
      ]
     },
     "execution_count": 1428,
     "metadata": {},
     "output_type": "execute_result"
    }
   ],
   "source": [
    "df.isnull().sum()"
   ]
  },
  {
   "cell_type": "code",
   "execution_count": 1429,
   "metadata": {},
   "outputs": [
    {
     "data": {
      "text/html": [
       "<div>\n",
       "<style scoped>\n",
       "    .dataframe tbody tr th:only-of-type {\n",
       "        vertical-align: middle;\n",
       "    }\n",
       "\n",
       "    .dataframe tbody tr th {\n",
       "        vertical-align: top;\n",
       "    }\n",
       "\n",
       "    .dataframe thead th {\n",
       "        text-align: right;\n",
       "    }\n",
       "</style>\n",
       "<table border=\"1\" class=\"dataframe\">\n",
       "  <thead>\n",
       "    <tr style=\"text-align: right;\">\n",
       "      <th></th>\n",
       "      <th>Name</th>\n",
       "      <th>age</th>\n",
       "      <th>country</th>\n",
       "      <th>category</th>\n",
       "      <th>image</th>\n",
       "      <th>marital_status</th>\n",
       "      <th>Education</th>\n",
       "      <th>net_worth</th>\n",
       "      <th>Degree</th>\n",
       "    </tr>\n",
       "  </thead>\n",
       "  <tbody>\n",
       "    <tr>\n",
       "      <th>150</th>\n",
       "      <td>Sean Connery</td>\n",
       "      <td>NaN</td>\n",
       "      <td>United kingdom</td>\n",
       "      <td>actors</td>\n",
       "      <td>https://static2.therichestimages.com/wordpress...</td>\n",
       "      <td>Married (Micheline Roquebrune)</td>\n",
       "      <td>NaN</td>\n",
       "      <td>$350 Million</td>\n",
       "      <td>Graduate</td>\n",
       "    </tr>\n",
       "    <tr>\n",
       "      <th>159</th>\n",
       "      <td>Andrew Shue</td>\n",
       "      <td>NaN</td>\n",
       "      <td>NaN</td>\n",
       "      <td>actors</td>\n",
       "      <td>https://static3.therichestimages.com/wordpress...</td>\n",
       "      <td>NaN</td>\n",
       "      <td>NaN</td>\n",
       "      <td>$100 Million</td>\n",
       "      <td>NaN</td>\n",
       "    </tr>\n",
       "    <tr>\n",
       "      <th>401</th>\n",
       "      <td>Maria Franca Fissolo</td>\n",
       "      <td>NaN</td>\n",
       "      <td>Italy</td>\n",
       "      <td>businesswomen</td>\n",
       "      <td>https://static0.therichestimages.com/wordpress...</td>\n",
       "      <td>Widowed (Michele Ferrero)</td>\n",
       "      <td>NaN</td>\n",
       "      <td>$33.4 Billion</td>\n",
       "      <td>NaN</td>\n",
       "    </tr>\n",
       "    <tr>\n",
       "      <th>410</th>\n",
       "      <td>Iris Fontbona</td>\n",
       "      <td>NaN</td>\n",
       "      <td>NaN</td>\n",
       "      <td>businesswomen</td>\n",
       "      <td>https://static1.therichestimages.com/wordpress...</td>\n",
       "      <td>Widowed (Andrónico Luksic Abaroa)</td>\n",
       "      <td>NaN</td>\n",
       "      <td>$16 Billion</td>\n",
       "      <td>NaN</td>\n",
       "    </tr>\n",
       "    <tr>\n",
       "      <th>412</th>\n",
       "      <td>Birgit Rausing</td>\n",
       "      <td>NaN</td>\n",
       "      <td>NaN</td>\n",
       "      <td>businesswomen</td>\n",
       "      <td>https://static2.therichestimages.com/wordpress...</td>\n",
       "      <td>Widowed (Gad Rausing)</td>\n",
       "      <td>NaN</td>\n",
       "      <td>$12.6 Billion</td>\n",
       "      <td>NaN</td>\n",
       "    </tr>\n",
       "    <tr>\n",
       "      <th>...</th>\n",
       "      <td>...</td>\n",
       "      <td>...</td>\n",
       "      <td>...</td>\n",
       "      <td>...</td>\n",
       "      <td>...</td>\n",
       "      <td>...</td>\n",
       "      <td>...</td>\n",
       "      <td>...</td>\n",
       "      <td>...</td>\n",
       "    </tr>\n",
       "    <tr>\n",
       "      <th>1793</th>\n",
       "      <td>Bruce Croxon</td>\n",
       "      <td>NaN</td>\n",
       "      <td>Canada</td>\n",
       "      <td>tv-personalities</td>\n",
       "      <td>https://static1.therichestimages.com/wordpress...</td>\n",
       "      <td>Married</td>\n",
       "      <td>NaN</td>\n",
       "      <td>$20 Million</td>\n",
       "      <td>NaN</td>\n",
       "    </tr>\n",
       "    <tr>\n",
       "      <th>1794</th>\n",
       "      <td>Aviva Drescher</td>\n",
       "      <td>NaN</td>\n",
       "      <td>United states</td>\n",
       "      <td>tv-personalities</td>\n",
       "      <td>https://static0.therichestimages.com/wordpress...</td>\n",
       "      <td>Married (Reid Drescher)</td>\n",
       "      <td>BA/Vassar College, MA/New York University, BNC...</td>\n",
       "      <td>$20 Million</td>\n",
       "      <td>Graduate</td>\n",
       "    </tr>\n",
       "    <tr>\n",
       "      <th>1798</th>\n",
       "      <td>Matt Nordgren</td>\n",
       "      <td>NaN</td>\n",
       "      <td>United states</td>\n",
       "      <td>tv-personalities</td>\n",
       "      <td>https://static2.therichestimages.com/wordpress...</td>\n",
       "      <td>Single</td>\n",
       "      <td>University of Dallas, University of Texas</td>\n",
       "      <td>$20 Million</td>\n",
       "      <td>Graduate</td>\n",
       "    </tr>\n",
       "    <tr>\n",
       "      <th>1799</th>\n",
       "      <td>Star Jones</td>\n",
       "      <td>NaN</td>\n",
       "      <td>NaN</td>\n",
       "      <td>tv-personalities</td>\n",
       "      <td>https://static0.therichestimages.com/wordpress...</td>\n",
       "      <td>NaN</td>\n",
       "      <td>NaN</td>\n",
       "      <td>$18.5 Million</td>\n",
       "      <td>NaN</td>\n",
       "    </tr>\n",
       "    <tr>\n",
       "      <th>1814</th>\n",
       "      <td>Lydia Stirling McLaughlin</td>\n",
       "      <td>NaN</td>\n",
       "      <td>United states</td>\n",
       "      <td>tv-personalities</td>\n",
       "      <td>https://static1.therichestimages.com/wordpress...</td>\n",
       "      <td>Married (Doug McLaughlin)</td>\n",
       "      <td>University of San Diego, La Jolla High</td>\n",
       "      <td>$15 Million</td>\n",
       "      <td>Graduate</td>\n",
       "    </tr>\n",
       "  </tbody>\n",
       "</table>\n",
       "<p>178 rows × 9 columns</p>\n",
       "</div>"
      ],
      "text/plain": [
       "                           Name  age         country          category  \\\n",
       "150                Sean Connery  NaN  United kingdom            actors   \n",
       "159                 Andrew Shue  NaN             NaN            actors   \n",
       "401        Maria Franca Fissolo  NaN           Italy     businesswomen   \n",
       "410               Iris Fontbona  NaN             NaN     businesswomen   \n",
       "412              Birgit Rausing  NaN             NaN     businesswomen   \n",
       "...                         ...  ...             ...               ...   \n",
       "1793               Bruce Croxon  NaN          Canada  tv-personalities   \n",
       "1794             Aviva Drescher  NaN   United states  tv-personalities   \n",
       "1798              Matt Nordgren  NaN   United states  tv-personalities   \n",
       "1799                 Star Jones  NaN             NaN  tv-personalities   \n",
       "1814  Lydia Stirling McLaughlin  NaN   United states  tv-personalities   \n",
       "\n",
       "                                                  image  \\\n",
       "150   https://static2.therichestimages.com/wordpress...   \n",
       "159   https://static3.therichestimages.com/wordpress...   \n",
       "401   https://static0.therichestimages.com/wordpress...   \n",
       "410   https://static1.therichestimages.com/wordpress...   \n",
       "412   https://static2.therichestimages.com/wordpress...   \n",
       "...                                                 ...   \n",
       "1793  https://static1.therichestimages.com/wordpress...   \n",
       "1794  https://static0.therichestimages.com/wordpress...   \n",
       "1798  https://static2.therichestimages.com/wordpress...   \n",
       "1799  https://static0.therichestimages.com/wordpress...   \n",
       "1814  https://static1.therichestimages.com/wordpress...   \n",
       "\n",
       "                         marital_status  \\\n",
       "150      Married (Micheline Roquebrune)   \n",
       "159                                 NaN   \n",
       "401           Widowed (Michele Ferrero)   \n",
       "410   Widowed (Andrónico Luksic Abaroa)   \n",
       "412               Widowed (Gad Rausing)   \n",
       "...                                 ...   \n",
       "1793                            Married   \n",
       "1794            Married (Reid Drescher)   \n",
       "1798                             Single   \n",
       "1799                                NaN   \n",
       "1814          Married (Doug McLaughlin)   \n",
       "\n",
       "                                              Education      net_worth  \\\n",
       "150                                                 NaN   $350 Million   \n",
       "159                                                 NaN   $100 Million   \n",
       "401                                                 NaN  $33.4 Billion   \n",
       "410                                                 NaN    $16 Billion   \n",
       "412                                                 NaN  $12.6 Billion   \n",
       "...                                                 ...            ...   \n",
       "1793                                                NaN    $20 Million   \n",
       "1794  BA/Vassar College, MA/New York University, BNC...    $20 Million   \n",
       "1798          University of Dallas, University of Texas    $20 Million   \n",
       "1799                                                NaN  $18.5 Million   \n",
       "1814            University of San Diego, La Jolla High     $15 Million   \n",
       "\n",
       "        Degree  \n",
       "150   Graduate  \n",
       "159        NaN  \n",
       "401        NaN  \n",
       "410        NaN  \n",
       "412        NaN  \n",
       "...        ...  \n",
       "1793       NaN  \n",
       "1794  Graduate  \n",
       "1798  Graduate  \n",
       "1799       NaN  \n",
       "1814  Graduate  \n",
       "\n",
       "[178 rows x 9 columns]"
      ]
     },
     "execution_count": 1429,
     "metadata": {},
     "output_type": "execute_result"
    }
   ],
   "source": [
    "df[df.age.isnull()]"
   ]
  },
  {
   "cell_type": "code",
   "execution_count": 1430,
   "metadata": {},
   "outputs": [
    {
     "name": "stderr",
     "output_type": "stream",
     "text": [
      "C:\\Users\\Computer\\AppData\\Local\\Packages\\PythonSoftwareFoundation.Python.3.7_qbz5n2kfra8p0\\LocalCache\\local-packages\\Python37\\site-packages\\pandas\\core\\indexing.py:1732: SettingWithCopyWarning:\n",
      "\n",
      "\n",
      "A value is trying to be set on a copy of a slice from a DataFrame\n",
      "\n",
      "See the caveats in the documentation: https://pandas.pydata.org/pandas-docs/stable/user_guide/indexing.html#returning-a-view-versus-a-copy\n",
      "\n"
     ]
    }
   ],
   "source": [
    "median_age = df.age.median()\n",
    "for i in range(len(df)) : \n",
    "    if df.age.iloc[i] > 104 : \n",
    "        df.age.iloc[i] = median_age \n",
    "\n",
    "df.age.fillna(median_age, inplace= True)"
   ]
  },
  {
   "cell_type": "code",
   "execution_count": 1431,
   "metadata": {},
   "outputs": [
    {
     "data": {
      "application/vnd.plotly.v1+json": {
       "config": {
        "plotlyServerURL": "https://plot.ly"
       },
       "data": [
        {
         "alignmentgroup": "True",
         "hovertemplate": "age=%{x}<extra></extra>",
         "legendgroup": "",
         "marker": {
          "color": "#636efa"
         },
         "name": "",
         "notched": false,
         "offsetgroup": "",
         "orientation": "h",
         "showlegend": false,
         "type": "box",
         "x": [
          34,
          52,
          53,
          60,
          46,
          71,
          61,
          77,
          39,
          58,
          48,
          27,
          45,
          58,
          36,
          44,
          68,
          36,
          30,
          46,
          56,
          67,
          83,
          53,
          44,
          59,
          48,
          45,
          56,
          54,
          62,
          67,
          45,
          75,
          64,
          50,
          56,
          95,
          64,
          70,
          54,
          31,
          37,
          89,
          56,
          55,
          66,
          63,
          55,
          31,
          57,
          72,
          57,
          35,
          74,
          46,
          39,
          35,
          59,
          60,
          74,
          75,
          64,
          44,
          71,
          57,
          56,
          36,
          27,
          62,
          67,
          56,
          74,
          78,
          50,
          78,
          26,
          51,
          65,
          59,
          71,
          51,
          50,
          50,
          56,
          59,
          38,
          63,
          44,
          50,
          48,
          104,
          67,
          88,
          58,
          57,
          65,
          41,
          67,
          83,
          95,
          55,
          58,
          59,
          77,
          65,
          52,
          54,
          83,
          74,
          67,
          90,
          49,
          64,
          76,
          73,
          56,
          47,
          45,
          46,
          57,
          55,
          78,
          50,
          67,
          72,
          48,
          72,
          53,
          57,
          66,
          47,
          66,
          57,
          83,
          65,
          83,
          59,
          83,
          60,
          76,
          80,
          58,
          50,
          43,
          48,
          37,
          66,
          55,
          66,
          53,
          55,
          55,
          75,
          68,
          31,
          59,
          70,
          63,
          53,
          46,
          90,
          52,
          34,
          66,
          28,
          48,
          68,
          74,
          60,
          48,
          67,
          40,
          55,
          83,
          60,
          51,
          80,
          45,
          50,
          88,
          68,
          51,
          71,
          85,
          82,
          79,
          70,
          38,
          76,
          70,
          50,
          91,
          85,
          59,
          39,
          53,
          59,
          63,
          98,
          45,
          46,
          40,
          41,
          41,
          40,
          37,
          57,
          48,
          41,
          48,
          48,
          51,
          36,
          37,
          51,
          37,
          51,
          37,
          56,
          55,
          43,
          50,
          38,
          53,
          41,
          48,
          42,
          47,
          46,
          53,
          28,
          52,
          35,
          45,
          48,
          50,
          47,
          42,
          58,
          45,
          42,
          46,
          79,
          72,
          37,
          39,
          41,
          45,
          42,
          53,
          49,
          53,
          57,
          36,
          45,
          38,
          38,
          59,
          56,
          41,
          35,
          35,
          36,
          37,
          36,
          43,
          40,
          39,
          42,
          40,
          55,
          38,
          36,
          48,
          52,
          46,
          55,
          53,
          47,
          43,
          46,
          45,
          79,
          44,
          53,
          32,
          37,
          45,
          33,
          36,
          55,
          35,
          42,
          38,
          38,
          36,
          37,
          37,
          39,
          58,
          61,
          67,
          26,
          36,
          49,
          42,
          58,
          44,
          47,
          44,
          31,
          42,
          46,
          39,
          52,
          31,
          38,
          32,
          35,
          39,
          37,
          35,
          47,
          38,
          55,
          55,
          31,
          58,
          36,
          37,
          48,
          31,
          37,
          76,
          41,
          32,
          46,
          54,
          57,
          48,
          51,
          42,
          42,
          43,
          44,
          40,
          34,
          40,
          48,
          40,
          40,
          37,
          42,
          36,
          32,
          42,
          44,
          53,
          42,
          46,
          39,
          34,
          41,
          35,
          36,
          41,
          36,
          38,
          49,
          82,
          34,
          35,
          45,
          40,
          55,
          37,
          50,
          45,
          33,
          38,
          31,
          53,
          59,
          48,
          51,
          64,
          44,
          44,
          33,
          33,
          36,
          41,
          40,
          43,
          37,
          46,
          49,
          43,
          34,
          80,
          53,
          79,
          39,
          57,
          58,
          66,
          59,
          101,
          67,
          53,
          82,
          53,
          53,
          53,
          53,
          53,
          53,
          60,
          53,
          68,
          71,
          53,
          53,
          68,
          77,
          53,
          58,
          89,
          53,
          77,
          59,
          53,
          53,
          53,
          86,
          46,
          78,
          50,
          82,
          53,
          53,
          53,
          53,
          53,
          71,
          53,
          53,
          53,
          58,
          85,
          53,
          83,
          69,
          78,
          53,
          77,
          69,
          48,
          55,
          53,
          53,
          59,
          69,
          53,
          53,
          66,
          53,
          53,
          53,
          53,
          66,
          53,
          53,
          53,
          53,
          53,
          53,
          93,
          59,
          53,
          53,
          60,
          53,
          53,
          81,
          57,
          65,
          72,
          36,
          90,
          48,
          76,
          84,
          81,
          47,
          79,
          53,
          63,
          85,
          76,
          72,
          65,
          95,
          98,
          85,
          49,
          84,
          83,
          87,
          55,
          53,
          92,
          53,
          53,
          53,
          68,
          63,
          93,
          58,
          63,
          90,
          65,
          80,
          53,
          75,
          60,
          64,
          85,
          67,
          70,
          88,
          53,
          68,
          71,
          79,
          53,
          53,
          80,
          91,
          74,
          95,
          80,
          66,
          53,
          64,
          73,
          49,
          54,
          81,
          66,
          65,
          65,
          53,
          75,
          70,
          62,
          49,
          58,
          44,
          84,
          76,
          56,
          73,
          55,
          69,
          58,
          78,
          29,
          53,
          55,
          81,
          95,
          52,
          53,
          56,
          71,
          85,
          53,
          49,
          85,
          72,
          72,
          96,
          55,
          68,
          56,
          65,
          53,
          43,
          50,
          48,
          53,
          53,
          58,
          58,
          43,
          72,
          53,
          72,
          81,
          53,
          57,
          53,
          76,
          53,
          64,
          68,
          53,
          53,
          72,
          53,
          53,
          53,
          53,
          58,
          53,
          79,
          53,
          63,
          90,
          53,
          53,
          81,
          53,
          53,
          70,
          60,
          53,
          61,
          48,
          53,
          84,
          56,
          69,
          87,
          44,
          93,
          75,
          53,
          53,
          53,
          53,
          74,
          67,
          64,
          73,
          71,
          79,
          62,
          45,
          53,
          85,
          53,
          76,
          53,
          53,
          53,
          53,
          49,
          53,
          53,
          73,
          57,
          60,
          53,
          53,
          74,
          53,
          53,
          53,
          53,
          64,
          68,
          60,
          85,
          59,
          53,
          65,
          66,
          72,
          67,
          83,
          70,
          50,
          48,
          41,
          47,
          62,
          59,
          86,
          66,
          68,
          48,
          70,
          63,
          63,
          62,
          63,
          56,
          94,
          67,
          55,
          59,
          53,
          56,
          57,
          78,
          58,
          45,
          58,
          73,
          56,
          47,
          56,
          49,
          63,
          52,
          51,
          53,
          59,
          45,
          59,
          46,
          60,
          49,
          63,
          65,
          94,
          95,
          62,
          49,
          58,
          65,
          46,
          87,
          52,
          71,
          56,
          45,
          72,
          77,
          70,
          47,
          60,
          53,
          67,
          51,
          49,
          78,
          59,
          51,
          43,
          53,
          53,
          81,
          38,
          41,
          58,
          56,
          46,
          76,
          58,
          81,
          47,
          56,
          56,
          91,
          73,
          45,
          53,
          53,
          55,
          53,
          73,
          54,
          48,
          49,
          63,
          56,
          96,
          55,
          76,
          53,
          53,
          53,
          39,
          54,
          53,
          91,
          49,
          53,
          53,
          77,
          71,
          55,
          53,
          76,
          53,
          78,
          49,
          53,
          43,
          63,
          53,
          53,
          72,
          60,
          72,
          38,
          79,
          77,
          53,
          59,
          40,
          53,
          53,
          72,
          53,
          65,
          47,
          73,
          37,
          51,
          53,
          37,
          53,
          53,
          60,
          53,
          53,
          53,
          71,
          59,
          53,
          53,
          47,
          47,
          68,
          53,
          42,
          58,
          52,
          91,
          53,
          34,
          82,
          57,
          48,
          53,
          53,
          98,
          37,
          36,
          53,
          53,
          61,
          74,
          53,
          56,
          53,
          65,
          53,
          54,
          75,
          74,
          59,
          66,
          80,
          68,
          80,
          58,
          56,
          64,
          74,
          52,
          62,
          78,
          56,
          56,
          61,
          88,
          50,
          53,
          48,
          50,
          53,
          70,
          47,
          82,
          54,
          78,
          57,
          73,
          72,
          68,
          64,
          66,
          75,
          68,
          54,
          60,
          88,
          65,
          73,
          49,
          49,
          51,
          53,
          52,
          80,
          68,
          59,
          86,
          63,
          58,
          68,
          53,
          79,
          51,
          64,
          53,
          95,
          73,
          62,
          72,
          81,
          66,
          55,
          48,
          55,
          51,
          50,
          55,
          49,
          68,
          54,
          41,
          50,
          57,
          70,
          48,
          46,
          72,
          57,
          58,
          84,
          60,
          54,
          45,
          50,
          40,
          50,
          37,
          45,
          47,
          49,
          35,
          32,
          40,
          36,
          47,
          42,
          51,
          42,
          39,
          54,
          36,
          41,
          40,
          46,
          35,
          54,
          40,
          47,
          51,
          43,
          59,
          41,
          32,
          40,
          51,
          49,
          39,
          35,
          49,
          37,
          38,
          40,
          44,
          42,
          39,
          49,
          73,
          34,
          46,
          37,
          48,
          51,
          33,
          36,
          34,
          34,
          40,
          43,
          47,
          48,
          46,
          42,
          35,
          35,
          34,
          34,
          35,
          36,
          34,
          32,
          55,
          31,
          32,
          34,
          47,
          37,
          44,
          59,
          36,
          47,
          47,
          35,
          46,
          42,
          44,
          43,
          29,
          40,
          29,
          45,
          28,
          36,
          30,
          38,
          29,
          41,
          39,
          28,
          87,
          30,
          62,
          46,
          58,
          39,
          36,
          80,
          61,
          48,
          40,
          55,
          41,
          36,
          57,
          47,
          67,
          39,
          47,
          47,
          50,
          71,
          56,
          54,
          86,
          50,
          43,
          40,
          38,
          42,
          47,
          39,
          55,
          39,
          25,
          58,
          35,
          47,
          35,
          65,
          44,
          53,
          73,
          32,
          28,
          38,
          41,
          28,
          61,
          64,
          36,
          31,
          71,
          46,
          47,
          42,
          36,
          37,
          55,
          46,
          44,
          27,
          41,
          52,
          44,
          41,
          48,
          37,
          64,
          52,
          47,
          55,
          25,
          57,
          60,
          52,
          53,
          50,
          35,
          33,
          37,
          40,
          24,
          31,
          33,
          55,
          23,
          31,
          46,
          34,
          36,
          34,
          51,
          34,
          37,
          32,
          41,
          47,
          54,
          49,
          57,
          54,
          51,
          78,
          73,
          86,
          51,
          54,
          62,
          68,
          74,
          53,
          73,
          77,
          79,
          71,
          77,
          35,
          80,
          71,
          59,
          68,
          64,
          42,
          77,
          70,
          73,
          76,
          75,
          53,
          76,
          74,
          72,
          87,
          45,
          56,
          93,
          42,
          71,
          73,
          57,
          71,
          70,
          77,
          56,
          92,
          73,
          75,
          68,
          58,
          69,
          52,
          74,
          89,
          81,
          67,
          77,
          48,
          71,
          62,
          80,
          75,
          56,
          53,
          70,
          50,
          86,
          75,
          72,
          77,
          43,
          43,
          42,
          36,
          75,
          46,
          71,
          55,
          71,
          41,
          51,
          70,
          54,
          48,
          56,
          77,
          61,
          42,
          49,
          62,
          45,
          72,
          65,
          66,
          53,
          71,
          57,
          49,
          33,
          48,
          75,
          64,
          79,
          85,
          45,
          43,
          42,
          41,
          51,
          40,
          35,
          64,
          39,
          34,
          40,
          38,
          36,
          44,
          32,
          41,
          33,
          37,
          50,
          37,
          36,
          38,
          58,
          34,
          38,
          34,
          37,
          85,
          51,
          53,
          49,
          41,
          35,
          35,
          49,
          38,
          40,
          37,
          31,
          49,
          45,
          37,
          46,
          30,
          31,
          31,
          60,
          36,
          37,
          31,
          42,
          53,
          38,
          33,
          59,
          48,
          29,
          40,
          33,
          40,
          59,
          44,
          35,
          37,
          37,
          31,
          38,
          37,
          34,
          34,
          41,
          64,
          34,
          39,
          35,
          36,
          34,
          41,
          34,
          30,
          41,
          35,
          37,
          37,
          35,
          36,
          38,
          37,
          35,
          35,
          44,
          43,
          39,
          39,
          38,
          32,
          41,
          81,
          75,
          76,
          53,
          69,
          74,
          45,
          70,
          77,
          77,
          85,
          72,
          54,
          56,
          68,
          60,
          74,
          61,
          68,
          61,
          60,
          68,
          51,
          53,
          50,
          75,
          53,
          59,
          54,
          50,
          63,
          56,
          85,
          71,
          67,
          61,
          75,
          53,
          53,
          51,
          67,
          51,
          73,
          67,
          52,
          54,
          59,
          54,
          58,
          55,
          53,
          61,
          71,
          81,
          89,
          54,
          45,
          64,
          74,
          52,
          69,
          62,
          78,
          58,
          56,
          74,
          48,
          72,
          63,
          57,
          53,
          43,
          67,
          42,
          65,
          63,
          43,
          58,
          45,
          68,
          53,
          50,
          43,
          62,
          54,
          53,
          53,
          92,
          98,
          42,
          53,
          72,
          65,
          37,
          58,
          51,
          43,
          51,
          51,
          51,
          54,
          63,
          53,
          42,
          34,
          52,
          46,
          37,
          48,
          50,
          52,
          53,
          48,
          48,
          47,
          54,
          53,
          46,
          36,
          55,
          48,
          42,
          45,
          45,
          33,
          40,
          45,
          55,
          28,
          55,
          44,
          46,
          63,
          49,
          35,
          43,
          28,
          41,
          30,
          45,
          40,
          50,
          44,
          46,
          48,
          33,
          53,
          53,
          42,
          53,
          43,
          44,
          37,
          53,
          53,
          50,
          40,
          46,
          38,
          51,
          48,
          47,
          50,
          49,
          43,
          53,
          36,
          39,
          55,
          53,
          48,
          62,
          51,
          75,
          63,
          46,
          39,
          84,
          51,
          53,
          78,
          59,
          79,
          55,
          71,
          36,
          68,
          35,
          74,
          25,
          77,
          53,
          30,
          77,
          55,
          53,
          75,
          80,
          53,
          59,
          33,
          53,
          38,
          74,
          44,
          53,
          73,
          80,
          93,
          71,
          47,
          39,
          42,
          42,
          54,
          60,
          53,
          27,
          39,
          44,
          35,
          48,
          69,
          46,
          40,
          59,
          55,
          59,
          32,
          40,
          68,
          77,
          74,
          30,
          40,
          70,
          44,
          78,
          81,
          38,
          53,
          64,
          84,
          73,
          44,
          84,
          53,
          78,
          63,
          47,
          52,
          67,
          52,
          77,
          66,
          77,
          70,
          61,
          50,
          74,
          76,
          48,
          51,
          48,
          79,
          71,
          65,
          89,
          56,
          64,
          48,
          45,
          36,
          33,
          84,
          29,
          35,
          30,
          43,
          58,
          80,
          36,
          29,
          38,
          40,
          30,
          43,
          39,
          41,
          36,
          35,
          36,
          31,
          42,
          47,
          32,
          34,
          48,
          35,
          37,
          31,
          32,
          36,
          31,
          47,
          37,
          40,
          43,
          38,
          43,
          35,
          46,
          40,
          50,
          42,
          41,
          39,
          47,
          31,
          41,
          40,
          39,
          34,
          46,
          42,
          39,
          47,
          37,
          24,
          49,
          31,
          33,
          37,
          34,
          34,
          36,
          40,
          38,
          30,
          27,
          60,
          40,
          38,
          39,
          43,
          36,
          27,
          44,
          44,
          31,
          40,
          60,
          38,
          33,
          36,
          28,
          42,
          39,
          47,
          43,
          31,
          46,
          43,
          37,
          41,
          44,
          37,
          33,
          57,
          28,
          35,
          90,
          40,
          61,
          74,
          45,
          70,
          46,
          63,
          62,
          52,
          68,
          53,
          53,
          91,
          87,
          53,
          71,
          51,
          53,
          71,
          58,
          59,
          80,
          59,
          52,
          81,
          56,
          60,
          64,
          70,
          63,
          67,
          65,
          60,
          64,
          60,
          53,
          53,
          52,
          61,
          53,
          53,
          45,
          69,
          54,
          53,
          75,
          45,
          71,
          59,
          36,
          57,
          79,
          57,
          53,
          40,
          60,
          52,
          53,
          57,
          58,
          53,
          60,
          74,
          60,
          53,
          46,
          83,
          50,
          51,
          39,
          53,
          54,
          89,
          36,
          53,
          53,
          53,
          56,
          77,
          50,
          53,
          53,
          81,
          25,
          61,
          64,
          44,
          53,
          65,
          65,
          76,
          53,
          57,
          74,
          80,
          79,
          53,
          52,
          86
         ],
         "x0": " ",
         "xaxis": "x",
         "y0": " ",
         "yaxis": "y"
        }
       ],
       "layout": {
        "boxmode": "group",
        "legend": {
         "tracegroupgap": 0
        },
        "margin": {
         "t": 60
        },
        "template": {
         "data": {
          "bar": [
           {
            "error_x": {
             "color": "#2a3f5f"
            },
            "error_y": {
             "color": "#2a3f5f"
            },
            "marker": {
             "line": {
              "color": "#E5ECF6",
              "width": 0.5
             },
             "pattern": {
              "fillmode": "overlay",
              "size": 10,
              "solidity": 0.2
             }
            },
            "type": "bar"
           }
          ],
          "barpolar": [
           {
            "marker": {
             "line": {
              "color": "#E5ECF6",
              "width": 0.5
             },
             "pattern": {
              "fillmode": "overlay",
              "size": 10,
              "solidity": 0.2
             }
            },
            "type": "barpolar"
           }
          ],
          "carpet": [
           {
            "aaxis": {
             "endlinecolor": "#2a3f5f",
             "gridcolor": "white",
             "linecolor": "white",
             "minorgridcolor": "white",
             "startlinecolor": "#2a3f5f"
            },
            "baxis": {
             "endlinecolor": "#2a3f5f",
             "gridcolor": "white",
             "linecolor": "white",
             "minorgridcolor": "white",
             "startlinecolor": "#2a3f5f"
            },
            "type": "carpet"
           }
          ],
          "choropleth": [
           {
            "colorbar": {
             "outlinewidth": 0,
             "ticks": ""
            },
            "type": "choropleth"
           }
          ],
          "contour": [
           {
            "colorbar": {
             "outlinewidth": 0,
             "ticks": ""
            },
            "colorscale": [
             [
              0,
              "#0d0887"
             ],
             [
              0.1111111111111111,
              "#46039f"
             ],
             [
              0.2222222222222222,
              "#7201a8"
             ],
             [
              0.3333333333333333,
              "#9c179e"
             ],
             [
              0.4444444444444444,
              "#bd3786"
             ],
             [
              0.5555555555555556,
              "#d8576b"
             ],
             [
              0.6666666666666666,
              "#ed7953"
             ],
             [
              0.7777777777777778,
              "#fb9f3a"
             ],
             [
              0.8888888888888888,
              "#fdca26"
             ],
             [
              1,
              "#f0f921"
             ]
            ],
            "type": "contour"
           }
          ],
          "contourcarpet": [
           {
            "colorbar": {
             "outlinewidth": 0,
             "ticks": ""
            },
            "type": "contourcarpet"
           }
          ],
          "heatmap": [
           {
            "colorbar": {
             "outlinewidth": 0,
             "ticks": ""
            },
            "colorscale": [
             [
              0,
              "#0d0887"
             ],
             [
              0.1111111111111111,
              "#46039f"
             ],
             [
              0.2222222222222222,
              "#7201a8"
             ],
             [
              0.3333333333333333,
              "#9c179e"
             ],
             [
              0.4444444444444444,
              "#bd3786"
             ],
             [
              0.5555555555555556,
              "#d8576b"
             ],
             [
              0.6666666666666666,
              "#ed7953"
             ],
             [
              0.7777777777777778,
              "#fb9f3a"
             ],
             [
              0.8888888888888888,
              "#fdca26"
             ],
             [
              1,
              "#f0f921"
             ]
            ],
            "type": "heatmap"
           }
          ],
          "heatmapgl": [
           {
            "colorbar": {
             "outlinewidth": 0,
             "ticks": ""
            },
            "colorscale": [
             [
              0,
              "#0d0887"
             ],
             [
              0.1111111111111111,
              "#46039f"
             ],
             [
              0.2222222222222222,
              "#7201a8"
             ],
             [
              0.3333333333333333,
              "#9c179e"
             ],
             [
              0.4444444444444444,
              "#bd3786"
             ],
             [
              0.5555555555555556,
              "#d8576b"
             ],
             [
              0.6666666666666666,
              "#ed7953"
             ],
             [
              0.7777777777777778,
              "#fb9f3a"
             ],
             [
              0.8888888888888888,
              "#fdca26"
             ],
             [
              1,
              "#f0f921"
             ]
            ],
            "type": "heatmapgl"
           }
          ],
          "histogram": [
           {
            "marker": {
             "pattern": {
              "fillmode": "overlay",
              "size": 10,
              "solidity": 0.2
             }
            },
            "type": "histogram"
           }
          ],
          "histogram2d": [
           {
            "colorbar": {
             "outlinewidth": 0,
             "ticks": ""
            },
            "colorscale": [
             [
              0,
              "#0d0887"
             ],
             [
              0.1111111111111111,
              "#46039f"
             ],
             [
              0.2222222222222222,
              "#7201a8"
             ],
             [
              0.3333333333333333,
              "#9c179e"
             ],
             [
              0.4444444444444444,
              "#bd3786"
             ],
             [
              0.5555555555555556,
              "#d8576b"
             ],
             [
              0.6666666666666666,
              "#ed7953"
             ],
             [
              0.7777777777777778,
              "#fb9f3a"
             ],
             [
              0.8888888888888888,
              "#fdca26"
             ],
             [
              1,
              "#f0f921"
             ]
            ],
            "type": "histogram2d"
           }
          ],
          "histogram2dcontour": [
           {
            "colorbar": {
             "outlinewidth": 0,
             "ticks": ""
            },
            "colorscale": [
             [
              0,
              "#0d0887"
             ],
             [
              0.1111111111111111,
              "#46039f"
             ],
             [
              0.2222222222222222,
              "#7201a8"
             ],
             [
              0.3333333333333333,
              "#9c179e"
             ],
             [
              0.4444444444444444,
              "#bd3786"
             ],
             [
              0.5555555555555556,
              "#d8576b"
             ],
             [
              0.6666666666666666,
              "#ed7953"
             ],
             [
              0.7777777777777778,
              "#fb9f3a"
             ],
             [
              0.8888888888888888,
              "#fdca26"
             ],
             [
              1,
              "#f0f921"
             ]
            ],
            "type": "histogram2dcontour"
           }
          ],
          "mesh3d": [
           {
            "colorbar": {
             "outlinewidth": 0,
             "ticks": ""
            },
            "type": "mesh3d"
           }
          ],
          "parcoords": [
           {
            "line": {
             "colorbar": {
              "outlinewidth": 0,
              "ticks": ""
             }
            },
            "type": "parcoords"
           }
          ],
          "pie": [
           {
            "automargin": true,
            "type": "pie"
           }
          ],
          "scatter": [
           {
            "fillpattern": {
             "fillmode": "overlay",
             "size": 10,
             "solidity": 0.2
            },
            "type": "scatter"
           }
          ],
          "scatter3d": [
           {
            "line": {
             "colorbar": {
              "outlinewidth": 0,
              "ticks": ""
             }
            },
            "marker": {
             "colorbar": {
              "outlinewidth": 0,
              "ticks": ""
             }
            },
            "type": "scatter3d"
           }
          ],
          "scattercarpet": [
           {
            "marker": {
             "colorbar": {
              "outlinewidth": 0,
              "ticks": ""
             }
            },
            "type": "scattercarpet"
           }
          ],
          "scattergeo": [
           {
            "marker": {
             "colorbar": {
              "outlinewidth": 0,
              "ticks": ""
             }
            },
            "type": "scattergeo"
           }
          ],
          "scattergl": [
           {
            "marker": {
             "colorbar": {
              "outlinewidth": 0,
              "ticks": ""
             }
            },
            "type": "scattergl"
           }
          ],
          "scattermapbox": [
           {
            "marker": {
             "colorbar": {
              "outlinewidth": 0,
              "ticks": ""
             }
            },
            "type": "scattermapbox"
           }
          ],
          "scatterpolar": [
           {
            "marker": {
             "colorbar": {
              "outlinewidth": 0,
              "ticks": ""
             }
            },
            "type": "scatterpolar"
           }
          ],
          "scatterpolargl": [
           {
            "marker": {
             "colorbar": {
              "outlinewidth": 0,
              "ticks": ""
             }
            },
            "type": "scatterpolargl"
           }
          ],
          "scatterternary": [
           {
            "marker": {
             "colorbar": {
              "outlinewidth": 0,
              "ticks": ""
             }
            },
            "type": "scatterternary"
           }
          ],
          "surface": [
           {
            "colorbar": {
             "outlinewidth": 0,
             "ticks": ""
            },
            "colorscale": [
             [
              0,
              "#0d0887"
             ],
             [
              0.1111111111111111,
              "#46039f"
             ],
             [
              0.2222222222222222,
              "#7201a8"
             ],
             [
              0.3333333333333333,
              "#9c179e"
             ],
             [
              0.4444444444444444,
              "#bd3786"
             ],
             [
              0.5555555555555556,
              "#d8576b"
             ],
             [
              0.6666666666666666,
              "#ed7953"
             ],
             [
              0.7777777777777778,
              "#fb9f3a"
             ],
             [
              0.8888888888888888,
              "#fdca26"
             ],
             [
              1,
              "#f0f921"
             ]
            ],
            "type": "surface"
           }
          ],
          "table": [
           {
            "cells": {
             "fill": {
              "color": "#EBF0F8"
             },
             "line": {
              "color": "white"
             }
            },
            "header": {
             "fill": {
              "color": "#C8D4E3"
             },
             "line": {
              "color": "white"
             }
            },
            "type": "table"
           }
          ]
         },
         "layout": {
          "annotationdefaults": {
           "arrowcolor": "#2a3f5f",
           "arrowhead": 0,
           "arrowwidth": 1
          },
          "autotypenumbers": "strict",
          "coloraxis": {
           "colorbar": {
            "outlinewidth": 0,
            "ticks": ""
           }
          },
          "colorscale": {
           "diverging": [
            [
             0,
             "#8e0152"
            ],
            [
             0.1,
             "#c51b7d"
            ],
            [
             0.2,
             "#de77ae"
            ],
            [
             0.3,
             "#f1b6da"
            ],
            [
             0.4,
             "#fde0ef"
            ],
            [
             0.5,
             "#f7f7f7"
            ],
            [
             0.6,
             "#e6f5d0"
            ],
            [
             0.7,
             "#b8e186"
            ],
            [
             0.8,
             "#7fbc41"
            ],
            [
             0.9,
             "#4d9221"
            ],
            [
             1,
             "#276419"
            ]
           ],
           "sequential": [
            [
             0,
             "#0d0887"
            ],
            [
             0.1111111111111111,
             "#46039f"
            ],
            [
             0.2222222222222222,
             "#7201a8"
            ],
            [
             0.3333333333333333,
             "#9c179e"
            ],
            [
             0.4444444444444444,
             "#bd3786"
            ],
            [
             0.5555555555555556,
             "#d8576b"
            ],
            [
             0.6666666666666666,
             "#ed7953"
            ],
            [
             0.7777777777777778,
             "#fb9f3a"
            ],
            [
             0.8888888888888888,
             "#fdca26"
            ],
            [
             1,
             "#f0f921"
            ]
           ],
           "sequentialminus": [
            [
             0,
             "#0d0887"
            ],
            [
             0.1111111111111111,
             "#46039f"
            ],
            [
             0.2222222222222222,
             "#7201a8"
            ],
            [
             0.3333333333333333,
             "#9c179e"
            ],
            [
             0.4444444444444444,
             "#bd3786"
            ],
            [
             0.5555555555555556,
             "#d8576b"
            ],
            [
             0.6666666666666666,
             "#ed7953"
            ],
            [
             0.7777777777777778,
             "#fb9f3a"
            ],
            [
             0.8888888888888888,
             "#fdca26"
            ],
            [
             1,
             "#f0f921"
            ]
           ]
          },
          "colorway": [
           "#636efa",
           "#EF553B",
           "#00cc96",
           "#ab63fa",
           "#FFA15A",
           "#19d3f3",
           "#FF6692",
           "#B6E880",
           "#FF97FF",
           "#FECB52"
          ],
          "font": {
           "color": "#2a3f5f"
          },
          "geo": {
           "bgcolor": "white",
           "lakecolor": "white",
           "landcolor": "#E5ECF6",
           "showlakes": true,
           "showland": true,
           "subunitcolor": "white"
          },
          "hoverlabel": {
           "align": "left"
          },
          "hovermode": "closest",
          "mapbox": {
           "style": "light"
          },
          "paper_bgcolor": "white",
          "plot_bgcolor": "#E5ECF6",
          "polar": {
           "angularaxis": {
            "gridcolor": "white",
            "linecolor": "white",
            "ticks": ""
           },
           "bgcolor": "#E5ECF6",
           "radialaxis": {
            "gridcolor": "white",
            "linecolor": "white",
            "ticks": ""
           }
          },
          "scene": {
           "xaxis": {
            "backgroundcolor": "#E5ECF6",
            "gridcolor": "white",
            "gridwidth": 2,
            "linecolor": "white",
            "showbackground": true,
            "ticks": "",
            "zerolinecolor": "white"
           },
           "yaxis": {
            "backgroundcolor": "#E5ECF6",
            "gridcolor": "white",
            "gridwidth": 2,
            "linecolor": "white",
            "showbackground": true,
            "ticks": "",
            "zerolinecolor": "white"
           },
           "zaxis": {
            "backgroundcolor": "#E5ECF6",
            "gridcolor": "white",
            "gridwidth": 2,
            "linecolor": "white",
            "showbackground": true,
            "ticks": "",
            "zerolinecolor": "white"
           }
          },
          "shapedefaults": {
           "line": {
            "color": "#2a3f5f"
           }
          },
          "ternary": {
           "aaxis": {
            "gridcolor": "white",
            "linecolor": "white",
            "ticks": ""
           },
           "baxis": {
            "gridcolor": "white",
            "linecolor": "white",
            "ticks": ""
           },
           "bgcolor": "#E5ECF6",
           "caxis": {
            "gridcolor": "white",
            "linecolor": "white",
            "ticks": ""
           }
          },
          "title": {
           "x": 0.05
          },
          "xaxis": {
           "automargin": true,
           "gridcolor": "white",
           "linecolor": "white",
           "ticks": "",
           "title": {
            "standoff": 15
           },
           "zerolinecolor": "white",
           "zerolinewidth": 2
          },
          "yaxis": {
           "automargin": true,
           "gridcolor": "white",
           "linecolor": "white",
           "ticks": "",
           "title": {
            "standoff": 15
           },
           "zerolinecolor": "white",
           "zerolinewidth": 2
          }
         }
        },
        "xaxis": {
         "anchor": "y",
         "domain": [
          0,
          1
         ],
         "title": {
          "text": "age"
         }
        },
        "yaxis": {
         "anchor": "x",
         "domain": [
          0,
          1
         ]
        }
       }
      }
     },
     "metadata": {},
     "output_type": "display_data"
    }
   ],
   "source": [
    "px.box(df, df.age)"
   ]
  },
  {
   "cell_type": "code",
   "execution_count": 1432,
   "metadata": {},
   "outputs": [
    {
     "data": {
      "text/html": [
       "<div>\n",
       "<style scoped>\n",
       "    .dataframe tbody tr th:only-of-type {\n",
       "        vertical-align: middle;\n",
       "    }\n",
       "\n",
       "    .dataframe tbody tr th {\n",
       "        vertical-align: top;\n",
       "    }\n",
       "\n",
       "    .dataframe thead th {\n",
       "        text-align: right;\n",
       "    }\n",
       "</style>\n",
       "<table border=\"1\" class=\"dataframe\">\n",
       "  <thead>\n",
       "    <tr style=\"text-align: right;\">\n",
       "      <th></th>\n",
       "      <th>0</th>\n",
       "      <th>1</th>\n",
       "      <th>2</th>\n",
       "      <th>3</th>\n",
       "      <th>4</th>\n",
       "      <th>5</th>\n",
       "      <th>6</th>\n",
       "      <th>7</th>\n",
       "      <th>8</th>\n",
       "    </tr>\n",
       "  </thead>\n",
       "  <tbody>\n",
       "    <tr>\n",
       "      <th>0</th>\n",
       "      <td>Mary-Kate</td>\n",
       "      <td>and</td>\n",
       "      <td>Ashley</td>\n",
       "      <td>Olsen</td>\n",
       "      <td>None</td>\n",
       "      <td>None</td>\n",
       "      <td>None</td>\n",
       "      <td>None</td>\n",
       "      <td>None</td>\n",
       "    </tr>\n",
       "    <tr>\n",
       "      <th>1</th>\n",
       "      <td>Jennifer</td>\n",
       "      <td>Aniston</td>\n",
       "      <td>None</td>\n",
       "      <td>None</td>\n",
       "      <td>None</td>\n",
       "      <td>None</td>\n",
       "      <td>None</td>\n",
       "      <td>None</td>\n",
       "      <td>None</td>\n",
       "    </tr>\n",
       "    <tr>\n",
       "      <th>2</th>\n",
       "      <td>Julia</td>\n",
       "      <td>Roberts</td>\n",
       "      <td>None</td>\n",
       "      <td>None</td>\n",
       "      <td>None</td>\n",
       "      <td>None</td>\n",
       "      <td>None</td>\n",
       "      <td>None</td>\n",
       "      <td>None</td>\n",
       "    </tr>\n",
       "    <tr>\n",
       "      <th>3</th>\n",
       "      <td>Julia</td>\n",
       "      <td>Louis</td>\n",
       "      <td>Dreyfus</td>\n",
       "      <td>None</td>\n",
       "      <td>None</td>\n",
       "      <td>None</td>\n",
       "      <td>None</td>\n",
       "      <td>None</td>\n",
       "      <td>None</td>\n",
       "    </tr>\n",
       "    <tr>\n",
       "      <th>4</th>\n",
       "      <td>Sasha</td>\n",
       "      <td>Alexander</td>\n",
       "      <td>None</td>\n",
       "      <td>None</td>\n",
       "      <td>None</td>\n",
       "      <td>None</td>\n",
       "      <td>None</td>\n",
       "      <td>None</td>\n",
       "      <td>None</td>\n",
       "    </tr>\n",
       "    <tr>\n",
       "      <th>...</th>\n",
       "      <td>...</td>\n",
       "      <td>...</td>\n",
       "      <td>...</td>\n",
       "      <td>...</td>\n",
       "      <td>...</td>\n",
       "      <td>...</td>\n",
       "      <td>...</td>\n",
       "      <td>...</td>\n",
       "      <td>...</td>\n",
       "    </tr>\n",
       "    <tr>\n",
       "      <th>1812</th>\n",
       "      <td>Chuck</td>\n",
       "      <td>Woolery</td>\n",
       "      <td>None</td>\n",
       "      <td>None</td>\n",
       "      <td>None</td>\n",
       "      <td>None</td>\n",
       "      <td>None</td>\n",
       "      <td>None</td>\n",
       "      <td>None</td>\n",
       "    </tr>\n",
       "    <tr>\n",
       "      <th>1813</th>\n",
       "      <td>Bill</td>\n",
       "      <td>Kurtis</td>\n",
       "      <td>None</td>\n",
       "      <td>None</td>\n",
       "      <td>None</td>\n",
       "      <td>None</td>\n",
       "      <td>None</td>\n",
       "      <td>None</td>\n",
       "      <td>None</td>\n",
       "    </tr>\n",
       "    <tr>\n",
       "      <th>1814</th>\n",
       "      <td>Lydia</td>\n",
       "      <td>Stirling</td>\n",
       "      <td>McLaughlin</td>\n",
       "      <td>None</td>\n",
       "      <td>None</td>\n",
       "      <td>None</td>\n",
       "      <td>None</td>\n",
       "      <td>None</td>\n",
       "      <td>None</td>\n",
       "    </tr>\n",
       "    <tr>\n",
       "      <th>1815</th>\n",
       "      <td>Richard</td>\n",
       "      <td>Rawlings</td>\n",
       "      <td>None</td>\n",
       "      <td>None</td>\n",
       "      <td>None</td>\n",
       "      <td>None</td>\n",
       "      <td>None</td>\n",
       "      <td>None</td>\n",
       "      <td>None</td>\n",
       "    </tr>\n",
       "    <tr>\n",
       "      <th>1816</th>\n",
       "      <td>Sally</td>\n",
       "      <td>Jesse</td>\n",
       "      <td>Raphael</td>\n",
       "      <td>None</td>\n",
       "      <td>None</td>\n",
       "      <td>None</td>\n",
       "      <td>None</td>\n",
       "      <td>None</td>\n",
       "      <td>None</td>\n",
       "    </tr>\n",
       "  </tbody>\n",
       "</table>\n",
       "<p>1817 rows × 9 columns</p>\n",
       "</div>"
      ],
      "text/plain": [
       "              0          1           2      3     4     5     6     7     8\n",
       "0     Mary-Kate        and      Ashley  Olsen  None  None  None  None  None\n",
       "1      Jennifer    Aniston        None   None  None  None  None  None  None\n",
       "2         Julia    Roberts        None   None  None  None  None  None  None\n",
       "3         Julia      Louis     Dreyfus   None  None  None  None  None  None\n",
       "4         Sasha  Alexander        None   None  None  None  None  None  None\n",
       "...         ...        ...         ...    ...   ...   ...   ...   ...   ...\n",
       "1812      Chuck    Woolery        None   None  None  None  None  None  None\n",
       "1813       Bill     Kurtis        None   None  None  None  None  None  None\n",
       "1814      Lydia   Stirling  McLaughlin   None  None  None  None  None  None\n",
       "1815    Richard   Rawlings        None   None  None  None  None  None  None\n",
       "1816      Sally      Jesse     Raphael   None  None  None  None  None  None\n",
       "\n",
       "[1817 rows x 9 columns]"
      ]
     },
     "execution_count": 1432,
     "metadata": {},
     "output_type": "execute_result"
    }
   ],
   "source": [
    "splitted_name = df.Name.str.split(' ', expand = True )\n",
    "splitted_name"
   ]
  },
  {
   "cell_type": "code",
   "execution_count": 1433,
   "metadata": {},
   "outputs": [],
   "source": [
    "df['first_name'] = splitted_name[0]"
   ]
  },
  {
   "cell_type": "code",
   "execution_count": 1434,
   "metadata": {},
   "outputs": [],
   "source": [
    "gd = gender.Detector()\n",
    "df['Gender'] = df['first_name'].apply(str.capitalize).map(lambda x: gd.get_gender(x))"
   ]
  },
  {
   "cell_type": "code",
   "execution_count": 1435,
   "metadata": {},
   "outputs": [
    {
     "data": {
      "text/plain": [
       "array(['unknown', 'female', 'mostly_male', 'mostly_female', 'male',\n",
       "       'andy'], dtype=object)"
      ]
     },
     "execution_count": 1435,
     "metadata": {},
     "output_type": "execute_result"
    }
   ],
   "source": [
    "df['Gender'].unique()"
   ]
  },
  {
   "cell_type": "code",
   "execution_count": 1436,
   "metadata": {},
   "outputs": [],
   "source": [
    "df.Gender.replace({'mostly_male': 'male', 'mostly_female': 'female', 'andy' : 'female', 'unknown' : 'others'}, inplace = True)"
   ]
  },
  {
   "cell_type": "code",
   "execution_count": 1437,
   "metadata": {},
   "outputs": [
    {
     "data": {
      "text/plain": [
       "male      1189\n",
       "female     416\n",
       "others     212\n",
       "Name: Gender, dtype: int64"
      ]
     },
     "execution_count": 1437,
     "metadata": {},
     "output_type": "execute_result"
    }
   ],
   "source": [
    "df.Gender.value_counts()"
   ]
  },
  {
   "cell_type": "code",
   "execution_count": 1438,
   "metadata": {},
   "outputs": [
    {
     "data": {
      "application/vnd.plotly.v1+json": {
       "config": {
        "plotlyServerURL": "https://plot.ly"
       },
       "data": [
        {
         "hole": 0.5,
         "labels": [
          "male",
          "female",
          "others"
         ],
         "type": "pie",
         "values": [
          1189,
          416,
          212
         ]
        }
       ],
       "layout": {
        "annotations": [
         {
          "font": {
           "size": 20
          },
          "showarrow": false,
          "text": "Gender",
          "x": 0.5,
          "y": 0.5
         }
        ],
        "template": {
         "data": {
          "bar": [
           {
            "error_x": {
             "color": "#2a3f5f"
            },
            "error_y": {
             "color": "#2a3f5f"
            },
            "marker": {
             "line": {
              "color": "#E5ECF6",
              "width": 0.5
             },
             "pattern": {
              "fillmode": "overlay",
              "size": 10,
              "solidity": 0.2
             }
            },
            "type": "bar"
           }
          ],
          "barpolar": [
           {
            "marker": {
             "line": {
              "color": "#E5ECF6",
              "width": 0.5
             },
             "pattern": {
              "fillmode": "overlay",
              "size": 10,
              "solidity": 0.2
             }
            },
            "type": "barpolar"
           }
          ],
          "carpet": [
           {
            "aaxis": {
             "endlinecolor": "#2a3f5f",
             "gridcolor": "white",
             "linecolor": "white",
             "minorgridcolor": "white",
             "startlinecolor": "#2a3f5f"
            },
            "baxis": {
             "endlinecolor": "#2a3f5f",
             "gridcolor": "white",
             "linecolor": "white",
             "minorgridcolor": "white",
             "startlinecolor": "#2a3f5f"
            },
            "type": "carpet"
           }
          ],
          "choropleth": [
           {
            "colorbar": {
             "outlinewidth": 0,
             "ticks": ""
            },
            "type": "choropleth"
           }
          ],
          "contour": [
           {
            "colorbar": {
             "outlinewidth": 0,
             "ticks": ""
            },
            "colorscale": [
             [
              0,
              "#0d0887"
             ],
             [
              0.1111111111111111,
              "#46039f"
             ],
             [
              0.2222222222222222,
              "#7201a8"
             ],
             [
              0.3333333333333333,
              "#9c179e"
             ],
             [
              0.4444444444444444,
              "#bd3786"
             ],
             [
              0.5555555555555556,
              "#d8576b"
             ],
             [
              0.6666666666666666,
              "#ed7953"
             ],
             [
              0.7777777777777778,
              "#fb9f3a"
             ],
             [
              0.8888888888888888,
              "#fdca26"
             ],
             [
              1,
              "#f0f921"
             ]
            ],
            "type": "contour"
           }
          ],
          "contourcarpet": [
           {
            "colorbar": {
             "outlinewidth": 0,
             "ticks": ""
            },
            "type": "contourcarpet"
           }
          ],
          "heatmap": [
           {
            "colorbar": {
             "outlinewidth": 0,
             "ticks": ""
            },
            "colorscale": [
             [
              0,
              "#0d0887"
             ],
             [
              0.1111111111111111,
              "#46039f"
             ],
             [
              0.2222222222222222,
              "#7201a8"
             ],
             [
              0.3333333333333333,
              "#9c179e"
             ],
             [
              0.4444444444444444,
              "#bd3786"
             ],
             [
              0.5555555555555556,
              "#d8576b"
             ],
             [
              0.6666666666666666,
              "#ed7953"
             ],
             [
              0.7777777777777778,
              "#fb9f3a"
             ],
             [
              0.8888888888888888,
              "#fdca26"
             ],
             [
              1,
              "#f0f921"
             ]
            ],
            "type": "heatmap"
           }
          ],
          "heatmapgl": [
           {
            "colorbar": {
             "outlinewidth": 0,
             "ticks": ""
            },
            "colorscale": [
             [
              0,
              "#0d0887"
             ],
             [
              0.1111111111111111,
              "#46039f"
             ],
             [
              0.2222222222222222,
              "#7201a8"
             ],
             [
              0.3333333333333333,
              "#9c179e"
             ],
             [
              0.4444444444444444,
              "#bd3786"
             ],
             [
              0.5555555555555556,
              "#d8576b"
             ],
             [
              0.6666666666666666,
              "#ed7953"
             ],
             [
              0.7777777777777778,
              "#fb9f3a"
             ],
             [
              0.8888888888888888,
              "#fdca26"
             ],
             [
              1,
              "#f0f921"
             ]
            ],
            "type": "heatmapgl"
           }
          ],
          "histogram": [
           {
            "marker": {
             "pattern": {
              "fillmode": "overlay",
              "size": 10,
              "solidity": 0.2
             }
            },
            "type": "histogram"
           }
          ],
          "histogram2d": [
           {
            "colorbar": {
             "outlinewidth": 0,
             "ticks": ""
            },
            "colorscale": [
             [
              0,
              "#0d0887"
             ],
             [
              0.1111111111111111,
              "#46039f"
             ],
             [
              0.2222222222222222,
              "#7201a8"
             ],
             [
              0.3333333333333333,
              "#9c179e"
             ],
             [
              0.4444444444444444,
              "#bd3786"
             ],
             [
              0.5555555555555556,
              "#d8576b"
             ],
             [
              0.6666666666666666,
              "#ed7953"
             ],
             [
              0.7777777777777778,
              "#fb9f3a"
             ],
             [
              0.8888888888888888,
              "#fdca26"
             ],
             [
              1,
              "#f0f921"
             ]
            ],
            "type": "histogram2d"
           }
          ],
          "histogram2dcontour": [
           {
            "colorbar": {
             "outlinewidth": 0,
             "ticks": ""
            },
            "colorscale": [
             [
              0,
              "#0d0887"
             ],
             [
              0.1111111111111111,
              "#46039f"
             ],
             [
              0.2222222222222222,
              "#7201a8"
             ],
             [
              0.3333333333333333,
              "#9c179e"
             ],
             [
              0.4444444444444444,
              "#bd3786"
             ],
             [
              0.5555555555555556,
              "#d8576b"
             ],
             [
              0.6666666666666666,
              "#ed7953"
             ],
             [
              0.7777777777777778,
              "#fb9f3a"
             ],
             [
              0.8888888888888888,
              "#fdca26"
             ],
             [
              1,
              "#f0f921"
             ]
            ],
            "type": "histogram2dcontour"
           }
          ],
          "mesh3d": [
           {
            "colorbar": {
             "outlinewidth": 0,
             "ticks": ""
            },
            "type": "mesh3d"
           }
          ],
          "parcoords": [
           {
            "line": {
             "colorbar": {
              "outlinewidth": 0,
              "ticks": ""
             }
            },
            "type": "parcoords"
           }
          ],
          "pie": [
           {
            "automargin": true,
            "type": "pie"
           }
          ],
          "scatter": [
           {
            "fillpattern": {
             "fillmode": "overlay",
             "size": 10,
             "solidity": 0.2
            },
            "type": "scatter"
           }
          ],
          "scatter3d": [
           {
            "line": {
             "colorbar": {
              "outlinewidth": 0,
              "ticks": ""
             }
            },
            "marker": {
             "colorbar": {
              "outlinewidth": 0,
              "ticks": ""
             }
            },
            "type": "scatter3d"
           }
          ],
          "scattercarpet": [
           {
            "marker": {
             "colorbar": {
              "outlinewidth": 0,
              "ticks": ""
             }
            },
            "type": "scattercarpet"
           }
          ],
          "scattergeo": [
           {
            "marker": {
             "colorbar": {
              "outlinewidth": 0,
              "ticks": ""
             }
            },
            "type": "scattergeo"
           }
          ],
          "scattergl": [
           {
            "marker": {
             "colorbar": {
              "outlinewidth": 0,
              "ticks": ""
             }
            },
            "type": "scattergl"
           }
          ],
          "scattermapbox": [
           {
            "marker": {
             "colorbar": {
              "outlinewidth": 0,
              "ticks": ""
             }
            },
            "type": "scattermapbox"
           }
          ],
          "scatterpolar": [
           {
            "marker": {
             "colorbar": {
              "outlinewidth": 0,
              "ticks": ""
             }
            },
            "type": "scatterpolar"
           }
          ],
          "scatterpolargl": [
           {
            "marker": {
             "colorbar": {
              "outlinewidth": 0,
              "ticks": ""
             }
            },
            "type": "scatterpolargl"
           }
          ],
          "scatterternary": [
           {
            "marker": {
             "colorbar": {
              "outlinewidth": 0,
              "ticks": ""
             }
            },
            "type": "scatterternary"
           }
          ],
          "surface": [
           {
            "colorbar": {
             "outlinewidth": 0,
             "ticks": ""
            },
            "colorscale": [
             [
              0,
              "#0d0887"
             ],
             [
              0.1111111111111111,
              "#46039f"
             ],
             [
              0.2222222222222222,
              "#7201a8"
             ],
             [
              0.3333333333333333,
              "#9c179e"
             ],
             [
              0.4444444444444444,
              "#bd3786"
             ],
             [
              0.5555555555555556,
              "#d8576b"
             ],
             [
              0.6666666666666666,
              "#ed7953"
             ],
             [
              0.7777777777777778,
              "#fb9f3a"
             ],
             [
              0.8888888888888888,
              "#fdca26"
             ],
             [
              1,
              "#f0f921"
             ]
            ],
            "type": "surface"
           }
          ],
          "table": [
           {
            "cells": {
             "fill": {
              "color": "#EBF0F8"
             },
             "line": {
              "color": "white"
             }
            },
            "header": {
             "fill": {
              "color": "#C8D4E3"
             },
             "line": {
              "color": "white"
             }
            },
            "type": "table"
           }
          ]
         },
         "layout": {
          "annotationdefaults": {
           "arrowcolor": "#2a3f5f",
           "arrowhead": 0,
           "arrowwidth": 1
          },
          "autotypenumbers": "strict",
          "coloraxis": {
           "colorbar": {
            "outlinewidth": 0,
            "ticks": ""
           }
          },
          "colorscale": {
           "diverging": [
            [
             0,
             "#8e0152"
            ],
            [
             0.1,
             "#c51b7d"
            ],
            [
             0.2,
             "#de77ae"
            ],
            [
             0.3,
             "#f1b6da"
            ],
            [
             0.4,
             "#fde0ef"
            ],
            [
             0.5,
             "#f7f7f7"
            ],
            [
             0.6,
             "#e6f5d0"
            ],
            [
             0.7,
             "#b8e186"
            ],
            [
             0.8,
             "#7fbc41"
            ],
            [
             0.9,
             "#4d9221"
            ],
            [
             1,
             "#276419"
            ]
           ],
           "sequential": [
            [
             0,
             "#0d0887"
            ],
            [
             0.1111111111111111,
             "#46039f"
            ],
            [
             0.2222222222222222,
             "#7201a8"
            ],
            [
             0.3333333333333333,
             "#9c179e"
            ],
            [
             0.4444444444444444,
             "#bd3786"
            ],
            [
             0.5555555555555556,
             "#d8576b"
            ],
            [
             0.6666666666666666,
             "#ed7953"
            ],
            [
             0.7777777777777778,
             "#fb9f3a"
            ],
            [
             0.8888888888888888,
             "#fdca26"
            ],
            [
             1,
             "#f0f921"
            ]
           ],
           "sequentialminus": [
            [
             0,
             "#0d0887"
            ],
            [
             0.1111111111111111,
             "#46039f"
            ],
            [
             0.2222222222222222,
             "#7201a8"
            ],
            [
             0.3333333333333333,
             "#9c179e"
            ],
            [
             0.4444444444444444,
             "#bd3786"
            ],
            [
             0.5555555555555556,
             "#d8576b"
            ],
            [
             0.6666666666666666,
             "#ed7953"
            ],
            [
             0.7777777777777778,
             "#fb9f3a"
            ],
            [
             0.8888888888888888,
             "#fdca26"
            ],
            [
             1,
             "#f0f921"
            ]
           ]
          },
          "colorway": [
           "#636efa",
           "#EF553B",
           "#00cc96",
           "#ab63fa",
           "#FFA15A",
           "#19d3f3",
           "#FF6692",
           "#B6E880",
           "#FF97FF",
           "#FECB52"
          ],
          "font": {
           "color": "#2a3f5f"
          },
          "geo": {
           "bgcolor": "white",
           "lakecolor": "white",
           "landcolor": "#E5ECF6",
           "showlakes": true,
           "showland": true,
           "subunitcolor": "white"
          },
          "hoverlabel": {
           "align": "left"
          },
          "hovermode": "closest",
          "mapbox": {
           "style": "light"
          },
          "paper_bgcolor": "white",
          "plot_bgcolor": "#E5ECF6",
          "polar": {
           "angularaxis": {
            "gridcolor": "white",
            "linecolor": "white",
            "ticks": ""
           },
           "bgcolor": "#E5ECF6",
           "radialaxis": {
            "gridcolor": "white",
            "linecolor": "white",
            "ticks": ""
           }
          },
          "scene": {
           "xaxis": {
            "backgroundcolor": "#E5ECF6",
            "gridcolor": "white",
            "gridwidth": 2,
            "linecolor": "white",
            "showbackground": true,
            "ticks": "",
            "zerolinecolor": "white"
           },
           "yaxis": {
            "backgroundcolor": "#E5ECF6",
            "gridcolor": "white",
            "gridwidth": 2,
            "linecolor": "white",
            "showbackground": true,
            "ticks": "",
            "zerolinecolor": "white"
           },
           "zaxis": {
            "backgroundcolor": "#E5ECF6",
            "gridcolor": "white",
            "gridwidth": 2,
            "linecolor": "white",
            "showbackground": true,
            "ticks": "",
            "zerolinecolor": "white"
           }
          },
          "shapedefaults": {
           "line": {
            "color": "#2a3f5f"
           }
          },
          "ternary": {
           "aaxis": {
            "gridcolor": "white",
            "linecolor": "white",
            "ticks": ""
           },
           "baxis": {
            "gridcolor": "white",
            "linecolor": "white",
            "ticks": ""
           },
           "bgcolor": "#E5ECF6",
           "caxis": {
            "gridcolor": "white",
            "linecolor": "white",
            "ticks": ""
           }
          },
          "title": {
           "x": 0.05
          },
          "xaxis": {
           "automargin": true,
           "gridcolor": "white",
           "linecolor": "white",
           "ticks": "",
           "title": {
            "standoff": 15
           },
           "zerolinecolor": "white",
           "zerolinewidth": 2
          },
          "yaxis": {
           "automargin": true,
           "gridcolor": "white",
           "linecolor": "white",
           "ticks": "",
           "title": {
            "standoff": 15
           },
           "zerolinecolor": "white",
           "zerolinewidth": 2
          }
         }
        },
        "title": {
         "text": "Gender ratio"
        }
       }
      }
     },
     "metadata": {},
     "output_type": "display_data"
    }
   ],
   "source": [
    "fig = go.Figure(data = [go.Pie(labels = df.Gender.value_counts().index, values = df.Gender.value_counts(), hole = 0.5)])\n",
    "fig.update_layout(\n",
    "    title_text=\"Gender ratio\",\n",
    "    annotations=[dict(text='Gender', x=0.5, y=0.5, font_size=20, showarrow=False)])\n",
    "fig.show()"
   ]
  },
  {
   "cell_type": "code",
   "execution_count": 1439,
   "metadata": {},
   "outputs": [
    {
     "data": {
      "text/plain": [
       "Index(['Name', 'age', 'country', 'category', 'image', 'marital_status',\n",
       "       'Education', 'net_worth', 'Degree', 'first_name', 'Gender'],\n",
       "      dtype='object')"
      ]
     },
     "execution_count": 1439,
     "metadata": {},
     "output_type": "execute_result"
    }
   ],
   "source": [
    "df.columns"
   ]
  },
  {
   "cell_type": "code",
   "execution_count": 1440,
   "metadata": {},
   "outputs": [
    {
     "data": {
      "image/png": "[encoded data removed]",
      "text/plain": [
       "<Figure size 432x288 with 1 Axes>"
      ]
     },
     "metadata": {
      "needs_background": "light"
     },
     "output_type": "display_data"
    }
   ],
   "source": [
    "df.country.value_counts().plot(kind = 'bar');"
   ]
  },
  {
   "cell_type": "code",
   "execution_count": 1441,
   "metadata": {},
   "outputs": [
    {
     "data": {
      "application/vnd.plotly.v1+json": {
       "config": {
        "plotlyServerURL": "https://plot.ly"
       },
       "data": [
        {
         "hole": 0.5,
         "labels": [
          "United states",
          "United states",
          "United states",
          "United states",
          "United states",
          "United states",
          "United kingdom",
          "France",
          "United states",
          "Brazil",
          "United states",
          "United states",
          "United states",
          "United states",
          "United states",
          "France",
          "United states",
          "United states",
          "United states",
          "United states",
          "United states",
          "United states",
          "United states",
          "United states",
          "South africa",
          "United states",
          "United states",
          "United kingdom",
          "United states",
          null,
          "United states",
          "United states",
          "United states",
          "United states",
          null,
          null,
          "United states",
          "United kingdom",
          "United states",
          "United kingdom",
          "United states",
          "United states",
          "United states",
          "United states",
          "United states",
          "United states",
          "United states",
          "United states",
          "United states",
          "United kingdom",
          "United states",
          null,
          "United states",
          "United states",
          "United states",
          "Spain",
          "United states",
          "United states",
          "United kingdom",
          "United kingdom",
          "United states",
          "United kingdom",
          "United states",
          "United states",
          "United kingdom",
          "United states",
          "United states",
          "United kingdom",
          "United states",
          "United states",
          null,
          "Italy",
          "United states",
          "United states",
          "United states",
          "United states",
          "United states",
          "Australia",
          "United states",
          "United states",
          "United states",
          "United kingdom",
          "United states",
          "United states",
          "United states",
          "United states",
          "United kingdom",
          "United states",
          "United states",
          "United states",
          "United states",
          "United states",
          "United states",
          "United states",
          null,
          "United states",
          "United states",
          "United states",
          "United states",
          null,
          "United states",
          "India",
          "United states",
          "United states",
          "India",
          "Australia",
          "United states",
          "United states",
          "United states",
          "United states",
          null,
          "United states",
          "United states",
          "United states",
          "United states",
          "United states",
          "United states",
          "United states",
          "Canada",
          "United states",
          "United states",
          null,
          "United states",
          "Canada",
          null,
          "France",
          "India",
          "United states",
          "United states",
          "United states",
          "United states",
          "United states",
          "United states",
          "Canada",
          "United states",
          null,
          "United kingdom",
          "United states",
          "United states",
          "United states",
          "United states",
          "United states",
          "United states",
          "India",
          null,
          "United kingdom",
          "Australia",
          "United kingdom",
          "United states",
          "United states",
          "United kingdom",
          "United states",
          "United states",
          "United states",
          null,
          "United kingdom",
          null,
          "United states",
          "United states",
          null,
          "United states",
          "Canada",
          "Australia",
          "United kingdom",
          "India",
          "Canada",
          "United states",
          "United states",
          "United states",
          "United states",
          "New zealand",
          "United states",
          "United states",
          "United states",
          "India",
          "United kingdom",
          "United states",
          "United states",
          null,
          "United states",
          "United kingdom",
          "United kingdom",
          "United states",
          "France",
          "India",
          "United states",
          "United states",
          "United states",
          "United states",
          null,
          "United states",
          "United states",
          "United states",
          "United states",
          "United states",
          "United states",
          null,
          "United states",
          "United states",
          "India",
          "United states",
          "United states",
          "United states",
          "United states",
          "United states",
          null,
          null,
          "United states",
          "United states",
          null,
          "United states",
          "United states",
          "United states",
          "United states",
          "United states",
          "United states",
          "United states",
          null,
          "United states",
          "United states",
          "United states",
          null,
          "United states",
          "United states",
          "United states",
          "United states",
          "United states",
          "United states",
          null,
          "United states",
          "United states",
          "United states",
          null,
          "United states",
          "United states",
          "United states",
          "United states",
          "United states",
          null,
          "United states",
          "United states",
          "United states",
          "United states",
          "United states",
          null,
          "United states",
          null,
          "United states",
          "United states",
          "United states",
          null,
          null,
          "United states",
          "United states",
          null,
          null,
          "United states",
          "United states",
          "United states",
          "United states",
          "United states",
          "United states",
          "United states",
          "United states",
          null,
          "Canada",
          "United states",
          "United states",
          "United states",
          "United states",
          null,
          null,
          "United states",
          "United states",
          "United states",
          "United states",
          "United states",
          null,
          null,
          "United states",
          "United states",
          "United states",
          "United states",
          "United states",
          "United states",
          "United states",
          "United states",
          "United states",
          "Japan",
          "United states",
          "United states",
          "United states",
          null,
          "Canada",
          "United states",
          "United states",
          "Canada",
          null,
          "United states",
          "United states",
          "United states",
          "United states",
          "United states",
          "United states",
          "United states",
          "United states",
          "United states",
          "United states",
          "United states",
          "United states",
          "United states",
          "United states",
          "Germany",
          "United states",
          "United states",
          "United states",
          "United states",
          "United states",
          "United states",
          "United states",
          "United states",
          "United states",
          "United states",
          "Canada",
          "United states",
          "United states",
          "United states",
          "United states",
          "United states",
          "United states",
          "Brazil",
          "United states",
          "United states",
          "United states",
          "United states",
          "United states",
          "United states",
          "United states",
          "United states",
          "United states",
          "United states",
          "United states",
          "United states",
          "United states",
          "United states",
          "United states",
          "United states",
          "United states",
          "United states",
          "United states",
          "China",
          "Spain",
          "United states",
          "United states",
          "United states",
          "United states",
          "United states",
          "United states",
          "United states",
          "United states",
          "United states",
          "United states",
          "United states",
          "United states",
          "United kingdom",
          "United states",
          "United states",
          "United states",
          "United states",
          "United states",
          "United states",
          "United states",
          "United states",
          "United states",
          "United states",
          "United states",
          "United states",
          "United states",
          null,
          "United states",
          "Spain",
          "United states",
          null,
          "United states",
          "United states",
          "United states",
          "United states",
          "United states",
          "United states",
          "United states",
          null,
          "United states",
          "United states",
          "United states",
          null,
          "United states",
          "United states",
          "United states",
          "United states",
          "United states",
          "United states",
          "Italy",
          "Germany",
          "China",
          "United states",
          "Germany",
          null,
          "United states",
          "United states",
          "Australia",
          null,
          "United states",
          null,
          null,
          null,
          "Italy",
          "Germany",
          null,
          "United states",
          "United states",
          "Australia",
          "India",
          "Spain",
          "United states",
          null,
          null,
          "China",
          "France",
          "Brazil",
          null,
          "United states",
          "United states",
          "China",
          "United states",
          "United states",
          "United states",
          "United states",
          "Germany",
          "Switzerland",
          "United states",
          "United states",
          null,
          "United states",
          "Switzerland",
          "United states",
          null,
          "United states",
          "United states",
          "France",
          "China",
          "United states",
          "United states",
          "United states",
          "United states",
          "Germany",
          "Brazil",
          "United states",
          "Germany",
          null,
          "China",
          "United states",
          null,
          "United states",
          "United kingdom",
          "United states",
          null,
          null,
          "Brazil",
          null,
          null,
          null,
          "United states",
          "Brazil",
          "Switzerland",
          "Germany",
          "United states",
          null,
          null,
          "United states",
          "United states",
          "United states",
          "United states",
          null,
          "China",
          null,
          "United states",
          "United states",
          "United states",
          "France",
          "United states",
          "United states",
          "United states",
          "United states",
          "Spain",
          null,
          "United states",
          "United states",
          "United states",
          "India",
          "United states",
          "United states",
          "United states",
          "United states",
          null,
          "France",
          "United states",
          "China",
          "France",
          "United states",
          null,
          "Italy",
          "China",
          "Canada",
          "France",
          "France",
          null,
          null,
          "Canada",
          null,
          "France",
          "United states",
          "United states",
          "Russia",
          "Germany",
          "Ireland",
          "India",
          "Russia",
          "Russia",
          "United states",
          "Russia",
          "Russia",
          "United states",
          "China",
          "Russia",
          "United states",
          null,
          "Japan",
          "China",
          "Germany",
          "China",
          "United states",
          null,
          "China",
          "China",
          "United states",
          null,
          null,
          "China",
          "Russia",
          "United states",
          null,
          "United states",
          "Russia",
          "China",
          "United states",
          "India",
          "India",
          "Russia",
          "China",
          "United states",
          "Germany",
          null,
          "Russia",
          null,
          "Germany",
          null,
          "United states",
          "United states",
          "United kingdom",
          "Canada",
          "China",
          "United states",
          null,
          "China",
          "United states",
          null,
          "United states",
          "Germany",
          null,
          null,
          "United states",
          "United states",
          "Japan",
          "France",
          null,
          "United kingdom",
          "United states",
          "United states",
          null,
          "United states",
          "China",
          "United states",
          "China",
          null,
          "United states",
          "Japan",
          "United states",
          "Brazil",
          "Brazil",
          null,
          null,
          null,
          null,
          null,
          null,
          null,
          "United states",
          null,
          "Germany",
          "United states",
          null,
          null,
          null,
          null,
          null,
          null,
          null,
          "United states",
          null,
          "United states",
          null,
          null,
          null,
          null,
          null,
          null,
          "United states",
          "France",
          null,
          "United states",
          "United states",
          null,
          null,
          null,
          null,
          null,
          "United states",
          "Canada",
          "United states",
          null,
          null,
          null,
          null,
          null,
          null,
          "United states",
          null,
          null,
          null,
          null,
          "United states",
          null,
          null,
          null,
          null,
          "United states",
          "United states",
          null,
          null,
          null,
          null,
          null,
          null,
          "Germany",
          null,
          null,
          null,
          null,
          null,
          null,
          null,
          null,
          null,
          "United states",
          null,
          null,
          "United states",
          "United states",
          null,
          "United states",
          "United states",
          "United states",
          "United states",
          "United states",
          "United states",
          "United states",
          "United states",
          "United states",
          "United states",
          "United states",
          "United states",
          "United kingdom",
          "Canada",
          "United kingdom",
          null,
          null,
          "United states",
          "United states",
          null,
          "United states",
          "United states",
          "United states",
          "United states",
          "United kingdom",
          "United states",
          null,
          null,
          "United kingdom",
          "United states",
          "United kingdom",
          "United states",
          "United states",
          "United states",
          "United states",
          "United states",
          "Canada",
          "United states",
          "United states",
          "United states",
          "United states",
          "United states",
          null,
          null,
          null,
          null,
          "United states",
          "United states",
          "United states",
          null,
          null,
          "United kingdom",
          "United states",
          null,
          null,
          "United states",
          "United states",
          "United states",
          "Canada",
          "United states",
          "France",
          "United states",
          "United kingdom",
          "United states",
          "United states",
          "United states",
          "United states",
          null,
          "United states",
          "United states",
          null,
          "United kingdom",
          "United states",
          "United states",
          "United states",
          "United states",
          null,
          "United states",
          "Australia",
          "United states",
          "United states",
          "United states",
          null,
          null,
          null,
          "United states",
          "United states",
          null,
          null,
          "United states",
          "United kingdom",
          null,
          "United states",
          "United states",
          "United states",
          "United states",
          null,
          null,
          "Canada",
          "United states",
          null,
          "France",
          "Switzerland",
          null,
          "United kingdom",
          null,
          null,
          "Brazil",
          null,
          "Canada",
          null,
          "United states",
          null,
          "United states",
          "United kingdom",
          null,
          "South africa",
          null,
          null,
          null,
          null,
          null,
          "India",
          "Russia",
          null,
          null,
          null,
          null,
          null,
          null,
          "United states",
          "United states",
          "United states",
          null,
          "United states",
          "Italy",
          null,
          null,
          null,
          "United states",
          null,
          "South africa",
          "United states",
          "United states",
          null,
          "United states",
          "United states",
          null,
          null,
          "Canada",
          "United states",
          "United states",
          null,
          null,
          "United states",
          null,
          null,
          "Germany",
          "United states",
          "Canada",
          "United states",
          "United states",
          "United states",
          null,
          null,
          null,
          "United kingdom",
          null,
          null,
          null,
          "United states",
          "United kingdom",
          null,
          null,
          "United kingdom",
          "United states",
          "Canada",
          null,
          null,
          null,
          "United kingdom",
          "United states",
          null,
          "United states",
          "United states",
          "United states",
          "United states",
          null,
          "Canada",
          "United states",
          "United states",
          "United states",
          null,
          "United states",
          "United states",
          "Canada",
          "United states",
          "United states",
          "United states",
          "United states",
          null,
          "United states",
          "United states",
          "United states",
          "United states",
          null,
          "United states",
          null,
          "United states",
          "France",
          "United states",
          "United states",
          "United states",
          "United states",
          "China",
          "United states",
          "United states",
          "United kingdom",
          "United states",
          "United states",
          "Canada",
          "United states",
          "United states",
          "India",
          "United states",
          "United states",
          "United states",
          "United states",
          "United states",
          "United states",
          "United states",
          "United kingdom",
          "United states",
          "United states",
          "France",
          "United states",
          "United states",
          "United states",
          "United states",
          "United states",
          "United states",
          "United states",
          "United states",
          "United states",
          null,
          "United states",
          "United states",
          "United states",
          "United states",
          "United kingdom",
          "United states",
          null,
          "United states",
          "United kingdom",
          "United states",
          "United states",
          "United states",
          "United states",
          "United states",
          "United states",
          "United kingdom",
          "Spain",
          "United states",
          "Canada",
          "United states",
          "Germany",
          "Australia",
          "United states",
          "Canada",
          "Canada",
          "Canada",
          "Canada",
          "Canada",
          "Russia",
          null,
          "Canada",
          "United states",
          null,
          "Russia",
          "United states",
          "Canada",
          "Canada",
          "Canada",
          "Canada",
          "United states",
          "Canada",
          "Canada",
          "Canada",
          null,
          "Russia",
          "Canada",
          "Russia",
          "United states",
          "Canada",
          "Canada",
          "United states",
          "Canada",
          "Canada",
          "Canada",
          null,
          null,
          null,
          "Russia",
          null,
          "Canada",
          "Canada",
          null,
          "Canada",
          null,
          "United states",
          "Canada",
          "Canada",
          null,
          null,
          "Canada",
          "Canada",
          null,
          "Canada",
          null,
          "Canada",
          "Canada",
          null,
          "Canada",
          "Canada",
          "Canada",
          "Canada",
          "Canada",
          "Canada",
          "Canada",
          null,
          null,
          null,
          "Canada",
          "Russia",
          "United states",
          "Canada",
          "Canada",
          "Canada",
          null,
          "Canada",
          "Canada",
          "Canada",
          "Russia",
          "Canada",
          "Canada",
          "Canada",
          "Canada",
          "United states",
          "Canada",
          null,
          null,
          "Canada",
          "Canada",
          null,
          "Canada",
          "Canada",
          null,
          null,
          "Canada",
          "Canada",
          "Canada",
          "Canada",
          null,
          null,
          null,
          "Canada",
          null,
          null,
          "United kingdom",
          "United kingdom",
          "United states",
          "Brazil",
          "United kingdom",
          null,
          "United states",
          "United states",
          "United states",
          "United states",
          null,
          "United states",
          "Australia",
          "United states",
          "United states",
          "Brazil",
          "United kingdom",
          "United states",
          "Germany",
          "United kingdom",
          "Italy",
          "United states",
          "France",
          "United kingdom",
          "Australia",
          "Brazil",
          "United kingdom",
          "United kingdom",
          "India",
          "Russia",
          "United kingdom",
          "United states",
          "United states",
          "United states",
          null,
          "United states",
          null,
          "United states",
          "Germany",
          null,
          "United states",
          "China",
          "United states",
          "Japan",
          "Italy",
          "United states",
          "United states",
          "Canada",
          "Australia",
          "United states",
          "United states",
          "United states",
          "United states",
          "United states",
          null,
          "Australia",
          "Canada",
          "United states",
          "United states",
          "United kingdom",
          "France",
          "United states",
          "United states",
          "United kingdom",
          "United states",
          "Canada",
          null,
          null,
          "United states",
          "United states",
          null,
          null,
          "Italy",
          "United states",
          "France",
          "United states",
          "Russia",
          "United kingdom",
          null,
          null,
          "United states",
          null,
          "United kingdom",
          "United states",
          "United states",
          "France",
          "United states",
          "United states",
          "United states",
          "United states",
          "United states",
          "United states",
          null,
          "South africa",
          "United kingdom",
          "United kingdom",
          null,
          null,
          "United states",
          "Germany",
          "United states",
          "United kingdom",
          "United kingdom",
          "United states",
          "United states",
          "United states",
          "United states",
          "United states",
          "United kingdom",
          "United kingdom",
          "United states",
          "United kingdom",
          "United kingdom",
          "United states",
          "United kingdom",
          "United states",
          "United states",
          "United states",
          "United states",
          "United kingdom",
          "United states",
          "United kingdom",
          "United kingdom",
          "United kingdom",
          "United states",
          "United kingdom",
          "United kingdom",
          "United states",
          "United kingdom",
          "United kingdom",
          "United kingdom",
          "United states",
          "United states",
          null,
          "United states",
          "United states",
          "United states",
          "United kingdom",
          "United kingdom",
          "United kingdom",
          "United kingdom",
          "United kingdom",
          "United states",
          "United states",
          "United kingdom",
          "United kingdom",
          "United states",
          "United states",
          "United kingdom",
          "United states",
          "United kingdom",
          "United states",
          "United states",
          "Australia",
          "United kingdom",
          "United states",
          "United kingdom",
          "Germany",
          "United kingdom",
          "United kingdom",
          "United states",
          "United states",
          "United states",
          "United states",
          "United states",
          "United kingdom",
          "United states",
          "United states",
          "United kingdom",
          "United kingdom",
          "United kingdom",
          "United states",
          "United states",
          "France",
          "United states",
          "United states",
          "United kingdom",
          "Japan",
          "United kingdom",
          "United kingdom",
          "United states",
          "United states",
          "United states",
          "United kingdom",
          "United states",
          "United states",
          "Germany",
          "United kingdom",
          "United states",
          "United kingdom",
          "United kingdom",
          "United states",
          "United kingdom",
          "United states",
          "United states",
          "United states",
          "United states",
          "United states",
          "United kingdom",
          "United states",
          "United states",
          "United states",
          "United states",
          "United states",
          "United states",
          "United states",
          "United states",
          "United states",
          "United states",
          "United states",
          "United states",
          "United states",
          "United states",
          "United states",
          "United states",
          "United states",
          "United states",
          "United states",
          "United states",
          "United states",
          "Canada",
          "United states",
          "United states",
          "United states",
          "United states",
          "United states",
          "United states",
          "United states",
          "United states",
          "United states",
          "United states",
          "United states",
          "United states",
          "United states",
          "United states",
          "United states",
          "United states",
          "United states",
          "United states",
          "United states",
          "United states",
          "United states",
          "United states",
          "United states",
          "United states",
          "United states",
          null,
          "United states",
          "United states",
          "United states",
          "United states",
          "United states",
          "United states",
          "United states",
          "United states",
          "United states",
          "United states",
          "United states",
          "United states",
          "United states",
          "United states",
          "United states",
          "United states",
          "United states",
          "United states",
          "United states",
          "United states",
          "United states",
          "United states",
          "United states",
          "United states",
          "United states",
          null,
          null,
          "United states",
          "United states",
          "United states",
          "United states",
          "United states",
          "United states",
          "United states",
          "United states",
          "United states",
          "United states",
          "United states",
          "United states",
          "United states",
          "United states",
          "United states",
          "United states",
          "United states",
          "United states",
          "United states",
          "United states",
          "United states",
          "United states",
          "United states",
          "United states",
          null,
          "United states",
          "United states",
          null,
          null,
          "United states",
          "United kingdom",
          "United states",
          "United states",
          "United states",
          "United states",
          null,
          "United states",
          "United states",
          "United states",
          "United states",
          "United kingdom",
          "United states",
          "United kingdom",
          "United states",
          "United states",
          "United kingdom",
          "United states",
          "United states",
          "India",
          "United states",
          "United states",
          "United states",
          "United states",
          "Japan",
          null,
          "United states",
          "United kingdom",
          "United states",
          "United kingdom",
          "United states",
          "United states",
          "United states",
          "United states",
          null,
          "United states",
          null,
          "United states",
          "United states",
          "United states",
          "United states",
          "United states",
          "United kingdom",
          "United states",
          null,
          "United states",
          "United kingdom",
          "United kingdom",
          "United kingdom",
          "United states",
          "United states",
          "United states",
          "United kingdom",
          "United states",
          "Canada",
          "United states",
          "United states",
          "Germany",
          "United states",
          "United states",
          "United states",
          "United states",
          null,
          "United states",
          "United states",
          null,
          "United kingdom",
          "United states",
          null,
          "United states",
          null,
          "United states",
          "United states",
          "United kingdom",
          "United states",
          "Canada",
          "United states",
          null,
          null,
          null,
          "United states",
          "United kingdom",
          "United states",
          "Japan",
          "United states",
          null,
          null,
          "United states",
          "United states",
          "United states",
          "United states",
          "United states",
          "United states",
          "United states",
          "United states",
          "United states",
          "United states",
          "United states",
          "United states",
          "United states",
          "Canada",
          "United states",
          "United states",
          "United states",
          "United states",
          "United states",
          "United states",
          "United states",
          "United states",
          "United states",
          "United states",
          "United states",
          "United states",
          "United states",
          "United states",
          "United states",
          "United states",
          "United states",
          "United states",
          "United states",
          "United states",
          "United states",
          "United states",
          "United states",
          "United states",
          "United states",
          "United states",
          "United states",
          "United states",
          "United states",
          "United states",
          "United states",
          "United states",
          "United states",
          "United states",
          "United states",
          "United states",
          "United states",
          "United states",
          "United states",
          "United states",
          "United states",
          "United states",
          "United states",
          "United states",
          "United states",
          null,
          "United states",
          "United states",
          "United states",
          "United states",
          "United states",
          "United states",
          "United states",
          "United states",
          "United states",
          null,
          "United states",
          "United states",
          "United states",
          "United states",
          "United states",
          "United states",
          "United states",
          "United states",
          "United states",
          "United states",
          "United states",
          "United states",
          "United states",
          "United states",
          "United kingdom",
          "United states",
          "United states",
          "United states",
          "Canada",
          "United states",
          "United states",
          "United states",
          "Canada",
          "United states",
          "United states",
          null,
          "United states",
          "United states",
          "Canada",
          "Spain",
          null,
          "United states",
          "France",
          null,
          "United states",
          "United states",
          "United kingdom",
          "Australia",
          "United states",
          "United states",
          "United states",
          "United states",
          "United states",
          null,
          "Ireland",
          "United states",
          null,
          "United states",
          "United states",
          "United kingdom",
          "United states",
          null,
          "United states",
          "United states",
          "United states",
          null,
          "United states",
          "United states",
          null,
          "United states",
          "France",
          "Ireland",
          "United states",
          "United states",
          null,
          "United states",
          "Ireland",
          "United kingdom",
          "United states",
          "United states",
          "United states",
          "United states",
          "United kingdom",
          "United states",
          "United states",
          "United states",
          "United states",
          "United states",
          "United states",
          null,
          "United states",
          "United kingdom",
          "United kingdom",
          "Spain",
          "United states",
          "United states",
          "Canada",
          "United states",
          "United states",
          null,
          "United states",
          "Australia",
          "United states",
          "United kingdom",
          "United states",
          "United kingdom",
          null,
          "United kingdom",
          "United states",
          "United kingdom",
          "United states",
          "United states",
          null,
          "United states",
          "United states",
          null,
          "United states",
          "United states",
          "United states",
          "United states",
          "United kingdom",
          null,
          null,
          "United kingdom",
          "Brazil",
          "United kingdom",
          "Brazil",
          "Italy",
          null,
          "Brazil",
          "Germany",
          "Belgium",
          "Brazil",
          null,
          "United kingdom",
          null,
          null,
          "Brazil",
          "Spain",
          "Spain",
          null,
          "Brazil",
          "United kingdom",
          "Brazil",
          null,
          null,
          "France",
          null,
          null,
          "Spain",
          "Brazil",
          null,
          "United kingdom",
          "United kingdom",
          "Spain",
          "United kingdom",
          "France",
          "France",
          null,
          "Spain",
          "United kingdom",
          "Ireland",
          "United kingdom",
          "Spain",
          "Italy",
          "Spain",
          null,
          "Germany",
          "United kingdom",
          "United kingdom",
          null,
          "France",
          "United kingdom",
          "United states",
          "United kingdom",
          "Italy",
          "Brazil",
          "United kingdom",
          null,
          "Spain",
          "France",
          null,
          "Spain",
          null,
          null,
          null,
          null,
          "Italy",
          "Germany",
          "United kingdom",
          "United kingdom",
          null,
          "France",
          "Italy",
          "Spain",
          "Brazil",
          "France",
          null,
          null,
          null,
          "Spain",
          null,
          "United kingdom",
          "Brazil",
          null,
          "Ireland",
          null,
          null,
          "Japan",
          null,
          "United kingdom",
          null,
          null,
          "United kingdom",
          "Germany",
          "Italy",
          null,
          "United kingdom",
          "Spain",
          null,
          "Brazil",
          "United states",
          "United kingdom",
          "United states",
          "United kingdom",
          "United states",
          "United states",
          "United states",
          "United states",
          "United states",
          "United kingdom",
          null,
          null,
          "United states",
          "United states",
          null,
          "United states",
          "United states",
          null,
          "United states",
          "United states",
          "United states",
          "Canada",
          "United states",
          "United states",
          "United states",
          null,
          "United kingdom",
          "United states",
          "United states",
          "United states",
          "United states",
          "United states",
          "United states",
          "United states",
          "United states",
          null,
          "United states",
          "United states",
          "United kingdom",
          "United states",
          null,
          null,
          "United states",
          "United states",
          "United kingdom",
          "United kingdom",
          "United states",
          "United states",
          "Australia",
          "United states",
          "United states",
          "United kingdom",
          "United states",
          null,
          "United states",
          "United states",
          "United states",
          "United states",
          "Canada",
          "United states",
          null,
          "United kingdom",
          null,
          "United states",
          "United states",
          "United states",
          "United states",
          "United states",
          "United states",
          null,
          null,
          null,
          "United states",
          "United states",
          null,
          "Canada",
          "United states",
          "United kingdom",
          "United kingdom",
          "United states",
          "United states",
          null,
          "United states",
          "United states",
          null,
          "United states",
          "United kingdom",
          "New zealand",
          "United states",
          null,
          "United states",
          "United states",
          null,
          "United states",
          "United states",
          "United states",
          "United states",
          "United states",
          null
         ],
         "type": "pie",
         "values": [
          987,
          160,
          96,
          32,
          27,
          24,
          23,
          20,
          20,
          17,
          16,
          14,
          9,
          6,
          4,
          4,
          2,
          1
         ]
        }
       ],
       "layout": {
        "annotations": [
         {
          "font": {
           "size": 20
          },
          "showarrow": false,
          "text": "country",
          "x": 0.5,
          "y": 0.5
         }
        ],
        "template": {
         "data": {
          "bar": [
           {
            "error_x": {
             "color": "#2a3f5f"
            },
            "error_y": {
             "color": "#2a3f5f"
            },
            "marker": {
             "line": {
              "color": "#E5ECF6",
              "width": 0.5
             },
             "pattern": {
              "fillmode": "overlay",
              "size": 10,
              "solidity": 0.2
             }
            },
            "type": "bar"
           }
          ],
          "barpolar": [
           {
            "marker": {
             "line": {
              "color": "#E5ECF6",
              "width": 0.5
             },
             "pattern": {
              "fillmode": "overlay",
              "size": 10,
              "solidity": 0.2
             }
            },
            "type": "barpolar"
           }
          ],
          "carpet": [
           {
            "aaxis": {
             "endlinecolor": "#2a3f5f",
             "gridcolor": "white",
             "linecolor": "white",
             "minorgridcolor": "white",
             "startlinecolor": "#2a3f5f"
            },
            "baxis": {
             "endlinecolor": "#2a3f5f",
             "gridcolor": "white",
             "linecolor": "white",
             "minorgridcolor": "white",
             "startlinecolor": "#2a3f5f"
            },
            "type": "carpet"
           }
          ],
          "choropleth": [
           {
            "colorbar": {
             "outlinewidth": 0,
             "ticks": ""
            },
            "type": "choropleth"
           }
          ],
          "contour": [
           {
            "colorbar": {
             "outlinewidth": 0,
             "ticks": ""
            },
            "colorscale": [
             [
              0,
              "#0d0887"
             ],
             [
              0.1111111111111111,
              "#46039f"
             ],
             [
              0.2222222222222222,
              "#7201a8"
             ],
             [
              0.3333333333333333,
              "#9c179e"
             ],
             [
              0.4444444444444444,
              "#bd3786"
             ],
             [
              0.5555555555555556,
              "#d8576b"
             ],
             [
              0.6666666666666666,
              "#ed7953"
             ],
             [
              0.7777777777777778,
              "#fb9f3a"
             ],
             [
              0.8888888888888888,
              "#fdca26"
             ],
             [
              1,
              "#f0f921"
             ]
            ],
            "type": "contour"
           }
          ],
          "contourcarpet": [
           {
            "colorbar": {
             "outlinewidth": 0,
             "ticks": ""
            },
            "type": "contourcarpet"
           }
          ],
          "heatmap": [
           {
            "colorbar": {
             "outlinewidth": 0,
             "ticks": ""
            },
            "colorscale": [
             [
              0,
              "#0d0887"
             ],
             [
              0.1111111111111111,
              "#46039f"
             ],
             [
              0.2222222222222222,
              "#7201a8"
             ],
             [
              0.3333333333333333,
              "#9c179e"
             ],
             [
              0.4444444444444444,
              "#bd3786"
             ],
             [
              0.5555555555555556,
              "#d8576b"
             ],
             [
              0.6666666666666666,
              "#ed7953"
             ],
             [
              0.7777777777777778,
              "#fb9f3a"
             ],
             [
              0.8888888888888888,
              "#fdca26"
             ],
             [
              1,
              "#f0f921"
             ]
            ],
            "type": "heatmap"
           }
          ],
          "heatmapgl": [
           {
            "colorbar": {
             "outlinewidth": 0,
             "ticks": ""
            },
            "colorscale": [
             [
              0,
              "#0d0887"
             ],
             [
              0.1111111111111111,
              "#46039f"
             ],
             [
              0.2222222222222222,
              "#7201a8"
             ],
             [
              0.3333333333333333,
              "#9c179e"
             ],
             [
              0.4444444444444444,
              "#bd3786"
             ],
             [
              0.5555555555555556,
              "#d8576b"
             ],
             [
              0.6666666666666666,
              "#ed7953"
             ],
             [
              0.7777777777777778,
              "#fb9f3a"
             ],
             [
              0.8888888888888888,
              "#fdca26"
             ],
             [
              1,
              "#f0f921"
             ]
            ],
            "type": "heatmapgl"
           }
          ],
          "histogram": [
           {
            "marker": {
             "pattern": {
              "fillmode": "overlay",
              "size": 10,
              "solidity": 0.2
             }
            },
            "type": "histogram"
           }
          ],
          "histogram2d": [
           {
            "colorbar": {
             "outlinewidth": 0,
             "ticks": ""
            },
            "colorscale": [
             [
              0,
              "#0d0887"
             ],
             [
              0.1111111111111111,
              "#46039f"
             ],
             [
              0.2222222222222222,
              "#7201a8"
             ],
             [
              0.3333333333333333,
              "#9c179e"
             ],
             [
              0.4444444444444444,
              "#bd3786"
             ],
             [
              0.5555555555555556,
              "#d8576b"
             ],
             [
              0.6666666666666666,
              "#ed7953"
             ],
             [
              0.7777777777777778,
              "#fb9f3a"
             ],
             [
              0.8888888888888888,
              "#fdca26"
             ],
             [
              1,
              "#f0f921"
             ]
            ],
            "type": "histogram2d"
           }
          ],
          "histogram2dcontour": [
           {
            "colorbar": {
             "outlinewidth": 0,
             "ticks": ""
            },
            "colorscale": [
             [
              0,
              "#0d0887"
             ],
             [
              0.1111111111111111,
              "#46039f"
             ],
             [
              0.2222222222222222,
              "#7201a8"
             ],
             [
              0.3333333333333333,
              "#9c179e"
             ],
             [
              0.4444444444444444,
              "#bd3786"
             ],
             [
              0.5555555555555556,
              "#d8576b"
             ],
             [
              0.6666666666666666,
              "#ed7953"
             ],
             [
              0.7777777777777778,
              "#fb9f3a"
             ],
             [
              0.8888888888888888,
              "#fdca26"
             ],
             [
              1,
              "#f0f921"
             ]
            ],
            "type": "histogram2dcontour"
           }
          ],
          "mesh3d": [
           {
            "colorbar": {
             "outlinewidth": 0,
             "ticks": ""
            },
            "type": "mesh3d"
           }
          ],
          "parcoords": [
           {
            "line": {
             "colorbar": {
              "outlinewidth": 0,
              "ticks": ""
             }
            },
            "type": "parcoords"
           }
          ],
          "pie": [
           {
            "automargin": true,
            "type": "pie"
           }
          ],
          "scatter": [
           {
            "fillpattern": {
             "fillmode": "overlay",
             "size": 10,
             "solidity": 0.2
            },
            "type": "scatter"
           }
          ],
          "scatter3d": [
           {
            "line": {
             "colorbar": {
              "outlinewidth": 0,
              "ticks": ""
             }
            },
            "marker": {
             "colorbar": {
              "outlinewidth": 0,
              "ticks": ""
             }
            },
            "type": "scatter3d"
           }
          ],
          "scattercarpet": [
           {
            "marker": {
             "colorbar": {
              "outlinewidth": 0,
              "ticks": ""
             }
            },
            "type": "scattercarpet"
           }
          ],
          "scattergeo": [
           {
            "marker": {
             "colorbar": {
              "outlinewidth": 0,
              "ticks": ""
             }
            },
            "type": "scattergeo"
           }
          ],
          "scattergl": [
           {
            "marker": {
             "colorbar": {
              "outlinewidth": 0,
              "ticks": ""
             }
            },
            "type": "scattergl"
           }
          ],
          "scattermapbox": [
           {
            "marker": {
             "colorbar": {
              "outlinewidth": 0,
              "ticks": ""
             }
            },
            "type": "scattermapbox"
           }
          ],
          "scatterpolar": [
           {
            "marker": {
             "colorbar": {
              "outlinewidth": 0,
              "ticks": ""
             }
            },
            "type": "scatterpolar"
           }
          ],
          "scatterpolargl": [
           {
            "marker": {
             "colorbar": {
              "outlinewidth": 0,
              "ticks": ""
             }
            },
            "type": "scatterpolargl"
           }
          ],
          "scatterternary": [
           {
            "marker": {
             "colorbar": {
              "outlinewidth": 0,
              "ticks": ""
             }
            },
            "type": "scatterternary"
           }
          ],
          "surface": [
           {
            "colorbar": {
             "outlinewidth": 0,
             "ticks": ""
            },
            "colorscale": [
             [
              0,
              "#0d0887"
             ],
             [
              0.1111111111111111,
              "#46039f"
             ],
             [
              0.2222222222222222,
              "#7201a8"
             ],
             [
              0.3333333333333333,
              "#9c179e"
             ],
             [
              0.4444444444444444,
              "#bd3786"
             ],
             [
              0.5555555555555556,
              "#d8576b"
             ],
             [
              0.6666666666666666,
              "#ed7953"
             ],
             [
              0.7777777777777778,
              "#fb9f3a"
             ],
             [
              0.8888888888888888,
              "#fdca26"
             ],
             [
              1,
              "#f0f921"
             ]
            ],
            "type": "surface"
           }
          ],
          "table": [
           {
            "cells": {
             "fill": {
              "color": "#EBF0F8"
             },
             "line": {
              "color": "white"
             }
            },
            "header": {
             "fill": {
              "color": "#C8D4E3"
             },
             "line": {
              "color": "white"
             }
            },
            "type": "table"
           }
          ]
         },
         "layout": {
          "annotationdefaults": {
           "arrowcolor": "#2a3f5f",
           "arrowhead": 0,
           "arrowwidth": 1
          },
          "autotypenumbers": "strict",
          "coloraxis": {
           "colorbar": {
            "outlinewidth": 0,
            "ticks": ""
           }
          },
          "colorscale": {
           "diverging": [
            [
             0,
             "#8e0152"
            ],
            [
             0.1,
             "#c51b7d"
            ],
            [
             0.2,
             "#de77ae"
            ],
            [
             0.3,
             "#f1b6da"
            ],
            [
             0.4,
             "#fde0ef"
            ],
            [
             0.5,
             "#f7f7f7"
            ],
            [
             0.6,
             "#e6f5d0"
            ],
            [
             0.7,
             "#b8e186"
            ],
            [
             0.8,
             "#7fbc41"
            ],
            [
             0.9,
             "#4d9221"
            ],
            [
             1,
             "#276419"
            ]
           ],
           "sequential": [
            [
             0,
             "#0d0887"
            ],
            [
             0.1111111111111111,
             "#46039f"
            ],
            [
             0.2222222222222222,
             "#7201a8"
            ],
            [
             0.3333333333333333,
             "#9c179e"
            ],
            [
             0.4444444444444444,
             "#bd3786"
            ],
            [
             0.5555555555555556,
             "#d8576b"
            ],
            [
             0.6666666666666666,
             "#ed7953"
            ],
            [
             0.7777777777777778,
             "#fb9f3a"
            ],
            [
             0.8888888888888888,
             "#fdca26"
            ],
            [
             1,
             "#f0f921"
            ]
           ],
           "sequentialminus": [
            [
             0,
             "#0d0887"
            ],
            [
             0.1111111111111111,
             "#46039f"
            ],
            [
             0.2222222222222222,
             "#7201a8"
            ],
            [
             0.3333333333333333,
             "#9c179e"
            ],
            [
             0.4444444444444444,
             "#bd3786"
            ],
            [
             0.5555555555555556,
             "#d8576b"
            ],
            [
             0.6666666666666666,
             "#ed7953"
            ],
            [
             0.7777777777777778,
             "#fb9f3a"
            ],
            [
             0.8888888888888888,
             "#fdca26"
            ],
            [
             1,
             "#f0f921"
            ]
           ]
          },
          "colorway": [
           "#636efa",
           "#EF553B",
           "#00cc96",
           "#ab63fa",
           "#FFA15A",
           "#19d3f3",
           "#FF6692",
           "#B6E880",
           "#FF97FF",
           "#FECB52"
          ],
          "font": {
           "color": "#2a3f5f"
          },
          "geo": {
           "bgcolor": "white",
           "lakecolor": "white",
           "landcolor": "#E5ECF6",
           "showlakes": true,
           "showland": true,
           "subunitcolor": "white"
          },
          "hoverlabel": {
           "align": "left"
          },
          "hovermode": "closest",
          "mapbox": {
           "style": "light"
          },
          "paper_bgcolor": "white",
          "plot_bgcolor": "#E5ECF6",
          "polar": {
           "angularaxis": {
            "gridcolor": "white",
            "linecolor": "white",
            "ticks": ""
           },
           "bgcolor": "#E5ECF6",
           "radialaxis": {
            "gridcolor": "white",
            "linecolor": "white",
            "ticks": ""
           }
          },
          "scene": {
           "xaxis": {
            "backgroundcolor": "#E5ECF6",
            "gridcolor": "white",
            "gridwidth": 2,
            "linecolor": "white",
            "showbackground": true,
            "ticks": "",
            "zerolinecolor": "white"
           },
           "yaxis": {
            "backgroundcolor": "#E5ECF6",
            "gridcolor": "white",
            "gridwidth": 2,
            "linecolor": "white",
            "showbackground": true,
            "ticks": "",
            "zerolinecolor": "white"
           },
           "zaxis": {
            "backgroundcolor": "#E5ECF6",
            "gridcolor": "white",
            "gridwidth": 2,
            "linecolor": "white",
            "showbackground": true,
            "ticks": "",
            "zerolinecolor": "white"
           }
          },
          "shapedefaults": {
           "line": {
            "color": "#2a3f5f"
           }
          },
          "ternary": {
           "aaxis": {
            "gridcolor": "white",
            "linecolor": "white",
            "ticks": ""
           },
           "baxis": {
            "gridcolor": "white",
            "linecolor": "white",
            "ticks": ""
           },
           "bgcolor": "#E5ECF6",
           "caxis": {
            "gridcolor": "white",
            "linecolor": "white",
            "ticks": ""
           }
          },
          "title": {
           "x": 0.05
          },
          "xaxis": {
           "automargin": true,
           "gridcolor": "white",
           "linecolor": "white",
           "ticks": "",
           "title": {
            "standoff": 15
           },
           "zerolinecolor": "white",
           "zerolinewidth": 2
          },
          "yaxis": {
           "automargin": true,
           "gridcolor": "white",
           "linecolor": "white",
           "ticks": "",
           "title": {
            "standoff": 15
           },
           "zerolinecolor": "white",
           "zerolinewidth": 2
          }
         }
        },
        "title": {
         "text": "Successful people in different countries"
        }
       }
      }
     },
     "metadata": {},
     "output_type": "display_data"
    }
   ],
   "source": [
    "fig = go.Figure(data = [go.Pie(labels = df.country, values = df.country.value_counts(), hole = 0.5)])\n",
    "fig.update_layout(\n",
    "    title_text=\"Successful people in different countries\",\n",
    "    annotations=[dict(text='country', x=0.5, y=0.5, font_size=20, showarrow=False)])\n",
    "fig.show()"
   ]
  },
  {
   "cell_type": "code",
   "execution_count": 1442,
   "metadata": {},
   "outputs": [
    {
     "data": {
      "image/png": "[encoded data removed]",
      "text/plain": [
       "<Figure size 432x288 with 1 Axes>"
      ]
     },
     "metadata": {
      "needs_background": "light"
     },
     "output_type": "display_data"
    }
   ],
   "source": [
    "df.Education.value_counts().head(10).plot(kind = 'bar');"
   ]
  },
  {
   "cell_type": "code",
   "execution_count": 1443,
   "metadata": {},
   "outputs": [
    {
     "data": {
      "application/vnd.plotly.v1+json": {
       "config": {
        "plotlyServerURL": "https://plot.ly"
       },
       "data": [
        {
         "hole": 0.5,
         "labels": [
          "Campbell Hall School and New York University ",
          "Fiorello H. LaGuardia High School",
          "Smyrna's Campbell High School",
          "Holton-Arms School, Northwestern University",
          " University of Southern California's School of Cinema-Television",
          "Miami Dade Community College, Royal Academy of Dramatic Art in London",
          "Tracey Ullman - Italia Conti Academy and Allan McKeown - Beal Grammar school in Ilford"
         ],
         "type": "pie",
         "values": [
          8,
          8,
          8,
          7,
          6,
          5,
          5,
          5,
          5,
          5
         ]
        }
       ],
       "layout": {
        "annotations": [
         {
          "font": {
           "size": 20
          },
          "showarrow": false,
          "text": "Institutions",
          "x": 0.5,
          "y": 0.5
         }
        ],
        "template": {
         "data": {
          "bar": [
           {
            "error_x": {
             "color": "#2a3f5f"
            },
            "error_y": {
             "color": "#2a3f5f"
            },
            "marker": {
             "line": {
              "color": "#E5ECF6",
              "width": 0.5
             },
             "pattern": {
              "fillmode": "overlay",
              "size": 10,
              "solidity": 0.2
             }
            },
            "type": "bar"
           }
          ],
          "barpolar": [
           {
            "marker": {
             "line": {
              "color": "#E5ECF6",
              "width": 0.5
             },
             "pattern": {
              "fillmode": "overlay",
              "size": 10,
              "solidity": 0.2
             }
            },
            "type": "barpolar"
           }
          ],
          "carpet": [
           {
            "aaxis": {
             "endlinecolor": "#2a3f5f",
             "gridcolor": "white",
             "linecolor": "white",
             "minorgridcolor": "white",
             "startlinecolor": "#2a3f5f"
            },
            "baxis": {
             "endlinecolor": "#2a3f5f",
             "gridcolor": "white",
             "linecolor": "white",
             "minorgridcolor": "white",
             "startlinecolor": "#2a3f5f"
            },
            "type": "carpet"
           }
          ],
          "choropleth": [
           {
            "colorbar": {
             "outlinewidth": 0,
             "ticks": ""
            },
            "type": "choropleth"
           }
          ],
          "contour": [
           {
            "colorbar": {
             "outlinewidth": 0,
             "ticks": ""
            },
            "colorscale": [
             [
              0,
              "#0d0887"
             ],
             [
              0.1111111111111111,
              "#46039f"
             ],
             [
              0.2222222222222222,
              "#7201a8"
             ],
             [
              0.3333333333333333,
              "#9c179e"
             ],
             [
              0.4444444444444444,
              "#bd3786"
             ],
             [
              0.5555555555555556,
              "#d8576b"
             ],
             [
              0.6666666666666666,
              "#ed7953"
             ],
             [
              0.7777777777777778,
              "#fb9f3a"
             ],
             [
              0.8888888888888888,
              "#fdca26"
             ],
             [
              1,
              "#f0f921"
             ]
            ],
            "type": "contour"
           }
          ],
          "contourcarpet": [
           {
            "colorbar": {
             "outlinewidth": 0,
             "ticks": ""
            },
            "type": "contourcarpet"
           }
          ],
          "heatmap": [
           {
            "colorbar": {
             "outlinewidth": 0,
             "ticks": ""
            },
            "colorscale": [
             [
              0,
              "#0d0887"
             ],
             [
              0.1111111111111111,
              "#46039f"
             ],
             [
              0.2222222222222222,
              "#7201a8"
             ],
             [
              0.3333333333333333,
              "#9c179e"
             ],
             [
              0.4444444444444444,
              "#bd3786"
             ],
             [
              0.5555555555555556,
              "#d8576b"
             ],
             [
              0.6666666666666666,
              "#ed7953"
             ],
             [
              0.7777777777777778,
              "#fb9f3a"
             ],
             [
              0.8888888888888888,
              "#fdca26"
             ],
             [
              1,
              "#f0f921"
             ]
            ],
            "type": "heatmap"
           }
          ],
          "heatmapgl": [
           {
            "colorbar": {
             "outlinewidth": 0,
             "ticks": ""
            },
            "colorscale": [
             [
              0,
              "#0d0887"
             ],
             [
              0.1111111111111111,
              "#46039f"
             ],
             [
              0.2222222222222222,
              "#7201a8"
             ],
             [
              0.3333333333333333,
              "#9c179e"
             ],
             [
              0.4444444444444444,
              "#bd3786"
             ],
             [
              0.5555555555555556,
              "#d8576b"
             ],
             [
              0.6666666666666666,
              "#ed7953"
             ],
             [
              0.7777777777777778,
              "#fb9f3a"
             ],
             [
              0.8888888888888888,
              "#fdca26"
             ],
             [
              1,
              "#f0f921"
             ]
            ],
            "type": "heatmapgl"
           }
          ],
          "histogram": [
           {
            "marker": {
             "pattern": {
              "fillmode": "overlay",
              "size": 10,
              "solidity": 0.2
             }
            },
            "type": "histogram"
           }
          ],
          "histogram2d": [
           {
            "colorbar": {
             "outlinewidth": 0,
             "ticks": ""
            },
            "colorscale": [
             [
              0,
              "#0d0887"
             ],
             [
              0.1111111111111111,
              "#46039f"
             ],
             [
              0.2222222222222222,
              "#7201a8"
             ],
             [
              0.3333333333333333,
              "#9c179e"
             ],
             [
              0.4444444444444444,
              "#bd3786"
             ],
             [
              0.5555555555555556,
              "#d8576b"
             ],
             [
              0.6666666666666666,
              "#ed7953"
             ],
             [
              0.7777777777777778,
              "#fb9f3a"
             ],
             [
              0.8888888888888888,
              "#fdca26"
             ],
             [
              1,
              "#f0f921"
             ]
            ],
            "type": "histogram2d"
           }
          ],
          "histogram2dcontour": [
           {
            "colorbar": {
             "outlinewidth": 0,
             "ticks": ""
            },
            "colorscale": [
             [
              0,
              "#0d0887"
             ],
             [
              0.1111111111111111,
              "#46039f"
             ],
             [
              0.2222222222222222,
              "#7201a8"
             ],
             [
              0.3333333333333333,
              "#9c179e"
             ],
             [
              0.4444444444444444,
              "#bd3786"
             ],
             [
              0.5555555555555556,
              "#d8576b"
             ],
             [
              0.6666666666666666,
              "#ed7953"
             ],
             [
              0.7777777777777778,
              "#fb9f3a"
             ],
             [
              0.8888888888888888,
              "#fdca26"
             ],
             [
              1,
              "#f0f921"
             ]
            ],
            "type": "histogram2dcontour"
           }
          ],
          "mesh3d": [
           {
            "colorbar": {
             "outlinewidth": 0,
             "ticks": ""
            },
            "type": "mesh3d"
           }
          ],
          "parcoords": [
           {
            "line": {
             "colorbar": {
              "outlinewidth": 0,
              "ticks": ""
             }
            },
            "type": "parcoords"
           }
          ],
          "pie": [
           {
            "automargin": true,
            "type": "pie"
           }
          ],
          "scatter": [
           {
            "fillpattern": {
             "fillmode": "overlay",
             "size": 10,
             "solidity": 0.2
            },
            "type": "scatter"
           }
          ],
          "scatter3d": [
           {
            "line": {
             "colorbar": {
              "outlinewidth": 0,
              "ticks": ""
             }
            },
            "marker": {
             "colorbar": {
              "outlinewidth": 0,
              "ticks": ""
             }
            },
            "type": "scatter3d"
           }
          ],
          "scattercarpet": [
           {
            "marker": {
             "colorbar": {
              "outlinewidth": 0,
              "ticks": ""
             }
            },
            "type": "scattercarpet"
           }
          ],
          "scattergeo": [
           {
            "marker": {
             "colorbar": {
              "outlinewidth": 0,
              "ticks": ""
             }
            },
            "type": "scattergeo"
           }
          ],
          "scattergl": [
           {
            "marker": {
             "colorbar": {
              "outlinewidth": 0,
              "ticks": ""
             }
            },
            "type": "scattergl"
           }
          ],
          "scattermapbox": [
           {
            "marker": {
             "colorbar": {
              "outlinewidth": 0,
              "ticks": ""
             }
            },
            "type": "scattermapbox"
           }
          ],
          "scatterpolar": [
           {
            "marker": {
             "colorbar": {
              "outlinewidth": 0,
              "ticks": ""
             }
            },
            "type": "scatterpolar"
           }
          ],
          "scatterpolargl": [
           {
            "marker": {
             "colorbar": {
              "outlinewidth": 0,
              "ticks": ""
             }
            },
            "type": "scatterpolargl"
           }
          ],
          "scatterternary": [
           {
            "marker": {
             "colorbar": {
              "outlinewidth": 0,
              "ticks": ""
             }
            },
            "type": "scatterternary"
           }
          ],
          "surface": [
           {
            "colorbar": {
             "outlinewidth": 0,
             "ticks": ""
            },
            "colorscale": [
             [
              0,
              "#0d0887"
             ],
             [
              0.1111111111111111,
              "#46039f"
             ],
             [
              0.2222222222222222,
              "#7201a8"
             ],
             [
              0.3333333333333333,
              "#9c179e"
             ],
             [
              0.4444444444444444,
              "#bd3786"
             ],
             [
              0.5555555555555556,
              "#d8576b"
             ],
             [
              0.6666666666666666,
              "#ed7953"
             ],
             [
              0.7777777777777778,
              "#fb9f3a"
             ],
             [
              0.8888888888888888,
              "#fdca26"
             ],
             [
              1,
              "#f0f921"
             ]
            ],
            "type": "surface"
           }
          ],
          "table": [
           {
            "cells": {
             "fill": {
              "color": "#EBF0F8"
             },
             "line": {
              "color": "white"
             }
            },
            "header": {
             "fill": {
              "color": "#C8D4E3"
             },
             "line": {
              "color": "white"
             }
            },
            "type": "table"
           }
          ]
         },
         "layout": {
          "annotationdefaults": {
           "arrowcolor": "#2a3f5f",
           "arrowhead": 0,
           "arrowwidth": 1
          },
          "autotypenumbers": "strict",
          "coloraxis": {
           "colorbar": {
            "outlinewidth": 0,
            "ticks": ""
           }
          },
          "colorscale": {
           "diverging": [
            [
             0,
             "#8e0152"
            ],
            [
             0.1,
             "#c51b7d"
            ],
            [
             0.2,
             "#de77ae"
            ],
            [
             0.3,
             "#f1b6da"
            ],
            [
             0.4,
             "#fde0ef"
            ],
            [
             0.5,
             "#f7f7f7"
            ],
            [
             0.6,
             "#e6f5d0"
            ],
            [
             0.7,
             "#b8e186"
            ],
            [
             0.8,
             "#7fbc41"
            ],
            [
             0.9,
             "#4d9221"
            ],
            [
             1,
             "#276419"
            ]
           ],
           "sequential": [
            [
             0,
             "#0d0887"
            ],
            [
             0.1111111111111111,
             "#46039f"
            ],
            [
             0.2222222222222222,
             "#7201a8"
            ],
            [
             0.3333333333333333,
             "#9c179e"
            ],
            [
             0.4444444444444444,
             "#bd3786"
            ],
            [
             0.5555555555555556,
             "#d8576b"
            ],
            [
             0.6666666666666666,
             "#ed7953"
            ],
            [
             0.7777777777777778,
             "#fb9f3a"
            ],
            [
             0.8888888888888888,
             "#fdca26"
            ],
            [
             1,
             "#f0f921"
            ]
           ],
           "sequentialminus": [
            [
             0,
             "#0d0887"
            ],
            [
             0.1111111111111111,
             "#46039f"
            ],
            [
             0.2222222222222222,
             "#7201a8"
            ],
            [
             0.3333333333333333,
             "#9c179e"
            ],
            [
             0.4444444444444444,
             "#bd3786"
            ],
            [
             0.5555555555555556,
             "#d8576b"
            ],
            [
             0.6666666666666666,
             "#ed7953"
            ],
            [
             0.7777777777777778,
             "#fb9f3a"
            ],
            [
             0.8888888888888888,
             "#fdca26"
            ],
            [
             1,
             "#f0f921"
            ]
           ]
          },
          "colorway": [
           "#636efa",
           "#EF553B",
           "#00cc96",
           "#ab63fa",
           "#FFA15A",
           "#19d3f3",
           "#FF6692",
           "#B6E880",
           "#FF97FF",
           "#FECB52"
          ],
          "font": {
           "color": "#2a3f5f"
          },
          "geo": {
           "bgcolor": "white",
           "lakecolor": "white",
           "landcolor": "#E5ECF6",
           "showlakes": true,
           "showland": true,
           "subunitcolor": "white"
          },
          "hoverlabel": {
           "align": "left"
          },
          "hovermode": "closest",
          "mapbox": {
           "style": "light"
          },
          "paper_bgcolor": "white",
          "plot_bgcolor": "#E5ECF6",
          "polar": {
           "angularaxis": {
            "gridcolor": "white",
            "linecolor": "white",
            "ticks": ""
           },
           "bgcolor": "#E5ECF6",
           "radialaxis": {
            "gridcolor": "white",
            "linecolor": "white",
            "ticks": ""
           }
          },
          "scene": {
           "xaxis": {
            "backgroundcolor": "#E5ECF6",
            "gridcolor": "white",
            "gridwidth": 2,
            "linecolor": "white",
            "showbackground": true,
            "ticks": "",
            "zerolinecolor": "white"
           },
           "yaxis": {
            "backgroundcolor": "#E5ECF6",
            "gridcolor": "white",
            "gridwidth": 2,
            "linecolor": "white",
            "showbackground": true,
            "ticks": "",
            "zerolinecolor": "white"
           },
           "zaxis": {
            "backgroundcolor": "#E5ECF6",
            "gridcolor": "white",
            "gridwidth": 2,
            "linecolor": "white",
            "showbackground": true,
            "ticks": "",
            "zerolinecolor": "white"
           }
          },
          "shapedefaults": {
           "line": {
            "color": "#2a3f5f"
           }
          },
          "ternary": {
           "aaxis": {
            "gridcolor": "white",
            "linecolor": "white",
            "ticks": ""
           },
           "baxis": {
            "gridcolor": "white",
            "linecolor": "white",
            "ticks": ""
           },
           "bgcolor": "#E5ECF6",
           "caxis": {
            "gridcolor": "white",
            "linecolor": "white",
            "ticks": ""
           }
          },
          "title": {
           "x": 0.05
          },
          "xaxis": {
           "automargin": true,
           "gridcolor": "white",
           "linecolor": "white",
           "ticks": "",
           "title": {
            "standoff": 15
           },
           "zerolinecolor": "white",
           "zerolinewidth": 2
          },
          "yaxis": {
           "automargin": true,
           "gridcolor": "white",
           "linecolor": "white",
           "ticks": "",
           "title": {
            "standoff": 15
           },
           "zerolinecolor": "white",
           "zerolinewidth": 2
          }
         }
        },
        "title": {
         "text": "Successful people in top institutions"
        }
       }
      }
     },
     "metadata": {},
     "output_type": "display_data"
    }
   ],
   "source": [
    "fig = go.Figure(data = [go.Pie(labels = df.Education.head(10).dropna(), values = df.Education.value_counts().head(10).dropna(), hole = 0.5)])\n",
    "fig.update_layout(\n",
    "    title_text=\"Successful people in top institutions\",\n",
    "    annotations=[dict(text='Institutions', x=0.5, y=0.5, font_size=20, showarrow=False)])\n",
    "fig.show()"
   ]
  },
  {
   "cell_type": "code",
   "execution_count": 1444,
   "metadata": {},
   "outputs": [
    {
     "data": {
      "text/plain": [
       "array(['United states', 'United kingdom', 'South africa', 'Spain',\n",
       "       'Italy', 'Australia', 'India', 'Canada', 'New zealand', 'France',\n",
       "       'Japan', 'China', 'Germany', 'Switzerland', 'Brazil', 'Russia',\n",
       "       'Ireland'], dtype=object)"
      ]
     },
     "execution_count": 1444,
     "metadata": {},
     "output_type": "execute_result"
    }
   ],
   "source": [
    "df.dropna().country.unique()"
   ]
  },
  {
   "cell_type": "code",
   "execution_count": 1445,
   "metadata": {},
   "outputs": [
    {
     "data": {
      "text/plain": [
       "Syracuse University                            8\n",
       "University of Southern California              7\n",
       "Stanford University                            6\n",
       "New York University                            5\n",
       "Arizona State University                       5\n",
       "                                              ..\n",
       "Yale University, Wharton School of Business    1\n",
       "Rice University and University of Houston      1\n",
       "Osseo-Fairchild High School                    1\n",
       "Dickinson College                              1\n",
       "Eastern Hills High School                      1\n",
       "Name: Education, Length: 676, dtype: int64"
      ]
     },
     "execution_count": 1445,
     "metadata": {},
     "output_type": "execute_result"
    }
   ],
   "source": [
    "df[df.country == 'United states'].Education.value_counts()"
   ]
  },
  {
   "cell_type": "code",
   "execution_count": 1446,
   "metadata": {},
   "outputs": [
    {
     "data": {
      "text/plain": [
       "{'United states': 'Syracuse University',\n",
       " 'United kingdom': 'University College London',\n",
       " 'France': 'Ecole Polytechnique (Bachelor of Arts & Science)',\n",
       " 'Brazil': 'The University of Texas at Austin, Universidade Federal do Rio de Janeiro',\n",
       " 'South africa': 'National School of the Arts',\n",
       " 'Spain': \"Spain's National Conservatory, Cristina Rota's New York School\",\n",
       " 'Italy': 'University of Perugia',\n",
       " 'Australia': 'University of Melbourne',\n",
       " 'India': 'BEc/Hansraj College, Jamia Millia Islamia',\n",
       " 'Canada': 'McMaster University',\n",
       " 'New zealand': 'Victoria University of Wellington',\n",
       " 'Japan': 'Seiryo High School',\n",
       " 'Germany': 'Hurtwood House school',\n",
       " 'China': 'Shenzhen University',\n",
       " 'Switzerland': 'University of St. Gallen ',\n",
       " 'Russia': 'Kuibyshev Civil Engineering Institute',\n",
       " 'Ireland': 'Imperial College London',\n",
       " 'Belgium': ''}"
      ]
     },
     "execution_count": 1446,
     "metadata": {},
     "output_type": "execute_result"
    }
   ],
   "source": [
    "country_wise_college = {}\n",
    "for country in df.country.dropna().unique() : \n",
    "    trimmed_df = df[df.country == country].dropna()\n",
    "    country_wise_college[country] = {}\n",
    "    for i in range(len(trimmed_df)) : \n",
    "        if trimmed_df.Education.iloc[i] not in country_wise_college[country].keys() : \n",
    "            country_wise_college[country][trimmed_df.Education.iloc[i]] = 1 \n",
    "        else : \n",
    "            country_wise_college[country][trimmed_df.Education.iloc[i]] += 1 \n",
    "\n",
    "country_wise_top_college = {}\n",
    "for country in country_wise_college.keys() : \n",
    "    country_wise_top_college[country] = ''\n",
    "    top_college, max_count = '', 0\n",
    "    for college in country_wise_college[country].keys() : \n",
    "        if country_wise_college[country][college] > max_count : \n",
    "            max_count = country_wise_college[country][college]\n",
    "            top_college = college \n",
    "\n",
    "    country_wise_top_college[country] = top_college\n",
    "country_wise_top_college"
   ]
  },
  {
   "cell_type": "code",
   "execution_count": 1447,
   "metadata": {},
   "outputs": [
    {
     "name": "stderr",
     "output_type": "stream",
     "text": [
      "C:\\Users\\Computer\\AppData\\Local\\Packages\\PythonSoftwareFoundation.Python.3.7_qbz5n2kfra8p0\\LocalCache\\local-packages\\Python37\\site-packages\\pandas\\core\\indexing.py:1732: SettingWithCopyWarning:\n",
      "\n",
      "\n",
      "A value is trying to be set on a copy of a slice from a DataFrame\n",
      "\n",
      "See the caveats in the documentation: https://pandas.pydata.org/pandas-docs/stable/user_guide/indexing.html#returning-a-view-versus-a-copy\n",
      "\n"
     ]
    }
   ],
   "source": [
    "for i in range(len(df)) : \n",
    "    if df.Education.isnull()[i] and not df.country.isnull()[i]: \n",
    "        df.Education.iloc[i] = country_wise_top_college[df.country.iloc[i]]"
   ]
  },
  {
   "cell_type": "code",
   "execution_count": 1448,
   "metadata": {},
   "outputs": [
    {
     "data": {
      "text/plain": [
       "{'Campbell Hall School and New York University ': 'United states',\n",
       " 'Fiorello H. LaGuardia High School': 'United states',\n",
       " \"Smyrna's Campbell High School\": 'United states',\n",
       " 'Holton-Arms School, Northwestern University': 'United states',\n",
       " \" University of Southern California's School of Cinema-Television\": 'United states',\n",
       " 'Miami Dade Community College, Royal Academy of Dramatic Art in London': 'United states',\n",
       " 'Tracey Ullman - Italia Conti Academy and Allan McKeown - Beal Grammar school in Ilford': 'United kingdom',\n",
       " 'Ecole Polytechnique (Bachelor of Arts & Science)': 'France',\n",
       " 'Syracuse University': 'United states',\n",
       " 'The University of Texas at Austin, Universidade Federal do Rio de Janeiro': 'Brazil',\n",
       " 'Colegio Marymount': 'United states',\n",
       " 'Heritage Elementary School and Options for Youth Charter Schools': 'United states',\n",
       " 'Beverly Hills High School': 'United states',\n",
       " 'Fairfax High School': 'United states',\n",
       " 'Menomonee Falls High School ': 'United states',\n",
       " ' Institut Catholique de Paris': 'France',\n",
       " \"Professional Children's School \": 'United states',\n",
       " 'Kammerer Middle School': 'United states',\n",
       " 'Unknown': 'United states',\n",
       " 'London Academy of Music and Dramatic Art': 'United states',\n",
       " 'Vassar College': 'United states',\n",
       " ' Victorian College of the Arts,  Australian Theatre for Young People,  Phillip Street Theatre': 'United states',\n",
       " 'National School of the Arts': 'South africa',\n",
       " 'Boston University (drop out)': 'United states',\n",
       " ' Long Beach Polytechnic High School': 'United states',\n",
       " 'Redroofs Theatre School': 'United kingdom',\n",
       " 'Hollywood High School,Dwight Morrow High School': 'United states',\n",
       " 'Universidad Iberoamericanafg': nan,\n",
       " 'Golden West College, Fountain Valley High School': 'United states',\n",
       " 'Stanford University': 'United states',\n",
       " ' Trinity University': 'United states',\n",
       " ' London Academy of Music and Dramatic Art ': nan,\n",
       " 'Camden County Community College (New Jersey)': nan,\n",
       " ' Mount Vernon College in Washington, D.C.': 'United states',\n",
       " 'Webber Douglas School of Singing and Dramatic Art, South Hampstead High School': 'United kingdom',\n",
       " 'Washington College': 'United states',\n",
       " 'Arts Educational School': 'United kingdom',\n",
       " 'Cuyahoga Community College,Bedford High School': 'United states',\n",
       " 'education by correspondence': 'United states',\n",
       " 'UCLA & Loyola Marymount University': 'United states',\n",
       " 'Burbank High School ': 'United states',\n",
       " 'Rutgers University,  Mason Gross School of the Arts, A.C. Flora High School': 'United states',\n",
       " 'Barnard College, Hunter College High School': 'United states',\n",
       " 'Hunter College': 'United states',\n",
       " 'Saegertown High School, Edinboro University': 'United states',\n",
       " 'La Jolla High School, Taft High School ': 'United states',\n",
       " 'Brown University, Headington School, Oxford': 'United kingdom',\n",
       " 'University of California, Los Angeles': 'United states',\n",
       " 'Homeschool': 'United states',\n",
       " 'Birmingham High School': 'United states',\n",
       " \"Spain's National Conservatory, Cristina Rota's New York School\": 'Spain',\n",
       " 'Harvard University': 'United states',\n",
       " 'Park School': 'United states',\n",
       " 'University College London': 'United kingdom',\n",
       " 'Boston University, Frankfurt American High School': 'United kingdom',\n",
       " 'Edison High School, Catholic University of America': 'United states',\n",
       " 'New College of Speech and Drama': 'United kingdom',\n",
       " 'George S. Patton Continuation School': 'United states',\n",
       " 'Brondesbury and Kilburn High School': 'United kingdom',\n",
       " 'University of California Los Angeles': 'United states',\n",
       " 'De Anza College': 'United states',\n",
       " ' London Academy of Music and Dramatic Art': 'United kingdom',\n",
       " 'High school diploma (Home School)': 'United states',\n",
       " 'Patrick Henry High School, San Diego Mesa College, San Francisco State University ': 'United states',\n",
       " 'Santa Catalina School for Girls, University of California, Berkeley,   Crystal Springs Uplands School': nan,\n",
       " 'University of Perugia': 'Italy',\n",
       " 'Marymount College, Garden City High School': 'United states',\n",
       " 'Bard College': 'United states',\n",
       " 'Northfield Mount Hermon School': 'United states',\n",
       " 'University of New Mexico': 'United states',\n",
       " 'Pine Crest School, North Broward Preparatory School': 'United states',\n",
       " 'University of Melbourne': 'Australia',\n",
       " 'Washington Irving High School': 'United states',\n",
       " 'New York University': 'United states',\n",
       " 'Yale School of Drama, Vassar College': 'United states',\n",
       " 'The Arts Educational Schools ': 'United kingdom',\n",
       " 'University of Virginia ': 'United states',\n",
       " 'University of Texas at Austin': 'United states',\n",
       " ' Boston University, Edward R. Murrow High School': 'United states',\n",
       " 'Harvard University ': 'United states',\n",
       " 'Ohio State University': 'United states',\n",
       " 'Professional School of Actors in California': 'United states',\n",
       " 'Everett High School': 'United states',\n",
       " 'Denison University': 'United states',\n",
       " 'Madame Subilia': 'United states',\n",
       " 'Burroughs High School': 'United states',\n",
       " 'American Academy of Dramatic Arts': 'United states',\n",
       " 'Royal Academy of Dance': nan,\n",
       " 'State University of New York at Purchase': 'United states',\n",
       " 'Boston University, New England College': 'United states',\n",
       " 'Santa Monica College Prep School': 'United states',\n",
       " 'Clarke Central High School': 'United states',\n",
       " 'San Mateo High School': 'United states',\n",
       " 'BEc/Hansraj College, Jamia Millia Islamia': 'India',\n",
       " 'Franciscan Seminary, Henry Munro Middle School, Robert Hopkins Public School ': 'United states',\n",
       " 'Northern Kentucky University': 'United states',\n",
       " 'Sherwood College, Kirori Mal College, Delhi University': 'India',\n",
       " \"St Leo's Catholic College\": 'Australia',\n",
       " 'Overbrook High School of Philadelphia': 'United states',\n",
       " 'Actors Studio': 'United states',\n",
       " 'University of Miami': 'United states',\n",
       " 'Dickson College, China Academy of Drama, Nah-Hwa Primary School': nan,\n",
       " 'Seattle University': 'United states',\n",
       " 'California State University, Sacramento': 'United states',\n",
       " 'University of California, Choate Preparatory School': 'United states',\n",
       " 'University of Wisconsin–Superior, Santa Monica College': 'United states',\n",
       " 'Santa Monica High School': 'United states',\n",
       " 'Carnegie Mellon University': 'United states',\n",
       " 'York University, University of Toronto, Earl Haig Secondary School, Neighborhood Playhouse': 'Canada',\n",
       " 'Los Angeles Center for Enriched Studies': 'United states',\n",
       " 'University of Missouri, Kickapoo High School': 'United states',\n",
       " ' St. Stanislaus High School, The Scindia School, Gwalior': nan,\n",
       " 'Ripon College, Wisconsin': 'United states',\n",
       " 'University of British Columbia': 'Canada',\n",
       " 'H.R. College of Commerce and Economics, Greenlawns High School': 'India',\n",
       " 'Morehouse College': 'United states',\n",
       " 'Loft Studio Los Angeles ': 'United states',\n",
       " ' B.A. Drama & Journalism (Fordham University)': 'United states',\n",
       " 'San Clemente High School, University of California, Los Angeles': 'United states',\n",
       " 'Penns Grove High School, Montclair State University': 'United states',\n",
       " ' Stephen Leacock Collegiate Institute': 'Canada',\n",
       " 'Van Nuys High School, University of Colorado, Pratt Institute, American Academy of Dramatic Arts': 'United states',\n",
       " 'Dwight Morrow High School': nan,\n",
       " 'Royal Welsh College of Music & Drama, Royal Academy of Dramatic Art': 'United kingdom',\n",
       " 'Agincourt Collegiate Institute, Northview Heights Secondary School': 'United states',\n",
       " 'Jackson State University': 'United states',\n",
       " 'Stella Adler Studio of Acting': 'United states',\n",
       " \"The Catholic University of America, St. Sebastian's School\": 'United states',\n",
       " 'Winchester College': 'India',\n",
       " 'University of Iowa': nan,\n",
       " 'Cambridge University': 'United kingdom',\n",
       " 'Heathmont College': 'Australia',\n",
       " \"The Queen's College, Oxford, St. Bees School, Chorister School, Durham, Newcastle University\": 'United kingdom',\n",
       " 'Dropout (University of California, Los Angeles)': 'United states',\n",
       " 'Friendly High School, (Fort Washington, Maryland)': 'United states',\n",
       " 'Garden Grove High School': 'United states',\n",
       " 'Bates College, Oakland University, California Institute of the Arts': nan,\n",
       " 'City of London School, Sussex House School': 'United kingdom',\n",
       " 'Band One Secondary School, Ho Lap College': nan,\n",
       " 'University of Massachusetts Amherst ': 'United states',\n",
       " 'Temple University': 'United states',\n",
       " 'Villanova University, Germantown Academy and Georgetown University': 'United states',\n",
       " 'McGill University': 'Canada',\n",
       " 'University of Technology': 'Australia',\n",
       " 'The Harrodian School': 'United kingdom',\n",
       " 'McMaster University': 'Canada',\n",
       " 'University of the Arts, School of Visual Arts-New York': 'United states',\n",
       " 'Los Angeles Pierce College,  University of California, Los Angeles': 'United states',\n",
       " \"Harvard University, St. Mark's School of Texas, Robert E. Lee High School, Harvard College\": 'United states',\n",
       " 'Nassau Community College, Roosevelt High School': 'United states',\n",
       " 'Victoria University of Wellington': 'New zealand',\n",
       " 'Seaholm High School, Central Michigan University, Western Michigan University': 'United states',\n",
       " 'Glenville State College, Gaither High School,  Tampa Catholic High School': 'United states',\n",
       " 'State University of New York at Cortland, Ward Melville High School': 'United states',\n",
       " 'New College, Oxford, Latymer Upper School, Wetherby School': 'United kingdom',\n",
       " 'B.S. from  University of Texas at Austin': 'United states',\n",
       " 'Arizona State University': 'United states',\n",
       " \"Wilson's Grammar School \": 'United kingdom',\n",
       " 'Queens University': 'United kingdom',\n",
       " 'Yale University, Wilde Lake High School': 'United states',\n",
       " 'Cours Simon': 'France',\n",
       " 'Ramgarhia College': 'India',\n",
       " 'Northwestern University, Washington-Lee High School': 'United states',\n",
       " 'Hebert Berghof Studio, University High School': 'United states',\n",
       " 'Lee Strasberg Theatre and Film Institute': 'United states',\n",
       " 'Oratory Preparatory School, American Academy of Dramatic Arts,': nan,\n",
       " 'Thousand Oaks High School': 'United states',\n",
       " 'Ashbury College': 'United states',\n",
       " 'Loyola University of Chicago, St. Ignatius College Prep': 'United states',\n",
       " 'Hanover College, Lebanon High School': 'United states',\n",
       " 'Regina Mundi Catholic College': nan,\n",
       " ' Burnaby Central Secondary School': 'United states',\n",
       " 'George Washington University, New York University ': 'United states',\n",
       " 'Kalamazoo Central High School': 'United states',\n",
       " 'Fort Osage High School, Metropolitan Community College': 'United states',\n",
       " 'Liceo Maximo Gomez High School': nan,\n",
       " 'University of Southern California, Livermore High School': 'United states',\n",
       " 'Bolles School': 'United states',\n",
       " 'George Washington High School': 'United states',\n",
       " 'Miami Dade Community College': 'United states',\n",
       " 'Eau Gallie High School': 'United states',\n",
       " 'Cretin-Derham Hall High School': 'United states',\n",
       " 'Hillsborough High School': 'United states',\n",
       " 'Apopka High School': 'United states',\n",
       " 'Hickory High School': 'United states',\n",
       " 'Billerica Memorial High School': 'United states',\n",
       " 'Fernando Callejo High School': nan,\n",
       " ' Illinois Central College': 'United states',\n",
       " 'Jefferson Davis High School': 'United states',\n",
       " 'Cañada College': 'United states',\n",
       " 'Mount Saint Joseph High School': 'United states',\n",
       " 'San Jacinto College North': 'United states',\n",
       " 'College of Southern Nevada and Las Vegas High School': 'United states',\n",
       " 'University of Missouri': 'United states',\n",
       " 'Stony Brook University': 'United states',\n",
       " 'Lino Padron Rivera High School': 'United states',\n",
       " 'Archbishop Moeller High School': 'United states',\n",
       " 'University of Tennessee and Central High School': 'United states',\n",
       " \"Houston's academy\": nan,\n",
       " 'Spring Woods High School, San Jacinto College North ': 'United states',\n",
       " 'University of California - Santa Barbara, University of San Diego High School': 'United states',\n",
       " 'Dr. Phillips High School': 'United states',\n",
       " 'Alvin High School': nan,\n",
       " 'Rancho Bernardo High School': 'United states',\n",
       " 'Pine Bluff High School': 'United states',\n",
       " 'University of Texas in Arlington': 'United states',\n",
       " 'Seton Hall University and Trinity-Pawling School': nan,\n",
       " 'Calhoun Community College,  Alejandrino High School ': nan,\n",
       " 'Waverly High School': 'United states',\n",
       " 'Fremont High School, California State University, Long Beach': nan,\n",
       " 'Canyon High School and Rice University': nan,\n",
       " 'Thornton Fractional South High School, University of Illinois at Chicago': 'United states',\n",
       " 'Glynn Academy': 'United states',\n",
       " 'Aberdeen High School': 'United states',\n",
       " 'Georgia Institute of Technology': 'United states',\n",
       " 'Illinois State University': 'United states',\n",
       " 'Duluth High School': 'United states',\n",
       " 'Midwest City High School': 'United states',\n",
       " 'Shaw High School': 'United states',\n",
       " 'Richview Collegiate Institute': 'Canada',\n",
       " 'North Carolina State University': 'United states',\n",
       " 'University of Arkansas ': 'United states',\n",
       " 'Mississippi State University': nan,\n",
       " 'Houston High School': 'United states',\n",
       " 'University of Notre Dame, Crystal River High School': 'United states',\n",
       " 'Auburn University, Columbus High School': 'United states',\n",
       " 'Torrance High School': 'United states',\n",
       " 'University of California, Berkeley': nan,\n",
       " 'Estudia Espallat High Schoo': 'United states',\n",
       " 'Central Arkansas Christian Schools': 'United states',\n",
       " 'Great Bridge High School': 'United states',\n",
       " 'Sabino High School': 'United states',\n",
       " 'Seiryo High School': 'Japan',\n",
       " 'Highland Park High School': 'United states',\n",
       " 'University of Washington and Liberty Senior High School': 'United states',\n",
       " 'Thomas Moore College': 'United states',\n",
       " 'San Pedro Apostol High School, Barringer High School': 'United states',\n",
       " 'William S. Hart High School': 'United states',\n",
       " 'Chipola College': 'Canada',\n",
       " 'Louisiana State University': 'United states',\n",
       " 'St. Anthony High School': 'United states',\n",
       " 'University of North Carolina at Chapel Hill': 'United states',\n",
       " 'Michigan State University,  Everett High School': 'United states',\n",
       " 'East Chicago Washington High School and University of Louisville': 'United states',\n",
       " 'Duke University': 'United states',\n",
       " 'St. Vincent–St. Mary High School': 'United states',\n",
       " 'Barry University (Ed.D), University of Phoenix (MBA)': 'United states',\n",
       " 'Lower Merion High School of Philadelphia': 'United states',\n",
       " 'University of Houston': 'United states',\n",
       " 'Farragut Career Academy': 'United states',\n",
       " 'Duke University ': 'United states',\n",
       " 'Wake Forest University': 'United states',\n",
       " 'University of Texas at Austin, Montrose Christian School and Oak Hill Academy': 'United states',\n",
       " 'Hurtwood House school': 'Germany',\n",
       " 'University of Michigan': 'United states',\n",
       " 'Ulysses S. Grant High School, University of Arizona': 'United states',\n",
       " 'Oregon State University, Skyline High School': 'United states',\n",
       " 'University of California, Los Angeles and Leuzinger High School': 'United states',\n",
       " 'Simeon Career Academy, University of Memphis': 'United states',\n",
       " 'Southwest Atlanta Christian Academy': 'United states',\n",
       " 'Dropout, Marquette University, Harold L. Richards': 'United states',\n",
       " 'Georgia Institute of Technology, Lincoln High School': 'United states',\n",
       " 'Wake Forest University, West Forsyth High School': 'United states',\n",
       " 'Santa Clara University, St. Michaels University School': 'Canada',\n",
       " 'Cypress Creek High School, University of Miami': 'United states',\n",
       " 'United States Naval Academy, Osbourn Park High School': 'United states',\n",
       " 'Davidson College': 'United states',\n",
       " 'Georgetown University, Cambridge Rindge and Latin School ': 'United states',\n",
       " 'University of Michigan, Chicago Vocational Career Academy': 'United states',\n",
       " 'University of Alabama': 'United states',\n",
       " ' University of Kentucky, Schenectady High School': 'United states',\n",
       " 'Mt. Zion Christian Academy, Auburndale High School': 'United states',\n",
       " 'University of California - Los Angeles': 'United states',\n",
       " 'Georgetown University': 'United states',\n",
       " 'Louisiana Tech University': 'United states',\n",
       " 'St. Joseph Notre Dame, University of California Berkeley': 'United states',\n",
       " 'Georgetown University, Indian River High School': 'United states',\n",
       " 'Eau Claire High School': 'United states',\n",
       " 'University of Kansas, Inglewood High School': 'United states',\n",
       " 'University of Utah': 'United states',\n",
       " 'University of Texas': 'United states',\n",
       " ' University of Wisconsin-Madison, Proviso East High School': 'United states',\n",
       " 'Shenzhen University': 'China',\n",
       " 'University of Barcelona': 'Spain',\n",
       " 'University of Connecticut': 'United states',\n",
       " 'Miami University': 'United states',\n",
       " 'University of Florida': 'United states',\n",
       " 'Oklahoma Christian School, University of Oklahoma': 'United states',\n",
       " 'University of Nevada, Las Vegas, Vincennes University': 'United states',\n",
       " 'University of North Carolina at Chapel Hill, Mainland High School': 'United states',\n",
       " \"St John's University, Christ the King Regional High School\": 'United states',\n",
       " 'University of North Carolina': 'United states',\n",
       " 'University of Arkansas': 'United states',\n",
       " 'Oak Hill Academy': 'United states',\n",
       " 'University of Arizona': 'United states',\n",
       " \"Duke University, St Mary's Roman Catholic High School, Croydon, Blair Academy\": 'United kingdom',\n",
       " 'Western Carolina University': 'United states',\n",
       " 'University of Nevada at Las Vegas': 'United states',\n",
       " 'University of Illinois': 'United states',\n",
       " 'Dominguez High School': 'United states',\n",
       " 'University of Tennessee, Ballard High School': 'United states',\n",
       " 'West Virginia University': 'United states',\n",
       " 'Louisville Eastern High School, Oak Hill Academy, University of Kentucky': 'United states',\n",
       " 'University of Connecticut, Hillcrest High School ': 'United states',\n",
       " 'University of Arizona, Moon Valley High School': 'United states',\n",
       " 'University of Central Arkansas': 'United states',\n",
       " 'Pepperdine University': 'United states',\n",
       " 'Cuyahoga Community College and Virginia Union University': nan,\n",
       " 'Indiana University': 'United states',\n",
       " 'Gonzaga University, Gonzaga Preparatory School ': 'United states',\n",
       " 'University of Kentucky, Cardinal Hayes High School': 'United states',\n",
       " 'Concord High School, Trinity Valley Community College, University of Kentucky': 'United states',\n",
       " 'Indiana State University, Springs Valley High School': 'United states',\n",
       " 'Georgia Institute of Technology, Abraham Lincoln High School ': 'United states',\n",
       " 'University of Colorado': 'United states',\n",
       " 'St. Joseph High School': 'United states',\n",
       " 'Michigan State University': 'United states',\n",
       " \"Saint Joseph's University\": 'United states',\n",
       " 'University of Arkansas at Little Rock ': 'United states',\n",
       " 'University of Memphis': 'United states',\n",
       " 'University of Connecticut, Archbishop Spalding High School, Eastern Technical High School': 'United states',\n",
       " 'Bryn Mawr College': 'United states',\n",
       " 'University of Pennsylvania (B.A.), Wharton School of the University of Pennsylvania (B.S.), and Stanford Graduate School of Business (M.B.A.)': 'United states',\n",
       " 'University of Buckingham and from International Institute for Management and Development': 'Germany',\n",
       " 'University of Leiden': nan,\n",
       " ' Harvard Business School, Hobart and William Smith Colleges, Harvard University, Buckingham Browne & Nichols': 'United states',\n",
       " 'Bachelor of Arts / Science, Finch College': 'United states',\n",
       " \"St Hilda's Anglican School for Girls, University of Sydney\": 'Australia',\n",
       " 'Golden Gate University': nan,\n",
       " 'Yale University, Wharton School of Business': 'United states',\n",
       " 'University of Denver (Bachelor of Arts / Science), High School (La Pietra: Hawaii School for Girls)': 'Australia',\n",
       " 'Universidad de Santiago ': 'Spain',\n",
       " 'Radcliffe College, Stockholm University': nan,\n",
       " 'Moscow State University': 'France',\n",
       " 'Monterrey Institute of Technology': nan,\n",
       " 'Rice University and University of Houston': 'United states',\n",
       " 'High School ': 'China',\n",
       " 'University of Southern California': 'United states',\n",
       " 'University of St. Gallen ': 'Switzerland',\n",
       " 'Osseo-Fairchild High School': 'United states',\n",
       " 'University of St. Gallen, Switzerland': 'Switzerland',\n",
       " 'Northwestern University': 'United states',\n",
       " 'Santa Clara University': 'China',\n",
       " 'University of South Carolina': 'United states',\n",
       " 'Dickinson College': 'United states',\n",
       " 'King’s College': nan,\n",
       " 'University of Cambridge (1992), University of Sussex': 'China',\n",
       " ' Master of Arts, University of North Florida; Bachelor of Arts / Science, University of Florida': 'United states',\n",
       " 'Carmel College': 'United kingdom',\n",
       " \"Saint Mary's College\": 'United states',\n",
       " 'University of the Philippines': nan,\n",
       " 'University of South Carolina, George Washington University': 'United states',\n",
       " 'Pontifical Catholic University of São Paulo (PUC-SP)': 'Brazil',\n",
       " 'Harriton High School': 'United states',\n",
       " 'École Polytechnique Fédérale de Lausanne': nan,\n",
       " 'Harvard University, Stanford University, Stanford Law School, Stanford Graduate School of Business, Castilleja School': 'United states',\n",
       " 'University of Toronto (BA) and Harvard University (MBA)': nan,\n",
       " 'Beijing Forestry University': 'China',\n",
       " 'Institute Des Hautes Etudes Economiques Politiques, Geneva, BA International Economics, Smith College': 'United states',\n",
       " 'Princeton University, River Oaks Elementary School, Miami Palmetto High School': 'United states',\n",
       " 'Dropout, Harvard University': 'United states',\n",
       " 'École Polytechnique': 'France',\n",
       " 'MS Columbia University, BA/BS University of Nebraska Lincoln': 'United states',\n",
       " 'University of Michigan, Stanford University': 'United states',\n",
       " 'University of Chicago (1964–1966), University of Illinois at Urbana-Champaign (1962–1964), South Shore High School': 'United states',\n",
       " 'Civil Engineering, Universidad Nacional Autónoma de México': nan,\n",
       " 'University of Maryland, Stanford University': 'United states',\n",
       " 'Johns Hopkins University, Harvard University': 'United states',\n",
       " 'Massachusetts Institute of Technology (1963), Massachusetts Institute of Technology (1962), Deerfield Academy (1959)': 'United states',\n",
       " 'Stanford University (drop out), BEng / Institute of Chemical Technology, Mumbai': 'India',\n",
       " 'Massachusetts Institute of Technology (MIT)': 'United states',\n",
       " 'Columbia Law School (1969), University of Arkansas (1966), Columbia University, The College of Wooster': 'United states',\n",
       " 'Harvard University (1977), Stanford Graduate School of Business, Harvard College, Stanford University, Lawrence Technological University': 'United states',\n",
       " 'Cornell University': nan,\n",
       " 'Yale University': 'United states',\n",
       " 'High School Dropout': 'France',\n",
       " 'Stanford Graduate School of Business, University of Oregon, Cleveland High School': 'United states',\n",
       " 'European Schools': 'Italy',\n",
       " 'Wuhan University of Science and Technology': 'China',\n",
       " 'Dropout, Washington State University': nan,\n",
       " 'University of Cambridge': 'Canada',\n",
       " 'HEC School of Management': 'France',\n",
       " 'Columbia University, Harvard University, Moscow State University': 'United states',\n",
       " 'Worcester College, Oxford': 'United states',\n",
       " 'Kuibyshev Civil Engineering Institute': 'Russia',\n",
       " 'Imperial College London': 'Ireland',\n",
       " 'Moscow State Institute of International Relations': 'Russia',\n",
       " 'Siberian Metallurgic Institute, Russian Presidential Academy of National Economy and Public Administration': 'Russia',\n",
       " 'Princeton University, New York University School of Medicine, New York University, Far Rockaway High School': 'United states',\n",
       " 'Moscow Institute of International Relations': 'Russia',\n",
       " 'Azerbaijan State Oil Academy': 'Russia',\n",
       " 'University of Washington': 'United states',\n",
       " 'Leningrad Mechanical Institute': 'Russia',\n",
       " 'Long Island University, Harvard Business School, Harvard University': 'United states',\n",
       " 'George Washington University, Waseda University': nan,\n",
       " 'Amagasaki Industry High School': 'Japan',\n",
       " 'South China University of Technology, Shenzhen University': 'China',\n",
       " 'LLM, University of Munich': 'Germany',\n",
       " 'Yale University,  Harvard Business School, Harvard University, Abington Senior High School': 'United states',\n",
       " 'Diponegoro University': 'China',\n",
       " 'Liaoning University': 'China',\n",
       " 'Al-Azhar University': nan,\n",
       " 'University of Stockholm, Lund University': nan,\n",
       " 'University of Electronic Science and Technology of China': 'China',\n",
       " 'Gubkin Institute of Oil and Gas': 'Russia',\n",
       " 'University of Wisconsin-Eau Claire': 'United states',\n",
       " 'B.A.S. / Menlo College, M.Sc. / Syracuse University': nan,\n",
       " 'University of California - Berkeley, Princeton University, Yorktown High School': 'United states',\n",
       " 'Bachelor of Arts and Science (MIIT)': 'Russia',\n",
       " 'Diponegoro University ': 'China',\n",
       " 'Enid High School': 'United states',\n",
       " \"St. Xavier's College Calcutta\": 'India',\n",
       " 'Jamnalal Bajaj Institute of Management Studies': 'India',\n",
       " 'Plekhanov Russian University of Economics, Moscow State University': 'Russia',\n",
       " 'Yanshan University': 'China',\n",
       " 'Vienna University of Economics and Business Administration ': nan,\n",
       " 'Moscow Institute of Steel and Alloys ': 'Russia',\n",
       " 'Science, Aarhus Business School; Master of Business Administration, International Institute for Management and Development': nan,\n",
       " 'University of St. Gallen, Duke University': 'Germany',\n",
       " 'London Business School, Imperial College, & Cambridge University, Harvard Business School': nan,\n",
       " 'University of Iowa, Purdue University': 'United states',\n",
       " 'North Carolina State University, New Hanover High School': 'United states',\n",
       " 'Newcastle University': 'United kingdom',\n",
       " 'Huazhong University of Science and Technology': 'China',\n",
       " 'University of Kansas, Wichita East High School': 'United states',\n",
       " 'Lund University': nan,\n",
       " 'University at Buffalo, The State University of New York, Peking University': 'China',\n",
       " 'Washington University in St. Louis, Vanderbilt University': 'United states',\n",
       " 'University of Economics, Prague': nan,\n",
       " 'University of Miami ': 'United states',\n",
       " 'Wuhan University': nan,\n",
       " \"Pretoria Boys High School, Queen's University, More\": nan,\n",
       " 'Waseda University': 'Japan',\n",
       " 'University of Birmingham and London Business School': 'United kingdom',\n",
       " 'Columbia Business School': 'United states',\n",
       " 'University of California': 'United states',\n",
       " 'New College, Oxford, Harvard Business School': 'United states',\n",
       " 'Yonsei University and Cornell University': nan,\n",
       " 'Hitotsubashi University, Harvard University (MBA)': 'Japan',\n",
       " 'Fundação Getúlio Vargas': 'Brazil',\n",
       " 'Wenzhou Normal College': nan,\n",
       " 'B.S. in Economics (Finance) at the Wharton School of the University of Pennsylvania': nan,\n",
       " 'Princeton University and Harvard Business School': 'United states',\n",
       " 'University of Santo Tomas': nan,\n",
       " \"Harvard School of Business and University of Buffalo's School of Management\": nan,\n",
       " 'St. Gallen University': nan,\n",
       " 'National Taiwan University and Illinois Institute of Technology': nan,\n",
       " 'Lensovet Leningrad Institute of Technology': nan,\n",
       " 'Claremont Men’s College (B.A.) and University of Chicago (MBA and J.D.)': nan,\n",
       " 'University of Pennsylvania, Manlius Pebble Hill': 'United states',\n",
       " 'Texas Tech University, University of Houston': 'United states',\n",
       " 'Seoul National University': nan,\n",
       " 'Ludwig Maximilians University of Munich (Art History and Sociology)': nan,\n",
       " 'University of California, San Diego': nan,\n",
       " 'University of Chicago Law School and Duke University': nan,\n",
       " 'University of Baltimore': 'United states',\n",
       " 'Paris-Dauphine University': 'France',\n",
       " 'Gubkin Russian State University of Oil and Gas': nan,\n",
       " 'Northwestern University, Creighton University': 'United states',\n",
       " 'University of Maryland, College Park': 'United states',\n",
       " 'London School of Economics and Cambridge University': nan,\n",
       " 'San Diego State University': nan,\n",
       " 'Moscow Institute of Physics and Technology': nan,\n",
       " 'Polytechnic Institute of New York University, New York University, Missouri University of Science and Technology, Bishop DuBourg High School': 'United states',\n",
       " 'Université de Montréal': 'Canada',\n",
       " 'Kalamazoo College (Drop Out)': 'United states',\n",
       " 'Universidade de Sao Paulo and Fundacao Getulio Vargas': nan,\n",
       " 'University of Chicago School of Business in 2005': nan,\n",
       " 'Indian Institute of Technology': nan,\n",
       " 'State University of New York at New Paltz': 'United states',\n",
       " 'Swiss Federal Institute of Technology (Engineering) and INSEAD Business School (MBA)': nan,\n",
       " 'Oklahoma State University (Undergraduate and MBA)': nan,\n",
       " 'University of Manitoba and Harvard University ': nan,\n",
       " 'Williams College in Williamston': nan,\n",
       " 'Columbia University, Stony Brook University': 'United states',\n",
       " 'Trinity University': nan,\n",
       " 'University of Minnesota': nan,\n",
       " 'The Hong Kong Polytechnic University (Honorary Doctorate), University of Wisconsin-Madison (Master of Science), and The University of Hong Kong (Bachelor of Science)': nan,\n",
       " 'University of Rochester (B.S. in Psychology) and Harvard Law School (J.D.)': nan,\n",
       " 'Lehigh University': 'United states',\n",
       " 'Darthmouth College': 'United states',\n",
       " 'University of Southern California’s School of Accounting (BS and MBA)': nan,\n",
       " 'Instituto Maua de Tecnologia (BS) and Fundacao Getulio Vargas (MBA)': nan,\n",
       " 'University of Ankara and University of Albany': nan,\n",
       " 'St. John Fisher College': nan,\n",
       " 'Lake Forest College, Reed College and University of Chicago': nan,\n",
       " 'Wharton School of the University of Pennsylvania': nan,\n",
       " 'Eberhard Karls University of Tubingen and the Ludwig-Maximillians University of Munich': 'Germany',\n",
       " 'Pratt Institute': nan,\n",
       " 'B.S. Indiana University M.B.A.Columbia University': nan,\n",
       " 'University of Windsor': nan,\n",
       " 'Chongqing University of Civil Engineering and Architecture': nan,\n",
       " 'Babson College; Keio University': nan,\n",
       " 'Stanford University and Bowdoin College': nan,\n",
       " 'University of Massachusetts–Amherst BS, University of Illinois–Champaign, MA , PhD ': nan,\n",
       " 'Ball State University': 'United states',\n",
       " 'Gabelli School of Business and Fordham University': 'United states',\n",
       " 'Harvard Business School (MBA) and Dartmouth College (BA)': nan,\n",
       " 'Queens College': 'United states',\n",
       " 'The Evergreen State College, Lincoln High School, Ainsworth Elementary School': 'United states',\n",
       " 'Temple University, Central High School, Germantown High School, Mary Channing Wister School, Thomas FitzSimons High School': 'United states',\n",
       " 'BS Speech Therapy (Emerson College)': 'United states',\n",
       " 'Berklee College of Music, University of Colorado Boulder': 'United states',\n",
       " 'University of Colorado at Boulder, Heritage High School': 'United states',\n",
       " 'George Washington High School, Temple University': 'United states',\n",
       " 'Rhode Island School of Design (BFA), Kent School ': 'United states',\n",
       " 'Kent State University, James Ford Rhodes High School': 'United states',\n",
       " 'Connecticut College, Barnard College': 'United states',\n",
       " 'Carleton University': 'Canada',\n",
       " 'Hapeville High School': 'United states',\n",
       " 'Community College (BA Broadcast Journalism)': 'United states',\n",
       " 'Eastern District High School': 'United states',\n",
       " ' Florida Atlantic University, Cocoa High School': nan,\n",
       " 'Pembroke College, Cambridge': 'United kingdom',\n",
       " \"Berean Christian School (1981), Baptist University of America, The King's Academy\": 'United states',\n",
       " 'New York University, Long Beach High School': 'United states',\n",
       " 'Duke Ellington School of the Arts': 'United states',\n",
       " 'North Peel Secondary School, Chinguacousy Secondary School': 'Canada',\n",
       " 'Southwestern University': 'United states',\n",
       " 'Temple University, Great Valley High School and Pennsylvania State University': 'United states',\n",
       " 'Crossroads School ': 'United states',\n",
       " 'Ed W. Clark High School': 'United states',\n",
       " 'San Fernando High School': 'United states',\n",
       " 'University of Warwick': nan,\n",
       " 'Arlington High School': 'United states',\n",
       " 'Deer Park High School': 'United states',\n",
       " 'Cornell University, Pascack Hills High School': 'United states',\n",
       " \"Queens' College, Cambridge, Uppingham School, City College Norwich, Paston College, Cawston Primary School, University of Cambridge\": 'United kingdom',\n",
       " 'Bayard Rustin High School for the Humanities': 'United states',\n",
       " 'Bandon Grammar School, University College Cork': nan,\n",
       " 'The College of Saint Rose': 'United states',\n",
       " 'University of California-Los Angeles, Hollywood High School': 'United states',\n",
       " 'Newton North High School': 'United states',\n",
       " 'Murray Bergtraum High School, NYU Tisch School of Arts': 'United states',\n",
       " 'University of Southern California School of Dramatic Arts': 'United states',\n",
       " 'Oxford University': 'United kingdom',\n",
       " 'Penn College of Liberal and Professional Studies': 'United states',\n",
       " 'University of Wisconsin–Milwaukee, Waukesha South High School': 'United states',\n",
       " 'Lee Strasberg Theater and Film Institute': 'United states',\n",
       " 'California State University, Los Angeles (dropout)': 'United states',\n",
       " 'St. Francis Academy': 'United states',\n",
       " \"Eastbourne College, University of Sheffield, St. Bede's prep school\": 'United kingdom',\n",
       " 'DeWitt Clinton High School': 'United states',\n",
       " 'Palo Verde High School and the University of Arizona': 'United states',\n",
       " \"St.Peter's Preparatory \": nan,\n",
       " \"New York University's Stern School of Business\": 'United states',\n",
       " 'University of New South Wales ': 'Australia',\n",
       " 'Muirfield Primary School and Cumbernauld High School (drop out)': 'United states',\n",
       " 'Los Angeles Valley College': 'United states',\n",
       " 'Dean College': nan,\n",
       " 'Wayne State University': nan,\n",
       " 'Howard University, Fiorello H. LaGuardia High School of Music & Art and Performing Arts': 'United states',\n",
       " 'Terra Nova High School': 'United states',\n",
       " 'The High School of Music & Art and Tisch School of the Arts at NYU': 'United states',\n",
       " 'Grays School Media Arts College, Drama Centre London': 'United kingdom',\n",
       " 'Broadcasting Institute of Maryland': 'United states',\n",
       " 'Emerson College ': 'United states',\n",
       " 'Seton Hall University': 'United states',\n",
       " 'San Fernando Valley State College': 'United states',\n",
       " 'Harvard-Westlake School and University of California, Irvine': 'United states',\n",
       " 'Hangzhou Normal University': nan,\n",
       " 'Babson College, Harvard Business School': 'Switzerland',\n",
       " 'Harvard University (BA),Gulliver Preparatory School': 'Brazil',\n",
       " 'Fudan University (BA and MBA)': nan,\n",
       " 'University of Toronto': 'Canada',\n",
       " 'Villanova University (Drop Out)': 'United states',\n",
       " 'University of Aberdeen': 'United kingdom',\n",
       " 'University of Sao Paolo': nan,\n",
       " 'University of KwaZulu-Natal': 'South africa',\n",
       " 'Oregon State University (B.S.) and University of Missouri (M.S. and Ph.D.)': nan,\n",
       " 'University of Kentucky (BA/BS and J.D.)': nan,\n",
       " 'Academy of Physical Education and Sports of the Republic of Belarus': nan,\n",
       " 'Princeton University': 'India',\n",
       " 'Moscow International Higher Business School': 'Russia',\n",
       " 'Founder, Chairman and CEO of Cablevision Industries': nan,\n",
       " 'Pontificia Universidad Catolica de Chile': nan,\n",
       " 'Indiana University and University of Virginia (Law)': nan,\n",
       " 'Birmingham Young University': nan,\n",
       " 'Massachusetts Institute of Technology ': 'United states',\n",
       " 'University of Utah, University of New Orleans': 'United states',\n",
       " 'Columbia Law School, Columbia University': 'United states',\n",
       " 'Bocconi University, Harvard Business School, INCAE Business School': 'Italy',\n",
       " 'University of Nevada and Arizona State University': nan,\n",
       " 'Valley City State University': nan,\n",
       " 'Washington University in St. Louis': nan,\n",
       " 'University of Illinois at Urbana-Champaign': nan,\n",
       " \"University of Cape Town, Diocesan College, Rondebosch Boys' High School\": 'South africa',\n",
       " 'Harvard University (B.A.), Phillips Academy': 'United states',\n",
       " 'University of California, Santa Cruz': nan,\n",
       " 'University of Arizona, Tucson High Magnet School': 'United states',\n",
       " 'Eastern Washington University': 'Canada',\n",
       " 'Georgetown Law School, Harvard University': 'United states',\n",
       " 'Wells College': 'United states',\n",
       " 'UCLA and Wharton School': nan,\n",
       " 'University of Pennsylvania': nan,\n",
       " 'Junior High School, Secondary Modern School)': 'Germany',\n",
       " 'Northeastern University, University of Oxford, Babson College, Wellesley High School, University of Massachusetts Boston': 'United states',\n",
       " 'Stanford University ': 'United states',\n",
       " 'University of California, Los Angeles and University of South California Law School': nan,\n",
       " 'Manchester University': nan,\n",
       " 'Keio University, Springfield College and CW Post College': nan,\n",
       " 'University of Idaho': nan,\n",
       " 'Sussex University (Law) and Central St. Martins College of Arts and Design (Fashion Design)': nan,\n",
       " 'Pace University': 'United states',\n",
       " 'University of Houston and High School of Performing and Visual Arts': nan,\n",
       " 'Loyola University Law School; University of Hawaii; University of Pennsylvania': nan,\n",
       " 'Oxford Brookes University': 'United kingdom',\n",
       " 'Stanford University, Yale University, Harvard Business School, Harvard University': 'United states',\n",
       " 'Modesto Junior College': 'United states',\n",
       " 'California State University, Long Beach': 'United states',\n",
       " 'Oberlin College and Yale School of Drama': 'United states',\n",
       " 'State University of New York at Potsdam': 'United states',\n",
       " 'New York University, Weehawken High School': 'United states',\n",
       " 'Wesleyan University': 'United states',\n",
       " 'Rutgers University, John Dewey High School': 'United states',\n",
       " 'Syosset High School': 'United states',\n",
       " 'University of Southern California (1986), Eldorado High School and Stanford University': 'United states',\n",
       " 'University of Wisconsin–Madison and London Film School': 'United states',\n",
       " 'University of Southern California, Wesleyan University, Beverly Hills High School': nan,\n",
       " 'New York University, John F. Kennedy High School': 'United states',\n",
       " 'New York University Film School': 'United states',\n",
       " 'Occidental College, University of Vermont': nan,\n",
       " 'Tisch School of the Arts and New York University': 'United states',\n",
       " 'Lycee Carnot': 'France',\n",
       " 'Ashland High School': 'United states',\n",
       " 'Delia Memorial School, Hong Kong Baptist University and Beijing Film Academy': 'China',\n",
       " 'Thornleigh Salesian College and Bangor University': 'United kingdom',\n",
       " 'New York University (1978), Hampshire College': 'United states',\n",
       " 'Fanshawe College, H.B. Beal Secondary School': 'Canada',\n",
       " 'Doaba College, Jalandhar': 'India',\n",
       " 'University of Michigan–Flint (drop-out)': 'United states',\n",
       " 'Yale University and New York University': 'United states',\n",
       " ' Tisch School of the Arts': 'United states',\n",
       " 'The University of Texas at Austin': 'United states',\n",
       " 'Northwestern University, De Witt Clinton High School': 'United states',\n",
       " 'University of Southern California School of Cinematic Arts': 'United states',\n",
       " 'Birmingham Community Charter High School and Occidental College': 'United kingdom',\n",
       " 'Darien High School, The Catlin Gabel School and Rhode Island School of Design': 'United states',\n",
       " 'University of Wisconsin–Madison': 'United states',\n",
       " 'State School of Cinema in Łódź (BA Directing)': 'France',\n",
       " 'California State University, Long Beach, California State University': 'United states',\n",
       " 'San Francisco Art Institute and Columbia University': 'United states',\n",
       " 'Johns Hopkins University and Wheaton College': 'United states',\n",
       " 'Columbia University and Sarah Lawrence College': 'United states',\n",
       " 'University of California, Irvine, Corona del Mar High School': 'United states',\n",
       " 'Stanford University, Beverly Hills High School': 'United states',\n",
       " \"New York University, Calvert Hall College High School, Boys' Latin School of Maryland\": nan,\n",
       " \"Western Kentucky University and University of Southern California's School of Cinematic Arts\": 'United states',\n",
       " 'National Taiwan University of Arts': 'United states',\n",
       " 'University of Cambridge - Peterhouse, Magdalen College School': 'United kingdom',\n",
       " 'Mills College and the California Institute of the Arts': 'United states',\n",
       " 'University of Guadalajara': nan,\n",
       " 'Art Center College of Design': 'United states',\n",
       " 'Henry Hudson Regional High School': 'United states',\n",
       " 'University of Iowa, Benet Academy': 'United states',\n",
       " 'University of Essex': 'United kingdom',\n",
       " 'Francis W. Parker School, Goddard College': 'United states',\n",
       " \"St Joseph's Hasting Regional School, St Paul's College, Manly\": 'Australia',\n",
       " 'University of Maine': 'Canada',\n",
       " 'Boston University': 'United states',\n",
       " 'University of Minnesota ': 'United states',\n",
       " 'Boston College': 'United states',\n",
       " 'Collège Saint-Alexandre': 'Canada',\n",
       " 'Athol Murray College of Notre Dame': 'Canada',\n",
       " 'Canterbury High School': 'Canada',\n",
       " 'Culver Military Academy': 'United states',\n",
       " 'University of Wisconsin-Madison': 'United states',\n",
       " '1 (Aleksandra Fedorova)': 'Russia',\n",
       " 'Antoine de St-Exupéry High School': 'Canada',\n",
       " 'R. S. McLaughlin High School': 'Canada',\n",
       " 'University of Denver': 'Canada',\n",
       " 'Andy Murray Hockey School': 'Canada',\n",
       " 'Harrison Trimble High School': 'Canada',\n",
       " 'Robert Usher Collegiate': 'Canada',\n",
       " 'Algonquin College': nan,\n",
       " 'University of Wisconsin': 'United states',\n",
       " 'Béatrice-Desloges High School': 'Canada',\n",
       " 'University of Hradec Králové': nan,\n",
       " 'University of Pittsburgh': 'Canada',\n",
       " 'University of Vermont ': 'United states',\n",
       " 'University of Vermont': 'Canada',\n",
       " 'St. Thomas Aquinas Catholic Secondary School': 'Canada',\n",
       " \"Stelly's Secondary School\": 'Canada',\n",
       " 'Drop Out': 'Brazil',\n",
       " 'Drop Out, London School of Economics/Univ. College London': 'United kingdom',\n",
       " 'Canterbury Boarding School': 'United states',\n",
       " 'Northwestern University (Drop Out), DeKalb High School': 'United states',\n",
       " 'Sacred Heart University': 'United states',\n",
       " 'Immaculate Heart High School, JB Middle School ': 'United states',\n",
       " 'Le Lycée Français de Los Angeles': 'United states',\n",
       " 'Ridgeway Primary School, Riddlesdown Collegiate': 'United kingdom',\n",
       " 'Bergen Community College, Harrison High School': 'United states',\n",
       " 'Italia Conti Academy of Theatre Arts,  Barbara Speake Stage School': 'United kingdom',\n",
       " ' Blatchington Mill School': 'United kingdom',\n",
       " 'Raheja College,  DG Ruparel College (HSC), Jai Hind Colleg, Arya Vidya Mandir High School': 'India',\n",
       " 'Harriet Costello School': 'United kingdom',\n",
       " 'Malibu High School': 'United states',\n",
       " 'University of California at Santa Cruz': 'United states',\n",
       " 'Royal Ballet in London': 'Germany',\n",
       " 'California State University - Los Angeles, Alhambra High School': 'United states',\n",
       " 'Gallatin School of Individualized Study, Webster Groves High School': 'United states',\n",
       " 'Holy Trinity Episcopal Academy, University of Michigan': 'United states',\n",
       " 'Chatsworth High School in California': 'United states',\n",
       " 'Mount Royal Collegiate Institute': 'Canada',\n",
       " 'Rio Americano High Schoo': 'United states',\n",
       " 'Murray High School': 'United states',\n",
       " 'Aptos High and Monte Vista Christian School': 'United states',\n",
       " \"All Hallows' School \": 'Australia',\n",
       " 'Denis Morris Catholic High School': 'Canada',\n",
       " 'Cooper City High School': 'United states',\n",
       " 'Bedales School, Francis Holland School': 'United kingdom',\n",
       " 'Boise State University': 'United states',\n",
       " 'University of Gloucestershire': 'United kingdom',\n",
       " 'Princeton High School, Sharonville, School of Creative & Performing Arts': 'United states',\n",
       " 'Cawthra Park Secondary School': 'Canada',\n",
       " 'Hoover High School, California State University (left)': 'United states',\n",
       " 'California State University, Northridge': 'United states',\n",
       " 'BA Architecture - Sorbonne': 'France',\n",
       " 'Pittsford Mendon High School ': 'United states',\n",
       " \"King's College, Cambridge \": 'United kingdom',\n",
       " 'Cambridge University and London Business School': nan,\n",
       " 'Interamerican University of Puerto Rico ': nan,\n",
       " 'Tavistock College, Milton Abbot Primary School': 'United kingdom',\n",
       " 'Parsons School of Design (BA Photography)': 'United states',\n",
       " 'David W. Butler High School': 'United states',\n",
       " 'Pepperdine University ': 'United states',\n",
       " 'Huntington Beach High School': 'United states',\n",
       " 'Italia Conti Academy, Thomas Aveling School': 'United kingdom',\n",
       " 'Scripps College': 'United kingdom',\n",
       " 'Kapaa High School': 'United states',\n",
       " 'Trenton Central High School, George Westinghouse Career and Technical Education High School ': 'United states',\n",
       " 'Liverpool Institute, Joseph Williams Junior School, Stockton Wood Road Primary School': 'United kingdom',\n",
       " 'Royal College of Music': 'United kingdom',\n",
       " 'Howard University and Mount Saint Michael Academy': 'United states',\n",
       " 'Fremont High School': 'United states',\n",
       " 'University of Michigan, R. Adams High School': 'United states',\n",
       " 'Pinner Wood Junior School, Reddiford School, Pinner County Grammar School': 'United kingdom',\n",
       " 'University of Southern Mississippi, Pearl River Community College, McGill Institute for Boys': 'United states',\n",
       " 'London School of Economics': 'United kingdom',\n",
       " 'Dingle Vale Secondary Modern School': 'United kingdom',\n",
       " 'Freehold High School, Ocean County College': 'United states',\n",
       " 'Sidcup Art College, Dartford Technical High School': 'United kingdom',\n",
       " 'New York University (drop out)': 'United states',\n",
       " \"Abraham Lincoln High School, Juilliard School of Music's Preparatory Division for Children\": 'United states',\n",
       " 'Sayreville War Memorial High School': 'United states',\n",
       " \"Northern Counties College of Education, St Cuthbert's Grammar School\": 'United kingdom',\n",
       " 'Harvard Business School': 'United states',\n",
       " 'Shiplake College, Brown University': 'United kingdom',\n",
       " 'Regent Street Polytechnic ': 'United kingdom',\n",
       " 'Chiswick County School for Boys': 'United kingdom',\n",
       " 'North Texas State University, Stephen F. Austin State University': 'United states',\n",
       " 'Sorbonne University, Paris, St Albans School, Lancing College, Aldwickbury School ': 'United kingdom',\n",
       " 'Kingston College of Art, Hollyfield School': 'United kingdom',\n",
       " \"Oakland's Merritt Junior College\": 'United states',\n",
       " 'William Grimshaw Secondary Modern School ': 'United kingdom',\n",
       " 'Ethical Culture Fieldston School, Dalton School, Columbia University': 'United states',\n",
       " \"New York's School of Industrial Art\": 'United states',\n",
       " 'North Springs High School': 'United states',\n",
       " 'Imperial College, London': 'United kingdom',\n",
       " 'Bushey Meads School': 'United kingdom',\n",
       " 'King Edward VI Grammar School for Boys ': 'United kingdom',\n",
       " 'London Hospital Medical College, Truro Cathedral School': 'United kingdom',\n",
       " 'Danetree Secondary School': 'United kingdom',\n",
       " 'Portland State University, Trinity College ': 'United states',\n",
       " 'McGill University, Music Academy of the West, /Mannes College of Music': 'United states',\n",
       " 'Cambridge Technical College': 'United kingdom',\n",
       " 'Gartree High School, Beauchamp Grammar School': 'United kingdom',\n",
       " 'Ealing Art College, Acton County Grammar School': 'United kingdom',\n",
       " 'North Hollywood High School (1950), University of California, Los Angeles City College, Juilliard School': 'United states',\n",
       " 'Regent Street Polytechnic (now the University of Westminster)': 'United kingdom',\n",
       " 'Lincoln High School': 'United states',\n",
       " 'University of Leeds, Gosforth Grammar School': 'United kingdom',\n",
       " 'Cheshunt Secondary Modern School': 'United kingdom',\n",
       " 'San Dieguito High School (now San Dieguito Academy)': 'United states',\n",
       " 'University of Louisiana at Monroe': 'United states',\n",
       " 'Romeo High School': 'United states',\n",
       " \"Christ's College\": 'United kingdom',\n",
       " 'San Jose State University, Menlo Atherton High School': 'United states',\n",
       " 'El Camino College ': 'United states',\n",
       " 'University College London, Kent College': 'United kingdom',\n",
       " 'Peter Symonds College': 'United kingdom',\n",
       " 'LaGuardia High School': 'United states',\n",
       " 'El Cerrito High School': 'United states',\n",
       " 'Lycée Carnot': 'France',\n",
       " 'Dondero High School': 'United states',\n",
       " 'Charterhouse School, St. Andrews Prep School': 'United kingdom',\n",
       " 'Oakham School ': 'United kingdom',\n",
       " 'Northwest School': 'United states',\n",
       " 'George Westinghouse Career, Technical Education High School,': 'United states',\n",
       " 'Acton County Grammar School for Boys and Girls, Victoria Primary School': 'United kingdom',\n",
       " 'Woodbridge High School': 'United states',\n",
       " 'University of Birmingham': 'United kingdom',\n",
       " 'Winchester School of Art': 'United kingdom',\n",
       " 'Pasadena City College': 'United states',\n",
       " \"Southern Methodist University, Lawrence Academy, Gill St. Bernard's School\": 'United states',\n",
       " 'Pinole Valley High School, John Swett High School, Carquinez Middle School': 'United states',\n",
       " 'Taylor Allderdice High School': 'United states',\n",
       " 'Salesian High School, John Swett High School and Pinole Valley High School': 'United states',\n",
       " 'University of Washington, Whitworth Elementary School, Franklin High School, Sharples Junior High School': 'United states',\n",
       " 'United States Naval Academy, New Mexico Military Institute, Purcell Marian High School': 'United states',\n",
       " 'Harvard University, Brown University, Jefferson High School': 'United states',\n",
       " 'University of Tennessee': 'United states',\n",
       " 'University of Michigan, Junipero Serra High School': 'United states',\n",
       " 'Purdue University': 'United states',\n",
       " 'University of Southern California, Santa Margarita Catholic High School': 'United states',\n",
       " 'The University of Southern Mississippi': 'United states',\n",
       " 'Georgia Institute of Technology, Sandy Creek High School': 'United states',\n",
       " 'University of Notre Dame, Finleyville Middle School, Ringgold High School, Waverly Elementary': 'United states',\n",
       " ' University of Nebraska, Grant High School': 'United states',\n",
       " 'Eastern Illinois University ': 'United states',\n",
       " 'University of Delaware': 'United states',\n",
       " 'Marshall University, Florida State University': 'United states',\n",
       " 'Putnam City North High School, University of Oklahoma': 'United states',\n",
       " 'Highland Park High School and University of Georgia': 'United states',\n",
       " 'Idaho State University': 'United states',\n",
       " 'Bowling Green State University': 'Canada',\n",
       " 'University of Oregon': 'United states',\n",
       " ' University of California, Berkeley, Narbonne High School': 'United states',\n",
       " 'Mississippi Valley State University': 'United states',\n",
       " 'University of Southern California, Santa Margarita High School': 'United states',\n",
       " 'University of Pittsburgh, Valley Forge Military Academy and College': 'United states',\n",
       " 'Syracuse University, Manhasset Secondary School': 'United states',\n",
       " 'University of Northern Colorado': 'United states',\n",
       " 'University of Northern Iowa,  Regis High School': 'United states',\n",
       " 'Lake Howell High School, University of Central Florida': 'United states',\n",
       " 'Washington State University': 'United states',\n",
       " 'Florida State University, Hinds Community College, Pahokee High School': 'United states',\n",
       " 'University of Maryland, College Park, Dunbar High School ': 'United states',\n",
       " 'University of Florida, Blinn College, Auburn University': 'United states',\n",
       " 'Texas Southern University, Mannheim Christian Academy': 'United states',\n",
       " 'University of Miami, University of Maryland University College, Kathleen High School': 'United states',\n",
       " 'University of Southern California and Chatsworth High School': 'United states',\n",
       " 'Florida State University': 'United states',\n",
       " 'University of Florida-Gainesville': 'United states',\n",
       " 'University of Oklahoma': nan,\n",
       " 'Oregon State University': 'United states',\n",
       " 'University of Miami, Miami Northwestern High School': 'United states',\n",
       " 'Stanford University, Stratford High School': 'United states',\n",
       " 'Florida State University, North Fort Myers High School': 'United states',\n",
       " 'University of Alabama-Birmingham': 'United states',\n",
       " 'Brigham Young University': 'United states',\n",
       " 'Pennsylvania State University, Wilson Senior High School': 'United states',\n",
       " 'Texas Christian University': 'United states',\n",
       " 'Angleton High School, University of Texas at Austin': 'United states',\n",
       " 'University of Pittsburgh, Central Catholic High School': 'United states',\n",
       " 'Syracuse University, Mount Carmel High School': 'United states',\n",
       " 'University of Virginia': 'United states',\n",
       " 'Summerville High School, University of Georgia': 'United states',\n",
       " 'North Carolina State University, Athens High School': 'United states',\n",
       " 'Northern Illinois University': 'United states',\n",
       " 'University of Southern California, Agoura High School': 'United states',\n",
       " 'University of California-Berkeley': 'United states',\n",
       " 'University of Louisiana-Lafayette': 'United states',\n",
       " 'Virginia Polytechnic Institute and State University': 'United states',\n",
       " 'Olympia High School, East Carolina University': 'United states',\n",
       " 'University of Texas-Austin': 'United states',\n",
       " 'Vanderbilt University, Heritage Hills High School ': 'United states',\n",
       " 'Oklahoma State University': 'United states',\n",
       " 'University of Virginia, Hargrave Military Academy': 'United states',\n",
       " 'Kent State University': 'United states',\n",
       " 'University of Wisconsin–Madison, North Carolina State University': 'United states',\n",
       " 'University of Georgia': nan,\n",
       " 'Clark University, Boston University, Brandeis University': 'United states',\n",
       " 'Central School of Speech and Drama, Prior Park College': 'United kingdom',\n",
       " ' University of California, Los Angeles, University of Southern California': 'United states',\n",
       " 'Ethical Culture Fieldston School': 'United states',\n",
       " 'University of Arizona, Mumford High School': 'United states',\n",
       " 'Brooklyn College': nan,\n",
       " 'Stanford University, Harvard-Westlake School': 'United states',\n",
       " 'GCE in Sociology from Windsor Technical College': 'United kingdom',\n",
       " 'Stanford University, Columbia University, Yale University': 'United states',\n",
       " \"New York University's Tisch School of the Arts\": 'United states',\n",
       " 'University of Mumbai': 'India',\n",
       " 'University College, Toronto': 'United states',\n",
       " 'Queens College and City University of New York': 'United states',\n",
       " 'Loyola University': 'United states',\n",
       " 'Trinity College of Music': 'Japan',\n",
       " 'Boston University School of Law, Princeton University': 'United states',\n",
       " 'Worcester College, Oxford, Eton College': 'United kingdom',\n",
       " 'Pennsylvania State University': 'United states',\n",
       " 'Belfast High School': 'United kingdom',\n",
       " 'New York University and Miami Dade Community College': 'United states',\n",
       " 'Hofstra University, Clarkstown High School North': 'United states',\n",
       " 'New York University and University of Southern California': 'United states',\n",
       " 'College of William and Mary': 'United states',\n",
       " 'Chaparral High School, Las Vegas, Nevada': 'United states',\n",
       " 'Tel Aviv University': 'United states',\n",
       " 'Emerson College in Boston': 'United states',\n",
       " 'Bard College (undergraduate)': 'United states',\n",
       " 'Sarah Lawrence College, Palisades Charter High School': 'United states',\n",
       " 'University of Ulster': 'United kingdom',\n",
       " 'King Edward VII School': 'United kingdom',\n",
       " 'Hylton-Bromley School of Dance and Drama and the Perry Cowell School of Dance': 'United kingdom',\n",
       " 'Indiana University Bloomington': 'United states',\n",
       " \"St Paul's School and Oxford University\": 'United kingdom',\n",
       " 'Arizona State University, University of La Verne ': 'United states',\n",
       " ' University of Southern California, USC Law School': 'United states',\n",
       " 'Ulysses S. Grant High School': 'United states',\n",
       " 'Wake Forest University, New York University and Stanford University': 'United states',\n",
       " 'Northwestern University and Clarke University': 'United states',\n",
       " 'Clark Atlanta University': 'United states',\n",
       " 'Woodrush High School': 'United kingdom',\n",
       " 'Florida A&M University': 'United states',\n",
       " 'Case Western Reserve University School of Law, University of Rochester': 'United states',\n",
       " 'RMIT University': nan,\n",
       " 'Florida State University School of Theatre': nan,\n",
       " 'East Carolina University and University of California, Los Angeles': 'United states',\n",
       " 'Upsala College': 'United states',\n",
       " 'Emerson College, Weaver High School': 'United states',\n",
       " 'Baltimore School of the Arts and Bowie State University': 'United states',\n",
       " 'Louisiana State University Laboratory School': 'United states',\n",
       " 'Tulane University': 'United states',\n",
       " \"Chicago's American Academy of Art (drop out), Chicago State University (drop out)\": 'United states',\n",
       " 'City College of New York': 'United states',\n",
       " 'Forest Hill Collegiate Institute': 'Canada',\n",
       " 'Princess Anne High School': 'United states',\n",
       " 'University of Houston, University of Phoenix ': 'United states',\n",
       " 'Phoenix Institute of Technology': 'United states',\n",
       " 'Hillcrest High School (drop out)': 'United states',\n",
       " 'Salem High School of Virginia ': 'United states',\n",
       " ' Palisades Charter High School': 'United states',\n",
       " 'Drop Out,  Douglass High School': 'United states',\n",
       " 'Sarah Smith Elementary School, Sutton Middle School, Northside High School and Tri-Cities High School': 'United states',\n",
       " \"St. John's University, Rice High School\": 'United states',\n",
       " 'Tri-Cities High School, Herschel V. Jenkins High Schoo': 'United states',\n",
       " 'Crenshaw High School': 'United states',\n",
       " 'Luther High School South': 'United states',\n",
       " 'Georgia State University, Banneker High School': 'United states',\n",
       " 'enaissance High School for Musical Theater & Technology': 'United states',\n",
       " 'Andrew Jackson High School (drop out)': 'United states',\n",
       " 'Art Center College of Design of Pasadena, Agoura High School': 'United states',\n",
       " 'Riverside Military Academy': 'United states',\n",
       " 'Queensborough Community College': 'United states',\n",
       " 'University of Central Florida, Miami University, Fort Myers Senior High School': 'United states',\n",
       " 'University of Houston, Jersey Village High School': 'United states',\n",
       " \"Wolmer's Boys' School, College of Arts, Science, and Technology\": nan,\n",
       " 'University of Maryland, College Park, Provine High School, Southern University and A&M College': 'United states',\n",
       " 'McCluer North High School': 'United states',\n",
       " 'Harborfields High School': 'United states',\n",
       " 'Sevier County High School': 'United states',\n",
       " 'Our Lady of Lourdes Academy, University of Miami': 'United states',\n",
       " ' Alief Elsik High School, Parker Elementary School': 'United states',\n",
       " 'George Washington High School, San Francisco State University ': 'United states',\n",
       " 'City University of New York Baruch': 'United states',\n",
       " 'Erasmus Hall High School': 'United states',\n",
       " 'Timmins High and Vocational School': 'Canada',\n",
       " 'Dos Pueblos High School, Music Academy of the West ': 'United states',\n",
       " 'Fresno High School (Drop Out)': 'United states',\n",
       " 'Jeanne Sauvé Catholic School': 'Canada',\n",
       " 'Complutense University of Madrid': 'Spain',\n",
       " 'High School Diploma (Home School by Aaron Academy)': 'United states',\n",
       " \"Joseph's College \": nan,\n",
       " 'Cass Technical High School': 'United states',\n",
       " \"St. Columba's College, Melbourne\": 'Australia',\n",
       " 'Combermere High School,C.F.B Memorial 1° School': 'United states',\n",
       " 'East Tennessee State University, Gibbs High School': 'United states',\n",
       " 'University of Hawaii, Radford High School': 'United states',\n",
       " 'Auburn University': 'United states',\n",
       " 'UKDDF, St. Margaret Ward Roman Catholic School, Mill Hill Primary School': 'United kingdom',\n",
       " 'Professional Performing Arts School, Parklane Academy': 'United states',\n",
       " 'Tamkang Senior High School': nan,\n",
       " 'North Central High School': 'United states',\n",
       " 'North Allegheny Intermediate High School': 'United states',\n",
       " 'President Theodore Roosevelt High School': 'United states',\n",
       " 'Blackrock College': 'Ireland',\n",
       " 'J. J. Pearce High School': 'United states',\n",
       " 'Liberty University': 'United states',\n",
       " 'Convent Boarding School in Milford': 'Ireland',\n",
       " 'BRIT School for Performing Arts & Technology': 'United kingdom',\n",
       " 'Thomas Mills High School ': 'United kingdom',\n",
       " 'Kutz Elementary School, Lenape Middle School, Central Bucks High School West.': 'United states',\n",
       " 'Windsor Academy': 'United states',\n",
       " 'Palm Valley School and Los Angeles Conservatory of Music': 'United states',\n",
       " 'Detroit Northern High School': 'United states',\n",
       " 'The Collegiate School and Emerson College in Boston, Massachusetts': 'United states',\n",
       " 'Southeastern Oklahoma State University': 'United states',\n",
       " 'Merton College, ': 'United states',\n",
       " 'Fisher Park High School': 'Canada',\n",
       " 'Anglia Ruskin University (D.H.Sc.)': 'Australia',\n",
       " 'Riverdale Country School and Sarah Lawrence College': 'United states',\n",
       " 'An Art College in Birmingham': 'United kingdom',\n",
       " 'Belmont University, Mike Curb School of Music Business': 'United states',\n",
       " 'Irvington High School': 'United states',\n",
       " 'Milton Academy, Elon University': 'United states',\n",
       " 'Richard Montgomery High School': 'United states',\n",
       " 'Los Angeles Pierce College and California State University, Northridge': 'United states',\n",
       " 'Philadelphia High School for the Creative and Performing Arts ': 'United states',\n",
       " 'Bradenton Preparatory Academy (drop out) ': 'United kingdom',\n",
       " 'J. P. Stevens High School': nan,\n",
       " 'De La Salle Humanities College': 'United kingdom',\n",
       " 'Technical University of Lisbon and Instituto Superior de Educação Física (ISEF)': nan,\n",
       " 'Ashford University': 'Germany',\n",
       " '': 'Belgium',\n",
       " 'Colegio Batista Brasileiro': 'Brazil',\n",
       " 'Whitchurch High School': 'United kingdom',\n",
       " 'Sevilla Fútbol Club, S.A.D.': 'Spain',\n",
       " 'Blackheath Bluecoat School': 'United kingdom',\n",
       " 'CREPS - Regional Centre for Sports and Physical Education in Aix-en-Provence': 'France',\n",
       " 'Colegio San Pedro Claver de Bucaramanga': nan,\n",
       " 'Joseph Swan School': 'United kingdom',\n",
       " ...}"
      ]
     },
     "execution_count": 1448,
     "metadata": {},
     "output_type": "execute_result"
    }
   ],
   "source": [
    "education_to_country_map = {}\n",
    "\n",
    "for i in range(len(df)) : \n",
    "    if not df.Education.isnull()[i] and df.Education.iloc[i] not in education_to_country_map.keys() : \n",
    "        education_to_country_map[df.Education.iloc[i]] = df.country.iloc[i] \n",
    "        \n",
    "education_to_country_map"
   ]
  },
  {
   "cell_type": "code",
   "execution_count": 1449,
   "metadata": {},
   "outputs": [],
   "source": [
    "for i in range(len(df)) : \n",
    "    if df.country.isnull()[i] and not df.Education.isnull()[i] : \n",
    "        df.country.iloc[i] = education_to_country_map[df.Education.iloc[i]]"
   ]
  },
  {
   "cell_type": "code",
   "execution_count": 1450,
   "metadata": {},
   "outputs": [
    {
     "data": {
      "text/html": [
       "<div>\n",
       "<style scoped>\n",
       "    .dataframe tbody tr th:only-of-type {\n",
       "        vertical-align: middle;\n",
       "    }\n",
       "\n",
       "    .dataframe tbody tr th {\n",
       "        vertical-align: top;\n",
       "    }\n",
       "\n",
       "    .dataframe thead th {\n",
       "        text-align: right;\n",
       "    }\n",
       "</style>\n",
       "<table border=\"1\" class=\"dataframe\">\n",
       "  <thead>\n",
       "    <tr style=\"text-align: right;\">\n",
       "      <th></th>\n",
       "      <th>0</th>\n",
       "      <th>1</th>\n",
       "    </tr>\n",
       "  </thead>\n",
       "  <tbody>\n",
       "    <tr>\n",
       "      <th>0</th>\n",
       "      <td>$500</td>\n",
       "      <td>Million</td>\n",
       "    </tr>\n",
       "    <tr>\n",
       "      <th>1</th>\n",
       "      <td>$300</td>\n",
       "      <td>Million</td>\n",
       "    </tr>\n",
       "    <tr>\n",
       "      <th>2</th>\n",
       "      <td>$250</td>\n",
       "      <td>Million</td>\n",
       "    </tr>\n",
       "    <tr>\n",
       "      <th>3</th>\n",
       "      <td>$250</td>\n",
       "      <td>Million</td>\n",
       "    </tr>\n",
       "    <tr>\n",
       "      <th>4</th>\n",
       "      <td>$215</td>\n",
       "      <td>Million</td>\n",
       "    </tr>\n",
       "    <tr>\n",
       "      <th>...</th>\n",
       "      <td>...</td>\n",
       "      <td>...</td>\n",
       "    </tr>\n",
       "    <tr>\n",
       "      <th>1812</th>\n",
       "      <td>$15</td>\n",
       "      <td>Million</td>\n",
       "    </tr>\n",
       "    <tr>\n",
       "      <th>1813</th>\n",
       "      <td>$15</td>\n",
       "      <td>Million</td>\n",
       "    </tr>\n",
       "    <tr>\n",
       "      <th>1814</th>\n",
       "      <td>$15</td>\n",
       "      <td>Million</td>\n",
       "    </tr>\n",
       "    <tr>\n",
       "      <th>1815</th>\n",
       "      <td>$15</td>\n",
       "      <td>Million</td>\n",
       "    </tr>\n",
       "    <tr>\n",
       "      <th>1816</th>\n",
       "      <td>$14.5</td>\n",
       "      <td>Million</td>\n",
       "    </tr>\n",
       "  </tbody>\n",
       "</table>\n",
       "<p>1817 rows × 2 columns</p>\n",
       "</div>"
      ],
      "text/plain": [
       "          0        1\n",
       "0      $500  Million\n",
       "1      $300  Million\n",
       "2      $250  Million\n",
       "3      $250  Million\n",
       "4      $215  Million\n",
       "...     ...      ...\n",
       "1812    $15  Million\n",
       "1813    $15  Million\n",
       "1814    $15  Million\n",
       "1815    $15  Million\n",
       "1816  $14.5  Million\n",
       "\n",
       "[1817 rows x 2 columns]"
      ]
     },
     "execution_count": 1450,
     "metadata": {},
     "output_type": "execute_result"
    }
   ],
   "source": [
    "splitted_net_worth = df.net_worth.str.split(' ', expand = True)\n",
    "splitted_net_worth"
   ]
  },
  {
   "cell_type": "code",
   "execution_count": 1451,
   "metadata": {},
   "outputs": [
    {
     "data": {
      "text/plain": [
       "array(['Million', 'Billion'], dtype=object)"
      ]
     },
     "execution_count": 1451,
     "metadata": {},
     "output_type": "execute_result"
    }
   ],
   "source": [
    "splitted_net_worth[1].unique()"
   ]
  },
  {
   "cell_type": "code",
   "execution_count": 1452,
   "metadata": {},
   "outputs": [
    {
     "data": {
      "application/vnd.plotly.v1+json": {
       "config": {
        "plotlyServerURL": "https://plot.ly"
       },
       "data": [
        {
         "hole": 0.5,
         "labels": [
          "Million",
          "Billion"
         ],
         "type": "pie",
         "values": [
          1489,
          328
         ]
        }
       ],
       "layout": {
        "annotations": [
         {
          "font": {
           "size": 20
          },
          "showarrow": false,
          "text": "Net worth",
          "x": 0.5,
          "y": 0.5
         }
        ],
        "template": {
         "data": {
          "bar": [
           {
            "error_x": {
             "color": "#2a3f5f"
            },
            "error_y": {
             "color": "#2a3f5f"
            },
            "marker": {
             "line": {
              "color": "#E5ECF6",
              "width": 0.5
             },
             "pattern": {
              "fillmode": "overlay",
              "size": 10,
              "solidity": 0.2
             }
            },
            "type": "bar"
           }
          ],
          "barpolar": [
           {
            "marker": {
             "line": {
              "color": "#E5ECF6",
              "width": 0.5
             },
             "pattern": {
              "fillmode": "overlay",
              "size": 10,
              "solidity": 0.2
             }
            },
            "type": "barpolar"
           }
          ],
          "carpet": [
           {
            "aaxis": {
             "endlinecolor": "#2a3f5f",
             "gridcolor": "white",
             "linecolor": "white",
             "minorgridcolor": "white",
             "startlinecolor": "#2a3f5f"
            },
            "baxis": {
             "endlinecolor": "#2a3f5f",
             "gridcolor": "white",
             "linecolor": "white",
             "minorgridcolor": "white",
             "startlinecolor": "#2a3f5f"
            },
            "type": "carpet"
           }
          ],
          "choropleth": [
           {
            "colorbar": {
             "outlinewidth": 0,
             "ticks": ""
            },
            "type": "choropleth"
           }
          ],
          "contour": [
           {
            "colorbar": {
             "outlinewidth": 0,
             "ticks": ""
            },
            "colorscale": [
             [
              0,
              "#0d0887"
             ],
             [
              0.1111111111111111,
              "#46039f"
             ],
             [
              0.2222222222222222,
              "#7201a8"
             ],
             [
              0.3333333333333333,
              "#9c179e"
             ],
             [
              0.4444444444444444,
              "#bd3786"
             ],
             [
              0.5555555555555556,
              "#d8576b"
             ],
             [
              0.6666666666666666,
              "#ed7953"
             ],
             [
              0.7777777777777778,
              "#fb9f3a"
             ],
             [
              0.8888888888888888,
              "#fdca26"
             ],
             [
              1,
              "#f0f921"
             ]
            ],
            "type": "contour"
           }
          ],
          "contourcarpet": [
           {
            "colorbar": {
             "outlinewidth": 0,
             "ticks": ""
            },
            "type": "contourcarpet"
           }
          ],
          "heatmap": [
           {
            "colorbar": {
             "outlinewidth": 0,
             "ticks": ""
            },
            "colorscale": [
             [
              0,
              "#0d0887"
             ],
             [
              0.1111111111111111,
              "#46039f"
             ],
             [
              0.2222222222222222,
              "#7201a8"
             ],
             [
              0.3333333333333333,
              "#9c179e"
             ],
             [
              0.4444444444444444,
              "#bd3786"
             ],
             [
              0.5555555555555556,
              "#d8576b"
             ],
             [
              0.6666666666666666,
              "#ed7953"
             ],
             [
              0.7777777777777778,
              "#fb9f3a"
             ],
             [
              0.8888888888888888,
              "#fdca26"
             ],
             [
              1,
              "#f0f921"
             ]
            ],
            "type": "heatmap"
           }
          ],
          "heatmapgl": [
           {
            "colorbar": {
             "outlinewidth": 0,
             "ticks": ""
            },
            "colorscale": [
             [
              0,
              "#0d0887"
             ],
             [
              0.1111111111111111,
              "#46039f"
             ],
             [
              0.2222222222222222,
              "#7201a8"
             ],
             [
              0.3333333333333333,
              "#9c179e"
             ],
             [
              0.4444444444444444,
              "#bd3786"
             ],
             [
              0.5555555555555556,
              "#d8576b"
             ],
             [
              0.6666666666666666,
              "#ed7953"
             ],
             [
              0.7777777777777778,
              "#fb9f3a"
             ],
             [
              0.8888888888888888,
              "#fdca26"
             ],
             [
              1,
              "#f0f921"
             ]
            ],
            "type": "heatmapgl"
           }
          ],
          "histogram": [
           {
            "marker": {
             "pattern": {
              "fillmode": "overlay",
              "size": 10,
              "solidity": 0.2
             }
            },
            "type": "histogram"
           }
          ],
          "histogram2d": [
           {
            "colorbar": {
             "outlinewidth": 0,
             "ticks": ""
            },
            "colorscale": [
             [
              0,
              "#0d0887"
             ],
             [
              0.1111111111111111,
              "#46039f"
             ],
             [
              0.2222222222222222,
              "#7201a8"
             ],
             [
              0.3333333333333333,
              "#9c179e"
             ],
             [
              0.4444444444444444,
              "#bd3786"
             ],
             [
              0.5555555555555556,
              "#d8576b"
             ],
             [
              0.6666666666666666,
              "#ed7953"
             ],
             [
              0.7777777777777778,
              "#fb9f3a"
             ],
             [
              0.8888888888888888,
              "#fdca26"
             ],
             [
              1,
              "#f0f921"
             ]
            ],
            "type": "histogram2d"
           }
          ],
          "histogram2dcontour": [
           {
            "colorbar": {
             "outlinewidth": 0,
             "ticks": ""
            },
            "colorscale": [
             [
              0,
              "#0d0887"
             ],
             [
              0.1111111111111111,
              "#46039f"
             ],
             [
              0.2222222222222222,
              "#7201a8"
             ],
             [
              0.3333333333333333,
              "#9c179e"
             ],
             [
              0.4444444444444444,
              "#bd3786"
             ],
             [
              0.5555555555555556,
              "#d8576b"
             ],
             [
              0.6666666666666666,
              "#ed7953"
             ],
             [
              0.7777777777777778,
              "#fb9f3a"
             ],
             [
              0.8888888888888888,
              "#fdca26"
             ],
             [
              1,
              "#f0f921"
             ]
            ],
            "type": "histogram2dcontour"
           }
          ],
          "mesh3d": [
           {
            "colorbar": {
             "outlinewidth": 0,
             "ticks": ""
            },
            "type": "mesh3d"
           }
          ],
          "parcoords": [
           {
            "line": {
             "colorbar": {
              "outlinewidth": 0,
              "ticks": ""
             }
            },
            "type": "parcoords"
           }
          ],
          "pie": [
           {
            "automargin": true,
            "type": "pie"
           }
          ],
          "scatter": [
           {
            "fillpattern": {
             "fillmode": "overlay",
             "size": 10,
             "solidity": 0.2
            },
            "type": "scatter"
           }
          ],
          "scatter3d": [
           {
            "line": {
             "colorbar": {
              "outlinewidth": 0,
              "ticks": ""
             }
            },
            "marker": {
             "colorbar": {
              "outlinewidth": 0,
              "ticks": ""
             }
            },
            "type": "scatter3d"
           }
          ],
          "scattercarpet": [
           {
            "marker": {
             "colorbar": {
              "outlinewidth": 0,
              "ticks": ""
             }
            },
            "type": "scattercarpet"
           }
          ],
          "scattergeo": [
           {
            "marker": {
             "colorbar": {
              "outlinewidth": 0,
              "ticks": ""
             }
            },
            "type": "scattergeo"
           }
          ],
          "scattergl": [
           {
            "marker": {
             "colorbar": {
              "outlinewidth": 0,
              "ticks": ""
             }
            },
            "type": "scattergl"
           }
          ],
          "scattermapbox": [
           {
            "marker": {
             "colorbar": {
              "outlinewidth": 0,
              "ticks": ""
             }
            },
            "type": "scattermapbox"
           }
          ],
          "scatterpolar": [
           {
            "marker": {
             "colorbar": {
              "outlinewidth": 0,
              "ticks": ""
             }
            },
            "type": "scatterpolar"
           }
          ],
          "scatterpolargl": [
           {
            "marker": {
             "colorbar": {
              "outlinewidth": 0,
              "ticks": ""
             }
            },
            "type": "scatterpolargl"
           }
          ],
          "scatterternary": [
           {
            "marker": {
             "colorbar": {
              "outlinewidth": 0,
              "ticks": ""
             }
            },
            "type": "scatterternary"
           }
          ],
          "surface": [
           {
            "colorbar": {
             "outlinewidth": 0,
             "ticks": ""
            },
            "colorscale": [
             [
              0,
              "#0d0887"
             ],
             [
              0.1111111111111111,
              "#46039f"
             ],
             [
              0.2222222222222222,
              "#7201a8"
             ],
             [
              0.3333333333333333,
              "#9c179e"
             ],
             [
              0.4444444444444444,
              "#bd3786"
             ],
             [
              0.5555555555555556,
              "#d8576b"
             ],
             [
              0.6666666666666666,
              "#ed7953"
             ],
             [
              0.7777777777777778,
              "#fb9f3a"
             ],
             [
              0.8888888888888888,
              "#fdca26"
             ],
             [
              1,
              "#f0f921"
             ]
            ],
            "type": "surface"
           }
          ],
          "table": [
           {
            "cells": {
             "fill": {
              "color": "#EBF0F8"
             },
             "line": {
              "color": "white"
             }
            },
            "header": {
             "fill": {
              "color": "#C8D4E3"
             },
             "line": {
              "color": "white"
             }
            },
            "type": "table"
           }
          ]
         },
         "layout": {
          "annotationdefaults": {
           "arrowcolor": "#2a3f5f",
           "arrowhead": 0,
           "arrowwidth": 1
          },
          "autotypenumbers": "strict",
          "coloraxis": {
           "colorbar": {
            "outlinewidth": 0,
            "ticks": ""
           }
          },
          "colorscale": {
           "diverging": [
            [
             0,
             "#8e0152"
            ],
            [
             0.1,
             "#c51b7d"
            ],
            [
             0.2,
             "#de77ae"
            ],
            [
             0.3,
             "#f1b6da"
            ],
            [
             0.4,
             "#fde0ef"
            ],
            [
             0.5,
             "#f7f7f7"
            ],
            [
             0.6,
             "#e6f5d0"
            ],
            [
             0.7,
             "#b8e186"
            ],
            [
             0.8,
             "#7fbc41"
            ],
            [
             0.9,
             "#4d9221"
            ],
            [
             1,
             "#276419"
            ]
           ],
           "sequential": [
            [
             0,
             "#0d0887"
            ],
            [
             0.1111111111111111,
             "#46039f"
            ],
            [
             0.2222222222222222,
             "#7201a8"
            ],
            [
             0.3333333333333333,
             "#9c179e"
            ],
            [
             0.4444444444444444,
             "#bd3786"
            ],
            [
             0.5555555555555556,
             "#d8576b"
            ],
            [
             0.6666666666666666,
             "#ed7953"
            ],
            [
             0.7777777777777778,
             "#fb9f3a"
            ],
            [
             0.8888888888888888,
             "#fdca26"
            ],
            [
             1,
             "#f0f921"
            ]
           ],
           "sequentialminus": [
            [
             0,
             "#0d0887"
            ],
            [
             0.1111111111111111,
             "#46039f"
            ],
            [
             0.2222222222222222,
             "#7201a8"
            ],
            [
             0.3333333333333333,
             "#9c179e"
            ],
            [
             0.4444444444444444,
             "#bd3786"
            ],
            [
             0.5555555555555556,
             "#d8576b"
            ],
            [
             0.6666666666666666,
             "#ed7953"
            ],
            [
             0.7777777777777778,
             "#fb9f3a"
            ],
            [
             0.8888888888888888,
             "#fdca26"
            ],
            [
             1,
             "#f0f921"
            ]
           ]
          },
          "colorway": [
           "#636efa",
           "#EF553B",
           "#00cc96",
           "#ab63fa",
           "#FFA15A",
           "#19d3f3",
           "#FF6692",
           "#B6E880",
           "#FF97FF",
           "#FECB52"
          ],
          "font": {
           "color": "#2a3f5f"
          },
          "geo": {
           "bgcolor": "white",
           "lakecolor": "white",
           "landcolor": "#E5ECF6",
           "showlakes": true,
           "showland": true,
           "subunitcolor": "white"
          },
          "hoverlabel": {
           "align": "left"
          },
          "hovermode": "closest",
          "mapbox": {
           "style": "light"
          },
          "paper_bgcolor": "white",
          "plot_bgcolor": "#E5ECF6",
          "polar": {
           "angularaxis": {
            "gridcolor": "white",
            "linecolor": "white",
            "ticks": ""
           },
           "bgcolor": "#E5ECF6",
           "radialaxis": {
            "gridcolor": "white",
            "linecolor": "white",
            "ticks": ""
           }
          },
          "scene": {
           "xaxis": {
            "backgroundcolor": "#E5ECF6",
            "gridcolor": "white",
            "gridwidth": 2,
            "linecolor": "white",
            "showbackground": true,
            "ticks": "",
            "zerolinecolor": "white"
           },
           "yaxis": {
            "backgroundcolor": "#E5ECF6",
            "gridcolor": "white",
            "gridwidth": 2,
            "linecolor": "white",
            "showbackground": true,
            "ticks": "",
            "zerolinecolor": "white"
           },
           "zaxis": {
            "backgroundcolor": "#E5ECF6",
            "gridcolor": "white",
            "gridwidth": 2,
            "linecolor": "white",
            "showbackground": true,
            "ticks": "",
            "zerolinecolor": "white"
           }
          },
          "shapedefaults": {
           "line": {
            "color": "#2a3f5f"
           }
          },
          "ternary": {
           "aaxis": {
            "gridcolor": "white",
            "linecolor": "white",
            "ticks": ""
           },
           "baxis": {
            "gridcolor": "white",
            "linecolor": "white",
            "ticks": ""
           },
           "bgcolor": "#E5ECF6",
           "caxis": {
            "gridcolor": "white",
            "linecolor": "white",
            "ticks": ""
           }
          },
          "title": {
           "x": 0.05
          },
          "xaxis": {
           "automargin": true,
           "gridcolor": "white",
           "linecolor": "white",
           "ticks": "",
           "title": {
            "standoff": 15
           },
           "zerolinecolor": "white",
           "zerolinewidth": 2
          },
          "yaxis": {
           "automargin": true,
           "gridcolor": "white",
           "linecolor": "white",
           "ticks": "",
           "title": {
            "standoff": 15
           },
           "zerolinecolor": "white",
           "zerolinewidth": 2
          }
         }
        },
        "title": {
         "text": "Millionaire vs Billionaire"
        }
       }
      }
     },
     "metadata": {},
     "output_type": "display_data"
    }
   ],
   "source": [
    "fig = go.Figure(data = [go.Pie(labels = splitted_net_worth[1].unique(), values = splitted_net_worth[1].value_counts(), hole = 0.5)])\n",
    "fig.update_layout(\n",
    "    title_text=\"Millionaire vs Billionaire\",\n",
    "    annotations=[dict(text='Net worth', x=0.5, y=0.5, font_size=20, showarrow=False)])\n",
    "fig.show()"
   ]
  },
  {
   "cell_type": "code",
   "execution_count": 1453,
   "metadata": {},
   "outputs": [
    {
     "data": {
      "text/plain": [
       "0        500\n",
       "1        300\n",
       "2        250\n",
       "3        250\n",
       "4        215\n",
       "        ... \n",
       "1812      15\n",
       "1813      15\n",
       "1814      15\n",
       "1815      15\n",
       "1816    14.5\n",
       "Name: net_worth, Length: 1817, dtype: object"
      ]
     },
     "execution_count": 1453,
     "metadata": {},
     "output_type": "execute_result"
    }
   ],
   "source": [
    "df.net_worth = [\n",
    "    splitted_net_worth[0].iloc[i][1:] if splitted_net_worth[1].iloc[i] == 'Million' \n",
    "    else float(splitted_net_worth[0].iloc[i][1:])*1000 \n",
    "    for i in range(len(splitted_net_worth[0]))\n",
    "    ]\n",
    "df.net_worth"
   ]
  },
  {
   "cell_type": "code",
   "execution_count": 1454,
   "metadata": {},
   "outputs": [
    {
     "name": "stdout",
     "output_type": "stream",
     "text": [
      "Single\n",
      "Married (Justin Theroux)\n",
      "Married (Daniel Moder)\n",
      "Married (Brad Hall)\n",
      "Married (Edoardo Ponti)\n",
      "Divorced (Harry Glassman)\n",
      "Tracey Ullman - Widowed (Allan McKeown)\n",
      "Divorced (David Bailey)\n",
      "nan\n",
      "Married (Joe Manganiello)\n",
      "Married (Liam Hemsworth)\n",
      "Divorced (Brad Pitt)\n",
      "Married Ashton Kutcher (m. 2005–2013), Bruce Willis (m. 1987–2000), Freddy Moore (m. 1980–1985)\n",
      "Divorced (Billy Mack Hamilton)\n",
      "Divorced (Romain Dauriac)\n",
      "Married (Cooke Maroney)\n",
      "Married (Will Kopelman)\n",
      "Divorced (Jesse G. James)\n",
      "Married (Kenneth Bowser)\n",
      "Divorced (Ted Turner)\n",
      "Married (Keith Urban)\n",
      "Married (Michelle Rounds)\n",
      "Divorced (Sam Mendes)\n",
      "Married (Matthew Broderick)\n",
      "Married (François-Henri Pinault)\n",
      "Married (David E. Kelley)\n",
      "Divorced (Ben Thomas)\n",
      "Married (Jim Toth)\n",
      "Married (Brad Allen)\n",
      "Divorced (Mark Levinson)\n",
      "Married (Mark Consuelos)\n",
      "Divorce Filed (David Arquette)\n",
      "Widower (Peter Shaw)\n",
      "Divorced (James Cameron)\n",
      "Married (James Keach)\n",
      "Engaged (Olivier Martinez)\n",
      "Married (Ashton Kutcher)\n",
      "Divorced (Richard Hamlett)\n",
      "Married (Christine Marinoni)\n",
      "Divorced (Ronald Perelman)\n",
      "Divorced (Phil Bronstein)\n",
      "Divorced (Sean Penn)\n",
      "Married (Michael Stern)\n",
      "In a relationship (Matthew Carnahan)\n",
      "Married (Karl Cook)\n",
      "Divorced (Alan Greisman)\n",
      "Married (Javier Bardem)\n",
      "Marrried to Benjamin Millepied\n",
      "Married (Marshall Coben)\n",
      "Married (Bart Freundlich)\n",
      "Divorced (Chris Sarandon)\n",
      "Married (Taylor Hackford)\n",
      "In a relationship (John Corbett)\n",
      "Married\n",
      "Married (Peter Hermann)\n",
      "Divorced (Jon Tenney)\n",
      "Married (James Righton)\n",
      "Married (Warren Beatty)\n",
      "Divorced (Vincent Cassel)\n",
      "Married (Helmut Huber)\n",
      "Widowed (Bruce Paltrow)\n",
      "Divorced (Ethan Hawke)\n",
      "Divorced (Rob Reiner)\n",
      "Married (Andrew Upton)\n",
      "Divorced (Lyle Trachtenberg)\n",
      "Divorced (Dennis Quaid)\n",
      "Married (Don Gummer)\n",
      "Married (Michael Douglas)\n",
      "Married (Jeff Richmond)\n",
      "Annulled (Kenny Chesney)\n",
      "Divorced (Casper Van Dien)\n",
      "Married (David Hunt)\n",
      "Married (Paul W. S. Anderson )\n",
      "Married (Chris Ivery)\n",
      "Married (Ben Affleck)\n",
      "Married (Frédéric Prinz von Anhalt)\n",
      "Married (Dan Gilroy)\n",
      "Engaged (Jean Todt)\n",
      "Married (Reza Jarrahy)\n",
      "Engaged (Matthew Bellamy)\n",
      "Divorced (Alec Baldwin)\n",
      "Divorced (Julann Wright)\n",
      "Married (Gauri Khan)\n",
      "Divorced (Katie Holmes)\n",
      "Married (Amal Alamuddin)\n",
      "Married (Jaya Bhaduri)\n",
      "Divorced (Oksana Grigorieva)\n",
      "Married (Jada Pinkett Smith)\n",
      "Married (Jacqueline Samantha Titone)\n",
      "Married (Jennifer Flavin)\n",
      "Married (Lin Feng-jiao)\n",
      "Divorced (Morgan Eastwood)\n",
      "Married (Rhea Durham)\n",
      "Married (Rita Wilson)\n",
      "Married (Catherine Zeta-Jones)\n",
      "Separated (Maria Shriver)\n",
      "Married (Susan Levin)\n",
      "Married (Dagmara Dominczyk)\n",
      "Married (Angelina Jolie)\n",
      "Married (Calista Flockhart)\n",
      "Married  (Lexa Doig)\n",
      "Married (Toshimi Stormare)\n",
      "In a relationship (Clémentine Igou)\n",
      "Married (LaTanya Richardson)\n",
      "Partner (Paloma Jimenez)\n",
      "Divorced (Amber Heard)\n",
      "Married (Pauletta Pearson Washington)\n",
      "Married (Emma Heming)\n",
      "Married (Kelly Tisdale)\n",
      "Married (Sibylle Szaggars)\n",
      "married to Kelly Preston \n",
      "Married (Stella Arroyave)\n",
      "Divorced (Lauren Holly)\n",
      "Divorced (Myrna Colley-Lee)\n",
      "Divorced (Robin Wright)\n",
      "Married (Grace Hightower)\n",
      "In a relationship (Lucila Sola)\n",
      "Married (Talia Balsam)\n",
      "Married (Kareena Kapoor)\n",
      "divorced Demi Moore\n",
      "Married (Isla Fisher)\n",
      "Married (Elsa Pataky)\n",
      "Divorced (Sunetra Sastry)\n",
      "Divorced (Brooke Mueller)\n",
      "Married (Kayte Walsh)\n",
      "Married (Micheline Roquebrune)\n",
      "Married (Christine Taylor)\n",
      "Married (Anne Stringfield)\n",
      "Divorced (Pamela Bach)\n",
      "Married (Carol Chu)\n",
      "Separated (Carey Lowell)\n",
      "Divorced (Sherri Kramer)\n",
      "Divorced (Jennifer Esposito)\n",
      "Married (Elizabeth Martin)\n",
      "Married (Deborra-Lee Furness)\n",
      "In a relationship (Gouthami Tadimalla)\n",
      "Married (Pam Dawber)\n",
      "Married (Dawn Laurel-Jones)\n",
      "In a relationship (Paige Butcher)\n",
      "Separated (Natalie Wihongi)\n",
      "Married (Jane Hajduk)\n",
      "Married (Jenna Dewan)\n",
      "Married (Steffiana de la Cruz)\n",
      "Married (Jennifer Kendal)\n",
      "Married (Camila Alves)\n",
      "Divorced (Rebecca Linger)\n",
      "Married (Jennifer Meyer)\n",
      "Married (Luciana Barroso)\n",
      "Married (Shakira Baksh)\n",
      "Married  (Shauna Robertson)\n",
      "Married (Zofia Borucka)\n",
      "Married (Hema Malini)\n",
      "Married (Annette Bening)\n",
      "Married (Gena O'Kelley)\n",
      "Married (Susan Geston)\n",
      "Married (Rhea Perlman)\n",
      "Divorced (Season Hubley)\n",
      "Married (Ginny Newhart)\n",
      "Married (Soon-Yi Previn)\n",
      "Married (Laura Louie)\n",
      "Married Kelly Winn (m. 1996–2008), Camelia Kath (m. 1987–1990)\n",
      "Married (Tracy Pollan)\n",
      "Married (Hilaria Thomas)\n",
      "Married (Saira Banu)\n",
      "Married (Deidre Pujols)\n",
      "Married (Sandra Beltre)\n",
      "Married (Rosangel Torres)\n",
      "Married (Lisa)\n",
      "Married (Carolina Cruz)\n",
      "Married (Yudith)\n",
      "Married (Taylor Higgins)\n",
      "Married (Juliana Ramirez)\n",
      "Married (Alicia Rickter)\n",
      "Married (Chanel Fielder)\n",
      "Married (Maddie Bisanz)\n",
      "Married (Deleon Richards)\n",
      "Married (Emily Kuchar)\n",
      "Married to Clara\n",
      "Married (Holly Beers)\n",
      "Divorced (Liz Watson)\n",
      "Married (Christine St. Orange)\n",
      "Married (Jessica Lugo)\n",
      "Married ( Andrea Thome)\n",
      "Engaged (Evelyn Lozada)\n",
      "Married (Austria)\n",
      "Married (Leigh Williams)\n",
      "Married ( Laura Pettitte)\n",
      "Married (Charlene Valenti)\n",
      "Married (Paula)\n",
      "Married (Kathy Ronnow)\n",
      "Married (Kayla Varner)\n",
      "Married (Sonia Rodriguez)\n",
      "Married (Erica May)\n",
      "Married (Lisa Lemoncelli)\n",
      "Married (Melissa)\n",
      "Married (Christy Helton)\n",
      "Married (Yasmile Garcia Santana)\n",
      "Married (Debra Lynn Godfrey)\n",
      "Married (Carmen Isis Eusebio)\n",
      "Married (Amber Seyer)\n",
      "Married (Michelle Mangan)\n",
      "Married (Alice Wolterman)\n",
      "Married to Ruth Ryan\n",
      "Married (Heidi Strobel)\n",
      "Married (Ismary Zambrano)\n",
      "Married (Leslee Holliday)\n",
      "Married (Katrina Hunter)\n",
      "Married (Kristina Carter)\n",
      "Married to Gail Turkovich-Vaughn\n",
      "Married (Laura Posada)\n",
      "Married (Kathryn Darden)\n",
      "Married (Stephanie Slemer)\n",
      "Married to Danyll Gamon\n",
      "Married to Cara\n",
      "Married (Jenny Curry)\n",
      "Married (Kelly)\n",
      "Married (Julia Werth)\n",
      "Married (Ashley Jarusinski)\n",
      "Married (Erika Zanders)\n",
      "Married (Wanda Torres)\n",
      "Married (Nicole Derick)\n",
      "Married (JoAnna García)\n",
      "Married (Katie Chadwick)\n",
      "Married (Kristen Lee)\n",
      "Married (Lynne)\n",
      "Married (Betsy Gonzalez)\n",
      "Married (Chelsea Cain)\n",
      "Married (Kautia Hampton)\n",
      "Married (Elise Silver)\n",
      "Married (Tricia Kendall)\n",
      "Married to Erika Monroe Williams; Divorced to Michelle Johnson and Tracie Duncan\n",
      "Married to  Dana Kent\n",
      "Married (Yumiko Fukushima)\n",
      "Married (Mia Hamm)\n",
      "Married (Tiffany Ortiz)\n",
      "Married (Pamela Cox)\n",
      "Married (Karen Burnett)\n",
      "Married (Kim Perks)\n",
      "Married (Ashley Borror)\n",
      "Married (Adrienne Acton)\n",
      "Married (Ellen Melson)\n",
      "Married (Rebecca Villalobos)\n",
      "Married (Sandra Hernandez)\n",
      "Married (Kristen Beaulaurier)\n",
      "Married (Ryane Barber)\n",
      "Married (Molly)\n",
      "Married (Elizabeth Hill)\n",
      "Married (Melissa Smith)\n",
      "Married (Yvette Prieto)\n",
      "Married (Earlitha \"Cookie\" Kelly)\n",
      "Married (Doris Griffith)\n",
      "Married (Savannah Brinson)\n",
      "Divorced (Shaunie Nelson)\n",
      "Married (Vanessa Laine)\n",
      "Married (Dalia Asafi)\n",
      "Married (Brandi Padilla)\n",
      "Married (Tamia Hill)\n",
      "Divorced (Amy Duncan)\n",
      "Married (Jessica Olsson)\n",
      "Married (Erika Dates)\n",
      "Married (Monique James)\n",
      "Married (Nina Earl)\n",
      "Divorced (CeCe)\n",
      "In a relationship (Mieka Reese)\n",
      "Married (Gabrielle Union)\n",
      "Married (Adrienne Williams Bosh)\n",
      "Married (Jada Crawley)\n",
      "Married (Alejandra Amarilla)\n",
      "Engaged ( Alexis Welch)\n",
      "Divorced (Marita Stavrou)\n",
      "Married (Valerie Hoggatt)\n",
      "Married (Ayesha Alexander)\n",
      "Married (Rita Williams-Ewing )\n",
      "Married (Alani Vasquez)\n",
      "Married (Lauren Prothe)\n",
      "Married (Jenine Wardally)\n",
      "Married (Warneisha)\n",
      "Married (Chris Riley)\n",
      "Married (Clerenda McGrady)\n",
      "Married (Fatima Wallace)\n",
      "Married (Rose)\n",
      "Married (Kay Kinsley)\n",
      "Married (Porschla Coleman )\n",
      "Married (Tracy Wilson Mourning)\n",
      "Married (Shahara Simmons)\n",
      "Married (Mesha O’Neal)\n",
      "Married (Julie Pierce)\n",
      "Divorced (Ione Rucker Jamison)\n",
      "Married \n",
      "Married (Milagro Martinez)\n",
      "Married ( Rebekah Hosey)\n",
      "Spouse: Ye Li (m. 2007)\n",
      "Married (shannon Ward)\n",
      "Divorced ( Ellen Rucker )\n",
      "Married (Tanya Williams)\n",
      "Married (Isabella Brewster)\n",
      "Married (Ramirra Stackhouse)\n",
      "Married (Alexandria Smith)\n",
      "Married (Darcy Watkins)\n",
      "Married (Jill Arnold)\n",
      "Married (Khloé Kardashian)\n",
      "Married (Amy Williams)\n",
      "Married (Kimberly Chandler)\n",
      "Married (Tamara Houston)\n",
      "Married (Karen West)\n",
      "Married (Ashley Bachelor)\n",
      "Married (Shannon Walker Williams)\n",
      "Married (Teresa Lourenco)\n",
      "Married (Larsa Pippen)\n",
      "Married (Clayanna Warthen)\n",
      "Married (Jackie Christie)\n",
      "Married to Chanda Wallace\n",
      "Married (Valerie Cooke)\n",
      "Married (Ana Hurtado)\n",
      "Married (Anna Divac)\n",
      "Married (Nada Stepovich)\n",
      "Married (Michelle Mashburn)\n",
      "Married (Marvena L. Thomas)\n",
      "Divorced (Dinah Mattingly)\n",
      "Married (Latasha Marbury)\n",
      "Married (Piper Billups)\n",
      "Married (Madaru Grīnbergu)\n",
      "Married (Dionna Kann)\n",
      "Married (Achea Redd)\n",
      "Married (Jackie Paul)\n",
      "Married (Aleka Kamila)\n",
      "Married (Imani Tillery)\n",
      "Married (Candace Fisher)\n",
      "Married (Mary McDonnell)\n",
      "Married (Johnyika Terry)\n",
      "Married (Ecko Wray)\n",
      "Divorced (Hank Vogel)\n",
      "Widowed (Michele Ferrero)\n",
      "Widow (Georg Schaeffler)\n",
      "Married (Chen Chong)\n",
      "Widow (Steve Jobs)\n",
      "Married (Michel de Carvalho)\n",
      "Married (Christopher J. McKown)\n",
      "Married (Robert W. Chambers)\n",
      "Widowed (Frank Rinehart)\n",
      "Widowed (Andrónico Luksic Abaroa)\n",
      "Widowed (E. Pierce Marshall)\n",
      "Widowed (Gad Rausing)\n",
      "Widowed \n",
      "Widowed (Surya Wonowidjojo)\n",
      "Married (Lonnie Wright)\n",
      "Divorced (Simon Parry-Okeden)\n",
      "Widowed (O. P. Jindal)\n",
      "Divorced (Ofer Glazer)\n",
      "Divorced\n",
      "Widowed (Robert Louis-Dreyfus)\n",
      "Widowed (Jose Ermirio de Moraes)\n",
      "Widowed (Eugenio Garza Lagüera )\n",
      "Married (Charles A. Williams)\n",
      "Widowed (Georg Schaeffler)\n",
      "Married (Charles Schusterman)\n",
      "Widowed (Ng Teng Fong)\n",
      "Widowed (Kenneth Hendricks)\n",
      "Divorced (Stuart Malone)\n",
      "Married (Pieter Tham)\n",
      "Married (Michael Vlock)\n",
      "Divorced (Julian Hui)\n",
      "Widowed (E. Bronson Ingram)\n",
      "Widow (William Cooks)\n",
      "Married (Janice Suber)\n",
      "Married (Bill Laurie)\n",
      "Widowed (Axel Springer)\n",
      "Married (Dr. Gordon Faulkner)\n",
      "Married (Dr. Wilfried Bechtolsheimer)\n",
      "Married (Pan Shiyi)\n",
      "Widowed (William Davidson)\n",
      "Married to Inan Kirac\n",
      "Widowed (Jerry Zucker)\n",
      "Married (John York)\n",
      "Iñigo Zobel - Married (Maricris Cardenas-Zobel) and Mercedes Zobel - Married (Joseph R. McMicking)\n",
      "Divorced (Edson de Godoy Bueno)\n",
      "Widowed\n",
      "Married (Richard Rainwater)\n",
      "Married to Ulrich Fette Stroher\n",
      "Married (Stewart Resnick)\n",
      "Widowed (Amory \"Jack\" Cooke)\n",
      "Married (Michael Pucker)\n",
      "Married (Bryan Traubert)\n",
      "Married to Tang Kai\n",
      "Widowed (Ayhan Sahenk)\n",
      "Married (Glen Nelson)\n",
      "Divorced (Mackenzie Bezos)\n",
      "Married (Melinda Gates)\n",
      "Married (Hélène Mercier)\n",
      "Married (Priscilla Chan)\n",
      "Married (Astrid Menks)\n",
      "Married (Lucinda Southworth)\n",
      "Married (Flora Pérez)\n",
      "Widowed (Soumaya Domit Gemayel)\n",
      "Married (Nicole Shanahan)\n",
      "Partner (Diana Taylor)\n",
      "Married (Julia Margaret Flesher)\n",
      "Married (Nita Ambani)\n",
      "Married (Liz Koch)\n",
      "Married (Melani Lowman-Walton)\n",
      "Married (Lynne McNabb Walton)\n",
      "Married (Connie Snyder)\n",
      "Married (Margaretha Kamprad)\n",
      "Married (André Bettencourt)\n",
      "Married (Adrienne Bevis)\n",
      "Married (Wang Dan-ting)\n",
      "Married (Penny Knight)\n",
      "Married (Miriam Ochsorn)\n",
      "Married (Chong Yuet Ming)\n",
      "Married (Valerie Wertheimer)\n",
      "Divorced (Laurie Ludwick)\n",
      "Divorced (Lau Wai-kuen)\n",
      "Married (Salma Hayek)\n",
      "Married (Emily Blavatnik)\n",
      "Divorced (Wendi Deng Murdoch)\n",
      "Married (Franziska Schwarz)\n",
      " Married (Patsy Perin Dubash)\n",
      "Married (Yasmeen Premji)\n",
      "Married (Natalia Potanina)\n",
      "Married (Gail Icahn)\n",
      "Married (Irina Viner)\n",
      "Married (Larisa Victorovna Alekperova)\n",
      "Married (Brigitte Bren)\n",
      "Married (Elena Timchenko)\n",
      "Married (Nadja)\n",
      "Married (Christine Hearst Schwarzman)\n",
      "Marriage to Tsui-ying Chow\n",
      "Married (Widowati Hartono)\n",
      "Married (Lin Ning)\n",
      "Married (Carolyn Denise Persson)\n",
      "Divorced (Irina Malandina)\n",
      "Married (Fay Obiad)\n",
      "Married (Princess Ameera)\n",
      "Separated (Wendy Schmidt)\n",
      "Married (Marina Vekselberg)\n",
      "Divorce (Sue Ann Hamm)\n",
      "Married (Usha Mittal)\n",
      "Married (Pallavi Kotak)\n",
      "Married (Aleksandra Melnichenko)\n",
      "In a relationship (Marion Feichtner)\n",
      "Married (Olga Fridman)\n",
      "Married (Camilla)\n",
      "Married (Ann Goodnight)\n",
      "Married (Chen Chunmei)\n",
      "Married (Nancy Anschutz)\n",
      "Married (Märit Rausing)\n",
      "Married (Dongmin Ma)\n",
      "Married (Patricia C. Frist)\n",
      "Married (Renáta Kellnerová)\n",
      "Married (Madeleine Arison)\n",
      "Married (Carmen Wüerth)\n",
      "Divorced (Justine Wilson, Talulah Riley)\n",
      "Married (Nicole Raffel)\n",
      "Married (Gary Appel)\n",
      "Married to Cheryl Duffield\n",
      "Married (Zheng Junlong)\n",
      "Married (Alexandra Schmidt)\n",
      "Married (Haruko Mikitani)\n",
      "Married (Kristine Brunsborg)\n",
      "Divorced to Heike Fielmann\n",
      "married\n",
      "Married to Jane Och\n",
      "Married to Diane Smith\n",
      "Married (Dr. Griffith R. Harsh IV)\n",
      "Married (Grace A. Tan Caktiong)\n",
      "Married (Christine Hazy)\n",
      "Married to Margaret Jacobs\n",
      "Married (Andrea Hissom)\n",
      "Married (Paige Fertitta)\n",
      "Married to Maria Furtwängler and Christa Maar (deceased)\n",
      "Married to Alice Nicole Rogoff Rubenstein\n",
      "Married (Renee Parsons)\n",
      "In a relationship (Jade Foret)\n",
      "Married (Kimbra Walter)\n",
      "Married (Desiree Jacqueline Guerzon)\n",
      "Married to Jan\n",
      "Married to Rosy\n",
      "Married to Barbara Pistilli\n",
      "Married to Kristin\n",
      "Married to Heather Reisman\n",
      "Married to Jean Case\n",
      "Married to Linda Marie Pace\n",
      "Married (Margaret Hayne)\n",
      "Married (Adele)\n",
      "Married to Susan Casden\n",
      "Married to Sue Pritzker\n",
      "Married Jacqueline Susan Freed\n",
      "Undisclosed\n",
      "Married to Huang Jingzhang\n",
      "Not Married\n",
      "Divorced (Vicki Iovine)\n",
      "Married to  Suzy Welch\n",
      "Married (Annette)\n",
      "Married (Phyllis Mozilo)\n",
      "Married to Andrea Immelt\n",
      "Married (Jessica Seinfeld)\n",
      "Married Laurie David (m. 1993–2007)\n",
      "Married (Agustina Picasso)\n",
      "Married (Camille O. Cosby)\n",
      "Married (Mavis Leno)\n",
      "Divorced (Emma Sugiyama)\n",
      "Married (Angela Howard)\n",
      "Married (Eniko Parrish)\n",
      "Divorced (Edgar Rosenberg)\n",
      "Married (Donna Dixon)\n",
      "Married Jennifer Butler (m. 1997–2008), Margaret Kelly (m. 1981–1996)\n",
      "Spouse: Anna Romano (m. 1987)\n",
      "Married (Pamela Gregg)\n",
      "Married Marjorie Bridges-Woods (m. 2007), Mary Lee Harvey (m. 1996–2005), Marcia Harvey (m. 1980–1994)\n",
      "Divorced (Malaak Compton Rock)\n",
      "Divorced (Anne Bancroft)\n",
      "In a relationship (Jane Fallon)\n",
      "Spouse: Viveca Paulin (m. 2000)\n",
      "Married (Elizabeth Ann Powel)\n",
      "Married (Tania Kosevich)\n",
      "Married (Audrey Murdick)\n",
      "Married (Kitty McIntyre)\n",
      "Spouse: Cara Whitney (m. 2005)\n",
      "Married (Janice Crystal)\n",
      "Married (Evelyn McGee-Colbert)\n",
      "Married (Elaine Chappelle)\n",
      "Divorced (Monica Diaz)\n",
      "Married (Gail Engvall)\n",
      "Married (Shira Piven)\n",
      "Married (Tanya Haden)\n",
      "Married (Molly McNearney)\n",
      "Divorced (Ann Serrano)\n",
      "Married Lisa Thorner (m. 1984–2000)\n",
      "Married Ashley Groussman (m. 2009), Shelby Roos (m. 2002–2008), Julie Armstrong (m. 1995–1999), Roseanne Barr (m. 1990–1994)\n",
      "Married (Margo Rey)\n",
      "Married Barbara Rickles (m. 1965)\n",
      "Married Arlene Silver (m. 2012), Margie Willett (m. 1948–1984)\n",
      "Married (Elliott Spencer)\n",
      "Divorced (Angelica Zackary)\n",
      "Married Paula Zwagerman (m. 1983), Leah Carvey (m. 1979–1980)\n",
      "Married (Nancy Juvonen)\n",
      "Married (Brian Miller)\n",
      "Divorced (Alix Bailey)\n",
      "Married (Nancy Dolman)\n",
      "Married (Justine Maurer)\n",
      "Married (Mélissa Theuriau)\n",
      "Married (Amy Yasbeck)\n",
      "Married (Helen Gibbins)\n",
      "Divorced (Linda Dreeszen)\n",
      "Married (Michele Caliendo)\n",
      "In a relationship (Randy Bick)\n",
      "Married (Amy Mencia)\n",
      "Married Carolyn Espley (m. 1988)\n",
      "Married (Ben Falcone)\n",
      "Married Pamela Stephenson (m. 1989), Iris Pressagh (m. 1969–1985)\n",
      "Married (Quinn Lundberg)\n",
      "Divorced (Sabina)\n",
      "Married Jennifer Wade (m. 2012), Alyce Cleese (m. 1992–2008), Barbara Trentham (m. 1981–1990), Connie Booth (m. 1968–1978)\n",
      "In a relationship (Courtney McBroom)\n",
      "Married (Megan Wallace Cunningham)\n",
      "Married (Lynette Paradise)\n",
      "Divorced (Hayes Hargrove)\n",
      "Married Harlee McBride (m. 1985), Dalia Danoch (m. 1976–1978), Gail Susan Ross (m. 1966–1972)\n",
      "Married Michelle Taylor (m. 1997–2005)\n",
      "Married Jane Wagner (1971–)\n",
      "Married (Angelica Zachary)\n",
      "Married (Patricia Azarcoya Schneider)\n",
      "Married Lorna Wells (m. 1999)\n",
      "Married to Jamie Lee Curtis\n",
      "Divorced (Katy Perry)\n",
      "Married (Sidney Hicks)\n",
      "Married (Amber Tamblyn)\n",
      "Married (Natasha Rubin)\n",
      "Married Caroline Hickman (m. 2002–2005)\n",
      "Partner: Karoline Copping (2001–)\n",
      "Divorced (Amy Poehler)\n",
      "Married (Kirsty Roper)\n",
      "Married (Khunying Wanna)\n",
      "Widowed (Jorge)\n",
      "Married to Marian Ilitch\n",
      "In a relationship (Nicole Lapin)\n",
      "Married (Helen)\n",
      "Married to Andrew Cherng\n",
      "Divorced to Kathy\n",
      "Married to Belinda VanderSloot; Divorced to Kathleen VanderSloot and Vivian VanderSloot\n",
      "Married (Linda)\n",
      "Married (Kristy Hinze)\n",
      "Married (Lara Lerner)\n",
      "Divorced to Linda Tharaldson\n",
      "Married to Lorri Zimmer\n",
      "Married to Dawna Bousquet\n",
      "Married (Jeanette Staluppi)\n",
      "Married (Sean Eldridge)\n",
      "Married to Jennifer Van Natta\n",
      "Married to Mary Turner\n",
      "Married (Wanda McFarlane)\n",
      "Married (Marissa Mayer)\n",
      "Married (Jerome Frautschi)\n",
      "Married to Julie\n",
      "Married (Mona Verga Dotcom)\n",
      "Married (Livia Stone)\n",
      "Married (Karen Padham Taylor)\n",
      "Married to Cindy Crawford\n",
      "Married to Lisa Rosenblatt\n",
      "Married to Hanne Marstrand Strong\n",
      "Married (Jodie Phillips)\n",
      "Divorced to Julie Brangstrup\n",
      "Married (Tony Miranne)\n",
      "Divorced to Jeanne Fields (1943-1960)\n",
      "Married (Shawn Young)\n",
      "undisclosed marriage\n",
      "Married (Dan)\n",
      "Married to Cristina\n",
      "Widowed (Mina Miller)\n",
      "Divorced  (Marcia Griffin)\n",
      "Married (Kate Capshaw)\n",
      "Married (Debbie Easton)\n",
      "Divorced (Karen Witter)\n",
      "Divorced (Holly Holmberg Brooks)\n",
      "Married (Fran Walsh)\n",
      "Divorced (Kai Cole)\n",
      "Married (Geneviève Robert)\n",
      "Married (Leslie Mann)\n",
      "Married (Susanna Hoffs)\n",
      "Married (Summer Mann)\n",
      "Married Amy Eldon (m. 2006)\n",
      "Married Monica Devereux (m. 1983)\n",
      "Married (Margo Winkler)\n",
      "Married (Betsy)\n",
      "Married (Deborah Nadoolman Landis)\n",
      "Married (Maar Beauregard)\n",
      "Married (Helen Schermerhorn Morris)\n",
      "Married (Ceán Chaffin)\n",
      "Married (Anne Chun-Lung Niu)\n",
      "Married (Michele Singer Reiner)\n",
      "Married (Leslie Harter)\n",
      "Married Susan Ringo (m. 1989)\n",
      "Married (Emily Stofle)\n",
      "Divorced (Deborah Rennard)\n",
      "Married (Joya Tillem)\n",
      "Married Gillian Greene (m. 1993)\n",
      "Married (Pamela Chopra)\n",
      "Divorced (Kathleen Glynn)\n",
      "Married (Sun-jung Jung)\n",
      "Married (Bhavna Vaswani)\n",
      "Separated (Elizabeth Avellán)\n",
      "Married (Barbara Marshall)\n",
      "Divorced (Akosua Busia)\n",
      "Married (Maggie Weston)\n",
      "Married to Krista Schmuck\n",
      "Married (Emmanuelle Seigner)\n",
      "Married (Jeanine Lobell)\n",
      "Married (Iya Labunka)\n",
      "Divorced (Darnell Gregorio)\n",
      "Married (Joanne Howard)\n",
      "Married (Julie Corman)\n",
      "Married Nancy Wilson (m. 1986–2010)\n",
      "Married (Sandy King)\n",
      "Married (Jane Lin)\n",
      "Married (Alison Balsom)\n",
      "Married (Thomas Mars)\n",
      "Divorced (Lorenza Newton)\n",
      "Married (Claudia Schiffer)\n",
      "Married (Deborah Snyder)\n",
      "Married (Jennifer Schwalbach Smith)\n",
      "Married Olatz López Garmendia, Jacqueline Schnabel\n",
      "Married (Lela Rochon)\n",
      "Married (Dan Maurio)\n",
      "Married (Yvonne Walcott)\n",
      "Married (Rebecca Pidgeon)\n",
      "Married (Catherine Martin)\n",
      "Married (Jane Henson)\n",
      "Married (Janet Jones)\n",
      "Married (Nathalie Asselin)\n",
      "Married (Lauren)\n",
      "Married (Debbie Metivier)\n",
      "Married (Tabea Pfendsack)\n",
      "Married (Alina Khasanova)\n",
      "Married (Chantel Oster)\n",
      "Married (Annika Lidstrom)\n",
      "Married (Anastasia Shubskaya)\n",
      "Married (Christina Alvernaz)\n",
      "Married (Jennifer Snell)\n",
      "Married (Genevieve Nault)\n",
      "Married (Danica Topolnisky)\n",
      "Married (Mary Beth)\n",
      "In a relationship (Misha Harrell)\n",
      "Married (Rechelle Jenkins)\n",
      "Married (Lisa Brennan)\n",
      "Married (Ashley)\n",
      "Married (Svetlana)\n",
      "Married (Lauren Miller)\n",
      "In a relationship (Carol Alt)\n",
      "Married (Becky Palmer)\n",
      "Divorce (Michèle Piuze)\n",
      "Married (Felicity Rafalski)\n",
      "In a relationship (Kimberly Lazur)\n",
      "Married (Andrea)\n",
      "Married (Kim Clark)\n",
      "Married (Johanna Sedin)\n",
      "Divorced (Anna Kournikouva)\n",
      "Married (Tanya Staal)\n",
      "Married (Jennifer Bernaudo)\n",
      "Married (Julie)\n",
      "Married (Gina Cerbone)\n",
      "Married (Therese Andersson)\n",
      "Married (Silpa)\n",
      "Married (Margaret Louise Wood)\n",
      "Married (Lotta)\n",
      "Married (Kim)\n",
      "Married (Josephine Johansson)\n",
      "Married (Jennifer Fleury)\n",
      "Married (Helena Kipper)\n",
      "Married (Susan Holder)\n",
      "Married (Carrie Underwood)\n",
      "Married (Lisa Niedermayer)\n",
      "Married (Kina Lamarche)\n",
      "Married (Caroline)\n",
      "Married (Tatiana Biskupicová)\n",
      "Marriage (Karen Michalek)\n",
      "Married (Brandy Johnson)\n",
      "Married (Alicia Spence)\n",
      "Married (Sarah)\n",
      "Married (Alena)\n",
      "Married (Brittany Carnegie)\n",
      "Married (Catherine Laflamme)\n",
      "Married (Tammy Plante)\n",
      "Married (Viktoria)\n",
      "Married (Jessica Dibb)\n",
      "Married (Stephanie Gratton)\n",
      "Married (Christianne)\n",
      "Married (Véronique LaRose)\n",
      "Married (Melissa Thomas)\n",
      "Married (Brijet)\n",
      "Married (Nicole Nordin)\n",
      "Married (Kara)\n",
      "Married (Heather)\n",
      "Married (Iveta Kubova)\n",
      "Married (Krista Bradford)\n",
      "Married (Therese)\n",
      "Married (Hanna)\n",
      "Married (Alicia Backman)\n",
      "Married (Nancy Roy)\n",
      "Married (Katerina)\n",
      "Married (Emma Andersson)\n",
      "Divorced (Bernie Ecclestone)\n",
      "Married (David Beckham)\n",
      "Married (Greg Olsen)\n",
      "Married (Tom Brady)\n",
      "Married to Leonard Holzer\n",
      "Divorced (Michael Jordan)\n",
      "Married (Rande Gerber)\n",
      "Spouse: Tiger Woods (m. 2004–2010)\n",
      "Married (Chris Hardwick)\n",
      "Divorced (Jeffrey Soffer)\n",
      "Divorced (Peter Cook)\n",
      "Marko Jarić (m. 2009)\n",
      "Married (Jamie Hince)\n",
      "Divorced (Seal)\n",
      "Married (Matthew Vaughn)\n",
      "Divorced (Timothy Adams)\n",
      "Married (Bernard d' Ormale)\n",
      "Divorced (James Packer)\n",
      "Engaged (Jamie Mazur)\n",
      "Divorced (Peter Andre)\n",
      "Married (Abhishek Bachchan)\n",
      "Divorced (Justin Portman)\n",
      "Divorced (Arun Nayar)\n",
      "Married (Jim Skrip)\n",
      "Married (Adi Ezra)\n",
      "Married (Jerry O'Connell)\n",
      "Divorced (Guillaume Canet)\n",
      "Divorced (Rod Stryker)\n",
      "Engaged to James Bailey\n",
      "Married (Flavio Briatore)\n",
      "In a relationship (Justin Verlander)\n",
      "Divorced (Hulk Hogan)\n",
      "Engaged (Gene Simmons)\n",
      "Married (Nick Candy)\n",
      "Engaged to Alex Pettyfer\n",
      "Married (George Gradow)\n",
      "Divorced (Jake Schroeder)\n",
      "Married (Scott Stuber)\n",
      "Married (Griffin Guess)\n",
      "Married (Sunnery James Gorré)\n",
      "Engaged (Evan Spiegel)\n",
      "Divorced (Gérald Marie)\n",
      "Married (Burney Lamar)\n",
      "Divorced (Billy Kidman)\n",
      "Married (Edward Burns)\n",
      "Separated (Dennis Rodman, Dave Navarro)\n",
      "Divorced to Mick Jagger\n",
      "Seperated (Guy Starkman)\n",
      "Spouse: David Foster (m. 2011), Mohamed Hadidi (m. 2003–2011)\n",
      "Married to Peter Brant; Divorced from Tommy Andrews\n",
      "Married (Nicolas Sarkozy)\n",
      "Married (Peter Bakker)\n",
      "In a relationship (Kwame Ferreira)\n",
      "Divorced (David Walliams)\n",
      "Separated (Kimora Lee Simmons)\n",
      "Divorce (Deion Sanders)\n",
      "Married (Andy Roddick)\n",
      "Married (Robert F. Smith)\n",
      "Widowed (Hugh Hefner)\n",
      "Married (John Legend)\n",
      "Married (Archie Drury)\n",
      "Married to Lorenzo Luaces\n",
      "Divorced to Paul Anka\n",
      "Married (Gabrielle Reece)\n",
      "Married (Beyoncé Knowles)\n",
      "Married (Nancy Shevell)\n",
      "Married (Madeleine Gurdon)\n",
      "Married (Lani Hall)\n",
      "Married (Nicole Young)\n",
      "Divorced (Guy Ritchie)\n",
      "Married (Gloria Estefan)\n",
      "Married (David Furnish)\n",
      "Married (Jane Slagsvol)\n",
      "Partner (Melanie Hamrick)\n",
      "Married (Barbara Bach)\n",
      "Married (Patti Scialfa)\n",
      "Married (Patti Hansen)\n",
      "Married (Leba Strassberg)\n",
      "Married (Shannon Lee Tweed)\n",
      "Married (Dorothea Hurley)\n",
      "Married (Trudie Styler)\n",
      "Married (Erica Reid)\n",
      "Married (Solveig 'Sola' Karadottir)\n",
      "Married (Laurie Durning)\n",
      "In a relationship (Dana Tyler)\n",
      "Married (Sharon Summerall)\n",
      "Married (Jane McIntosh)\n",
      "Married M(elia McEnery)\n",
      "Divorced (Sonya Miller)\n",
      "Married (Penny Lancaster)\n",
      "Married (Iman)\n",
      "Married (Sharon Osbourne)\n",
      "Married (Page Hannah)\n",
      "Divorced (Skylar Satenstein)\n",
      "Married (Susan Crow)\n",
      "Seprated (Grace Miguel)\n",
      "Married (Alexis Roderick)\n",
      "Married (Anita Dobson)\n",
      "In a relationship (Fadi Fawaz)\n",
      "Divorced (Maureen Wilson)\n",
      "Married (Sarina Potgieter)\n",
      "Divorced (Jimena Gómez-Paratcha)\n",
      "Widowed (Kurt Cobain)\n",
      "Married (Jane Hansen)\n",
      "Married (Maria Sjoholm)\n",
      "Married (Polly Samson)\n",
      "Married (Erin Sutton)\n",
      "Married (Frankie Rayder)\n",
      "Married (Veronica Tetzlaff)\n",
      "In a relationship (Rachel Fuller)\n",
      "Married (Samantha Winslow)\n",
      "Married (Rachelle Short)\n",
      "Married (Nettie Mason)\n",
      "Divorced (Kimberley Anne Scott)\n",
      "Married (Kitty Aldridge)\n",
      "Married (Suzanne)\n",
      "Married (Michelle Rocca)\n",
      "Married (Jill McCormick)\n",
      "Married (Faith Hill)\n",
      "Married (Maureen Santoro)\n",
      "Divorced (Pamela Anderson)\n",
      "Divorced (Randy Clohessy)\n",
      "Married (Maureen)\n",
      "Divorced (Kim Anderson)\n",
      "Married (Melinda Ledbetter)\n",
      "Divorced (Joanna Berryman)\n",
      "Married (Chloe Lee-Evans)\n",
      "Married (Marianne Dark)\n",
      "Married (Julie Kramer)\n",
      "Married (Élodie Bouchez)\n",
      "Married (Cindy Millican)\n",
      "Married (Justine Simmons)\n",
      "Married (Meabh Flynn)\n",
      "Married (Heather Lynn Hodgins Kidd)\n",
      "Married (Liz Weber)\n",
      "Married (Briar Fishman)\n",
      "Married (Heather Daltrey)\n",
      "Divorced (Heather Locklear)\n",
      "Alicia Keys (m. 2010), Mashonda (m. 2004–2010)\n",
      "Married (Margarita Morello)\n",
      "Married (Yasmin Le Bon)\n",
      "Married (Anthea Norman-Taylor)\n",
      "Divorced (Lorraine Harris)\n",
      "Married (Susan Hendry)\n",
      "Married (Sara MacDonald)\n",
      "Married (Gilligan Stillwater)\n",
      "Married (Sue McConnell)\n",
      "Married (Adrienne Nesser)\n",
      "Engaged (Amber Rose)\n",
      "Married (Brittney Cade)\n",
      "Married (Julie Ann Reubens)\n",
      "Divorced (Lyndie Benson)\n",
      "Married (Marianne Staubach)\n",
      "Married (Virginia Fields)\n",
      "Married (Ashley Thompson)\n",
      "Married (Gisele Bündchen)\n",
      "Married (Brittany Dudchenko)\n",
      "Married (Shaelynn)\n",
      "Married (Deanna Favre)\n",
      "Married (Abby Mcgrew)\n",
      "Married (Jennifer Montana)\n",
      "Married (Ashley Harlan)\n",
      "Married (Candice Crawford)\n",
      "Married (Candace Williams)\n",
      "Married (Dana Grady)\n",
      "In a relationship (Libby Offutt)\n",
      "Married (Kelly Hall)\n",
      "Married (Amy)\n",
      "Married (Brandy Fleming)\n",
      "Married (Christina Adams)\n",
      "Married (Elizabeth Barry)\n",
      "Married (Kerry Washington)\n",
      "Divorced (Jackie Rice)\n",
      "Married (Jacqueline Laurian)\n",
      "SIngle\n",
      "Married (Monique Brown), Divorced (Sue Brown)\n",
      "Married (Pat Southall)\n",
      "Married (Lindsey VanDeweghe Jackson)\n",
      "Married (Brenda Warner)\n",
      "Married (Annie)\n",
      "Married (Michi Nogami)\n",
      "Married (Maura Bledsoe)\n",
      "Married (Dion Boldin)\n",
      "Engaged (Nicole Murphy)\n",
      "In a relationship (Tatyana McCall)\n",
      "Married (Lauren Killian)\n",
      "Married (Valeria)\n",
      "Married (Sarah Mahmoodshahi)\n",
      "Married (Ebony)\n",
      "Married (Paige Green)\n",
      "In a relationship (Drick Parrish)\n",
      "Married (Pilar Sanders)\n",
      "Married (Barbara Graham)\n",
      "Married (Brooke Collins)\n",
      "Married (LaTorsha Oakley)\n",
      "Married (Chantel Rostant)\n",
      "Married (Alicia)\n",
      "Married (Claire Marino)\n",
      "Married (Raquel Nurse)\n",
      "Married (Delaina)\n",
      "Married (Katie)\n",
      "Married (Michelle)\n",
      "Married (Miranda Brooke)\n",
      "Married (Tiffany Rivers)\n",
      "Married (Casie Noble)\n",
      "Married to Patricia Schorr; Divorced to Lisa Gastineau\n",
      "Married (Danielle)\n",
      "Married (Jada)\n",
      "Married (Natalie Nelson)\n",
      "Married (Lori)\n",
      "Married (Amanda)\n",
      "Married (Jessica)\n",
      "Married (Kristin Cavallari)\n",
      "Married (Sarah Marshall)\n",
      "Married (Katherine Fossett)\n",
      "Married (October)\n",
      "Married (Sasha Dindayal)\n",
      "Engaged (Ciara)\n",
      "Married (Diana Ditka)\n",
      "Married (Amanda Coetzer)\n",
      "Married (Tina Lai)\n",
      "Married Britta Lazenga (m. 2011)\n",
      "Married (Marilyn Siegel)\n",
      "Married (Linda Bruckheimer)\n",
      "Married (Lynda Francine \"Tara\" Gellis)\n",
      "Married to Anne\n",
      "Married (Donna Roth)\n",
      "Married (Natalie Swanston)\n",
      "Separated\n",
      "Married (Pierre Norman Hauser)\n",
      "Married (Roma Downey)\n",
      "Married (Karyn Fields)\n",
      "Married (Alice Barry)\n",
      "Married (Frederick M. Zollo)\n",
      "Married (Michelle Pfeiffer)\n",
      "Married (four times)\n",
      "Divorced (Shania Twain)\n",
      "Married (Curtis Shaw)\n",
      "Married (Monica Horan)\n",
      "Married (Mildred Seidman)\n",
      "Married (Christa Miller)\n",
      "Married Georgina Chapman (m. 2007), Eve Chilton Weinstein (m. 1987–2004)\n",
      "Married (Michelle Territo)\n",
      "Married (Frank Marshall)\n",
      "Married (Alisa Blasingame)\n",
      "Married (Karin Winslow)\n",
      "Married (Rose Uniacke)\n",
      "Married (Katie McGrath)\n",
      "Divorced (Laura Kaeppeler)\n",
      "Married (Paddy Bowden)\n",
      "Divorced (Bonnie Lythgoe)\n",
      "Married (Lauren Shuler)\n",
      "Married (David Miller)\n",
      "Married (Krystyna Jakubiak)\n",
      "Engaged (Chau-Giang Thi Nguyen)\n",
      "Divorced (Julia Bingham)\n",
      "Married (Tracy James)\n",
      "Married (Denise Kelly)\n",
      "Married (Parris McBride)\n",
      "Married (Francesca Morocco)\n",
      "Married (Paul Smith)\n",
      "Married (Jill Stonerock)\n",
      "Married Nancy Hunt\n",
      "Married Rose Jackson (m. 1996)\n",
      "Married (Sally Whitehill)\n",
      "Divorced (Julie Anne Friedman)\n",
      "Married (Heather Hayslett)\n",
      "Divorced to Debbie Lorenzo\n",
      "Married Corbett Tuck (m. 2009)\n",
      "Married (Nancy Berry)\n",
      "Married (Sheila Grod)\n",
      "Married (Lyn Lear)\n",
      "Married Patricia Sinclair\n",
      "Married (Susan Saint James)\n",
      "Married (Jules Asner)\n",
      "Divorced (Melissa Hecht)\n",
      "Divorced (Kim Kardashian)\n",
      "Divorced (Kimora Lee)\n",
      "Married (Helen Lasichanh)\n",
      "Divorced (Antonia Carter)\n",
      "Married (Shante Taylor Broadus)\n",
      "Married (Kimberly Woodruff)\n",
      "Married (Simone Johnson)\n",
      "Married (Monique Idlett)\n",
      "Married (Tomeka Akon)\n",
      "Married (Tamra Davis)\n",
      "Married (Kathleen Hanna)\n",
      "Married (Rachel Hugo)\n",
      "Married (Tameka \"Tiny\" Cottle)\n",
      "Married (Mary Prince)\n",
      "Married (Zuri L. McDaniels)\n",
      "Married (Sherlita Patton)\n",
      "Married (Coco Austin)\n",
      "Married (Amber Najm)\n",
      "Married to Offset\n",
      "Nicole Smith (m. 2004)\n",
      "Married (Anna Shinoda)\n",
      "Divorced (Christina Johnson)\n",
      "Divorced (Treach)\n",
      "Married (Erica Escarcega)\n",
      "Married (Gavin Wray)\n",
      "Married (Crystal Wall)\n",
      "Married (Jodi Stewart)\n",
      "Separated (Nick Cannon)\n",
      "Married (Carl Thomas Dean)\n",
      "Married (Emilio Estefan)\n",
      "Married (Shawn \"Jay-Z\" Carter)\n",
      "Divorced (Marc Anthony)\n",
      "Married (René Angélil)\n",
      "Married (James Brolin)\n",
      "Married (Tricia Lucus)\n",
      "Divorced (Carolyn Dennis)\n",
      "Married (Frédéric Thiébaud)\n",
      "Divorced (Russell Brand)\n",
      "Married Norma Strait (m. 1971)\n",
      "Divorced (Gregg Allman)\n",
      "Married (Hailey Rhode Bieber)\n",
      "Married (Miranda Rijnsburger)\n",
      "Married (Laeticia Hallyday)\n",
      "Married (Wanda Miller)\n",
      "Divoced (Arne Naess, Jr)\n",
      "Married (Melinda Trenchard)\n",
      "In a relationship (Gabriel Joseph)\n",
      "Married (Trisha Yearwood)\n",
      "Annulled (Renée Zellweger)\n",
      "Married (Jessica Biel)\n",
      "Married (Martin von Haselberg)\n",
      "In a relationship (Gerard Piqué)\n",
      "Partner: Erwin Bach (1986–), Married Ike Turner (m. 1962–1978)\n",
      "Divorced (Diane Alexander)\n",
      "Married (Ayda Field)\n",
      "Divorced (Kevin Federline)\n",
      "Married (Wissam Al Mana)\n",
      "Married (Nicole Pantenburg)\n",
      "Divorced (Jordan Bratman)\n",
      "Married Luisana Lopilato (m. 2011)\n",
      "Engaged (Jeanne Marine)\n",
      "Married (Eric Johnson)\n",
      "Married (May Lo Mei-mei)\n",
      "Married (Angie Fiore)\n",
      "Married to Swizz Beatz (m. 2010)\n",
      "Married (Kathleen McCrone)\n",
      "Married (Cherry Lancaster Seaborn)\n",
      "Married Carey Hart (m. 2006)\n",
      "Married (Kai Milla Morris)\n",
      "Married (Brittany Kerr)\n",
      "Divorced (Jim Stafford)\n",
      "Married (Frances Glandney)\n",
      "Separated (Mathangi Arulpragasam)\n",
      "Divorced (Narvel Blackstock)\n",
      "Married (Patricia Healey)\n",
      "Divorced (Carol)\n",
      "Married (Lisa Meyers)\n",
      "Married (Tim McGraw)\n",
      "Married (Lisa Pemberton)\n",
      "Divorced (Walter Bridgforth Jr.)\n",
      "Married (Nicole Kidman)\n",
      "Married (Bridget Fonda)\n",
      "Married (Susan Deixler)\n",
      "Married (Diana Krall)\n",
      "Divorced (Rick Sorenson)\n",
      "Married to Kristine; Divorced to Karla Ramdhani\n",
      "Married (Dawn Andrews)\n",
      "Divorced (James Hart)\n",
      "Divorced (John McVie)\n",
      "Married (Kimberly Williams-Paisley)\n",
      "Divorced (Glynn Turman)\n",
      "Married (Caroline \"Kim\" Smedvig)\n",
      "Married (Mitchell Besser)\n",
      "Married (Oliver Lynn)\n",
      "Married (Mark Hawley)\n",
      "Married (Victoria Adams)\n",
      "In a relationship with Georgina Rodríguez since 2016\n",
      "Married (Antonella Roccuzzo)\n",
      "Married (Coleen Rooney)\n",
      "Divorced (Sthefany Brito)\n",
      "Married (Ilary Blasi)\n",
      "Married (Matilde \"Tami\" Faria)\n",
      "Married (Assíria Lemos Seixas)\n",
      "Married (Claudia Schattenberg)\n",
      "Married (Natacha Van Honacker)\n",
      "Married (Caroline Celico)\n",
      "Married (Georgette Eto'o)\n",
      "In a relationship (Emma Rhys-Jones)\n",
      "Married (Diakité Lalla)\n",
      "Engaged (Priscilla Coelho and Beatriz Souza)\n",
      "Partner (Pilar Rubio)\n",
      "Married (Bernadien Eillert)\n",
      "Married (Vanessa Martins)\n",
      "Married (Rebecca Ellison)\n",
      "Separated (Giannina Maradona)\n",
      "Married (Sofia Balbi)\n",
      "Married (Véronique Fernández)\n",
      "Married (Lorelei Taron)\n",
      "In a relationship (Sara Madeira)\n",
      "Married (Maddy Schoolderman)\n",
      "Engaged (Billi Mucklow)\n",
      "Married (Stacey Cooke)\n",
      "Married (Olalla Domínguez)\n",
      "Married (Alex Curran)\n",
      "Divorced (Nicole Merry)\n",
      "Married (Wahiba Ribéry)\n",
      "Married (Luviana)\n",
      "Married (Fiona Barratt)\n",
      "Married (Claudine Palmer)\n",
      "Married (Lainya)\n",
      "Married (Mamen Sanz)\n",
      "Divorced (Deborah Roversi)\n",
      "Married (Patricia González)\n",
      "Married (Helen Svedin)\n",
      "Married (Louise Bonsall)\n",
      "Married (Toni Terry)\n",
      "Separated (Claudia)\n",
      "Engaged (Christine Bleakley)\n",
      "Married (Carly Cole)\n",
      "Married (Daniela Arenoso)\n",
      "Married ( Vivian Guglielmetti)\n",
      "Married (Theresa Doyle)\n",
      "Married (Cora Gauthier)\n",
      "Married (Daphne Quaresma)\n",
      "In a relationship (Shakira)\n",
      "Divorced (Maria Soledad Cabris)\n",
      "Married (Fernanda Mascherano)\n",
      "Married (Ana Belen)\n",
      "Married (Martina Dolejsova)\n",
      "Divorced (Danielle Bux)\n",
      "Married (Abbey Clancy)\n",
      "Married (Akosua Puni)\n",
      "Divorced (Jude Littler)\n",
      "Married (Malisa Catalani)\n",
      "Married (Cheryl Plaza Vieira)\n",
      "Married (Ana Sofia)\n",
      "Married to Maria de Montseratt\n",
      "Married (Ivone Viana)\n",
      "Married (Kimberly Crew)\n",
      "Divorced (Dinora Santana)\n",
      "Separated (Daniela Ospina)\n",
      "Married (Elaine Duff)\n",
      "Divorced (Lorena Barrichi)\n",
      "Married (Aleksandra Pavić)\n",
      "Married (Cila de Souza)\n",
      "Divorced (Claire Jansen)\n",
      "Divorced (Simone Lambe)\n",
      "Divorced (Tamara Pisnoli)\n",
      "Married (Gisela Dulko)\n",
      "Married (Iris)\n",
      "Separated (Kanye West)\n",
      "Married (Regina Lasko)\n",
      "Married (Juliette Norton)\n",
      "Married (Robin Jameson)\n",
      "Married (Portia de Rossi)\n",
      "Married (Richard Hilton)\n",
      "Married (Ozzy Osbourne)\n",
      "Divorced (Merv Adelson)\n",
      "Married (Shawn King)\n",
      "Divorced (Kris Kardashian)\n",
      "Married (Alexis DeJoria)\n",
      "Divorced (Maureen E. McPhilmy)\n",
      "Married (Tracey McShane)\n",
      "Married (Jill Rhodes)\n",
      "Married (Jean Currivan)\n",
      "Divorced from  Paul Nassif\n",
      "Spouse (John M. Cusimano)\n",
      "Married (Meredith Lynn Auld)\n",
      "Married to Steve Irwin (until his death)\n",
      "Married to Ken Todd\n",
      "Married (Roy Black)\n",
      "Divorced (Rossano Rubicondi)\n",
      "Married (Annette Roque)\n",
      "Divorced (Frank Gifford)\n",
      "Separated (Bruce Jenner and Robert Kardashian)\n",
      "Spouse: Sharon Ramsey\n",
      "Widowed (Jay Monahan)\n",
      "Married (Alden Lovelace)\n",
      "Widowed (Anthony Radziwill)\n",
      "Divorced (Kelsey Grammer)\n",
      "Spouse: Frances Cain (m. 1993), Alexandra James (m. 1989–1990)\n",
      "Married to Kitten Dowden\n",
      "Married to Ivana Bozilovic\n",
      "Married (Jill Sutton)\n",
      "Divorced (John Penrose)\n",
      "Married to Stephon Marbury\n",
      "Married (Jeffrey Garten)\n",
      "Married to Terri Baines Irwin\n",
      "Married (Lamar Odom)\n",
      "Married (Jenny Harris)\n",
      "Married (Michael Wynn Jones)\n",
      "Married (Bobby Zarin)\n",
      "Divorced (Mark Gastineau)\n",
      "Married (Terry Dubrow)\n",
      "Married to Herman Echevarria\n",
      "Married (Anna Zappia)\n",
      "Divorced (Brad Beckerman)\n",
      "Married (Jane Goldman)\n",
      "Married (Diana Barrett)\n",
      "Married to Deborah Herron\n",
      "Divorce filed (Eric Williams)\n",
      "Married (Jason Hoppy)\n",
      "Married (Veronica Montelongo)\n",
      "Married (Joy Philbin)\n",
      "Married (Emilia Bechrakis)\n",
      "Married (Reid Drescher)\n",
      "Married (Celia Walden)\n",
      "Married (Arlene Clare Sander)\n",
      "Married (David Linch)\n",
      "Married (Mario)\n",
      "Married (Patrick Kietly)\n",
      "Married (Louise Rodrigues)\n",
      "Married (Lois Bergeron)\n",
      "Married to Penelope Scott\n",
      "Married (Erica Michelle Levy)\n",
      "Married (Kay Robertson)\n",
      "Married (Kim Barnes)\n",
      "In a relationship (Donna La Pietra)\n",
      "Married (Doug McLaughlin)\n",
      "Married (Suzanne Mergele)\n"
     ]
    }
   ],
   "source": [
    "for unique_marital_status in df.marital_status.unique() : \n",
    "    print(unique_marital_status)"
   ]
  },
  {
   "cell_type": "code",
   "execution_count": 1455,
   "metadata": {},
   "outputs": [
    {
     "data": {
      "text/plain": [
       "array(['Single', 'Married', 'Divorced', 'Tracey', nan, 'Divorce',\n",
       "       'Widower', 'Engaged', 'In', 'Marrried', 'Widowed', 'Annulled',\n",
       "       'Separated', 'Partner', 'married', 'divorced', 'Spouse:', 'Widow',\n",
       "       'Iñigo', '', 'Marriage', 'Undisclosed', 'Not', 'Partner:',\n",
       "       'undisclosed', 'Marko', 'Seperated', 'Seprated', 'Alicia',\n",
       "       'SIngle', 'Nicole', 'Divoced', 'Spouse'], dtype=object)"
      ]
     },
     "execution_count": 1455,
     "metadata": {},
     "output_type": "execute_result"
    }
   ],
   "source": [
    "splitted_marital_status = df.marital_status.str.split(' ', expand = True )\n",
    "splitted_marital_status[0].unique()"
   ]
  },
  {
   "cell_type": "code",
   "execution_count": 1456,
   "metadata": {},
   "outputs": [
    {
     "data": {
      "text/html": [
       "<div>\n",
       "<style scoped>\n",
       "    .dataframe tbody tr th:only-of-type {\n",
       "        vertical-align: middle;\n",
       "    }\n",
       "\n",
       "    .dataframe tbody tr th {\n",
       "        vertical-align: top;\n",
       "    }\n",
       "\n",
       "    .dataframe thead th {\n",
       "        text-align: right;\n",
       "    }\n",
       "</style>\n",
       "<table border=\"1\" class=\"dataframe\">\n",
       "  <thead>\n",
       "    <tr style=\"text-align: right;\">\n",
       "      <th></th>\n",
       "      <th>0</th>\n",
       "      <th>1</th>\n",
       "      <th>2</th>\n",
       "      <th>3</th>\n",
       "      <th>4</th>\n",
       "      <th>5</th>\n",
       "      <th>6</th>\n",
       "      <th>7</th>\n",
       "      <th>8</th>\n",
       "      <th>9</th>\n",
       "      <th>10</th>\n",
       "      <th>11</th>\n",
       "      <th>12</th>\n",
       "      <th>13</th>\n",
       "      <th>14</th>\n",
       "      <th>15</th>\n",
       "      <th>16</th>\n",
       "    </tr>\n",
       "  </thead>\n",
       "  <tbody>\n",
       "    <tr>\n",
       "      <th>524</th>\n",
       "      <td></td>\n",
       "      <td>Married</td>\n",
       "      <td>(Patsy</td>\n",
       "      <td>Perin</td>\n",
       "      <td>Dubash)</td>\n",
       "      <td>None</td>\n",
       "      <td>None</td>\n",
       "      <td>None</td>\n",
       "      <td>None</td>\n",
       "      <td>None</td>\n",
       "      <td>None</td>\n",
       "      <td>None</td>\n",
       "      <td>None</td>\n",
       "      <td>None</td>\n",
       "      <td>None</td>\n",
       "      <td>None</td>\n",
       "      <td>None</td>\n",
       "    </tr>\n",
       "  </tbody>\n",
       "</table>\n",
       "</div>"
      ],
      "text/plain": [
       "    0        1       2      3        4     5     6     7     8     9     10  \\\n",
       "524     Married  (Patsy  Perin  Dubash)  None  None  None  None  None  None   \n",
       "\n",
       "       11    12    13    14    15    16  \n",
       "524  None  None  None  None  None  None  "
      ]
     },
     "execution_count": 1456,
     "metadata": {},
     "output_type": "execute_result"
    }
   ],
   "source": [
    "splitted_marital_status[splitted_marital_status[0] == '']"
   ]
  },
  {
   "cell_type": "code",
   "execution_count": 1457,
   "metadata": {},
   "outputs": [
    {
     "data": {
      "text/html": [
       "<div>\n",
       "<style scoped>\n",
       "    .dataframe tbody tr th:only-of-type {\n",
       "        vertical-align: middle;\n",
       "    }\n",
       "\n",
       "    .dataframe tbody tr th {\n",
       "        vertical-align: top;\n",
       "    }\n",
       "\n",
       "    .dataframe thead th {\n",
       "        text-align: right;\n",
       "    }\n",
       "</style>\n",
       "<table border=\"1\" class=\"dataframe\">\n",
       "  <thead>\n",
       "    <tr style=\"text-align: right;\">\n",
       "      <th></th>\n",
       "      <th>0</th>\n",
       "      <th>1</th>\n",
       "      <th>2</th>\n",
       "      <th>3</th>\n",
       "      <th>4</th>\n",
       "      <th>5</th>\n",
       "      <th>6</th>\n",
       "      <th>7</th>\n",
       "      <th>8</th>\n",
       "      <th>9</th>\n",
       "      <th>10</th>\n",
       "      <th>11</th>\n",
       "      <th>12</th>\n",
       "      <th>13</th>\n",
       "      <th>14</th>\n",
       "      <th>15</th>\n",
       "      <th>16</th>\n",
       "    </tr>\n",
       "  </thead>\n",
       "  <tbody>\n",
       "    <tr>\n",
       "      <th>672</th>\n",
       "      <td>Not</td>\n",
       "      <td>Married</td>\n",
       "      <td>None</td>\n",
       "      <td>None</td>\n",
       "      <td>None</td>\n",
       "      <td>None</td>\n",
       "      <td>None</td>\n",
       "      <td>None</td>\n",
       "      <td>None</td>\n",
       "      <td>None</td>\n",
       "      <td>None</td>\n",
       "      <td>None</td>\n",
       "      <td>None</td>\n",
       "      <td>None</td>\n",
       "      <td>None</td>\n",
       "      <td>None</td>\n",
       "      <td>None</td>\n",
       "    </tr>\n",
       "  </tbody>\n",
       "</table>\n",
       "</div>"
      ],
      "text/plain": [
       "      0        1     2     3     4     5     6     7     8     9     10    11  \\\n",
       "672  Not  Married  None  None  None  None  None  None  None  None  None  None   \n",
       "\n",
       "       12    13    14    15    16  \n",
       "672  None  None  None  None  None  "
      ]
     },
     "execution_count": 1457,
     "metadata": {},
     "output_type": "execute_result"
    }
   ],
   "source": [
    "splitted_marital_status[splitted_marital_status[0] == 'Not']"
   ]
  },
  {
   "cell_type": "code",
   "execution_count": 1458,
   "metadata": {},
   "outputs": [
    {
     "data": {
      "text/html": [
       "<div>\n",
       "<style scoped>\n",
       "    .dataframe tbody tr th:only-of-type {\n",
       "        vertical-align: middle;\n",
       "    }\n",
       "\n",
       "    .dataframe tbody tr th {\n",
       "        vertical-align: top;\n",
       "    }\n",
       "\n",
       "    .dataframe thead th {\n",
       "        text-align: right;\n",
       "    }\n",
       "</style>\n",
       "<table border=\"1\" class=\"dataframe\">\n",
       "  <thead>\n",
       "    <tr style=\"text-align: right;\">\n",
       "      <th></th>\n",
       "      <th>0</th>\n",
       "      <th>1</th>\n",
       "      <th>2</th>\n",
       "      <th>3</th>\n",
       "      <th>4</th>\n",
       "      <th>5</th>\n",
       "      <th>6</th>\n",
       "      <th>7</th>\n",
       "      <th>8</th>\n",
       "      <th>9</th>\n",
       "      <th>10</th>\n",
       "      <th>11</th>\n",
       "      <th>12</th>\n",
       "      <th>13</th>\n",
       "      <th>14</th>\n",
       "      <th>15</th>\n",
       "      <th>16</th>\n",
       "    </tr>\n",
       "  </thead>\n",
       "  <tbody>\n",
       "    <tr>\n",
       "      <th>1487</th>\n",
       "      <td>Nicole</td>\n",
       "      <td>Smith</td>\n",
       "      <td>(m.</td>\n",
       "      <td>2004)</td>\n",
       "      <td>None</td>\n",
       "      <td>None</td>\n",
       "      <td>None</td>\n",
       "      <td>None</td>\n",
       "      <td>None</td>\n",
       "      <td>None</td>\n",
       "      <td>None</td>\n",
       "      <td>None</td>\n",
       "      <td>None</td>\n",
       "      <td>None</td>\n",
       "      <td>None</td>\n",
       "      <td>None</td>\n",
       "      <td>None</td>\n",
       "    </tr>\n",
       "  </tbody>\n",
       "</table>\n",
       "</div>"
      ],
      "text/plain": [
       "          0      1    2      3     4     5     6     7     8     9     10  \\\n",
       "1487  Nicole  Smith  (m.  2004)  None  None  None  None  None  None  None   \n",
       "\n",
       "        11    12    13    14    15    16  \n",
       "1487  None  None  None  None  None  None  "
      ]
     },
     "execution_count": 1458,
     "metadata": {},
     "output_type": "execute_result"
    }
   ],
   "source": [
    "splitted_marital_status[splitted_marital_status[0] == 'Nicole']"
   ]
  },
  {
   "cell_type": "code",
   "execution_count": 1459,
   "metadata": {},
   "outputs": [
    {
     "data": {
      "text/html": [
       "<div>\n",
       "<style scoped>\n",
       "    .dataframe tbody tr th:only-of-type {\n",
       "        vertical-align: middle;\n",
       "    }\n",
       "\n",
       "    .dataframe tbody tr th {\n",
       "        vertical-align: top;\n",
       "    }\n",
       "\n",
       "    .dataframe thead th {\n",
       "        text-align: right;\n",
       "    }\n",
       "</style>\n",
       "<table border=\"1\" class=\"dataframe\">\n",
       "  <thead>\n",
       "    <tr style=\"text-align: right;\">\n",
       "      <th></th>\n",
       "      <th>0</th>\n",
       "      <th>1</th>\n",
       "      <th>2</th>\n",
       "      <th>3</th>\n",
       "      <th>4</th>\n",
       "      <th>5</th>\n",
       "      <th>6</th>\n",
       "      <th>7</th>\n",
       "      <th>8</th>\n",
       "      <th>9</th>\n",
       "      <th>10</th>\n",
       "      <th>11</th>\n",
       "      <th>12</th>\n",
       "      <th>13</th>\n",
       "      <th>14</th>\n",
       "      <th>15</th>\n",
       "      <th>16</th>\n",
       "    </tr>\n",
       "  </thead>\n",
       "  <tbody>\n",
       "    <tr>\n",
       "      <th>465</th>\n",
       "      <td>Iñigo</td>\n",
       "      <td>Zobel</td>\n",
       "      <td>-</td>\n",
       "      <td>Married</td>\n",
       "      <td>(Maricris</td>\n",
       "      <td>Cardenas-Zobel)</td>\n",
       "      <td>and</td>\n",
       "      <td>Mercedes</td>\n",
       "      <td>Zobel</td>\n",
       "      <td>-</td>\n",
       "      <td>Married</td>\n",
       "      <td>(Joseph</td>\n",
       "      <td>R.</td>\n",
       "      <td>McMicking)</td>\n",
       "      <td>None</td>\n",
       "      <td>None</td>\n",
       "      <td>None</td>\n",
       "    </tr>\n",
       "  </tbody>\n",
       "</table>\n",
       "</div>"
      ],
      "text/plain": [
       "        0      1  2        3          4                5    6         7   \\\n",
       "465  Iñigo  Zobel  -  Married  (Maricris  Cardenas-Zobel)  and  Mercedes   \n",
       "\n",
       "        8  9        10       11  12          13    14    15    16  \n",
       "465  Zobel  -  Married  (Joseph  R.  McMicking)  None  None  None  "
      ]
     },
     "execution_count": 1459,
     "metadata": {},
     "output_type": "execute_result"
    }
   ],
   "source": [
    "splitted_marital_status[splitted_marital_status[0] == 'Iñigo']"
   ]
  },
  {
   "cell_type": "code",
   "execution_count": 1460,
   "metadata": {},
   "outputs": [
    {
     "data": {
      "text/html": [
       "<div>\n",
       "<style scoped>\n",
       "    .dataframe tbody tr th:only-of-type {\n",
       "        vertical-align: middle;\n",
       "    }\n",
       "\n",
       "    .dataframe tbody tr th {\n",
       "        vertical-align: top;\n",
       "    }\n",
       "\n",
       "    .dataframe thead th {\n",
       "        text-align: right;\n",
       "    }\n",
       "</style>\n",
       "<table border=\"1\" class=\"dataframe\">\n",
       "  <thead>\n",
       "    <tr style=\"text-align: right;\">\n",
       "      <th></th>\n",
       "      <th>0</th>\n",
       "      <th>1</th>\n",
       "      <th>2</th>\n",
       "      <th>3</th>\n",
       "      <th>4</th>\n",
       "      <th>5</th>\n",
       "      <th>6</th>\n",
       "      <th>7</th>\n",
       "      <th>8</th>\n",
       "      <th>9</th>\n",
       "      <th>10</th>\n",
       "      <th>11</th>\n",
       "      <th>12</th>\n",
       "      <th>13</th>\n",
       "      <th>14</th>\n",
       "      <th>15</th>\n",
       "      <th>16</th>\n",
       "    </tr>\n",
       "  </thead>\n",
       "  <tbody>\n",
       "    <tr>\n",
       "      <th>83</th>\n",
       "      <td>Annulled</td>\n",
       "      <td>(Kenny</td>\n",
       "      <td>Chesney)</td>\n",
       "      <td>None</td>\n",
       "      <td>None</td>\n",
       "      <td>None</td>\n",
       "      <td>None</td>\n",
       "      <td>None</td>\n",
       "      <td>None</td>\n",
       "      <td>None</td>\n",
       "      <td>None</td>\n",
       "      <td>None</td>\n",
       "      <td>None</td>\n",
       "      <td>None</td>\n",
       "      <td>None</td>\n",
       "      <td>None</td>\n",
       "      <td>None</td>\n",
       "    </tr>\n",
       "    <tr>\n",
       "      <th>1547</th>\n",
       "      <td>Annulled</td>\n",
       "      <td>(Renée</td>\n",
       "      <td>Zellweger)</td>\n",
       "      <td>None</td>\n",
       "      <td>None</td>\n",
       "      <td>None</td>\n",
       "      <td>None</td>\n",
       "      <td>None</td>\n",
       "      <td>None</td>\n",
       "      <td>None</td>\n",
       "      <td>None</td>\n",
       "      <td>None</td>\n",
       "      <td>None</td>\n",
       "      <td>None</td>\n",
       "      <td>None</td>\n",
       "      <td>None</td>\n",
       "      <td>None</td>\n",
       "    </tr>\n",
       "  </tbody>\n",
       "</table>\n",
       "</div>"
      ],
      "text/plain": [
       "            0       1           2     3     4     5     6     7     8     9   \\\n",
       "83    Annulled  (Kenny    Chesney)  None  None  None  None  None  None  None   \n",
       "1547  Annulled  (Renée  Zellweger)  None  None  None  None  None  None  None   \n",
       "\n",
       "        10    11    12    13    14    15    16  \n",
       "83    None  None  None  None  None  None  None  \n",
       "1547  None  None  None  None  None  None  None  "
      ]
     },
     "execution_count": 1460,
     "metadata": {},
     "output_type": "execute_result"
    }
   ],
   "source": [
    "splitted_marital_status[splitted_marital_status[0] == 'Annulled']"
   ]
  },
  {
   "cell_type": "code",
   "execution_count": 1461,
   "metadata": {},
   "outputs": [],
   "source": [
    "single = ['single', 'Not', 'Undisclosed', 'undisclosed', 'SIngle', 'Single']\n",
    "married = ['married', 'Marko', 'Tracey', 'Spouse:', 'Partner:', 'Engaged','Married', 'Marrried', 'Widower', 'Annulled', 'married', 'Spouse', 'Iñigo', 'Marriage', '', 'Widow', 'Widowed', 'Nicole', 'Alicia']\n",
    "in_a_relationship = ['in', 'Partner', 'In']\n",
    "divorced = ['divorced', 'Divorced', 'Divoced', 'Divorce', 'Seprated', 'Seperated', 'Separated']\n",
    "\n",
    "df.marital_status = splitted_marital_status[0]"
   ]
  },
  {
   "cell_type": "code",
   "execution_count": 1462,
   "metadata": {},
   "outputs": [
    {
     "name": "stderr",
     "output_type": "stream",
     "text": [
      "C:\\Users\\Computer\\AppData\\Local\\Packages\\PythonSoftwareFoundation.Python.3.7_qbz5n2kfra8p0\\LocalCache\\local-packages\\Python37\\site-packages\\pandas\\core\\indexing.py:1732: SettingWithCopyWarning:\n",
      "\n",
      "\n",
      "A value is trying to be set on a copy of a slice from a DataFrame\n",
      "\n",
      "See the caveats in the documentation: https://pandas.pydata.org/pandas-docs/stable/user_guide/indexing.html#returning-a-view-versus-a-copy\n",
      "\n"
     ]
    }
   ],
   "source": [
    "for i in range(len(df)) : \n",
    "    if not df.marital_status.isnull()[i] and df.marital_status.iloc[i] in single : \n",
    "        df.marital_status.iloc[i] = 'single'\n",
    "    elif not df.marital_status.isnull()[i] and df.marital_status.iloc[i] in married : \n",
    "        df.marital_status.iloc[i] = 'married'\n",
    "    if not df.marital_status.isnull()[i] and df.marital_status.iloc[i] in in_a_relationship : \n",
    "        df.marital_status.iloc[i] = 'in a relationship'\n",
    "    if not df.marital_status.isnull()[i] and df.marital_status.iloc[i] in divorced : \n",
    "        df.marital_status.iloc[i] = 'divorced'"
   ]
  },
  {
   "cell_type": "code",
   "execution_count": 1463,
   "metadata": {},
   "outputs": [
    {
     "data": {
      "text/plain": [
       "array(['single', 'married', 'divorced', nan, 'in a relationship'],\n",
       "      dtype=object)"
      ]
     },
     "execution_count": 1463,
     "metadata": {},
     "output_type": "execute_result"
    }
   ],
   "source": [
    "df.marital_status.unique()"
   ]
  },
  {
   "cell_type": "code",
   "execution_count": 1464,
   "metadata": {},
   "outputs": [
    {
     "data": {
      "text/plain": [
       "married              1168\n",
       "divorced              236\n",
       "single                196\n",
       "in a relationship      35\n",
       "Name: marital_status, dtype: int64"
      ]
     },
     "execution_count": 1464,
     "metadata": {},
     "output_type": "execute_result"
    }
   ],
   "source": [
    "df.marital_status.value_counts()"
   ]
  },
  {
   "cell_type": "code",
   "execution_count": 1465,
   "metadata": {},
   "outputs": [
    {
     "data": {
      "application/vnd.plotly.v1+json": {
       "config": {
        "plotlyServerURL": "https://plot.ly"
       },
       "data": [
        {
         "hole": 0.5,
         "labels": [
          "single",
          "married",
          "divorced",
          "in a relationship"
         ],
         "type": "pie",
         "values": [
          1168,
          236,
          196,
          35
         ]
        }
       ],
       "layout": {
        "annotations": [
         {
          "font": {
           "size": 20
          },
          "showarrow": false,
          "text": "Relationship",
          "x": 0.5,
          "y": 0.5
         }
        ],
        "template": {
         "data": {
          "bar": [
           {
            "error_x": {
             "color": "#2a3f5f"
            },
            "error_y": {
             "color": "#2a3f5f"
            },
            "marker": {
             "line": {
              "color": "#E5ECF6",
              "width": 0.5
             },
             "pattern": {
              "fillmode": "overlay",
              "size": 10,
              "solidity": 0.2
             }
            },
            "type": "bar"
           }
          ],
          "barpolar": [
           {
            "marker": {
             "line": {
              "color": "#E5ECF6",
              "width": 0.5
             },
             "pattern": {
              "fillmode": "overlay",
              "size": 10,
              "solidity": 0.2
             }
            },
            "type": "barpolar"
           }
          ],
          "carpet": [
           {
            "aaxis": {
             "endlinecolor": "#2a3f5f",
             "gridcolor": "white",
             "linecolor": "white",
             "minorgridcolor": "white",
             "startlinecolor": "#2a3f5f"
            },
            "baxis": {
             "endlinecolor": "#2a3f5f",
             "gridcolor": "white",
             "linecolor": "white",
             "minorgridcolor": "white",
             "startlinecolor": "#2a3f5f"
            },
            "type": "carpet"
           }
          ],
          "choropleth": [
           {
            "colorbar": {
             "outlinewidth": 0,
             "ticks": ""
            },
            "type": "choropleth"
           }
          ],
          "contour": [
           {
            "colorbar": {
             "outlinewidth": 0,
             "ticks": ""
            },
            "colorscale": [
             [
              0,
              "#0d0887"
             ],
             [
              0.1111111111111111,
              "#46039f"
             ],
             [
              0.2222222222222222,
              "#7201a8"
             ],
             [
              0.3333333333333333,
              "#9c179e"
             ],
             [
              0.4444444444444444,
              "#bd3786"
             ],
             [
              0.5555555555555556,
              "#d8576b"
             ],
             [
              0.6666666666666666,
              "#ed7953"
             ],
             [
              0.7777777777777778,
              "#fb9f3a"
             ],
             [
              0.8888888888888888,
              "#fdca26"
             ],
             [
              1,
              "#f0f921"
             ]
            ],
            "type": "contour"
           }
          ],
          "contourcarpet": [
           {
            "colorbar": {
             "outlinewidth": 0,
             "ticks": ""
            },
            "type": "contourcarpet"
           }
          ],
          "heatmap": [
           {
            "colorbar": {
             "outlinewidth": 0,
             "ticks": ""
            },
            "colorscale": [
             [
              0,
              "#0d0887"
             ],
             [
              0.1111111111111111,
              "#46039f"
             ],
             [
              0.2222222222222222,
              "#7201a8"
             ],
             [
              0.3333333333333333,
              "#9c179e"
             ],
             [
              0.4444444444444444,
              "#bd3786"
             ],
             [
              0.5555555555555556,
              "#d8576b"
             ],
             [
              0.6666666666666666,
              "#ed7953"
             ],
             [
              0.7777777777777778,
              "#fb9f3a"
             ],
             [
              0.8888888888888888,
              "#fdca26"
             ],
             [
              1,
              "#f0f921"
             ]
            ],
            "type": "heatmap"
           }
          ],
          "heatmapgl": [
           {
            "colorbar": {
             "outlinewidth": 0,
             "ticks": ""
            },
            "colorscale": [
             [
              0,
              "#0d0887"
             ],
             [
              0.1111111111111111,
              "#46039f"
             ],
             [
              0.2222222222222222,
              "#7201a8"
             ],
             [
              0.3333333333333333,
              "#9c179e"
             ],
             [
              0.4444444444444444,
              "#bd3786"
             ],
             [
              0.5555555555555556,
              "#d8576b"
             ],
             [
              0.6666666666666666,
              "#ed7953"
             ],
             [
              0.7777777777777778,
              "#fb9f3a"
             ],
             [
              0.8888888888888888,
              "#fdca26"
             ],
             [
              1,
              "#f0f921"
             ]
            ],
            "type": "heatmapgl"
           }
          ],
          "histogram": [
           {
            "marker": {
             "pattern": {
              "fillmode": "overlay",
              "size": 10,
              "solidity": 0.2
             }
            },
            "type": "histogram"
           }
          ],
          "histogram2d": [
           {
            "colorbar": {
             "outlinewidth": 0,
             "ticks": ""
            },
            "colorscale": [
             [
              0,
              "#0d0887"
             ],
             [
              0.1111111111111111,
              "#46039f"
             ],
             [
              0.2222222222222222,
              "#7201a8"
             ],
             [
              0.3333333333333333,
              "#9c179e"
             ],
             [
              0.4444444444444444,
              "#bd3786"
             ],
             [
              0.5555555555555556,
              "#d8576b"
             ],
             [
              0.6666666666666666,
              "#ed7953"
             ],
             [
              0.7777777777777778,
              "#fb9f3a"
             ],
             [
              0.8888888888888888,
              "#fdca26"
             ],
             [
              1,
              "#f0f921"
             ]
            ],
            "type": "histogram2d"
           }
          ],
          "histogram2dcontour": [
           {
            "colorbar": {
             "outlinewidth": 0,
             "ticks": ""
            },
            "colorscale": [
             [
              0,
              "#0d0887"
             ],
             [
              0.1111111111111111,
              "#46039f"
             ],
             [
              0.2222222222222222,
              "#7201a8"
             ],
             [
              0.3333333333333333,
              "#9c179e"
             ],
             [
              0.4444444444444444,
              "#bd3786"
             ],
             [
              0.5555555555555556,
              "#d8576b"
             ],
             [
              0.6666666666666666,
              "#ed7953"
             ],
             [
              0.7777777777777778,
              "#fb9f3a"
             ],
             [
              0.8888888888888888,
              "#fdca26"
             ],
             [
              1,
              "#f0f921"
             ]
            ],
            "type": "histogram2dcontour"
           }
          ],
          "mesh3d": [
           {
            "colorbar": {
             "outlinewidth": 0,
             "ticks": ""
            },
            "type": "mesh3d"
           }
          ],
          "parcoords": [
           {
            "line": {
             "colorbar": {
              "outlinewidth": 0,
              "ticks": ""
             }
            },
            "type": "parcoords"
           }
          ],
          "pie": [
           {
            "automargin": true,
            "type": "pie"
           }
          ],
          "scatter": [
           {
            "fillpattern": {
             "fillmode": "overlay",
             "size": 10,
             "solidity": 0.2
            },
            "type": "scatter"
           }
          ],
          "scatter3d": [
           {
            "line": {
             "colorbar": {
              "outlinewidth": 0,
              "ticks": ""
             }
            },
            "marker": {
             "colorbar": {
              "outlinewidth": 0,
              "ticks": ""
             }
            },
            "type": "scatter3d"
           }
          ],
          "scattercarpet": [
           {
            "marker": {
             "colorbar": {
              "outlinewidth": 0,
              "ticks": ""
             }
            },
            "type": "scattercarpet"
           }
          ],
          "scattergeo": [
           {
            "marker": {
             "colorbar": {
              "outlinewidth": 0,
              "ticks": ""
             }
            },
            "type": "scattergeo"
           }
          ],
          "scattergl": [
           {
            "marker": {
             "colorbar": {
              "outlinewidth": 0,
              "ticks": ""
             }
            },
            "type": "scattergl"
           }
          ],
          "scattermapbox": [
           {
            "marker": {
             "colorbar": {
              "outlinewidth": 0,
              "ticks": ""
             }
            },
            "type": "scattermapbox"
           }
          ],
          "scatterpolar": [
           {
            "marker": {
             "colorbar": {
              "outlinewidth": 0,
              "ticks": ""
             }
            },
            "type": "scatterpolar"
           }
          ],
          "scatterpolargl": [
           {
            "marker": {
             "colorbar": {
              "outlinewidth": 0,
              "ticks": ""
             }
            },
            "type": "scatterpolargl"
           }
          ],
          "scatterternary": [
           {
            "marker": {
             "colorbar": {
              "outlinewidth": 0,
              "ticks": ""
             }
            },
            "type": "scatterternary"
           }
          ],
          "surface": [
           {
            "colorbar": {
             "outlinewidth": 0,
             "ticks": ""
            },
            "colorscale": [
             [
              0,
              "#0d0887"
             ],
             [
              0.1111111111111111,
              "#46039f"
             ],
             [
              0.2222222222222222,
              "#7201a8"
             ],
             [
              0.3333333333333333,
              "#9c179e"
             ],
             [
              0.4444444444444444,
              "#bd3786"
             ],
             [
              0.5555555555555556,
              "#d8576b"
             ],
             [
              0.6666666666666666,
              "#ed7953"
             ],
             [
              0.7777777777777778,
              "#fb9f3a"
             ],
             [
              0.8888888888888888,
              "#fdca26"
             ],
             [
              1,
              "#f0f921"
             ]
            ],
            "type": "surface"
           }
          ],
          "table": [
           {
            "cells": {
             "fill": {
              "color": "#EBF0F8"
             },
             "line": {
              "color": "white"
             }
            },
            "header": {
             "fill": {
              "color": "#C8D4E3"
             },
             "line": {
              "color": "white"
             }
            },
            "type": "table"
           }
          ]
         },
         "layout": {
          "annotationdefaults": {
           "arrowcolor": "#2a3f5f",
           "arrowhead": 0,
           "arrowwidth": 1
          },
          "autotypenumbers": "strict",
          "coloraxis": {
           "colorbar": {
            "outlinewidth": 0,
            "ticks": ""
           }
          },
          "colorscale": {
           "diverging": [
            [
             0,
             "#8e0152"
            ],
            [
             0.1,
             "#c51b7d"
            ],
            [
             0.2,
             "#de77ae"
            ],
            [
             0.3,
             "#f1b6da"
            ],
            [
             0.4,
             "#fde0ef"
            ],
            [
             0.5,
             "#f7f7f7"
            ],
            [
             0.6,
             "#e6f5d0"
            ],
            [
             0.7,
             "#b8e186"
            ],
            [
             0.8,
             "#7fbc41"
            ],
            [
             0.9,
             "#4d9221"
            ],
            [
             1,
             "#276419"
            ]
           ],
           "sequential": [
            [
             0,
             "#0d0887"
            ],
            [
             0.1111111111111111,
             "#46039f"
            ],
            [
             0.2222222222222222,
             "#7201a8"
            ],
            [
             0.3333333333333333,
             "#9c179e"
            ],
            [
             0.4444444444444444,
             "#bd3786"
            ],
            [
             0.5555555555555556,
             "#d8576b"
            ],
            [
             0.6666666666666666,
             "#ed7953"
            ],
            [
             0.7777777777777778,
             "#fb9f3a"
            ],
            [
             0.8888888888888888,
             "#fdca26"
            ],
            [
             1,
             "#f0f921"
            ]
           ],
           "sequentialminus": [
            [
             0,
             "#0d0887"
            ],
            [
             0.1111111111111111,
             "#46039f"
            ],
            [
             0.2222222222222222,
             "#7201a8"
            ],
            [
             0.3333333333333333,
             "#9c179e"
            ],
            [
             0.4444444444444444,
             "#bd3786"
            ],
            [
             0.5555555555555556,
             "#d8576b"
            ],
            [
             0.6666666666666666,
             "#ed7953"
            ],
            [
             0.7777777777777778,
             "#fb9f3a"
            ],
            [
             0.8888888888888888,
             "#fdca26"
            ],
            [
             1,
             "#f0f921"
            ]
           ]
          },
          "colorway": [
           "#636efa",
           "#EF553B",
           "#00cc96",
           "#ab63fa",
           "#FFA15A",
           "#19d3f3",
           "#FF6692",
           "#B6E880",
           "#FF97FF",
           "#FECB52"
          ],
          "font": {
           "color": "#2a3f5f"
          },
          "geo": {
           "bgcolor": "white",
           "lakecolor": "white",
           "landcolor": "#E5ECF6",
           "showlakes": true,
           "showland": true,
           "subunitcolor": "white"
          },
          "hoverlabel": {
           "align": "left"
          },
          "hovermode": "closest",
          "mapbox": {
           "style": "light"
          },
          "paper_bgcolor": "white",
          "plot_bgcolor": "#E5ECF6",
          "polar": {
           "angularaxis": {
            "gridcolor": "white",
            "linecolor": "white",
            "ticks": ""
           },
           "bgcolor": "#E5ECF6",
           "radialaxis": {
            "gridcolor": "white",
            "linecolor": "white",
            "ticks": ""
           }
          },
          "scene": {
           "xaxis": {
            "backgroundcolor": "#E5ECF6",
            "gridcolor": "white",
            "gridwidth": 2,
            "linecolor": "white",
            "showbackground": true,
            "ticks": "",
            "zerolinecolor": "white"
           },
           "yaxis": {
            "backgroundcolor": "#E5ECF6",
            "gridcolor": "white",
            "gridwidth": 2,
            "linecolor": "white",
            "showbackground": true,
            "ticks": "",
            "zerolinecolor": "white"
           },
           "zaxis": {
            "backgroundcolor": "#E5ECF6",
            "gridcolor": "white",
            "gridwidth": 2,
            "linecolor": "white",
            "showbackground": true,
            "ticks": "",
            "zerolinecolor": "white"
           }
          },
          "shapedefaults": {
           "line": {
            "color": "#2a3f5f"
           }
          },
          "ternary": {
           "aaxis": {
            "gridcolor": "white",
            "linecolor": "white",
            "ticks": ""
           },
           "baxis": {
            "gridcolor": "white",
            "linecolor": "white",
            "ticks": ""
           },
           "bgcolor": "#E5ECF6",
           "caxis": {
            "gridcolor": "white",
            "linecolor": "white",
            "ticks": ""
           }
          },
          "title": {
           "x": 0.05
          },
          "xaxis": {
           "automargin": true,
           "gridcolor": "white",
           "linecolor": "white",
           "ticks": "",
           "title": {
            "standoff": 15
           },
           "zerolinecolor": "white",
           "zerolinewidth": 2
          },
          "yaxis": {
           "automargin": true,
           "gridcolor": "white",
           "linecolor": "white",
           "ticks": "",
           "title": {
            "standoff": 15
           },
           "zerolinecolor": "white",
           "zerolinewidth": 2
          }
         }
        },
        "title": {
         "text": "Relationship status : "
        }
       }
      }
     },
     "metadata": {},
     "output_type": "display_data"
    }
   ],
   "source": [
    "fig = go.Figure(data = [go.Pie(labels = df.marital_status.dropna().unique(), values = df.marital_status.value_counts().dropna(), hole = 0.5)])\n",
    "fig.update_layout(\n",
    "    title_text=\"Relationship status : \",\n",
    "    annotations=[dict(text='Relationship', x=0.5, y=0.5, font_size=20, showarrow=False)])\n",
    "fig.show()"
   ]
  },
  {
   "cell_type": "code",
   "execution_count": 1466,
   "metadata": {},
   "outputs": [],
   "source": [
    "df.to_csv('preprocessed_df.csv', encoding='utf-8', index= False)"
   ]
  },
  {
   "cell_type": "code",
   "execution_count": 1467,
   "metadata": {},
   "outputs": [],
   "source": [
    "df.marital_status.fillna('married', inplace= True)"
   ]
  },
  {
   "cell_type": "code",
   "execution_count": 1468,
   "metadata": {},
   "outputs": [
    {
     "data": {
      "text/plain": [
       "Name                0\n",
       "age                 0\n",
       "country           342\n",
       "category            0\n",
       "image               0\n",
       "marital_status      0\n",
       "Education         197\n",
       "net_worth           0\n",
       "Degree            544\n",
       "first_name          0\n",
       "Gender              0\n",
       "dtype: int64"
      ]
     },
     "execution_count": 1468,
     "metadata": {},
     "output_type": "execute_result"
    }
   ],
   "source": [
    "df.isnull().sum()"
   ]
  },
  {
   "cell_type": "code",
   "execution_count": 1469,
   "metadata": {},
   "outputs": [],
   "source": [
    "degree = []\n",
    "for i in range(len(df)) :\n",
    "    try : \n",
    "        if 'College' in  df['Education'][i] : \n",
    "            degree.append('Graduate')\n",
    "        elif 'University' in df['Education'][i] : \n",
    "            degree.append('Post Graduate')\n",
    "        elif 'High School' in df['Education'][i] : \n",
    "            degree.append('high school')\n",
    "        elif df['Education'][i] != np.nan : \n",
    "            degree.append('Graduate')\n",
    "        else :\n",
    "            degree.append('high school')\n",
    "    except :\n",
    "        degree.append(np.nan)\n",
    "# degree\n",
    "df['Degree'] = degree\n",
    "# df"
   ]
  },
  {
   "cell_type": "code",
   "execution_count": 1470,
   "metadata": {},
   "outputs": [
    {
     "data": {
      "image/png": "[encoded data removed]",
      "text/plain": [
       "<Figure size 432x288 with 1 Axes>"
      ]
     },
     "metadata": {
      "needs_background": "light"
     },
     "output_type": "display_data"
    }
   ],
   "source": [
    "df.Degree.value_counts().plot(kind='bar');"
   ]
  },
  {
   "cell_type": "code",
   "execution_count": 1471,
   "metadata": {},
   "outputs": [],
   "source": [
    "df.Degree.fillna('high school', inplace= True)"
   ]
  },
  {
   "cell_type": "code",
   "execution_count": 1472,
   "metadata": {},
   "outputs": [
    {
     "data": {
      "text/plain": [
       "Name                0\n",
       "age                 0\n",
       "country           342\n",
       "category            0\n",
       "image               0\n",
       "marital_status      0\n",
       "Education         197\n",
       "net_worth           0\n",
       "Degree              0\n",
       "first_name          0\n",
       "Gender              0\n",
       "dtype: int64"
      ]
     },
     "execution_count": 1472,
     "metadata": {},
     "output_type": "execute_result"
    }
   ],
   "source": [
    "df.isnull().sum()"
   ]
  },
  {
   "cell_type": "code",
   "execution_count": 1473,
   "metadata": {},
   "outputs": [],
   "source": [
    "df.country.fillna('Others', inplace = True)"
   ]
  },
  {
   "cell_type": "code",
   "execution_count": 1474,
   "metadata": {},
   "outputs": [
    {
     "data": {
      "text/plain": [
       "<AxesSubplot:>"
      ]
     },
     "execution_count": 1474,
     "metadata": {},
     "output_type": "execute_result"
    },
    {
     "data": {
      "image/png": "[encoded data removed]",
      "text/plain": [
       "<Figure size 432x288 with 1 Axes>"
      ]
     },
     "metadata": {
      "needs_background": "light"
     },
     "output_type": "display_data"
    }
   ],
   "source": [
    "df.country.value_counts().plot(kind = 'bar')"
   ]
  },
  {
   "cell_type": "code",
   "execution_count": 1475,
   "metadata": {},
   "outputs": [
    {
     "name": "stdout",
     "output_type": "stream",
     "text": [
      "<class 'pandas.core.frame.DataFrame'>\n",
      "RangeIndex: 1817 entries, 0 to 1816\n",
      "Data columns (total 11 columns):\n",
      " #   Column          Non-Null Count  Dtype  \n",
      "---  ------          --------------  -----  \n",
      " 0   Name            1817 non-null   object \n",
      " 1   age             1817 non-null   float64\n",
      " 2   country         1817 non-null   object \n",
      " 3   category        1817 non-null   object \n",
      " 4   image           1817 non-null   object \n",
      " 5   marital_status  1817 non-null   object \n",
      " 6   Education       1620 non-null   object \n",
      " 7   net_worth       1817 non-null   object \n",
      " 8   Degree          1817 non-null   object \n",
      " 9   first_name      1817 non-null   object \n",
      " 10  Gender          1817 non-null   object \n",
      "dtypes: float64(1), object(10)\n",
      "memory usage: 156.3+ KB\n"
     ]
    }
   ],
   "source": [
    "df.info()"
   ]
  },
  {
   "cell_type": "code",
   "execution_count": 1476,
   "metadata": {},
   "outputs": [
    {
     "data": {
      "text/plain": [
       "array(['United states', 'United kingdom', 'France', 'Brazil',\n",
       "       'South africa', 'Others', 'Spain', 'Italy', 'Australia', 'India',\n",
       "       'Canada', 'New zealand', 'Japan', 'Germany', 'China',\n",
       "       'Switzerland', 'Russia', 'Ireland', 'Belgium'], dtype=object)"
      ]
     },
     "execution_count": 1476,
     "metadata": {},
     "output_type": "execute_result"
    }
   ],
   "source": [
    "df.country.unique()"
   ]
  },
  {
   "cell_type": "code",
   "execution_count": 1477,
   "metadata": {},
   "outputs": [
    {
     "data": {
      "text/plain": [
       "array([18, 17,  5,  2, 14, 12, 15,  9,  0,  7,  3, 11, 10,  6,  4, 16, 13,\n",
       "        8,  1])"
      ]
     },
     "execution_count": 1477,
     "metadata": {},
     "output_type": "execute_result"
    }
   ],
   "source": [
    "label_encoder = preprocessing.LabelEncoder()\n",
    "df['country']= label_encoder.fit_transform(df['country'])\n",
    "df.country.unique()"
   ]
  },
  {
   "cell_type": "code",
   "execution_count": 1478,
   "metadata": {},
   "outputs": [],
   "source": [
    "country_dict = {\n",
    "    'United states' : 18, 'United kingdom' : 17, 'France' : 5,\n",
    "    'Brazil' : 2, 'South africa' : 14, 'Others' : 12, 'Spain' : 15, \n",
    "    'Italy' : 9, 'Australia' : 0, 'India' : 7, 'Canada' : 3, \n",
    "    'New zealand' : 11, 'Japan' : 10, 'Germany' : 6, 'China' : 4,\n",
    "    'Switzerland' : 16, 'Russia' : 13, 'Ireland' : 8, 'Belgium' : 1\n",
    "}"
   ]
  },
  {
   "cell_type": "code",
   "execution_count": 1479,
   "metadata": {},
   "outputs": [
    {
     "data": {
      "text/plain": [
       "array(['Post Graduate', 'high school', 'Graduate'], dtype=object)"
      ]
     },
     "execution_count": 1479,
     "metadata": {},
     "output_type": "execute_result"
    }
   ],
   "source": [
    "df.Degree.unique()"
   ]
  },
  {
   "cell_type": "code",
   "execution_count": 1480,
   "metadata": {},
   "outputs": [
    {
     "data": {
      "text/plain": [
       "array([1, 2, 0])"
      ]
     },
     "execution_count": 1480,
     "metadata": {},
     "output_type": "execute_result"
    }
   ],
   "source": [
    "df['Degree']= label_encoder.fit_transform(df['Degree'])\n",
    "df.Degree.unique()"
   ]
  },
  {
   "cell_type": "code",
   "execution_count": 1481,
   "metadata": {},
   "outputs": [],
   "source": [
    "degree_dict = {\n",
    "    'Post Graduate' : 1, 'high school' : 2, 'Graduate' : 0\n",
    "}"
   ]
  },
  {
   "cell_type": "code",
   "execution_count": 1482,
   "metadata": {},
   "outputs": [
    {
     "data": {
      "text/plain": [
       "array(['single', 'married', 'divorced', 'in a relationship'], dtype=object)"
      ]
     },
     "execution_count": 1482,
     "metadata": {},
     "output_type": "execute_result"
    }
   ],
   "source": [
    "df.marital_status.unique()"
   ]
  },
  {
   "cell_type": "code",
   "execution_count": 1483,
   "metadata": {},
   "outputs": [
    {
     "data": {
      "text/plain": [
       "array([3, 2, 0, 1])"
      ]
     },
     "execution_count": 1483,
     "metadata": {},
     "output_type": "execute_result"
    }
   ],
   "source": [
    "df['marital_status']= label_encoder.fit_transform(df['marital_status'])\n",
    "df.marital_status.unique()"
   ]
  },
  {
   "cell_type": "code",
   "execution_count": 1484,
   "metadata": {},
   "outputs": [],
   "source": [
    "marital_status_dict = {\n",
    "    'single' : 3, 'married' : 2, 'divorced' : 0, 'in a relationship' : 1\n",
    "}"
   ]
  },
  {
   "cell_type": "code",
   "execution_count": 1485,
   "metadata": {},
   "outputs": [
    {
     "data": {
      "text/plain": [
       "array(['actresses', 'actors', 'baseball-players', 'basketball-players',\n",
       "       'businesswomen', 'businessmen', 'ceos', 'comedians',\n",
       "       'entrepreneurs', 'directors', 'hockey-players', 'models',\n",
       "       'musicians', 'nfl-players', 'producers', 'rappers', 'singers',\n",
       "       'soccer-players', 'tv-personalities'], dtype=object)"
      ]
     },
     "execution_count": 1485,
     "metadata": {},
     "output_type": "execute_result"
    }
   ],
   "source": [
    "df.category.unique()"
   ]
  },
  {
   "cell_type": "code",
   "execution_count": 1486,
   "metadata": {},
   "outputs": [
    {
     "data": {
      "text/plain": [
       "array([ 1,  0,  2,  3,  5,  4,  6,  7,  9,  8, 10, 11, 12, 13, 14, 15, 16,\n",
       "       17, 18])"
      ]
     },
     "execution_count": 1486,
     "metadata": {},
     "output_type": "execute_result"
    }
   ],
   "source": [
    "df['category']= label_encoder.fit_transform(df['category'])\n",
    "df.category.unique()"
   ]
  },
  {
   "cell_type": "code",
   "execution_count": 1487,
   "metadata": {},
   "outputs": [],
   "source": [
    "category_dict = {\n",
    "    'actresses' : 1, 'actors' : 0, 'baseball-players' : 2, 'basketball-players' : 3,\n",
    "       'businesswomen' : 5, 'businessmen' : 4, 'ceos' : 6, 'comedians' : 7,\n",
    "       'entrepreneurs' : 9, 'directors' : 8, 'hockey-players' : 10, 'models' : 11,\n",
    "       'musicians' : 12, 'nfl-players' : 13, 'producers' : 14, 'rappers' : 15, 'singers' : 16,\n",
    "       'soccer-players' : 17, 'tv-personalities' : 18\n",
    "}"
   ]
  },
  {
   "cell_type": "code",
   "execution_count": 1488,
   "metadata": {},
   "outputs": [
    {
     "data": {
      "text/plain": [
       "array(['others', 'female', 'male'], dtype=object)"
      ]
     },
     "execution_count": 1488,
     "metadata": {},
     "output_type": "execute_result"
    }
   ],
   "source": [
    "df.Gender.unique()"
   ]
  },
  {
   "cell_type": "code",
   "execution_count": 1489,
   "metadata": {},
   "outputs": [
    {
     "data": {
      "text/plain": [
       "array([2, 0, 1])"
      ]
     },
     "execution_count": 1489,
     "metadata": {},
     "output_type": "execute_result"
    }
   ],
   "source": [
    "df['Gender']= label_encoder.fit_transform(df['Gender'])\n",
    "df.Gender.unique()"
   ]
  },
  {
   "cell_type": "code",
   "execution_count": 1490,
   "metadata": {},
   "outputs": [],
   "source": [
    "gender_dict = {\n",
    "    'others' : 2, 'female' : 0, 'male' : 1\n",
    "}"
   ]
  },
  {
   "cell_type": "code",
   "execution_count": 1491,
   "metadata": {},
   "outputs": [],
   "source": [
    "df['net_worth'] = df['net_worth'].astype(float)"
   ]
  },
  {
   "cell_type": "code",
   "execution_count": 1492,
   "metadata": {},
   "outputs": [
    {
     "data": {
      "image/png": "[encoded data removed]",
      "text/plain": [
       "<Figure size 432x288 with 1 Axes>"
      ]
     },
     "metadata": {
      "needs_background": "light"
     },
     "output_type": "display_data"
    }
   ],
   "source": [
    "plt.scatter(df['age'], df['net_worth']);"
   ]
  },
  {
   "cell_type": "code",
   "execution_count": 1493,
   "metadata": {},
   "outputs": [
    {
     "data": {
      "image/png": "[encoded data removed]",
      "text/plain": [
       "<Figure size 432x288 with 1 Axes>"
      ]
     },
     "metadata": {
      "needs_background": "light"
     },
     "output_type": "display_data"
    }
   ],
   "source": [
    "plt.scatter(df['category'], df['net_worth']);"
   ]
  },
  {
   "cell_type": "code",
   "execution_count": 1494,
   "metadata": {},
   "outputs": [
    {
     "data": {
      "application/vnd.plotly.v1+json": {
       "config": {
        "plotlyServerURL": "https://plot.ly"
       },
       "data": [
        {
         "alignmentgroup": "True",
         "hovertemplate": "net_worth=%{x}<extra></extra>",
         "legendgroup": "",
         "marker": {
          "color": "#636efa"
         },
         "name": "",
         "notched": false,
         "offsetgroup": "",
         "orientation": "h",
         "showlegend": false,
         "type": "box",
         "x": [
          500,
          300,
          250,
          250,
          215,
          200,
          199.56,
          185,
          185,
          160,
          160,
          160,
          160,
          150,
          145,
          145,
          145,
          140,
          135,
          125,
          125,
          120,
          120,
          120,
          110,
          100,
          100,
          90,
          90,
          85,
          80,
          80,
          80,
          75,
          75,
          75,
          75,
          70,
          70,
          70,
          70,
          70,
          65,
          60,
          60,
          60,
          60,
          60,
          60,
          60,
          60,
          55,
          55,
          55,
          55,
          55,
          54,
          53,
          52,
          50,
          50,
          50,
          50,
          50,
          50,
          50,
          50,
          50,
          50,
          48,
          45,
          45,
          45,
          45,
          45,
          45,
          45,
          45,
          45,
          45,
          45,
          45,
          45,
          45,
          43,
          42,
          42,
          40,
          40,
          40,
          40,
          40,
          40,
          40,
          40,
          40,
          38,
          38,
          36,
          35,
          1000,
          700,
          550,
          500,
          425,
          425,
          420,
          420,
          400,
          400,
          395,
          375,
          350,
          350,
          300,
          300,
          300,
          275,
          245,
          245,
          240,
          230,
          230,
          215,
          215,
          200,
          200,
          200,
          200,
          200,
          190,
          185,
          180,
          175,
          170,
          160,
          160,
          150,
          150,
          150,
          150,
          145,
          145,
          140,
          140,
          130,
          130,
          150,
          125,
          120,
          350,
          120,
          110,
          110,
          110,
          110,
          105,
          100,
          100,
          100,
          100,
          100,
          100,
          100,
          100,
          97,
          90,
          90,
          85,
          85,
          80,
          80,
          80,
          80,
          80,
          80,
          77,
          75,
          75,
          75,
          75,
          75,
          70,
          70,
          70,
          70,
          70,
          70,
          70,
          70,
          70,
          70,
          65,
          65,
          65,
          65,
          65,
          65,
          65,
          65,
          300,
          185,
          155,
          140,
          140,
          125,
          125,
          115,
          110,
          110,
          110,
          110,
          100.9,
          100,
          100,
          90,
          90,
          90,
          80,
          80,
          80,
          80,
          80,
          79,
          75,
          75,
          75,
          75,
          70,
          70,
          70,
          70,
          70,
          68,
          67,
          65,
          65,
          65,
          65,
          60,
          60,
          60,
          60,
          60,
          60,
          60,
          60,
          60,
          60,
          60,
          60,
          60,
          60,
          60,
          60,
          60,
          58,
          57,
          55,
          55,
          55,
          54,
          54,
          53,
          51,
          50.4,
          50,
          50,
          50,
          50,
          50,
          50,
          50,
          50,
          50,
          50,
          50,
          50,
          50,
          50,
          46,
          45,
          45,
          45,
          45,
          40,
          40,
          40,
          40,
          40,
          40,
          40,
          40,
          40,
          40,
          38,
          35,
          35,
          35,
          35,
          1600,
          600,
          600,
          500,
          440,
          400,
          350,
          200,
          180,
          180,
          177,
          170,
          170,
          143.4,
          135,
          130,
          125,
          120,
          115,
          115,
          115,
          110,
          95,
          95,
          90,
          90,
          90,
          90,
          85,
          85,
          81.9,
          80,
          80,
          80,
          80,
          75,
          75,
          75,
          75,
          75,
          73,
          70,
          70,
          70,
          70,
          70,
          70,
          68.2,
          68,
          65,
          65,
          65,
          64.2,
          62.7,
          61.3,
          60,
          60,
          60,
          60,
          60,
          60,
          60,
          60,
          60,
          60,
          57.6,
          56,
          55,
          55,
          55,
          55,
          53,
          51,
          50,
          50,
          50,
          50,
          50,
          50,
          48,
          48,
          45.6,
          45,
          45,
          45,
          45,
          45,
          45,
          45,
          45,
          45,
          45,
          45,
          45,
          45,
          44,
          40,
          40,
          40,
          40,
          41600,
          33400,
          26100,
          23600,
          21200,
          19000,
          17300,
          17200,
          17000,
          16200,
          16000,
          15400,
          12600,
          12000,
          11000,
          10600,
          10400,
          10200,
          9590,
          9590,
          9310,
          8260,
          7910,
          7650,
          7140,
          6820,
          6480,
          6070,
          5950,
          5910,
          5860,
          5700,
          5600,
          5500,
          5500,
          5500,
          5200,
          5050,
          5000,
          5000,
          5000,
          4970,
          4900,
          4900,
          4860,
          4500,
          4300,
          4200,
          4200,
          4100,
          4100,
          4000,
          3800,
          3700,
          3700,
          3600,
          3500,
          3500,
          3500,
          3500,
          3500,
          2600,
          2600,
          2500,
          2500,
          2500,
          2500,
          2400,
          2400,
          2400,
          2400,
          2300,
          2200,
          2200,
          2100,
          2000,
          2000,
          1900,
          1900,
          1900,
          1850,
          1850,
          1800,
          1700,
          1700,
          1690,
          196000,
          125900,
          122000,
          101000,
          100300,
          91800,
          91200,
          82000,
          60350,
          97250,
          59000,
          50500,
          57000,
          54200,
          53500,
          53300,
          53300,
          52800,
          42300,
          41600,
          34600,
          33700,
          31900,
          31400,
          30300,
          30200,
          27700,
          27400,
          27400,
          27400,
          27100,
          27000,
          26200,
          25500,
          25300,
          24100,
          23800,
          23200,
          22900,
          22200,
          21100,
          21100,
          20100,
          17200,
          17200,
          17200,
          17000,
          17000,
          16900,
          16800,
          16800,
          16800,
          16700,
          16700,
          16700,
          16500,
          16500,
          16300,
          16300,
          16100.000000000002,
          16100.000000000002,
          15500,
          15100,
          15000,
          15000,
          14700,
          14200,
          14100,
          14100,
          14000,
          13700,
          13700,
          13700,
          13500,
          13400,
          13300,
          13100,
          12900,
          12900,
          12900,
          12800,
          12800,
          12400,
          12340,
          12100,
          12100,
          12000,
          12000,
          11900,
          11500,
          11400,
          11400,
          11400,
          163900,
          54200,
          53300,
          30400,
          22500,
          18700,
          17400,
          17200,
          14700,
          13200,
          9910,
          9240,
          8460,
          8390,
          8170,
          7000,
          6840,
          6650,
          4800,
          4700,
          4600,
          4500,
          4300,
          4100,
          3900,
          3900,
          3800,
          3700,
          3700,
          3700,
          3700,
          3700,
          3600,
          3500,
          3500,
          3400,
          3300,
          3100,
          3000,
          2900,
          2700,
          2700,
          2600,
          2600,
          2600,
          2500,
          2500,
          2400,
          2400,
          2300,
          2100,
          2100,
          2100,
          2000,
          2000,
          2000,
          1950,
          1900,
          1840,
          1760,
          1750,
          1700,
          1600,
          1600,
          1550,
          1550,
          1500,
          1400,
          1400,
          1400,
          1400,
          1350,
          1350,
          1300,
          1300,
          1300,
          1240,
          1200,
          1200,
          1150,
          1100,
          1100,
          1100,
          1100,
          1050,
          1050,
          1040,
          1000,
          1000,
          1000,
          1000,
          1000,
          1000,
          1000,
          950,
          840,
          720,
          600,
          600,
          600,
          920,
          800,
          500,
          400,
          400,
          350,
          300,
          200,
          194,
          165,
          150,
          150,
          150,
          135,
          130,
          120,
          120,
          100,
          100,
          100,
          100,
          85,
          80,
          80,
          80,
          80,
          75,
          75,
          60,
          60,
          50,
          50,
          45,
          45,
          42,
          40,
          40,
          40,
          40,
          40,
          35,
          35,
          35,
          35,
          35,
          30,
          30,
          30,
          30,
          30,
          30,
          30,
          30,
          30,
          28,
          25,
          25,
          25,
          25,
          25,
          25,
          20,
          20,
          20,
          20,
          20,
          20,
          20,
          20,
          20,
          20,
          20,
          20,
          18,
          18,
          17,
          17,
          17,
          16,
          16,
          16,
          16,
          16,
          16,
          15,
          15,
          15,
          15,
          15,
          15,
          15,
          14,
          13,
          12,
          12,
          12,
          12,
          12,
          12,
          12,
          41100,
          22500,
          16700,
          16500,
          14900,
          11600,
          11600,
          10600,
          8730,
          8230,
          2400,
          2300,
          2200,
          2100,
          1900,
          1800,
          1500,
          1500,
          1400,
          1400,
          1400,
          1350,
          1300,
          1300,
          1300,
          1300,
          1290,
          1200,
          1200,
          1200,
          1200,
          1200,
          1100,
          1060,
          1000,
          1000,
          1000,
          900,
          800,
          750,
          650,
          500,
          500,
          450,
          400,
          400,
          400,
          350,
          320,
          300,
          300,
          300,
          300,
          250,
          200,
          200,
          200,
          200,
          200,
          135,
          120,
          120,
          100,
          100,
          100,
          90,
          82,
          80,
          50,
          50,
          50,
          45,
          40,
          40,
          38,
          30,
          20,
          20,
          20,
          20,
          16,
          15,
          15,
          12,
          10,
          7620,
          5410,
          5330,
          700,
          600,
          600,
          500,
          450,
          100,
          100,
          100,
          90,
          90,
          90,
          90,
          80,
          80,
          80,
          80,
          80,
          75,
          75,
          72,
          70,
          70,
          70,
          70,
          70,
          65,
          60,
          60,
          60,
          60,
          60,
          60,
          60,
          60,
          55,
          50,
          50,
          50,
          50,
          50,
          50,
          50,
          50,
          50,
          50,
          50,
          45,
          40,
          40,
          40,
          40,
          40,
          40,
          40,
          40,
          40,
          38,
          35,
          35,
          35,
          32,
          30,
          30,
          30,
          30,
          30,
          28,
          25,
          25,
          25,
          25,
          22,
          22,
          20,
          20,
          20,
          20,
          20,
          20,
          20,
          200,
          150,
          75,
          70,
          70,
          70,
          64.1,
          62,
          60,
          60,
          60,
          59,
          57.7,
          55.9,
          55,
          53,
          50,
          50,
          50,
          50,
          48.2,
          47,
          45,
          45,
          45,
          45,
          45,
          45,
          44,
          43,
          42,
          40,
          40,
          40,
          40,
          40,
          38.6,
          38,
          36,
          36,
          36,
          36,
          36,
          36,
          35,
          35,
          35,
          34.8,
          33,
          31,
          31,
          30,
          30,
          30,
          30,
          30,
          30,
          30,
          30,
          30,
          26.6,
          26,
          25,
          25,
          25,
          25,
          24,
          24,
          24,
          23,
          23,
          22.5,
          22,
          22,
          22,
          21.8,
          21,
          20,
          20,
          20,
          19.9,
          19.5,
          19,
          18,
          18,
          17.8,
          17,
          16.5,
          16.5,
          16,
          15.4,
          15.3,
          15,
          15,
          14,
          14,
          13,
          12.3,
          12,
          12,
          1200,
          450,
          360,
          360,
          300,
          200,
          170,
          160,
          100,
          100,
          100,
          100,
          95,
          90,
          80,
          75,
          72,
          70,
          55,
          50,
          45,
          45,
          45,
          45,
          45,
          45,
          42,
          40,
          35,
          35,
          35,
          30,
          29,
          28,
          25,
          25,
          25,
          25,
          24,
          24,
          24,
          23,
          21,
          20,
          20,
          20,
          20,
          20,
          20,
          20,
          20,
          20,
          20,
          20,
          19,
          18,
          18,
          18,
          18,
          18,
          18,
          18,
          17,
          16,
          16,
          16,
          15,
          15,
          15,
          15,
          15,
          15,
          15,
          15,
          15,
          14,
          14,
          14,
          14,
          13,
          13,
          13,
          13,
          12,
          12,
          10,
          10,
          10,
          10,
          10,
          10,
          10,
          10,
          10,
          10,
          10,
          10,
          10,
          10,
          9,
          1400,
          1280,
          1200,
          850,
          825,
          800,
          580,
          500,
          480,
          475,
          430,
          360,
          350,
          345,
          340,
          320,
          300,
          300,
          300,
          300,
          300,
          275,
          270,
          260,
          250,
          250,
          250,
          250,
          235,
          230,
          220,
          200,
          200,
          200,
          200,
          180,
          180,
          175,
          175,
          170,
          170,
          170,
          150,
          150,
          140,
          140,
          125,
          115,
          115,
          110,
          105,
          100,
          100,
          100,
          100,
          100,
          95,
          90,
          90,
          90,
          90,
          85,
          80,
          80,
          80,
          80,
          75,
          75,
          75,
          75,
          75,
          75,
          70,
          70,
          70,
          70,
          70,
          70,
          70,
          70,
          65,
          65,
          65,
          65,
          65,
          65,
          60,
          60,
          60,
          60,
          60,
          60,
          60,
          55,
          55,
          55,
          55,
          50,
          50,
          50,
          600,
          200,
          200,
          180,
          130,
          100,
          100,
          100,
          85,
          80,
          70,
          70,
          70,
          69,
          65,
          62,
          60,
          60,
          60,
          58,
          57,
          55,
          55,
          55,
          55,
          54,
          53,
          52,
          50,
          50,
          50,
          50,
          48,
          48,
          48,
          48,
          48,
          48,
          46,
          46,
          45,
          45,
          45,
          45,
          45,
          45,
          45,
          45,
          45,
          41,
          40,
          40,
          40,
          40,
          40,
          40,
          40,
          39.5,
          36,
          36,
          36,
          36,
          35,
          35,
          35,
          35,
          35,
          35,
          35,
          35,
          35,
          35,
          35,
          35,
          34,
          34,
          34,
          33,
          33,
          33,
          33,
          32,
          32,
          31,
          30.5,
          30,
          30,
          30,
          30,
          30,
          30,
          30,
          30,
          30,
          30,
          30,
          30,
          30,
          30,
          30,
          7620,
          3400,
          1900,
          1850,
          1200,
          1000,
          900,
          900,
          800,
          800,
          700,
          600,
          600,
          600,
          580,
          550,
          550,
          500,
          500,
          438,
          400,
          400,
          360,
          350,
          350,
          300,
          300,
          280,
          250,
          250,
          250,
          250,
          225,
          200,
          200,
          200,
          175,
          165,
          150,
          150,
          150,
          150,
          150,
          125,
          125,
          125,
          120,
          120,
          120,
          118.24,
          115,
          110,
          100,
          100,
          100,
          100,
          100,
          100,
          100,
          100,
          90,
          90,
          80,
          80,
          80,
          80,
          80,
          80,
          75,
          75,
          70,
          70,
          65,
          65,
          65,
          65,
          60,
          60,
          60,
          60,
          60,
          55,
          55,
          55,
          52.5,
          50,
          50,
          50,
          50,
          50,
          50,
          50,
          45,
          40,
          40,
          1800,
          1400,
          885,
          825,
          800,
          340,
          250,
          180,
          180,
          170,
          150,
          150,
          143,
          140,
          110,
          100,
          100,
          85,
          80,
          75,
          75,
          75,
          75,
          70,
          65,
          65,
          60,
          55,
          55,
          55,
          45,
          45,
          45,
          45,
          42,
          40,
          35,
          35,
          35,
          31,
          30,
          30,
          30,
          30,
          25,
          25,
          23,
          22,
          21,
          20,
          15,
          15,
          15,
          15,
          15,
          14,
          14,
          14,
          14,
          14,
          13,
          13,
          12.5,
          12,
          12,
          12,
          12,
          10,
          10,
          10,
          10,
          10,
          10,
          10,
          10,
          580,
          535,
          500,
          500,
          450,
          420,
          400,
          400,
          380,
          370,
          360,
          350,
          350,
          345,
          330,
          326,
          320,
          305,
          305,
          300,
          280,
          280,
          275,
          275,
          250,
          250,
          250,
          245,
          240,
          230,
          225,
          225,
          220,
          220,
          215,
          250,
          200,
          200,
          200,
          200,
          200,
          185,
          180,
          175,
          170,
          165,
          160,
          160,
          150,
          150,
          150,
          150,
          150,
          150,
          145,
          140,
          140,
          135,
          130,
          125,
          120,
          115,
          110,
          110,
          110,
          110,
          100,
          100,
          100,
          100,
          95,
          90,
          90,
          85,
          80,
          80,
          80,
          80,
          80,
          75,
          75,
          75,
          70,
          70,
          70,
          70,
          70,
          67,
          65,
          65,
          65,
          60,
          60,
          60,
          60,
          60,
          60,
          60,
          60,
          60,
          670,
          500,
          400,
          210,
          185,
          160,
          145,
          101.6,
          100,
          100,
          100,
          100,
          100,
          95,
          90,
          90,
          90,
          90,
          86,
          80,
          80,
          75,
          75,
          74,
          70,
          70,
          70,
          70,
          70,
          63.4,
          62,
          60.3,
          60,
          60,
          60,
          60,
          60,
          60,
          56.2,
          55,
          55,
          55,
          52.5,
          51.7,
          50,
          50,
          50,
          50,
          50,
          50,
          49.2,
          48.8,
          46.5,
          45,
          45,
          45,
          45,
          44.5,
          44,
          42.4,
          40,
          40,
          40,
          40,
          40,
          37.2,
          36,
          35,
          35,
          35,
          35,
          35,
          35,
          34.8,
          33.6,
          33,
          33,
          32.6,
          32,
          31.2,
          30,
          30,
          30,
          30,
          30,
          30,
          30,
          30,
          28,
          27,
          27,
          25,
          25,
          25,
          25,
          25,
          24.1,
          24,
          23.9,
          23,
          1300,
          780,
          550,
          425,
          400,
          400,
          375,
          330,
          300,
          250,
          220,
          200,
          200,
          150,
          150,
          100,
          100,
          100,
          90,
          85,
          80,
          80,
          75,
          75,
          75,
          70,
          66,
          65,
          65,
          60,
          60,
          60,
          60,
          55,
          55,
          50,
          50,
          50,
          50,
          50,
          50,
          50,
          50,
          45,
          45,
          45,
          45,
          45,
          44,
          40,
          40,
          40,
          36,
          35,
          35,
          35,
          30,
          30,
          30,
          30,
          30,
          30,
          27,
          25,
          25,
          25,
          25,
          25,
          25,
          25,
          24,
          23,
          20,
          20,
          20,
          20,
          20,
          20,
          20,
          20,
          20,
          20,
          18.5,
          18,
          18,
          18,
          18,
          18,
          16,
          16,
          16,
          15,
          15,
          15,
          15,
          15,
          15,
          15,
          15,
          14.5
         ],
         "x0": " ",
         "xaxis": "x",
         "y0": " ",
         "yaxis": "y"
        }
       ],
       "layout": {
        "boxmode": "group",
        "legend": {
         "tracegroupgap": 0
        },
        "margin": {
         "t": 60
        },
        "template": {
         "data": {
          "bar": [
           {
            "error_x": {
             "color": "#2a3f5f"
            },
            "error_y": {
             "color": "#2a3f5f"
            },
            "marker": {
             "line": {
              "color": "#E5ECF6",
              "width": 0.5
             },
             "pattern": {
              "fillmode": "overlay",
              "size": 10,
              "solidity": 0.2
             }
            },
            "type": "bar"
           }
          ],
          "barpolar": [
           {
            "marker": {
             "line": {
              "color": "#E5ECF6",
              "width": 0.5
             },
             "pattern": {
              "fillmode": "overlay",
              "size": 10,
              "solidity": 0.2
             }
            },
            "type": "barpolar"
           }
          ],
          "carpet": [
           {
            "aaxis": {
             "endlinecolor": "#2a3f5f",
             "gridcolor": "white",
             "linecolor": "white",
             "minorgridcolor": "white",
             "startlinecolor": "#2a3f5f"
            },
            "baxis": {
             "endlinecolor": "#2a3f5f",
             "gridcolor": "white",
             "linecolor": "white",
             "minorgridcolor": "white",
             "startlinecolor": "#2a3f5f"
            },
            "type": "carpet"
           }
          ],
          "choropleth": [
           {
            "colorbar": {
             "outlinewidth": 0,
             "ticks": ""
            },
            "type": "choropleth"
           }
          ],
          "contour": [
           {
            "colorbar": {
             "outlinewidth": 0,
             "ticks": ""
            },
            "colorscale": [
             [
              0,
              "#0d0887"
             ],
             [
              0.1111111111111111,
              "#46039f"
             ],
             [
              0.2222222222222222,
              "#7201a8"
             ],
             [
              0.3333333333333333,
              "#9c179e"
             ],
             [
              0.4444444444444444,
              "#bd3786"
             ],
             [
              0.5555555555555556,
              "#d8576b"
             ],
             [
              0.6666666666666666,
              "#ed7953"
             ],
             [
              0.7777777777777778,
              "#fb9f3a"
             ],
             [
              0.8888888888888888,
              "#fdca26"
             ],
             [
              1,
              "#f0f921"
             ]
            ],
            "type": "contour"
           }
          ],
          "contourcarpet": [
           {
            "colorbar": {
             "outlinewidth": 0,
             "ticks": ""
            },
            "type": "contourcarpet"
           }
          ],
          "heatmap": [
           {
            "colorbar": {
             "outlinewidth": 0,
             "ticks": ""
            },
            "colorscale": [
             [
              0,
              "#0d0887"
             ],
             [
              0.1111111111111111,
              "#46039f"
             ],
             [
              0.2222222222222222,
              "#7201a8"
             ],
             [
              0.3333333333333333,
              "#9c179e"
             ],
             [
              0.4444444444444444,
              "#bd3786"
             ],
             [
              0.5555555555555556,
              "#d8576b"
             ],
             [
              0.6666666666666666,
              "#ed7953"
             ],
             [
              0.7777777777777778,
              "#fb9f3a"
             ],
             [
              0.8888888888888888,
              "#fdca26"
             ],
             [
              1,
              "#f0f921"
             ]
            ],
            "type": "heatmap"
           }
          ],
          "heatmapgl": [
           {
            "colorbar": {
             "outlinewidth": 0,
             "ticks": ""
            },
            "colorscale": [
             [
              0,
              "#0d0887"
             ],
             [
              0.1111111111111111,
              "#46039f"
             ],
             [
              0.2222222222222222,
              "#7201a8"
             ],
             [
              0.3333333333333333,
              "#9c179e"
             ],
             [
              0.4444444444444444,
              "#bd3786"
             ],
             [
              0.5555555555555556,
              "#d8576b"
             ],
             [
              0.6666666666666666,
              "#ed7953"
             ],
             [
              0.7777777777777778,
              "#fb9f3a"
             ],
             [
              0.8888888888888888,
              "#fdca26"
             ],
             [
              1,
              "#f0f921"
             ]
            ],
            "type": "heatmapgl"
           }
          ],
          "histogram": [
           {
            "marker": {
             "pattern": {
              "fillmode": "overlay",
              "size": 10,
              "solidity": 0.2
             }
            },
            "type": "histogram"
           }
          ],
          "histogram2d": [
           {
            "colorbar": {
             "outlinewidth": 0,
             "ticks": ""
            },
            "colorscale": [
             [
              0,
              "#0d0887"
             ],
             [
              0.1111111111111111,
              "#46039f"
             ],
             [
              0.2222222222222222,
              "#7201a8"
             ],
             [
              0.3333333333333333,
              "#9c179e"
             ],
             [
              0.4444444444444444,
              "#bd3786"
             ],
             [
              0.5555555555555556,
              "#d8576b"
             ],
             [
              0.6666666666666666,
              "#ed7953"
             ],
             [
              0.7777777777777778,
              "#fb9f3a"
             ],
             [
              0.8888888888888888,
              "#fdca26"
             ],
             [
              1,
              "#f0f921"
             ]
            ],
            "type": "histogram2d"
           }
          ],
          "histogram2dcontour": [
           {
            "colorbar": {
             "outlinewidth": 0,
             "ticks": ""
            },
            "colorscale": [
             [
              0,
              "#0d0887"
             ],
             [
              0.1111111111111111,
              "#46039f"
             ],
             [
              0.2222222222222222,
              "#7201a8"
             ],
             [
              0.3333333333333333,
              "#9c179e"
             ],
             [
              0.4444444444444444,
              "#bd3786"
             ],
             [
              0.5555555555555556,
              "#d8576b"
             ],
             [
              0.6666666666666666,
              "#ed7953"
             ],
             [
              0.7777777777777778,
              "#fb9f3a"
             ],
             [
              0.8888888888888888,
              "#fdca26"
             ],
             [
              1,
              "#f0f921"
             ]
            ],
            "type": "histogram2dcontour"
           }
          ],
          "mesh3d": [
           {
            "colorbar": {
             "outlinewidth": 0,
             "ticks": ""
            },
            "type": "mesh3d"
           }
          ],
          "parcoords": [
           {
            "line": {
             "colorbar": {
              "outlinewidth": 0,
              "ticks": ""
             }
            },
            "type": "parcoords"
           }
          ],
          "pie": [
           {
            "automargin": true,
            "type": "pie"
           }
          ],
          "scatter": [
           {
            "fillpattern": {
             "fillmode": "overlay",
             "size": 10,
             "solidity": 0.2
            },
            "type": "scatter"
           }
          ],
          "scatter3d": [
           {
            "line": {
             "colorbar": {
              "outlinewidth": 0,
              "ticks": ""
             }
            },
            "marker": {
             "colorbar": {
              "outlinewidth": 0,
              "ticks": ""
             }
            },
            "type": "scatter3d"
           }
          ],
          "scattercarpet": [
           {
            "marker": {
             "colorbar": {
              "outlinewidth": 0,
              "ticks": ""
             }
            },
            "type": "scattercarpet"
           }
          ],
          "scattergeo": [
           {
            "marker": {
             "colorbar": {
              "outlinewidth": 0,
              "ticks": ""
             }
            },
            "type": "scattergeo"
           }
          ],
          "scattergl": [
           {
            "marker": {
             "colorbar": {
              "outlinewidth": 0,
              "ticks": ""
             }
            },
            "type": "scattergl"
           }
          ],
          "scattermapbox": [
           {
            "marker": {
             "colorbar": {
              "outlinewidth": 0,
              "ticks": ""
             }
            },
            "type": "scattermapbox"
           }
          ],
          "scatterpolar": [
           {
            "marker": {
             "colorbar": {
              "outlinewidth": 0,
              "ticks": ""
             }
            },
            "type": "scatterpolar"
           }
          ],
          "scatterpolargl": [
           {
            "marker": {
             "colorbar": {
              "outlinewidth": 0,
              "ticks": ""
             }
            },
            "type": "scatterpolargl"
           }
          ],
          "scatterternary": [
           {
            "marker": {
             "colorbar": {
              "outlinewidth": 0,
              "ticks": ""
             }
            },
            "type": "scatterternary"
           }
          ],
          "surface": [
           {
            "colorbar": {
             "outlinewidth": 0,
             "ticks": ""
            },
            "colorscale": [
             [
              0,
              "#0d0887"
             ],
             [
              0.1111111111111111,
              "#46039f"
             ],
             [
              0.2222222222222222,
              "#7201a8"
             ],
             [
              0.3333333333333333,
              "#9c179e"
             ],
             [
              0.4444444444444444,
              "#bd3786"
             ],
             [
              0.5555555555555556,
              "#d8576b"
             ],
             [
              0.6666666666666666,
              "#ed7953"
             ],
             [
              0.7777777777777778,
              "#fb9f3a"
             ],
             [
              0.8888888888888888,
              "#fdca26"
             ],
             [
              1,
              "#f0f921"
             ]
            ],
            "type": "surface"
           }
          ],
          "table": [
           {
            "cells": {
             "fill": {
              "color": "#EBF0F8"
             },
             "line": {
              "color": "white"
             }
            },
            "header": {
             "fill": {
              "color": "#C8D4E3"
             },
             "line": {
              "color": "white"
             }
            },
            "type": "table"
           }
          ]
         },
         "layout": {
          "annotationdefaults": {
           "arrowcolor": "#2a3f5f",
           "arrowhead": 0,
           "arrowwidth": 1
          },
          "autotypenumbers": "strict",
          "coloraxis": {
           "colorbar": {
            "outlinewidth": 0,
            "ticks": ""
           }
          },
          "colorscale": {
           "diverging": [
            [
             0,
             "#8e0152"
            ],
            [
             0.1,
             "#c51b7d"
            ],
            [
             0.2,
             "#de77ae"
            ],
            [
             0.3,
             "#f1b6da"
            ],
            [
             0.4,
             "#fde0ef"
            ],
            [
             0.5,
             "#f7f7f7"
            ],
            [
             0.6,
             "#e6f5d0"
            ],
            [
             0.7,
             "#b8e186"
            ],
            [
             0.8,
             "#7fbc41"
            ],
            [
             0.9,
             "#4d9221"
            ],
            [
             1,
             "#276419"
            ]
           ],
           "sequential": [
            [
             0,
             "#0d0887"
            ],
            [
             0.1111111111111111,
             "#46039f"
            ],
            [
             0.2222222222222222,
             "#7201a8"
            ],
            [
             0.3333333333333333,
             "#9c179e"
            ],
            [
             0.4444444444444444,
             "#bd3786"
            ],
            [
             0.5555555555555556,
             "#d8576b"
            ],
            [
             0.6666666666666666,
             "#ed7953"
            ],
            [
             0.7777777777777778,
             "#fb9f3a"
            ],
            [
             0.8888888888888888,
             "#fdca26"
            ],
            [
             1,
             "#f0f921"
            ]
           ],
           "sequentialminus": [
            [
             0,
             "#0d0887"
            ],
            [
             0.1111111111111111,
             "#46039f"
            ],
            [
             0.2222222222222222,
             "#7201a8"
            ],
            [
             0.3333333333333333,
             "#9c179e"
            ],
            [
             0.4444444444444444,
             "#bd3786"
            ],
            [
             0.5555555555555556,
             "#d8576b"
            ],
            [
             0.6666666666666666,
             "#ed7953"
            ],
            [
             0.7777777777777778,
             "#fb9f3a"
            ],
            [
             0.8888888888888888,
             "#fdca26"
            ],
            [
             1,
             "#f0f921"
            ]
           ]
          },
          "colorway": [
           "#636efa",
           "#EF553B",
           "#00cc96",
           "#ab63fa",
           "#FFA15A",
           "#19d3f3",
           "#FF6692",
           "#B6E880",
           "#FF97FF",
           "#FECB52"
          ],
          "font": {
           "color": "#2a3f5f"
          },
          "geo": {
           "bgcolor": "white",
           "lakecolor": "white",
           "landcolor": "#E5ECF6",
           "showlakes": true,
           "showland": true,
           "subunitcolor": "white"
          },
          "hoverlabel": {
           "align": "left"
          },
          "hovermode": "closest",
          "mapbox": {
           "style": "light"
          },
          "paper_bgcolor": "white",
          "plot_bgcolor": "#E5ECF6",
          "polar": {
           "angularaxis": {
            "gridcolor": "white",
            "linecolor": "white",
            "ticks": ""
           },
           "bgcolor": "#E5ECF6",
           "radialaxis": {
            "gridcolor": "white",
            "linecolor": "white",
            "ticks": ""
           }
          },
          "scene": {
           "xaxis": {
            "backgroundcolor": "#E5ECF6",
            "gridcolor": "white",
            "gridwidth": 2,
            "linecolor": "white",
            "showbackground": true,
            "ticks": "",
            "zerolinecolor": "white"
           },
           "yaxis": {
            "backgroundcolor": "#E5ECF6",
            "gridcolor": "white",
            "gridwidth": 2,
            "linecolor": "white",
            "showbackground": true,
            "ticks": "",
            "zerolinecolor": "white"
           },
           "zaxis": {
            "backgroundcolor": "#E5ECF6",
            "gridcolor": "white",
            "gridwidth": 2,
            "linecolor": "white",
            "showbackground": true,
            "ticks": "",
            "zerolinecolor": "white"
           }
          },
          "shapedefaults": {
           "line": {
            "color": "#2a3f5f"
           }
          },
          "ternary": {
           "aaxis": {
            "gridcolor": "white",
            "linecolor": "white",
            "ticks": ""
           },
           "baxis": {
            "gridcolor": "white",
            "linecolor": "white",
            "ticks": ""
           },
           "bgcolor": "#E5ECF6",
           "caxis": {
            "gridcolor": "white",
            "linecolor": "white",
            "ticks": ""
           }
          },
          "title": {
           "x": 0.05
          },
          "xaxis": {
           "automargin": true,
           "gridcolor": "white",
           "linecolor": "white",
           "ticks": "",
           "title": {
            "standoff": 15
           },
           "zerolinecolor": "white",
           "zerolinewidth": 2
          },
          "yaxis": {
           "automargin": true,
           "gridcolor": "white",
           "linecolor": "white",
           "ticks": "",
           "title": {
            "standoff": 15
           },
           "zerolinecolor": "white",
           "zerolinewidth": 2
          }
         }
        },
        "xaxis": {
         "anchor": "y",
         "domain": [
          0,
          1
         ],
         "title": {
          "text": "net_worth"
         }
        },
        "yaxis": {
         "anchor": "x",
         "domain": [
          0,
          1
         ]
        }
       }
      }
     },
     "metadata": {},
     "output_type": "display_data"
    }
   ],
   "source": [
    "fig = px.box(df, x = 'net_worth')\n",
    "fig.show()"
   ]
  },
  {
   "cell_type": "code",
   "execution_count": 1495,
   "metadata": {},
   "outputs": [],
   "source": [
    "df = df[df.net_worth < 670]"
   ]
  },
  {
   "cell_type": "code",
   "execution_count": 1496,
   "metadata": {},
   "outputs": [
    {
     "data": {
      "application/vnd.plotly.v1+json": {
       "config": {
        "plotlyServerURL": "https://plot.ly"
       },
       "data": [
        {
         "alignmentgroup": "True",
         "hovertemplate": "age=%{x}<extra></extra>",
         "legendgroup": "",
         "marker": {
          "color": "#636efa"
         },
         "name": "",
         "notched": false,
         "offsetgroup": "",
         "orientation": "h",
         "showlegend": false,
         "type": "box",
         "x": [
          34,
          52,
          53,
          60,
          46,
          71,
          61,
          77,
          39,
          58,
          48,
          27,
          45,
          58,
          36,
          44,
          68,
          36,
          30,
          46,
          56,
          67,
          83,
          53,
          44,
          59,
          48,
          45,
          56,
          54,
          62,
          67,
          45,
          75,
          64,
          50,
          56,
          95,
          64,
          70,
          54,
          31,
          37,
          89,
          56,
          55,
          66,
          63,
          55,
          31,
          57,
          72,
          57,
          35,
          74,
          46,
          39,
          35,
          59,
          60,
          74,
          75,
          64,
          44,
          71,
          57,
          56,
          36,
          27,
          62,
          67,
          56,
          74,
          78,
          50,
          78,
          26,
          51,
          65,
          59,
          71,
          51,
          50,
          50,
          56,
          59,
          38,
          63,
          44,
          50,
          48,
          104,
          67,
          88,
          58,
          57,
          65,
          41,
          67,
          83,
          58,
          59,
          77,
          65,
          52,
          54,
          83,
          74,
          67,
          90,
          49,
          64,
          76,
          73,
          56,
          47,
          45,
          46,
          57,
          55,
          78,
          50,
          67,
          72,
          48,
          72,
          53,
          57,
          66,
          47,
          66,
          57,
          83,
          65,
          83,
          59,
          83,
          60,
          76,
          80,
          58,
          50,
          43,
          48,
          37,
          66,
          55,
          66,
          53,
          55,
          55,
          75,
          68,
          31,
          59,
          70,
          63,
          53,
          46,
          90,
          52,
          34,
          66,
          28,
          48,
          68,
          74,
          60,
          48,
          67,
          40,
          55,
          83,
          60,
          51,
          80,
          45,
          50,
          88,
          68,
          51,
          71,
          85,
          82,
          79,
          70,
          38,
          76,
          70,
          50,
          91,
          85,
          59,
          39,
          53,
          59,
          63,
          98,
          45,
          46,
          40,
          41,
          41,
          40,
          37,
          57,
          48,
          41,
          48,
          48,
          51,
          36,
          37,
          51,
          37,
          51,
          37,
          56,
          55,
          43,
          50,
          38,
          53,
          41,
          48,
          42,
          47,
          46,
          53,
          28,
          52,
          35,
          45,
          48,
          50,
          47,
          42,
          58,
          45,
          42,
          46,
          79,
          72,
          37,
          39,
          41,
          45,
          42,
          53,
          49,
          53,
          57,
          36,
          45,
          38,
          38,
          59,
          56,
          41,
          35,
          35,
          36,
          37,
          36,
          43,
          40,
          39,
          42,
          40,
          55,
          38,
          36,
          48,
          52,
          46,
          55,
          53,
          47,
          43,
          46,
          45,
          79,
          44,
          53,
          32,
          37,
          45,
          33,
          36,
          55,
          35,
          42,
          38,
          38,
          36,
          37,
          37,
          39,
          61,
          67,
          26,
          36,
          49,
          42,
          58,
          44,
          47,
          44,
          31,
          42,
          46,
          39,
          52,
          31,
          38,
          32,
          35,
          39,
          37,
          35,
          47,
          38,
          55,
          55,
          31,
          58,
          36,
          37,
          48,
          31,
          37,
          76,
          41,
          32,
          46,
          54,
          57,
          48,
          51,
          42,
          42,
          43,
          44,
          40,
          34,
          40,
          48,
          40,
          40,
          37,
          42,
          36,
          32,
          42,
          44,
          53,
          42,
          46,
          39,
          34,
          41,
          35,
          36,
          41,
          36,
          38,
          49,
          82,
          34,
          35,
          45,
          40,
          55,
          37,
          50,
          45,
          33,
          38,
          31,
          53,
          59,
          48,
          51,
          64,
          44,
          44,
          33,
          33,
          36,
          41,
          40,
          43,
          37,
          46,
          49,
          43,
          34,
          59,
          53,
          65,
          67,
          83,
          70,
          50,
          48,
          41,
          47,
          62,
          59,
          86,
          66,
          68,
          48,
          70,
          63,
          63,
          62,
          63,
          56,
          94,
          67,
          55,
          59,
          53,
          56,
          57,
          78,
          58,
          45,
          58,
          73,
          56,
          47,
          56,
          49,
          63,
          52,
          51,
          53,
          59,
          45,
          59,
          46,
          60,
          49,
          63,
          65,
          94,
          95,
          62,
          49,
          58,
          65,
          46,
          87,
          52,
          71,
          56,
          45,
          72,
          77,
          70,
          47,
          60,
          53,
          67,
          51,
          49,
          78,
          59,
          51,
          43,
          53,
          53,
          81,
          38,
          41,
          58,
          56,
          46,
          76,
          58,
          81,
          47,
          56,
          56,
          91,
          73,
          45,
          53,
          53,
          55,
          53,
          73,
          54,
          48,
          49,
          63,
          65,
          47,
          73,
          37,
          51,
          53,
          37,
          53,
          53,
          60,
          53,
          53,
          53,
          71,
          59,
          53,
          53,
          47,
          47,
          68,
          53,
          42,
          58,
          52,
          91,
          53,
          34,
          82,
          57,
          48,
          53,
          53,
          98,
          37,
          36,
          53,
          53,
          61,
          74,
          53,
          56,
          53,
          65,
          53,
          54,
          80,
          68,
          80,
          58,
          56,
          64,
          74,
          52,
          62,
          78,
          56,
          56,
          61,
          88,
          50,
          53,
          48,
          50,
          53,
          70,
          47,
          82,
          54,
          78,
          57,
          73,
          72,
          68,
          64,
          66,
          75,
          68,
          54,
          60,
          88,
          65,
          73,
          49,
          49,
          51,
          53,
          52,
          80,
          68,
          59,
          86,
          63,
          58,
          68,
          53,
          79,
          51,
          64,
          53,
          95,
          73,
          62,
          72,
          81,
          66,
          55,
          48,
          55,
          51,
          50,
          55,
          49,
          68,
          54,
          41,
          50,
          57,
          70,
          48,
          46,
          72,
          57,
          58,
          84,
          60,
          54,
          45,
          50,
          40,
          50,
          37,
          45,
          47,
          49,
          35,
          32,
          40,
          36,
          47,
          42,
          51,
          42,
          39,
          54,
          36,
          41,
          40,
          46,
          35,
          54,
          40,
          47,
          51,
          43,
          59,
          41,
          32,
          40,
          51,
          49,
          39,
          35,
          49,
          37,
          38,
          40,
          44,
          42,
          39,
          49,
          73,
          34,
          46,
          37,
          48,
          51,
          33,
          36,
          34,
          34,
          40,
          43,
          47,
          48,
          46,
          42,
          35,
          35,
          34,
          34,
          35,
          36,
          34,
          32,
          55,
          31,
          32,
          34,
          47,
          37,
          44,
          59,
          36,
          47,
          47,
          35,
          46,
          42,
          44,
          43,
          29,
          40,
          29,
          45,
          28,
          36,
          30,
          38,
          29,
          41,
          39,
          28,
          87,
          30,
          46,
          58,
          39,
          36,
          80,
          61,
          48,
          40,
          55,
          41,
          36,
          57,
          47,
          67,
          39,
          47,
          47,
          50,
          71,
          56,
          54,
          86,
          50,
          43,
          40,
          38,
          42,
          47,
          39,
          55,
          39,
          25,
          58,
          35,
          47,
          35,
          65,
          44,
          53,
          73,
          32,
          28,
          38,
          41,
          28,
          61,
          64,
          36,
          31,
          71,
          46,
          47,
          42,
          36,
          37,
          55,
          46,
          44,
          27,
          41,
          52,
          44,
          41,
          48,
          37,
          64,
          52,
          47,
          55,
          25,
          57,
          60,
          52,
          53,
          50,
          35,
          33,
          37,
          40,
          24,
          31,
          33,
          55,
          23,
          31,
          46,
          34,
          36,
          34,
          51,
          34,
          37,
          32,
          41,
          47,
          54,
          49,
          57,
          54,
          62,
          68,
          74,
          53,
          73,
          77,
          79,
          71,
          77,
          35,
          80,
          71,
          59,
          68,
          64,
          42,
          77,
          70,
          73,
          76,
          75,
          53,
          76,
          74,
          72,
          87,
          45,
          56,
          93,
          42,
          71,
          73,
          57,
          71,
          70,
          77,
          56,
          92,
          73,
          75,
          68,
          58,
          69,
          52,
          74,
          89,
          81,
          67,
          77,
          48,
          71,
          62,
          80,
          75,
          56,
          53,
          70,
          50,
          86,
          75,
          72,
          77,
          43,
          43,
          42,
          36,
          75,
          46,
          71,
          55,
          71,
          41,
          51,
          70,
          54,
          48,
          56,
          77,
          61,
          42,
          49,
          62,
          45,
          72,
          65,
          66,
          53,
          71,
          57,
          49,
          33,
          48,
          75,
          64,
          79,
          85,
          45,
          43,
          42,
          41,
          51,
          40,
          35,
          64,
          39,
          34,
          40,
          38,
          36,
          44,
          32,
          41,
          33,
          37,
          50,
          37,
          36,
          38,
          58,
          34,
          38,
          34,
          37,
          85,
          51,
          53,
          49,
          41,
          35,
          35,
          49,
          38,
          40,
          37,
          31,
          49,
          45,
          37,
          46,
          30,
          31,
          31,
          60,
          36,
          37,
          31,
          42,
          53,
          38,
          33,
          59,
          48,
          29,
          40,
          33,
          40,
          59,
          44,
          35,
          37,
          37,
          31,
          38,
          37,
          34,
          34,
          41,
          64,
          34,
          39,
          35,
          36,
          34,
          41,
          34,
          30,
          41,
          35,
          37,
          37,
          35,
          36,
          38,
          37,
          35,
          35,
          44,
          43,
          39,
          39,
          38,
          32,
          41,
          81,
          54,
          56,
          68,
          60,
          74,
          61,
          68,
          61,
          60,
          68,
          51,
          53,
          50,
          75,
          53,
          59,
          54,
          50,
          63,
          56,
          85,
          71,
          67,
          61,
          75,
          53,
          53,
          51,
          67,
          51,
          73,
          67,
          52,
          54,
          59,
          54,
          58,
          55,
          53,
          61,
          71,
          81,
          89,
          54,
          45,
          64,
          74,
          52,
          69,
          62,
          78,
          58,
          56,
          74,
          48,
          72,
          63,
          57,
          53,
          43,
          67,
          42,
          65,
          63,
          43,
          58,
          45,
          68,
          53,
          50,
          43,
          62,
          54,
          53,
          53,
          92,
          98,
          42,
          53,
          72,
          65,
          37,
          58,
          51,
          63,
          53,
          42,
          34,
          52,
          46,
          37,
          48,
          50,
          52,
          53,
          48,
          48,
          47,
          54,
          53,
          46,
          36,
          55,
          48,
          42,
          45,
          45,
          33,
          40,
          45,
          55,
          28,
          55,
          44,
          46,
          63,
          49,
          35,
          43,
          28,
          41,
          30,
          45,
          40,
          50,
          44,
          46,
          48,
          33,
          53,
          53,
          42,
          53,
          43,
          44,
          37,
          53,
          53,
          50,
          40,
          46,
          38,
          51,
          48,
          47,
          50,
          49,
          43,
          53,
          36,
          39,
          55,
          53,
          48,
          62,
          51,
          75,
          63,
          46,
          39,
          84,
          51,
          53,
          78,
          59,
          79,
          55,
          71,
          36,
          68,
          35,
          74,
          25,
          77,
          53,
          30,
          77,
          55,
          53,
          75,
          80,
          53,
          59,
          33,
          53,
          38,
          74,
          44,
          53,
          73,
          80,
          93,
          71,
          47,
          39,
          42,
          42,
          54,
          60,
          53,
          27,
          39,
          44,
          35,
          48,
          69,
          46,
          40,
          59,
          55,
          59,
          32,
          40,
          68,
          77,
          74,
          30,
          40,
          70,
          44,
          78,
          81,
          38,
          53,
          64,
          84,
          73,
          44,
          84,
          53,
          78,
          63,
          47,
          52,
          67,
          52,
          77,
          66,
          77,
          70,
          61,
          50,
          74,
          76,
          48,
          51,
          48,
          79,
          71,
          65,
          89,
          56,
          64,
          48,
          36,
          33,
          84,
          29,
          35,
          30,
          43,
          58,
          80,
          36,
          29,
          38,
          40,
          30,
          43,
          39,
          41,
          36,
          35,
          36,
          31,
          42,
          47,
          32,
          34,
          48,
          35,
          37,
          31,
          32,
          36,
          31,
          47,
          37,
          40,
          43,
          38,
          43,
          35,
          46,
          40,
          50,
          42,
          41,
          39,
          47,
          31,
          41,
          40,
          39,
          34,
          46,
          42,
          39,
          47,
          37,
          24,
          49,
          31,
          33,
          37,
          34,
          34,
          36,
          40,
          38,
          30,
          27,
          60,
          40,
          38,
          39,
          43,
          36,
          27,
          44,
          44,
          31,
          40,
          60,
          38,
          33,
          36,
          28,
          42,
          39,
          47,
          43,
          31,
          46,
          43,
          37,
          41,
          44,
          37,
          33,
          57,
          28,
          35,
          61,
          74,
          45,
          70,
          46,
          63,
          62,
          52,
          68,
          53,
          53,
          91,
          87,
          53,
          71,
          51,
          53,
          71,
          58,
          59,
          80,
          59,
          52,
          81,
          56,
          60,
          64,
          70,
          63,
          67,
          65,
          60,
          64,
          60,
          53,
          53,
          52,
          61,
          53,
          53,
          45,
          69,
          54,
          53,
          75,
          45,
          71,
          59,
          36,
          57,
          79,
          57,
          53,
          40,
          60,
          52,
          53,
          57,
          58,
          53,
          60,
          74,
          60,
          53,
          46,
          83,
          50,
          51,
          39,
          53,
          54,
          89,
          36,
          53,
          53,
          53,
          56,
          77,
          50,
          53,
          53,
          81,
          25,
          61,
          64,
          44,
          53,
          65,
          65,
          76,
          53,
          57,
          74,
          80,
          79,
          53,
          52,
          86
         ],
         "x0": " ",
         "xaxis": "x",
         "y0": " ",
         "yaxis": "y"
        }
       ],
       "layout": {
        "boxmode": "group",
        "legend": {
         "tracegroupgap": 0
        },
        "margin": {
         "t": 60
        },
        "template": {
         "data": {
          "bar": [
           {
            "error_x": {
             "color": "#2a3f5f"
            },
            "error_y": {
             "color": "#2a3f5f"
            },
            "marker": {
             "line": {
              "color": "#E5ECF6",
              "width": 0.5
             },
             "pattern": {
              "fillmode": "overlay",
              "size": 10,
              "solidity": 0.2
             }
            },
            "type": "bar"
           }
          ],
          "barpolar": [
           {
            "marker": {
             "line": {
              "color": "#E5ECF6",
              "width": 0.5
             },
             "pattern": {
              "fillmode": "overlay",
              "size": 10,
              "solidity": 0.2
             }
            },
            "type": "barpolar"
           }
          ],
          "carpet": [
           {
            "aaxis": {
             "endlinecolor": "#2a3f5f",
             "gridcolor": "white",
             "linecolor": "white",
             "minorgridcolor": "white",
             "startlinecolor": "#2a3f5f"
            },
            "baxis": {
             "endlinecolor": "#2a3f5f",
             "gridcolor": "white",
             "linecolor": "white",
             "minorgridcolor": "white",
             "startlinecolor": "#2a3f5f"
            },
            "type": "carpet"
           }
          ],
          "choropleth": [
           {
            "colorbar": {
             "outlinewidth": 0,
             "ticks": ""
            },
            "type": "choropleth"
           }
          ],
          "contour": [
           {
            "colorbar": {
             "outlinewidth": 0,
             "ticks": ""
            },
            "colorscale": [
             [
              0,
              "#0d0887"
             ],
             [
              0.1111111111111111,
              "#46039f"
             ],
             [
              0.2222222222222222,
              "#7201a8"
             ],
             [
              0.3333333333333333,
              "#9c179e"
             ],
             [
              0.4444444444444444,
              "#bd3786"
             ],
             [
              0.5555555555555556,
              "#d8576b"
             ],
             [
              0.6666666666666666,
              "#ed7953"
             ],
             [
              0.7777777777777778,
              "#fb9f3a"
             ],
             [
              0.8888888888888888,
              "#fdca26"
             ],
             [
              1,
              "#f0f921"
             ]
            ],
            "type": "contour"
           }
          ],
          "contourcarpet": [
           {
            "colorbar": {
             "outlinewidth": 0,
             "ticks": ""
            },
            "type": "contourcarpet"
           }
          ],
          "heatmap": [
           {
            "colorbar": {
             "outlinewidth": 0,
             "ticks": ""
            },
            "colorscale": [
             [
              0,
              "#0d0887"
             ],
             [
              0.1111111111111111,
              "#46039f"
             ],
             [
              0.2222222222222222,
              "#7201a8"
             ],
             [
              0.3333333333333333,
              "#9c179e"
             ],
             [
              0.4444444444444444,
              "#bd3786"
             ],
             [
              0.5555555555555556,
              "#d8576b"
             ],
             [
              0.6666666666666666,
              "#ed7953"
             ],
             [
              0.7777777777777778,
              "#fb9f3a"
             ],
             [
              0.8888888888888888,
              "#fdca26"
             ],
             [
              1,
              "#f0f921"
             ]
            ],
            "type": "heatmap"
           }
          ],
          "heatmapgl": [
           {
            "colorbar": {
             "outlinewidth": 0,
             "ticks": ""
            },
            "colorscale": [
             [
              0,
              "#0d0887"
             ],
             [
              0.1111111111111111,
              "#46039f"
             ],
             [
              0.2222222222222222,
              "#7201a8"
             ],
             [
              0.3333333333333333,
              "#9c179e"
             ],
             [
              0.4444444444444444,
              "#bd3786"
             ],
             [
              0.5555555555555556,
              "#d8576b"
             ],
             [
              0.6666666666666666,
              "#ed7953"
             ],
             [
              0.7777777777777778,
              "#fb9f3a"
             ],
             [
              0.8888888888888888,
              "#fdca26"
             ],
             [
              1,
              "#f0f921"
             ]
            ],
            "type": "heatmapgl"
           }
          ],
          "histogram": [
           {
            "marker": {
             "pattern": {
              "fillmode": "overlay",
              "size": 10,
              "solidity": 0.2
             }
            },
            "type": "histogram"
           }
          ],
          "histogram2d": [
           {
            "colorbar": {
             "outlinewidth": 0,
             "ticks": ""
            },
            "colorscale": [
             [
              0,
              "#0d0887"
             ],
             [
              0.1111111111111111,
              "#46039f"
             ],
             [
              0.2222222222222222,
              "#7201a8"
             ],
             [
              0.3333333333333333,
              "#9c179e"
             ],
             [
              0.4444444444444444,
              "#bd3786"
             ],
             [
              0.5555555555555556,
              "#d8576b"
             ],
             [
              0.6666666666666666,
              "#ed7953"
             ],
             [
              0.7777777777777778,
              "#fb9f3a"
             ],
             [
              0.8888888888888888,
              "#fdca26"
             ],
             [
              1,
              "#f0f921"
             ]
            ],
            "type": "histogram2d"
           }
          ],
          "histogram2dcontour": [
           {
            "colorbar": {
             "outlinewidth": 0,
             "ticks": ""
            },
            "colorscale": [
             [
              0,
              "#0d0887"
             ],
             [
              0.1111111111111111,
              "#46039f"
             ],
             [
              0.2222222222222222,
              "#7201a8"
             ],
             [
              0.3333333333333333,
              "#9c179e"
             ],
             [
              0.4444444444444444,
              "#bd3786"
             ],
             [
              0.5555555555555556,
              "#d8576b"
             ],
             [
              0.6666666666666666,
              "#ed7953"
             ],
             [
              0.7777777777777778,
              "#fb9f3a"
             ],
             [
              0.8888888888888888,
              "#fdca26"
             ],
             [
              1,
              "#f0f921"
             ]
            ],
            "type": "histogram2dcontour"
           }
          ],
          "mesh3d": [
           {
            "colorbar": {
             "outlinewidth": 0,
             "ticks": ""
            },
            "type": "mesh3d"
           }
          ],
          "parcoords": [
           {
            "line": {
             "colorbar": {
              "outlinewidth": 0,
              "ticks": ""
             }
            },
            "type": "parcoords"
           }
          ],
          "pie": [
           {
            "automargin": true,
            "type": "pie"
           }
          ],
          "scatter": [
           {
            "fillpattern": {
             "fillmode": "overlay",
             "size": 10,
             "solidity": 0.2
            },
            "type": "scatter"
           }
          ],
          "scatter3d": [
           {
            "line": {
             "colorbar": {
              "outlinewidth": 0,
              "ticks": ""
             }
            },
            "marker": {
             "colorbar": {
              "outlinewidth": 0,
              "ticks": ""
             }
            },
            "type": "scatter3d"
           }
          ],
          "scattercarpet": [
           {
            "marker": {
             "colorbar": {
              "outlinewidth": 0,
              "ticks": ""
             }
            },
            "type": "scattercarpet"
           }
          ],
          "scattergeo": [
           {
            "marker": {
             "colorbar": {
              "outlinewidth": 0,
              "ticks": ""
             }
            },
            "type": "scattergeo"
           }
          ],
          "scattergl": [
           {
            "marker": {
             "colorbar": {
              "outlinewidth": 0,
              "ticks": ""
             }
            },
            "type": "scattergl"
           }
          ],
          "scattermapbox": [
           {
            "marker": {
             "colorbar": {
              "outlinewidth": 0,
              "ticks": ""
             }
            },
            "type": "scattermapbox"
           }
          ],
          "scatterpolar": [
           {
            "marker": {
             "colorbar": {
              "outlinewidth": 0,
              "ticks": ""
             }
            },
            "type": "scatterpolar"
           }
          ],
          "scatterpolargl": [
           {
            "marker": {
             "colorbar": {
              "outlinewidth": 0,
              "ticks": ""
             }
            },
            "type": "scatterpolargl"
           }
          ],
          "scatterternary": [
           {
            "marker": {
             "colorbar": {
              "outlinewidth": 0,
              "ticks": ""
             }
            },
            "type": "scatterternary"
           }
          ],
          "surface": [
           {
            "colorbar": {
             "outlinewidth": 0,
             "ticks": ""
            },
            "colorscale": [
             [
              0,
              "#0d0887"
             ],
             [
              0.1111111111111111,
              "#46039f"
             ],
             [
              0.2222222222222222,
              "#7201a8"
             ],
             [
              0.3333333333333333,
              "#9c179e"
             ],
             [
              0.4444444444444444,
              "#bd3786"
             ],
             [
              0.5555555555555556,
              "#d8576b"
             ],
             [
              0.6666666666666666,
              "#ed7953"
             ],
             [
              0.7777777777777778,
              "#fb9f3a"
             ],
             [
              0.8888888888888888,
              "#fdca26"
             ],
             [
              1,
              "#f0f921"
             ]
            ],
            "type": "surface"
           }
          ],
          "table": [
           {
            "cells": {
             "fill": {
              "color": "#EBF0F8"
             },
             "line": {
              "color": "white"
             }
            },
            "header": {
             "fill": {
              "color": "#C8D4E3"
             },
             "line": {
              "color": "white"
             }
            },
            "type": "table"
           }
          ]
         },
         "layout": {
          "annotationdefaults": {
           "arrowcolor": "#2a3f5f",
           "arrowhead": 0,
           "arrowwidth": 1
          },
          "autotypenumbers": "strict",
          "coloraxis": {
           "colorbar": {
            "outlinewidth": 0,
            "ticks": ""
           }
          },
          "colorscale": {
           "diverging": [
            [
             0,
             "#8e0152"
            ],
            [
             0.1,
             "#c51b7d"
            ],
            [
             0.2,
             "#de77ae"
            ],
            [
             0.3,
             "#f1b6da"
            ],
            [
             0.4,
             "#fde0ef"
            ],
            [
             0.5,
             "#f7f7f7"
            ],
            [
             0.6,
             "#e6f5d0"
            ],
            [
             0.7,
             "#b8e186"
            ],
            [
             0.8,
             "#7fbc41"
            ],
            [
             0.9,
             "#4d9221"
            ],
            [
             1,
             "#276419"
            ]
           ],
           "sequential": [
            [
             0,
             "#0d0887"
            ],
            [
             0.1111111111111111,
             "#46039f"
            ],
            [
             0.2222222222222222,
             "#7201a8"
            ],
            [
             0.3333333333333333,
             "#9c179e"
            ],
            [
             0.4444444444444444,
             "#bd3786"
            ],
            [
             0.5555555555555556,
             "#d8576b"
            ],
            [
             0.6666666666666666,
             "#ed7953"
            ],
            [
             0.7777777777777778,
             "#fb9f3a"
            ],
            [
             0.8888888888888888,
             "#fdca26"
            ],
            [
             1,
             "#f0f921"
            ]
           ],
           "sequentialminus": [
            [
             0,
             "#0d0887"
            ],
            [
             0.1111111111111111,
             "#46039f"
            ],
            [
             0.2222222222222222,
             "#7201a8"
            ],
            [
             0.3333333333333333,
             "#9c179e"
            ],
            [
             0.4444444444444444,
             "#bd3786"
            ],
            [
             0.5555555555555556,
             "#d8576b"
            ],
            [
             0.6666666666666666,
             "#ed7953"
            ],
            [
             0.7777777777777778,
             "#fb9f3a"
            ],
            [
             0.8888888888888888,
             "#fdca26"
            ],
            [
             1,
             "#f0f921"
            ]
           ]
          },
          "colorway": [
           "#636efa",
           "#EF553B",
           "#00cc96",
           "#ab63fa",
           "#FFA15A",
           "#19d3f3",
           "#FF6692",
           "#B6E880",
           "#FF97FF",
           "#FECB52"
          ],
          "font": {
           "color": "#2a3f5f"
          },
          "geo": {
           "bgcolor": "white",
           "lakecolor": "white",
           "landcolor": "#E5ECF6",
           "showlakes": true,
           "showland": true,
           "subunitcolor": "white"
          },
          "hoverlabel": {
           "align": "left"
          },
          "hovermode": "closest",
          "mapbox": {
           "style": "light"
          },
          "paper_bgcolor": "white",
          "plot_bgcolor": "#E5ECF6",
          "polar": {
           "angularaxis": {
            "gridcolor": "white",
            "linecolor": "white",
            "ticks": ""
           },
           "bgcolor": "#E5ECF6",
           "radialaxis": {
            "gridcolor": "white",
            "linecolor": "white",
            "ticks": ""
           }
          },
          "scene": {
           "xaxis": {
            "backgroundcolor": "#E5ECF6",
            "gridcolor": "white",
            "gridwidth": 2,
            "linecolor": "white",
            "showbackground": true,
            "ticks": "",
            "zerolinecolor": "white"
           },
           "yaxis": {
            "backgroundcolor": "#E5ECF6",
            "gridcolor": "white",
            "gridwidth": 2,
            "linecolor": "white",
            "showbackground": true,
            "ticks": "",
            "zerolinecolor": "white"
           },
           "zaxis": {
            "backgroundcolor": "#E5ECF6",
            "gridcolor": "white",
            "gridwidth": 2,
            "linecolor": "white",
            "showbackground": true,
            "ticks": "",
            "zerolinecolor": "white"
           }
          },
          "shapedefaults": {
           "line": {
            "color": "#2a3f5f"
           }
          },
          "ternary": {
           "aaxis": {
            "gridcolor": "white",
            "linecolor": "white",
            "ticks": ""
           },
           "baxis": {
            "gridcolor": "white",
            "linecolor": "white",
            "ticks": ""
           },
           "bgcolor": "#E5ECF6",
           "caxis": {
            "gridcolor": "white",
            "linecolor": "white",
            "ticks": ""
           }
          },
          "title": {
           "x": 0.05
          },
          "xaxis": {
           "automargin": true,
           "gridcolor": "white",
           "linecolor": "white",
           "ticks": "",
           "title": {
            "standoff": 15
           },
           "zerolinecolor": "white",
           "zerolinewidth": 2
          },
          "yaxis": {
           "automargin": true,
           "gridcolor": "white",
           "linecolor": "white",
           "ticks": "",
           "title": {
            "standoff": 15
           },
           "zerolinecolor": "white",
           "zerolinewidth": 2
          }
         }
        },
        "xaxis": {
         "anchor": "y",
         "domain": [
          0,
          1
         ],
         "title": {
          "text": "age"
         }
        },
        "yaxis": {
         "anchor": "x",
         "domain": [
          0,
          1
         ]
        }
       }
      }
     },
     "metadata": {},
     "output_type": "display_data"
    }
   ],
   "source": [
    "fig = px.box(df, x = 'age')\n",
    "fig.show()"
   ]
  },
  {
   "cell_type": "code",
   "execution_count": 1497,
   "metadata": {},
   "outputs": [],
   "source": [
    "df = df[df.age < 92]"
   ]
  },
  {
   "cell_type": "code",
   "execution_count": 1498,
   "metadata": {},
   "outputs": [],
   "source": [
    "x = df.drop(labels = ['Name', 'image', 'Education', 'net_worth', 'first_name'], axis = 1)\n",
    "y = df['net_worth']"
   ]
  },
  {
   "cell_type": "code",
   "execution_count": 1499,
   "metadata": {},
   "outputs": [
    {
     "data": {
      "text/html": [
       "<div>\n",
       "<style scoped>\n",
       "    .dataframe tbody tr th:only-of-type {\n",
       "        vertical-align: middle;\n",
       "    }\n",
       "\n",
       "    .dataframe tbody tr th {\n",
       "        vertical-align: top;\n",
       "    }\n",
       "\n",
       "    .dataframe thead th {\n",
       "        text-align: right;\n",
       "    }\n",
       "</style>\n",
       "<table border=\"1\" class=\"dataframe\">\n",
       "  <thead>\n",
       "    <tr style=\"text-align: right;\">\n",
       "      <th></th>\n",
       "      <th>age</th>\n",
       "      <th>country</th>\n",
       "      <th>category</th>\n",
       "      <th>marital_status</th>\n",
       "      <th>Degree</th>\n",
       "      <th>Gender</th>\n",
       "    </tr>\n",
       "  </thead>\n",
       "  <tbody>\n",
       "    <tr>\n",
       "      <th>0</th>\n",
       "      <td>34.0</td>\n",
       "      <td>18</td>\n",
       "      <td>1</td>\n",
       "      <td>3</td>\n",
       "      <td>1</td>\n",
       "      <td>2</td>\n",
       "    </tr>\n",
       "    <tr>\n",
       "      <th>1</th>\n",
       "      <td>52.0</td>\n",
       "      <td>18</td>\n",
       "      <td>1</td>\n",
       "      <td>2</td>\n",
       "      <td>2</td>\n",
       "      <td>0</td>\n",
       "    </tr>\n",
       "    <tr>\n",
       "      <th>2</th>\n",
       "      <td>53.0</td>\n",
       "      <td>18</td>\n",
       "      <td>1</td>\n",
       "      <td>2</td>\n",
       "      <td>2</td>\n",
       "      <td>0</td>\n",
       "    </tr>\n",
       "    <tr>\n",
       "      <th>3</th>\n",
       "      <td>60.0</td>\n",
       "      <td>18</td>\n",
       "      <td>1</td>\n",
       "      <td>2</td>\n",
       "      <td>1</td>\n",
       "      <td>0</td>\n",
       "    </tr>\n",
       "    <tr>\n",
       "      <th>4</th>\n",
       "      <td>46.0</td>\n",
       "      <td>18</td>\n",
       "      <td>1</td>\n",
       "      <td>2</td>\n",
       "      <td>1</td>\n",
       "      <td>1</td>\n",
       "    </tr>\n",
       "    <tr>\n",
       "      <th>...</th>\n",
       "      <td>...</td>\n",
       "      <td>...</td>\n",
       "      <td>...</td>\n",
       "      <td>...</td>\n",
       "      <td>...</td>\n",
       "      <td>...</td>\n",
       "    </tr>\n",
       "    <tr>\n",
       "      <th>1812</th>\n",
       "      <td>80.0</td>\n",
       "      <td>18</td>\n",
       "      <td>18</td>\n",
       "      <td>2</td>\n",
       "      <td>2</td>\n",
       "      <td>1</td>\n",
       "    </tr>\n",
       "    <tr>\n",
       "      <th>1813</th>\n",
       "      <td>79.0</td>\n",
       "      <td>18</td>\n",
       "      <td>18</td>\n",
       "      <td>1</td>\n",
       "      <td>1</td>\n",
       "      <td>1</td>\n",
       "    </tr>\n",
       "    <tr>\n",
       "      <th>1814</th>\n",
       "      <td>53.0</td>\n",
       "      <td>18</td>\n",
       "      <td>18</td>\n",
       "      <td>2</td>\n",
       "      <td>1</td>\n",
       "      <td>0</td>\n",
       "    </tr>\n",
       "    <tr>\n",
       "      <th>1815</th>\n",
       "      <td>52.0</td>\n",
       "      <td>18</td>\n",
       "      <td>18</td>\n",
       "      <td>2</td>\n",
       "      <td>2</td>\n",
       "      <td>1</td>\n",
       "    </tr>\n",
       "    <tr>\n",
       "      <th>1816</th>\n",
       "      <td>86.0</td>\n",
       "      <td>12</td>\n",
       "      <td>18</td>\n",
       "      <td>2</td>\n",
       "      <td>2</td>\n",
       "      <td>0</td>\n",
       "    </tr>\n",
       "  </tbody>\n",
       "</table>\n",
       "<p>1453 rows × 6 columns</p>\n",
       "</div>"
      ],
      "text/plain": [
       "       age  country  category  marital_status  Degree  Gender\n",
       "0     34.0       18         1               3       1       2\n",
       "1     52.0       18         1               2       2       0\n",
       "2     53.0       18         1               2       2       0\n",
       "3     60.0       18         1               2       1       0\n",
       "4     46.0       18         1               2       1       1\n",
       "...    ...      ...       ...             ...     ...     ...\n",
       "1812  80.0       18        18               2       2       1\n",
       "1813  79.0       18        18               1       1       1\n",
       "1814  53.0       18        18               2       1       0\n",
       "1815  52.0       18        18               2       2       1\n",
       "1816  86.0       12        18               2       2       0\n",
       "\n",
       "[1453 rows x 6 columns]"
      ]
     },
     "execution_count": 1499,
     "metadata": {},
     "output_type": "execute_result"
    }
   ],
   "source": [
    "x"
   ]
  },
  {
   "cell_type": "code",
   "execution_count": 1500,
   "metadata": {},
   "outputs": [],
   "source": [
    "def correlation(dataset, threshold):\n",
    "    col_corr = set()  \n",
    "    corr_matrix = dataset.corr()\n",
    "    for i in range(len(corr_matrix.columns)):\n",
    "        for j in range(i):\n",
    "            if abs(corr_matrix.iloc[i, j]) > threshold: \n",
    "                colname = corr_matrix.columns[i]    \n",
    "                col_corr.add(colname)\n",
    "    return col_corr"
   ]
  },
  {
   "cell_type": "code",
   "execution_count": 1501,
   "metadata": {},
   "outputs": [
    {
     "data": {
      "image/png": "[encoded data removed]",
      "text/plain": [
       "<Figure size 792x792 with 2 Axes>"
      ]
     },
     "metadata": {
      "needs_background": "light"
     },
     "output_type": "display_data"
    }
   ],
   "source": [
    "corrmat = x.corr()\n",
    "fig, ax = plt.subplots()\n",
    "fig.set_size_inches(11,11)\n",
    "sns.heatmap(corrmat);"
   ]
  },
  {
   "cell_type": "code",
   "execution_count": 1502,
   "metadata": {},
   "outputs": [
    {
     "data": {
      "text/plain": [
       "0"
      ]
     },
     "execution_count": 1502,
     "metadata": {},
     "output_type": "execute_result"
    }
   ],
   "source": [
    "corr_features = correlation(x, 0.7)\n",
    "len(set(corr_features))"
   ]
  },
  {
   "cell_type": "code",
   "execution_count": 1503,
   "metadata": {},
   "outputs": [
    {
     "data": {
      "text/plain": [
       "ExtraTreesRegressor()"
      ]
     },
     "execution_count": 1503,
     "metadata": {},
     "output_type": "execute_result"
    }
   ],
   "source": [
    "model = ExtraTreesRegressor()\n",
    "model.fit(x,y)"
   ]
  },
  {
   "cell_type": "code",
   "execution_count": 1504,
   "metadata": {},
   "outputs": [
    {
     "name": "stdout",
     "output_type": "stream",
     "text": [
      "[0.36623851 0.08895016 0.28636181 0.09055908 0.08746411 0.08042632]\n"
     ]
    }
   ],
   "source": [
    "print(model.feature_importances_)"
   ]
  },
  {
   "cell_type": "code",
   "execution_count": 1505,
   "metadata": {},
   "outputs": [
    {
     "data": {
      "image/png": "[encoded data removed]",
      "text/plain": [
       "<Figure size 432x288 with 1 Axes>"
      ]
     },
     "metadata": {
      "needs_background": "light"
     },
     "output_type": "display_data"
    }
   ],
   "source": [
    "feat_importances = pd.Series(model.feature_importances_, index=x.columns)\n",
    "feat_importances.nlargest(5).plot(kind='barh')\n",
    "plt.show()"
   ]
  },
  {
   "cell_type": "code",
   "execution_count": 1506,
   "metadata": {},
   "outputs": [],
   "source": [
    "scaler = StandardScaler()\n",
    "x_scaled = scaler.fit_transform(x)"
   ]
  },
  {
   "cell_type": "code",
   "execution_count": 1507,
   "metadata": {},
   "outputs": [],
   "source": [
    "x_train, x_test, y_train, y_test = train_test_split(\n",
    "    x_scaled, y, test_size = 0.2, random_state = 42\n",
    ")"
   ]
  },
  {
   "cell_type": "code",
   "execution_count": 1508,
   "metadata": {},
   "outputs": [
    {
     "data": {
      "text/plain": [
       "102.21995303266348"
      ]
     },
     "execution_count": 1508,
     "metadata": {},
     "output_type": "execute_result"
    }
   ],
   "source": [
    "reg = LinearRegression().fit(x_train, y_train)\n",
    "y_pred = reg.predict(x_test)\n",
    "metrics.mean_squared_error(y_pred, y_test, squared=False)"
   ]
  },
  {
   "cell_type": "code",
   "execution_count": 1509,
   "metadata": {},
   "outputs": [
    {
     "data": {
      "text/plain": [
       "100.25039543287146"
      ]
     },
     "execution_count": 1509,
     "metadata": {},
     "output_type": "execute_result"
    }
   ],
   "source": [
    "regr = DecisionTreeRegressor(max_depth=5)\n",
    "regr.fit(x_train, y_train)\n",
    "y_pred = regr.predict(x_test)\n",
    "metrics.mean_squared_error(y_pred, y_test, squared=False)"
   ]
  },
  {
   "cell_type": "code",
   "execution_count": 1510,
   "metadata": {},
   "outputs": [
    {
     "data": {
      "text/plain": [
       "102.30110689484756"
      ]
     },
     "execution_count": 1510,
     "metadata": {},
     "output_type": "execute_result"
    }
   ],
   "source": [
    "regr = RandomForestRegressor(max_depth=2, random_state=0)\n",
    "regr.fit(x_train, y_train)\n",
    "y_pred = regr.predict(x_test)\n",
    "metrics.mean_squared_error(y_pred, y_test, squared=False)"
   ]
  },
  {
   "cell_type": "code",
   "execution_count": 1511,
   "metadata": {},
   "outputs": [
    {
     "data": {
      "text/plain": [
       "107.9884084249061"
      ]
     },
     "execution_count": 1511,
     "metadata": {},
     "output_type": "execute_result"
    }
   ],
   "source": [
    "regr = KNeighborsRegressor(n_neighbors=10)\n",
    "regr.fit(x_train, y_train)\n",
    "y_pred = regr.predict(x_test)\n",
    "metrics.mean_squared_error(y_pred, y_test, squared=False)"
   ]
  },
  {
   "cell_type": "code",
   "execution_count": 1512,
   "metadata": {},
   "outputs": [
    {
     "data": {
      "text/plain": [
       "108.25225012624715"
      ]
     },
     "execution_count": 1512,
     "metadata": {},
     "output_type": "execute_result"
    }
   ],
   "source": [
    "regr = SVR()\n",
    "regr.fit(x_train, y_train)\n",
    "y_pred = regr.predict(x_test)\n",
    "metrics.mean_squared_error(y_pred, y_test, squared=False)"
   ]
  },
  {
   "cell_type": "code",
   "execution_count": 1513,
   "metadata": {},
   "outputs": [],
   "source": [
    "# Number of trees in random forest\n",
    "n_estimators = [int(x) for x in np.linspace(start = 100, stop = 1200, num = 12)]\n",
    "# Number of features to consider at every split\n",
    "max_features = ['auto', 'sqrt']\n",
    "# Maximum number of levels in tree\n",
    "max_depth = [int(x) for x in np.linspace(5, 30, num = 6)]\n",
    "# max_depth.append(None)\n",
    "# Minimum number of samples required to split a node\n",
    "min_samples_split = [2, 5, 10, 15, 100]\n",
    "# Minimum number of samples required at each leaf node\n",
    "min_samples_leaf = [1, 2, 5, 10]"
   ]
  },
  {
   "cell_type": "code",
   "execution_count": 1514,
   "metadata": {},
   "outputs": [
    {
     "name": "stdout",
     "output_type": "stream",
     "text": [
      "{'n_estimators': [100, 200, 300, 400, 500, 600, 700, 800, 900, 1000, 1100, 1200], 'max_features': ['auto', 'sqrt'], 'max_depth': [5, 10, 15, 20, 25, 30], 'min_samples_split': [2, 5, 10, 15, 100], 'min_samples_leaf': [1, 2, 5, 10]}\n"
     ]
    }
   ],
   "source": [
    "random_grid = {'n_estimators': n_estimators,\n",
    "               'max_features': max_features,\n",
    "               'max_depth': max_depth,\n",
    "               'min_samples_split': min_samples_split,\n",
    "               'min_samples_leaf': min_samples_leaf}\n",
    "\n",
    "print(random_grid)"
   ]
  },
  {
   "cell_type": "code",
   "execution_count": 1515,
   "metadata": {},
   "outputs": [],
   "source": [
    "rf = RandomForestRegressor()\n",
    "rf_random = RandomizedSearchCV(\n",
    "                        estimator = rf, \n",
    "                        param_distributions = random_grid,\n",
    "                        scoring='neg_mean_squared_error', \n",
    "                        n_iter = 10, cv = 5, verbose=2, \n",
    "                        random_state=42, n_jobs = 1\n",
    "                    )"
   ]
  },
  {
   "cell_type": "code",
   "execution_count": 1516,
   "metadata": {},
   "outputs": [
    {
     "name": "stdout",
     "output_type": "stream",
     "text": [
      "Fitting 5 folds for each of 10 candidates, totalling 50 fits\n",
      "[CV] END max_depth=10, max_features=sqrt, min_samples_leaf=5, min_samples_split=5, n_estimators=900; total time=   2.2s\n",
      "[CV] END max_depth=10, max_features=sqrt, min_samples_leaf=5, min_samples_split=5, n_estimators=900; total time=   1.7s\n",
      "[CV] END max_depth=10, max_features=sqrt, min_samples_leaf=5, min_samples_split=5, n_estimators=900; total time=   1.3s\n",
      "[CV] END max_depth=10, max_features=sqrt, min_samples_leaf=5, min_samples_split=5, n_estimators=900; total time=   1.9s\n",
      "[CV] END max_depth=10, max_features=sqrt, min_samples_leaf=5, min_samples_split=5, n_estimators=900; total time=   2.1s\n",
      "[CV] END max_depth=15, max_features=sqrt, min_samples_leaf=2, min_samples_split=10, n_estimators=1100; total time=   2.2s\n",
      "[CV] END max_depth=15, max_features=sqrt, min_samples_leaf=2, min_samples_split=10, n_estimators=1100; total time=   1.9s\n",
      "[CV] END max_depth=15, max_features=sqrt, min_samples_leaf=2, min_samples_split=10, n_estimators=1100; total time=   2.1s\n",
      "[CV] END max_depth=15, max_features=sqrt, min_samples_leaf=2, min_samples_split=10, n_estimators=1100; total time=   2.5s\n",
      "[CV] END max_depth=15, max_features=sqrt, min_samples_leaf=2, min_samples_split=10, n_estimators=1100; total time=   2.2s\n",
      "[CV] END max_depth=15, max_features=auto, min_samples_leaf=5, min_samples_split=100, n_estimators=300; total time=   0.6s\n",
      "[CV] END max_depth=15, max_features=auto, min_samples_leaf=5, min_samples_split=100, n_estimators=300; total time=   0.7s\n",
      "[CV] END max_depth=15, max_features=auto, min_samples_leaf=5, min_samples_split=100, n_estimators=300; total time=   0.6s\n",
      "[CV] END max_depth=15, max_features=auto, min_samples_leaf=5, min_samples_split=100, n_estimators=300; total time=   0.5s\n",
      "[CV] END max_depth=15, max_features=auto, min_samples_leaf=5, min_samples_split=100, n_estimators=300; total time=   0.6s\n",
      "[CV] END max_depth=15, max_features=auto, min_samples_leaf=5, min_samples_split=5, n_estimators=400; total time=   0.9s\n",
      "[CV] END max_depth=15, max_features=auto, min_samples_leaf=5, min_samples_split=5, n_estimators=400; total time=   0.9s\n",
      "[CV] END max_depth=15, max_features=auto, min_samples_leaf=5, min_samples_split=5, n_estimators=400; total time=   1.1s\n",
      "[CV] END max_depth=15, max_features=auto, min_samples_leaf=5, min_samples_split=5, n_estimators=400; total time=   1.4s\n",
      "[CV] END max_depth=15, max_features=auto, min_samples_leaf=5, min_samples_split=5, n_estimators=400; total time=   1.1s\n",
      "[CV] END max_depth=20, max_features=auto, min_samples_leaf=10, min_samples_split=5, n_estimators=700; total time=   1.7s\n",
      "[CV] END max_depth=20, max_features=auto, min_samples_leaf=10, min_samples_split=5, n_estimators=700; total time=   1.6s\n",
      "[CV] END max_depth=20, max_features=auto, min_samples_leaf=10, min_samples_split=5, n_estimators=700; total time=   1.5s\n",
      "[CV] END max_depth=20, max_features=auto, min_samples_leaf=10, min_samples_split=5, n_estimators=700; total time=   1.4s\n",
      "[CV] END max_depth=20, max_features=auto, min_samples_leaf=10, min_samples_split=5, n_estimators=700; total time=   1.3s\n",
      "[CV] END max_depth=25, max_features=sqrt, min_samples_leaf=1, min_samples_split=2, n_estimators=1000; total time=   2.3s\n",
      "[CV] END max_depth=25, max_features=sqrt, min_samples_leaf=1, min_samples_split=2, n_estimators=1000; total time=   3.8s\n",
      "[CV] END max_depth=25, max_features=sqrt, min_samples_leaf=1, min_samples_split=2, n_estimators=1000; total time=   4.2s\n",
      "[CV] END max_depth=25, max_features=sqrt, min_samples_leaf=1, min_samples_split=2, n_estimators=1000; total time=   4.8s\n",
      "[CV] END max_depth=25, max_features=sqrt, min_samples_leaf=1, min_samples_split=2, n_estimators=1000; total time=   4.8s\n",
      "[CV] END max_depth=5, max_features=sqrt, min_samples_leaf=10, min_samples_split=15, n_estimators=1100; total time=   3.8s\n",
      "[CV] END max_depth=5, max_features=sqrt, min_samples_leaf=10, min_samples_split=15, n_estimators=1100; total time=   3.5s\n",
      "[CV] END max_depth=5, max_features=sqrt, min_samples_leaf=10, min_samples_split=15, n_estimators=1100; total time=   3.1s\n",
      "[CV] END max_depth=5, max_features=sqrt, min_samples_leaf=10, min_samples_split=15, n_estimators=1100; total time=   1.9s\n",
      "[CV] END max_depth=5, max_features=sqrt, min_samples_leaf=10, min_samples_split=15, n_estimators=1100; total time=   1.8s\n",
      "[CV] END max_depth=15, max_features=sqrt, min_samples_leaf=1, min_samples_split=15, n_estimators=300; total time=   0.5s\n",
      "[CV] END max_depth=15, max_features=sqrt, min_samples_leaf=1, min_samples_split=15, n_estimators=300; total time=   0.4s\n",
      "[CV] END max_depth=15, max_features=sqrt, min_samples_leaf=1, min_samples_split=15, n_estimators=300; total time=   0.4s\n",
      "[CV] END max_depth=15, max_features=sqrt, min_samples_leaf=1, min_samples_split=15, n_estimators=300; total time=   0.4s\n",
      "[CV] END max_depth=15, max_features=sqrt, min_samples_leaf=1, min_samples_split=15, n_estimators=300; total time=   0.5s\n",
      "[CV] END max_depth=5, max_features=sqrt, min_samples_leaf=2, min_samples_split=10, n_estimators=700; total time=   1.0s\n",
      "[CV] END max_depth=5, max_features=sqrt, min_samples_leaf=2, min_samples_split=10, n_estimators=700; total time=   1.0s\n",
      "[CV] END max_depth=5, max_features=sqrt, min_samples_leaf=2, min_samples_split=10, n_estimators=700; total time=   1.0s\n",
      "[CV] END max_depth=5, max_features=sqrt, min_samples_leaf=2, min_samples_split=10, n_estimators=700; total time=   1.4s\n",
      "[CV] END max_depth=5, max_features=sqrt, min_samples_leaf=2, min_samples_split=10, n_estimators=700; total time=   1.4s\n",
      "[CV] END max_depth=20, max_features=auto, min_samples_leaf=1, min_samples_split=15, n_estimators=700; total time=   1.6s\n",
      "[CV] END max_depth=20, max_features=auto, min_samples_leaf=1, min_samples_split=15, n_estimators=700; total time=   1.5s\n",
      "[CV] END max_depth=20, max_features=auto, min_samples_leaf=1, min_samples_split=15, n_estimators=700; total time=   1.5s\n",
      "[CV] END max_depth=20, max_features=auto, min_samples_leaf=1, min_samples_split=15, n_estimators=700; total time=   1.7s\n",
      "[CV] END max_depth=20, max_features=auto, min_samples_leaf=1, min_samples_split=15, n_estimators=700; total time=   1.9s\n"
     ]
    },
    {
     "data": {
      "text/plain": [
       "RandomizedSearchCV(cv=5, estimator=RandomForestRegressor(), n_jobs=1,\n",
       "                   param_distributions={'max_depth': [5, 10, 15, 20, 25, 30],\n",
       "                                        'max_features': ['auto', 'sqrt'],\n",
       "                                        'min_samples_leaf': [1, 2, 5, 10],\n",
       "                                        'min_samples_split': [2, 5, 10, 15,\n",
       "                                                              100],\n",
       "                                        'n_estimators': [100, 200, 300, 400,\n",
       "                                                         500, 600, 700, 800,\n",
       "                                                         900, 1000, 1100,\n",
       "                                                         1200]},\n",
       "                   random_state=42, scoring='neg_mean_squared_error',\n",
       "                   verbose=2)"
      ]
     },
     "execution_count": 1516,
     "metadata": {},
     "output_type": "execute_result"
    }
   ],
   "source": [
    "rf_random.fit(x_train,y_train)"
   ]
  },
  {
   "cell_type": "code",
   "execution_count": 1517,
   "metadata": {},
   "outputs": [
    {
     "data": {
      "text/plain": [
       "{'n_estimators': 700,\n",
       " 'min_samples_split': 15,\n",
       " 'min_samples_leaf': 1,\n",
       " 'max_features': 'auto',\n",
       " 'max_depth': 20}"
      ]
     },
     "execution_count": 1517,
     "metadata": {},
     "output_type": "execute_result"
    }
   ],
   "source": [
    "rf_random.best_params_"
   ]
  },
  {
   "cell_type": "code",
   "execution_count": 1518,
   "metadata": {},
   "outputs": [],
   "source": [
    "predictions=rf_random.predict(x_test)"
   ]
  },
  {
   "cell_type": "code",
   "execution_count": 1524,
   "metadata": {},
   "outputs": [
    {
     "data": {
      "image/png": "[encoded data removed]",
      "text/plain": [
       "<Figure size 432x288 with 1 Axes>"
      ]
     },
     "metadata": {
      "needs_background": "light"
     },
     "output_type": "display_data"
    }
   ],
   "source": [
    "sns.distplot(y_test-predictions);"
   ]
  },
  {
   "cell_type": "code",
   "execution_count": 1521,
   "metadata": {},
   "outputs": [
    {
     "name": "stdout",
     "output_type": "stream",
     "text": [
      "MAE: 62.20302491246125\n"
     ]
    }
   ],
   "source": [
    "print('MAE:', metrics.mean_absolute_error(y_test, predictions))"
   ]
  },
  {
   "cell_type": "code",
   "execution_count": 1522,
   "metadata": {},
   "outputs": [],
   "source": [
    "import pickle\n",
    "file = open('random_forest_regression_model.pkl', 'wb')\n",
    "\n",
    "pickle.dump(rf_random, file)"
   ]
  },
  {
   "cell_type": "code",
   "execution_count": 1523,
   "metadata": {},
   "outputs": [
    {
     "data": {
      "text/plain": [
       "['random_forest_regression_model.sav']"
      ]
     },
     "execution_count": 1523,
     "metadata": {},
     "output_type": "execute_result"
    }
   ],
   "source": [
    "import joblib\n",
    "joblib.dump(rf_random, 'random_forest_regression_model.sav')"
   ]
  },
  {
   "cell_type": "code",
   "execution_count": null,
   "metadata": {},
   "outputs": [],
   "source": []
  }
 ],
 "metadata": {
  "interpreter": {
   "hash": "2cd9076add9d1d8748a656baa357a1ac0e620fa125017f12a6540c62b41a0c68"
  },
  "kernelspec": {
   "display_name": "Python 3.9.7 ('base')",
   "language": "python",
   "name": "python3"
  },
  "language_info": {
   "codemirror_mode": {
    "name": "ipython",
    "version": 3
   },
   "file_extension": ".py",
   "mimetype": "text/x-python",
   "name": "python",
   "nbconvert_exporter": "python",
   "pygments_lexer": "ipython3",
   "version": "3.7.9"
  },
  "orig_nbformat": 4
 },
 "nbformat": 4,
 "nbformat_minor": 2
}
