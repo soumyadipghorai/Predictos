{
  "cells": [
    {
      "cell_type": "code",
      "execution_count": 3,
      "metadata": {
        "id": "05RkUbRU05QX"
      },
      "outputs": [],
      "source": [
        "# handling data \n",
        "import numpy as np \n",
        "import pandas as pd \n",
        "\n",
        "# warnings\n",
        "import warnings\n",
        "pd.options.mode.chained_assignment = None \n",
        "warnings.filterwarnings(action=\"ignore\")\n",
        "warnings.simplefilter(action='ignore', category=FutureWarning)\n",
        "\n",
        "# visualization\n",
        "import seaborn as sns\n",
        "import plotly.express as px\n",
        "import matplotlib.pyplot as plt\n",
        "%matplotlib inline\n",
        "\n",
        "from xgboost import XGBRegressor\n",
        "from sklearn import metrics\n",
        "from sklearn.model_selection import RandomizedSearchCV\n",
        "\n",
        "import pickle "
      ]
    },
    {
      "cell_type": "code",
      "execution_count": 4,
      "metadata": {
        "id": "EAoeyKG4i7XJ"
      },
      "outputs": [],
      "source": [
        "file = open('model_data.pkl', 'rb')\n",
        "data = pickle.load(file)\n",
        "file.close()"
      ]
    },
    {
      "cell_type": "code",
      "execution_count": 5,
      "metadata": {
        "id": "XRoMUpxti7Uk"
      },
      "outputs": [],
      "source": [
        "x_train = data['x_train_log']\n",
        "x_test = data['x_test_log']\n",
        "y_train = data['y_train_log']\n",
        "y_test = data['y_test_log']"
      ]
    },
    {
      "cell_type": "code",
      "execution_count": 6,
      "metadata": {
        "colab": {
          "base_uri": "https://localhost:8080/"
        },
        "id": "jR41-BwDi7Rj",
        "outputId": "72e0ddbf-6235-4059-9786-72ebceb4b23f"
      },
      "outputs": [
        {
          "name": "stdout",
          "output_type": "stream",
          "text": [
            "[14:57:14] WARNING: /workspace/src/objective/regression_obj.cu:152: reg:linear is now deprecated in favor of reg:squarederror.\n"
          ]
        },
        {
          "data": {
            "text/plain": [
              "XGBRegressor()"
            ]
          },
          "execution_count": 6,
          "metadata": {},
          "output_type": "execute_result"
        }
      ],
      "source": [
        "xgb = XGBRegressor()\n",
        "xgb.fit(x_train, y_train)"
      ]
    },
    {
      "cell_type": "code",
      "execution_count": 7,
      "metadata": {
        "id": "ihskchhgjBO4"
      },
      "outputs": [],
      "source": [
        "y_pred = xgb.predict(x_test)"
      ]
    },
    {
      "cell_type": "code",
      "execution_count": 8,
      "metadata": {
        "colab": {
          "base_uri": "https://localhost:8080/"
        },
        "id": "PiCVmVA2jFqk",
        "outputId": "56e8611c-2c4a-47bf-cace-b8c3799d1832"
      },
      "outputs": [
        {
          "name": "stdout",
          "output_type": "stream",
          "text": [
            "MAE: 0.976175718028485\n",
            "MSE: 1.4469608331997312\n",
            "RMSE: 1.2028968506067887\n"
          ]
        }
      ],
      "source": [
        "print('MAE:', metrics.mean_absolute_error(y_test, y_pred))\n",
        "print('MSE:', metrics.mean_squared_error(y_test, y_pred))\n",
        "print('RMSE:', np.sqrt(metrics.mean_squared_error(y_test, y_pred)))"
      ]
    },
    {
      "cell_type": "code",
      "execution_count": 9,
      "metadata": {
        "id": "jADbORorixY5"
      },
      "outputs": [],
      "source": [
        "parameters = {\n",
        "    'learning_rate': [0.01, 0.1],\n",
        "    'max_depth': [3, 5, 7, 10],\n",
        "    'min_child_weight': [1, 3, 5],\n",
        "    'subsample': [0.5, 0.7],\n",
        "    'colsample_bytree': [0.5, 0.7],\n",
        "    'n_estimators' : [100, 200, 500],\n",
        "    'objective': ['reg:squarederror']\n",
        "}"
      ]
    },
    {
      "cell_type": "code",
      "execution_count": 10,
      "metadata": {
        "id": "sYRe3co5iyNm"
      },
      "outputs": [],
      "source": [
        "xgb_random = RandomizedSearchCV(\n",
        "    estimator = xgb, \n",
        "    param_distributions = parameters,\n",
        "    scoring='neg_mean_squared_error', \n",
        "    n_iter = 10, \n",
        "    cv = 5, \n",
        "    verbose=3, \n",
        "    random_state=42, \n",
        "    n_jobs = 1)"
      ]
    },
    {
      "cell_type": "code",
      "execution_count": 11,
      "metadata": {
        "colab": {
          "base_uri": "https://localhost:8080/"
        },
        "id": "A30Ax0OIjWKA",
        "outputId": "83cc6bb9-4361-4a47-d286-3aee8d2607c0"
      },
      "outputs": [
        {
          "name": "stdout",
          "output_type": "stream",
          "text": [
            "Fitting 5 folds for each of 10 candidates, totalling 50 fits\n",
            "[CV 1/5] END colsample_bytree=0.5, learning_rate=0.01, max_depth=7, min_child_weight=3, n_estimators=200, objective=reg:squarederror, subsample=0.7;, score=-6.255 total time=   0.6s\n",
            "[CV 2/5] END colsample_bytree=0.5, learning_rate=0.01, max_depth=7, min_child_weight=3, n_estimators=200, objective=reg:squarederror, subsample=0.7;, score=-6.316 total time=   0.6s\n",
            "[CV 3/5] END colsample_bytree=0.5, learning_rate=0.01, max_depth=7, min_child_weight=3, n_estimators=200, objective=reg:squarederror, subsample=0.7;, score=-6.167 total time=   0.6s\n",
            "[CV 4/5] END colsample_bytree=0.5, learning_rate=0.01, max_depth=7, min_child_weight=3, n_estimators=200, objective=reg:squarederror, subsample=0.7;, score=-6.090 total time=   0.6s\n",
            "[CV 5/5] END colsample_bytree=0.5, learning_rate=0.01, max_depth=7, min_child_weight=3, n_estimators=200, objective=reg:squarederror, subsample=0.7;, score=-6.219 total time=   0.6s\n",
            "[CV 1/5] END colsample_bytree=0.7, learning_rate=0.01, max_depth=3, min_child_weight=5, n_estimators=100, objective=reg:squarederror, subsample=0.7;, score=-36.598 total time=   0.3s\n",
            "[CV 2/5] END colsample_bytree=0.7, learning_rate=0.01, max_depth=3, min_child_weight=5, n_estimators=100, objective=reg:squarederror, subsample=0.7;, score=-36.703 total time=   0.3s\n",
            "[CV 3/5] END colsample_bytree=0.7, learning_rate=0.01, max_depth=3, min_child_weight=5, n_estimators=100, objective=reg:squarederror, subsample=0.7;, score=-36.257 total time=   0.3s\n",
            "[CV 4/5] END colsample_bytree=0.7, learning_rate=0.01, max_depth=3, min_child_weight=5, n_estimators=100, objective=reg:squarederror, subsample=0.7;, score=-36.068 total time=   0.3s\n",
            "[CV 5/5] END colsample_bytree=0.7, learning_rate=0.01, max_depth=3, min_child_weight=5, n_estimators=100, objective=reg:squarederror, subsample=0.7;, score=-36.516 total time=   0.3s\n",
            "[CV 1/5] END colsample_bytree=0.7, learning_rate=0.1, max_depth=7, min_child_weight=1, n_estimators=500, objective=reg:squarederror, subsample=0.5;, score=-1.507 total time=   3.3s\n",
            "[CV 2/5] END colsample_bytree=0.7, learning_rate=0.1, max_depth=7, min_child_weight=1, n_estimators=500, objective=reg:squarederror, subsample=0.5;, score=-1.476 total time=   5.2s\n",
            "[CV 3/5] END colsample_bytree=0.7, learning_rate=0.1, max_depth=7, min_child_weight=1, n_estimators=500, objective=reg:squarederror, subsample=0.5;, score=-1.493 total time=   3.6s\n",
            "[CV 4/5] END colsample_bytree=0.7, learning_rate=0.1, max_depth=7, min_child_weight=1, n_estimators=500, objective=reg:squarederror, subsample=0.5;, score=-1.520 total time=   3.2s\n",
            "[CV 5/5] END colsample_bytree=0.7, learning_rate=0.1, max_depth=7, min_child_weight=1, n_estimators=500, objective=reg:squarederror, subsample=0.5;, score=-1.492 total time=   4.3s\n",
            "[CV 1/5] END colsample_bytree=0.5, learning_rate=0.01, max_depth=7, min_child_weight=3, n_estimators=100, objective=reg:squarederror, subsample=0.5;, score=-36.643 total time=   0.2s\n",
            "[CV 2/5] END colsample_bytree=0.5, learning_rate=0.01, max_depth=7, min_child_weight=3, n_estimators=100, objective=reg:squarederror, subsample=0.5;, score=-36.767 total time=   0.2s\n",
            "[CV 3/5] END colsample_bytree=0.5, learning_rate=0.01, max_depth=7, min_child_weight=3, n_estimators=100, objective=reg:squarederror, subsample=0.5;, score=-36.275 total time=   0.2s\n",
            "[CV 4/5] END colsample_bytree=0.5, learning_rate=0.01, max_depth=7, min_child_weight=3, n_estimators=100, objective=reg:squarederror, subsample=0.5;, score=-36.077 total time=   0.2s\n",
            "[CV 5/5] END colsample_bytree=0.5, learning_rate=0.01, max_depth=7, min_child_weight=3, n_estimators=100, objective=reg:squarederror, subsample=0.5;, score=-36.528 total time=   0.2s\n",
            "[CV 1/5] END colsample_bytree=0.7, learning_rate=0.01, max_depth=7, min_child_weight=1, n_estimators=100, objective=reg:squarederror, subsample=0.7;, score=-36.596 total time=   0.3s\n",
            "[CV 2/5] END colsample_bytree=0.7, learning_rate=0.01, max_depth=7, min_child_weight=1, n_estimators=100, objective=reg:squarederror, subsample=0.7;, score=-36.699 total time=   0.3s\n",
            "[CV 3/5] END colsample_bytree=0.7, learning_rate=0.01, max_depth=7, min_child_weight=1, n_estimators=100, objective=reg:squarederror, subsample=0.7;, score=-36.261 total time=   0.3s\n",
            "[CV 4/5] END colsample_bytree=0.7, learning_rate=0.01, max_depth=7, min_child_weight=1, n_estimators=100, objective=reg:squarederror, subsample=0.7;, score=-36.070 total time=   0.3s\n",
            "[CV 5/5] END colsample_bytree=0.7, learning_rate=0.01, max_depth=7, min_child_weight=1, n_estimators=100, objective=reg:squarederror, subsample=0.7;, score=-36.513 total time=   0.3s\n",
            "[CV 1/5] END colsample_bytree=0.5, learning_rate=0.01, max_depth=3, min_child_weight=3, n_estimators=200, objective=reg:squarederror, subsample=0.7;, score=-6.276 total time=   0.5s\n",
            "[CV 2/5] END colsample_bytree=0.5, learning_rate=0.01, max_depth=3, min_child_weight=3, n_estimators=200, objective=reg:squarederror, subsample=0.7;, score=-6.331 total time=   0.5s\n",
            "[CV 3/5] END colsample_bytree=0.5, learning_rate=0.01, max_depth=3, min_child_weight=3, n_estimators=200, objective=reg:squarederror, subsample=0.7;, score=-6.169 total time=   0.5s\n",
            "[CV 4/5] END colsample_bytree=0.5, learning_rate=0.01, max_depth=3, min_child_weight=3, n_estimators=200, objective=reg:squarederror, subsample=0.7;, score=-6.110 total time=   0.5s\n",
            "[CV 5/5] END colsample_bytree=0.5, learning_rate=0.01, max_depth=3, min_child_weight=3, n_estimators=200, objective=reg:squarederror, subsample=0.7;, score=-6.238 total time=   0.5s\n",
            "[CV 1/5] END colsample_bytree=0.5, learning_rate=0.01, max_depth=7, min_child_weight=3, n_estimators=500, objective=reg:squarederror, subsample=0.5;, score=-1.447 total time=   2.0s\n",
            "[CV 2/5] END colsample_bytree=0.5, learning_rate=0.01, max_depth=7, min_child_weight=3, n_estimators=500, objective=reg:squarederror, subsample=0.5;, score=-1.474 total time=   3.4s\n",
            "[CV 3/5] END colsample_bytree=0.5, learning_rate=0.01, max_depth=7, min_child_weight=3, n_estimators=500, objective=reg:squarederror, subsample=0.5;, score=-1.452 total time=   4.2s\n",
            "[CV 4/5] END colsample_bytree=0.5, learning_rate=0.01, max_depth=7, min_child_weight=3, n_estimators=500, objective=reg:squarederror, subsample=0.5;, score=-1.471 total time=   2.0s\n",
            "[CV 5/5] END colsample_bytree=0.5, learning_rate=0.01, max_depth=7, min_child_weight=3, n_estimators=500, objective=reg:squarederror, subsample=0.5;, score=-1.434 total time=   3.8s\n",
            "[CV 1/5] END colsample_bytree=0.7, learning_rate=0.01, max_depth=5, min_child_weight=3, n_estimators=500, objective=reg:squarederror, subsample=0.5;, score=-1.453 total time=   2.2s\n",
            "[CV 2/5] END colsample_bytree=0.7, learning_rate=0.01, max_depth=5, min_child_weight=3, n_estimators=500, objective=reg:squarederror, subsample=0.5;, score=-1.477 total time=   2.1s\n",
            "[CV 3/5] END colsample_bytree=0.7, learning_rate=0.01, max_depth=5, min_child_weight=3, n_estimators=500, objective=reg:squarederror, subsample=0.5;, score=-1.456 total time=   2.1s\n",
            "[CV 4/5] END colsample_bytree=0.7, learning_rate=0.01, max_depth=5, min_child_weight=3, n_estimators=500, objective=reg:squarederror, subsample=0.5;, score=-1.475 total time=   2.3s\n",
            "[CV 5/5] END colsample_bytree=0.7, learning_rate=0.01, max_depth=5, min_child_weight=3, n_estimators=500, objective=reg:squarederror, subsample=0.5;, score=-1.441 total time=   2.1s\n",
            "[CV 1/5] END colsample_bytree=0.5, learning_rate=0.1, max_depth=3, min_child_weight=1, n_estimators=500, objective=reg:squarederror, subsample=0.7;, score=-1.434 total time=   1.4s\n",
            "[CV 2/5] END colsample_bytree=0.5, learning_rate=0.1, max_depth=3, min_child_weight=1, n_estimators=500, objective=reg:squarederror, subsample=0.7;, score=-1.446 total time=   1.4s\n",
            "[CV 3/5] END colsample_bytree=0.5, learning_rate=0.1, max_depth=3, min_child_weight=1, n_estimators=500, objective=reg:squarederror, subsample=0.7;, score=-1.432 total time=   1.4s\n",
            "[CV 4/5] END colsample_bytree=0.5, learning_rate=0.1, max_depth=3, min_child_weight=1, n_estimators=500, objective=reg:squarederror, subsample=0.7;, score=-1.444 total time=   1.4s\n",
            "[CV 5/5] END colsample_bytree=0.5, learning_rate=0.1, max_depth=3, min_child_weight=1, n_estimators=500, objective=reg:squarederror, subsample=0.7;, score=-1.406 total time=   1.9s\n",
            "[CV 1/5] END colsample_bytree=0.7, learning_rate=0.01, max_depth=7, min_child_weight=5, n_estimators=200, objective=reg:squarederror, subsample=0.7;, score=-6.240 total time=   1.2s\n",
            "[CV 2/5] END colsample_bytree=0.7, learning_rate=0.01, max_depth=7, min_child_weight=5, n_estimators=200, objective=reg:squarederror, subsample=0.7;, score=-6.289 total time=   1.1s\n",
            "[CV 3/5] END colsample_bytree=0.7, learning_rate=0.01, max_depth=7, min_child_weight=5, n_estimators=200, objective=reg:squarederror, subsample=0.7;, score=-6.156 total time=   0.7s\n",
            "[CV 4/5] END colsample_bytree=0.7, learning_rate=0.01, max_depth=7, min_child_weight=5, n_estimators=200, objective=reg:squarederror, subsample=0.7;, score=-6.074 total time=   0.7s\n",
            "[CV 5/5] END colsample_bytree=0.7, learning_rate=0.01, max_depth=7, min_child_weight=5, n_estimators=200, objective=reg:squarederror, subsample=0.7;, score=-6.213 total time=   0.7s\n"
          ]
        },
        {
          "data": {
            "text/plain": [
              "RandomizedSearchCV(cv=5, estimator=XGBRegressor(), n_jobs=1,\n",
              "                   param_distributions={'colsample_bytree': [0.5, 0.7],\n",
              "                                        'learning_rate': [0.01, 0.1],\n",
              "                                        'max_depth': [3, 5, 7, 10],\n",
              "                                        'min_child_weight': [1, 3, 5],\n",
              "                                        'n_estimators': [100, 200, 500],\n",
              "                                        'objective': ['reg:squarederror'],\n",
              "                                        'subsample': [0.5, 0.7]},\n",
              "                   random_state=42, scoring='neg_mean_squared_error',\n",
              "                   verbose=3)"
            ]
          },
          "execution_count": 11,
          "metadata": {},
          "output_type": "execute_result"
        }
      ],
      "source": [
        "xgb_random.fit(x_train,y_train)"
      ]
    },
    {
      "cell_type": "code",
      "execution_count": 13,
      "metadata": {
        "colab": {
          "base_uri": "https://localhost:8080/"
        },
        "id": "xO0P8k8ZjWG8",
        "outputId": "e3db06e4-3410-4615-eb94-5e6156347175"
      },
      "outputs": [
        {
          "data": {
            "text/plain": [
              "{'subsample': 0.7,\n",
              " 'objective': 'reg:squarederror',\n",
              " 'n_estimators': 500,\n",
              " 'min_child_weight': 1,\n",
              " 'max_depth': 3,\n",
              " 'learning_rate': 0.1,\n",
              " 'colsample_bytree': 0.5}"
            ]
          },
          "execution_count": 13,
          "metadata": {},
          "output_type": "execute_result"
        }
      ],
      "source": [
        "xgb_random.best_params_"
      ]
    },
    {
      "cell_type": "code",
      "execution_count": 14,
      "metadata": {
        "id": "mSmoF5UEjWEo"
      },
      "outputs": [],
      "source": [
        "prediction = xgb_random.predict(x_test)"
      ]
    },
    {
      "cell_type": "code",
      "execution_count": 15,
      "metadata": {
        "colab": {
          "base_uri": "https://localhost:8080/",
          "height": 389
        },
        "id": "fsPRIBF3jg1g",
        "outputId": "747b63f4-621e-41d8-8c3b-cd9e6ff5f1f4"
      },
      "outputs": [
        {
          "data": {
            "image/png": "[encoded data removed]",
            "text/plain": [
              "<Figure size 432x432 with 1 Axes>"
            ]
          },
          "metadata": {
            "needs_background": "light"
          },
          "output_type": "display_data"
        }
      ],
      "source": [
        "plt.figure(figsize = (6,6))\n",
        "sns.distplot(y_test-prediction)\n",
        "plt.show()"
      ]
    },
    {
      "cell_type": "code",
      "execution_count": 16,
      "metadata": {
        "colab": {
          "base_uri": "https://localhost:8080/"
        },
        "id": "TGRxvdqpjjZa",
        "outputId": "a1d1b417-eb63-48e9-d96b-dd8e4969a953"
      },
      "outputs": [
        {
          "name": "stdout",
          "output_type": "stream",
          "text": [
            "MAE: 0.9650270906184917\n",
            "MSE: 1.4218023621533395\n",
            "RMSE: 1.1923935433208868\n"
          ]
        }
      ],
      "source": [
        "print('MAE:', metrics.mean_absolute_error(y_test, prediction))\n",
        "print('MSE:', metrics.mean_squared_error(y_test, prediction))\n",
        "print('RMSE:', np.sqrt(metrics.mean_squared_error(y_test, prediction)))"
      ]
    },
    {
      "cell_type": "code",
      "execution_count": 23,
      "metadata": {
        "id": "HLe-vvYojo1u"
      },
      "outputs": [],
      "source": [
        "root = '../../data/ML_models/'\n",
        "\n",
        "file = open(root + 'XGBRegressor.pkl', 'wb')\n",
        "pickle.dump(xgb_random, file)\n",
        "file.close()"
      ]
    },
    {
      "cell_type": "code",
      "execution_count": null,
      "metadata": {
        "id": "G5y41FYUkPuz"
      },
      "outputs": [],
      "source": []
    }
  ],
  "metadata": {
    "colab": {
      "provenance": []
    },
    "kernelspec": {
      "display_name": "Python 3.7.9 64-bit (microsoft store)",
      "language": "python",
      "name": "python3"
    },
    "language_info": {
      "name": "python",
      "version": "3.7.9"
    },
    "vscode": {
      "interpreter": {
        "hash": "49deadb19ec3199b19c2e07bd674ab90037832d683175982dd3cb88bf7cb6cf2"
      }
    }
  },
  "nbformat": 4,
  "nbformat_minor": 0
}
