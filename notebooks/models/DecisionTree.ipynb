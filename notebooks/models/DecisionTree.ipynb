{
  "nbformat": 4,
  "nbformat_minor": 0,
  "metadata": {
    "colab": {
      "provenance": []
    },
    "kernelspec": {
      "name": "python3",
      "display_name": "Python 3"
    },
    "language_info": {
      "name": "python"
    }
  },
  "cells": [
    {
      "cell_type": "code",
      "execution_count": 1,
      "metadata": {
        "id": "ZC-oorHf1Ic6"
      },
      "outputs": [],
      "source": [
        "# handling data \n",
        "import numpy as np \n",
        "import pandas as pd \n",
        "\n",
        "# warnings\n",
        "import warnings\n",
        "pd.options.mode.chained_assignment = None \n",
        "warnings.filterwarnings(action=\"ignore\")\n",
        "warnings.simplefilter(action='ignore', category=FutureWarning)\n",
        "\n",
        "# visualization\n",
        "import seaborn as sns\n",
        "import plotly.express as px\n",
        "import matplotlib.pyplot as plt\n",
        "%matplotlib inline\n",
        "\n",
        "from sklearn.tree import DecisionTreeRegressor\n",
        "from sklearn import tree\n",
        "from sklearn import metrics\n",
        "from sklearn.model_selection import RandomizedSearchCV\n",
        "\n",
        "import pickle"
      ]
    },
    {
      "cell_type": "code",
      "source": [
        "file = open('model_data.pkl', 'rb')\n",
        "data = pickle.load(file)\n",
        "file.close()"
      ],
      "metadata": {
        "id": "yHc_m1VB6khX"
      },
      "execution_count": 2,
      "outputs": []
    },
    {
      "cell_type": "markdown",
      "source": [
        "## With Log "
      ],
      "metadata": {
        "id": "76sOTuFQyZLc"
      }
    },
    {
      "cell_type": "code",
      "source": [
        "x_train = data['x_train_log']\n",
        "x_test = data['x_test_log']\n",
        "y_train = data['y_train_log']\n",
        "y_test = data['y_test_log']"
      ],
      "metadata": {
        "id": "Q6QOf8r76mJE"
      },
      "execution_count": 3,
      "outputs": []
    },
    {
      "cell_type": "code",
      "source": [
        "dtr = DecisionTreeRegressor()\n",
        "dtr.fit(x_train, y_train)"
      ],
      "metadata": {
        "colab": {
          "base_uri": "https://localhost:8080/"
        },
        "id": "xlIHBrk76nio",
        "outputId": "b9d186a0-01b4-4ffa-f3b3-7ff7b4912dff"
      },
      "execution_count": 4,
      "outputs": [
        {
          "output_type": "execute_result",
          "data": {
            "text/plain": [
              "DecisionTreeRegressor()"
            ]
          },
          "metadata": {},
          "execution_count": 4
        }
      ]
    },
    {
      "cell_type": "code",
      "source": [
        "y_pred = dtr.predict(x_test)"
      ],
      "metadata": {
        "id": "ibxh0Jhv60r_"
      },
      "execution_count": 5,
      "outputs": []
    },
    {
      "cell_type": "code",
      "source": [
        "print('MAE:', metrics.mean_absolute_error(y_test, y_pred))\n",
        "print('MSE:', metrics.mean_squared_error(y_test, y_pred))\n",
        "print('RMSE:', np.sqrt(metrics.mean_squared_error(y_test, y_pred)))"
      ],
      "metadata": {
        "colab": {
          "base_uri": "https://localhost:8080/"
        },
        "id": "yKFexnhx63GS",
        "outputId": "e25fb573-b1e1-48aa-c947-61f222538208"
      },
      "execution_count": 6,
      "outputs": [
        {
          "output_type": "stream",
          "name": "stdout",
          "text": [
            "MAE: 1.1023544766392082\n",
            "MSE: 2.058205728122176\n",
            "RMSE: 1.4346448090458404\n"
          ]
        }
      ]
    },
    {
      "cell_type": "code",
      "source": [
        "parameters={\"splitter\":[\"best\",\"random\"],\n",
        "            \"max_depth\" : [1,3,5,7,9,11,12, 15, 20],\n",
        "           \"min_samples_leaf\":[1,2,3,4,5,6,7,8,9,10],\n",
        "           \"min_weight_fraction_leaf\":[0.1,0.2,0.3,0.4,0.5,0.6,0.7,0.8,0.9],\n",
        "           \"max_features\":[\"auto\",\"log2\",\"sqrt\",None],\n",
        "           \"max_leaf_nodes\":[None,10,20,30,40,50,60,70,80,90] }"
      ],
      "metadata": {
        "id": "eT4qgywe6rv9"
      },
      "execution_count": 7,
      "outputs": []
    },
    {
      "cell_type": "code",
      "source": [
        "dt_random = RandomizedSearchCV(\n",
        "    estimator = dtr, \n",
        "    param_distributions = parameters,\n",
        "    scoring='neg_mean_squared_error', \n",
        "    n_iter = 10, \n",
        "    cv = 5, \n",
        "    verbose=3, \n",
        "    random_state=42, \n",
        "    n_jobs = 1)"
      ],
      "metadata": {
        "id": "bIAwTzPR7c_z"
      },
      "execution_count": 8,
      "outputs": []
    },
    {
      "cell_type": "code",
      "source": [
        "dt_random.fit(x_train,y_train)"
      ],
      "metadata": {
        "colab": {
          "base_uri": "https://localhost:8080/"
        },
        "id": "5cWjT_WR7jD2",
        "outputId": "cca70d7f-439f-47f3-a3bc-6e5ccee10fb7"
      },
      "execution_count": 9,
      "outputs": [
        {
          "output_type": "stream",
          "name": "stdout",
          "text": [
            "Fitting 5 folds for each of 10 candidates, totalling 50 fits\n",
            "[CV 1/5] END max_depth=15, max_features=None, max_leaf_nodes=30, min_samples_leaf=5, min_weight_fraction_leaf=0.6, splitter=best;, score=nan total time=   0.0s\n",
            "[CV 2/5] END max_depth=15, max_features=None, max_leaf_nodes=30, min_samples_leaf=5, min_weight_fraction_leaf=0.6, splitter=best;, score=nan total time=   0.0s\n",
            "[CV 3/5] END max_depth=15, max_features=None, max_leaf_nodes=30, min_samples_leaf=5, min_weight_fraction_leaf=0.6, splitter=best;, score=nan total time=   0.0s\n",
            "[CV 4/5] END max_depth=15, max_features=None, max_leaf_nodes=30, min_samples_leaf=5, min_weight_fraction_leaf=0.6, splitter=best;, score=nan total time=   0.0s\n",
            "[CV 5/5] END max_depth=15, max_features=None, max_leaf_nodes=30, min_samples_leaf=5, min_weight_fraction_leaf=0.6, splitter=best;, score=nan total time=   0.0s\n",
            "[CV 1/5] END max_depth=5, max_features=auto, max_leaf_nodes=70, min_samples_leaf=8, min_weight_fraction_leaf=0.5, splitter=random;, score=-1.675 total time=   0.0s\n",
            "[CV 2/5] END max_depth=5, max_features=auto, max_leaf_nodes=70, min_samples_leaf=8, min_weight_fraction_leaf=0.5, splitter=random;, score=-1.724 total time=   0.0s\n",
            "[CV 3/5] END max_depth=5, max_features=auto, max_leaf_nodes=70, min_samples_leaf=8, min_weight_fraction_leaf=0.5, splitter=random;, score=-1.705 total time=   0.0s\n",
            "[CV 4/5] END max_depth=5, max_features=auto, max_leaf_nodes=70, min_samples_leaf=8, min_weight_fraction_leaf=0.5, splitter=random;, score=-1.709 total time=   0.0s\n",
            "[CV 5/5] END max_depth=5, max_features=auto, max_leaf_nodes=70, min_samples_leaf=8, min_weight_fraction_leaf=0.5, splitter=random;, score=-1.644 total time=   0.0s\n",
            "[CV 1/5] END max_depth=1, max_features=auto, max_leaf_nodes=40, min_samples_leaf=8, min_weight_fraction_leaf=0.8, splitter=best;, score=nan total time=   0.0s\n",
            "[CV 2/5] END max_depth=1, max_features=auto, max_leaf_nodes=40, min_samples_leaf=8, min_weight_fraction_leaf=0.8, splitter=best;, score=nan total time=   0.0s\n",
            "[CV 3/5] END max_depth=1, max_features=auto, max_leaf_nodes=40, min_samples_leaf=8, min_weight_fraction_leaf=0.8, splitter=best;, score=nan total time=   0.0s\n",
            "[CV 4/5] END max_depth=1, max_features=auto, max_leaf_nodes=40, min_samples_leaf=8, min_weight_fraction_leaf=0.8, splitter=best;, score=nan total time=   0.0s\n",
            "[CV 5/5] END max_depth=1, max_features=auto, max_leaf_nodes=40, min_samples_leaf=8, min_weight_fraction_leaf=0.8, splitter=best;, score=nan total time=   0.0s\n",
            "[CV 1/5] END max_depth=11, max_features=log2, max_leaf_nodes=10, min_samples_leaf=10, min_weight_fraction_leaf=0.9, splitter=best;, score=nan total time=   0.0s\n",
            "[CV 2/5] END max_depth=11, max_features=log2, max_leaf_nodes=10, min_samples_leaf=10, min_weight_fraction_leaf=0.9, splitter=best;, score=nan total time=   0.0s\n",
            "[CV 3/5] END max_depth=11, max_features=log2, max_leaf_nodes=10, min_samples_leaf=10, min_weight_fraction_leaf=0.9, splitter=best;, score=nan total time=   0.0s\n",
            "[CV 4/5] END max_depth=11, max_features=log2, max_leaf_nodes=10, min_samples_leaf=10, min_weight_fraction_leaf=0.9, splitter=best;, score=nan total time=   0.0s\n",
            "[CV 5/5] END max_depth=11, max_features=log2, max_leaf_nodes=10, min_samples_leaf=10, min_weight_fraction_leaf=0.9, splitter=best;, score=nan total time=   0.0s\n",
            "[CV 1/5] END max_depth=20, max_features=sqrt, max_leaf_nodes=70, min_samples_leaf=7, min_weight_fraction_leaf=0.2, splitter=best;, score=-1.625 total time=   0.0s\n",
            "[CV 2/5] END max_depth=20, max_features=sqrt, max_leaf_nodes=70, min_samples_leaf=7, min_weight_fraction_leaf=0.2, splitter=best;, score=-1.719 total time=   0.0s\n",
            "[CV 3/5] END max_depth=20, max_features=sqrt, max_leaf_nodes=70, min_samples_leaf=7, min_weight_fraction_leaf=0.2, splitter=best;, score=-1.660 total time=   0.0s\n",
            "[CV 4/5] END max_depth=20, max_features=sqrt, max_leaf_nodes=70, min_samples_leaf=7, min_weight_fraction_leaf=0.2, splitter=best;, score=-1.642 total time=   0.0s\n",
            "[CV 5/5] END max_depth=20, max_features=sqrt, max_leaf_nodes=70, min_samples_leaf=7, min_weight_fraction_leaf=0.2, splitter=best;, score=-1.605 total time=   0.0s\n",
            "[CV 1/5] END max_depth=15, max_features=sqrt, max_leaf_nodes=10, min_samples_leaf=10, min_weight_fraction_leaf=0.1, splitter=random;, score=-1.633 total time=   0.0s\n",
            "[CV 2/5] END max_depth=15, max_features=sqrt, max_leaf_nodes=10, min_samples_leaf=10, min_weight_fraction_leaf=0.1, splitter=random;, score=-1.700 total time=   0.0s\n",
            "[CV 3/5] END max_depth=15, max_features=sqrt, max_leaf_nodes=10, min_samples_leaf=10, min_weight_fraction_leaf=0.1, splitter=random;, score=-1.679 total time=   0.0s\n",
            "[CV 4/5] END max_depth=15, max_features=sqrt, max_leaf_nodes=10, min_samples_leaf=10, min_weight_fraction_leaf=0.1, splitter=random;, score=-1.663 total time=   0.0s\n",
            "[CV 5/5] END max_depth=15, max_features=sqrt, max_leaf_nodes=10, min_samples_leaf=10, min_weight_fraction_leaf=0.1, splitter=random;, score=-1.617 total time=   0.0s\n",
            "[CV 1/5] END max_depth=12, max_features=auto, max_leaf_nodes=80, min_samples_leaf=6, min_weight_fraction_leaf=0.2, splitter=best;, score=-1.594 total time=   0.0s\n",
            "[CV 2/5] END max_depth=12, max_features=auto, max_leaf_nodes=80, min_samples_leaf=6, min_weight_fraction_leaf=0.2, splitter=best;, score=-1.624 total time=   0.0s\n",
            "[CV 3/5] END max_depth=12, max_features=auto, max_leaf_nodes=80, min_samples_leaf=6, min_weight_fraction_leaf=0.2, splitter=best;, score=-1.625 total time=   0.0s\n",
            "[CV 4/5] END max_depth=12, max_features=auto, max_leaf_nodes=80, min_samples_leaf=6, min_weight_fraction_leaf=0.2, splitter=best;, score=-1.636 total time=   0.0s\n",
            "[CV 5/5] END max_depth=12, max_features=auto, max_leaf_nodes=80, min_samples_leaf=6, min_weight_fraction_leaf=0.2, splitter=best;, score=-1.568 total time=   0.0s\n",
            "[CV 1/5] END max_depth=3, max_features=sqrt, max_leaf_nodes=20, min_samples_leaf=7, min_weight_fraction_leaf=0.9, splitter=best;, score=nan total time=   0.0s\n",
            "[CV 2/5] END max_depth=3, max_features=sqrt, max_leaf_nodes=20, min_samples_leaf=7, min_weight_fraction_leaf=0.9, splitter=best;, score=nan total time=   0.0s\n",
            "[CV 3/5] END max_depth=3, max_features=sqrt, max_leaf_nodes=20, min_samples_leaf=7, min_weight_fraction_leaf=0.9, splitter=best;, score=nan total time=   0.0s\n",
            "[CV 4/5] END max_depth=3, max_features=sqrt, max_leaf_nodes=20, min_samples_leaf=7, min_weight_fraction_leaf=0.9, splitter=best;, score=nan total time=   0.0s\n",
            "[CV 5/5] END max_depth=3, max_features=sqrt, max_leaf_nodes=20, min_samples_leaf=7, min_weight_fraction_leaf=0.9, splitter=best;, score=nan total time=   0.0s\n",
            "[CV 1/5] END max_depth=15, max_features=sqrt, max_leaf_nodes=40, min_samples_leaf=10, min_weight_fraction_leaf=0.3, splitter=best;, score=-1.672 total time=   0.0s\n",
            "[CV 2/5] END max_depth=15, max_features=sqrt, max_leaf_nodes=40, min_samples_leaf=10, min_weight_fraction_leaf=0.3, splitter=best;, score=-1.681 total time=   0.0s\n",
            "[CV 3/5] END max_depth=15, max_features=sqrt, max_leaf_nodes=40, min_samples_leaf=10, min_weight_fraction_leaf=0.3, splitter=best;, score=-1.703 total time=   0.0s\n",
            "[CV 4/5] END max_depth=15, max_features=sqrt, max_leaf_nodes=40, min_samples_leaf=10, min_weight_fraction_leaf=0.3, splitter=best;, score=-1.712 total time=   0.0s\n",
            "[CV 5/5] END max_depth=15, max_features=sqrt, max_leaf_nodes=40, min_samples_leaf=10, min_weight_fraction_leaf=0.3, splitter=best;, score=-1.644 total time=   0.0s\n",
            "[CV 1/5] END max_depth=1, max_features=None, max_leaf_nodes=40, min_samples_leaf=9, min_weight_fraction_leaf=0.1, splitter=random;, score=-1.650 total time=   0.0s\n",
            "[CV 2/5] END max_depth=1, max_features=None, max_leaf_nodes=40, min_samples_leaf=9, min_weight_fraction_leaf=0.1, splitter=random;, score=-1.682 total time=   0.0s\n",
            "[CV 3/5] END max_depth=1, max_features=None, max_leaf_nodes=40, min_samples_leaf=9, min_weight_fraction_leaf=0.1, splitter=random;, score=-1.681 total time=   0.0s\n",
            "[CV 4/5] END max_depth=1, max_features=None, max_leaf_nodes=40, min_samples_leaf=9, min_weight_fraction_leaf=0.1, splitter=random;, score=-1.670 total time=   0.0s\n",
            "[CV 5/5] END max_depth=1, max_features=None, max_leaf_nodes=40, min_samples_leaf=9, min_weight_fraction_leaf=0.1, splitter=random;, score=-1.617 total time=   0.0s\n"
          ]
        },
        {
          "output_type": "execute_result",
          "data": {
            "text/plain": [
              "RandomizedSearchCV(cv=5, estimator=DecisionTreeRegressor(), n_jobs=1,\n",
              "                   param_distributions={'max_depth': [1, 3, 5, 7, 9, 11, 12, 15,\n",
              "                                                      20],\n",
              "                                        'max_features': ['auto', 'log2', 'sqrt',\n",
              "                                                         None],\n",
              "                                        'max_leaf_nodes': [None, 10, 20, 30, 40,\n",
              "                                                           50, 60, 70, 80, 90],\n",
              "                                        'min_samples_leaf': [1, 2, 3, 4, 5, 6,\n",
              "                                                             7, 8, 9, 10],\n",
              "                                        'min_weight_fraction_leaf': [0.1, 0.2,\n",
              "                                                                     0.3, 0.4,\n",
              "                                                                     0.5, 0.6,\n",
              "                                                                     0.7, 0.8,\n",
              "                                                                     0.9],\n",
              "                                        'splitter': ['best', 'random']},\n",
              "                   random_state=42, scoring='neg_mean_squared_error',\n",
              "                   verbose=3)"
            ]
          },
          "metadata": {},
          "execution_count": 9
        }
      ]
    },
    {
      "cell_type": "code",
      "source": [
        "dt_random.best_params_"
      ],
      "metadata": {
        "colab": {
          "base_uri": "https://localhost:8080/"
        },
        "id": "d5Nel0xN7n14",
        "outputId": "b5222aae-d3a8-4375-dcc2-b75b51975d4b"
      },
      "execution_count": 10,
      "outputs": [
        {
          "output_type": "execute_result",
          "data": {
            "text/plain": [
              "{'splitter': 'best',\n",
              " 'min_weight_fraction_leaf': 0.2,\n",
              " 'min_samples_leaf': 6,\n",
              " 'max_leaf_nodes': 80,\n",
              " 'max_features': 'auto',\n",
              " 'max_depth': 12}"
            ]
          },
          "metadata": {},
          "execution_count": 10
        }
      ]
    },
    {
      "cell_type": "code",
      "source": [
        "prediction = dt_random.predict(x_test)"
      ],
      "metadata": {
        "id": "N71ATzSS7vjv"
      },
      "execution_count": 11,
      "outputs": []
    },
    {
      "cell_type": "code",
      "source": [
        "plt.figure(figsize = (6,6))\n",
        "sns.distplot(y_test-prediction)\n",
        "plt.show()"
      ],
      "metadata": {
        "colab": {
          "base_uri": "https://localhost:8080/",
          "height": 389
        },
        "id": "oobFVvuk7yUh",
        "outputId": "1f922ce0-aecc-4973-994e-bee2e80ce104"
      },
      "execution_count": 12,
      "outputs": [
        {
          "output_type": "display_data",
          "data": {
            "text/plain": [
              "<Figure size 432x432 with 1 Axes>"
            ],
            "image/png": "[encoded data removed]"
          },
          "metadata": {
            "needs_background": "light"
          }
        }
      ]
    },
    {
      "cell_type": "code",
      "source": [
        "print('MAE:', metrics.mean_absolute_error(y_test, prediction))\n",
        "print('MSE:', metrics.mean_squared_error(y_test, prediction))\n",
        "print('RMSE:', np.sqrt(metrics.mean_squared_error(y_test, prediction)))"
      ],
      "metadata": {
        "colab": {
          "base_uri": "https://localhost:8080/"
        },
        "id": "OdtntrqM71Jn",
        "outputId": "b33e88e0-5c5b-4ee7-943e-7b20984b995c"
      },
      "execution_count": 13,
      "outputs": [
        {
          "output_type": "stream",
          "name": "stdout",
          "text": [
            "MAE: 1.0458254974093055\n",
            "MSE: 1.6239443195918013\n",
            "RMSE: 1.2743407392027462\n"
          ]
        }
      ]
    },
    {
      "cell_type": "code",
      "source": [
        "file = open('DecisionTreeLog.pkl', 'wb')\n",
        "pickle.dump(dt_random, file)"
      ],
      "metadata": {
        "id": "hMWIhtJd9fPA"
      },
      "execution_count": 14,
      "outputs": []
    },
    {
      "cell_type": "markdown",
      "source": [
        "## Without Log "
      ],
      "metadata": {
        "id": "LDwcV9uHycDR"
      }
    },
    {
      "cell_type": "code",
      "source": [
        "x_train = data['x_train']\n",
        "x_test = data['x_test']\n",
        "y_train = data['y_train']\n",
        "y_test = data['y_test']"
      ],
      "metadata": {
        "id": "TaOerbvwycDS"
      },
      "execution_count": 15,
      "outputs": []
    },
    {
      "cell_type": "code",
      "source": [
        "dtr = DecisionTreeRegressor()\n",
        "dtr.fit(x_train, y_train)"
      ],
      "metadata": {
        "colab": {
          "base_uri": "https://localhost:8080/"
        },
        "outputId": "31ab1680-377c-4ab2-b647-ff3591b9124c",
        "id": "uTZTSxTDycDU"
      },
      "execution_count": 16,
      "outputs": [
        {
          "output_type": "execute_result",
          "data": {
            "text/plain": [
              "DecisionTreeRegressor()"
            ]
          },
          "metadata": {},
          "execution_count": 16
        }
      ]
    },
    {
      "cell_type": "code",
      "source": [
        "y_pred = dtr.predict(x_test)"
      ],
      "metadata": {
        "id": "taQyRmRRycDW"
      },
      "execution_count": 17,
      "outputs": []
    },
    {
      "cell_type": "code",
      "source": [
        "print('MAE:', metrics.mean_absolute_error(y_test, y_pred))\n",
        "print('MSE:', metrics.mean_squared_error(y_test, y_pred))\n",
        "print('RMSE:', np.sqrt(metrics.mean_squared_error(y_test, y_pred)))"
      ],
      "metadata": {
        "colab": {
          "base_uri": "https://localhost:8080/"
        },
        "outputId": "2352fc96-f0f1-4c35-d64d-5b0914905839",
        "id": "YIuCee41ycDX"
      },
      "execution_count": 18,
      "outputs": [
        {
          "output_type": "stream",
          "name": "stdout",
          "text": [
            "MAE: 36214131.90388161\n",
            "MSE: 3912193193594815.5\n",
            "RMSE: 62547527.4778693\n"
          ]
        }
      ]
    },
    {
      "cell_type": "code",
      "source": [
        "parameters={\"splitter\":[\"best\",\"random\"],\n",
        "            \"max_depth\" : [1,3,5,7,9,11,12, 15, 20],\n",
        "           \"min_samples_leaf\":[1,2,3,4,5,6,7,8,9,10],\n",
        "           \"min_weight_fraction_leaf\":[0.1,0.2,0.3,0.4,0.5,0.6,0.7,0.8,0.9],\n",
        "           \"max_features\":[\"auto\",\"log2\",\"sqrt\",None],\n",
        "           \"max_leaf_nodes\":[None,10,20,30,40,50,60,70,80,90] }"
      ],
      "metadata": {
        "id": "mdi5XvTGycDY"
      },
      "execution_count": 19,
      "outputs": []
    },
    {
      "cell_type": "code",
      "source": [
        "dt_random = RandomizedSearchCV(\n",
        "    estimator = dtr, \n",
        "    param_distributions = parameters,\n",
        "    scoring='neg_mean_squared_error', \n",
        "    n_iter = 10, \n",
        "    cv = 5, \n",
        "    verbose=3, \n",
        "    random_state=42, \n",
        "    n_jobs = 1)"
      ],
      "metadata": {
        "id": "U8mk2TRCycDZ"
      },
      "execution_count": 20,
      "outputs": []
    },
    {
      "cell_type": "code",
      "source": [
        "dt_random.fit(x_train,y_train)"
      ],
      "metadata": {
        "colab": {
          "base_uri": "https://localhost:8080/"
        },
        "outputId": "19838e89-b826-486d-e91f-20371878e022",
        "id": "k9fWQZ4vycDa"
      },
      "execution_count": 21,
      "outputs": [
        {
          "output_type": "stream",
          "name": "stdout",
          "text": [
            "Fitting 5 folds for each of 10 candidates, totalling 50 fits\n",
            "[CV 1/5] END max_depth=15, max_features=None, max_leaf_nodes=30, min_samples_leaf=5, min_weight_fraction_leaf=0.6, splitter=best;, score=nan total time=   0.0s\n",
            "[CV 2/5] END max_depth=15, max_features=None, max_leaf_nodes=30, min_samples_leaf=5, min_weight_fraction_leaf=0.6, splitter=best;, score=nan total time=   0.0s\n",
            "[CV 3/5] END max_depth=15, max_features=None, max_leaf_nodes=30, min_samples_leaf=5, min_weight_fraction_leaf=0.6, splitter=best;, score=nan total time=   0.0s\n",
            "[CV 4/5] END max_depth=15, max_features=None, max_leaf_nodes=30, min_samples_leaf=5, min_weight_fraction_leaf=0.6, splitter=best;, score=nan total time=   0.0s\n",
            "[CV 5/5] END max_depth=15, max_features=None, max_leaf_nodes=30, min_samples_leaf=5, min_weight_fraction_leaf=0.6, splitter=best;, score=nan total time=   0.0s\n",
            "[CV 1/5] END max_depth=5, max_features=auto, max_leaf_nodes=70, min_samples_leaf=8, min_weight_fraction_leaf=0.5, splitter=random;, score=-3195372346897822.000 total time=   0.0s\n",
            "[CV 2/5] END max_depth=5, max_features=auto, max_leaf_nodes=70, min_samples_leaf=8, min_weight_fraction_leaf=0.5, splitter=random;, score=-3153231071037096.000 total time=   0.0s\n",
            "[CV 3/5] END max_depth=5, max_features=auto, max_leaf_nodes=70, min_samples_leaf=8, min_weight_fraction_leaf=0.5, splitter=random;, score=-3014868542636524.000 total time=   0.0s\n",
            "[CV 4/5] END max_depth=5, max_features=auto, max_leaf_nodes=70, min_samples_leaf=8, min_weight_fraction_leaf=0.5, splitter=random;, score=-3103196341553280.000 total time=   0.0s\n",
            "[CV 5/5] END max_depth=5, max_features=auto, max_leaf_nodes=70, min_samples_leaf=8, min_weight_fraction_leaf=0.5, splitter=random;, score=-3208829372797461.500 total time=   0.0s\n",
            "[CV 1/5] END max_depth=1, max_features=auto, max_leaf_nodes=40, min_samples_leaf=8, min_weight_fraction_leaf=0.8, splitter=best;, score=nan total time=   0.0s\n",
            "[CV 2/5] END max_depth=1, max_features=auto, max_leaf_nodes=40, min_samples_leaf=8, min_weight_fraction_leaf=0.8, splitter=best;, score=nan total time=   0.0s\n",
            "[CV 3/5] END max_depth=1, max_features=auto, max_leaf_nodes=40, min_samples_leaf=8, min_weight_fraction_leaf=0.8, splitter=best;, score=nan total time=   0.0s\n",
            "[CV 4/5] END max_depth=1, max_features=auto, max_leaf_nodes=40, min_samples_leaf=8, min_weight_fraction_leaf=0.8, splitter=best;, score=nan total time=   0.0s\n",
            "[CV 5/5] END max_depth=1, max_features=auto, max_leaf_nodes=40, min_samples_leaf=8, min_weight_fraction_leaf=0.8, splitter=best;, score=nan total time=   0.0s\n",
            "[CV 1/5] END max_depth=11, max_features=log2, max_leaf_nodes=10, min_samples_leaf=10, min_weight_fraction_leaf=0.9, splitter=best;, score=nan total time=   0.0s\n",
            "[CV 2/5] END max_depth=11, max_features=log2, max_leaf_nodes=10, min_samples_leaf=10, min_weight_fraction_leaf=0.9, splitter=best;, score=nan total time=   0.0s\n",
            "[CV 3/5] END max_depth=11, max_features=log2, max_leaf_nodes=10, min_samples_leaf=10, min_weight_fraction_leaf=0.9, splitter=best;, score=nan total time=   0.0s\n",
            "[CV 4/5] END max_depth=11, max_features=log2, max_leaf_nodes=10, min_samples_leaf=10, min_weight_fraction_leaf=0.9, splitter=best;, score=nan total time=   0.0s\n",
            "[CV 5/5] END max_depth=11, max_features=log2, max_leaf_nodes=10, min_samples_leaf=10, min_weight_fraction_leaf=0.9, splitter=best;, score=nan total time=   0.0s\n",
            "[CV 1/5] END max_depth=20, max_features=sqrt, max_leaf_nodes=70, min_samples_leaf=7, min_weight_fraction_leaf=0.2, splitter=best;, score=-3087609099009921.000 total time=   0.0s\n",
            "[CV 2/5] END max_depth=20, max_features=sqrt, max_leaf_nodes=70, min_samples_leaf=7, min_weight_fraction_leaf=0.2, splitter=best;, score=-3038964301197424.000 total time=   0.0s\n",
            "[CV 3/5] END max_depth=20, max_features=sqrt, max_leaf_nodes=70, min_samples_leaf=7, min_weight_fraction_leaf=0.2, splitter=best;, score=-2931656064663317.000 total time=   0.0s\n",
            "[CV 4/5] END max_depth=20, max_features=sqrt, max_leaf_nodes=70, min_samples_leaf=7, min_weight_fraction_leaf=0.2, splitter=best;, score=-3003107968333588.500 total time=   0.0s\n",
            "[CV 5/5] END max_depth=20, max_features=sqrt, max_leaf_nodes=70, min_samples_leaf=7, min_weight_fraction_leaf=0.2, splitter=best;, score=-3097721379992296.000 total time=   0.0s\n",
            "[CV 1/5] END max_depth=15, max_features=sqrt, max_leaf_nodes=10, min_samples_leaf=10, min_weight_fraction_leaf=0.1, splitter=random;, score=-3182399502517492.000 total time=   0.0s\n",
            "[CV 2/5] END max_depth=15, max_features=sqrt, max_leaf_nodes=10, min_samples_leaf=10, min_weight_fraction_leaf=0.1, splitter=random;, score=-3069378296923561.500 total time=   0.0s\n",
            "[CV 3/5] END max_depth=15, max_features=sqrt, max_leaf_nodes=10, min_samples_leaf=10, min_weight_fraction_leaf=0.1, splitter=random;, score=-2984198804055791.000 total time=   0.0s\n",
            "[CV 4/5] END max_depth=15, max_features=sqrt, max_leaf_nodes=10, min_samples_leaf=10, min_weight_fraction_leaf=0.1, splitter=random;, score=-3096867275606373.500 total time=   0.0s\n",
            "[CV 5/5] END max_depth=15, max_features=sqrt, max_leaf_nodes=10, min_samples_leaf=10, min_weight_fraction_leaf=0.1, splitter=random;, score=-3192097853062420.500 total time=   0.0s\n",
            "[CV 1/5] END max_depth=12, max_features=auto, max_leaf_nodes=80, min_samples_leaf=6, min_weight_fraction_leaf=0.2, splitter=best;, score=-3068131313554701.500 total time=   0.0s\n",
            "[CV 2/5] END max_depth=12, max_features=auto, max_leaf_nodes=80, min_samples_leaf=6, min_weight_fraction_leaf=0.2, splitter=best;, score=-3018995628304235.500 total time=   0.0s\n",
            "[CV 3/5] END max_depth=12, max_features=auto, max_leaf_nodes=80, min_samples_leaf=6, min_weight_fraction_leaf=0.2, splitter=best;, score=-2922006053600815.000 total time=   0.0s\n",
            "[CV 4/5] END max_depth=12, max_features=auto, max_leaf_nodes=80, min_samples_leaf=6, min_weight_fraction_leaf=0.2, splitter=best;, score=-2962401747090491.000 total time=   0.0s\n",
            "[CV 5/5] END max_depth=12, max_features=auto, max_leaf_nodes=80, min_samples_leaf=6, min_weight_fraction_leaf=0.2, splitter=best;, score=-3097721379992296.000 total time=   0.0s\n",
            "[CV 1/5] END max_depth=3, max_features=sqrt, max_leaf_nodes=20, min_samples_leaf=7, min_weight_fraction_leaf=0.9, splitter=best;, score=nan total time=   0.0s\n",
            "[CV 2/5] END max_depth=3, max_features=sqrt, max_leaf_nodes=20, min_samples_leaf=7, min_weight_fraction_leaf=0.9, splitter=best;, score=nan total time=   0.0s\n",
            "[CV 3/5] END max_depth=3, max_features=sqrt, max_leaf_nodes=20, min_samples_leaf=7, min_weight_fraction_leaf=0.9, splitter=best;, score=nan total time=   0.0s\n",
            "[CV 4/5] END max_depth=3, max_features=sqrt, max_leaf_nodes=20, min_samples_leaf=7, min_weight_fraction_leaf=0.9, splitter=best;, score=nan total time=   0.0s\n",
            "[CV 5/5] END max_depth=3, max_features=sqrt, max_leaf_nodes=20, min_samples_leaf=7, min_weight_fraction_leaf=0.9, splitter=best;, score=nan total time=   0.0s\n",
            "[CV 1/5] END max_depth=15, max_features=sqrt, max_leaf_nodes=40, min_samples_leaf=10, min_weight_fraction_leaf=0.3, splitter=best;, score=-3195372346897822.000 total time=   0.0s\n",
            "[CV 2/5] END max_depth=15, max_features=sqrt, max_leaf_nodes=40, min_samples_leaf=10, min_weight_fraction_leaf=0.3, splitter=best;, score=-3153231071037096.000 total time=   0.0s\n",
            "[CV 3/5] END max_depth=15, max_features=sqrt, max_leaf_nodes=40, min_samples_leaf=10, min_weight_fraction_leaf=0.3, splitter=best;, score=-3013252050025692.000 total time=   0.0s\n",
            "[CV 4/5] END max_depth=15, max_features=sqrt, max_leaf_nodes=40, min_samples_leaf=10, min_weight_fraction_leaf=0.3, splitter=best;, score=-3103196341553280.000 total time=   0.0s\n",
            "[CV 5/5] END max_depth=15, max_features=sqrt, max_leaf_nodes=40, min_samples_leaf=10, min_weight_fraction_leaf=0.3, splitter=best;, score=-3138221373013394.500 total time=   0.0s\n",
            "[CV 1/5] END max_depth=1, max_features=None, max_leaf_nodes=40, min_samples_leaf=9, min_weight_fraction_leaf=0.1, splitter=random;, score=-3148643161299920.000 total time=   0.0s\n",
            "[CV 2/5] END max_depth=1, max_features=None, max_leaf_nodes=40, min_samples_leaf=9, min_weight_fraction_leaf=0.1, splitter=random;, score=-3137612356696841.500 total time=   0.0s\n",
            "[CV 3/5] END max_depth=1, max_features=None, max_leaf_nodes=40, min_samples_leaf=9, min_weight_fraction_leaf=0.1, splitter=random;, score=-2986461760329177.500 total time=   0.0s\n",
            "[CV 4/5] END max_depth=1, max_features=None, max_leaf_nodes=40, min_samples_leaf=9, min_weight_fraction_leaf=0.1, splitter=random;, score=-3081275919262172.000 total time=   0.0s\n",
            "[CV 5/5] END max_depth=1, max_features=None, max_leaf_nodes=40, min_samples_leaf=9, min_weight_fraction_leaf=0.1, splitter=random;, score=-3140560865907116.500 total time=   0.0s\n"
          ]
        },
        {
          "output_type": "execute_result",
          "data": {
            "text/plain": [
              "RandomizedSearchCV(cv=5, estimator=DecisionTreeRegressor(), n_jobs=1,\n",
              "                   param_distributions={'max_depth': [1, 3, 5, 7, 9, 11, 12, 15,\n",
              "                                                      20],\n",
              "                                        'max_features': ['auto', 'log2', 'sqrt',\n",
              "                                                         None],\n",
              "                                        'max_leaf_nodes': [None, 10, 20, 30, 40,\n",
              "                                                           50, 60, 70, 80, 90],\n",
              "                                        'min_samples_leaf': [1, 2, 3, 4, 5, 6,\n",
              "                                                             7, 8, 9, 10],\n",
              "                                        'min_weight_fraction_leaf': [0.1, 0.2,\n",
              "                                                                     0.3, 0.4,\n",
              "                                                                     0.5, 0.6,\n",
              "                                                                     0.7, 0.8,\n",
              "                                                                     0.9],\n",
              "                                        'splitter': ['best', 'random']},\n",
              "                   random_state=42, scoring='neg_mean_squared_error',\n",
              "                   verbose=3)"
            ]
          },
          "metadata": {},
          "execution_count": 21
        }
      ]
    },
    {
      "cell_type": "code",
      "source": [
        "dt_random.best_params_"
      ],
      "metadata": {
        "colab": {
          "base_uri": "https://localhost:8080/"
        },
        "outputId": "409ddfe4-7386-4b1d-e814-4a352566e28b",
        "id": "-XW82FggycDb"
      },
      "execution_count": 22,
      "outputs": [
        {
          "output_type": "execute_result",
          "data": {
            "text/plain": [
              "{'splitter': 'best',\n",
              " 'min_weight_fraction_leaf': 0.2,\n",
              " 'min_samples_leaf': 6,\n",
              " 'max_leaf_nodes': 80,\n",
              " 'max_features': 'auto',\n",
              " 'max_depth': 12}"
            ]
          },
          "metadata": {},
          "execution_count": 22
        }
      ]
    },
    {
      "cell_type": "code",
      "source": [
        "prediction = dt_random.predict(x_test)"
      ],
      "metadata": {
        "id": "r2p55fSIycDb"
      },
      "execution_count": 23,
      "outputs": []
    },
    {
      "cell_type": "code",
      "source": [
        "plt.figure(figsize = (6,6))\n",
        "sns.distplot(y_test-prediction)\n",
        "plt.show()"
      ],
      "metadata": {
        "colab": {
          "base_uri": "https://localhost:8080/",
          "height": 399
        },
        "outputId": "68bdff16-4af8-4f53-f364-68c7008130fa",
        "id": "Bzlysb7uycDc"
      },
      "execution_count": 24,
      "outputs": [
        {
          "output_type": "display_data",
          "data": {
            "text/plain": [
              "<Figure size 432x432 with 1 Axes>"
            ],
            "image/png": "[encoded data removed]"
          },
          "metadata": {
            "needs_background": "light"
          }
        }
      ]
    },
    {
      "cell_type": "code",
      "source": [
        "print('MAE:', metrics.mean_absolute_error(y_test, prediction))\n",
        "print('MSE:', metrics.mean_squared_error(y_test, prediction))\n",
        "print('RMSE:', np.sqrt(metrics.mean_squared_error(y_test, prediction)))"
      ],
      "metadata": {
        "colab": {
          "base_uri": "https://localhost:8080/"
        },
        "outputId": "b7e0fc74-969f-4436-d3c1-d472a9ad2e36",
        "id": "nkJ7cDOlycDd"
      },
      "execution_count": 25,
      "outputs": [
        {
          "output_type": "stream",
          "name": "stdout",
          "text": [
            "MAE: 34962683.82372712\n",
            "MSE: 3027104936082561.0\n",
            "RMSE: 55019132.45483394\n"
          ]
        }
      ]
    },
    {
      "cell_type": "code",
      "source": [
        "file = open('DecisionTree.pkl', 'wb')\n",
        "pickle.dump(dt_random, file)"
      ],
      "metadata": {
        "id": "I0zvrrEBycDe"
      },
      "execution_count": 26,
      "outputs": []
    }
  ]
}