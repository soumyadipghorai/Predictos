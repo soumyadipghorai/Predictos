{
 "cells": [
  {
   "cell_type": "code",
   "execution_count": null,
   "metadata": {},
   "outputs": [],
   "source": []
  }
 ],
 "metadata": {
  "kernelspec": {
   "display_name": "Python 3.7.9 64-bit (windows store)",
   "language": "python",
   "name": "python3"
  },
  "language_info": {
   "name": "python",
   "version": "3.7.9"
  },
  "orig_nbformat": 4,
  "vscode": {
   "interpreter": {
    "hash": "49deadb19ec3199b19c2e07bd674ab90037832d683175982dd3cb88bf7cb6cf2"
   }
  }
 },
 "nbformat": 4,
 "nbformat_minor": 2
}
