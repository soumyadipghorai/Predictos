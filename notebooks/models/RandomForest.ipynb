{
  "cells": [
    {
      "cell_type": "code",
      "execution_count": 1,
      "metadata": {
        "id": "qun-RO8ikPIT"
      },
      "outputs": [],
      "source": [
        "# handling data \n",
        "import numpy as np \n",
        "import pandas as pd \n",
        "\n",
        "# warnings\n",
        "import warnings\n",
        "pd.options.mode.chained_assignment = None \n",
        "warnings.filterwarnings(action=\"ignore\")\n",
        "warnings.simplefilter(action='ignore', category=FutureWarning)\n",
        "\n",
        "# visualization\n",
        "import seaborn as sns\n",
        "import plotly.express as px\n",
        "import plotly.graph_objects as go\n",
        "import matplotlib.pyplot as plt\n",
        "%matplotlib inline\n",
        "\n",
        "from sklearn.ensemble import RandomForestRegressor\n",
        "from sklearn.model_selection import RandomizedSearchCV\n",
        "from sklearn import metrics\n",
        "\n",
        "import pickle"
      ]
    },
    {
      "cell_type": "code",
      "execution_count": 2,
      "metadata": {
        "id": "qQqcimJLka33"
      },
      "outputs": [],
      "source": [
        "file = open('../../data/ML_models/model_data.pkl', 'rb')\n",
        "data = pickle.load(file)\n",
        "file.close()"
      ]
    },
    {
      "cell_type": "markdown",
      "metadata": {
        "id": "hStTUc0dPGMd"
      },
      "source": [
        "## without log transform"
      ]
    },
    {
      "cell_type": "code",
      "execution_count": 125,
      "metadata": {
        "id": "aLHgpKo-kdO2"
      },
      "outputs": [],
      "source": [
        "x_train = data['x_train']\n",
        "x_test = data['x_test']\n",
        "y_train = data['y_train']\n",
        "y_test = data['y_test']"
      ]
    },
    {
      "cell_type": "code",
      "execution_count": 126,
      "metadata": {
        "colab": {
          "base_uri": "https://localhost:8080/"
        },
        "id": "IXqg5TVJl6lK",
        "outputId": "62ff64c7-c8df-451f-f217-7e06acd06ff9"
      },
      "outputs": [
        {
          "data": {
            "text/plain": [
              "(335000000.0, 1100000.0)"
            ]
          },
          "execution_count": 126,
          "metadata": {},
          "output_type": "execute_result"
        }
      ],
      "source": [
        "max(y_train), min(y_train)"
      ]
    },
    {
      "cell_type": "code",
      "execution_count": 127,
      "metadata": {
        "colab": {
          "base_uri": "https://localhost:8080/"
        },
        "id": "zT8IeklbkhS5",
        "outputId": "a147c9e3-fde0-4778-9449-64e2659a828e"
      },
      "outputs": [
        {
          "data": {
            "text/plain": [
              "RandomForestRegressor()"
            ]
          },
          "execution_count": 127,
          "metadata": {},
          "output_type": "execute_result"
        }
      ],
      "source": [
        "reg_rf = RandomForestRegressor()\n",
        "reg_rf.fit(x_train, y_train)"
      ]
    },
    {
      "cell_type": "code",
      "execution_count": 128,
      "metadata": {
        "id": "vP1by-LXkioQ"
      },
      "outputs": [],
      "source": [
        "y_pred = reg_rf.predict(x_test)"
      ]
    },
    {
      "cell_type": "code",
      "execution_count": 129,
      "metadata": {
        "colab": {
          "base_uri": "https://localhost:8080/"
        },
        "id": "a6mZHNKPkkKf",
        "outputId": "888dd19f-184f-4a17-dd3c-1eff4be11b40"
      },
      "outputs": [
        {
          "name": "stdout",
          "output_type": "stream",
          "text": [
            "MAE: 32339854.29792902\n",
            "MSE: 2730737508663274.0\n",
            "RMSE: 52256459.013822146\n",
            "r2_score: 0.13334825674751627\n"
          ]
        }
      ],
      "source": [
        "print('MAE:', metrics.mean_absolute_error(y_test, y_pred))\n",
        "print('MSE:', metrics.mean_squared_error(y_test, y_pred))\n",
        "print('RMSE:', np.sqrt(metrics.mean_squared_error(y_test, y_pred)))\n",
        "print('r2_score:', metrics.r2_score(y_test, y_pred))"
      ]
    },
    {
      "cell_type": "code",
      "execution_count": 130,
      "metadata": {
        "id": "SZ8-wIkakm4x"
      },
      "outputs": [],
      "source": [
        "#Randomized Search CV\n",
        "\n",
        "# Number of trees in random forest\n",
        "n_estimators = [int(x) for x in np.linspace(start = 100, stop = 1200, num = 12)]\n",
        "# Number of features to consider at every split\n",
        "max_features = ['auto', 'sqrt']\n",
        "# Maximum number of levels in tree\n",
        "max_depth = [int(x) for x in np.linspace(5, 30, num = 6)]\n",
        "# Minimum number of samples required to split a node\n",
        "min_samples_split = [2, 5, 10, 15, 100]\n",
        "# Minimum number of samples required at each leaf node\n",
        "min_samples_leaf = [1, 2, 5, 10]"
      ]
    },
    {
      "cell_type": "code",
      "execution_count": 131,
      "metadata": {
        "id": "74wPpi5LkrHV"
      },
      "outputs": [],
      "source": [
        "# Create the random grid\n",
        "\n",
        "random_grid = {'n_estimators': n_estimators,\n",
        "               'max_features': max_features,\n",
        "               'max_depth': max_depth,\n",
        "               'min_samples_split': min_samples_split,\n",
        "               'min_samples_leaf': min_samples_leaf}"
      ]
    },
    {
      "cell_type": "code",
      "execution_count": 132,
      "metadata": {
        "id": "6Bu9WHqdks1y"
      },
      "outputs": [],
      "source": [
        "rf_random = RandomizedSearchCV(\n",
        "    estimator = reg_rf, \n",
        "    param_distributions = random_grid,\n",
        "    scoring='neg_mean_squared_error', \n",
        "    n_iter = 10, \n",
        "    cv = 5, \n",
        "    verbose=3, \n",
        "    random_state=42, \n",
        "    n_jobs = 1)"
      ]
    },
    {
      "cell_type": "code",
      "execution_count": 133,
      "metadata": {
        "colab": {
          "base_uri": "https://localhost:8080/"
        },
        "id": "fzQzHRrYkumB",
        "outputId": "7f6d51b0-1f12-4d5e-9dc6-a324646fb5e6"
      },
      "outputs": [
        {
          "name": "stdout",
          "output_type": "stream",
          "text": [
            "Fitting 5 folds for each of 10 candidates, totalling 50 fits\n",
            "[CV 1/5] END max_depth=10, max_features=sqrt, min_samples_leaf=5, min_samples_split=5, n_estimators=900;, score=-2769418798823446.500 total time=   3.2s\n",
            "[CV 2/5] END max_depth=10, max_features=sqrt, min_samples_leaf=5, min_samples_split=5, n_estimators=900;, score=-2816561455359078.000 total time=   3.0s\n",
            "[CV 3/5] END max_depth=10, max_features=sqrt, min_samples_leaf=5, min_samples_split=5, n_estimators=900;, score=-2592830866356012.500 total time=   3.0s\n",
            "[CV 4/5] END max_depth=10, max_features=sqrt, min_samples_leaf=5, min_samples_split=5, n_estimators=900;, score=-2725468899663033.500 total time=   3.1s\n",
            "[CV 5/5] END max_depth=10, max_features=sqrt, min_samples_leaf=5, min_samples_split=5, n_estimators=900;, score=-2852874096623966.500 total time=   3.1s\n",
            "[CV 1/5] END max_depth=15, max_features=sqrt, min_samples_leaf=2, min_samples_split=10, n_estimators=1100;, score=-2780111722713630.500 total time=   4.3s\n",
            "[CV 2/5] END max_depth=15, max_features=sqrt, min_samples_leaf=2, min_samples_split=10, n_estimators=1100;, score=-2808495926113858.000 total time=   4.3s\n",
            "[CV 3/5] END max_depth=15, max_features=sqrt, min_samples_leaf=2, min_samples_split=10, n_estimators=1100;, score=-2605707098116590.500 total time=   4.3s\n",
            "[CV 4/5] END max_depth=15, max_features=sqrt, min_samples_leaf=2, min_samples_split=10, n_estimators=1100;, score=-2727247168812669.000 total time=   4.3s\n",
            "[CV 5/5] END max_depth=15, max_features=sqrt, min_samples_leaf=2, min_samples_split=10, n_estimators=1100;, score=-2843321425989449.500 total time=   4.3s\n",
            "[CV 1/5] END max_depth=15, max_features=auto, min_samples_leaf=5, min_samples_split=100, n_estimators=300;, score=-2740605841851882.000 total time=   1.5s\n",
            "[CV 2/5] END max_depth=15, max_features=auto, min_samples_leaf=5, min_samples_split=100, n_estimators=300;, score=-2828905075992659.000 total time=   1.5s\n",
            "[CV 3/5] END max_depth=15, max_features=auto, min_samples_leaf=5, min_samples_split=100, n_estimators=300;, score=-2577444980142116.000 total time=   1.5s\n",
            "[CV 4/5] END max_depth=15, max_features=auto, min_samples_leaf=5, min_samples_split=100, n_estimators=300;, score=-2702790177923828.500 total time=   1.5s\n",
            "[CV 5/5] END max_depth=15, max_features=auto, min_samples_leaf=5, min_samples_split=100, n_estimators=300;, score=-2833558188403899.500 total time=   1.5s\n",
            "[CV 1/5] END max_depth=15, max_features=auto, min_samples_leaf=5, min_samples_split=5, n_estimators=400;, score=-2759772090002548.000 total time=   2.3s\n",
            "[CV 2/5] END max_depth=15, max_features=auto, min_samples_leaf=5, min_samples_split=5, n_estimators=400;, score=-2838427302114716.500 total time=   2.3s\n",
            "[CV 3/5] END max_depth=15, max_features=auto, min_samples_leaf=5, min_samples_split=5, n_estimators=400;, score=-2623701298624026.000 total time=   2.3s\n",
            "[CV 4/5] END max_depth=15, max_features=auto, min_samples_leaf=5, min_samples_split=5, n_estimators=400;, score=-2703024683067980.500 total time=   2.3s\n",
            "[CV 5/5] END max_depth=15, max_features=auto, min_samples_leaf=5, min_samples_split=5, n_estimators=400;, score=-2822704301881325.500 total time=   2.4s\n",
            "[CV 1/5] END max_depth=20, max_features=auto, min_samples_leaf=10, min_samples_split=5, n_estimators=700;, score=-2729268758103514.500 total time=   3.7s\n",
            "[CV 2/5] END max_depth=20, max_features=auto, min_samples_leaf=10, min_samples_split=5, n_estimators=700;, score=-2837910865358717.500 total time=   3.8s\n",
            "[CV 3/5] END max_depth=20, max_features=auto, min_samples_leaf=10, min_samples_split=5, n_estimators=700;, score=-2601863152522821.000 total time=   3.8s\n",
            "[CV 4/5] END max_depth=20, max_features=auto, min_samples_leaf=10, min_samples_split=5, n_estimators=700;, score=-2706863605349367.500 total time=   3.7s\n",
            "[CV 5/5] END max_depth=20, max_features=auto, min_samples_leaf=10, min_samples_split=5, n_estimators=700;, score=-2834522871495907.000 total time=   3.8s\n",
            "[CV 1/5] END max_depth=25, max_features=sqrt, min_samples_leaf=1, min_samples_split=2, n_estimators=1000;, score=-2924056762181650.500 total time=   4.8s\n",
            "[CV 2/5] END max_depth=25, max_features=sqrt, min_samples_leaf=1, min_samples_split=2, n_estimators=1000;, score=-2878008738246453.000 total time=   4.9s\n",
            "[CV 3/5] END max_depth=25, max_features=sqrt, min_samples_leaf=1, min_samples_split=2, n_estimators=1000;, score=-2751735083710759.500 total time=   4.8s\n",
            "[CV 4/5] END max_depth=25, max_features=sqrt, min_samples_leaf=1, min_samples_split=2, n_estimators=1000;, score=-2862892242450104.000 total time=   4.8s\n",
            "[CV 5/5] END max_depth=25, max_features=sqrt, min_samples_leaf=1, min_samples_split=2, n_estimators=1000;, score=-2985712035460822.000 total time=   4.8s\n",
            "[CV 1/5] END max_depth=5, max_features=sqrt, min_samples_leaf=10, min_samples_split=15, n_estimators=1100;, score=-2863286623103763.000 total time=   2.9s\n",
            "[CV 2/5] END max_depth=5, max_features=sqrt, min_samples_leaf=10, min_samples_split=15, n_estimators=1100;, score=-2873931471342231.500 total time=   2.9s\n",
            "[CV 3/5] END max_depth=5, max_features=sqrt, min_samples_leaf=10, min_samples_split=15, n_estimators=1100;, score=-2668434620356349.000 total time=   2.9s\n",
            "[CV 4/5] END max_depth=5, max_features=sqrt, min_samples_leaf=10, min_samples_split=15, n_estimators=1100;, score=-2799776341785386.000 total time=   3.0s\n",
            "[CV 5/5] END max_depth=5, max_features=sqrt, min_samples_leaf=10, min_samples_split=15, n_estimators=1100;, score=-2921803015124243.500 total time=   2.9s\n",
            "[CV 1/5] END max_depth=15, max_features=sqrt, min_samples_leaf=1, min_samples_split=15, n_estimators=300;, score=-2781911029637849.000 total time=   1.2s\n",
            "[CV 2/5] END max_depth=15, max_features=sqrt, min_samples_leaf=1, min_samples_split=15, n_estimators=300;, score=-2804863057890364.500 total time=   1.2s\n",
            "[CV 3/5] END max_depth=15, max_features=sqrt, min_samples_leaf=1, min_samples_split=15, n_estimators=300;, score=-2599389225257805.500 total time=   1.2s\n",
            "[CV 4/5] END max_depth=15, max_features=sqrt, min_samples_leaf=1, min_samples_split=15, n_estimators=300;, score=-2737336033370515.500 total time=   1.2s\n",
            "[CV 5/5] END max_depth=15, max_features=sqrt, min_samples_leaf=1, min_samples_split=15, n_estimators=300;, score=-2856938969125541.500 total time=   1.2s\n",
            "[CV 1/5] END max_depth=5, max_features=sqrt, min_samples_leaf=2, min_samples_split=10, n_estimators=700;, score=-2862909329168941.000 total time=   1.8s\n",
            "[CV 2/5] END max_depth=5, max_features=sqrt, min_samples_leaf=2, min_samples_split=10, n_estimators=700;, score=-2869613692383891.000 total time=   1.8s\n",
            "[CV 3/5] END max_depth=5, max_features=sqrt, min_samples_leaf=2, min_samples_split=10, n_estimators=700;, score=-2661093750331582.500 total time=   1.8s\n",
            "[CV 4/5] END max_depth=5, max_features=sqrt, min_samples_leaf=2, min_samples_split=10, n_estimators=700;, score=-2796136381497732.500 total time=   1.8s\n",
            "[CV 5/5] END max_depth=5, max_features=sqrt, min_samples_leaf=2, min_samples_split=10, n_estimators=700;, score=-2918369310939454.500 total time=   1.8s\n",
            "[CV 1/5] END max_depth=20, max_features=auto, min_samples_leaf=1, min_samples_split=15, n_estimators=700;, score=-2770601551534289.500 total time=   4.2s\n",
            "[CV 2/5] END max_depth=20, max_features=auto, min_samples_leaf=1, min_samples_split=15, n_estimators=700;, score=-2832591578032222.500 total time=   4.2s\n",
            "[CV 3/5] END max_depth=20, max_features=auto, min_samples_leaf=1, min_samples_split=15, n_estimators=700;, score=-2614117339742717.000 total time=   4.2s\n",
            "[CV 4/5] END max_depth=20, max_features=auto, min_samples_leaf=1, min_samples_split=15, n_estimators=700;, score=-2712424841508449.000 total time=   4.2s\n",
            "[CV 5/5] END max_depth=20, max_features=auto, min_samples_leaf=1, min_samples_split=15, n_estimators=700;, score=-2855596404777011.500 total time=   4.3s\n"
          ]
        },
        {
          "data": {
            "text/plain": [
              "RandomizedSearchCV(cv=5, estimator=RandomForestRegressor(), n_jobs=1,\n",
              "                   param_distributions={'max_depth': [5, 10, 15, 20, 25, 30],\n",
              "                                        'max_features': ['auto', 'sqrt'],\n",
              "                                        'min_samples_leaf': [1, 2, 5, 10],\n",
              "                                        'min_samples_split': [2, 5, 10, 15,\n",
              "                                                              100],\n",
              "                                        'n_estimators': [100, 200, 300, 400,\n",
              "                                                         500, 600, 700, 800,\n",
              "                                                         900, 1000, 1100,\n",
              "                                                         1200]},\n",
              "                   random_state=42, scoring='neg_mean_squared_error',\n",
              "                   verbose=3)"
            ]
          },
          "execution_count": 133,
          "metadata": {},
          "output_type": "execute_result"
        }
      ],
      "source": [
        "rf_random.fit(x_train,y_train)"
      ]
    },
    {
      "cell_type": "code",
      "execution_count": 134,
      "metadata": {
        "colab": {
          "base_uri": "https://localhost:8080/"
        },
        "id": "DPhEes3tkzgG",
        "outputId": "a1b25612-d66d-4ee0-dc80-b6ae1f36b0d5"
      },
      "outputs": [
        {
          "data": {
            "text/plain": [
              "{'n_estimators': 300,\n",
              " 'min_samples_split': 100,\n",
              " 'min_samples_leaf': 5,\n",
              " 'max_features': 'auto',\n",
              " 'max_depth': 15}"
            ]
          },
          "execution_count": 134,
          "metadata": {},
          "output_type": "execute_result"
        }
      ],
      "source": [
        "rf_random.best_params_"
      ]
    },
    {
      "cell_type": "code",
      "execution_count": 135,
      "metadata": {
        "id": "W8NOZCe-k6QY"
      },
      "outputs": [],
      "source": [
        "prediction = rf_random.predict(x_test)"
      ]
    },
    {
      "cell_type": "code",
      "execution_count": 136,
      "metadata": {
        "colab": {
          "base_uri": "https://localhost:8080/",
          "height": 399
        },
        "id": "yxw-Ntjyk7YX",
        "outputId": "bfe16ca6-e9e8-40f7-a2d2-c56d5bba2edb"
      },
      "outputs": [
        {
          "data": {
            "image/png": "[encoded data removed]",
            "text/plain": [
              "<Figure size 432x432 with 1 Axes>"
            ]
          },
          "metadata": {
            "needs_background": "light"
          },
          "output_type": "display_data"
        }
      ],
      "source": [
        "plt.figure(figsize = (6,6))\n",
        "sns.distplot(y_test-prediction)\n",
        "plt.show()"
      ]
    },
    {
      "cell_type": "code",
      "execution_count": 138,
      "metadata": {
        "colab": {
          "base_uri": "https://localhost:8080/"
        },
        "id": "G4r1FYMKk-o6",
        "outputId": "20db577d-1aee-48d1-c0f5-d5fa229f0862"
      },
      "outputs": [
        {
          "name": "stdout",
          "output_type": "stream",
          "text": [
            "MAE: 32082944.674959827\n",
            "MSE: 2649659386059876.5\n",
            "RMSE: 51474842.26357451\n",
            "r2_score: 0.15907994866991892\n"
          ]
        }
      ],
      "source": [
        "print('MAE:', metrics.mean_absolute_error(y_test, prediction))\n",
        "print('MSE:', metrics.mean_squared_error(y_test, prediction))\n",
        "print('RMSE:', np.sqrt(metrics.mean_squared_error(y_test, prediction)))"
      ]
    },
    {
      "cell_type": "markdown",
      "metadata": {
        "id": "JEktbrEwPKsG"
      },
      "source": [
        "## with log transform"
      ]
    },
    {
      "cell_type": "code",
      "execution_count": 3,
      "metadata": {
        "id": "4GBPHoDqk_5-"
      },
      "outputs": [],
      "source": [
        "x_train_log = data['x_train_log']\n",
        "x_test_log = data['x_test_log']\n",
        "y_train_log = data['y_train_log']\n",
        "y_test_log = data['y_test_log']"
      ]
    },
    {
      "cell_type": "code",
      "execution_count": 4,
      "metadata": {
        "colab": {
          "base_uri": "https://localhost:8080/"
        },
        "id": "MQ8s6_63PWGf",
        "outputId": "871ee369-4a46-4bf0-df14-e1880434767f"
      },
      "outputs": [
        {
          "data": {
            "text/plain": [
              "(19.62964108978934, 13.9108207377686)"
            ]
          },
          "execution_count": 4,
          "metadata": {},
          "output_type": "execute_result"
        }
      ],
      "source": [
        "max(y_train_log), min(y_train_log)"
      ]
    },
    {
      "cell_type": "code",
      "execution_count": 5,
      "metadata": {
        "colab": {
          "base_uri": "https://localhost:8080/"
        },
        "id": "wJkGNpsTPcPj",
        "outputId": "36cd4d98-cdf7-4af9-dea0-ad439d94b8c1"
      },
      "outputs": [
        {
          "data": {
            "text/plain": [
              "RandomForestRegressor()"
            ]
          },
          "execution_count": 5,
          "metadata": {},
          "output_type": "execute_result"
        }
      ],
      "source": [
        "reg_rf_log = RandomForestRegressor()\n",
        "reg_rf_log.fit(x_train_log, y_train_log)"
      ]
    },
    {
      "cell_type": "code",
      "execution_count": 7,
      "metadata": {
        "id": "EmwuRFw7Pe1T"
      },
      "outputs": [],
      "source": [
        "y_pred_log = reg_rf_log.predict(x_test_log)"
      ]
    },
    {
      "cell_type": "code",
      "execution_count": 8,
      "metadata": {
        "colab": {
          "base_uri": "https://localhost:8080/"
        },
        "id": "8UPo_DDsPh6i",
        "outputId": "8b3a428d-f404-45c2-822e-00663f893048"
      },
      "outputs": [
        {
          "name": "stdout",
          "output_type": "stream",
          "text": [
            "MAE: 0.9903147520829717\n",
            "MSE: 1.511588777944011\n",
            "RMSE: 1.2294668673632532\n"
          ]
        }
      ],
      "source": [
        "print('MAE:', metrics.mean_absolute_error(y_test_log, y_pred_log))\n",
        "print('MSE:', metrics.mean_squared_error(y_test_log, y_pred_log))\n",
        "print('RMSE:', np.sqrt(metrics.mean_squared_error(y_test_log, y_pred_log)))"
      ]
    },
    {
      "cell_type": "code",
      "execution_count": 152,
      "metadata": {
        "id": "HWO0lmTwPo53"
      },
      "outputs": [],
      "source": [
        "rf_random_log = RandomizedSearchCV(\n",
        "    estimator = reg_rf, \n",
        "    param_distributions = random_grid,\n",
        "    scoring='neg_mean_squared_error', \n",
        "    n_iter = 10, \n",
        "    cv = 5, \n",
        "    verbose=3, \n",
        "    random_state=42, \n",
        "    n_jobs = 1)"
      ]
    },
    {
      "cell_type": "code",
      "execution_count": 153,
      "metadata": {
        "colab": {
          "base_uri": "https://localhost:8080/"
        },
        "id": "rmt-htEhPyfB",
        "outputId": "d6256015-20e6-4534-bbe3-d6925a10135f"
      },
      "outputs": [
        {
          "name": "stdout",
          "output_type": "stream",
          "text": [
            "Fitting 5 folds for each of 10 candidates, totalling 50 fits\n",
            "[CV 1/5] END max_depth=10, max_features=sqrt, min_samples_leaf=5, min_samples_split=5, n_estimators=900;, score=-1.461 total time=   3.1s\n",
            "[CV 2/5] END max_depth=10, max_features=sqrt, min_samples_leaf=5, min_samples_split=5, n_estimators=900;, score=-1.468 total time=   3.1s\n",
            "[CV 3/5] END max_depth=10, max_features=sqrt, min_samples_leaf=5, min_samples_split=5, n_estimators=900;, score=-1.471 total time=   3.1s\n",
            "[CV 4/5] END max_depth=10, max_features=sqrt, min_samples_leaf=5, min_samples_split=5, n_estimators=900;, score=-1.488 total time=   3.1s\n",
            "[CV 5/5] END max_depth=10, max_features=sqrt, min_samples_leaf=5, min_samples_split=5, n_estimators=900;, score=-1.453 total time=   3.0s\n",
            "[CV 1/5] END max_depth=15, max_features=sqrt, min_samples_leaf=2, min_samples_split=10, n_estimators=1100;, score=-1.458 total time=   4.3s\n",
            "[CV 2/5] END max_depth=15, max_features=sqrt, min_samples_leaf=2, min_samples_split=10, n_estimators=1100;, score=-1.458 total time=   4.3s\n",
            "[CV 3/5] END max_depth=15, max_features=sqrt, min_samples_leaf=2, min_samples_split=10, n_estimators=1100;, score=-1.481 total time=   4.3s\n",
            "[CV 4/5] END max_depth=15, max_features=sqrt, min_samples_leaf=2, min_samples_split=10, n_estimators=1100;, score=-1.484 total time=   4.3s\n",
            "[CV 5/5] END max_depth=15, max_features=sqrt, min_samples_leaf=2, min_samples_split=10, n_estimators=1100;, score=-1.447 total time=   4.3s\n",
            "[CV 1/5] END max_depth=15, max_features=auto, min_samples_leaf=5, min_samples_split=100, n_estimators=300;, score=-1.444 total time=   1.5s\n",
            "[CV 2/5] END max_depth=15, max_features=auto, min_samples_leaf=5, min_samples_split=100, n_estimators=300;, score=-1.463 total time=   1.5s\n",
            "[CV 3/5] END max_depth=15, max_features=auto, min_samples_leaf=5, min_samples_split=100, n_estimators=300;, score=-1.460 total time=   1.5s\n",
            "[CV 4/5] END max_depth=15, max_features=auto, min_samples_leaf=5, min_samples_split=100, n_estimators=300;, score=-1.488 total time=   1.5s\n",
            "[CV 5/5] END max_depth=15, max_features=auto, min_samples_leaf=5, min_samples_split=100, n_estimators=300;, score=-1.445 total time=   1.5s\n",
            "[CV 1/5] END max_depth=15, max_features=auto, min_samples_leaf=5, min_samples_split=5, n_estimators=400;, score=-1.452 total time=   2.3s\n",
            "[CV 2/5] END max_depth=15, max_features=auto, min_samples_leaf=5, min_samples_split=5, n_estimators=400;, score=-1.468 total time=   2.3s\n",
            "[CV 3/5] END max_depth=15, max_features=auto, min_samples_leaf=5, min_samples_split=5, n_estimators=400;, score=-1.488 total time=   2.3s\n",
            "[CV 4/5] END max_depth=15, max_features=auto, min_samples_leaf=5, min_samples_split=5, n_estimators=400;, score=-1.483 total time=   2.3s\n",
            "[CV 5/5] END max_depth=15, max_features=auto, min_samples_leaf=5, min_samples_split=5, n_estimators=400;, score=-1.444 total time=   2.3s\n",
            "[CV 1/5] END max_depth=20, max_features=auto, min_samples_leaf=10, min_samples_split=5, n_estimators=700;, score=-1.448 total time=   3.7s\n",
            "[CV 2/5] END max_depth=20, max_features=auto, min_samples_leaf=10, min_samples_split=5, n_estimators=700;, score=-1.464 total time=   3.8s\n",
            "[CV 3/5] END max_depth=20, max_features=auto, min_samples_leaf=10, min_samples_split=5, n_estimators=700;, score=-1.475 total time=   3.7s\n",
            "[CV 4/5] END max_depth=20, max_features=auto, min_samples_leaf=10, min_samples_split=5, n_estimators=700;, score=-1.484 total time=   3.7s\n",
            "[CV 5/5] END max_depth=20, max_features=auto, min_samples_leaf=10, min_samples_split=5, n_estimators=700;, score=-1.445 total time=   3.8s\n",
            "[CV 1/5] END max_depth=25, max_features=sqrt, min_samples_leaf=1, min_samples_split=2, n_estimators=1000;, score=-1.535 total time=   4.9s\n",
            "[CV 2/5] END max_depth=25, max_features=sqrt, min_samples_leaf=1, min_samples_split=2, n_estimators=1000;, score=-1.500 total time=   4.8s\n",
            "[CV 3/5] END max_depth=25, max_features=sqrt, min_samples_leaf=1, min_samples_split=2, n_estimators=1000;, score=-1.555 total time=   4.8s\n",
            "[CV 4/5] END max_depth=25, max_features=sqrt, min_samples_leaf=1, min_samples_split=2, n_estimators=1000;, score=-1.559 total time=   4.8s\n",
            "[CV 5/5] END max_depth=25, max_features=sqrt, min_samples_leaf=1, min_samples_split=2, n_estimators=1000;, score=-1.503 total time=   4.9s\n",
            "[CV 1/5] END max_depth=5, max_features=sqrt, min_samples_leaf=10, min_samples_split=15, n_estimators=1100;, score=-1.505 total time=   2.9s\n",
            "[CV 2/5] END max_depth=5, max_features=sqrt, min_samples_leaf=10, min_samples_split=15, n_estimators=1100;, score=-1.521 total time=   2.9s\n",
            "[CV 3/5] END max_depth=5, max_features=sqrt, min_samples_leaf=10, min_samples_split=15, n_estimators=1100;, score=-1.513 total time=   2.9s\n",
            "[CV 4/5] END max_depth=5, max_features=sqrt, min_samples_leaf=10, min_samples_split=15, n_estimators=1100;, score=-1.531 total time=   2.9s\n",
            "[CV 5/5] END max_depth=5, max_features=sqrt, min_samples_leaf=10, min_samples_split=15, n_estimators=1100;, score=-1.490 total time=   2.9s\n",
            "[CV 1/5] END max_depth=15, max_features=sqrt, min_samples_leaf=1, min_samples_split=15, n_estimators=300;, score=-1.459 total time=   1.2s\n",
            "[CV 2/5] END max_depth=15, max_features=sqrt, min_samples_leaf=1, min_samples_split=15, n_estimators=300;, score=-1.459 total time=   1.2s\n",
            "[CV 3/5] END max_depth=15, max_features=sqrt, min_samples_leaf=1, min_samples_split=15, n_estimators=300;, score=-1.476 total time=   1.2s\n",
            "[CV 4/5] END max_depth=15, max_features=sqrt, min_samples_leaf=1, min_samples_split=15, n_estimators=300;, score=-1.489 total time=   1.2s\n",
            "[CV 5/5] END max_depth=15, max_features=sqrt, min_samples_leaf=1, min_samples_split=15, n_estimators=300;, score=-1.451 total time=   1.2s\n",
            "[CV 1/5] END max_depth=5, max_features=sqrt, min_samples_leaf=2, min_samples_split=10, n_estimators=700;, score=-1.505 total time=   1.8s\n",
            "[CV 2/5] END max_depth=5, max_features=sqrt, min_samples_leaf=2, min_samples_split=10, n_estimators=700;, score=-1.520 total time=   1.8s\n",
            "[CV 3/5] END max_depth=5, max_features=sqrt, min_samples_leaf=2, min_samples_split=10, n_estimators=700;, score=-1.510 total time=   1.9s\n",
            "[CV 4/5] END max_depth=5, max_features=sqrt, min_samples_leaf=2, min_samples_split=10, n_estimators=700;, score=-1.532 total time=   1.8s\n",
            "[CV 5/5] END max_depth=5, max_features=sqrt, min_samples_leaf=2, min_samples_split=10, n_estimators=700;, score=-1.492 total time=   1.8s\n",
            "[CV 1/5] END max_depth=20, max_features=auto, min_samples_leaf=1, min_samples_split=15, n_estimators=700;, score=-1.458 total time=   4.2s\n",
            "[CV 2/5] END max_depth=20, max_features=auto, min_samples_leaf=1, min_samples_split=15, n_estimators=700;, score=-1.456 total time=   4.2s\n",
            "[CV 3/5] END max_depth=20, max_features=auto, min_samples_leaf=1, min_samples_split=15, n_estimators=700;, score=-1.481 total time=   4.3s\n",
            "[CV 4/5] END max_depth=20, max_features=auto, min_samples_leaf=1, min_samples_split=15, n_estimators=700;, score=-1.491 total time=   4.2s\n",
            "[CV 5/5] END max_depth=20, max_features=auto, min_samples_leaf=1, min_samples_split=15, n_estimators=700;, score=-1.453 total time=   4.2s\n"
          ]
        },
        {
          "data": {
            "text/plain": [
              "RandomizedSearchCV(cv=5, estimator=RandomForestRegressor(), n_jobs=1,\n",
              "                   param_distributions={'max_depth': [5, 10, 15, 20, 25, 30],\n",
              "                                        'max_features': ['auto', 'sqrt'],\n",
              "                                        'min_samples_leaf': [1, 2, 5, 10],\n",
              "                                        'min_samples_split': [2, 5, 10, 15,\n",
              "                                                              100],\n",
              "                                        'n_estimators': [100, 200, 300, 400,\n",
              "                                                         500, 600, 700, 800,\n",
              "                                                         900, 1000, 1100,\n",
              "                                                         1200]},\n",
              "                   random_state=42, scoring='neg_mean_squared_error',\n",
              "                   verbose=3)"
            ]
          },
          "execution_count": 153,
          "metadata": {},
          "output_type": "execute_result"
        }
      ],
      "source": [
        "rf_random_log.fit(x_train_log, y_train_log)"
      ]
    },
    {
      "cell_type": "code",
      "execution_count": 159,
      "metadata": {
        "colab": {
          "base_uri": "https://localhost:8080/"
        },
        "id": "Cn2Log0LP7Gq",
        "outputId": "44b66e04-2954-4bba-b3bd-66dc1c4d5be1"
      },
      "outputs": [
        {
          "data": {
            "text/plain": [
              "{'n_estimators': 300,\n",
              " 'min_samples_split': 100,\n",
              " 'min_samples_leaf': 5,\n",
              " 'max_features': 'auto',\n",
              " 'max_depth': 15}"
            ]
          },
          "execution_count": 159,
          "metadata": {},
          "output_type": "execute_result"
        }
      ],
      "source": [
        "rf_random_log.best_params_"
      ]
    },
    {
      "cell_type": "code",
      "execution_count": 14,
      "metadata": {
        "id": "S2SsrvhmRBxF"
      },
      "outputs": [],
      "source": [
        "prediction = rf_random_log.predict(x_test_log)"
      ]
    },
    {
      "cell_type": "code",
      "execution_count": 15,
      "metadata": {
        "colab": {
          "base_uri": "https://localhost:8080/",
          "height": 389
        },
        "id": "_Z0LWa23QcEc",
        "outputId": "3616302f-c04a-40b2-e169-c0b37e551d14"
      },
      "outputs": [
        {
          "data": {
            "image/png": "[encoded data removed]",
            "text/plain": [
              "<Figure size 432x432 with 1 Axes>"
            ]
          },
          "metadata": {
            "needs_background": "light"
          },
          "output_type": "display_data"
        }
      ],
      "source": [
        "plt.figure(figsize = (6,6))\n",
        "sns.distplot(y_test_log-prediction)\n",
        "plt.show()"
      ]
    },
    {
      "cell_type": "code",
      "execution_count": 16,
      "metadata": {
        "colab": {
          "base_uri": "https://localhost:8080/"
        },
        "id": "MF7S9pScROYi",
        "outputId": "02e2bff9-f074-44fc-f9e9-29867dc9ef1e"
      },
      "outputs": [
        {
          "name": "stdout",
          "output_type": "stream",
          "text": [
            "MAE: 0.9725518824313247\n",
            "MSE: 1.4489999688684705\n",
            "RMSE: 1.2037441459332088\n"
          ]
        }
      ],
      "source": [
        "print('MAE:', metrics.mean_absolute_error(y_test_log, prediction))\n",
        "print('MSE:', metrics.mean_squared_error(y_test_log, prediction))\n",
        "print('RMSE:', np.sqrt(metrics.mean_squared_error(y_test_log, prediction)))"
      ]
    },
    {
      "cell_type": "code",
      "execution_count": 19,
      "metadata": {
        "id": "J_BzqFZVRilO"
      },
      "outputs": [],
      "source": [
        "root = '../../data/ML_models/'\n",
        "\n",
        "file = open(root + 'RandomForestRegressor.pkl', 'wb')\n",
        "pickle.dump(rf_random_log, file)\n",
        "file.close()"
      ]
    },
    {
      "cell_type": "code",
      "execution_count": null,
      "metadata": {
        "id": "jYuuhW9ikzlK"
      },
      "outputs": [],
      "source": []
    }
  ],
  "metadata": {
    "colab": {
      "provenance": []
    },
    "kernelspec": {
      "display_name": "Python 3.7.9 64-bit (microsoft store)",
      "language": "python",
      "name": "python3"
    },
    "language_info": {
      "codemirror_mode": {
        "name": "ipython",
        "version": 3
      },
      "file_extension": ".py",
      "mimetype": "text/x-python",
      "name": "python",
      "nbconvert_exporter": "python",
      "pygments_lexer": "ipython3",
      "version": "3.7.9"
    },
    "vscode": {
      "interpreter": {
        "hash": "49deadb19ec3199b19c2e07bd674ab90037832d683175982dd3cb88bf7cb6cf2"
      }
    }
  },
  "nbformat": 4,
  "nbformat_minor": 0
}
