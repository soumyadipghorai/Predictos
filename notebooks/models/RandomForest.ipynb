{
  "nbformat": 4,
  "nbformat_minor": 0,
  "metadata": {
    "colab": {
      "provenance": [],
      "collapsed_sections": []
    },
    "kernelspec": {
      "name": "python3",
      "display_name": "Python 3"
    },
    "language_info": {
      "name": "python"
    }
  },
  "cells": [
    {
      "cell_type": "code",
      "execution_count": 4,
      "metadata": {
        "id": "qun-RO8ikPIT"
      },
      "outputs": [],
      "source": [
        "# handling data \n",
        "import numpy as np \n",
        "import pandas as pd \n",
        "\n",
        "# warnings\n",
        "import warnings\n",
        "pd.options.mode.chained_assignment = None \n",
        "warnings.filterwarnings(action=\"ignore\")\n",
        "warnings.simplefilter(action='ignore', category=FutureWarning)\n",
        "\n",
        "# visualization\n",
        "import seaborn as sns\n",
        "import plotly.express as px\n",
        "import plotly.graph_objects as go\n",
        "import matplotlib.pyplot as plt\n",
        "%matplotlib inline\n",
        "\n",
        "from sklearn.ensemble import RandomForestRegressor\n",
        "from sklearn.model_selection import RandomizedSearchCV\n",
        "from sklearn import metrics\n",
        "\n",
        "import pickle"
      ]
    },
    {
      "cell_type": "code",
      "source": [
        "file = open('model_data.pkl', 'rb')\n",
        "data = pickle.load(file)\n",
        "file.close()"
      ],
      "metadata": {
        "id": "qQqcimJLka33"
      },
      "execution_count": 5,
      "outputs": []
    },
    {
      "cell_type": "markdown",
      "source": [
        "## without log transform"
      ],
      "metadata": {
        "id": "hStTUc0dPGMd"
      }
    },
    {
      "cell_type": "code",
      "source": [
        "x_train = data['x_train']\n",
        "x_test = data['x_test']\n",
        "y_train = data['y_train']\n",
        "y_test = data['y_test']"
      ],
      "metadata": {
        "id": "aLHgpKo-kdO2"
      },
      "execution_count": 6,
      "outputs": []
    },
    {
      "cell_type": "code",
      "source": [
        "max(y_train), min(y_train)"
      ],
      "metadata": {
        "colab": {
          "base_uri": "https://localhost:8080/"
        },
        "id": "IXqg5TVJl6lK",
        "outputId": "71ecdf7a-eb0f-4fa5-c065-96943d10097c"
      },
      "execution_count": 7,
      "outputs": [
        {
          "output_type": "execute_result",
          "data": {
            "text/plain": [
              "(335000000.0, 1100000.0)"
            ]
          },
          "metadata": {},
          "execution_count": 7
        }
      ]
    },
    {
      "cell_type": "code",
      "source": [
        "reg_rf = RandomForestRegressor()\n",
        "reg_rf.fit(x_train, y_train)"
      ],
      "metadata": {
        "colab": {
          "base_uri": "https://localhost:8080/"
        },
        "id": "zT8IeklbkhS5",
        "outputId": "0788fe64-d0a8-407e-d464-9adaba1e4df6"
      },
      "execution_count": 8,
      "outputs": [
        {
          "output_type": "execute_result",
          "data": {
            "text/plain": [
              "RandomForestRegressor()"
            ]
          },
          "metadata": {},
          "execution_count": 8
        }
      ]
    },
    {
      "cell_type": "code",
      "source": [
        "y_pred = reg_rf.predict(x_test)"
      ],
      "metadata": {
        "id": "vP1by-LXkioQ"
      },
      "execution_count": 9,
      "outputs": []
    },
    {
      "cell_type": "code",
      "source": [
        "print('MAE:', metrics.mean_absolute_error(y_test, y_pred))\n",
        "print('MSE:', metrics.mean_squared_error(y_test, y_pred))\n",
        "print('RMSE:', np.sqrt(metrics.mean_squared_error(y_test, y_pred)))\n",
        "print('r2_score:', metrics.r2_score(y_test, y_pred))"
      ],
      "metadata": {
        "colab": {
          "base_uri": "https://localhost:8080/"
        },
        "id": "a6mZHNKPkkKf",
        "outputId": "078198fb-f3c5-4d1e-bc4d-8fb23e6f534b"
      },
      "execution_count": 10,
      "outputs": [
        {
          "output_type": "stream",
          "name": "stdout",
          "text": [
            "MAE: 33024162.65946573\n",
            "MSE: 2917697896749530.0\n",
            "RMSE: 54015718.97836342\n",
            "r2_score: 0.0740128040575102\n"
          ]
        }
      ]
    },
    {
      "cell_type": "code",
      "source": [
        "#Randomized Search CV\n",
        "\n",
        "# Number of trees in random forest\n",
        "n_estimators = [int(x) for x in np.linspace(start = 100, stop = 1200, num = 12)]\n",
        "# Number of features to consider at every split\n",
        "max_features = ['auto', 'sqrt']\n",
        "# Maximum number of levels in tree\n",
        "max_depth = [int(x) for x in np.linspace(5, 30, num = 6)]\n",
        "# Minimum number of samples required to split a node\n",
        "min_samples_split = [2, 5, 10, 15, 100]\n",
        "# Minimum number of samples required at each leaf node\n",
        "min_samples_leaf = [1, 2, 5, 10]"
      ],
      "metadata": {
        "id": "SZ8-wIkakm4x"
      },
      "execution_count": 11,
      "outputs": []
    },
    {
      "cell_type": "code",
      "source": [
        "# Create the random grid\n",
        "\n",
        "random_grid = {'n_estimators': n_estimators,\n",
        "               'max_features': max_features,\n",
        "               'max_depth': max_depth,\n",
        "               'min_samples_split': min_samples_split,\n",
        "               'min_samples_leaf': min_samples_leaf}"
      ],
      "metadata": {
        "id": "74wPpi5LkrHV"
      },
      "execution_count": 12,
      "outputs": []
    },
    {
      "cell_type": "code",
      "source": [
        "rf_random = RandomizedSearchCV(\n",
        "    estimator = reg_rf, \n",
        "    param_distributions = random_grid,\n",
        "    scoring='neg_mean_squared_error', \n",
        "    n_iter = 10, \n",
        "    cv = 5, \n",
        "    verbose=3, \n",
        "    random_state=42, \n",
        "    n_jobs = 1)"
      ],
      "metadata": {
        "id": "6Bu9WHqdks1y"
      },
      "execution_count": 13,
      "outputs": []
    },
    {
      "cell_type": "code",
      "source": [
        "rf_random.fit(x_train,y_train)"
      ],
      "metadata": {
        "colab": {
          "base_uri": "https://localhost:8080/"
        },
        "id": "fzQzHRrYkumB",
        "outputId": "caf49068-803d-4f25-bffa-c0baa9d6e0a0"
      },
      "execution_count": 14,
      "outputs": [
        {
          "output_type": "stream",
          "name": "stdout",
          "text": [
            "Fitting 5 folds for each of 10 candidates, totalling 50 fits\n",
            "[CV 1/5] END max_depth=10, max_features=sqrt, min_samples_leaf=5, min_samples_split=5, n_estimators=900;, score=-2641035946042784.000 total time=   4.1s\n",
            "[CV 2/5] END max_depth=10, max_features=sqrt, min_samples_leaf=5, min_samples_split=5, n_estimators=900;, score=-2708069954349192.000 total time=   4.1s\n",
            "[CV 3/5] END max_depth=10, max_features=sqrt, min_samples_leaf=5, min_samples_split=5, n_estimators=900;, score=-2496523436631450.000 total time=   4.0s\n",
            "[CV 4/5] END max_depth=10, max_features=sqrt, min_samples_leaf=5, min_samples_split=5, n_estimators=900;, score=-2559986754561705.000 total time=   4.0s\n",
            "[CV 5/5] END max_depth=10, max_features=sqrt, min_samples_leaf=5, min_samples_split=5, n_estimators=900;, score=-2783816614485983.000 total time=   4.1s\n",
            "[CV 1/5] END max_depth=15, max_features=sqrt, min_samples_leaf=2, min_samples_split=10, n_estimators=1100;, score=-2630706693662768.000 total time=   6.2s\n",
            "[CV 2/5] END max_depth=15, max_features=sqrt, min_samples_leaf=2, min_samples_split=10, n_estimators=1100;, score=-2727290459832312.000 total time=   6.1s\n",
            "[CV 3/5] END max_depth=15, max_features=sqrt, min_samples_leaf=2, min_samples_split=10, n_estimators=1100;, score=-2494583778497482.500 total time=   6.2s\n",
            "[CV 4/5] END max_depth=15, max_features=sqrt, min_samples_leaf=2, min_samples_split=10, n_estimators=1100;, score=-2556219659767754.000 total time=   6.2s\n",
            "[CV 5/5] END max_depth=15, max_features=sqrt, min_samples_leaf=2, min_samples_split=10, n_estimators=1100;, score=-2815163796058469.000 total time=   6.2s\n",
            "[CV 1/5] END max_depth=15, max_features=auto, min_samples_leaf=5, min_samples_split=100, n_estimators=300;, score=-2655253027919316.000 total time=   2.4s\n",
            "[CV 2/5] END max_depth=15, max_features=auto, min_samples_leaf=5, min_samples_split=100, n_estimators=300;, score=-2770701052166768.000 total time=   2.4s\n",
            "[CV 3/5] END max_depth=15, max_features=auto, min_samples_leaf=5, min_samples_split=100, n_estimators=300;, score=-2547129511443584.000 total time=   2.4s\n",
            "[CV 4/5] END max_depth=15, max_features=auto, min_samples_leaf=5, min_samples_split=100, n_estimators=300;, score=-2579938018695138.500 total time=   2.3s\n",
            "[CV 5/5] END max_depth=15, max_features=auto, min_samples_leaf=5, min_samples_split=100, n_estimators=300;, score=-2788714123038867.000 total time=   3.1s\n",
            "[CV 1/5] END max_depth=15, max_features=auto, min_samples_leaf=5, min_samples_split=5, n_estimators=400;, score=-2664828033144643.500 total time=   4.2s\n",
            "[CV 2/5] END max_depth=15, max_features=auto, min_samples_leaf=5, min_samples_split=5, n_estimators=400;, score=-2794642792907259.000 total time=   4.1s\n",
            "[CV 3/5] END max_depth=15, max_features=auto, min_samples_leaf=5, min_samples_split=5, n_estimators=400;, score=-2603983013279912.000 total time=   4.1s\n",
            "[CV 4/5] END max_depth=15, max_features=auto, min_samples_leaf=5, min_samples_split=5, n_estimators=400;, score=-2563724648262898.000 total time=   4.2s\n",
            "[CV 5/5] END max_depth=15, max_features=auto, min_samples_leaf=5, min_samples_split=5, n_estimators=400;, score=-2854407490151640.500 total time=   4.2s\n",
            "[CV 1/5] END max_depth=20, max_features=auto, min_samples_leaf=10, min_samples_split=5, n_estimators=700;, score=-2674780340293450.000 total time=   6.7s\n",
            "[CV 2/5] END max_depth=20, max_features=auto, min_samples_leaf=10, min_samples_split=5, n_estimators=700;, score=-2776357533149185.000 total time=   6.6s\n",
            "[CV 3/5] END max_depth=20, max_features=auto, min_samples_leaf=10, min_samples_split=5, n_estimators=700;, score=-2591394508883751.000 total time=   6.6s\n",
            "[CV 4/5] END max_depth=20, max_features=auto, min_samples_leaf=10, min_samples_split=5, n_estimators=700;, score=-2569865784640976.500 total time=   7.4s\n",
            "[CV 5/5] END max_depth=20, max_features=auto, min_samples_leaf=10, min_samples_split=5, n_estimators=700;, score=-2832951758288788.500 total time=   6.6s\n",
            "[CV 1/5] END max_depth=25, max_features=sqrt, min_samples_leaf=1, min_samples_split=2, n_estimators=1000;, score=-2946201694205584.500 total time=   8.9s\n",
            "[CV 2/5] END max_depth=25, max_features=sqrt, min_samples_leaf=1, min_samples_split=2, n_estimators=1000;, score=-3048969022546830.500 total time=   8.7s\n",
            "[CV 3/5] END max_depth=25, max_features=sqrt, min_samples_leaf=1, min_samples_split=2, n_estimators=1000;, score=-2815839701663068.500 total time=   8.6s\n",
            "[CV 4/5] END max_depth=25, max_features=sqrt, min_samples_leaf=1, min_samples_split=2, n_estimators=1000;, score=-2851979623553236.000 total time=   8.6s\n",
            "[CV 5/5] END max_depth=25, max_features=sqrt, min_samples_leaf=1, min_samples_split=2, n_estimators=1000;, score=-3183453141654277.000 total time=   8.6s\n",
            "[CV 1/5] END max_depth=5, max_features=sqrt, min_samples_leaf=10, min_samples_split=15, n_estimators=1100;, score=-2801944209552867.000 total time=   3.5s\n",
            "[CV 2/5] END max_depth=5, max_features=sqrt, min_samples_leaf=10, min_samples_split=15, n_estimators=1100;, score=-2804545536299841.500 total time=   3.4s\n",
            "[CV 3/5] END max_depth=5, max_features=sqrt, min_samples_leaf=10, min_samples_split=15, n_estimators=1100;, score=-2628741377774231.000 total time=   3.5s\n",
            "[CV 4/5] END max_depth=5, max_features=sqrt, min_samples_leaf=10, min_samples_split=15, n_estimators=1100;, score=-2713264466014349.500 total time=   3.5s\n",
            "[CV 5/5] END max_depth=5, max_features=sqrt, min_samples_leaf=10, min_samples_split=15, n_estimators=1100;, score=-2871972423266959.000 total time=   3.4s\n",
            "[CV 1/5] END max_depth=15, max_features=sqrt, min_samples_leaf=1, min_samples_split=15, n_estimators=300;, score=-2641497783870632.500 total time=   1.7s\n",
            "[CV 2/5] END max_depth=15, max_features=sqrt, min_samples_leaf=1, min_samples_split=15, n_estimators=300;, score=-2724275098757378.500 total time=   1.7s\n",
            "[CV 3/5] END max_depth=15, max_features=sqrt, min_samples_leaf=1, min_samples_split=15, n_estimators=300;, score=-2498502616982633.000 total time=   1.7s\n",
            "[CV 4/5] END max_depth=15, max_features=sqrt, min_samples_leaf=1, min_samples_split=15, n_estimators=300;, score=-2555534942268965.000 total time=   1.7s\n",
            "[CV 5/5] END max_depth=15, max_features=sqrt, min_samples_leaf=1, min_samples_split=15, n_estimators=300;, score=-2827046938008415.000 total time=   1.7s\n",
            "[CV 1/5] END max_depth=5, max_features=sqrt, min_samples_leaf=2, min_samples_split=10, n_estimators=700;, score=-2807835410025455.000 total time=   2.2s\n",
            "[CV 2/5] END max_depth=5, max_features=sqrt, min_samples_leaf=2, min_samples_split=10, n_estimators=700;, score=-2798800830368221.500 total time=   2.2s\n",
            "[CV 3/5] END max_depth=5, max_features=sqrt, min_samples_leaf=2, min_samples_split=10, n_estimators=700;, score=-2623875337843228.000 total time=   2.2s\n",
            "[CV 4/5] END max_depth=5, max_features=sqrt, min_samples_leaf=2, min_samples_split=10, n_estimators=700;, score=-2708128593069139.500 total time=   2.2s\n",
            "[CV 5/5] END max_depth=5, max_features=sqrt, min_samples_leaf=2, min_samples_split=10, n_estimators=700;, score=-2866942610441706.500 total time=   2.2s\n",
            "[CV 1/5] END max_depth=20, max_features=auto, min_samples_leaf=1, min_samples_split=15, n_estimators=700;, score=-2681482036857466.500 total time=   7.6s\n",
            "[CV 2/5] END max_depth=20, max_features=auto, min_samples_leaf=1, min_samples_split=15, n_estimators=700;, score=-2786289768187677.000 total time=   7.6s\n",
            "[CV 3/5] END max_depth=20, max_features=auto, min_samples_leaf=1, min_samples_split=15, n_estimators=700;, score=-2595230378103913.000 total time=   7.6s\n",
            "[CV 4/5] END max_depth=20, max_features=auto, min_samples_leaf=1, min_samples_split=15, n_estimators=700;, score=-2574485729472807.500 total time=   7.5s\n",
            "[CV 5/5] END max_depth=20, max_features=auto, min_samples_leaf=1, min_samples_split=15, n_estimators=700;, score=-2877811596613354.500 total time=   7.6s\n"
          ]
        },
        {
          "output_type": "execute_result",
          "data": {
            "text/plain": [
              "RandomizedSearchCV(cv=5, estimator=RandomForestRegressor(), n_jobs=1,\n",
              "                   param_distributions={'max_depth': [5, 10, 15, 20, 25, 30],\n",
              "                                        'max_features': ['auto', 'sqrt'],\n",
              "                                        'min_samples_leaf': [1, 2, 5, 10],\n",
              "                                        'min_samples_split': [2, 5, 10, 15,\n",
              "                                                              100],\n",
              "                                        'n_estimators': [100, 200, 300, 400,\n",
              "                                                         500, 600, 700, 800,\n",
              "                                                         900, 1000, 1100,\n",
              "                                                         1200]},\n",
              "                   random_state=42, scoring='neg_mean_squared_error',\n",
              "                   verbose=3)"
            ]
          },
          "metadata": {},
          "execution_count": 14
        }
      ]
    },
    {
      "cell_type": "code",
      "source": [
        "rf_random.best_params_"
      ],
      "metadata": {
        "colab": {
          "base_uri": "https://localhost:8080/"
        },
        "id": "DPhEes3tkzgG",
        "outputId": "d6239b53-59f9-412d-8f48-9db6e6eef886"
      },
      "execution_count": 15,
      "outputs": [
        {
          "output_type": "execute_result",
          "data": {
            "text/plain": [
              "{'n_estimators': 900,\n",
              " 'min_samples_split': 5,\n",
              " 'min_samples_leaf': 5,\n",
              " 'max_features': 'sqrt',\n",
              " 'max_depth': 10}"
            ]
          },
          "metadata": {},
          "execution_count": 15
        }
      ]
    },
    {
      "cell_type": "code",
      "source": [
        "prediction = rf_random.predict(x_test)"
      ],
      "metadata": {
        "id": "W8NOZCe-k6QY"
      },
      "execution_count": 16,
      "outputs": []
    },
    {
      "cell_type": "code",
      "source": [
        "plt.figure(figsize = (6,6))\n",
        "sns.distplot(y_test-prediction)\n",
        "plt.show()"
      ],
      "metadata": {
        "colab": {
          "base_uri": "https://localhost:8080/",
          "height": 399
        },
        "id": "yxw-Ntjyk7YX",
        "outputId": "aa4bbee5-f2eb-472d-f4d4-19a6cdd1a73a"
      },
      "execution_count": 17,
      "outputs": [
        {
          "output_type": "display_data",
          "data": {
            "text/plain": [
              "<Figure size 432x432 with 1 Axes>"
            ],
            "image/png": "[encoded data removed]"
          },
          "metadata": {
            "needs_background": "light"
          }
        }
      ]
    },
    {
      "cell_type": "code",
      "source": [
        "print('MAE:', metrics.mean_absolute_error(y_test, prediction))\n",
        "print('MSE:', metrics.mean_squared_error(y_test, prediction))\n",
        "print('RMSE:', np.sqrt(metrics.mean_squared_error(y_test, prediction)))"
      ],
      "metadata": {
        "colab": {
          "base_uri": "https://localhost:8080/"
        },
        "id": "G4r1FYMKk-o6",
        "outputId": "6b5b23aa-76a0-4e48-eafa-41dc3ee3ef9e"
      },
      "execution_count": 18,
      "outputs": [
        {
          "output_type": "stream",
          "name": "stdout",
          "text": [
            "MAE: 31451058.04856741\n",
            "MSE: 2598871014608721.5\n",
            "RMSE: 50979123.321304\n"
          ]
        }
      ]
    },
    {
      "cell_type": "code",
      "source": [
        "file = open('RandomForestRegressor.pkl', 'wb')\n",
        "pickle.dump(rf_random, file)"
      ],
      "metadata": {
        "id": "2hSW9sBIDTbc"
      },
      "execution_count": 19,
      "outputs": []
    },
    {
      "cell_type": "markdown",
      "source": [
        "## with log transform"
      ],
      "metadata": {
        "id": "JEktbrEwPKsG"
      }
    },
    {
      "cell_type": "code",
      "source": [
        "x_train_log = data['x_train_log']\n",
        "x_test_log = data['x_test_log']\n",
        "y_train_log = data['y_train_log']\n",
        "y_test_log = data['y_test_log']"
      ],
      "metadata": {
        "id": "4GBPHoDqk_5-"
      },
      "execution_count": 20,
      "outputs": []
    },
    {
      "cell_type": "code",
      "source": [
        "max(y_train_log), min(y_train_log)"
      ],
      "metadata": {
        "colab": {
          "base_uri": "https://localhost:8080/"
        },
        "id": "MQ8s6_63PWGf",
        "outputId": "3005253a-b401-49d7-aee4-998d75ed244f"
      },
      "execution_count": 21,
      "outputs": [
        {
          "output_type": "execute_result",
          "data": {
            "text/plain": [
              "(19.62964108978934, 13.9108207377686)"
            ]
          },
          "metadata": {},
          "execution_count": 21
        }
      ]
    },
    {
      "cell_type": "code",
      "source": [
        "reg_rf_log = RandomForestRegressor()\n",
        "reg_rf_log.fit(x_train_log, y_train_log)"
      ],
      "metadata": {
        "colab": {
          "base_uri": "https://localhost:8080/"
        },
        "id": "wJkGNpsTPcPj",
        "outputId": "02bdb87e-a128-4c96-a337-61257ca0175f"
      },
      "execution_count": 22,
      "outputs": [
        {
          "output_type": "execute_result",
          "data": {
            "text/plain": [
              "RandomForestRegressor()"
            ]
          },
          "metadata": {},
          "execution_count": 22
        }
      ]
    },
    {
      "cell_type": "code",
      "source": [
        "y_pred_log = reg_rf_log.predict(x_test)"
      ],
      "metadata": {
        "id": "EmwuRFw7Pe1T"
      },
      "execution_count": 23,
      "outputs": []
    },
    {
      "cell_type": "code",
      "source": [
        "print('MAE:', metrics.mean_absolute_error(y_test_log, y_pred_log))\n",
        "print('MSE:', metrics.mean_squared_error(y_test_log, y_pred_log))\n",
        "print('RMSE:', np.sqrt(metrics.mean_squared_error(y_test_log, y_pred_log)))"
      ],
      "metadata": {
        "colab": {
          "base_uri": "https://localhost:8080/"
        },
        "id": "8UPo_DDsPh6i",
        "outputId": "a85d4144-93a3-4aeb-a527-5233e4b59a07"
      },
      "execution_count": 24,
      "outputs": [
        {
          "output_type": "stream",
          "name": "stdout",
          "text": [
            "MAE: 0.9943731036134436\n",
            "MSE: 1.5729993293988078\n",
            "RMSE: 1.2541927002653173\n"
          ]
        }
      ]
    },
    {
      "cell_type": "code",
      "source": [
        "rf_random_log = RandomizedSearchCV(\n",
        "    estimator = reg_rf, \n",
        "    param_distributions = random_grid,\n",
        "    scoring='neg_mean_squared_error', \n",
        "    n_iter = 10, \n",
        "    cv = 5, \n",
        "    verbose=3, \n",
        "    random_state=42, \n",
        "    n_jobs = 1)"
      ],
      "metadata": {
        "id": "HWO0lmTwPo53"
      },
      "execution_count": 25,
      "outputs": []
    },
    {
      "cell_type": "code",
      "source": [
        "rf_random_log.fit(x_train_log, y_train_log)"
      ],
      "metadata": {
        "colab": {
          "base_uri": "https://localhost:8080/"
        },
        "id": "rmt-htEhPyfB",
        "outputId": "b98decdb-bbb6-40c8-ea9a-37e8f68ebc3f"
      },
      "execution_count": 26,
      "outputs": [
        {
          "output_type": "stream",
          "name": "stdout",
          "text": [
            "Fitting 5 folds for each of 10 candidates, totalling 50 fits\n",
            "[CV 1/5] END max_depth=10, max_features=sqrt, min_samples_leaf=5, min_samples_split=5, n_estimators=900;, score=-1.387 total time=   4.1s\n",
            "[CV 2/5] END max_depth=10, max_features=sqrt, min_samples_leaf=5, min_samples_split=5, n_estimators=900;, score=-1.398 total time=   4.1s\n",
            "[CV 3/5] END max_depth=10, max_features=sqrt, min_samples_leaf=5, min_samples_split=5, n_estimators=900;, score=-1.371 total time=   4.1s\n",
            "[CV 4/5] END max_depth=10, max_features=sqrt, min_samples_leaf=5, min_samples_split=5, n_estimators=900;, score=-1.410 total time=   4.9s\n",
            "[CV 5/5] END max_depth=10, max_features=sqrt, min_samples_leaf=5, min_samples_split=5, n_estimators=900;, score=-1.389 total time=   4.1s\n",
            "[CV 1/5] END max_depth=15, max_features=sqrt, min_samples_leaf=2, min_samples_split=10, n_estimators=1100;, score=-1.390 total time=   6.2s\n",
            "[CV 2/5] END max_depth=15, max_features=sqrt, min_samples_leaf=2, min_samples_split=10, n_estimators=1100;, score=-1.387 total time=   6.2s\n",
            "[CV 3/5] END max_depth=15, max_features=sqrt, min_samples_leaf=2, min_samples_split=10, n_estimators=1100;, score=-1.367 total time=   6.2s\n",
            "[CV 4/5] END max_depth=15, max_features=sqrt, min_samples_leaf=2, min_samples_split=10, n_estimators=1100;, score=-1.418 total time=   6.2s\n",
            "[CV 5/5] END max_depth=15, max_features=sqrt, min_samples_leaf=2, min_samples_split=10, n_estimators=1100;, score=-1.401 total time=   6.2s\n",
            "[CV 1/5] END max_depth=15, max_features=auto, min_samples_leaf=5, min_samples_split=100, n_estimators=300;, score=-1.378 total time=   2.4s\n",
            "[CV 2/5] END max_depth=15, max_features=auto, min_samples_leaf=5, min_samples_split=100, n_estimators=300;, score=-1.402 total time=   2.4s\n",
            "[CV 3/5] END max_depth=15, max_features=auto, min_samples_leaf=5, min_samples_split=100, n_estimators=300;, score=-1.366 total time=   2.6s\n",
            "[CV 4/5] END max_depth=15, max_features=auto, min_samples_leaf=5, min_samples_split=100, n_estimators=300;, score=-1.413 total time=   3.0s\n",
            "[CV 5/5] END max_depth=15, max_features=auto, min_samples_leaf=5, min_samples_split=100, n_estimators=300;, score=-1.398 total time=   2.4s\n",
            "[CV 1/5] END max_depth=15, max_features=auto, min_samples_leaf=5, min_samples_split=5, n_estimators=400;, score=-1.399 total time=   4.2s\n",
            "[CV 2/5] END max_depth=15, max_features=auto, min_samples_leaf=5, min_samples_split=5, n_estimators=400;, score=-1.420 total time=   4.1s\n",
            "[CV 3/5] END max_depth=15, max_features=auto, min_samples_leaf=5, min_samples_split=5, n_estimators=400;, score=-1.397 total time=   4.2s\n",
            "[CV 4/5] END max_depth=15, max_features=auto, min_samples_leaf=5, min_samples_split=5, n_estimators=400;, score=-1.449 total time=   4.1s\n",
            "[CV 5/5] END max_depth=15, max_features=auto, min_samples_leaf=5, min_samples_split=5, n_estimators=400;, score=-1.411 total time=   4.2s\n",
            "[CV 1/5] END max_depth=20, max_features=auto, min_samples_leaf=10, min_samples_split=5, n_estimators=700;, score=-1.395 total time=   6.6s\n",
            "[CV 2/5] END max_depth=20, max_features=auto, min_samples_leaf=10, min_samples_split=5, n_estimators=700;, score=-1.414 total time=   6.7s\n",
            "[CV 3/5] END max_depth=20, max_features=auto, min_samples_leaf=10, min_samples_split=5, n_estimators=700;, score=-1.386 total time=   6.6s\n",
            "[CV 4/5] END max_depth=20, max_features=auto, min_samples_leaf=10, min_samples_split=5, n_estimators=700;, score=-1.435 total time=   6.6s\n",
            "[CV 1/5] END max_depth=25, max_features=sqrt, min_samples_leaf=1, min_samples_split=2, n_estimators=1000;, score=-1.590 total time=   8.8s\n",
            "[CV 2/5] END max_depth=25, max_features=sqrt, min_samples_leaf=1, min_samples_split=2, n_estimators=1000;, score=-1.561 total time=   8.6s\n",
            "[CV 3/5] END max_depth=25, max_features=sqrt, min_samples_leaf=1, min_samples_split=2, n_estimators=1000;, score=-1.569 total time=   8.6s\n",
            "[CV 4/5] END max_depth=25, max_features=sqrt, min_samples_leaf=1, min_samples_split=2, n_estimators=1000;, score=-1.646 total time=   8.7s\n",
            "[CV 5/5] END max_depth=25, max_features=sqrt, min_samples_leaf=1, min_samples_split=2, n_estimators=1000;, score=-1.621 total time=   8.7s\n",
            "[CV 1/5] END max_depth=5, max_features=sqrt, min_samples_leaf=10, min_samples_split=15, n_estimators=1100;, score=-1.457 total time=   3.5s\n",
            "[CV 2/5] END max_depth=5, max_features=sqrt, min_samples_leaf=10, min_samples_split=15, n_estimators=1100;, score=-1.477 total time=   3.4s\n",
            "[CV 3/5] END max_depth=5, max_features=sqrt, min_samples_leaf=10, min_samples_split=15, n_estimators=1100;, score=-1.462 total time=   3.4s\n",
            "[CV 4/5] END max_depth=5, max_features=sqrt, min_samples_leaf=10, min_samples_split=15, n_estimators=1100;, score=-1.483 total time=   3.4s\n",
            "[CV 5/5] END max_depth=5, max_features=sqrt, min_samples_leaf=10, min_samples_split=15, n_estimators=1100;, score=-1.447 total time=   3.4s\n",
            "[CV 1/5] END max_depth=15, max_features=sqrt, min_samples_leaf=1, min_samples_split=15, n_estimators=300;, score=-1.389 total time=   1.7s\n",
            "[CV 2/5] END max_depth=15, max_features=sqrt, min_samples_leaf=1, min_samples_split=15, n_estimators=300;, score=-1.381 total time=   1.7s\n",
            "[CV 3/5] END max_depth=15, max_features=sqrt, min_samples_leaf=1, min_samples_split=15, n_estimators=300;, score=-1.365 total time=   1.7s\n",
            "[CV 4/5] END max_depth=15, max_features=sqrt, min_samples_leaf=1, min_samples_split=15, n_estimators=300;, score=-1.416 total time=   1.7s\n",
            "[CV 5/5] END max_depth=15, max_features=sqrt, min_samples_leaf=1, min_samples_split=15, n_estimators=300;, score=-1.398 total time=   1.7s\n",
            "[CV 1/5] END max_depth=5, max_features=sqrt, min_samples_leaf=2, min_samples_split=10, n_estimators=700;, score=-1.458 total time=   2.2s\n",
            "[CV 2/5] END max_depth=5, max_features=sqrt, min_samples_leaf=2, min_samples_split=10, n_estimators=700;, score=-1.476 total time=   2.2s\n",
            "[CV 3/5] END max_depth=5, max_features=sqrt, min_samples_leaf=2, min_samples_split=10, n_estimators=700;, score=-1.459 total time=   2.3s\n",
            "[CV 4/5] END max_depth=5, max_features=sqrt, min_samples_leaf=2, min_samples_split=10, n_estimators=700;, score=-1.483 total time=   2.2s\n",
            "[CV 5/5] END max_depth=5, max_features=sqrt, min_samples_leaf=2, min_samples_split=10, n_estimators=700;, score=-1.447 total time=   2.2s\n",
            "[CV 1/5] END max_depth=20, max_features=auto, min_samples_leaf=1, min_samples_split=15, n_estimators=700;, score=-1.410 total time=   7.6s\n",
            "[CV 2/5] END max_depth=20, max_features=auto, min_samples_leaf=1, min_samples_split=15, n_estimators=700;, score=-1.418 total time=   8.4s\n",
            "[CV 3/5] END max_depth=20, max_features=auto, min_samples_leaf=1, min_samples_split=15, n_estimators=700;, score=-1.392 total time=   7.7s\n",
            "[CV 4/5] END max_depth=20, max_features=auto, min_samples_leaf=1, min_samples_split=15, n_estimators=700;, score=-1.440 total time=   7.6s\n",
            "[CV 5/5] END max_depth=20, max_features=auto, min_samples_leaf=1, min_samples_split=15, n_estimators=700;, score=-1.429 total time=   7.7s\n"
          ]
        },
        {
          "output_type": "execute_result",
          "data": {
            "text/plain": [
              "RandomizedSearchCV(cv=5, estimator=RandomForestRegressor(), n_jobs=1,\n",
              "                   param_distributions={'max_depth': [5, 10, 15, 20, 25, 30],\n",
              "                                        'max_features': ['auto', 'sqrt'],\n",
              "                                        'min_samples_leaf': [1, 2, 5, 10],\n",
              "                                        'min_samples_split': [2, 5, 10, 15,\n",
              "                                                              100],\n",
              "                                        'n_estimators': [100, 200, 300, 400,\n",
              "                                                         500, 600, 700, 800,\n",
              "                                                         900, 1000, 1100,\n",
              "                                                         1200]},\n",
              "                   random_state=42, scoring='neg_mean_squared_error',\n",
              "                   verbose=3)"
            ]
          },
          "metadata": {},
          "execution_count": 26
        }
      ]
    },
    {
      "cell_type": "code",
      "source": [
        "rf_random_log.best_params_"
      ],
      "metadata": {
        "colab": {
          "base_uri": "https://localhost:8080/"
        },
        "id": "Cn2Log0LP7Gq",
        "outputId": "2dc05515-932a-4cf3-a4bd-e1d4dd2d01aa"
      },
      "execution_count": 27,
      "outputs": [
        {
          "output_type": "execute_result",
          "data": {
            "text/plain": [
              "{'n_estimators': 300,\n",
              " 'min_samples_split': 15,\n",
              " 'min_samples_leaf': 1,\n",
              " 'max_features': 'sqrt',\n",
              " 'max_depth': 15}"
            ]
          },
          "metadata": {},
          "execution_count": 27
        }
      ]
    },
    {
      "cell_type": "code",
      "source": [
        "prediction = rf_random_log.predict(x_test_log)"
      ],
      "metadata": {
        "id": "S2SsrvhmRBxF"
      },
      "execution_count": 28,
      "outputs": []
    },
    {
      "cell_type": "code",
      "source": [
        "plt.figure(figsize = (6,6))\n",
        "sns.distplot(y_test_log-prediction)\n",
        "plt.show()"
      ],
      "metadata": {
        "colab": {
          "base_uri": "https://localhost:8080/",
          "height": 389
        },
        "id": "_Z0LWa23QcEc",
        "outputId": "a476944b-df7b-407c-cf37-1090f8ccfc6e"
      },
      "execution_count": 29,
      "outputs": [
        {
          "output_type": "display_data",
          "data": {
            "text/plain": [
              "<Figure size 432x432 with 1 Axes>"
            ],
            "image/png": "[encoded data removed]"
          },
          "metadata": {
            "needs_background": "light"
          }
        }
      ]
    },
    {
      "cell_type": "code",
      "source": [
        "print('MAE:', metrics.mean_absolute_error(y_test_log, prediction))\n",
        "print('MSE:', metrics.mean_squared_error(y_test_log, prediction))\n",
        "print('RMSE:', np.sqrt(metrics.mean_squared_error(y_test_log, prediction)))"
      ],
      "metadata": {
        "colab": {
          "base_uri": "https://localhost:8080/"
        },
        "id": "MF7S9pScROYi",
        "outputId": "cbf0eab4-0dd9-4c8d-a186-d02bd1b4b441"
      },
      "execution_count": 30,
      "outputs": [
        {
          "output_type": "stream",
          "name": "stdout",
          "text": [
            "MAE: 0.94183014989919\n",
            "MSE: 1.3774487133599764\n",
            "RMSE: 1.1736476103839586\n"
          ]
        }
      ]
    },
    {
      "cell_type": "code",
      "source": [
        "file = open('RandomForestRegressorLog.pkl', 'wb')\n",
        "pickle.dump(rf_random_log, file)"
      ],
      "metadata": {
        "id": "J_BzqFZVRilO"
      },
      "execution_count": 31,
      "outputs": []
    },
    {
      "cell_type": "code",
      "source": [],
      "metadata": {
        "id": "jYuuhW9ikzlK"
      },
      "execution_count": 31,
      "outputs": []
    }
  ]
}