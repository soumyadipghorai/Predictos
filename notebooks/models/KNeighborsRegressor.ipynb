{
  "nbformat": 4,
  "nbformat_minor": 0,
  "metadata": {
    "colab": {
      "provenance": []
    },
    "kernelspec": {
      "name": "python3",
      "display_name": "Python 3"
    },
    "language_info": {
      "name": "python"
    }
  },
  "cells": [
    {
      "cell_type": "code",
      "execution_count": 83,
      "metadata": {
        "id": "p6hN_4GSzdyY"
      },
      "outputs": [],
      "source": [
        "# handling data \n",
        "import numpy as np \n",
        "import pandas as pd \n",
        "\n",
        "# warnings\n",
        "import warnings\n",
        "pd.options.mode.chained_assignment = None \n",
        "warnings.filterwarnings(action=\"ignore\")\n",
        "warnings.simplefilter(action='ignore', category=FutureWarning)\n",
        "\n",
        "# visualization\n",
        "import seaborn as sns\n",
        "import plotly.express as px\n",
        "import matplotlib.pyplot as plt\n",
        "%matplotlib inline\n",
        "\n",
        "from sklearn.neighbors import KNeighborsRegressor\n",
        "from sklearn import metrics\n",
        "from sklearn.model_selection import RandomizedSearchCV\n",
        "\n",
        "import pickle "
      ]
    },
    {
      "cell_type": "code",
      "source": [
        "file = open('model_data.pkl', 'rb')\n",
        "data = pickle.load(file)\n",
        "file.close()"
      ],
      "metadata": {
        "id": "j3DQQVmIznH1"
      },
      "execution_count": 84,
      "outputs": []
    },
    {
      "cell_type": "markdown",
      "source": [
        "### With Log "
      ],
      "metadata": {
        "id": "mXkycLAA1TX6"
      }
    },
    {
      "cell_type": "code",
      "source": [
        "x_train = data['x_train_log']\n",
        "x_test = data['x_test_log']\n",
        "y_train = data['y_train_log']\n",
        "y_test = data['y_test_log']"
      ],
      "metadata": {
        "id": "nUmln3WWzoPI"
      },
      "execution_count": 85,
      "outputs": []
    },
    {
      "cell_type": "code",
      "source": [
        "knnR = KNeighborsRegressor()\n",
        "knnR.fit(x_train, y_train)"
      ],
      "metadata": {
        "colab": {
          "base_uri": "https://localhost:8080/"
        },
        "id": "ef4RSnipzpTJ",
        "outputId": "3f08932f-12c7-4ccd-bef8-c90dd11e95de"
      },
      "execution_count": 86,
      "outputs": [
        {
          "output_type": "execute_result",
          "data": {
            "text/plain": [
              "KNeighborsRegressor()"
            ]
          },
          "metadata": {},
          "execution_count": 86
        }
      ]
    },
    {
      "cell_type": "code",
      "source": [
        "y_pred = knnR.predict(x_test)"
      ],
      "metadata": {
        "id": "HNNr2B8szqyg"
      },
      "execution_count": 87,
      "outputs": []
    },
    {
      "cell_type": "code",
      "source": [
        "print('MAE:', metrics.mean_absolute_error(y_test, y_pred))\n",
        "print('MSE:', metrics.mean_squared_error(y_test, y_pred))\n",
        "print('RMSE:', np.sqrt(metrics.mean_squared_error(y_test, y_pred)))"
      ],
      "metadata": {
        "colab": {
          "base_uri": "https://localhost:8080/"
        },
        "id": "WgXPyfonzqvi",
        "outputId": "770400a7-81f2-45ce-a875-7237fc358120"
      },
      "execution_count": 88,
      "outputs": [
        {
          "output_type": "stream",
          "name": "stdout",
          "text": [
            "MAE: 1.040461852251634\n",
            "MSE: 1.6939445851307426\n",
            "RMSE: 1.3015162638748479\n"
          ]
        }
      ]
    },
    {
      "cell_type": "code",
      "source": [
        "parameters = {\n",
        "    'algorithm': ['auto', 'ball_tree', 'kd_tree', 'brute'],\n",
        "    'leaf_size': [i for i in range(3, 30)],\n",
        "    'n_neighbors': [i for i in range(3, 20)]\n",
        "}"
      ],
      "metadata": {
        "id": "43Gz_D5lzqtZ"
      },
      "execution_count": 89,
      "outputs": []
    },
    {
      "cell_type": "code",
      "source": [
        "knnR_random = RandomizedSearchCV(\n",
        "    estimator = knnR, \n",
        "    param_distributions = parameters,\n",
        "    scoring='neg_mean_squared_error', \n",
        "    n_iter = 10, \n",
        "    cv = 5, \n",
        "    verbose=3, \n",
        "    random_state=42, \n",
        "    n_jobs = 1)"
      ],
      "metadata": {
        "id": "XV-zioStzqsT"
      },
      "execution_count": 90,
      "outputs": []
    },
    {
      "cell_type": "code",
      "source": [
        "knnR_random.fit(x_train,y_train)"
      ],
      "metadata": {
        "colab": {
          "base_uri": "https://localhost:8080/"
        },
        "id": "M0rSqzmjzqqs",
        "outputId": "9259f546-e06d-4482-f9f0-7bbaafce76ac"
      },
      "execution_count": 91,
      "outputs": [
        {
          "output_type": "stream",
          "name": "stdout",
          "text": [
            "Fitting 5 folds for each of 10 candidates, totalling 50 fits\n",
            "[CV 1/5] END algorithm=kd_tree, leaf_size=15, n_neighbors=7;, score=-1.670 total time=   0.1s\n",
            "[CV 2/5] END algorithm=kd_tree, leaf_size=15, n_neighbors=7;, score=-1.575 total time=   0.1s\n",
            "[CV 3/5] END algorithm=kd_tree, leaf_size=15, n_neighbors=7;, score=-1.634 total time=   0.1s\n",
            "[CV 4/5] END algorithm=kd_tree, leaf_size=15, n_neighbors=7;, score=-1.614 total time=   0.1s\n",
            "[CV 5/5] END algorithm=kd_tree, leaf_size=15, n_neighbors=7;, score=-1.630 total time=   0.1s\n",
            "[CV 1/5] END algorithm=brute, leaf_size=7, n_neighbors=17;, score=-1.576 total time=   0.4s\n",
            "[CV 2/5] END algorithm=brute, leaf_size=7, n_neighbors=17;, score=-1.529 total time=   0.4s\n",
            "[CV 3/5] END algorithm=brute, leaf_size=7, n_neighbors=17;, score=-1.562 total time=   0.4s\n",
            "[CV 4/5] END algorithm=brute, leaf_size=7, n_neighbors=17;, score=-1.548 total time=   0.4s\n",
            "[CV 5/5] END algorithm=brute, leaf_size=7, n_neighbors=17;, score=-1.548 total time=   0.4s\n",
            "[CV 1/5] END algorithm=ball_tree, leaf_size=26, n_neighbors=13;, score=-1.588 total time=   0.1s\n",
            "[CV 2/5] END algorithm=ball_tree, leaf_size=26, n_neighbors=13;, score=-1.558 total time=   0.1s\n",
            "[CV 3/5] END algorithm=ball_tree, leaf_size=26, n_neighbors=13;, score=-1.558 total time=   0.1s\n",
            "[CV 4/5] END algorithm=ball_tree, leaf_size=26, n_neighbors=13;, score=-1.559 total time=   0.1s\n",
            "[CV 5/5] END algorithm=ball_tree, leaf_size=26, n_neighbors=13;, score=-1.565 total time=   0.1s\n",
            "[CV 1/5] END algorithm=kd_tree, leaf_size=25, n_neighbors=5;, score=-1.738 total time=   0.0s\n",
            "[CV 2/5] END algorithm=kd_tree, leaf_size=25, n_neighbors=5;, score=-1.632 total time=   0.0s\n",
            "[CV 3/5] END algorithm=kd_tree, leaf_size=25, n_neighbors=5;, score=-1.684 total time=   0.0s\n",
            "[CV 4/5] END algorithm=kd_tree, leaf_size=25, n_neighbors=5;, score=-1.677 total time=   0.0s\n",
            "[CV 5/5] END algorithm=kd_tree, leaf_size=25, n_neighbors=5;, score=-1.703 total time=   0.0s\n",
            "[CV 1/5] END algorithm=kd_tree, leaf_size=15, n_neighbors=11;, score=-1.594 total time=   0.1s\n",
            "[CV 2/5] END algorithm=kd_tree, leaf_size=15, n_neighbors=11;, score=-1.555 total time=   0.1s\n",
            "[CV 3/5] END algorithm=kd_tree, leaf_size=15, n_neighbors=11;, score=-1.585 total time=   0.1s\n",
            "[CV 4/5] END algorithm=kd_tree, leaf_size=15, n_neighbors=11;, score=-1.568 total time=   0.1s\n",
            "[CV 5/5] END algorithm=kd_tree, leaf_size=15, n_neighbors=11;, score=-1.581 total time=   0.1s\n",
            "[CV 1/5] END algorithm=kd_tree, leaf_size=13, n_neighbors=10;, score=-1.618 total time=   0.1s\n",
            "[CV 2/5] END algorithm=kd_tree, leaf_size=13, n_neighbors=10;, score=-1.564 total time=   0.1s\n",
            "[CV 3/5] END algorithm=kd_tree, leaf_size=13, n_neighbors=10;, score=-1.589 total time=   0.1s\n",
            "[CV 4/5] END algorithm=kd_tree, leaf_size=13, n_neighbors=10;, score=-1.559 total time=   0.1s\n",
            "[CV 5/5] END algorithm=kd_tree, leaf_size=13, n_neighbors=10;, score=-1.587 total time=   0.1s\n",
            "[CV 1/5] END algorithm=brute, leaf_size=23, n_neighbors=10;, score=-1.607 total time=   0.4s\n",
            "[CV 2/5] END algorithm=brute, leaf_size=23, n_neighbors=10;, score=-1.570 total time=   0.4s\n",
            "[CV 3/5] END algorithm=brute, leaf_size=23, n_neighbors=10;, score=-1.594 total time=   0.4s\n",
            "[CV 4/5] END algorithm=brute, leaf_size=23, n_neighbors=10;, score=-1.562 total time=   0.4s\n",
            "[CV 5/5] END algorithm=brute, leaf_size=23, n_neighbors=10;, score=-1.592 total time=   0.4s\n",
            "[CV 1/5] END algorithm=kd_tree, leaf_size=10, n_neighbors=10;, score=-1.618 total time=   0.1s\n",
            "[CV 2/5] END algorithm=kd_tree, leaf_size=10, n_neighbors=10;, score=-1.564 total time=   0.1s\n",
            "[CV 3/5] END algorithm=kd_tree, leaf_size=10, n_neighbors=10;, score=-1.589 total time=   0.1s\n",
            "[CV 4/5] END algorithm=kd_tree, leaf_size=10, n_neighbors=10;, score=-1.559 total time=   0.1s\n",
            "[CV 5/5] END algorithm=kd_tree, leaf_size=10, n_neighbors=10;, score=-1.587 total time=   0.1s\n",
            "[CV 1/5] END algorithm=brute, leaf_size=18, n_neighbors=9;, score=-1.627 total time=   0.4s\n",
            "[CV 2/5] END algorithm=brute, leaf_size=18, n_neighbors=9;, score=-1.571 total time=   0.4s\n",
            "[CV 3/5] END algorithm=brute, leaf_size=18, n_neighbors=9;, score=-1.607 total time=   0.4s\n",
            "[CV 4/5] END algorithm=brute, leaf_size=18, n_neighbors=9;, score=-1.575 total time=   0.4s\n",
            "[CV 5/5] END algorithm=brute, leaf_size=18, n_neighbors=9;, score=-1.601 total time=   0.4s\n",
            "[CV 1/5] END algorithm=auto, leaf_size=10, n_neighbors=5;, score=-1.739 total time=   0.1s\n",
            "[CV 2/5] END algorithm=auto, leaf_size=10, n_neighbors=5;, score=-1.632 total time=   0.1s\n",
            "[CV 3/5] END algorithm=auto, leaf_size=10, n_neighbors=5;, score=-1.688 total time=   0.1s\n",
            "[CV 4/5] END algorithm=auto, leaf_size=10, n_neighbors=5;, score=-1.676 total time=   0.1s\n",
            "[CV 5/5] END algorithm=auto, leaf_size=10, n_neighbors=5;, score=-1.709 total time=   0.1s\n"
          ]
        },
        {
          "output_type": "execute_result",
          "data": {
            "text/plain": [
              "RandomizedSearchCV(cv=5, estimator=KNeighborsRegressor(), n_jobs=1,\n",
              "                   param_distributions={'algorithm': ['auto', 'ball_tree',\n",
              "                                                      'kd_tree', 'brute'],\n",
              "                                        'leaf_size': [3, 4, 5, 6, 7, 8, 9, 10,\n",
              "                                                      11, 12, 13, 14, 15, 16,\n",
              "                                                      17, 18, 19, 20, 21, 22,\n",
              "                                                      23, 24, 25, 26, 27, 28,\n",
              "                                                      29],\n",
              "                                        'n_neighbors': [3, 4, 5, 6, 7, 8, 9, 10,\n",
              "                                                        11, 12, 13, 14, 15, 16,\n",
              "                                                        17, 18, 19]},\n",
              "                   random_state=42, scoring='neg_mean_squared_error',\n",
              "                   verbose=3)"
            ]
          },
          "metadata": {},
          "execution_count": 91
        }
      ]
    },
    {
      "cell_type": "code",
      "source": [
        "knnR_random.best_params_"
      ],
      "metadata": {
        "colab": {
          "base_uri": "https://localhost:8080/"
        },
        "id": "Z-IKC_1Mzqng",
        "outputId": "edfb7f71-d47b-486b-feb2-16ed4b92c7b4"
      },
      "execution_count": 92,
      "outputs": [
        {
          "output_type": "execute_result",
          "data": {
            "text/plain": [
              "{'n_neighbors': 17, 'leaf_size': 7, 'algorithm': 'brute'}"
            ]
          },
          "metadata": {},
          "execution_count": 92
        }
      ]
    },
    {
      "cell_type": "code",
      "source": [
        "prediction = knnR_random.predict(x_test)"
      ],
      "metadata": {
        "id": "NmwXs3P1zyLH"
      },
      "execution_count": 93,
      "outputs": []
    },
    {
      "cell_type": "code",
      "source": [
        "plt.figure(figsize = (6,6))\n",
        "sns.distplot(y_test-prediction)\n",
        "plt.show()"
      ],
      "metadata": {
        "colab": {
          "base_uri": "https://localhost:8080/",
          "height": 389
        },
        "id": "o5tkmxVhzyHt",
        "outputId": "0d4b5121-faa7-4d49-fcd3-985c626b95ca"
      },
      "execution_count": 94,
      "outputs": [
        {
          "output_type": "display_data",
          "data": {
            "text/plain": [
              "<Figure size 432x432 with 1 Axes>"
            ],
            "image/png": "[encoded data removed]"
          },
          "metadata": {
            "needs_background": "light"
          }
        }
      ]
    },
    {
      "cell_type": "code",
      "source": [
        "print('MAE:', metrics.mean_absolute_error(y_test, prediction))\n",
        "print('MSE:', metrics.mean_squared_error(y_test, prediction))\n",
        "print('RMSE:', np.sqrt(metrics.mean_squared_error(y_test, prediction)))"
      ],
      "metadata": {
        "colab": {
          "base_uri": "https://localhost:8080/"
        },
        "id": "bnk9QqJNz0iL",
        "outputId": "de132e85-0331-4bf9-939e-2d4598ce44ca"
      },
      "execution_count": 95,
      "outputs": [
        {
          "output_type": "stream",
          "name": "stdout",
          "text": [
            "MAE: 1.0026899709897268\n",
            "MSE: 1.5502701634520462\n",
            "RMSE: 1.245098455324737\n"
          ]
        }
      ]
    },
    {
      "cell_type": "code",
      "source": [
        "file = open('KNeighborsRegressorLog.pkl', 'wb')\n",
        "pickle.dump(knnR_random, file)"
      ],
      "metadata": {
        "id": "oGFYoYpKz1w7"
      },
      "execution_count": 96,
      "outputs": []
    },
    {
      "cell_type": "code",
      "source": [],
      "metadata": {
        "id": "7ndje4aOz2iH"
      },
      "execution_count": 96,
      "outputs": []
    },
    {
      "cell_type": "markdown",
      "source": [
        "### With Log "
      ],
      "metadata": {
        "id": "qea-SH-12WN0"
      }
    },
    {
      "cell_type": "code",
      "source": [
        "x_train = data['x_train']\n",
        "x_test = data['x_test']\n",
        "y_train = data['y_train']\n",
        "y_test = data['y_test']"
      ],
      "metadata": {
        "id": "Y37C6cOP2WN2"
      },
      "execution_count": 97,
      "outputs": []
    },
    {
      "cell_type": "code",
      "source": [
        "knnR = KNeighborsRegressor()\n",
        "knnR.fit(x_train, y_train)"
      ],
      "metadata": {
        "colab": {
          "base_uri": "https://localhost:8080/"
        },
        "outputId": "a7c13b2e-dd91-4027-839e-40424f0d30de",
        "id": "b0t0ZF3J2WN2"
      },
      "execution_count": 98,
      "outputs": [
        {
          "output_type": "execute_result",
          "data": {
            "text/plain": [
              "KNeighborsRegressor()"
            ]
          },
          "metadata": {},
          "execution_count": 98
        }
      ]
    },
    {
      "cell_type": "code",
      "source": [
        "y_pred = knnR.predict(x_test)"
      ],
      "metadata": {
        "id": "cNRDuqeB2WN3"
      },
      "execution_count": 99,
      "outputs": []
    },
    {
      "cell_type": "code",
      "source": [
        "print('MAE:', metrics.mean_absolute_error(y_test, y_pred))\n",
        "print('MSE:', metrics.mean_squared_error(y_test, y_pred))\n",
        "print('RMSE:', np.sqrt(metrics.mean_squared_error(y_test, y_pred)))"
      ],
      "metadata": {
        "colab": {
          "base_uri": "https://localhost:8080/"
        },
        "outputId": "ac602bbe-9fd9-4d3a-ef8a-387708534420",
        "id": "Sj4HdD_K2WN4"
      },
      "execution_count": 100,
      "outputs": [
        {
          "output_type": "stream",
          "name": "stdout",
          "text": [
            "MAE: 34536706.6427289\n",
            "MSE: 3175681148280071.5\n",
            "RMSE: 56353182.23738631\n"
          ]
        }
      ]
    },
    {
      "cell_type": "code",
      "source": [
        "parameters = {\n",
        "    'algorithm': ['auto', 'ball_tree', 'kd_tree', 'brute'],\n",
        "    'leaf_size': [i for i in range(3, 30)],\n",
        "    'n_neighbors': [i for i in range(3, 20)]\n",
        "}"
      ],
      "metadata": {
        "id": "Tu6YUfIs2WN4"
      },
      "execution_count": 101,
      "outputs": []
    },
    {
      "cell_type": "code",
      "source": [
        "knnR_random = RandomizedSearchCV(\n",
        "    estimator = knnR, \n",
        "    param_distributions = parameters,\n",
        "    scoring='neg_mean_squared_error', \n",
        "    n_iter = 10, \n",
        "    cv = 5, \n",
        "    verbose=3, \n",
        "    random_state=42, \n",
        "    n_jobs = 1)"
      ],
      "metadata": {
        "id": "jPjX7alz2WN4"
      },
      "execution_count": 102,
      "outputs": []
    },
    {
      "cell_type": "code",
      "source": [
        "knnR_random.fit(x_train,y_train)"
      ],
      "metadata": {
        "colab": {
          "base_uri": "https://localhost:8080/"
        },
        "id": "lei2f79t2WN5",
        "outputId": "29bab004-7773-472b-dee1-d6ac30eb1839"
      },
      "execution_count": 103,
      "outputs": [
        {
          "output_type": "stream",
          "name": "stdout",
          "text": [
            "Fitting 5 folds for each of 10 candidates, totalling 50 fits\n",
            "[CV 1/5] END algorithm=kd_tree, leaf_size=15, n_neighbors=7;, score=-3214040406398160.500 total time=   0.1s\n",
            "[CV 2/5] END algorithm=kd_tree, leaf_size=15, n_neighbors=7;, score=-3116192237058037.000 total time=   0.1s\n",
            "[CV 3/5] END algorithm=kd_tree, leaf_size=15, n_neighbors=7;, score=-2921400040534203.000 total time=   0.1s\n",
            "[CV 4/5] END algorithm=kd_tree, leaf_size=15, n_neighbors=7;, score=-3046568907205144.000 total time=   0.1s\n",
            "[CV 5/5] END algorithm=kd_tree, leaf_size=15, n_neighbors=7;, score=-3316535462804358.000 total time=   0.1s\n",
            "[CV 1/5] END algorithm=brute, leaf_size=7, n_neighbors=17;, score=-3073413995734689.000 total time=   0.4s\n",
            "[CV 2/5] END algorithm=brute, leaf_size=7, n_neighbors=17;, score=-2982305078582899.000 total time=   0.4s\n",
            "[CV 3/5] END algorithm=brute, leaf_size=7, n_neighbors=17;, score=-2826898110284954.500 total time=   0.4s\n",
            "[CV 4/5] END algorithm=brute, leaf_size=7, n_neighbors=17;, score=-2872239768832972.000 total time=   0.4s\n",
            "[CV 5/5] END algorithm=brute, leaf_size=7, n_neighbors=17;, score=-3149234264426051.500 total time=   0.4s\n",
            "[CV 1/5] END algorithm=ball_tree, leaf_size=26, n_neighbors=13;, score=-3098355097443245.500 total time=   0.1s\n",
            "[CV 2/5] END algorithm=ball_tree, leaf_size=26, n_neighbors=13;, score=-3024421945017688.000 total time=   0.1s\n",
            "[CV 3/5] END algorithm=ball_tree, leaf_size=26, n_neighbors=13;, score=-2833524761906292.500 total time=   0.1s\n",
            "[CV 4/5] END algorithm=ball_tree, leaf_size=26, n_neighbors=13;, score=-2917849006706734.000 total time=   0.1s\n",
            "[CV 5/5] END algorithm=ball_tree, leaf_size=26, n_neighbors=13;, score=-3177053455862824.000 total time=   0.1s\n",
            "[CV 1/5] END algorithm=kd_tree, leaf_size=25, n_neighbors=5;, score=-3294750216551167.000 total time=   0.0s\n",
            "[CV 2/5] END algorithm=kd_tree, leaf_size=25, n_neighbors=5;, score=-3206897897978456.000 total time=   0.1s\n",
            "[CV 3/5] END algorithm=kd_tree, leaf_size=25, n_neighbors=5;, score=-3014804400605027.000 total time=   0.0s\n",
            "[CV 4/5] END algorithm=kd_tree, leaf_size=25, n_neighbors=5;, score=-3137508718777379.000 total time=   0.0s\n",
            "[CV 5/5] END algorithm=kd_tree, leaf_size=25, n_neighbors=5;, score=-3401852498250561.000 total time=   0.0s\n",
            "[CV 1/5] END algorithm=kd_tree, leaf_size=15, n_neighbors=11;, score=-3098940350783047.000 total time=   0.1s\n",
            "[CV 2/5] END algorithm=kd_tree, leaf_size=15, n_neighbors=11;, score=-3008928464567785.000 total time=   0.1s\n",
            "[CV 3/5] END algorithm=kd_tree, leaf_size=15, n_neighbors=11;, score=-2869761481896449.500 total time=   0.1s\n",
            "[CV 4/5] END algorithm=kd_tree, leaf_size=15, n_neighbors=11;, score=-2945087312568067.000 total time=   0.1s\n",
            "[CV 5/5] END algorithm=kd_tree, leaf_size=15, n_neighbors=11;, score=-3240425966792965.000 total time=   0.1s\n",
            "[CV 1/5] END algorithm=kd_tree, leaf_size=13, n_neighbors=10;, score=-3138843879105475.500 total time=   0.1s\n",
            "[CV 2/5] END algorithm=kd_tree, leaf_size=13, n_neighbors=10;, score=-3027160049566427.000 total time=   0.1s\n",
            "[CV 3/5] END algorithm=kd_tree, leaf_size=13, n_neighbors=10;, score=-2865772065918761.500 total time=   0.1s\n",
            "[CV 4/5] END algorithm=kd_tree, leaf_size=13, n_neighbors=10;, score=-2962384266239677.000 total time=   0.1s\n",
            "[CV 5/5] END algorithm=kd_tree, leaf_size=13, n_neighbors=10;, score=-3268577728883251.000 total time=   0.1s\n",
            "[CV 1/5] END algorithm=brute, leaf_size=23, n_neighbors=10;, score=-3155707939757630.500 total time=   0.4s\n",
            "[CV 2/5] END algorithm=brute, leaf_size=23, n_neighbors=10;, score=-3017292992356373.500 total time=   0.4s\n",
            "[CV 3/5] END algorithm=brute, leaf_size=23, n_neighbors=10;, score=-2868160125746858.000 total time=   0.4s\n",
            "[CV 4/5] END algorithm=brute, leaf_size=23, n_neighbors=10;, score=-2942201866375224.000 total time=   0.4s\n",
            "[CV 5/5] END algorithm=brute, leaf_size=23, n_neighbors=10;, score=-3263379647272115.000 total time=   0.4s\n",
            "[CV 1/5] END algorithm=kd_tree, leaf_size=10, n_neighbors=10;, score=-3138843879105475.500 total time=   0.1s\n",
            "[CV 2/5] END algorithm=kd_tree, leaf_size=10, n_neighbors=10;, score=-3027160049566427.000 total time=   0.1s\n",
            "[CV 3/5] END algorithm=kd_tree, leaf_size=10, n_neighbors=10;, score=-2865772065918761.500 total time=   0.1s\n",
            "[CV 4/5] END algorithm=kd_tree, leaf_size=10, n_neighbors=10;, score=-2962384266239677.000 total time=   0.1s\n",
            "[CV 5/5] END algorithm=kd_tree, leaf_size=10, n_neighbors=10;, score=-3268577728883251.000 total time=   0.1s\n",
            "[CV 1/5] END algorithm=brute, leaf_size=18, n_neighbors=9;, score=-3182201379918877.500 total time=   0.4s\n",
            "[CV 2/5] END algorithm=brute, leaf_size=18, n_neighbors=9;, score=-3020057444013343.000 total time=   0.4s\n",
            "[CV 3/5] END algorithm=brute, leaf_size=18, n_neighbors=9;, score=-2890009097344128.000 total time=   0.4s\n",
            "[CV 4/5] END algorithm=brute, leaf_size=18, n_neighbors=9;, score=-2971342827306780.000 total time=   0.4s\n",
            "[CV 5/5] END algorithm=brute, leaf_size=18, n_neighbors=9;, score=-3280454687525709.000 total time=   0.5s\n",
            "[CV 1/5] END algorithm=auto, leaf_size=10, n_neighbors=5;, score=-3338042954303411.000 total time=   0.1s\n",
            "[CV 2/5] END algorithm=auto, leaf_size=10, n_neighbors=5;, score=-3214480172827648.000 total time=   0.1s\n",
            "[CV 3/5] END algorithm=auto, leaf_size=10, n_neighbors=5;, score=-3015901623536804.500 total time=   0.1s\n",
            "[CV 4/5] END algorithm=auto, leaf_size=10, n_neighbors=5;, score=-3141829738978455.500 total time=   0.1s\n",
            "[CV 5/5] END algorithm=auto, leaf_size=10, n_neighbors=5;, score=-3396794331164795.500 total time=   0.1s\n"
          ]
        },
        {
          "output_type": "execute_result",
          "data": {
            "text/plain": [
              "RandomizedSearchCV(cv=5, estimator=KNeighborsRegressor(), n_jobs=1,\n",
              "                   param_distributions={'algorithm': ['auto', 'ball_tree',\n",
              "                                                      'kd_tree', 'brute'],\n",
              "                                        'leaf_size': [3, 4, 5, 6, 7, 8, 9, 10,\n",
              "                                                      11, 12, 13, 14, 15, 16,\n",
              "                                                      17, 18, 19, 20, 21, 22,\n",
              "                                                      23, 24, 25, 26, 27, 28,\n",
              "                                                      29],\n",
              "                                        'n_neighbors': [3, 4, 5, 6, 7, 8, 9, 10,\n",
              "                                                        11, 12, 13, 14, 15, 16,\n",
              "                                                        17, 18, 19]},\n",
              "                   random_state=42, scoring='neg_mean_squared_error',\n",
              "                   verbose=3)"
            ]
          },
          "metadata": {},
          "execution_count": 103
        }
      ]
    },
    {
      "cell_type": "code",
      "source": [
        "knnR_random.best_params_"
      ],
      "metadata": {
        "colab": {
          "base_uri": "https://localhost:8080/"
        },
        "id": "tV_RQAKZ2WN5",
        "outputId": "f8e6705a-b9e7-4e63-ea9c-ee6486a17e3f"
      },
      "execution_count": 104,
      "outputs": [
        {
          "output_type": "execute_result",
          "data": {
            "text/plain": [
              "{'n_neighbors': 17, 'leaf_size': 7, 'algorithm': 'brute'}"
            ]
          },
          "metadata": {},
          "execution_count": 104
        }
      ]
    },
    {
      "cell_type": "code",
      "source": [
        "prediction = knnR_random.predict(x_test)"
      ],
      "metadata": {
        "id": "sQBd4cna2WN5"
      },
      "execution_count": 105,
      "outputs": []
    },
    {
      "cell_type": "code",
      "source": [
        "plt.figure(figsize = (6,6))\n",
        "sns.distplot(y_test-prediction)\n",
        "plt.show()"
      ],
      "metadata": {
        "colab": {
          "base_uri": "https://localhost:8080/",
          "height": 399
        },
        "id": "kz_kjKQl2WN6",
        "outputId": "825c0564-89cd-400b-acd2-674cf8667aa0"
      },
      "execution_count": 106,
      "outputs": [
        {
          "output_type": "display_data",
          "data": {
            "text/plain": [
              "<Figure size 432x432 with 1 Axes>"
            ],
            "image/png": "[encoded data removed]"
          },
          "metadata": {
            "needs_background": "light"
          }
        }
      ]
    },
    {
      "cell_type": "code",
      "source": [
        "print('MAE:', metrics.mean_absolute_error(y_test, prediction))\n",
        "print('MSE:', metrics.mean_squared_error(y_test, prediction))\n",
        "print('RMSE:', np.sqrt(metrics.mean_squared_error(y_test, prediction)))"
      ],
      "metadata": {
        "colab": {
          "base_uri": "https://localhost:8080/"
        },
        "id": "Cw-axjIT2WN6",
        "outputId": "126525bc-131a-48e0-d25a-fb1871f1431a"
      },
      "execution_count": 107,
      "outputs": [
        {
          "output_type": "stream",
          "name": "stdout",
          "text": [
            "MAE: 33303843.278065264\n",
            "MSE: 2936920408049051.5\n",
            "RMSE: 54193361.29129703\n"
          ]
        }
      ]
    },
    {
      "cell_type": "code",
      "source": [
        "file = open('KNeighborsRegressor.pkl', 'wb')\n",
        "pickle.dump(knnR_random, file)"
      ],
      "metadata": {
        "id": "mgvxOJwe2WN6"
      },
      "execution_count": 108,
      "outputs": []
    },
    {
      "cell_type": "code",
      "source": [],
      "metadata": {
        "id": "eZpRcbN82WN7"
      },
      "execution_count": 108,
      "outputs": []
    }
  ]
}