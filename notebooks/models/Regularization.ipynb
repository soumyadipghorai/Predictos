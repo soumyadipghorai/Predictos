{
  "nbformat": 4,
  "nbformat_minor": 0,
  "metadata": {
    "colab": {
      "provenance": []
    },
    "kernelspec": {
      "name": "python3",
      "display_name": "Python 3"
    },
    "language_info": {
      "name": "python"
    }
  },
  "cells": [
    {
      "cell_type": "code",
      "execution_count": 67,
      "metadata": {
        "id": "0nz40UVWlE19"
      },
      "outputs": [],
      "source": [
        "# handling data \n",
        "import numpy as np \n",
        "import pandas as pd \n",
        "\n",
        "# warnings\n",
        "import warnings\n",
        "pd.options.mode.chained_assignment = None \n",
        "warnings.filterwarnings(action=\"ignore\")\n",
        "warnings.simplefilter(action='ignore', category=FutureWarning)\n",
        "\n",
        "# visualization\n",
        "import seaborn as sns\n",
        "import plotly.express as px\n",
        "import matplotlib.pyplot as plt\n",
        "%matplotlib inline\n",
        "\n",
        "from statistics import mean\n",
        "from sklearn.linear_model import LinearRegression, Ridge, Lasso\n",
        "from sklearn.model_selection import RandomizedSearchCV\n",
        "from sklearn.model_selection import cross_val_score\n",
        "from sklearn import metrics\n",
        "\n",
        "import pickle"
      ]
    },
    {
      "cell_type": "markdown",
      "source": [
        "## With Log "
      ],
      "metadata": {
        "id": "cIQ2xNn9xnwi"
      }
    },
    {
      "cell_type": "code",
      "source": [
        "file = open('model_data.pkl', 'rb')\n",
        "data = pickle.load(file)\n",
        "file.close()"
      ],
      "metadata": {
        "id": "S6rLryLzlRf1"
      },
      "execution_count": 68,
      "outputs": []
    },
    {
      "cell_type": "code",
      "source": [
        "x_train = data['x_train_log']\n",
        "x_test = data['x_test_log']\n",
        "y_train = data['y_train_log']\n",
        "y_test = data['y_test_log']"
      ],
      "metadata": {
        "id": "RbglYKpFlRcW"
      },
      "execution_count": 69,
      "outputs": []
    },
    {
      "cell_type": "code",
      "source": [
        "max(y_train), min(y_train)"
      ],
      "metadata": {
        "colab": {
          "base_uri": "https://localhost:8080/"
        },
        "id": "aaeEZ44dlRaD",
        "outputId": "f3ef5b1b-0235-44ac-be5c-9afc1dc92e13"
      },
      "execution_count": 70,
      "outputs": [
        {
          "output_type": "execute_result",
          "data": {
            "text/plain": [
              "(19.62964108978934, 13.9108207377686)"
            ]
          },
          "metadata": {},
          "execution_count": 70
        }
      ]
    },
    {
      "cell_type": "code",
      "source": [
        "x_train.shape[0] * 0.8"
      ],
      "metadata": {
        "colab": {
          "base_uri": "https://localhost:8080/"
        },
        "id": "Nfp2F6IRr-w7",
        "outputId": "61b10da6-c04b-4ab2-cd0b-7084fa5088bd"
      },
      "execution_count": 71,
      "outputs": [
        {
          "output_type": "execute_result",
          "data": {
            "text/plain": [
              "8911.2"
            ]
          },
          "metadata": {},
          "execution_count": 71
        }
      ]
    },
    {
      "cell_type": "code",
      "source": [
        "x_train_set = x_train[:8912]\n",
        "x_val = x_train[8912:]\n",
        "y_train_set = y_train[:8912]\n",
        "y_val = y_train[8912:]"
      ],
      "metadata": {
        "id": "4GqmHSf8sH2O"
      },
      "execution_count": 72,
      "outputs": []
    },
    {
      "cell_type": "markdown",
      "source": [
        "### Ridge "
      ],
      "metadata": {
        "id": "KtFvDK8c2-8H"
      }
    },
    {
      "cell_type": "code",
      "source": [
        "error = []\n",
        "\n",
        "alpha = []\n",
        " \n",
        "for i in range(1, 10):\n",
        "    ridgeModel = Ridge(alpha = i * 0.05)\n",
        "    ridgeModel.fit(x_train, y_train)\n",
        "    val_prediction = ridgeModel.predict(x_val)\n",
        "    scores = round(metrics.mean_absolute_error(y_val, val_prediction), 3)\n",
        "    error.append(scores)\n",
        "    alpha.append(i * 0.05)\n",
        "\n",
        "for i in range(len(error)) : \n",
        "    print(f'aplha = {alpha[i]} --> RMSE = {error[i]}')"
      ],
      "metadata": {
        "colab": {
          "base_uri": "https://localhost:8080/"
        },
        "id": "NxQZOpFxlRSA",
        "outputId": "659c48cd-e9f8-4716-a9d4-c7b2216f19a2"
      },
      "execution_count": 73,
      "outputs": [
        {
          "output_type": "stream",
          "name": "stdout",
          "text": [
            "aplha = 0.05 --> RMSE = 1.012\n",
            "aplha = 0.1 --> RMSE = 1.012\n",
            "aplha = 0.15000000000000002 --> RMSE = 1.012\n",
            "aplha = 0.2 --> RMSE = 1.012\n",
            "aplha = 0.25 --> RMSE = 1.012\n",
            "aplha = 0.30000000000000004 --> RMSE = 1.012\n",
            "aplha = 0.35000000000000003 --> RMSE = 1.012\n",
            "aplha = 0.4 --> RMSE = 1.012\n",
            "aplha = 0.45 --> RMSE = 1.012\n"
          ]
        }
      ]
    },
    {
      "cell_type": "code",
      "source": [
        "ridgeModelChosen = Ridge(alpha = 0.05)\n",
        "ridgeModelChosen.fit(x_train, y_train)"
      ],
      "metadata": {
        "colab": {
          "base_uri": "https://localhost:8080/"
        },
        "id": "fHDBn4wHpaSK",
        "outputId": "c5d3f686-4dbf-490a-b673-5383b93ebe6b"
      },
      "execution_count": 74,
      "outputs": [
        {
          "output_type": "execute_result",
          "data": {
            "text/plain": [
              "Ridge(alpha=0.05)"
            ]
          },
          "metadata": {},
          "execution_count": 74
        }
      ]
    },
    {
      "cell_type": "code",
      "source": [
        "prediction = ridgeModelChosen.predict(x_test)"
      ],
      "metadata": {
        "id": "6NBD_pakraJp"
      },
      "execution_count": 75,
      "outputs": []
    },
    {
      "cell_type": "code",
      "source": [
        "plt.figure(figsize = (6,6))\n",
        "sns.distplot(y_test-prediction)\n",
        "plt.show()"
      ],
      "metadata": {
        "colab": {
          "base_uri": "https://localhost:8080/",
          "height": 389
        },
        "id": "WoMtY5w8rdDD",
        "outputId": "e8e0dc95-12a3-44cc-f1d0-66eb6a2e073e"
      },
      "execution_count": 76,
      "outputs": [
        {
          "output_type": "display_data",
          "data": {
            "text/plain": [
              "<Figure size 432x432 with 1 Axes>"
            ],
            "image/png": "[encoded data removed]"
          },
          "metadata": {
            "needs_background": "light"
          }
        }
      ]
    },
    {
      "cell_type": "code",
      "source": [
        "print('MAE:', metrics.mean_absolute_error(y_test, prediction))\n",
        "print('MSE:', metrics.mean_squared_error(y_test, prediction))\n",
        "print('RMSE:', np.sqrt(metrics.mean_squared_error(y_test, prediction)))"
      ],
      "metadata": {
        "colab": {
          "base_uri": "https://localhost:8080/"
        },
        "id": "Ycoahzv0rgZE",
        "outputId": "c40f573d-5b8c-470b-f470-0605e8b122ab"
      },
      "execution_count": 77,
      "outputs": [
        {
          "output_type": "stream",
          "name": "stdout",
          "text": [
            "MAE: 1.0372402834375896\n",
            "MSE: 1.6183714002884606\n",
            "RMSE: 1.272152270873444\n"
          ]
        }
      ]
    },
    {
      "cell_type": "code",
      "source": [
        "file = open('RidgeRegressionLog.pkl', 'wb')\n",
        "pickle.dump(ridgeModelChosen, file)"
      ],
      "metadata": {
        "id": "9P2HaHjplab7"
      },
      "execution_count": 78,
      "outputs": []
    },
    {
      "cell_type": "markdown",
      "source": [
        "### Lasso "
      ],
      "metadata": {
        "id": "vSP_SEzh3A2H"
      }
    },
    {
      "cell_type": "code",
      "source": [
        "error = []\n",
        "\n",
        "alpha = []\n",
        " \n",
        "for i in range(1, 10):\n",
        "    lassoModel = Lasso(alpha = i * 0.25, tol = 0.0925)\n",
        "    lassoModel.fit(x_train, y_train)\n",
        "    val_prediction = lassoModel.predict(x_val)\n",
        "    scores = round(metrics.mean_absolute_error(y_val, val_prediction), 3)\n",
        "    error.append(scores)\n",
        "    alpha.append(i * 0.05)\n",
        "\n",
        "for i in range(len(error)) : \n",
        "    print(f'aplha = {alpha[i]} --> RMSE = {error[i]}')"
      ],
      "metadata": {
        "colab": {
          "base_uri": "https://localhost:8080/"
        },
        "id": "fB-On7wVrja5",
        "outputId": "72fb3e54-2a9b-425a-80cf-13874d1e1c05"
      },
      "execution_count": 79,
      "outputs": [
        {
          "output_type": "stream",
          "name": "stdout",
          "text": [
            "aplha = 0.05 --> RMSE = 1.041\n",
            "aplha = 0.1 --> RMSE = 1.041\n",
            "aplha = 0.15000000000000002 --> RMSE = 1.041\n",
            "aplha = 0.2 --> RMSE = 1.041\n",
            "aplha = 0.25 --> RMSE = 1.041\n",
            "aplha = 0.30000000000000004 --> RMSE = 1.041\n",
            "aplha = 0.35000000000000003 --> RMSE = 1.041\n",
            "aplha = 0.4 --> RMSE = 1.041\n",
            "aplha = 0.45 --> RMSE = 1.041\n"
          ]
        }
      ]
    },
    {
      "cell_type": "code",
      "source": [
        "lassoModelChosen = Lasso(alpha = 0.2, tol = 0.0925)\n",
        "lassoModelChosen.fit(x_train, y_train)"
      ],
      "metadata": {
        "colab": {
          "base_uri": "https://localhost:8080/"
        },
        "id": "hP3UiFQ-3VSD",
        "outputId": "f1993d0e-a180-4a97-c94f-9b4cf325a19e"
      },
      "execution_count": 80,
      "outputs": [
        {
          "output_type": "execute_result",
          "data": {
            "text/plain": [
              "Lasso(alpha=0.2, tol=0.0925)"
            ]
          },
          "metadata": {},
          "execution_count": 80
        }
      ]
    },
    {
      "cell_type": "code",
      "source": [
        "prediction = lassoModelChosen.predict(x_test)"
      ],
      "metadata": {
        "id": "TwUuzQys3gFY"
      },
      "execution_count": 81,
      "outputs": []
    },
    {
      "cell_type": "code",
      "source": [
        "plt.figure(figsize = (6,6))\n",
        "sns.distplot(y_test-prediction)\n",
        "plt.show()"
      ],
      "metadata": {
        "colab": {
          "base_uri": "https://localhost:8080/",
          "height": 389
        },
        "id": "U0JsuVsl3jHe",
        "outputId": "f77bfd5b-b7ae-4efc-cf8f-b2645a698c07"
      },
      "execution_count": 82,
      "outputs": [
        {
          "output_type": "display_data",
          "data": {
            "text/plain": [
              "<Figure size 432x432 with 1 Axes>"
            ],
            "image/png": "[encoded data removed]"
          },
          "metadata": {
            "needs_background": "light"
          }
        }
      ]
    },
    {
      "cell_type": "code",
      "source": [
        "print('MAE:', metrics.mean_absolute_error(y_test, prediction))\n",
        "print('MSE:', metrics.mean_squared_error(y_test, prediction))\n",
        "print('RMSE:', np.sqrt(metrics.mean_squared_error(y_test, prediction)))"
      ],
      "metadata": {
        "colab": {
          "base_uri": "https://localhost:8080/"
        },
        "id": "X6Hm38fE3l5v",
        "outputId": "ffc093d8-14b8-45d4-8d34-a648a1a11745"
      },
      "execution_count": 83,
      "outputs": [
        {
          "output_type": "stream",
          "name": "stdout",
          "text": [
            "MAE: 1.0714600841815858\n",
            "MSE: 1.702806006695273\n",
            "RMSE: 1.3049160918217206\n"
          ]
        }
      ]
    },
    {
      "cell_type": "code",
      "source": [],
      "metadata": {
        "id": "sKE-fKedg4rX"
      },
      "execution_count": 83,
      "outputs": []
    },
    {
      "cell_type": "markdown",
      "source": [
        "## Without Log "
      ],
      "metadata": {
        "id": "TdWdfl3nxwnf"
      }
    },
    {
      "cell_type": "code",
      "source": [
        "file = open('model_data.pkl', 'rb')\n",
        "data = pickle.load(file)\n",
        "file.close()"
      ],
      "metadata": {
        "id": "_TOMYwsLxwnh"
      },
      "execution_count": 84,
      "outputs": []
    },
    {
      "cell_type": "code",
      "source": [
        "x_train = data['x_train']\n",
        "x_test = data['x_test']\n",
        "y_train = data['y_train']\n",
        "y_test = data['y_test']"
      ],
      "metadata": {
        "id": "0mH8M1rxxwni"
      },
      "execution_count": 85,
      "outputs": []
    },
    {
      "cell_type": "code",
      "source": [
        "max(y_train), min(y_train)"
      ],
      "metadata": {
        "colab": {
          "base_uri": "https://localhost:8080/"
        },
        "outputId": "3ac012c9-c9d1-43ee-c1bd-b73431e731b3",
        "id": "T9nZYc3bxwnj"
      },
      "execution_count": 86,
      "outputs": [
        {
          "output_type": "execute_result",
          "data": {
            "text/plain": [
              "(335000000.0, 1100000.0)"
            ]
          },
          "metadata": {},
          "execution_count": 86
        }
      ]
    },
    {
      "cell_type": "code",
      "source": [
        "x_train.shape[0] * 0.8"
      ],
      "metadata": {
        "colab": {
          "base_uri": "https://localhost:8080/"
        },
        "outputId": "c6260da4-96d5-4d98-cb1f-4f17991bb45a",
        "id": "jCSY7masxwnl"
      },
      "execution_count": 87,
      "outputs": [
        {
          "output_type": "execute_result",
          "data": {
            "text/plain": [
              "8911.2"
            ]
          },
          "metadata": {},
          "execution_count": 87
        }
      ]
    },
    {
      "cell_type": "code",
      "source": [
        "x_train_set = x_train[:8912]\n",
        "x_val = x_train[8912:]\n",
        "y_train_set = y_train[:8912]\n",
        "y_val = y_train[8912:]"
      ],
      "metadata": {
        "id": "NOW7vj-dxwnm"
      },
      "execution_count": 88,
      "outputs": []
    },
    {
      "cell_type": "markdown",
      "source": [
        "### Ridge "
      ],
      "metadata": {
        "id": "A9gOHx2hxwnn"
      }
    },
    {
      "cell_type": "code",
      "source": [
        "error = []\n",
        "\n",
        "alpha = []\n",
        " \n",
        "for i in range(1, 10):\n",
        "    ridgeModel = Ridge(alpha = i * 0.05)\n",
        "    ridgeModel.fit(x_train, y_train)\n",
        "    val_prediction = ridgeModel.predict(x_val)\n",
        "    scores = round(metrics.mean_absolute_error(y_val, val_prediction), 3)\n",
        "    error.append(scores)\n",
        "    alpha.append(i * 0.05)\n",
        "\n",
        "for i in range(len(error)) : \n",
        "    print(f'aplha = {alpha[i]} --> RMSE = {error[i]}')"
      ],
      "metadata": {
        "colab": {
          "base_uri": "https://localhost:8080/"
        },
        "outputId": "22b6c532-ef8b-4d02-ef07-6a5adb93f658",
        "id": "eqAnCb85xwno"
      },
      "execution_count": 89,
      "outputs": [
        {
          "output_type": "stream",
          "name": "stdout",
          "text": [
            "aplha = 0.05 --> RMSE = 34919921.861\n",
            "aplha = 0.1 --> RMSE = 34919924.325\n",
            "aplha = 0.15000000000000002 --> RMSE = 34919926.789\n",
            "aplha = 0.2 --> RMSE = 34919929.253\n",
            "aplha = 0.25 --> RMSE = 34919931.717\n",
            "aplha = 0.30000000000000004 --> RMSE = 34919934.18\n",
            "aplha = 0.35000000000000003 --> RMSE = 34919936.644\n",
            "aplha = 0.4 --> RMSE = 34919939.108\n",
            "aplha = 0.45 --> RMSE = 34919941.572\n"
          ]
        }
      ]
    },
    {
      "cell_type": "code",
      "source": [
        "ridgeModelChosen = Ridge(alpha = 0.05)\n",
        "ridgeModelChosen.fit(x_train, y_train)"
      ],
      "metadata": {
        "colab": {
          "base_uri": "https://localhost:8080/"
        },
        "outputId": "40620ea6-b2e7-4028-e6b7-f2df6a91befd",
        "id": "XB0psTyKxwnp"
      },
      "execution_count": 90,
      "outputs": [
        {
          "output_type": "execute_result",
          "data": {
            "text/plain": [
              "Ridge(alpha=0.05)"
            ]
          },
          "metadata": {},
          "execution_count": 90
        }
      ]
    },
    {
      "cell_type": "code",
      "source": [
        "prediction = ridgeModelChosen.predict(x_test)"
      ],
      "metadata": {
        "id": "u8ydA5eNxwnq"
      },
      "execution_count": 91,
      "outputs": []
    },
    {
      "cell_type": "code",
      "source": [
        "plt.figure(figsize = (6,6))\n",
        "sns.distplot(y_test-prediction)\n",
        "plt.show()"
      ],
      "metadata": {
        "colab": {
          "base_uri": "https://localhost:8080/",
          "height": 399
        },
        "outputId": "95e8c987-41a7-485a-fce1-5ff6c604a9b3",
        "id": "0WPbjF_0xwnr"
      },
      "execution_count": 92,
      "outputs": [
        {
          "output_type": "display_data",
          "data": {
            "text/plain": [
              "<Figure size 432x432 with 1 Axes>"
            ],
            "image/png": "[encoded data removed]"
          },
          "metadata": {
            "needs_background": "light"
          }
        }
      ]
    },
    {
      "cell_type": "code",
      "source": [
        "print('MAE:', metrics.mean_absolute_error(y_test, prediction))\n",
        "print('MSE:', metrics.mean_squared_error(y_test, prediction))\n",
        "print('RMSE:', np.sqrt(metrics.mean_squared_error(y_test, prediction)))"
      ],
      "metadata": {
        "colab": {
          "base_uri": "https://localhost:8080/"
        },
        "outputId": "3fb33bcb-239f-45c6-a599-e897eb3e8f80",
        "id": "0gG719PPxwnt"
      },
      "execution_count": 93,
      "outputs": [
        {
          "output_type": "stream",
          "name": "stdout",
          "text": [
            "MAE: 35130036.24341458\n",
            "MSE: 3068045407935916.5\n",
            "RMSE: 55389939.5913727\n"
          ]
        }
      ]
    },
    {
      "cell_type": "code",
      "source": [
        "file = open('RidgeRegression.pkl', 'wb')\n",
        "pickle.dump(ridgeModelChosen, file)"
      ],
      "metadata": {
        "id": "pPdOn02wxwnu"
      },
      "execution_count": 94,
      "outputs": []
    },
    {
      "cell_type": "markdown",
      "source": [
        "### Lasso "
      ],
      "metadata": {
        "id": "f-4gnzSOxwnv"
      }
    },
    {
      "cell_type": "code",
      "source": [
        "error = []\n",
        "\n",
        "alpha = []\n",
        " \n",
        "for i in range(1, 10):\n",
        "    lassoModel = Lasso(alpha = i * 0.25, tol = 0.0925)\n",
        "    lassoModel.fit(x_train, y_train)\n",
        "    val_prediction = lassoModel.predict(x_val)\n",
        "    scores = round(metrics.mean_absolute_error(y_val, val_prediction), 3)\n",
        "    error.append(scores)\n",
        "    alpha.append(i * 0.05)\n",
        "\n",
        "for i in range(len(error)) : \n",
        "    print(f'aplha = {alpha[i]} --> RMSE = {error[i]}')"
      ],
      "metadata": {
        "colab": {
          "base_uri": "https://localhost:8080/"
        },
        "outputId": "b24ce2ca-85be-495a-85bd-39e14bb5ec45",
        "id": "Z4I-M7qoxwn0"
      },
      "execution_count": 95,
      "outputs": [
        {
          "output_type": "stream",
          "name": "stdout",
          "text": [
            "aplha = 0.05 --> RMSE = 34919919.424\n",
            "aplha = 0.1 --> RMSE = 34919919.457\n",
            "aplha = 0.15000000000000002 --> RMSE = 34919919.491\n",
            "aplha = 0.2 --> RMSE = 34919919.525\n",
            "aplha = 0.25 --> RMSE = 34919919.558\n",
            "aplha = 0.30000000000000004 --> RMSE = 34919919.489\n",
            "aplha = 0.35000000000000003 --> RMSE = 34919919.523\n",
            "aplha = 0.4 --> RMSE = 34919919.557\n",
            "aplha = 0.45 --> RMSE = 34919919.59\n"
          ]
        }
      ]
    },
    {
      "cell_type": "code",
      "source": [
        "lassoModelChosen = Lasso(alpha = 0.2, tol = 0.0925)\n",
        "lassoModelChosen.fit(x_train, y_train)"
      ],
      "metadata": {
        "colab": {
          "base_uri": "https://localhost:8080/"
        },
        "outputId": "c32635a5-a1a9-4e94-f467-11f9d26debde",
        "id": "Sw7QS4YKxwn1"
      },
      "execution_count": 96,
      "outputs": [
        {
          "output_type": "execute_result",
          "data": {
            "text/plain": [
              "Lasso(alpha=0.2, tol=0.0925)"
            ]
          },
          "metadata": {},
          "execution_count": 96
        }
      ]
    },
    {
      "cell_type": "code",
      "source": [
        "prediction = lassoModelChosen.predict(x_test)"
      ],
      "metadata": {
        "id": "7jmsqowMxwn2"
      },
      "execution_count": 97,
      "outputs": []
    },
    {
      "cell_type": "code",
      "source": [
        "plt.figure(figsize = (6,6))\n",
        "sns.distplot(y_test-prediction)\n",
        "plt.show()"
      ],
      "metadata": {
        "colab": {
          "base_uri": "https://localhost:8080/",
          "height": 399
        },
        "outputId": "52b41437-0a89-47dd-d61c-88dd1bc11b0c",
        "id": "btFYs8B-xwn3"
      },
      "execution_count": 98,
      "outputs": [
        {
          "output_type": "display_data",
          "data": {
            "text/plain": [
              "<Figure size 432x432 with 1 Axes>"
            ],
            "image/png": "[encoded data removed]"
          },
          "metadata": {
            "needs_background": "light"
          }
        }
      ]
    },
    {
      "cell_type": "code",
      "source": [
        "print('MAE:', metrics.mean_absolute_error(y_test, prediction))\n",
        "print('MSE:', metrics.mean_squared_error(y_test, prediction))\n",
        "print('RMSE:', np.sqrt(metrics.mean_squared_error(y_test, prediction)))"
      ],
      "metadata": {
        "colab": {
          "base_uri": "https://localhost:8080/"
        },
        "outputId": "ee4dba9a-357a-4d8a-8e16-199e0f590f5d",
        "id": "Nf-TDiIjxwn4"
      },
      "execution_count": 99,
      "outputs": [
        {
          "output_type": "stream",
          "name": "stdout",
          "text": [
            "MAE: 35130034.16389051\n",
            "MSE: 3068045456054632.0\n",
            "RMSE: 55389940.02573601\n"
          ]
        }
      ]
    },
    {
      "cell_type": "code",
      "source": [],
      "metadata": {
        "id": "-LQ7g-dLxwn6"
      },
      "execution_count": 99,
      "outputs": []
    }
  ]
}