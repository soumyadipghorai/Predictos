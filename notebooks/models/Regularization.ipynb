{
  "cells": [
    {
      "cell_type": "code",
      "execution_count": 82,
      "metadata": {
        "id": "0nz40UVWlE19"
      },
      "outputs": [],
      "source": [
        "# handling data \n",
        "import numpy as np \n",
        "import pandas as pd \n",
        "\n",
        "# warnings\n",
        "import warnings\n",
        "pd.options.mode.chained_assignment = None \n",
        "warnings.filterwarnings(action=\"ignore\")\n",
        "warnings.simplefilter(action='ignore', category=FutureWarning)\n",
        "\n",
        "# visualization\n",
        "import seaborn as sns\n",
        "import plotly.express as px\n",
        "import matplotlib.pyplot as plt\n",
        "%matplotlib inline\n",
        "\n",
        "from statistics import mean\n",
        "from sklearn.linear_model import LinearRegression, Ridge, Lasso\n",
        "from sklearn.model_selection import RandomizedSearchCV\n",
        "from sklearn.model_selection import cross_val_score\n",
        "from sklearn import metrics\n",
        "\n",
        "import pickle"
      ]
    },
    {
      "cell_type": "code",
      "execution_count": 83,
      "metadata": {
        "id": "S6rLryLzlRf1"
      },
      "outputs": [],
      "source": [
        "file = open('model_data.pkl', 'rb')\n",
        "data = pickle.load(file)\n",
        "file.close()"
      ]
    },
    {
      "cell_type": "code",
      "execution_count": 84,
      "metadata": {
        "id": "RbglYKpFlRcW"
      },
      "outputs": [],
      "source": [
        "x_train = data['x_train_log']\n",
        "x_test = data['x_test_log']\n",
        "y_train = data['y_train_log']\n",
        "y_test = data['y_test_log']"
      ]
    },
    {
      "cell_type": "code",
      "execution_count": 85,
      "metadata": {
        "colab": {
          "base_uri": "https://localhost:8080/"
        },
        "id": "aaeEZ44dlRaD",
        "outputId": "892d7ddb-33ea-4083-b28d-0a6cc67a89f2"
      },
      "outputs": [
        {
          "data": {
            "text/plain": [
              "(19.62964108978934, 13.9108207377686)"
            ]
          },
          "execution_count": 85,
          "metadata": {},
          "output_type": "execute_result"
        }
      ],
      "source": [
        "max(y_train), min(y_train)"
      ]
    },
    {
      "cell_type": "code",
      "execution_count": 86,
      "metadata": {
        "colab": {
          "base_uri": "https://localhost:8080/"
        },
        "id": "Nfp2F6IRr-w7",
        "outputId": "20d2d7ee-e9d5-4317-db08-59390c19cc07"
      },
      "outputs": [
        {
          "data": {
            "text/plain": [
              "8911.2"
            ]
          },
          "execution_count": 86,
          "metadata": {},
          "output_type": "execute_result"
        }
      ],
      "source": [
        "x_train.shape[0] * 0.8"
      ]
    },
    {
      "cell_type": "code",
      "execution_count": 87,
      "metadata": {
        "id": "4GqmHSf8sH2O"
      },
      "outputs": [],
      "source": [
        "x_train_set = x_train[:8912]\n",
        "x_val = x_train[8912:]\n",
        "y_train_set = y_train[:8912]\n",
        "y_val = y_train[8912:]"
      ]
    },
    {
      "cell_type": "markdown",
      "metadata": {
        "id": "KtFvDK8c2-8H"
      },
      "source": [
        "### Ridge "
      ]
    },
    {
      "cell_type": "code",
      "execution_count": 88,
      "metadata": {
        "colab": {
          "base_uri": "https://localhost:8080/"
        },
        "id": "NxQZOpFxlRSA",
        "outputId": "75354cf2-0b12-4c74-d3f7-d89654b019e0"
      },
      "outputs": [
        {
          "name": "stdout",
          "output_type": "stream",
          "text": [
            "aplha = 0.05 --> RMSE = 1.024\n",
            "aplha = 0.1 --> RMSE = 1.024\n",
            "aplha = 0.15000000000000002 --> RMSE = 1.024\n",
            "aplha = 0.2 --> RMSE = 1.024\n",
            "aplha = 0.25 --> RMSE = 1.024\n",
            "aplha = 0.30000000000000004 --> RMSE = 1.024\n",
            "aplha = 0.35000000000000003 --> RMSE = 1.024\n",
            "aplha = 0.4 --> RMSE = 1.024\n",
            "aplha = 0.45 --> RMSE = 1.024\n"
          ]
        }
      ],
      "source": [
        "error = []\n",
        "\n",
        "alpha = []\n",
        " \n",
        "for i in range(1, 10):\n",
        "    ridgeModel = Ridge(alpha = i * 0.05)\n",
        "    ridgeModel.fit(x_train, y_train)\n",
        "    val_prediction = ridgeModel.predict(x_val)\n",
        "    scores = round(metrics.mean_absolute_error(y_val, val_prediction), 3)\n",
        "    error.append(scores)\n",
        "    alpha.append(i * 0.05)\n",
        "\n",
        "for i in range(len(error)) : \n",
        "    print(f'aplha = {alpha[i]} --> RMSE = {error[i]}')"
      ]
    },
    {
      "cell_type": "code",
      "execution_count": 89,
      "metadata": {
        "colab": {
          "base_uri": "https://localhost:8080/"
        },
        "id": "fHDBn4wHpaSK",
        "outputId": "44d5b1ae-572b-4897-8bc2-bc58f8abf595"
      },
      "outputs": [
        {
          "data": {
            "text/plain": [
              "Ridge(alpha=0.05)"
            ]
          },
          "execution_count": 89,
          "metadata": {},
          "output_type": "execute_result"
        }
      ],
      "source": [
        "ridgeModelChosen = Ridge(alpha = 0.05)\n",
        "ridgeModelChosen.fit(x_train, y_train)"
      ]
    },
    {
      "cell_type": "code",
      "execution_count": 90,
      "metadata": {
        "id": "6NBD_pakraJp"
      },
      "outputs": [],
      "source": [
        "prediction = ridgeModelChosen.predict(x_test)"
      ]
    },
    {
      "cell_type": "code",
      "execution_count": 91,
      "metadata": {
        "colab": {
          "base_uri": "https://localhost:8080/",
          "height": 389
        },
        "id": "WoMtY5w8rdDD",
        "outputId": "63202ae1-0f83-44e7-d1b5-eaf5609bad45"
      },
      "outputs": [
        {
          "data": {
            "image/png": "[encoded data removed]",
            "text/plain": [
              "<Figure size 432x432 with 1 Axes>"
            ]
          },
          "metadata": {
            "needs_background": "light"
          },
          "output_type": "display_data"
        }
      ],
      "source": [
        "plt.figure(figsize = (6,6))\n",
        "sns.distplot(y_test-prediction)\n",
        "plt.show()"
      ]
    },
    {
      "cell_type": "code",
      "execution_count": 92,
      "metadata": {
        "colab": {
          "base_uri": "https://localhost:8080/"
        },
        "id": "Ycoahzv0rgZE",
        "outputId": "47d4feb8-d8ef-4ea4-f862-9a1637180176"
      },
      "outputs": [
        {
          "name": "stdout",
          "output_type": "stream",
          "text": [
            "MAE: 1.0529367587842247\n",
            "MSE: 1.6649144235482942\n",
            "RMSE: 1.290315629428821\n"
          ]
        }
      ],
      "source": [
        "print('MAE:', metrics.mean_absolute_error(y_test, prediction))\n",
        "print('MSE:', metrics.mean_squared_error(y_test, prediction))\n",
        "print('RMSE:', np.sqrt(metrics.mean_squared_error(y_test, prediction)))"
      ]
    },
    {
      "cell_type": "code",
      "execution_count": 99,
      "metadata": {
        "id": "9P2HaHjplab7"
      },
      "outputs": [],
      "source": [
        "root = '../../data/ML_models/'\n",
        "\n",
        "file = open(root + 'RidgeRegression.pkl', 'wb')\n",
        "pickle.dump(ridgeModelChosen, file)\n",
        "file.close()"
      ]
    },
    {
      "cell_type": "markdown",
      "metadata": {
        "id": "vSP_SEzh3A2H"
      },
      "source": [
        "### Lasso "
      ]
    },
    {
      "cell_type": "code",
      "execution_count": 94,
      "metadata": {
        "colab": {
          "base_uri": "https://localhost:8080/"
        },
        "id": "fB-On7wVrja5",
        "outputId": "8656e1e0-ae5c-4261-96fa-76286fd914e5"
      },
      "outputs": [
        {
          "name": "stdout",
          "output_type": "stream",
          "text": [
            "aplha = 0.05 --> RMSE = 1.041\n",
            "aplha = 0.1 --> RMSE = 1.041\n",
            "aplha = 0.15000000000000002 --> RMSE = 1.041\n",
            "aplha = 0.2 --> RMSE = 1.041\n",
            "aplha = 0.25 --> RMSE = 1.041\n",
            "aplha = 0.30000000000000004 --> RMSE = 1.041\n",
            "aplha = 0.35000000000000003 --> RMSE = 1.041\n",
            "aplha = 0.4 --> RMSE = 1.041\n",
            "aplha = 0.45 --> RMSE = 1.041\n"
          ]
        }
      ],
      "source": [
        "error = []\n",
        "\n",
        "alpha = []\n",
        " \n",
        "for i in range(1, 10):\n",
        "    lassoModel = Lasso(alpha = i * 0.25, tol = 0.0925)\n",
        "    lassoModel.fit(x_train, y_train)\n",
        "    val_prediction = lassoModel.predict(x_val)\n",
        "    scores = round(metrics.mean_absolute_error(y_val, val_prediction), 3)\n",
        "    error.append(scores)\n",
        "    alpha.append(i * 0.05)\n",
        "\n",
        "for i in range(len(error)) : \n",
        "    print(f'aplha = {alpha[i]} --> RMSE = {error[i]}')"
      ]
    },
    {
      "cell_type": "code",
      "execution_count": 95,
      "metadata": {
        "colab": {
          "base_uri": "https://localhost:8080/"
        },
        "id": "hP3UiFQ-3VSD",
        "outputId": "59807ded-c852-49b3-c8b3-400bc51957b4"
      },
      "outputs": [
        {
          "data": {
            "text/plain": [
              "Lasso(alpha=0.2, tol=0.0925)"
            ]
          },
          "execution_count": 95,
          "metadata": {},
          "output_type": "execute_result"
        }
      ],
      "source": [
        "lassoModelChosen = Lasso(alpha = 0.2, tol = 0.0925)\n",
        "lassoModelChosen.fit(x_train, y_train)"
      ]
    },
    {
      "cell_type": "code",
      "execution_count": 96,
      "metadata": {
        "id": "TwUuzQys3gFY"
      },
      "outputs": [],
      "source": [
        "prediction = lassoModelChosen.predict(x_test)"
      ]
    },
    {
      "cell_type": "code",
      "execution_count": 97,
      "metadata": {
        "colab": {
          "base_uri": "https://localhost:8080/",
          "height": 389
        },
        "id": "U0JsuVsl3jHe",
        "outputId": "6afaf707-d4b9-4b88-acc6-4fa7e577d7cb"
      },
      "outputs": [
        {
          "data": {
            "image/png": "[encoded data removed]",
            "text/plain": [
              "<Figure size 432x432 with 1 Axes>"
            ]
          },
          "metadata": {
            "needs_background": "light"
          },
          "output_type": "display_data"
        }
      ],
      "source": [
        "plt.figure(figsize = (6,6))\n",
        "sns.distplot(y_test-prediction)\n",
        "plt.show()"
      ]
    },
    {
      "cell_type": "code",
      "execution_count": 98,
      "metadata": {
        "colab": {
          "base_uri": "https://localhost:8080/"
        },
        "id": "X6Hm38fE3l5v",
        "outputId": "827ce327-b17c-4e4a-b231-a0a7c6d75e3a"
      },
      "outputs": [
        {
          "name": "stdout",
          "output_type": "stream",
          "text": [
            "MAE: 1.0788476156794617\n",
            "MSE: 1.7258908816192773\n",
            "RMSE: 1.313731662714756\n"
          ]
        }
      ],
      "source": [
        "print('MAE:', metrics.mean_absolute_error(y_test, prediction))\n",
        "print('MSE:', metrics.mean_squared_error(y_test, prediction))\n",
        "print('RMSE:', np.sqrt(metrics.mean_squared_error(y_test, prediction)))"
      ]
    },
    {
      "cell_type": "code",
      "execution_count": 98,
      "metadata": {
        "id": "sKE-fKedg4rX"
      },
      "outputs": [],
      "source": []
    }
  ],
  "metadata": {
    "colab": {
      "provenance": []
    },
    "kernelspec": {
      "display_name": "Python 3.7.9 64-bit (microsoft store)",
      "language": "python",
      "name": "python3"
    },
    "language_info": {
      "name": "python",
      "version": "3.7.9"
    },
    "vscode": {
      "interpreter": {
        "hash": "49deadb19ec3199b19c2e07bd674ab90037832d683175982dd3cb88bf7cb6cf2"
      }
    }
  },
  "nbformat": 4,
  "nbformat_minor": 0
}
