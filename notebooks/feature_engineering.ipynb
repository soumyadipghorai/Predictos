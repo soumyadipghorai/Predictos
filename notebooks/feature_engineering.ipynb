{
 "cells": [
  {
   "cell_type": "code",
   "execution_count": 54,
   "metadata": {},
   "outputs": [],
   "source": [
    "# handling data \n",
    "import numpy as np \n",
    "import pandas as pd \n",
    "\n",
    "# warnings\n",
    "import warnings\n",
    "pd.options.mode.chained_assignment = None \n",
    "warnings.filterwarnings(action=\"ignore\")\n",
    "warnings.simplefilter(action='ignore', category=FutureWarning)\n",
    "\n",
    "# visualization\n",
    "import seaborn as sns\n",
    "\n",
    "# machine learning \n",
    "from sklearn import preprocessing\n",
    "from sklearn.model_selection import train_test_split\n",
    "from sklearn.preprocessing import StandardScaler\n",
    "\n",
    "import pickle"
   ]
  },
  {
   "cell_type": "code",
   "execution_count": 55,
   "metadata": {},
   "outputs": [
    {
     "data": {
      "text/html": [
       "<div>\n",
       "<style scoped>\n",
       "    .dataframe tbody tr th:only-of-type {\n",
       "        vertical-align: middle;\n",
       "    }\n",
       "\n",
       "    .dataframe tbody tr th {\n",
       "        vertical-align: top;\n",
       "    }\n",
       "\n",
       "    .dataframe thead th {\n",
       "        text-align: right;\n",
       "    }\n",
       "</style>\n",
       "<table border=\"1\" class=\"dataframe\">\n",
       "  <thead>\n",
       "    <tr style=\"text-align: right;\">\n",
       "      <th></th>\n",
       "      <th>Name</th>\n",
       "      <th>networth</th>\n",
       "      <th>category</th>\n",
       "      <th>gender</th>\n",
       "      <th>profile_pic</th>\n",
       "      <th>age</th>\n",
       "      <th>DOB</th>\n",
       "      <th>nationality</th>\n",
       "      <th>education</th>\n",
       "      <th>marital_status</th>\n",
       "      <th>source_of_wealth</th>\n",
       "      <th>birth_place</th>\n",
       "      <th>personal_details</th>\n",
       "      <th>profile_link</th>\n",
       "      <th>Degree</th>\n",
       "      <th>age_group</th>\n",
       "      <th>log_networth</th>\n",
       "    </tr>\n",
       "  </thead>\n",
       "  <tbody>\n",
       "    <tr>\n",
       "      <th>0</th>\n",
       "      <td>Chad Hurley</td>\n",
       "      <td>335000000.0</td>\n",
       "      <td>Business</td>\n",
       "      <td>Male</td>\n",
       "      <td>https://static1.therichestimages.com/wordpress...</td>\n",
       "      <td>44.0</td>\n",
       "      <td>January 24, 1977</td>\n",
       "      <td>United States</td>\n",
       "      <td>Indiana University of Pennsylvania, Twin Valle...</td>\n",
       "      <td>Married</td>\n",
       "      <td>YouTube, MixBit, Internet</td>\n",
       "      <td>Reading, Pennsylvania, United States</td>\n",
       "      <td>American born Chad Hurley has an estimated net...</td>\n",
       "      <td>https://www.therichest.com/celebnetworth/celeb...</td>\n",
       "      <td>Post Graduate</td>\n",
       "      <td>2</td>\n",
       "      <td>19.629641</td>\n",
       "    </tr>\n",
       "    <tr>\n",
       "      <th>1</th>\n",
       "      <td>Kit Crawford</td>\n",
       "      <td>330000000.0</td>\n",
       "      <td>Business</td>\n",
       "      <td>Female</td>\n",
       "      <td>https://static1.therichestimages.com/wordpress...</td>\n",
       "      <td>34.0</td>\n",
       "      <td>NaN</td>\n",
       "      <td>United States</td>\n",
       "      <td>Sonoma State University, Ohlone College</td>\n",
       "      <td>Married</td>\n",
       "      <td>Winery</td>\n",
       "      <td>United States</td>\n",
       "      <td>Kit Crawford is an American-Canadian entrepren...</td>\n",
       "      <td>https://www.therichest.com/celebnetworth/celeb...</td>\n",
       "      <td>high school</td>\n",
       "      <td>2</td>\n",
       "      <td>19.614603</td>\n",
       "    </tr>\n",
       "    <tr>\n",
       "      <th>2</th>\n",
       "      <td>Alisa Moussaieff</td>\n",
       "      <td>330000000.0</td>\n",
       "      <td>Business</td>\n",
       "      <td>Female</td>\n",
       "      <td>https://static1.therichestimages.com/wordpress...</td>\n",
       "      <td>91.0</td>\n",
       "      <td>August 13, 1929</td>\n",
       "      <td>Israel</td>\n",
       "      <td>University of New South Wales</td>\n",
       "      <td>Married</td>\n",
       "      <td>Retail (Jewellery)</td>\n",
       "      <td>Wien</td>\n",
       "      <td>With boutiques on London's Bond Street and in ...</td>\n",
       "      <td>https://www.therichest.com/celebnetworth/celeb...</td>\n",
       "      <td>Graduate</td>\n",
       "      <td>4</td>\n",
       "      <td>19.614603</td>\n",
       "    </tr>\n",
       "    <tr>\n",
       "      <th>3</th>\n",
       "      <td>Brian Souter</td>\n",
       "      <td>328000000.0</td>\n",
       "      <td>Business</td>\n",
       "      <td>Male</td>\n",
       "      <td>https://static1.therichestimages.com/wordpress...</td>\n",
       "      <td>66.0</td>\n",
       "      <td>5 May 1954</td>\n",
       "      <td>United Kingdom</td>\n",
       "      <td>Abertay University</td>\n",
       "      <td>Married</td>\n",
       "      <td>Business (Souter Investments Limited)</td>\n",
       "      <td>Perth, United Kingdom</td>\n",
       "      <td>Sir Brian Souter is a Scottish businessman wit...</td>\n",
       "      <td>https://www.therichest.com/celebnetworth/celeb...</td>\n",
       "      <td>Post Graduate</td>\n",
       "      <td>3</td>\n",
       "      <td>19.608524</td>\n",
       "    </tr>\n",
       "    <tr>\n",
       "      <th>4</th>\n",
       "      <td>Joe Lacob</td>\n",
       "      <td>325000000.0</td>\n",
       "      <td>Business</td>\n",
       "      <td>Male</td>\n",
       "      <td>https://static1.therichestimages.com/wordpress...</td>\n",
       "      <td>34.0</td>\n",
       "      <td>NaN</td>\n",
       "      <td>United States</td>\n",
       "      <td>University of California, Irvine, University o...</td>\n",
       "      <td>Married</td>\n",
       "      <td>Kleiner Perkins Caufield &amp; Byers and The Golde...</td>\n",
       "      <td>United States</td>\n",
       "      <td>Joseph Lacob is a partner at Kleiner Perkins C...</td>\n",
       "      <td>https://www.therichest.com/celebnetworth/celeb...</td>\n",
       "      <td>high school</td>\n",
       "      <td>2</td>\n",
       "      <td>19.599336</td>\n",
       "    </tr>\n",
       "  </tbody>\n",
       "</table>\n",
       "</div>"
      ],
      "text/plain": [
       "               Name     networth  category  gender  \\\n",
       "0       Chad Hurley  335000000.0  Business    Male   \n",
       "1      Kit Crawford  330000000.0  Business  Female   \n",
       "2  Alisa Moussaieff  330000000.0  Business  Female   \n",
       "3      Brian Souter  328000000.0  Business    Male   \n",
       "4         Joe Lacob  325000000.0  Business    Male   \n",
       "\n",
       "                                         profile_pic   age               DOB  \\\n",
       "0  https://static1.therichestimages.com/wordpress...  44.0  January 24, 1977   \n",
       "1  https://static1.therichestimages.com/wordpress...  34.0               NaN   \n",
       "2  https://static1.therichestimages.com/wordpress...  91.0   August 13, 1929   \n",
       "3  https://static1.therichestimages.com/wordpress...  66.0        5 May 1954   \n",
       "4  https://static1.therichestimages.com/wordpress...  34.0               NaN   \n",
       "\n",
       "      nationality                                          education  \\\n",
       "0   United States  Indiana University of Pennsylvania, Twin Valle...   \n",
       "1   United States            Sonoma State University, Ohlone College   \n",
       "2          Israel                      University of New South Wales   \n",
       "3  United Kingdom                                 Abertay University   \n",
       "4   United States  University of California, Irvine, University o...   \n",
       "\n",
       "  marital_status                                   source_of_wealth  \\\n",
       "0        Married                          YouTube, MixBit, Internet   \n",
       "1        Married                                             Winery   \n",
       "2        Married                                 Retail (Jewellery)   \n",
       "3        Married              Business (Souter Investments Limited)   \n",
       "4        Married  Kleiner Perkins Caufield & Byers and The Golde...   \n",
       "\n",
       "                            birth_place  \\\n",
       "0  Reading, Pennsylvania, United States   \n",
       "1                         United States   \n",
       "2                                  Wien   \n",
       "3                 Perth, United Kingdom   \n",
       "4                         United States   \n",
       "\n",
       "                                    personal_details  \\\n",
       "0  American born Chad Hurley has an estimated net...   \n",
       "1  Kit Crawford is an American-Canadian entrepren...   \n",
       "2  With boutiques on London's Bond Street and in ...   \n",
       "3  Sir Brian Souter is a Scottish businessman wit...   \n",
       "4  Joseph Lacob is a partner at Kleiner Perkins C...   \n",
       "\n",
       "                                        profile_link         Degree  \\\n",
       "0  https://www.therichest.com/celebnetworth/celeb...  Post Graduate   \n",
       "1  https://www.therichest.com/celebnetworth/celeb...    high school   \n",
       "2  https://www.therichest.com/celebnetworth/celeb...       Graduate   \n",
       "3  https://www.therichest.com/celebnetworth/celeb...  Post Graduate   \n",
       "4  https://www.therichest.com/celebnetworth/celeb...    high school   \n",
       "\n",
       "   age_group  log_networth  \n",
       "0          2     19.629641  \n",
       "1          2     19.614603  \n",
       "2          4     19.614603  \n",
       "3          3     19.608524  \n",
       "4          2     19.599336  "
      ]
     },
     "execution_count": 55,
     "metadata": {},
     "output_type": "execute_result"
    }
   ],
   "source": [
    "df = pd.read_csv('../data/model_data.csv')\n",
    "df.head()"
   ]
  },
  {
   "cell_type": "markdown",
   "metadata": {},
   "source": [
    "### Encoding : "
   ]
  },
  {
   "cell_type": "code",
   "execution_count": 56,
   "metadata": {},
   "outputs": [],
   "source": [
    "label_encoder = preprocessing.LabelEncoder()\n",
    "\n",
    "df['gender']= label_encoder.fit_transform(df['gender'])\n",
    "df['category']= label_encoder.fit_transform(df['category'])\n",
    "df['Degree']= label_encoder.fit_transform(df['Degree'])\n",
    "df['marital_status']= label_encoder.fit_transform(df['marital_status'])\n",
    "df['nationality']= label_encoder.fit_transform(df['nationality'])"
   ]
  },
  {
   "cell_type": "code",
   "execution_count": 57,
   "metadata": {},
   "outputs": [],
   "source": [
    "X = df[['gender', 'category', 'Degree', 'marital_status', 'nationality', 'age']]\n",
    "y_log = df['log_networth']\n",
    "y = df['networth']"
   ]
  },
  {
   "cell_type": "markdown",
   "metadata": {},
   "source": [
    "### Correlation : "
   ]
  },
  {
   "cell_type": "code",
   "execution_count": 58,
   "metadata": {},
   "outputs": [
    {
     "data": {
      "image/png": "[encoded data removed]",
      "text/plain": [
       "<Figure size 432x288 with 2 Axes>"
      ]
     },
     "metadata": {
      "needs_background": "light"
     },
     "output_type": "display_data"
    }
   ],
   "source": [
    "sns.heatmap(X.corr(), annot= True);"
   ]
  },
  {
   "cell_type": "markdown",
   "metadata": {},
   "source": [
    "### Feature importance"
   ]
  },
  {
   "cell_type": "code",
   "execution_count": 59,
   "metadata": {},
   "outputs": [
    {
     "name": "stdout",
     "output_type": "stream",
     "text": [
      "[0.04375638 0.46516623 0.06412904 0.12539925 0.3015491 ]\n"
     ]
    }
   ],
   "source": [
    "model = ExtraTreesRegressor()\n",
    "model.fit(X,y_log)\n",
    "print(model.feature_importances_)"
   ]
  },
  {
   "cell_type": "code",
   "execution_count": 60,
   "metadata": {},
   "outputs": [
    {
     "data": {
      "image/png": "[encoded data removed]",
      "text/plain": [
       "<Figure size 432x288 with 1 Axes>"
      ]
     },
     "metadata": {
      "needs_background": "light"
     },
     "output_type": "display_data"
    }
   ],
   "source": [
    "feature_importances = pd.Series(model.feature_importances_, index = X.columns)\n",
    "feature_importances.plot(kind='bar')\n",
    "plt.show();"
   ]
  },
  {
   "cell_type": "code",
   "execution_count": 61,
   "metadata": {},
   "outputs": [],
   "source": [
    "scaler = StandardScaler()\n",
    "x_scaled = scaler.fit_transform(X)"
   ]
  },
  {
   "cell_type": "markdown",
   "metadata": {},
   "source": [
    "### Train test split "
   ]
  },
  {
   "cell_type": "code",
   "execution_count": 62,
   "metadata": {},
   "outputs": [],
   "source": [
    "x_train, x_test, y_train, y_test = train_test_split(\n",
    "    x_scaled, y, test_size=0.2, random_state=42)"
   ]
  },
  {
   "cell_type": "code",
   "execution_count": 63,
   "metadata": {},
   "outputs": [],
   "source": [
    "x_train_log, x_test_log, y_train_log, y_test_log = train_test_split(\n",
    "    x_scaled, y_log, test_size=0.2, random_state=42)"
   ]
  },
  {
   "cell_type": "code",
   "execution_count": 64,
   "metadata": {},
   "outputs": [],
   "source": [
    "data = {}\n",
    "\n",
    "data['x_train'] = x_train \n",
    "data['x_test'] = x_test\n",
    "data['y_train'] = y_train \n",
    "data['y_test'] = y_test\n",
    "\n",
    "data['x_train_log'] = x_train_log \n",
    "data['x_test_log'] = x_test_log\n",
    "data['y_train_log'] = y_train_log \n",
    "data['y_test_log'] = y_test_log\n",
    "\n",
    "data['x_feature'] = list(X.columns)\n",
    "data['y_feature'] = 'networth'"
   ]
  },
  {
   "cell_type": "code",
   "execution_count": 65,
   "metadata": {},
   "outputs": [],
   "source": [
    "root = '../data/ML_models/'\n",
    "\n",
    "file = open(root+'model_data.pkl', 'wb')\n",
    "pickle.dump(data, file)\n",
    "file.close()\n",
    "\n",
    "scaler_file = open(root+'StandardScaler.pkl', 'wb')\n",
    "pickle.dump(scalar, scaler_file)\n",
    "scaler_file.close()"
   ]
  },
  {
   "cell_type": "code",
   "execution_count": null,
   "metadata": {},
   "outputs": [],
   "source": []
  },
  {
   "cell_type": "code",
   "execution_count": null,
   "metadata": {},
   "outputs": [],
   "source": []
  }
 ],
 "metadata": {
  "kernelspec": {
   "display_name": "Python 3.7.9 64-bit (windows store)",
   "language": "python",
   "name": "python3"
  },
  "language_info": {
   "codemirror_mode": {
    "name": "ipython",
    "version": 3
   },
   "file_extension": ".py",
   "mimetype": "text/x-python",
   "name": "python",
   "nbconvert_exporter": "python",
   "pygments_lexer": "ipython3",
   "version": "3.7.9"
  },
  "orig_nbformat": 4,
  "vscode": {
   "interpreter": {
    "hash": "49deadb19ec3199b19c2e07bd674ab90037832d683175982dd3cb88bf7cb6cf2"
   }
  }
 },
 "nbformat": 4,
 "nbformat_minor": 2
}
