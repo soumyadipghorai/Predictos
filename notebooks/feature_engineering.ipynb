{
 "cells": [
  {
   "cell_type": "code",
   "execution_count": 36,
   "metadata": {},
   "outputs": [],
   "source": [
    "# handling data \n",
    "import os\n",
    "import numpy as np \n",
    "import pandas as pd \n",
    "import random\n",
    "import gender_guesser.detector as gender\n",
    "\n",
    "# warnings\n",
    "import warnings\n",
    "pd.options.mode.chained_assignment = None \n",
    "warnings.filterwarnings(action=\"ignore\")\n",
    "warnings.simplefilter(action='ignore', category=FutureWarning)\n",
    "\n",
    "# visualization\n",
    "import seaborn as sns\n",
    "import plotly.express as px\n",
    "import plotly.graph_objects as go\n",
    "import matplotlib.pyplot as plt\n",
    "# %matplotlib inline\n",
    "\n",
    "# machine learning \n",
    "from sklearn import preprocessing\n",
    "from sklearn.model_selection import train_test_split\n",
    "from sklearn.preprocessing import StandardScaler\n",
    "\n",
    "from sklearn.svm import SVR\n",
    "from sklearn.linear_model import LinearRegression\n",
    "from sklearn.preprocessing import PolynomialFeatures\n",
    "from sklearn.tree import DecisionTreeRegressor\n",
    "from sklearn.ensemble import RandomForestRegressor\n",
    "from sklearn.model_selection import RandomizedSearchCV\n",
    "from sklearn.neighbors import KNeighborsRegressor\n",
    "from sklearn.ensemble import ExtraTreesRegressor\n",
    "\n",
    "from sklearn import ensemble\n",
    "from sklearn import metrics\n",
    "\n",
    "import pickle"
   ]
  },
  {
   "cell_type": "code",
   "execution_count": 37,
   "metadata": {},
   "outputs": [
    {
     "data": {
      "text/html": [
       "<div>\n",
       "<style scoped>\n",
       "    .dataframe tbody tr th:only-of-type {\n",
       "        vertical-align: middle;\n",
       "    }\n",
       "\n",
       "    .dataframe tbody tr th {\n",
       "        vertical-align: top;\n",
       "    }\n",
       "\n",
       "    .dataframe thead th {\n",
       "        text-align: right;\n",
       "    }\n",
       "</style>\n",
       "<table border=\"1\" class=\"dataframe\">\n",
       "  <thead>\n",
       "    <tr style=\"text-align: right;\">\n",
       "      <th></th>\n",
       "      <th>Name</th>\n",
       "      <th>networth</th>\n",
       "      <th>category</th>\n",
       "      <th>gender</th>\n",
       "      <th>profile_pic</th>\n",
       "      <th>age</th>\n",
       "      <th>DOB</th>\n",
       "      <th>nationality</th>\n",
       "      <th>education</th>\n",
       "      <th>marital_status</th>\n",
       "      <th>source_of_wealth</th>\n",
       "      <th>birth_place</th>\n",
       "      <th>personal_details</th>\n",
       "      <th>profile_link</th>\n",
       "      <th>Degree</th>\n",
       "      <th>age_group</th>\n",
       "    </tr>\n",
       "  </thead>\n",
       "  <tbody>\n",
       "    <tr>\n",
       "      <th>0</th>\n",
       "      <td>Diana Ballinger</td>\n",
       "      <td>87000000.0</td>\n",
       "      <td>Business</td>\n",
       "      <td>Female</td>\n",
       "      <td>https://static1.therichestimages.com/wordpress...</td>\n",
       "      <td>34.0</td>\n",
       "      <td>NaN</td>\n",
       "      <td>United Kingdom</td>\n",
       "      <td>Guildhall School of Music and Drama</td>\n",
       "      <td>Widow</td>\n",
       "      <td>Business (Transport - Go-Ahead)</td>\n",
       "      <td>United Kingdom</td>\n",
       "      <td>Ballinger's late husband Martin led a manageme...</td>\n",
       "      <td>https://www.therichest.com/celebnetworth/celeb...</td>\n",
       "      <td>Post Graduate</td>\n",
       "      <td>2</td>\n",
       "    </tr>\n",
       "    <tr>\n",
       "      <th>1</th>\n",
       "      <td>Elizabeth Tompkins</td>\n",
       "      <td>87000000.0</td>\n",
       "      <td>Business</td>\n",
       "      <td>Male</td>\n",
       "      <td>https://static1.therichestimages.com/wordpress...</td>\n",
       "      <td>34.0</td>\n",
       "      <td>NaN</td>\n",
       "      <td>United Kingdom</td>\n",
       "      <td>Guildhall School of Music and Drama</td>\n",
       "      <td>Married</td>\n",
       "      <td>Business</td>\n",
       "      <td>United Kingdom</td>\n",
       "      <td>The widow of one of Britain’s most successful ...</td>\n",
       "      <td>https://www.therichest.com/celebnetworth/celeb...</td>\n",
       "      <td>high school</td>\n",
       "      <td>2</td>\n",
       "    </tr>\n",
       "    <tr>\n",
       "      <th>2</th>\n",
       "      <td>Christian Louboutin</td>\n",
       "      <td>85000000.0</td>\n",
       "      <td>Business</td>\n",
       "      <td>Male</td>\n",
       "      <td>https://static1.therichestimages.com/wordpress...</td>\n",
       "      <td>57.0</td>\n",
       "      <td>January 7, 1963</td>\n",
       "      <td>France</td>\n",
       "      <td>BA Architecture - Sorbonne</td>\n",
       "      <td>Married</td>\n",
       "      <td>Fashion and Design</td>\n",
       "      <td>Paris, France</td>\n",
       "      <td>French footwear designer Christian Louboutin h...</td>\n",
       "      <td>https://www.therichest.com/celebnetworth/celeb...</td>\n",
       "      <td>high school</td>\n",
       "      <td>2</td>\n",
       "    </tr>\n",
       "    <tr>\n",
       "      <th>3</th>\n",
       "      <td>Robert Iger</td>\n",
       "      <td>85000000.0</td>\n",
       "      <td>Business</td>\n",
       "      <td>Male</td>\n",
       "      <td>https://static1.therichestimages.com/wordpress...</td>\n",
       "      <td>70.0</td>\n",
       "      <td>February 19, 1951</td>\n",
       "      <td>United States</td>\n",
       "      <td>Ithaca College</td>\n",
       "      <td>Married</td>\n",
       "      <td>The Walt Disney Company</td>\n",
       "      <td>Oceanside, New York</td>\n",
       "      <td>American entrepreneur Robert Iger is the Chair...</td>\n",
       "      <td>https://www.therichest.com/celebnetworth/celeb...</td>\n",
       "      <td>high school</td>\n",
       "      <td>3</td>\n",
       "    </tr>\n",
       "    <tr>\n",
       "      <th>4</th>\n",
       "      <td>Nigel Page and Justine Laycock</td>\n",
       "      <td>84000000.0</td>\n",
       "      <td>Business</td>\n",
       "      <td>Male</td>\n",
       "      <td>https://static1.therichestimages.com/wordpress...</td>\n",
       "      <td>34.0</td>\n",
       "      <td>NaN</td>\n",
       "      <td>United Kingdom</td>\n",
       "      <td>Guildhall School of Music and Drama</td>\n",
       "      <td>Divorced</td>\n",
       "      <td>Lottery</td>\n",
       "      <td>United Kingdom</td>\n",
       "      <td>Nigel Page and Justine Laycock became Britain’...</td>\n",
       "      <td>https://www.therichest.com/celebnetworth/celeb...</td>\n",
       "      <td>Post Graduate</td>\n",
       "      <td>2</td>\n",
       "    </tr>\n",
       "  </tbody>\n",
       "</table>\n",
       "</div>"
      ],
      "text/plain": [
       "                             Name    networth  category  gender  \\\n",
       "0                 Diana Ballinger  87000000.0  Business  Female   \n",
       "1              Elizabeth Tompkins  87000000.0  Business    Male   \n",
       "2             Christian Louboutin  85000000.0  Business    Male   \n",
       "3                     Robert Iger  85000000.0  Business    Male   \n",
       "4  Nigel Page and Justine Laycock  84000000.0  Business    Male   \n",
       "\n",
       "                                         profile_pic   age                DOB  \\\n",
       "0  https://static1.therichestimages.com/wordpress...  34.0                NaN   \n",
       "1  https://static1.therichestimages.com/wordpress...  34.0                NaN   \n",
       "2  https://static1.therichestimages.com/wordpress...  57.0    January 7, 1963   \n",
       "3  https://static1.therichestimages.com/wordpress...  70.0  February 19, 1951   \n",
       "4  https://static1.therichestimages.com/wordpress...  34.0                NaN   \n",
       "\n",
       "      nationality                            education marital_status  \\\n",
       "0  United Kingdom  Guildhall School of Music and Drama          Widow   \n",
       "1  United Kingdom  Guildhall School of Music and Drama        Married   \n",
       "2          France           BA Architecture - Sorbonne        Married   \n",
       "3   United States                       Ithaca College        Married   \n",
       "4  United Kingdom  Guildhall School of Music and Drama       Divorced   \n",
       "\n",
       "                  source_of_wealth          birth_place  \\\n",
       "0  Business (Transport - Go-Ahead)       United Kingdom   \n",
       "1                         Business       United Kingdom   \n",
       "2               Fashion and Design        Paris, France   \n",
       "3          The Walt Disney Company  Oceanside, New York   \n",
       "4                          Lottery       United Kingdom   \n",
       "\n",
       "                                    personal_details  \\\n",
       "0  Ballinger's late husband Martin led a manageme...   \n",
       "1  The widow of one of Britain’s most successful ...   \n",
       "2  French footwear designer Christian Louboutin h...   \n",
       "3  American entrepreneur Robert Iger is the Chair...   \n",
       "4  Nigel Page and Justine Laycock became Britain’...   \n",
       "\n",
       "                                        profile_link         Degree  age_group  \n",
       "0  https://www.therichest.com/celebnetworth/celeb...  Post Graduate          2  \n",
       "1  https://www.therichest.com/celebnetworth/celeb...    high school          2  \n",
       "2  https://www.therichest.com/celebnetworth/celeb...    high school          2  \n",
       "3  https://www.therichest.com/celebnetworth/celeb...    high school          3  \n",
       "4  https://www.therichest.com/celebnetworth/celeb...  Post Graduate          2  "
      ]
     },
     "execution_count": 37,
     "metadata": {},
     "output_type": "execute_result"
    }
   ],
   "source": [
    "df = pd.read_csv('../data/model_data.csv')\n",
    "df.head()"
   ]
  },
  {
   "cell_type": "markdown",
   "metadata": {},
   "source": [
    "### Encoding : "
   ]
  },
  {
   "cell_type": "code",
   "execution_count": 38,
   "metadata": {},
   "outputs": [],
   "source": [
    "label_encoder = preprocessing.LabelEncoder()\n",
    "\n",
    "df['gender']= label_encoder.fit_transform(df['gender'])\n",
    "df['category']= label_encoder.fit_transform(df['category'])\n",
    "df['Degree']= label_encoder.fit_transform(df['Degree'])\n",
    "df['marital_status']= label_encoder.fit_transform(df['marital_status'])\n",
    "df['nationality']= label_encoder.fit_transform(df['nationality'])"
   ]
  },
  {
   "cell_type": "code",
   "execution_count": 39,
   "metadata": {},
   "outputs": [],
   "source": [
    "X = df[['gender', 'category', 'Degree', 'marital_status', 'nationality']]\n",
    "y = df['networth']"
   ]
  },
  {
   "cell_type": "markdown",
   "metadata": {},
   "source": [
    "### Correlation : "
   ]
  },
  {
   "cell_type": "code",
   "execution_count": 40,
   "metadata": {},
   "outputs": [
    {
     "data": {
      "image/png": "[encoded data removed]",
      "text/plain": [
       "<Figure size 432x288 with 2 Axes>"
      ]
     },
     "metadata": {
      "needs_background": "light"
     },
     "output_type": "display_data"
    }
   ],
   "source": [
    "sns.heatmap(X.corr(), annot= True);"
   ]
  },
  {
   "cell_type": "markdown",
   "metadata": {},
   "source": [
    "### Feature importance"
   ]
  },
  {
   "cell_type": "code",
   "execution_count": 41,
   "metadata": {},
   "outputs": [
    {
     "name": "stdout",
     "output_type": "stream",
     "text": [
      "[0.06901753 0.23220085 0.10225852 0.17076476 0.42575835]\n"
     ]
    }
   ],
   "source": [
    "model = ExtraTreesRegressor()\n",
    "model.fit(X,y)\n",
    "print(model.feature_importances_)"
   ]
  },
  {
   "cell_type": "code",
   "execution_count": 42,
   "metadata": {},
   "outputs": [
    {
     "data": {
      "image/png": "[encoded data removed]",
      "text/plain": [
       "<Figure size 432x288 with 1 Axes>"
      ]
     },
     "metadata": {
      "needs_background": "light"
     },
     "output_type": "display_data"
    }
   ],
   "source": [
    "feature_importances = pd.Series(model.feature_importances_, index = X.columns)\n",
    "feature_importances.plot(kind='bar')\n",
    "plt.show();"
   ]
  },
  {
   "cell_type": "code",
   "execution_count": 49,
   "metadata": {},
   "outputs": [],
   "source": [
    "scalar = StandardScaler()\n",
    "x_scaled = scalar.fit_transform(X)"
   ]
  },
  {
   "cell_type": "markdown",
   "metadata": {},
   "source": [
    "### Train test split "
   ]
  },
  {
   "cell_type": "code",
   "execution_count": 45,
   "metadata": {},
   "outputs": [],
   "source": [
    "x_train, x_test, y_train, y_test = train_test_split(\n",
    "    x_scaled, y, test_size=0.2, random_state=42)"
   ]
  },
  {
   "cell_type": "code",
   "execution_count": 50,
   "metadata": {},
   "outputs": [],
   "source": [
    "data = {}\n",
    "data['x_train'] = x_train \n",
    "data['x_test'] = x_test\n",
    "data['y_train'] = y_train \n",
    "data['y_test'] = y_test\n",
    "data['scalar_mean'] = scalar.mean_\n",
    "data['scalar_sd'] = scalar.scale_"
   ]
  },
  {
   "cell_type": "code",
   "execution_count": 51,
   "metadata": {},
   "outputs": [],
   "source": [
    "root = '../data/'\n",
    "file = open(root+'model_data.pkl', 'wb')\n",
    "pickle.dump(data, file)\n",
    "file.close()"
   ]
  },
  {
   "cell_type": "code",
   "execution_count": null,
   "metadata": {},
   "outputs": [],
   "source": []
  }
 ],
 "metadata": {
  "kernelspec": {
   "display_name": "Python 3.7.9 64-bit (windows store)",
   "language": "python",
   "name": "python3"
  },
  "language_info": {
   "codemirror_mode": {
    "name": "ipython",
    "version": 3
   },
   "file_extension": ".py",
   "mimetype": "text/x-python",
   "name": "python",
   "nbconvert_exporter": "python",
   "pygments_lexer": "ipython3",
   "version": "3.7.9"
  },
  "orig_nbformat": 4,
  "vscode": {
   "interpreter": {
    "hash": "49deadb19ec3199b19c2e07bd674ab90037832d683175982dd3cb88bf7cb6cf2"
   }
  }
 },
 "nbformat": 4,
 "nbformat_minor": 2
}
