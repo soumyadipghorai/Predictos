{
 "cells": [
  {
   "cell_type": "code",
   "execution_count": 2,
   "metadata": {},
   "outputs": [],
   "source": [
    "import model_training"
   ]
  },
  {
   "cell_type": "code",
   "execution_count": 3,
   "metadata": {},
   "outputs": [
    {
     "data": {
      "text/html": [
       "<div>\n",
       "<style scoped>\n",
       "    .dataframe tbody tr th:only-of-type {\n",
       "        vertical-align: middle;\n",
       "    }\n",
       "\n",
       "    .dataframe tbody tr th {\n",
       "        vertical-align: top;\n",
       "    }\n",
       "\n",
       "    .dataframe thead th {\n",
       "        text-align: right;\n",
       "    }\n",
       "</style>\n",
       "<table border=\"1\" class=\"dataframe\">\n",
       "  <thead>\n",
       "    <tr style=\"text-align: right;\">\n",
       "      <th></th>\n",
       "      <th>Name</th>\n",
       "      <th>age</th>\n",
       "      <th>country</th>\n",
       "      <th>category</th>\n",
       "      <th>image</th>\n",
       "      <th>marital_status</th>\n",
       "      <th>Education</th>\n",
       "      <th>net_worth</th>\n",
       "      <th>Degree</th>\n",
       "      <th>first_name</th>\n",
       "      <th>Gender</th>\n",
       "    </tr>\n",
       "  </thead>\n",
       "  <tbody>\n",
       "    <tr>\n",
       "      <th>0</th>\n",
       "      <td>Mary-Kate and Ashley Olsen</td>\n",
       "      <td>34.0</td>\n",
       "      <td>United states</td>\n",
       "      <td>actresses</td>\n",
       "      <td>https://static1.therichestimages.com/wordpress...</td>\n",
       "      <td>single</td>\n",
       "      <td>Campbell Hall School and New York University</td>\n",
       "      <td>500.0</td>\n",
       "      <td>Post Graduate</td>\n",
       "      <td>Mary-Kate</td>\n",
       "      <td>others</td>\n",
       "    </tr>\n",
       "    <tr>\n",
       "      <th>1</th>\n",
       "      <td>Jennifer Aniston</td>\n",
       "      <td>52.0</td>\n",
       "      <td>United states</td>\n",
       "      <td>actresses</td>\n",
       "      <td>https://static2.therichestimages.com/wordpress...</td>\n",
       "      <td>married</td>\n",
       "      <td>Fiorello H. LaGuardia High School</td>\n",
       "      <td>300.0</td>\n",
       "      <td>high school</td>\n",
       "      <td>Jennifer</td>\n",
       "      <td>female</td>\n",
       "    </tr>\n",
       "    <tr>\n",
       "      <th>2</th>\n",
       "      <td>Julia Roberts</td>\n",
       "      <td>53.0</td>\n",
       "      <td>United states</td>\n",
       "      <td>actresses</td>\n",
       "      <td>https://static3.therichestimages.com/wordpress...</td>\n",
       "      <td>married</td>\n",
       "      <td>Smyrna's Campbell High School</td>\n",
       "      <td>250.0</td>\n",
       "      <td>high school</td>\n",
       "      <td>Julia</td>\n",
       "      <td>female</td>\n",
       "    </tr>\n",
       "    <tr>\n",
       "      <th>3</th>\n",
       "      <td>Julia Louis Dreyfus</td>\n",
       "      <td>60.0</td>\n",
       "      <td>United states</td>\n",
       "      <td>actresses</td>\n",
       "      <td>https://static2.therichestimages.com/wordpress...</td>\n",
       "      <td>married</td>\n",
       "      <td>Holton-Arms School, Northwestern University</td>\n",
       "      <td>250.0</td>\n",
       "      <td>Post Graduate</td>\n",
       "      <td>Julia</td>\n",
       "      <td>female</td>\n",
       "    </tr>\n",
       "    <tr>\n",
       "      <th>4</th>\n",
       "      <td>Sasha Alexander</td>\n",
       "      <td>46.0</td>\n",
       "      <td>United states</td>\n",
       "      <td>actresses</td>\n",
       "      <td>https://static2.therichestimages.com/wordpress...</td>\n",
       "      <td>married</td>\n",
       "      <td>University of Southern California's School of...</td>\n",
       "      <td>215.0</td>\n",
       "      <td>Post Graduate</td>\n",
       "      <td>Sasha</td>\n",
       "      <td>male</td>\n",
       "    </tr>\n",
       "  </tbody>\n",
       "</table>\n",
       "</div>"
      ],
      "text/plain": [
       "                         Name   age        country   category  \\\n",
       "0  Mary-Kate and Ashley Olsen  34.0  United states  actresses   \n",
       "1            Jennifer Aniston  52.0  United states  actresses   \n",
       "2               Julia Roberts  53.0  United states  actresses   \n",
       "3         Julia Louis Dreyfus  60.0  United states  actresses   \n",
       "4             Sasha Alexander  46.0  United states  actresses   \n",
       "\n",
       "                                               image marital_status  \\\n",
       "0  https://static1.therichestimages.com/wordpress...         single   \n",
       "1  https://static2.therichestimages.com/wordpress...        married   \n",
       "2  https://static3.therichestimages.com/wordpress...        married   \n",
       "3  https://static2.therichestimages.com/wordpress...        married   \n",
       "4  https://static2.therichestimages.com/wordpress...        married   \n",
       "\n",
       "                                           Education  net_worth  \\\n",
       "0      Campbell Hall School and New York University       500.0   \n",
       "1                  Fiorello H. LaGuardia High School      300.0   \n",
       "2                      Smyrna's Campbell High School      250.0   \n",
       "3        Holton-Arms School, Northwestern University      250.0   \n",
       "4   University of Southern California's School of...      215.0   \n",
       "\n",
       "          Degree first_name  Gender  \n",
       "0  Post Graduate  Mary-Kate  others  \n",
       "1    high school   Jennifer  female  \n",
       "2    high school      Julia  female  \n",
       "3  Post Graduate      Julia  female  \n",
       "4  Post Graduate      Sasha    male  "
      ]
     },
     "execution_count": 3,
     "metadata": {},
     "output_type": "execute_result"
    }
   ],
   "source": [
    "df = pd.read_csv('../data/preprocessed_df.csv')\n",
    "df.head()"
   ]
  },
  {
   "cell_type": "code",
   "execution_count": 4,
   "metadata": {},
   "outputs": [
    {
     "data": {
      "image/png": "[encoded data removed]",
      "text/plain": [
       "<Figure size 432x288 with 1 Axes>"
      ]
     },
     "metadata": {
      "needs_background": "light"
     },
     "output_type": "display_data"
    }
   ],
   "source": [
    "sns.histplot(df.age);"
   ]
  },
  {
   "cell_type": "code",
   "execution_count": 5,
   "metadata": {},
   "outputs": [
    {
     "data": {
      "application/vnd.plotly.v1+json": {
       "config": {
        "plotlyServerURL": "https://plot.ly"
       },
       "data": [
        {
         "alignmentgroup": "True",
         "hovertemplate": "age=%{x}<extra></extra>",
         "legendgroup": "",
         "marker": {
          "color": "#636efa"
         },
         "name": "",
         "notched": false,
         "offsetgroup": "",
         "orientation": "h",
         "showlegend": false,
         "type": "box",
         "x": [
          34,
          52,
          53,
          60,
          46,
          71,
          61,
          77,
          39,
          58,
          48,
          27,
          45,
          58,
          36,
          44,
          68,
          36,
          30,
          46,
          56,
          67,
          83,
          53,
          44,
          59,
          48,
          45,
          56,
          54,
          62,
          67,
          45,
          75,
          64,
          50,
          56,
          95,
          64,
          70,
          54,
          31,
          37,
          89,
          56,
          55,
          66,
          63,
          55,
          31,
          57,
          72,
          57,
          35,
          74,
          46,
          39,
          35,
          59,
          60,
          74,
          75,
          64,
          44,
          71,
          57,
          56,
          36,
          27,
          62,
          67,
          56,
          74,
          78,
          50,
          78,
          26,
          51,
          65,
          59,
          71,
          51,
          50,
          50,
          56,
          59,
          38,
          63,
          44,
          50,
          48,
          104,
          67,
          88,
          58,
          57,
          65,
          41,
          67,
          83,
          95,
          55,
          58,
          59,
          77,
          65,
          52,
          54,
          83,
          74,
          67,
          90,
          49,
          64,
          76,
          73,
          56,
          47,
          45,
          46,
          57,
          55,
          78,
          50,
          67,
          72,
          48,
          72,
          53,
          57,
          66,
          47,
          66,
          57,
          83,
          65,
          83,
          59,
          83,
          60,
          76,
          80,
          58,
          50,
          43,
          48,
          37,
          66,
          55,
          66,
          53,
          55,
          55,
          75,
          68,
          31,
          59,
          70,
          63,
          53,
          46,
          90,
          52,
          34,
          66,
          28,
          48,
          68,
          74,
          60,
          48,
          67,
          40,
          55,
          83,
          60,
          51,
          80,
          45,
          50,
          88,
          68,
          51,
          71,
          85,
          82,
          79,
          70,
          38,
          76,
          70,
          50,
          91,
          85,
          59,
          39,
          53,
          59,
          63,
          98,
          45,
          46,
          40,
          41,
          41,
          40,
          37,
          57,
          48,
          41,
          48,
          48,
          51,
          36,
          37,
          51,
          37,
          51,
          37,
          56,
          55,
          43,
          50,
          38,
          53,
          41,
          48,
          42,
          47,
          46,
          53,
          28,
          52,
          35,
          45,
          48,
          50,
          47,
          42,
          58,
          45,
          42,
          46,
          79,
          72,
          37,
          39,
          41,
          45,
          42,
          53,
          49,
          53,
          57,
          36,
          45,
          38,
          38,
          59,
          56,
          41,
          35,
          35,
          36,
          37,
          36,
          43,
          40,
          39,
          42,
          40,
          55,
          38,
          36,
          48,
          52,
          46,
          55,
          53,
          47,
          43,
          46,
          45,
          79,
          44,
          53,
          32,
          37,
          45,
          33,
          36,
          55,
          35,
          42,
          38,
          38,
          36,
          37,
          37,
          39,
          58,
          61,
          67,
          26,
          36,
          49,
          42,
          58,
          44,
          47,
          44,
          31,
          42,
          46,
          39,
          52,
          31,
          38,
          32,
          35,
          39,
          37,
          35,
          47,
          38,
          55,
          55,
          31,
          58,
          36,
          37,
          48,
          31,
          37,
          76,
          41,
          32,
          46,
          54,
          57,
          48,
          51,
          42,
          42,
          43,
          44,
          40,
          34,
          40,
          48,
          40,
          40,
          37,
          42,
          36,
          32,
          42,
          44,
          53,
          42,
          46,
          39,
          34,
          41,
          35,
          36,
          41,
          36,
          38,
          49,
          82,
          34,
          35,
          45,
          40,
          55,
          37,
          50,
          45,
          33,
          38,
          31,
          53,
          59,
          48,
          51,
          64,
          44,
          44,
          33,
          33,
          36,
          41,
          40,
          43,
          37,
          46,
          49,
          43,
          34,
          80,
          53,
          79,
          39,
          57,
          58,
          66,
          59,
          101,
          67,
          53,
          82,
          53,
          53,
          53,
          53,
          53,
          53,
          60,
          53,
          68,
          71,
          53,
          53,
          68,
          77,
          53,
          58,
          89,
          53,
          77,
          59,
          53,
          53,
          53,
          86,
          46,
          78,
          50,
          82,
          53,
          53,
          53,
          53,
          53,
          71,
          53,
          53,
          53,
          58,
          85,
          53,
          83,
          69,
          78,
          53,
          77,
          69,
          48,
          55,
          53,
          53,
          59,
          69,
          53,
          53,
          66,
          53,
          53,
          53,
          53,
          66,
          53,
          53,
          53,
          53,
          53,
          53,
          93,
          59,
          53,
          53,
          60,
          53,
          53,
          81,
          57,
          65,
          72,
          36,
          90,
          48,
          76,
          84,
          81,
          47,
          79,
          53,
          63,
          85,
          76,
          72,
          65,
          95,
          98,
          85,
          49,
          84,
          83,
          87,
          55,
          53,
          92,
          53,
          53,
          53,
          68,
          63,
          93,
          58,
          63,
          90,
          65,
          80,
          53,
          75,
          60,
          64,
          85,
          67,
          70,
          88,
          53,
          68,
          71,
          79,
          53,
          53,
          80,
          91,
          74,
          95,
          80,
          66,
          53,
          64,
          73,
          49,
          54,
          81,
          66,
          65,
          65,
          53,
          75,
          70,
          62,
          49,
          58,
          44,
          84,
          76,
          56,
          73,
          55,
          69,
          58,
          78,
          29,
          53,
          55,
          81,
          95,
          52,
          53,
          56,
          71,
          85,
          53,
          49,
          85,
          72,
          72,
          96,
          55,
          68,
          56,
          65,
          53,
          43,
          50,
          48,
          53,
          53,
          58,
          58,
          43,
          72,
          53,
          72,
          81,
          53,
          57,
          53,
          76,
          53,
          64,
          68,
          53,
          53,
          72,
          53,
          53,
          53,
          53,
          58,
          53,
          79,
          53,
          63,
          90,
          53,
          53,
          81,
          53,
          53,
          70,
          60,
          53,
          61,
          48,
          53,
          84,
          56,
          69,
          87,
          44,
          93,
          75,
          53,
          53,
          53,
          53,
          74,
          67,
          64,
          73,
          71,
          79,
          62,
          45,
          53,
          85,
          53,
          76,
          53,
          53,
          53,
          53,
          49,
          53,
          53,
          73,
          57,
          60,
          53,
          53,
          74,
          53,
          53,
          53,
          53,
          64,
          68,
          60,
          85,
          59,
          53,
          65,
          66,
          72,
          67,
          83,
          70,
          50,
          48,
          41,
          47,
          62,
          59,
          86,
          66,
          68,
          48,
          70,
          63,
          63,
          62,
          63,
          56,
          94,
          67,
          55,
          59,
          53,
          56,
          57,
          78,
          58,
          45,
          58,
          73,
          56,
          47,
          56,
          49,
          63,
          52,
          51,
          53,
          59,
          45,
          59,
          46,
          60,
          49,
          63,
          65,
          94,
          95,
          62,
          49,
          58,
          65,
          46,
          87,
          52,
          71,
          56,
          45,
          72,
          77,
          70,
          47,
          60,
          53,
          67,
          51,
          49,
          78,
          59,
          51,
          43,
          53,
          53,
          81,
          38,
          41,
          58,
          56,
          46,
          76,
          58,
          81,
          47,
          56,
          56,
          91,
          73,
          45,
          53,
          53,
          55,
          53,
          73,
          54,
          48,
          49,
          63,
          56,
          96,
          55,
          76,
          53,
          53,
          53,
          39,
          54,
          53,
          91,
          49,
          53,
          53,
          77,
          71,
          55,
          53,
          76,
          53,
          78,
          49,
          53,
          43,
          63,
          53,
          53,
          72,
          60,
          72,
          38,
          79,
          77,
          53,
          59,
          40,
          53,
          53,
          72,
          53,
          65,
          47,
          73,
          37,
          51,
          53,
          37,
          53,
          53,
          60,
          53,
          53,
          53,
          71,
          59,
          53,
          53,
          47,
          47,
          68,
          53,
          42,
          58,
          52,
          91,
          53,
          34,
          82,
          57,
          48,
          53,
          53,
          98,
          37,
          36,
          53,
          53,
          61,
          74,
          53,
          56,
          53,
          65,
          53,
          54,
          75,
          74,
          59,
          66,
          80,
          68,
          80,
          58,
          56,
          64,
          74,
          52,
          62,
          78,
          56,
          56,
          61,
          88,
          50,
          53,
          48,
          50,
          53,
          70,
          47,
          82,
          54,
          78,
          57,
          73,
          72,
          68,
          64,
          66,
          75,
          68,
          54,
          60,
          88,
          65,
          73,
          49,
          49,
          51,
          53,
          52,
          80,
          68,
          59,
          86,
          63,
          58,
          68,
          53,
          79,
          51,
          64,
          53,
          95,
          73,
          62,
          72,
          81,
          66,
          55,
          48,
          55,
          51,
          50,
          55,
          49,
          68,
          54,
          41,
          50,
          57,
          70,
          48,
          46,
          72,
          57,
          58,
          84,
          60,
          54,
          45,
          50,
          40,
          50,
          37,
          45,
          47,
          49,
          35,
          32,
          40,
          36,
          47,
          42,
          51,
          42,
          39,
          54,
          36,
          41,
          40,
          46,
          35,
          54,
          40,
          47,
          51,
          43,
          59,
          41,
          32,
          40,
          51,
          49,
          39,
          35,
          49,
          37,
          38,
          40,
          44,
          42,
          39,
          49,
          73,
          34,
          46,
          37,
          48,
          51,
          33,
          36,
          34,
          34,
          40,
          43,
          47,
          48,
          46,
          42,
          35,
          35,
          34,
          34,
          35,
          36,
          34,
          32,
          55,
          31,
          32,
          34,
          47,
          37,
          44,
          59,
          36,
          47,
          47,
          35,
          46,
          42,
          44,
          43,
          29,
          40,
          29,
          45,
          28,
          36,
          30,
          38,
          29,
          41,
          39,
          28,
          87,
          30,
          62,
          46,
          58,
          39,
          36,
          80,
          61,
          48,
          40,
          55,
          41,
          36,
          57,
          47,
          67,
          39,
          47,
          47,
          50,
          71,
          56,
          54,
          86,
          50,
          43,
          40,
          38,
          42,
          47,
          39,
          55,
          39,
          25,
          58,
          35,
          47,
          35,
          65,
          44,
          53,
          73,
          32,
          28,
          38,
          41,
          28,
          61,
          64,
          36,
          31,
          71,
          46,
          47,
          42,
          36,
          37,
          55,
          46,
          44,
          27,
          41,
          52,
          44,
          41,
          48,
          37,
          64,
          52,
          47,
          55,
          25,
          57,
          60,
          52,
          53,
          50,
          35,
          33,
          37,
          40,
          24,
          31,
          33,
          55,
          23,
          31,
          46,
          34,
          36,
          34,
          51,
          34,
          37,
          32,
          41,
          47,
          54,
          49,
          57,
          54,
          51,
          78,
          73,
          86,
          51,
          54,
          62,
          68,
          74,
          53,
          73,
          77,
          79,
          71,
          77,
          35,
          80,
          71,
          59,
          68,
          64,
          42,
          77,
          70,
          73,
          76,
          75,
          53,
          76,
          74,
          72,
          87,
          45,
          56,
          93,
          42,
          71,
          73,
          57,
          71,
          70,
          77,
          56,
          92,
          73,
          75,
          68,
          58,
          69,
          52,
          74,
          89,
          81,
          67,
          77,
          48,
          71,
          62,
          80,
          75,
          56,
          53,
          70,
          50,
          86,
          75,
          72,
          77,
          43,
          43,
          42,
          36,
          75,
          46,
          71,
          55,
          71,
          41,
          51,
          70,
          54,
          48,
          56,
          77,
          61,
          42,
          49,
          62,
          45,
          72,
          65,
          66,
          53,
          71,
          57,
          49,
          33,
          48,
          75,
          64,
          79,
          85,
          45,
          43,
          42,
          41,
          51,
          40,
          35,
          64,
          39,
          34,
          40,
          38,
          36,
          44,
          32,
          41,
          33,
          37,
          50,
          37,
          36,
          38,
          58,
          34,
          38,
          34,
          37,
          85,
          51,
          53,
          49,
          41,
          35,
          35,
          49,
          38,
          40,
          37,
          31,
          49,
          45,
          37,
          46,
          30,
          31,
          31,
          60,
          36,
          37,
          31,
          42,
          53,
          38,
          33,
          59,
          48,
          29,
          40,
          33,
          40,
          59,
          44,
          35,
          37,
          37,
          31,
          38,
          37,
          34,
          34,
          41,
          64,
          34,
          39,
          35,
          36,
          34,
          41,
          34,
          30,
          41,
          35,
          37,
          37,
          35,
          36,
          38,
          37,
          35,
          35,
          44,
          43,
          39,
          39,
          38,
          32,
          41,
          81,
          75,
          76,
          53,
          69,
          74,
          45,
          70,
          77,
          77,
          85,
          72,
          54,
          56,
          68,
          60,
          74,
          61,
          68,
          61,
          60,
          68,
          51,
          53,
          50,
          75,
          53,
          59,
          54,
          50,
          63,
          56,
          85,
          71,
          67,
          61,
          75,
          53,
          53,
          51,
          67,
          51,
          73,
          67,
          52,
          54,
          59,
          54,
          58,
          55,
          53,
          61,
          71,
          81,
          89,
          54,
          45,
          64,
          74,
          52,
          69,
          62,
          78,
          58,
          56,
          74,
          48,
          72,
          63,
          57,
          53,
          43,
          67,
          42,
          65,
          63,
          43,
          58,
          45,
          68,
          53,
          50,
          43,
          62,
          54,
          53,
          53,
          92,
          98,
          42,
          53,
          72,
          65,
          37,
          58,
          51,
          43,
          51,
          51,
          51,
          54,
          63,
          53,
          42,
          34,
          52,
          46,
          37,
          48,
          50,
          52,
          53,
          48,
          48,
          47,
          54,
          53,
          46,
          36,
          55,
          48,
          42,
          45,
          45,
          33,
          40,
          45,
          55,
          28,
          55,
          44,
          46,
          63,
          49,
          35,
          43,
          28,
          41,
          30,
          45,
          40,
          50,
          44,
          46,
          48,
          33,
          53,
          53,
          42,
          53,
          43,
          44,
          37,
          53,
          53,
          50,
          40,
          46,
          38,
          51,
          48,
          47,
          50,
          49,
          43,
          53,
          36,
          39,
          55,
          53,
          48,
          62,
          51,
          75,
          63,
          46,
          39,
          84,
          51,
          53,
          78,
          59,
          79,
          55,
          71,
          36,
          68,
          35,
          74,
          25,
          77,
          53,
          30,
          77,
          55,
          53,
          75,
          80,
          53,
          59,
          33,
          53,
          38,
          74,
          44,
          53,
          73,
          80,
          93,
          71,
          47,
          39,
          42,
          42,
          54,
          60,
          53,
          27,
          39,
          44,
          35,
          48,
          69,
          46,
          40,
          59,
          55,
          59,
          32,
          40,
          68,
          77,
          74,
          30,
          40,
          70,
          44,
          78,
          81,
          38,
          53,
          64,
          84,
          73,
          44,
          84,
          53,
          78,
          63,
          47,
          52,
          67,
          52,
          77,
          66,
          77,
          70,
          61,
          50,
          74,
          76,
          48,
          51,
          48,
          79,
          71,
          65,
          89,
          56,
          64,
          48,
          45,
          36,
          33,
          84,
          29,
          35,
          30,
          43,
          58,
          80,
          36,
          29,
          38,
          40,
          30,
          43,
          39,
          41,
          36,
          35,
          36,
          31,
          42,
          47,
          32,
          34,
          48,
          35,
          37,
          31,
          32,
          36,
          31,
          47,
          37,
          40,
          43,
          38,
          43,
          35,
          46,
          40,
          50,
          42,
          41,
          39,
          47,
          31,
          41,
          40,
          39,
          34,
          46,
          42,
          39,
          47,
          37,
          24,
          49,
          31,
          33,
          37,
          34,
          34,
          36,
          40,
          38,
          30,
          27,
          60,
          40,
          38,
          39,
          43,
          36,
          27,
          44,
          44,
          31,
          40,
          60,
          38,
          33,
          36,
          28,
          42,
          39,
          47,
          43,
          31,
          46,
          43,
          37,
          41,
          44,
          37,
          33,
          57,
          28,
          35,
          90,
          40,
          61,
          74,
          45,
          70,
          46,
          63,
          62,
          52,
          68,
          53,
          53,
          91,
          87,
          53,
          71,
          51,
          53,
          71,
          58,
          59,
          80,
          59,
          52,
          81,
          56,
          60,
          64,
          70,
          63,
          67,
          65,
          60,
          64,
          60,
          53,
          53,
          52,
          61,
          53,
          53,
          45,
          69,
          54,
          53,
          75,
          45,
          71,
          59,
          36,
          57,
          79,
          57,
          53,
          40,
          60,
          52,
          53,
          57,
          58,
          53,
          60,
          74,
          60,
          53,
          46,
          83,
          50,
          51,
          39,
          53,
          54,
          89,
          36,
          53,
          53,
          53,
          56,
          77,
          50,
          53,
          53,
          81,
          25,
          61,
          64,
          44,
          53,
          65,
          65,
          76,
          53,
          57,
          74,
          80,
          79,
          53,
          52,
          86
         ],
         "x0": " ",
         "xaxis": "x",
         "y0": " ",
         "yaxis": "y"
        }
       ],
       "layout": {
        "boxmode": "group",
        "legend": {
         "tracegroupgap": 0
        },
        "margin": {
         "t": 60
        },
        "template": {
         "data": {
          "bar": [
           {
            "error_x": {
             "color": "#2a3f5f"
            },
            "error_y": {
             "color": "#2a3f5f"
            },
            "marker": {
             "line": {
              "color": "#E5ECF6",
              "width": 0.5
             },
             "pattern": {
              "fillmode": "overlay",
              "size": 10,
              "solidity": 0.2
             }
            },
            "type": "bar"
           }
          ],
          "barpolar": [
           {
            "marker": {
             "line": {
              "color": "#E5ECF6",
              "width": 0.5
             },
             "pattern": {
              "fillmode": "overlay",
              "size": 10,
              "solidity": 0.2
             }
            },
            "type": "barpolar"
           }
          ],
          "carpet": [
           {
            "aaxis": {
             "endlinecolor": "#2a3f5f",
             "gridcolor": "white",
             "linecolor": "white",
             "minorgridcolor": "white",
             "startlinecolor": "#2a3f5f"
            },
            "baxis": {
             "endlinecolor": "#2a3f5f",
             "gridcolor": "white",
             "linecolor": "white",
             "minorgridcolor": "white",
             "startlinecolor": "#2a3f5f"
            },
            "type": "carpet"
           }
          ],
          "choropleth": [
           {
            "colorbar": {
             "outlinewidth": 0,
             "ticks": ""
            },
            "type": "choropleth"
           }
          ],
          "contour": [
           {
            "colorbar": {
             "outlinewidth": 0,
             "ticks": ""
            },
            "colorscale": [
             [
              0,
              "#0d0887"
             ],
             [
              0.1111111111111111,
              "#46039f"
             ],
             [
              0.2222222222222222,
              "#7201a8"
             ],
             [
              0.3333333333333333,
              "#9c179e"
             ],
             [
              0.4444444444444444,
              "#bd3786"
             ],
             [
              0.5555555555555556,
              "#d8576b"
             ],
             [
              0.6666666666666666,
              "#ed7953"
             ],
             [
              0.7777777777777778,
              "#fb9f3a"
             ],
             [
              0.8888888888888888,
              "#fdca26"
             ],
             [
              1,
              "#f0f921"
             ]
            ],
            "type": "contour"
           }
          ],
          "contourcarpet": [
           {
            "colorbar": {
             "outlinewidth": 0,
             "ticks": ""
            },
            "type": "contourcarpet"
           }
          ],
          "heatmap": [
           {
            "colorbar": {
             "outlinewidth": 0,
             "ticks": ""
            },
            "colorscale": [
             [
              0,
              "#0d0887"
             ],
             [
              0.1111111111111111,
              "#46039f"
             ],
             [
              0.2222222222222222,
              "#7201a8"
             ],
             [
              0.3333333333333333,
              "#9c179e"
             ],
             [
              0.4444444444444444,
              "#bd3786"
             ],
             [
              0.5555555555555556,
              "#d8576b"
             ],
             [
              0.6666666666666666,
              "#ed7953"
             ],
             [
              0.7777777777777778,
              "#fb9f3a"
             ],
             [
              0.8888888888888888,
              "#fdca26"
             ],
             [
              1,
              "#f0f921"
             ]
            ],
            "type": "heatmap"
           }
          ],
          "heatmapgl": [
           {
            "colorbar": {
             "outlinewidth": 0,
             "ticks": ""
            },
            "colorscale": [
             [
              0,
              "#0d0887"
             ],
             [
              0.1111111111111111,
              "#46039f"
             ],
             [
              0.2222222222222222,
              "#7201a8"
             ],
             [
              0.3333333333333333,
              "#9c179e"
             ],
             [
              0.4444444444444444,
              "#bd3786"
             ],
             [
              0.5555555555555556,
              "#d8576b"
             ],
             [
              0.6666666666666666,
              "#ed7953"
             ],
             [
              0.7777777777777778,
              "#fb9f3a"
             ],
             [
              0.8888888888888888,
              "#fdca26"
             ],
             [
              1,
              "#f0f921"
             ]
            ],
            "type": "heatmapgl"
           }
          ],
          "histogram": [
           {
            "marker": {
             "pattern": {
              "fillmode": "overlay",
              "size": 10,
              "solidity": 0.2
             }
            },
            "type": "histogram"
           }
          ],
          "histogram2d": [
           {
            "colorbar": {
             "outlinewidth": 0,
             "ticks": ""
            },
            "colorscale": [
             [
              0,
              "#0d0887"
             ],
             [
              0.1111111111111111,
              "#46039f"
             ],
             [
              0.2222222222222222,
              "#7201a8"
             ],
             [
              0.3333333333333333,
              "#9c179e"
             ],
             [
              0.4444444444444444,
              "#bd3786"
             ],
             [
              0.5555555555555556,
              "#d8576b"
             ],
             [
              0.6666666666666666,
              "#ed7953"
             ],
             [
              0.7777777777777778,
              "#fb9f3a"
             ],
             [
              0.8888888888888888,
              "#fdca26"
             ],
             [
              1,
              "#f0f921"
             ]
            ],
            "type": "histogram2d"
           }
          ],
          "histogram2dcontour": [
           {
            "colorbar": {
             "outlinewidth": 0,
             "ticks": ""
            },
            "colorscale": [
             [
              0,
              "#0d0887"
             ],
             [
              0.1111111111111111,
              "#46039f"
             ],
             [
              0.2222222222222222,
              "#7201a8"
             ],
             [
              0.3333333333333333,
              "#9c179e"
             ],
             [
              0.4444444444444444,
              "#bd3786"
             ],
             [
              0.5555555555555556,
              "#d8576b"
             ],
             [
              0.6666666666666666,
              "#ed7953"
             ],
             [
              0.7777777777777778,
              "#fb9f3a"
             ],
             [
              0.8888888888888888,
              "#fdca26"
             ],
             [
              1,
              "#f0f921"
             ]
            ],
            "type": "histogram2dcontour"
           }
          ],
          "mesh3d": [
           {
            "colorbar": {
             "outlinewidth": 0,
             "ticks": ""
            },
            "type": "mesh3d"
           }
          ],
          "parcoords": [
           {
            "line": {
             "colorbar": {
              "outlinewidth": 0,
              "ticks": ""
             }
            },
            "type": "parcoords"
           }
          ],
          "pie": [
           {
            "automargin": true,
            "type": "pie"
           }
          ],
          "scatter": [
           {
            "fillpattern": {
             "fillmode": "overlay",
             "size": 10,
             "solidity": 0.2
            },
            "type": "scatter"
           }
          ],
          "scatter3d": [
           {
            "line": {
             "colorbar": {
              "outlinewidth": 0,
              "ticks": ""
             }
            },
            "marker": {
             "colorbar": {
              "outlinewidth": 0,
              "ticks": ""
             }
            },
            "type": "scatter3d"
           }
          ],
          "scattercarpet": [
           {
            "marker": {
             "colorbar": {
              "outlinewidth": 0,
              "ticks": ""
             }
            },
            "type": "scattercarpet"
           }
          ],
          "scattergeo": [
           {
            "marker": {
             "colorbar": {
              "outlinewidth": 0,
              "ticks": ""
             }
            },
            "type": "scattergeo"
           }
          ],
          "scattergl": [
           {
            "marker": {
             "colorbar": {
              "outlinewidth": 0,
              "ticks": ""
             }
            },
            "type": "scattergl"
           }
          ],
          "scattermapbox": [
           {
            "marker": {
             "colorbar": {
              "outlinewidth": 0,
              "ticks": ""
             }
            },
            "type": "scattermapbox"
           }
          ],
          "scatterpolar": [
           {
            "marker": {
             "colorbar": {
              "outlinewidth": 0,
              "ticks": ""
             }
            },
            "type": "scatterpolar"
           }
          ],
          "scatterpolargl": [
           {
            "marker": {
             "colorbar": {
              "outlinewidth": 0,
              "ticks": ""
             }
            },
            "type": "scatterpolargl"
           }
          ],
          "scatterternary": [
           {
            "marker": {
             "colorbar": {
              "outlinewidth": 0,
              "ticks": ""
             }
            },
            "type": "scatterternary"
           }
          ],
          "surface": [
           {
            "colorbar": {
             "outlinewidth": 0,
             "ticks": ""
            },
            "colorscale": [
             [
              0,
              "#0d0887"
             ],
             [
              0.1111111111111111,
              "#46039f"
             ],
             [
              0.2222222222222222,
              "#7201a8"
             ],
             [
              0.3333333333333333,
              "#9c179e"
             ],
             [
              0.4444444444444444,
              "#bd3786"
             ],
             [
              0.5555555555555556,
              "#d8576b"
             ],
             [
              0.6666666666666666,
              "#ed7953"
             ],
             [
              0.7777777777777778,
              "#fb9f3a"
             ],
             [
              0.8888888888888888,
              "#fdca26"
             ],
             [
              1,
              "#f0f921"
             ]
            ],
            "type": "surface"
           }
          ],
          "table": [
           {
            "cells": {
             "fill": {
              "color": "#EBF0F8"
             },
             "line": {
              "color": "white"
             }
            },
            "header": {
             "fill": {
              "color": "#C8D4E3"
             },
             "line": {
              "color": "white"
             }
            },
            "type": "table"
           }
          ]
         },
         "layout": {
          "annotationdefaults": {
           "arrowcolor": "#2a3f5f",
           "arrowhead": 0,
           "arrowwidth": 1
          },
          "autotypenumbers": "strict",
          "coloraxis": {
           "colorbar": {
            "outlinewidth": 0,
            "ticks": ""
           }
          },
          "colorscale": {
           "diverging": [
            [
             0,
             "#8e0152"
            ],
            [
             0.1,
             "#c51b7d"
            ],
            [
             0.2,
             "#de77ae"
            ],
            [
             0.3,
             "#f1b6da"
            ],
            [
             0.4,
             "#fde0ef"
            ],
            [
             0.5,
             "#f7f7f7"
            ],
            [
             0.6,
             "#e6f5d0"
            ],
            [
             0.7,
             "#b8e186"
            ],
            [
             0.8,
             "#7fbc41"
            ],
            [
             0.9,
             "#4d9221"
            ],
            [
             1,
             "#276419"
            ]
           ],
           "sequential": [
            [
             0,
             "#0d0887"
            ],
            [
             0.1111111111111111,
             "#46039f"
            ],
            [
             0.2222222222222222,
             "#7201a8"
            ],
            [
             0.3333333333333333,
             "#9c179e"
            ],
            [
             0.4444444444444444,
             "#bd3786"
            ],
            [
             0.5555555555555556,
             "#d8576b"
            ],
            [
             0.6666666666666666,
             "#ed7953"
            ],
            [
             0.7777777777777778,
             "#fb9f3a"
            ],
            [
             0.8888888888888888,
             "#fdca26"
            ],
            [
             1,
             "#f0f921"
            ]
           ],
           "sequentialminus": [
            [
             0,
             "#0d0887"
            ],
            [
             0.1111111111111111,
             "#46039f"
            ],
            [
             0.2222222222222222,
             "#7201a8"
            ],
            [
             0.3333333333333333,
             "#9c179e"
            ],
            [
             0.4444444444444444,
             "#bd3786"
            ],
            [
             0.5555555555555556,
             "#d8576b"
            ],
            [
             0.6666666666666666,
             "#ed7953"
            ],
            [
             0.7777777777777778,
             "#fb9f3a"
            ],
            [
             0.8888888888888888,
             "#fdca26"
            ],
            [
             1,
             "#f0f921"
            ]
           ]
          },
          "colorway": [
           "#636efa",
           "#EF553B",
           "#00cc96",
           "#ab63fa",
           "#FFA15A",
           "#19d3f3",
           "#FF6692",
           "#B6E880",
           "#FF97FF",
           "#FECB52"
          ],
          "font": {
           "color": "#2a3f5f"
          },
          "geo": {
           "bgcolor": "white",
           "lakecolor": "white",
           "landcolor": "#E5ECF6",
           "showlakes": true,
           "showland": true,
           "subunitcolor": "white"
          },
          "hoverlabel": {
           "align": "left"
          },
          "hovermode": "closest",
          "mapbox": {
           "style": "light"
          },
          "paper_bgcolor": "white",
          "plot_bgcolor": "#E5ECF6",
          "polar": {
           "angularaxis": {
            "gridcolor": "white",
            "linecolor": "white",
            "ticks": ""
           },
           "bgcolor": "#E5ECF6",
           "radialaxis": {
            "gridcolor": "white",
            "linecolor": "white",
            "ticks": ""
           }
          },
          "scene": {
           "xaxis": {
            "backgroundcolor": "#E5ECF6",
            "gridcolor": "white",
            "gridwidth": 2,
            "linecolor": "white",
            "showbackground": true,
            "ticks": "",
            "zerolinecolor": "white"
           },
           "yaxis": {
            "backgroundcolor": "#E5ECF6",
            "gridcolor": "white",
            "gridwidth": 2,
            "linecolor": "white",
            "showbackground": true,
            "ticks": "",
            "zerolinecolor": "white"
           },
           "zaxis": {
            "backgroundcolor": "#E5ECF6",
            "gridcolor": "white",
            "gridwidth": 2,
            "linecolor": "white",
            "showbackground": true,
            "ticks": "",
            "zerolinecolor": "white"
           }
          },
          "shapedefaults": {
           "line": {
            "color": "#2a3f5f"
           }
          },
          "ternary": {
           "aaxis": {
            "gridcolor": "white",
            "linecolor": "white",
            "ticks": ""
           },
           "baxis": {
            "gridcolor": "white",
            "linecolor": "white",
            "ticks": ""
           },
           "bgcolor": "#E5ECF6",
           "caxis": {
            "gridcolor": "white",
            "linecolor": "white",
            "ticks": ""
           }
          },
          "title": {
           "x": 0.05
          },
          "xaxis": {
           "automargin": true,
           "gridcolor": "white",
           "linecolor": "white",
           "ticks": "",
           "title": {
            "standoff": 15
           },
           "zerolinecolor": "white",
           "zerolinewidth": 2
          },
          "yaxis": {
           "automargin": true,
           "gridcolor": "white",
           "linecolor": "white",
           "ticks": "",
           "title": {
            "standoff": 15
           },
           "zerolinecolor": "white",
           "zerolinewidth": 2
          }
         }
        },
        "xaxis": {
         "anchor": "y",
         "domain": [
          0,
          1
         ],
         "title": {
          "text": "age"
         }
        },
        "yaxis": {
         "anchor": "x",
         "domain": [
          0,
          1
         ]
        }
       }
      }
     },
     "metadata": {},
     "output_type": "display_data"
    }
   ],
   "source": [
    "px.box(df, df.age);"
   ]
  },
  {
   "cell_type": "code",
   "execution_count": null,
   "metadata": {},
   "outputs": [],
   "source": [
    "# here we will add another column as age bucket "
   ]
  },
  {
   "cell_type": "code",
   "execution_count": null,
   "metadata": {},
   "outputs": [],
   "source": []
  },
  {
   "cell_type": "code",
   "execution_count": 15,
   "metadata": {},
   "outputs": [
    {
     "data": {
      "application/vnd.plotly.v1+json": {
       "config": {
        "plotlyServerURL": "https://plot.ly"
       },
       "data": [
        {
         "hole": 0.5,
         "labels": [
          "male",
          "female",
          "others"
         ],
         "marker": {
          "line": {
           "color": "#000000",
           "width": 1
          }
         },
         "textinfo": "percent+label",
         "textposition": "inside",
         "type": "pie",
         "values": [
          1189,
          416,
          212
         ]
        }
       ],
       "layout": {
        "annotations": [
         {
          "font": {
           "size": 20
          },
          "showarrow": false,
          "text": "Gender",
          "x": 0.5,
          "y": 0.5
         }
        ],
        "template": {
         "data": {
          "bar": [
           {
            "error_x": {
             "color": "#2a3f5f"
            },
            "error_y": {
             "color": "#2a3f5f"
            },
            "marker": {
             "line": {
              "color": "#E5ECF6",
              "width": 0.5
             },
             "pattern": {
              "fillmode": "overlay",
              "size": 10,
              "solidity": 0.2
             }
            },
            "type": "bar"
           }
          ],
          "barpolar": [
           {
            "marker": {
             "line": {
              "color": "#E5ECF6",
              "width": 0.5
             },
             "pattern": {
              "fillmode": "overlay",
              "size": 10,
              "solidity": 0.2
             }
            },
            "type": "barpolar"
           }
          ],
          "carpet": [
           {
            "aaxis": {
             "endlinecolor": "#2a3f5f",
             "gridcolor": "white",
             "linecolor": "white",
             "minorgridcolor": "white",
             "startlinecolor": "#2a3f5f"
            },
            "baxis": {
             "endlinecolor": "#2a3f5f",
             "gridcolor": "white",
             "linecolor": "white",
             "minorgridcolor": "white",
             "startlinecolor": "#2a3f5f"
            },
            "type": "carpet"
           }
          ],
          "choropleth": [
           {
            "colorbar": {
             "outlinewidth": 0,
             "ticks": ""
            },
            "type": "choropleth"
           }
          ],
          "contour": [
           {
            "colorbar": {
             "outlinewidth": 0,
             "ticks": ""
            },
            "colorscale": [
             [
              0,
              "#0d0887"
             ],
             [
              0.1111111111111111,
              "#46039f"
             ],
             [
              0.2222222222222222,
              "#7201a8"
             ],
             [
              0.3333333333333333,
              "#9c179e"
             ],
             [
              0.4444444444444444,
              "#bd3786"
             ],
             [
              0.5555555555555556,
              "#d8576b"
             ],
             [
              0.6666666666666666,
              "#ed7953"
             ],
             [
              0.7777777777777778,
              "#fb9f3a"
             ],
             [
              0.8888888888888888,
              "#fdca26"
             ],
             [
              1,
              "#f0f921"
             ]
            ],
            "type": "contour"
           }
          ],
          "contourcarpet": [
           {
            "colorbar": {
             "outlinewidth": 0,
             "ticks": ""
            },
            "type": "contourcarpet"
           }
          ],
          "heatmap": [
           {
            "colorbar": {
             "outlinewidth": 0,
             "ticks": ""
            },
            "colorscale": [
             [
              0,
              "#0d0887"
             ],
             [
              0.1111111111111111,
              "#46039f"
             ],
             [
              0.2222222222222222,
              "#7201a8"
             ],
             [
              0.3333333333333333,
              "#9c179e"
             ],
             [
              0.4444444444444444,
              "#bd3786"
             ],
             [
              0.5555555555555556,
              "#d8576b"
             ],
             [
              0.6666666666666666,
              "#ed7953"
             ],
             [
              0.7777777777777778,
              "#fb9f3a"
             ],
             [
              0.8888888888888888,
              "#fdca26"
             ],
             [
              1,
              "#f0f921"
             ]
            ],
            "type": "heatmap"
           }
          ],
          "heatmapgl": [
           {
            "colorbar": {
             "outlinewidth": 0,
             "ticks": ""
            },
            "colorscale": [
             [
              0,
              "#0d0887"
             ],
             [
              0.1111111111111111,
              "#46039f"
             ],
             [
              0.2222222222222222,
              "#7201a8"
             ],
             [
              0.3333333333333333,
              "#9c179e"
             ],
             [
              0.4444444444444444,
              "#bd3786"
             ],
             [
              0.5555555555555556,
              "#d8576b"
             ],
             [
              0.6666666666666666,
              "#ed7953"
             ],
             [
              0.7777777777777778,
              "#fb9f3a"
             ],
             [
              0.8888888888888888,
              "#fdca26"
             ],
             [
              1,
              "#f0f921"
             ]
            ],
            "type": "heatmapgl"
           }
          ],
          "histogram": [
           {
            "marker": {
             "pattern": {
              "fillmode": "overlay",
              "size": 10,
              "solidity": 0.2
             }
            },
            "type": "histogram"
           }
          ],
          "histogram2d": [
           {
            "colorbar": {
             "outlinewidth": 0,
             "ticks": ""
            },
            "colorscale": [
             [
              0,
              "#0d0887"
             ],
             [
              0.1111111111111111,
              "#46039f"
             ],
             [
              0.2222222222222222,
              "#7201a8"
             ],
             [
              0.3333333333333333,
              "#9c179e"
             ],
             [
              0.4444444444444444,
              "#bd3786"
             ],
             [
              0.5555555555555556,
              "#d8576b"
             ],
             [
              0.6666666666666666,
              "#ed7953"
             ],
             [
              0.7777777777777778,
              "#fb9f3a"
             ],
             [
              0.8888888888888888,
              "#fdca26"
             ],
             [
              1,
              "#f0f921"
             ]
            ],
            "type": "histogram2d"
           }
          ],
          "histogram2dcontour": [
           {
            "colorbar": {
             "outlinewidth": 0,
             "ticks": ""
            },
            "colorscale": [
             [
              0,
              "#0d0887"
             ],
             [
              0.1111111111111111,
              "#46039f"
             ],
             [
              0.2222222222222222,
              "#7201a8"
             ],
             [
              0.3333333333333333,
              "#9c179e"
             ],
             [
              0.4444444444444444,
              "#bd3786"
             ],
             [
              0.5555555555555556,
              "#d8576b"
             ],
             [
              0.6666666666666666,
              "#ed7953"
             ],
             [
              0.7777777777777778,
              "#fb9f3a"
             ],
             [
              0.8888888888888888,
              "#fdca26"
             ],
             [
              1,
              "#f0f921"
             ]
            ],
            "type": "histogram2dcontour"
           }
          ],
          "mesh3d": [
           {
            "colorbar": {
             "outlinewidth": 0,
             "ticks": ""
            },
            "type": "mesh3d"
           }
          ],
          "parcoords": [
           {
            "line": {
             "colorbar": {
              "outlinewidth": 0,
              "ticks": ""
             }
            },
            "type": "parcoords"
           }
          ],
          "pie": [
           {
            "automargin": true,
            "type": "pie"
           }
          ],
          "scatter": [
           {
            "fillpattern": {
             "fillmode": "overlay",
             "size": 10,
             "solidity": 0.2
            },
            "type": "scatter"
           }
          ],
          "scatter3d": [
           {
            "line": {
             "colorbar": {
              "outlinewidth": 0,
              "ticks": ""
             }
            },
            "marker": {
             "colorbar": {
              "outlinewidth": 0,
              "ticks": ""
             }
            },
            "type": "scatter3d"
           }
          ],
          "scattercarpet": [
           {
            "marker": {
             "colorbar": {
              "outlinewidth": 0,
              "ticks": ""
             }
            },
            "type": "scattercarpet"
           }
          ],
          "scattergeo": [
           {
            "marker": {
             "colorbar": {
              "outlinewidth": 0,
              "ticks": ""
             }
            },
            "type": "scattergeo"
           }
          ],
          "scattergl": [
           {
            "marker": {
             "colorbar": {
              "outlinewidth": 0,
              "ticks": ""
             }
            },
            "type": "scattergl"
           }
          ],
          "scattermapbox": [
           {
            "marker": {
             "colorbar": {
              "outlinewidth": 0,
              "ticks": ""
             }
            },
            "type": "scattermapbox"
           }
          ],
          "scatterpolar": [
           {
            "marker": {
             "colorbar": {
              "outlinewidth": 0,
              "ticks": ""
             }
            },
            "type": "scatterpolar"
           }
          ],
          "scatterpolargl": [
           {
            "marker": {
             "colorbar": {
              "outlinewidth": 0,
              "ticks": ""
             }
            },
            "type": "scatterpolargl"
           }
          ],
          "scatterternary": [
           {
            "marker": {
             "colorbar": {
              "outlinewidth": 0,
              "ticks": ""
             }
            },
            "type": "scatterternary"
           }
          ],
          "surface": [
           {
            "colorbar": {
             "outlinewidth": 0,
             "ticks": ""
            },
            "colorscale": [
             [
              0,
              "#0d0887"
             ],
             [
              0.1111111111111111,
              "#46039f"
             ],
             [
              0.2222222222222222,
              "#7201a8"
             ],
             [
              0.3333333333333333,
              "#9c179e"
             ],
             [
              0.4444444444444444,
              "#bd3786"
             ],
             [
              0.5555555555555556,
              "#d8576b"
             ],
             [
              0.6666666666666666,
              "#ed7953"
             ],
             [
              0.7777777777777778,
              "#fb9f3a"
             ],
             [
              0.8888888888888888,
              "#fdca26"
             ],
             [
              1,
              "#f0f921"
             ]
            ],
            "type": "surface"
           }
          ],
          "table": [
           {
            "cells": {
             "fill": {
              "color": "#EBF0F8"
             },
             "line": {
              "color": "white"
             }
            },
            "header": {
             "fill": {
              "color": "#C8D4E3"
             },
             "line": {
              "color": "white"
             }
            },
            "type": "table"
           }
          ]
         },
         "layout": {
          "annotationdefaults": {
           "arrowcolor": "#2a3f5f",
           "arrowhead": 0,
           "arrowwidth": 1
          },
          "autotypenumbers": "strict",
          "coloraxis": {
           "colorbar": {
            "outlinewidth": 0,
            "ticks": ""
           }
          },
          "colorscale": {
           "diverging": [
            [
             0,
             "#8e0152"
            ],
            [
             0.1,
             "#c51b7d"
            ],
            [
             0.2,
             "#de77ae"
            ],
            [
             0.3,
             "#f1b6da"
            ],
            [
             0.4,
             "#fde0ef"
            ],
            [
             0.5,
             "#f7f7f7"
            ],
            [
             0.6,
             "#e6f5d0"
            ],
            [
             0.7,
             "#b8e186"
            ],
            [
             0.8,
             "#7fbc41"
            ],
            [
             0.9,
             "#4d9221"
            ],
            [
             1,
             "#276419"
            ]
           ],
           "sequential": [
            [
             0,
             "#0d0887"
            ],
            [
             0.1111111111111111,
             "#46039f"
            ],
            [
             0.2222222222222222,
             "#7201a8"
            ],
            [
             0.3333333333333333,
             "#9c179e"
            ],
            [
             0.4444444444444444,
             "#bd3786"
            ],
            [
             0.5555555555555556,
             "#d8576b"
            ],
            [
             0.6666666666666666,
             "#ed7953"
            ],
            [
             0.7777777777777778,
             "#fb9f3a"
            ],
            [
             0.8888888888888888,
             "#fdca26"
            ],
            [
             1,
             "#f0f921"
            ]
           ],
           "sequentialminus": [
            [
             0,
             "#0d0887"
            ],
            [
             0.1111111111111111,
             "#46039f"
            ],
            [
             0.2222222222222222,
             "#7201a8"
            ],
            [
             0.3333333333333333,
             "#9c179e"
            ],
            [
             0.4444444444444444,
             "#bd3786"
            ],
            [
             0.5555555555555556,
             "#d8576b"
            ],
            [
             0.6666666666666666,
             "#ed7953"
            ],
            [
             0.7777777777777778,
             "#fb9f3a"
            ],
            [
             0.8888888888888888,
             "#fdca26"
            ],
            [
             1,
             "#f0f921"
            ]
           ]
          },
          "colorway": [
           "#636efa",
           "#EF553B",
           "#00cc96",
           "#ab63fa",
           "#FFA15A",
           "#19d3f3",
           "#FF6692",
           "#B6E880",
           "#FF97FF",
           "#FECB52"
          ],
          "font": {
           "color": "#2a3f5f"
          },
          "geo": {
           "bgcolor": "white",
           "lakecolor": "white",
           "landcolor": "#E5ECF6",
           "showlakes": true,
           "showland": true,
           "subunitcolor": "white"
          },
          "hoverlabel": {
           "align": "left"
          },
          "hovermode": "closest",
          "mapbox": {
           "style": "light"
          },
          "paper_bgcolor": "white",
          "plot_bgcolor": "#E5ECF6",
          "polar": {
           "angularaxis": {
            "gridcolor": "white",
            "linecolor": "white",
            "ticks": ""
           },
           "bgcolor": "#E5ECF6",
           "radialaxis": {
            "gridcolor": "white",
            "linecolor": "white",
            "ticks": ""
           }
          },
          "scene": {
           "xaxis": {
            "backgroundcolor": "#E5ECF6",
            "gridcolor": "white",
            "gridwidth": 2,
            "linecolor": "white",
            "showbackground": true,
            "ticks": "",
            "zerolinecolor": "white"
           },
           "yaxis": {
            "backgroundcolor": "#E5ECF6",
            "gridcolor": "white",
            "gridwidth": 2,
            "linecolor": "white",
            "showbackground": true,
            "ticks": "",
            "zerolinecolor": "white"
           },
           "zaxis": {
            "backgroundcolor": "#E5ECF6",
            "gridcolor": "white",
            "gridwidth": 2,
            "linecolor": "white",
            "showbackground": true,
            "ticks": "",
            "zerolinecolor": "white"
           }
          },
          "shapedefaults": {
           "line": {
            "color": "#2a3f5f"
           }
          },
          "ternary": {
           "aaxis": {
            "gridcolor": "white",
            "linecolor": "white",
            "ticks": ""
           },
           "baxis": {
            "gridcolor": "white",
            "linecolor": "white",
            "ticks": ""
           },
           "bgcolor": "#E5ECF6",
           "caxis": {
            "gridcolor": "white",
            "linecolor": "white",
            "ticks": ""
           }
          },
          "title": {
           "x": 0.05
          },
          "xaxis": {
           "automargin": true,
           "gridcolor": "white",
           "linecolor": "white",
           "ticks": "",
           "title": {
            "standoff": 15
           },
           "zerolinecolor": "white",
           "zerolinewidth": 2
          },
          "yaxis": {
           "automargin": true,
           "gridcolor": "white",
           "linecolor": "white",
           "ticks": "",
           "title": {
            "standoff": 15
           },
           "zerolinecolor": "white",
           "zerolinewidth": 2
          }
         }
        },
        "title": {
         "text": "Gender ratio"
        }
       }
      }
     },
     "metadata": {},
     "output_type": "display_data"
    }
   ],
   "source": [
    "fig = go.Figure(\n",
    "    data = [\n",
    "        go.Pie(\n",
    "            labels = df.Gender.value_counts().index, \n",
    "            values = df.Gender.value_counts(), \n",
    "            textinfo='percent + label', \n",
    "            textposition='inside',\n",
    "            marker=dict(line=dict(color='#000000', width=1)),\n",
    "            hole = 0.5\n",
    "        )\n",
    "    ]\n",
    ")\n",
    "fig.update_layout(\n",
    "    title_text=\"Gender ratio\",\n",
    "    annotations=[dict(text='Gender', x=0.5, y=0.5, font_size=20, showarrow=False)])\n",
    "fig.show()"
   ]
  },
  {
   "cell_type": "code",
   "execution_count": 19,
   "metadata": {},
   "outputs": [
    {
     "data": {
      "application/vnd.plotly.v1+json": {
       "config": {
        "plotlyServerURL": "https://plot.ly"
       },
       "data": [
        {
         "hole": 0.5,
         "labels": [
          "United states",
          "United states",
          "United states",
          "United states",
          "United states",
          "United states",
          "United kingdom",
          "France",
          "United states",
          "Brazil",
          "United states",
          "United states",
          "United states",
          "United states",
          "United states",
          "France",
          "United states",
          "United states",
          "United states",
          "United states",
          "United states",
          "United states",
          "United states",
          "United states",
          "South africa",
          "United states",
          "United states",
          "United kingdom",
          "United states",
          "Others",
          "United states",
          "United states",
          "United states",
          "United states",
          "Others",
          "Others",
          "United states",
          "United kingdom",
          "United states",
          "United kingdom",
          "United states",
          "United states",
          "United states",
          "United states",
          "United states",
          "United states",
          "United states",
          "United states",
          "United states",
          "United kingdom",
          "United states",
          "Others",
          "United states",
          "United states",
          "United states",
          "Spain",
          "United states",
          "United states",
          "United kingdom",
          "United kingdom",
          "United states",
          "United kingdom",
          "United states",
          "United states",
          "United kingdom",
          "United states",
          "United states",
          "United kingdom",
          "United states",
          "United states",
          "Others",
          "Italy",
          "United states",
          "United states",
          "United states",
          "United states",
          "United states",
          "Australia",
          "United states",
          "United states",
          "United states",
          "United kingdom",
          "United states",
          "United states",
          "United states",
          "United states",
          "United kingdom",
          "United states",
          "United states",
          "United states",
          "United states",
          "United states",
          "United states",
          "United states",
          "Others",
          "United states",
          "United states",
          "United states",
          "United states",
          "Others",
          "United states",
          "India",
          "United states",
          "United states",
          "India",
          "Australia",
          "United states",
          "United states",
          "United states",
          "United states",
          "Others",
          "United states",
          "United states",
          "United states",
          "United states",
          "United states",
          "United states",
          "United states",
          "Canada",
          "United states",
          "United states",
          "Others",
          "United states",
          "Canada",
          "Others",
          "France",
          "India",
          "United states",
          "United states",
          "United states",
          "United states",
          "United states",
          "United states",
          "Canada",
          "United states",
          "Others",
          "United kingdom",
          "United states",
          "United states",
          "United states",
          "United states",
          "United states",
          "United states",
          "India",
          "Others",
          "United kingdom",
          "Australia",
          "United kingdom",
          "United states",
          "United states",
          "United kingdom",
          "United states",
          "United states",
          "United states",
          "Others",
          "United kingdom",
          "Others",
          "United states",
          "United states",
          "Others",
          "United states",
          "Canada",
          "Australia",
          "United kingdom",
          "India",
          "Canada",
          "United states",
          "United states",
          "United states",
          "United states",
          "New zealand",
          "United states",
          "United states",
          "United states",
          "India",
          "United kingdom",
          "United states",
          "United states",
          "Others",
          "United states",
          "United kingdom",
          "United kingdom",
          "United states",
          "France",
          "India",
          "United states",
          "United states",
          "United states",
          "United states",
          "Others",
          "United states",
          "United states",
          "United states",
          "United states",
          "United states",
          "United states",
          "Others",
          "United states",
          "United states",
          "India",
          "United states",
          "United states",
          "United states",
          "United states",
          "United states",
          "Others",
          "Others",
          "United states",
          "United states",
          "Others",
          "United states",
          "United states",
          "United states",
          "United states",
          "United states",
          "United states",
          "United states",
          "Others",
          "United states",
          "United states",
          "United states",
          "Others",
          "United states",
          "United states",
          "United states",
          "United states",
          "United states",
          "United states",
          "Others",
          "United states",
          "United states",
          "United states",
          "Others",
          "United states",
          "United states",
          "United states",
          "United states",
          "United states",
          "Others",
          "United states",
          "United states",
          "United states",
          "United states",
          "United states",
          "Others",
          "United states",
          "Others",
          "United states",
          "United states",
          "United states",
          "Others",
          "Others",
          "United states",
          "United states",
          "Others",
          "Others",
          "United states",
          "United states",
          "United states",
          "United states",
          "United states",
          "United states",
          "United states",
          "United states",
          "Others",
          "Canada",
          "United states",
          "United states",
          "United states",
          "United states",
          "Others",
          "Others",
          "United states",
          "United states",
          "United states",
          "United states",
          "United states",
          "Others",
          "Others",
          "United states",
          "United states",
          "United states",
          "United states",
          "United states",
          "United states",
          "United states",
          "United states",
          "United states",
          "Japan",
          "United states",
          "United states",
          "United states",
          "Others",
          "Canada",
          "United states",
          "United states",
          "Canada",
          "Others",
          "United states",
          "United states",
          "United states",
          "United states",
          "United states",
          "United states",
          "United states",
          "United states",
          "United states",
          "United states",
          "United states",
          "United states",
          "United states",
          "United states",
          "Germany",
          "United states",
          "United states",
          "United states",
          "United states",
          "United states",
          "United states",
          "United states",
          "United states",
          "United states",
          "United states",
          "Canada",
          "United states",
          "United states",
          "United states",
          "United states",
          "United states",
          "United states",
          "Brazil",
          "United states",
          "United states",
          "United states",
          "United states",
          "United states",
          "United states",
          "United states",
          "United states",
          "United states",
          "United states",
          "United states",
          "United states",
          "United states",
          "United states",
          "United states",
          "United states",
          "United states",
          "United states",
          "United states",
          "China",
          "Spain",
          "United states",
          "United states",
          "United states",
          "United states",
          "United states",
          "United states",
          "United states",
          "United states",
          "United states",
          "United states",
          "United states",
          "United states",
          "United kingdom",
          "United states",
          "United states",
          "United states",
          "United states",
          "United states",
          "United states",
          "United states",
          "United states",
          "United states",
          "United states",
          "United states",
          "United states",
          "United states",
          "Others",
          "United states",
          "Spain",
          "United states",
          "Others",
          "United states",
          "United states",
          "United states",
          "United states",
          "United states",
          "United states",
          "United states",
          "Others",
          "United states",
          "United states",
          "United states",
          "Others",
          "United states",
          "United states",
          "United states",
          "United states",
          "United states",
          "United states",
          "Italy",
          "Germany",
          "China",
          "United states",
          "Germany",
          "Others",
          "United states",
          "United states",
          "Australia",
          "Others",
          "United states",
          "Others",
          "Others",
          "Others",
          "Italy",
          "Germany",
          "Others",
          "United states",
          "United states",
          "Australia",
          "India",
          "Spain",
          "United states",
          "Others",
          "Others",
          "China",
          "France",
          "Brazil",
          "Others",
          "United states",
          "United states",
          "China",
          "United states",
          "United states",
          "United states",
          "United states",
          "Germany",
          "Switzerland",
          "United states",
          "United states",
          "Others",
          "United states",
          "Switzerland",
          "United states",
          "Others",
          "United states",
          "United states",
          "France",
          "China",
          "United states",
          "United states",
          "United states",
          "United states",
          "Germany",
          "Brazil",
          "United states",
          "Germany",
          "Others",
          "China",
          "United states",
          "Others",
          "United states",
          "United kingdom",
          "United states",
          "Others",
          "Others",
          "Brazil",
          "Others",
          "United states",
          "United states",
          "United states",
          "Brazil",
          "Switzerland",
          "Germany",
          "United states",
          "Others",
          "Others",
          "United states",
          "United states",
          "United states",
          "United states",
          "Others",
          "China",
          "Others",
          "United states",
          "United states",
          "United states",
          "France",
          "United states",
          "United states",
          "United states",
          "United states",
          "Spain",
          "Others",
          "United states",
          "United states",
          "United states",
          "India",
          "United states",
          "United states",
          "United states",
          "United states",
          "Others",
          "France",
          "United states",
          "China",
          "France",
          "United states",
          "Others",
          "Italy",
          "China",
          "Canada",
          "France",
          "France",
          "Others",
          "Others",
          "Canada",
          "Others",
          "France",
          "United states",
          "United states",
          "Russia",
          "Germany",
          "Ireland",
          "India",
          "Russia",
          "Russia",
          "United states",
          "Russia",
          "Russia",
          "United states",
          "China",
          "Russia",
          "United states",
          "Others",
          "Japan",
          "China",
          "Germany",
          "China",
          "United states",
          "Others",
          "China",
          "China",
          "United states",
          "Others",
          "Others",
          "China",
          "Russia",
          "United states",
          "Others",
          "United states",
          "Russia",
          "China",
          "United states",
          "India",
          "India",
          "Russia",
          "China",
          "United states",
          "Germany",
          "Others",
          "Russia",
          "Others",
          "Germany",
          "Others",
          "United states",
          "United states",
          "United kingdom",
          "Canada",
          "China",
          "United states",
          "Others",
          "China",
          "United states",
          "Others",
          "United states",
          "Germany",
          "Others",
          "Others",
          "United states",
          "United states",
          "Japan",
          "France",
          "Others",
          "United kingdom",
          "United states",
          "United states",
          "Others",
          "United states",
          "China",
          "United states",
          "China",
          "Others",
          "United states",
          "Japan",
          "United states",
          "Brazil",
          "Brazil",
          "United states",
          "Others",
          "Others",
          "Others",
          "Others",
          "United states",
          "Others",
          "United states",
          "Others",
          "Germany",
          "United states",
          "Others",
          "Others",
          "Others",
          "Others",
          "Others",
          "Others",
          "Others",
          "United states",
          "Others",
          "United states",
          "Others",
          "Others",
          "Others",
          "Others",
          "Others",
          "Others",
          "United states",
          "France",
          "Others",
          "United states",
          "United states",
          "Others",
          "Others",
          "Others",
          "Others",
          "Others",
          "United states",
          "Canada",
          "United states",
          "Others",
          "Others",
          "Others",
          "United states",
          "Others",
          "Others",
          "United states",
          "Others",
          "Others",
          "Others",
          "Others",
          "United states",
          "Others",
          "Others",
          "Others",
          "Others",
          "United states",
          "United states",
          "Others",
          "Others",
          "Others",
          "Others",
          "Others",
          "Others",
          "Germany",
          "Others",
          "Others",
          "Others",
          "Others",
          "Others",
          "Others",
          "Others",
          "France",
          "Others",
          "United states",
          "Others",
          "Others",
          "United states",
          "United states",
          "Others",
          "United states",
          "United states",
          "United states",
          "United states",
          "United states",
          "United states",
          "United states",
          "United states",
          "United states",
          "United states",
          "United states",
          "United states",
          "United kingdom",
          "Canada",
          "United kingdom",
          "Others",
          "Others",
          "United states",
          "United states",
          "Others",
          "United states",
          "United states",
          "United states",
          "United states",
          "United kingdom",
          "United states",
          "Others",
          "United states",
          "United kingdom",
          "United states",
          "United kingdom",
          "United states",
          "United states",
          "United states",
          "United states",
          "United states",
          "Canada",
          "United states",
          "United states",
          "United states",
          "United states",
          "United states",
          "Others",
          "Others",
          "Others",
          "Others",
          "United states",
          "United states",
          "United states",
          "Others",
          "Others",
          "United kingdom",
          "United states",
          "Others",
          "Others",
          "United states",
          "United states",
          "United states",
          "Canada",
          "United states",
          "France",
          "United states",
          "United kingdom",
          "United states",
          "United states",
          "United states",
          "United states",
          "Others",
          "United states",
          "United states",
          "Others",
          "United kingdom",
          "United states",
          "United states",
          "United states",
          "United states",
          "Others",
          "United states",
          "Australia",
          "United states",
          "United states",
          "United states",
          "Others",
          "Others",
          "Others",
          "United states",
          "United states",
          "Others",
          "Others",
          "United states",
          "United kingdom",
          "Others",
          "United states",
          "United states",
          "United states",
          "United states",
          "Others",
          "Others",
          "Canada",
          "United states",
          "Others",
          "France",
          "Switzerland",
          "Others",
          "United kingdom",
          "Others",
          "Others",
          "Brazil",
          "Others",
          "Canada",
          "Others",
          "United states",
          "United states",
          "United states",
          "United kingdom",
          "Others",
          "South africa",
          "Others",
          "Others",
          "Others",
          "Others",
          "Others",
          "India",
          "Russia",
          "France",
          "Others",
          "Others",
          "Others",
          "Others",
          "Others",
          "United states",
          "United states",
          "United states",
          "Others",
          "United states",
          "Italy",
          "Others",
          "Others",
          "Others",
          "United states",
          "Others",
          "South africa",
          "United states",
          "United states",
          "Others",
          "United states",
          "United states",
          "Others",
          "Others",
          "Canada",
          "United states",
          "United states",
          "Others",
          "Others",
          "United states",
          "Others",
          "Others",
          "Germany",
          "United states",
          "Canada",
          "United states",
          "United states",
          "United states",
          "Others",
          "Others",
          "Others",
          "United kingdom",
          "Others",
          "Others",
          "Others",
          "United states",
          "United kingdom",
          "Others",
          "Others",
          "United kingdom",
          "United states",
          "Canada",
          "United states",
          "Others",
          "Others",
          "United kingdom",
          "United states",
          "Others",
          "United states",
          "United states",
          "United states",
          "United states",
          "Others",
          "Canada",
          "United states",
          "United states",
          "United states",
          "Others",
          "United states",
          "United states",
          "Canada",
          "United states",
          "United states",
          "United states",
          "United states",
          "Others",
          "United states",
          "United states",
          "United states",
          "United states",
          "Others",
          "United states",
          "Others",
          "United states",
          "France",
          "United states",
          "United states",
          "United states",
          "United states",
          "China",
          "United states",
          "United states",
          "United kingdom",
          "United states",
          "United states",
          "Canada",
          "United states",
          "United states",
          "India",
          "United states",
          "United states",
          "United states",
          "United states",
          "United states",
          "United states",
          "United states",
          "United kingdom",
          "United states",
          "United states",
          "France",
          "United states",
          "United states",
          "United states",
          "United states",
          "United states",
          "United states",
          "United states",
          "United states",
          "United states",
          "Others",
          "United states",
          "United states",
          "United states",
          "United states",
          "United kingdom",
          "United states",
          "Others",
          "United states",
          "United kingdom",
          "United states",
          "United states",
          "United states",
          "United states",
          "United states",
          "United states",
          "United kingdom",
          "Spain",
          "United states",
          "Canada",
          "United states",
          "Germany",
          "Australia",
          "United states",
          "Canada",
          "Canada",
          "Canada",
          "Canada",
          "Canada",
          "Russia",
          "Others",
          "Canada",
          "United states",
          "Others",
          "Russia",
          "United states",
          "Canada",
          "Canada",
          "Canada",
          "Canada",
          "United states",
          "Canada",
          "Canada",
          "Canada",
          "Others",
          "Russia",
          "Canada",
          "Russia",
          "United states",
          "Canada",
          "Canada",
          "United states",
          "Canada",
          "Canada",
          "Canada",
          "Others",
          "Others",
          "Others",
          "Russia",
          "Others",
          "Canada",
          "Canada",
          "Others",
          "Canada",
          "Others",
          "United states",
          "Canada",
          "Canada",
          "Others",
          "Others",
          "Canada",
          "Canada",
          "Others",
          "Canada",
          "Others",
          "Canada",
          "Canada",
          "Others",
          "Canada",
          "Canada",
          "Canada",
          "Canada",
          "Canada",
          "Canada",
          "Canada",
          "Others",
          "Others",
          "Others",
          "Canada",
          "Russia",
          "United states",
          "Canada",
          "Canada",
          "Canada",
          "Others",
          "Canada",
          "Canada",
          "Canada",
          "Russia",
          "Canada",
          "Canada",
          "Canada",
          "Canada",
          "United states",
          "Canada",
          "Others",
          "Others",
          "Canada",
          "Canada",
          "Others",
          "Canada",
          "Canada",
          "Others",
          "Others",
          "Canada",
          "Canada",
          "Canada",
          "Canada",
          "Others",
          "Others",
          "Others",
          "Canada",
          "Others",
          "Others",
          "United kingdom",
          "United kingdom",
          "United states",
          "Brazil",
          "United kingdom",
          "Others",
          "United states",
          "United states",
          "United states",
          "United states",
          "Others",
          "United states",
          "Australia",
          "United states",
          "United states",
          "Brazil",
          "United kingdom",
          "United states",
          "Germany",
          "United kingdom",
          "Italy",
          "United states",
          "France",
          "United kingdom",
          "Australia",
          "Brazil",
          "United kingdom",
          "United kingdom",
          "India",
          "Russia",
          "United kingdom",
          "United states",
          "United states",
          "United states",
          "Others",
          "United states",
          "Others",
          "United states",
          "Germany",
          "Others",
          "United states",
          "China",
          "United states",
          "Japan",
          "Italy",
          "United states",
          "United states",
          "Canada",
          "Australia",
          "United states",
          "United states",
          "United states",
          "United states",
          "United states",
          "Others",
          "Australia",
          "Canada",
          "United states",
          "United states",
          "United kingdom",
          "France",
          "United states",
          "United states",
          "United kingdom",
          "United states",
          "Canada",
          "Others",
          "Others",
          "United states",
          "United states",
          "Others",
          "Others",
          "Italy",
          "United states",
          "France",
          "United states",
          "Russia",
          "United kingdom",
          "Others",
          "Others",
          "United states",
          "Others",
          "United kingdom",
          "United states",
          "United states",
          "France",
          "United states",
          "United states",
          "United states",
          "United states",
          "United states",
          "United states",
          "Others",
          "South africa",
          "United kingdom",
          "United kingdom",
          "Others",
          "Others",
          "United states",
          "Germany",
          "United states",
          "United kingdom",
          "United kingdom",
          "United states",
          "United states",
          "United states",
          "United states",
          "United states",
          "United kingdom",
          "United kingdom",
          "United states",
          "United kingdom",
          "United kingdom",
          "United states",
          "United kingdom",
          "United states",
          "United states",
          "United states",
          "United states",
          "United kingdom",
          "United states",
          "United kingdom",
          "United kingdom",
          "United kingdom",
          "United states",
          "United kingdom",
          "United kingdom",
          "United states",
          "United kingdom",
          "United kingdom",
          "United kingdom",
          "United states",
          "United states",
          "Others",
          "United states",
          "United states",
          "United states",
          "United kingdom",
          "United kingdom",
          "United kingdom",
          "United kingdom",
          "United kingdom",
          "United states",
          "United states",
          "United kingdom",
          "United kingdom",
          "United states",
          "United states",
          "United kingdom",
          "United states",
          "United kingdom",
          "United states",
          "United states",
          "Australia",
          "United kingdom",
          "United states",
          "United kingdom",
          "Germany",
          "United kingdom",
          "United kingdom",
          "United states",
          "United states",
          "United states",
          "United states",
          "United states",
          "United kingdom",
          "United states",
          "United states",
          "United kingdom",
          "United kingdom",
          "United kingdom",
          "United states",
          "United states",
          "France",
          "United states",
          "United states",
          "United kingdom",
          "Japan",
          "United kingdom",
          "United kingdom",
          "United states",
          "United states",
          "United states",
          "United kingdom",
          "United states",
          "United states",
          "Germany",
          "United kingdom",
          "United states",
          "United kingdom",
          "United kingdom",
          "United states",
          "United kingdom",
          "United states",
          "United states",
          "United states",
          "United states",
          "United states",
          "United kingdom",
          "United states",
          "United states",
          "United states",
          "United states",
          "United states",
          "United states",
          "United states",
          "United states",
          "United states",
          "United states",
          "United states",
          "United states",
          "United states",
          "United states",
          "United states",
          "United states",
          "United states",
          "United states",
          "United states",
          "United states",
          "United states",
          "Canada",
          "United states",
          "United states",
          "United states",
          "United states",
          "United states",
          "United states",
          "United states",
          "United states",
          "United states",
          "United states",
          "United states",
          "United states",
          "United states",
          "United states",
          "United states",
          "United states",
          "United states",
          "United states",
          "United states",
          "United states",
          "United states",
          "United states",
          "United states",
          "United states",
          "United states",
          "Others",
          "United states",
          "United states",
          "United states",
          "United states",
          "United states",
          "United states",
          "United states",
          "United states",
          "United states",
          "United states",
          "United states",
          "United states",
          "United states",
          "United states",
          "United states",
          "United states",
          "United states",
          "United states",
          "United states",
          "United states",
          "United states",
          "United states",
          "United states",
          "United states",
          "United states",
          "Others",
          "Others",
          "United states",
          "United states",
          "United states",
          "United states",
          "United states",
          "United states",
          "United states",
          "United states",
          "United states",
          "United states",
          "United states",
          "United states",
          "United states",
          "United states",
          "United states",
          "United states",
          "United states",
          "United states",
          "United states",
          "United states",
          "United states",
          "United states",
          "United states",
          "United states",
          "Others",
          "United states",
          "United states",
          "United kingdom",
          "Others",
          "United states",
          "United kingdom",
          "United states",
          "United states",
          "United states",
          "United states",
          "Others",
          "United states",
          "United states",
          "United states",
          "United states",
          "United kingdom",
          "United states",
          "United kingdom",
          "United states",
          "United states",
          "United kingdom",
          "United states",
          "United states",
          "India",
          "United states",
          "United states",
          "United states",
          "United states",
          "Japan",
          "Others",
          "United states",
          "United kingdom",
          "United states",
          "United kingdom",
          "United states",
          "United states",
          "United states",
          "United states",
          "Others",
          "United states",
          "Others",
          "United states",
          "United states",
          "United states",
          "United states",
          "United states",
          "United kingdom",
          "United states",
          "Others",
          "United states",
          "United kingdom",
          "United kingdom",
          "United kingdom",
          "United states",
          "United states",
          "United states",
          "United kingdom",
          "United states",
          "Canada",
          "United states",
          "United states",
          "Germany",
          "United states",
          "United states",
          "United states",
          "United states",
          "Others",
          "United states",
          "United states",
          "Others",
          "United kingdom",
          "United states",
          "Others",
          "United states",
          "Others",
          "United states",
          "United states",
          "United kingdom",
          "United states",
          "Canada",
          "United states",
          "Others",
          "Others",
          "Others",
          "United states",
          "United kingdom",
          "United states",
          "Japan",
          "United states",
          "Others",
          "Canada",
          "United states",
          "United states",
          "United states",
          "United states",
          "United states",
          "United states",
          "United states",
          "United states",
          "United states",
          "United states",
          "United states",
          "United states",
          "United states",
          "Canada",
          "United states",
          "United states",
          "United states",
          "United states",
          "United states",
          "United states",
          "United states",
          "United states",
          "United states",
          "United states",
          "United states",
          "United states",
          "United states",
          "United states",
          "United states",
          "United states",
          "United states",
          "United states",
          "United states",
          "United states",
          "United states",
          "United states",
          "United states",
          "United states",
          "United states",
          "United states",
          "United states",
          "United states",
          "United states",
          "United states",
          "United states",
          "United states",
          "United states",
          "United states",
          "United states",
          "United states",
          "United states",
          "United states",
          "United states",
          "United states",
          "United states",
          "United states",
          "United states",
          "United states",
          "United states",
          "Others",
          "United states",
          "United states",
          "United states",
          "United states",
          "United states",
          "United states",
          "United states",
          "United states",
          "United states",
          "Others",
          "United states",
          "United states",
          "United states",
          "United states",
          "United states",
          "United states",
          "United states",
          "United states",
          "United states",
          "United states",
          "United states",
          "United states",
          "United states",
          "United states",
          "United kingdom",
          "United states",
          "United states",
          "United states",
          "Canada",
          "United states",
          "United states",
          "United states",
          "Canada",
          "United states",
          "United states",
          "Others",
          "United states",
          "United states",
          "Canada",
          "Spain",
          "Others",
          "United states",
          "France",
          "Others",
          "United states",
          "United states",
          "United kingdom",
          "Australia",
          "United states",
          "United states",
          "United states",
          "United states",
          "United states",
          "Others",
          "Ireland",
          "United states",
          "Others",
          "United states",
          "United states",
          "United kingdom",
          "United states",
          "Others",
          "United states",
          "United states",
          "United states",
          "Others",
          "United states",
          "United states",
          "Others",
          "United states",
          "France",
          "Ireland",
          "United states",
          "United states",
          "Others",
          "United states",
          "Ireland",
          "United kingdom",
          "United states",
          "United states",
          "United states",
          "United states",
          "United kingdom",
          "United states",
          "United states",
          "United states",
          "United states",
          "United states",
          "United states",
          "Others",
          "United states",
          "United kingdom",
          "United kingdom",
          "Spain",
          "United states",
          "United states",
          "Canada",
          "United states",
          "United states",
          "Others",
          "United states",
          "Australia",
          "United states",
          "United kingdom",
          "United states",
          "United kingdom",
          "Others",
          "United kingdom",
          "United states",
          "United kingdom",
          "United states",
          "United states",
          "Others",
          "United states",
          "United states",
          "Others",
          "United states",
          "United states",
          "United states",
          "United states",
          "United kingdom",
          "Others",
          "Others",
          "United kingdom",
          "Brazil",
          "United kingdom",
          "Brazil",
          "Italy",
          "Others",
          "Brazil",
          "Germany",
          "Belgium",
          "Brazil",
          "Others",
          "United kingdom",
          "Others",
          "Others",
          "Brazil",
          "Spain",
          "Spain",
          "Others",
          "Brazil",
          "United kingdom",
          "Brazil",
          "Others",
          "Others",
          "France",
          "Others",
          "Others",
          "Spain",
          "Brazil",
          "Others",
          "United kingdom",
          "United kingdom",
          "Spain",
          "United kingdom",
          "France",
          "France",
          "Others",
          "Spain",
          "United kingdom",
          "Ireland",
          "United kingdom",
          "Spain",
          "Italy",
          "Spain",
          "Others",
          "Germany",
          "United kingdom",
          "United kingdom",
          "Others",
          "France",
          "United kingdom",
          "United states",
          "United kingdom",
          "Italy",
          "Brazil",
          "United kingdom",
          "Others",
          "Spain",
          "France",
          "Others",
          "Spain",
          "Others",
          "Others",
          "Others",
          "Others",
          "Italy",
          "Germany",
          "United kingdom",
          "United kingdom",
          "Others",
          "France",
          "Italy",
          "Spain",
          "Brazil",
          "France",
          "Others",
          "Others",
          "Others",
          "Spain",
          "Others",
          "United kingdom",
          "Brazil",
          "Others",
          "Ireland",
          "Others",
          "Others",
          "Japan",
          "Others",
          "United kingdom",
          "Others",
          "Others",
          "United kingdom",
          "Germany",
          "Italy",
          "Others",
          "United kingdom",
          "Spain",
          "Others",
          "Brazil",
          "United states",
          "United kingdom",
          "United states",
          "United kingdom",
          "United states",
          "United states",
          "United states",
          "United states",
          "United states",
          "United kingdom",
          "Others",
          "Others",
          "United states",
          "United states",
          "Others",
          "United states",
          "United states",
          "Others",
          "United states",
          "United states",
          "United states",
          "Canada",
          "United states",
          "United states",
          "United states",
          "Others",
          "United kingdom",
          "United states",
          "United states",
          "United states",
          "United states",
          "United states",
          "United states",
          "United states",
          "United states",
          "Others",
          "United states",
          "United states",
          "United kingdom",
          "United states",
          "Others",
          "Others",
          "United states",
          "United states",
          "United kingdom",
          "United kingdom",
          "United states",
          "United states",
          "Australia",
          "United states",
          "United states",
          "United kingdom",
          "United states",
          "Others",
          "United states",
          "United states",
          "United states",
          "United states",
          "Canada",
          "United states",
          "Others",
          "United kingdom",
          "United states",
          "United states",
          "United states",
          "United states",
          "United states",
          "United states",
          "United states",
          "Others",
          "Others",
          "Others",
          "United states",
          "United states",
          "Others",
          "Canada",
          "United states",
          "United kingdom",
          "United kingdom",
          "United states",
          "United states",
          "Others",
          "United states",
          "United states",
          "Others",
          "United states",
          "United kingdom",
          "New zealand",
          "United states",
          "Others",
          "United states",
          "United states",
          "Others",
          "United states",
          "United states",
          "United states",
          "United states",
          "United states",
          "Others"
         ],
         "marker": {
          "line": {
           "color": "#000000",
           "width": 1
          }
         },
         "textinfo": "percent",
         "textposition": "inside",
         "type": "pie",
         "values": [
          996,
          342,
          161,
          97,
          34,
          27,
          24,
          23,
          20,
          20,
          17,
          16,
          14,
          9,
          6,
          4,
          4,
          2,
          1
         ]
        }
       ],
       "layout": {
        "annotations": [
         {
          "font": {
           "size": 20
          },
          "showarrow": false,
          "text": "country",
          "x": 0.5,
          "y": 0.5
         }
        ],
        "template": {
         "data": {
          "bar": [
           {
            "error_x": {
             "color": "#2a3f5f"
            },
            "error_y": {
             "color": "#2a3f5f"
            },
            "marker": {
             "line": {
              "color": "#E5ECF6",
              "width": 0.5
             },
             "pattern": {
              "fillmode": "overlay",
              "size": 10,
              "solidity": 0.2
             }
            },
            "type": "bar"
           }
          ],
          "barpolar": [
           {
            "marker": {
             "line": {
              "color": "#E5ECF6",
              "width": 0.5
             },
             "pattern": {
              "fillmode": "overlay",
              "size": 10,
              "solidity": 0.2
             }
            },
            "type": "barpolar"
           }
          ],
          "carpet": [
           {
            "aaxis": {
             "endlinecolor": "#2a3f5f",
             "gridcolor": "white",
             "linecolor": "white",
             "minorgridcolor": "white",
             "startlinecolor": "#2a3f5f"
            },
            "baxis": {
             "endlinecolor": "#2a3f5f",
             "gridcolor": "white",
             "linecolor": "white",
             "minorgridcolor": "white",
             "startlinecolor": "#2a3f5f"
            },
            "type": "carpet"
           }
          ],
          "choropleth": [
           {
            "colorbar": {
             "outlinewidth": 0,
             "ticks": ""
            },
            "type": "choropleth"
           }
          ],
          "contour": [
           {
            "colorbar": {
             "outlinewidth": 0,
             "ticks": ""
            },
            "colorscale": [
             [
              0,
              "#0d0887"
             ],
             [
              0.1111111111111111,
              "#46039f"
             ],
             [
              0.2222222222222222,
              "#7201a8"
             ],
             [
              0.3333333333333333,
              "#9c179e"
             ],
             [
              0.4444444444444444,
              "#bd3786"
             ],
             [
              0.5555555555555556,
              "#d8576b"
             ],
             [
              0.6666666666666666,
              "#ed7953"
             ],
             [
              0.7777777777777778,
              "#fb9f3a"
             ],
             [
              0.8888888888888888,
              "#fdca26"
             ],
             [
              1,
              "#f0f921"
             ]
            ],
            "type": "contour"
           }
          ],
          "contourcarpet": [
           {
            "colorbar": {
             "outlinewidth": 0,
             "ticks": ""
            },
            "type": "contourcarpet"
           }
          ],
          "heatmap": [
           {
            "colorbar": {
             "outlinewidth": 0,
             "ticks": ""
            },
            "colorscale": [
             [
              0,
              "#0d0887"
             ],
             [
              0.1111111111111111,
              "#46039f"
             ],
             [
              0.2222222222222222,
              "#7201a8"
             ],
             [
              0.3333333333333333,
              "#9c179e"
             ],
             [
              0.4444444444444444,
              "#bd3786"
             ],
             [
              0.5555555555555556,
              "#d8576b"
             ],
             [
              0.6666666666666666,
              "#ed7953"
             ],
             [
              0.7777777777777778,
              "#fb9f3a"
             ],
             [
              0.8888888888888888,
              "#fdca26"
             ],
             [
              1,
              "#f0f921"
             ]
            ],
            "type": "heatmap"
           }
          ],
          "heatmapgl": [
           {
            "colorbar": {
             "outlinewidth": 0,
             "ticks": ""
            },
            "colorscale": [
             [
              0,
              "#0d0887"
             ],
             [
              0.1111111111111111,
              "#46039f"
             ],
             [
              0.2222222222222222,
              "#7201a8"
             ],
             [
              0.3333333333333333,
              "#9c179e"
             ],
             [
              0.4444444444444444,
              "#bd3786"
             ],
             [
              0.5555555555555556,
              "#d8576b"
             ],
             [
              0.6666666666666666,
              "#ed7953"
             ],
             [
              0.7777777777777778,
              "#fb9f3a"
             ],
             [
              0.8888888888888888,
              "#fdca26"
             ],
             [
              1,
              "#f0f921"
             ]
            ],
            "type": "heatmapgl"
           }
          ],
          "histogram": [
           {
            "marker": {
             "pattern": {
              "fillmode": "overlay",
              "size": 10,
              "solidity": 0.2
             }
            },
            "type": "histogram"
           }
          ],
          "histogram2d": [
           {
            "colorbar": {
             "outlinewidth": 0,
             "ticks": ""
            },
            "colorscale": [
             [
              0,
              "#0d0887"
             ],
             [
              0.1111111111111111,
              "#46039f"
             ],
             [
              0.2222222222222222,
              "#7201a8"
             ],
             [
              0.3333333333333333,
              "#9c179e"
             ],
             [
              0.4444444444444444,
              "#bd3786"
             ],
             [
              0.5555555555555556,
              "#d8576b"
             ],
             [
              0.6666666666666666,
              "#ed7953"
             ],
             [
              0.7777777777777778,
              "#fb9f3a"
             ],
             [
              0.8888888888888888,
              "#fdca26"
             ],
             [
              1,
              "#f0f921"
             ]
            ],
            "type": "histogram2d"
           }
          ],
          "histogram2dcontour": [
           {
            "colorbar": {
             "outlinewidth": 0,
             "ticks": ""
            },
            "colorscale": [
             [
              0,
              "#0d0887"
             ],
             [
              0.1111111111111111,
              "#46039f"
             ],
             [
              0.2222222222222222,
              "#7201a8"
             ],
             [
              0.3333333333333333,
              "#9c179e"
             ],
             [
              0.4444444444444444,
              "#bd3786"
             ],
             [
              0.5555555555555556,
              "#d8576b"
             ],
             [
              0.6666666666666666,
              "#ed7953"
             ],
             [
              0.7777777777777778,
              "#fb9f3a"
             ],
             [
              0.8888888888888888,
              "#fdca26"
             ],
             [
              1,
              "#f0f921"
             ]
            ],
            "type": "histogram2dcontour"
           }
          ],
          "mesh3d": [
           {
            "colorbar": {
             "outlinewidth": 0,
             "ticks": ""
            },
            "type": "mesh3d"
           }
          ],
          "parcoords": [
           {
            "line": {
             "colorbar": {
              "outlinewidth": 0,
              "ticks": ""
             }
            },
            "type": "parcoords"
           }
          ],
          "pie": [
           {
            "automargin": true,
            "type": "pie"
           }
          ],
          "scatter": [
           {
            "fillpattern": {
             "fillmode": "overlay",
             "size": 10,
             "solidity": 0.2
            },
            "type": "scatter"
           }
          ],
          "scatter3d": [
           {
            "line": {
             "colorbar": {
              "outlinewidth": 0,
              "ticks": ""
             }
            },
            "marker": {
             "colorbar": {
              "outlinewidth": 0,
              "ticks": ""
             }
            },
            "type": "scatter3d"
           }
          ],
          "scattercarpet": [
           {
            "marker": {
             "colorbar": {
              "outlinewidth": 0,
              "ticks": ""
             }
            },
            "type": "scattercarpet"
           }
          ],
          "scattergeo": [
           {
            "marker": {
             "colorbar": {
              "outlinewidth": 0,
              "ticks": ""
             }
            },
            "type": "scattergeo"
           }
          ],
          "scattergl": [
           {
            "marker": {
             "colorbar": {
              "outlinewidth": 0,
              "ticks": ""
             }
            },
            "type": "scattergl"
           }
          ],
          "scattermapbox": [
           {
            "marker": {
             "colorbar": {
              "outlinewidth": 0,
              "ticks": ""
             }
            },
            "type": "scattermapbox"
           }
          ],
          "scatterpolar": [
           {
            "marker": {
             "colorbar": {
              "outlinewidth": 0,
              "ticks": ""
             }
            },
            "type": "scatterpolar"
           }
          ],
          "scatterpolargl": [
           {
            "marker": {
             "colorbar": {
              "outlinewidth": 0,
              "ticks": ""
             }
            },
            "type": "scatterpolargl"
           }
          ],
          "scatterternary": [
           {
            "marker": {
             "colorbar": {
              "outlinewidth": 0,
              "ticks": ""
             }
            },
            "type": "scatterternary"
           }
          ],
          "surface": [
           {
            "colorbar": {
             "outlinewidth": 0,
             "ticks": ""
            },
            "colorscale": [
             [
              0,
              "#0d0887"
             ],
             [
              0.1111111111111111,
              "#46039f"
             ],
             [
              0.2222222222222222,
              "#7201a8"
             ],
             [
              0.3333333333333333,
              "#9c179e"
             ],
             [
              0.4444444444444444,
              "#bd3786"
             ],
             [
              0.5555555555555556,
              "#d8576b"
             ],
             [
              0.6666666666666666,
              "#ed7953"
             ],
             [
              0.7777777777777778,
              "#fb9f3a"
             ],
             [
              0.8888888888888888,
              "#fdca26"
             ],
             [
              1,
              "#f0f921"
             ]
            ],
            "type": "surface"
           }
          ],
          "table": [
           {
            "cells": {
             "fill": {
              "color": "#EBF0F8"
             },
             "line": {
              "color": "white"
             }
            },
            "header": {
             "fill": {
              "color": "#C8D4E3"
             },
             "line": {
              "color": "white"
             }
            },
            "type": "table"
           }
          ]
         },
         "layout": {
          "annotationdefaults": {
           "arrowcolor": "#2a3f5f",
           "arrowhead": 0,
           "arrowwidth": 1
          },
          "autotypenumbers": "strict",
          "coloraxis": {
           "colorbar": {
            "outlinewidth": 0,
            "ticks": ""
           }
          },
          "colorscale": {
           "diverging": [
            [
             0,
             "#8e0152"
            ],
            [
             0.1,
             "#c51b7d"
            ],
            [
             0.2,
             "#de77ae"
            ],
            [
             0.3,
             "#f1b6da"
            ],
            [
             0.4,
             "#fde0ef"
            ],
            [
             0.5,
             "#f7f7f7"
            ],
            [
             0.6,
             "#e6f5d0"
            ],
            [
             0.7,
             "#b8e186"
            ],
            [
             0.8,
             "#7fbc41"
            ],
            [
             0.9,
             "#4d9221"
            ],
            [
             1,
             "#276419"
            ]
           ],
           "sequential": [
            [
             0,
             "#0d0887"
            ],
            [
             0.1111111111111111,
             "#46039f"
            ],
            [
             0.2222222222222222,
             "#7201a8"
            ],
            [
             0.3333333333333333,
             "#9c179e"
            ],
            [
             0.4444444444444444,
             "#bd3786"
            ],
            [
             0.5555555555555556,
             "#d8576b"
            ],
            [
             0.6666666666666666,
             "#ed7953"
            ],
            [
             0.7777777777777778,
             "#fb9f3a"
            ],
            [
             0.8888888888888888,
             "#fdca26"
            ],
            [
             1,
             "#f0f921"
            ]
           ],
           "sequentialminus": [
            [
             0,
             "#0d0887"
            ],
            [
             0.1111111111111111,
             "#46039f"
            ],
            [
             0.2222222222222222,
             "#7201a8"
            ],
            [
             0.3333333333333333,
             "#9c179e"
            ],
            [
             0.4444444444444444,
             "#bd3786"
            ],
            [
             0.5555555555555556,
             "#d8576b"
            ],
            [
             0.6666666666666666,
             "#ed7953"
            ],
            [
             0.7777777777777778,
             "#fb9f3a"
            ],
            [
             0.8888888888888888,
             "#fdca26"
            ],
            [
             1,
             "#f0f921"
            ]
           ]
          },
          "colorway": [
           "#636efa",
           "#EF553B",
           "#00cc96",
           "#ab63fa",
           "#FFA15A",
           "#19d3f3",
           "#FF6692",
           "#B6E880",
           "#FF97FF",
           "#FECB52"
          ],
          "font": {
           "color": "#2a3f5f"
          },
          "geo": {
           "bgcolor": "white",
           "lakecolor": "white",
           "landcolor": "#E5ECF6",
           "showlakes": true,
           "showland": true,
           "subunitcolor": "white"
          },
          "hoverlabel": {
           "align": "left"
          },
          "hovermode": "closest",
          "mapbox": {
           "style": "light"
          },
          "paper_bgcolor": "white",
          "plot_bgcolor": "#E5ECF6",
          "polar": {
           "angularaxis": {
            "gridcolor": "white",
            "linecolor": "white",
            "ticks": ""
           },
           "bgcolor": "#E5ECF6",
           "radialaxis": {
            "gridcolor": "white",
            "linecolor": "white",
            "ticks": ""
           }
          },
          "scene": {
           "xaxis": {
            "backgroundcolor": "#E5ECF6",
            "gridcolor": "white",
            "gridwidth": 2,
            "linecolor": "white",
            "showbackground": true,
            "ticks": "",
            "zerolinecolor": "white"
           },
           "yaxis": {
            "backgroundcolor": "#E5ECF6",
            "gridcolor": "white",
            "gridwidth": 2,
            "linecolor": "white",
            "showbackground": true,
            "ticks": "",
            "zerolinecolor": "white"
           },
           "zaxis": {
            "backgroundcolor": "#E5ECF6",
            "gridcolor": "white",
            "gridwidth": 2,
            "linecolor": "white",
            "showbackground": true,
            "ticks": "",
            "zerolinecolor": "white"
           }
          },
          "shapedefaults": {
           "line": {
            "color": "#2a3f5f"
           }
          },
          "ternary": {
           "aaxis": {
            "gridcolor": "white",
            "linecolor": "white",
            "ticks": ""
           },
           "baxis": {
            "gridcolor": "white",
            "linecolor": "white",
            "ticks": ""
           },
           "bgcolor": "#E5ECF6",
           "caxis": {
            "gridcolor": "white",
            "linecolor": "white",
            "ticks": ""
           }
          },
          "title": {
           "x": 0.05
          },
          "xaxis": {
           "automargin": true,
           "gridcolor": "white",
           "linecolor": "white",
           "ticks": "",
           "title": {
            "standoff": 15
           },
           "zerolinecolor": "white",
           "zerolinewidth": 2
          },
          "yaxis": {
           "automargin": true,
           "gridcolor": "white",
           "linecolor": "white",
           "ticks": "",
           "title": {
            "standoff": 15
           },
           "zerolinecolor": "white",
           "zerolinewidth": 2
          }
         }
        },
        "title": {
         "text": "Successful people in different countries"
        }
       }
      }
     },
     "metadata": {},
     "output_type": "display_data"
    }
   ],
   "source": [
    "fig = go.Figure(\n",
    "    data = [\n",
    "        go.Pie(\n",
    "            labels = df.country, \n",
    "            values = df.country.value_counts(),\n",
    "            textinfo='percent', \n",
    "            textposition='inside',\n",
    "            marker=dict(line=dict(color='#000000', width=1)), \n",
    "            hole = 0.5\n",
    "        )\n",
    "    ]\n",
    ")\n",
    "fig.update_layout(\n",
    "    title_text=\"Successful people in different countries\",\n",
    "    annotations=[dict(text='country', x=0.5, y=0.5, font_size=20, showarrow=False)])\n",
    "fig.show()"
   ]
  },
  {
   "cell_type": "code",
   "execution_count": 8,
   "metadata": {},
   "outputs": [
    {
     "data": {
      "image/png": "[encoded data removed]",
      "text/plain": [
       "<Figure size 432x288 with 1 Axes>"
      ]
     },
     "metadata": {
      "needs_background": "light"
     },
     "output_type": "display_data"
    }
   ],
   "source": [
    "df.Education.value_counts().head(10).plot(kind = 'bar');"
   ]
  },
  {
   "cell_type": "code",
   "execution_count": 18,
   "metadata": {},
   "outputs": [
    {
     "data": {
      "application/vnd.plotly.v1+json": {
       "config": {
        "plotlyServerURL": "https://plot.ly"
       },
       "data": [
        {
         "hole": 0.5,
         "labels": [
          "Campbell Hall School and New York University ",
          "Fiorello H. LaGuardia High School",
          "Smyrna's Campbell High School",
          "Holton-Arms School, Northwestern University",
          " University of Southern California's School of Cinema-Television",
          "Miami Dade Community College, Royal Academy of Dramatic Art in London",
          "Tracey Ullman - Italia Conti Academy and Allan McKeown - Beal Grammar school in Ilford",
          "Ecole Polytechnique (Bachelor of Arts & Science)",
          "Syracuse University",
          "The University of Texas at Austin, Universidade Federal do Rio de Janeiro"
         ],
         "marker": {
          "line": {
           "color": "#000000",
           "width": 1
          }
         },
         "textinfo": "percent",
         "textposition": "inside",
         "type": "pie",
         "values": [
          165,
          50,
          44,
          20,
          19,
          17,
          15,
          11,
          9,
          8
         ]
        }
       ],
       "layout": {
        "annotations": [
         {
          "font": {
           "size": 20
          },
          "showarrow": false,
          "text": "Institutions",
          "x": 0.5,
          "y": 0.5
         }
        ],
        "template": {
         "data": {
          "bar": [
           {
            "error_x": {
             "color": "#2a3f5f"
            },
            "error_y": {
             "color": "#2a3f5f"
            },
            "marker": {
             "line": {
              "color": "#E5ECF6",
              "width": 0.5
             },
             "pattern": {
              "fillmode": "overlay",
              "size": 10,
              "solidity": 0.2
             }
            },
            "type": "bar"
           }
          ],
          "barpolar": [
           {
            "marker": {
             "line": {
              "color": "#E5ECF6",
              "width": 0.5
             },
             "pattern": {
              "fillmode": "overlay",
              "size": 10,
              "solidity": 0.2
             }
            },
            "type": "barpolar"
           }
          ],
          "carpet": [
           {
            "aaxis": {
             "endlinecolor": "#2a3f5f",
             "gridcolor": "white",
             "linecolor": "white",
             "minorgridcolor": "white",
             "startlinecolor": "#2a3f5f"
            },
            "baxis": {
             "endlinecolor": "#2a3f5f",
             "gridcolor": "white",
             "linecolor": "white",
             "minorgridcolor": "white",
             "startlinecolor": "#2a3f5f"
            },
            "type": "carpet"
           }
          ],
          "choropleth": [
           {
            "colorbar": {
             "outlinewidth": 0,
             "ticks": ""
            },
            "type": "choropleth"
           }
          ],
          "contour": [
           {
            "colorbar": {
             "outlinewidth": 0,
             "ticks": ""
            },
            "colorscale": [
             [
              0,
              "#0d0887"
             ],
             [
              0.1111111111111111,
              "#46039f"
             ],
             [
              0.2222222222222222,
              "#7201a8"
             ],
             [
              0.3333333333333333,
              "#9c179e"
             ],
             [
              0.4444444444444444,
              "#bd3786"
             ],
             [
              0.5555555555555556,
              "#d8576b"
             ],
             [
              0.6666666666666666,
              "#ed7953"
             ],
             [
              0.7777777777777778,
              "#fb9f3a"
             ],
             [
              0.8888888888888888,
              "#fdca26"
             ],
             [
              1,
              "#f0f921"
             ]
            ],
            "type": "contour"
           }
          ],
          "contourcarpet": [
           {
            "colorbar": {
             "outlinewidth": 0,
             "ticks": ""
            },
            "type": "contourcarpet"
           }
          ],
          "heatmap": [
           {
            "colorbar": {
             "outlinewidth": 0,
             "ticks": ""
            },
            "colorscale": [
             [
              0,
              "#0d0887"
             ],
             [
              0.1111111111111111,
              "#46039f"
             ],
             [
              0.2222222222222222,
              "#7201a8"
             ],
             [
              0.3333333333333333,
              "#9c179e"
             ],
             [
              0.4444444444444444,
              "#bd3786"
             ],
             [
              0.5555555555555556,
              "#d8576b"
             ],
             [
              0.6666666666666666,
              "#ed7953"
             ],
             [
              0.7777777777777778,
              "#fb9f3a"
             ],
             [
              0.8888888888888888,
              "#fdca26"
             ],
             [
              1,
              "#f0f921"
             ]
            ],
            "type": "heatmap"
           }
          ],
          "heatmapgl": [
           {
            "colorbar": {
             "outlinewidth": 0,
             "ticks": ""
            },
            "colorscale": [
             [
              0,
              "#0d0887"
             ],
             [
              0.1111111111111111,
              "#46039f"
             ],
             [
              0.2222222222222222,
              "#7201a8"
             ],
             [
              0.3333333333333333,
              "#9c179e"
             ],
             [
              0.4444444444444444,
              "#bd3786"
             ],
             [
              0.5555555555555556,
              "#d8576b"
             ],
             [
              0.6666666666666666,
              "#ed7953"
             ],
             [
              0.7777777777777778,
              "#fb9f3a"
             ],
             [
              0.8888888888888888,
              "#fdca26"
             ],
             [
              1,
              "#f0f921"
             ]
            ],
            "type": "heatmapgl"
           }
          ],
          "histogram": [
           {
            "marker": {
             "pattern": {
              "fillmode": "overlay",
              "size": 10,
              "solidity": 0.2
             }
            },
            "type": "histogram"
           }
          ],
          "histogram2d": [
           {
            "colorbar": {
             "outlinewidth": 0,
             "ticks": ""
            },
            "colorscale": [
             [
              0,
              "#0d0887"
             ],
             [
              0.1111111111111111,
              "#46039f"
             ],
             [
              0.2222222222222222,
              "#7201a8"
             ],
             [
              0.3333333333333333,
              "#9c179e"
             ],
             [
              0.4444444444444444,
              "#bd3786"
             ],
             [
              0.5555555555555556,
              "#d8576b"
             ],
             [
              0.6666666666666666,
              "#ed7953"
             ],
             [
              0.7777777777777778,
              "#fb9f3a"
             ],
             [
              0.8888888888888888,
              "#fdca26"
             ],
             [
              1,
              "#f0f921"
             ]
            ],
            "type": "histogram2d"
           }
          ],
          "histogram2dcontour": [
           {
            "colorbar": {
             "outlinewidth": 0,
             "ticks": ""
            },
            "colorscale": [
             [
              0,
              "#0d0887"
             ],
             [
              0.1111111111111111,
              "#46039f"
             ],
             [
              0.2222222222222222,
              "#7201a8"
             ],
             [
              0.3333333333333333,
              "#9c179e"
             ],
             [
              0.4444444444444444,
              "#bd3786"
             ],
             [
              0.5555555555555556,
              "#d8576b"
             ],
             [
              0.6666666666666666,
              "#ed7953"
             ],
             [
              0.7777777777777778,
              "#fb9f3a"
             ],
             [
              0.8888888888888888,
              "#fdca26"
             ],
             [
              1,
              "#f0f921"
             ]
            ],
            "type": "histogram2dcontour"
           }
          ],
          "mesh3d": [
           {
            "colorbar": {
             "outlinewidth": 0,
             "ticks": ""
            },
            "type": "mesh3d"
           }
          ],
          "parcoords": [
           {
            "line": {
             "colorbar": {
              "outlinewidth": 0,
              "ticks": ""
             }
            },
            "type": "parcoords"
           }
          ],
          "pie": [
           {
            "automargin": true,
            "type": "pie"
           }
          ],
          "scatter": [
           {
            "fillpattern": {
             "fillmode": "overlay",
             "size": 10,
             "solidity": 0.2
            },
            "type": "scatter"
           }
          ],
          "scatter3d": [
           {
            "line": {
             "colorbar": {
              "outlinewidth": 0,
              "ticks": ""
             }
            },
            "marker": {
             "colorbar": {
              "outlinewidth": 0,
              "ticks": ""
             }
            },
            "type": "scatter3d"
           }
          ],
          "scattercarpet": [
           {
            "marker": {
             "colorbar": {
              "outlinewidth": 0,
              "ticks": ""
             }
            },
            "type": "scattercarpet"
           }
          ],
          "scattergeo": [
           {
            "marker": {
             "colorbar": {
              "outlinewidth": 0,
              "ticks": ""
             }
            },
            "type": "scattergeo"
           }
          ],
          "scattergl": [
           {
            "marker": {
             "colorbar": {
              "outlinewidth": 0,
              "ticks": ""
             }
            },
            "type": "scattergl"
           }
          ],
          "scattermapbox": [
           {
            "marker": {
             "colorbar": {
              "outlinewidth": 0,
              "ticks": ""
             }
            },
            "type": "scattermapbox"
           }
          ],
          "scatterpolar": [
           {
            "marker": {
             "colorbar": {
              "outlinewidth": 0,
              "ticks": ""
             }
            },
            "type": "scatterpolar"
           }
          ],
          "scatterpolargl": [
           {
            "marker": {
             "colorbar": {
              "outlinewidth": 0,
              "ticks": ""
             }
            },
            "type": "scatterpolargl"
           }
          ],
          "scatterternary": [
           {
            "marker": {
             "colorbar": {
              "outlinewidth": 0,
              "ticks": ""
             }
            },
            "type": "scatterternary"
           }
          ],
          "surface": [
           {
            "colorbar": {
             "outlinewidth": 0,
             "ticks": ""
            },
            "colorscale": [
             [
              0,
              "#0d0887"
             ],
             [
              0.1111111111111111,
              "#46039f"
             ],
             [
              0.2222222222222222,
              "#7201a8"
             ],
             [
              0.3333333333333333,
              "#9c179e"
             ],
             [
              0.4444444444444444,
              "#bd3786"
             ],
             [
              0.5555555555555556,
              "#d8576b"
             ],
             [
              0.6666666666666666,
              "#ed7953"
             ],
             [
              0.7777777777777778,
              "#fb9f3a"
             ],
             [
              0.8888888888888888,
              "#fdca26"
             ],
             [
              1,
              "#f0f921"
             ]
            ],
            "type": "surface"
           }
          ],
          "table": [
           {
            "cells": {
             "fill": {
              "color": "#EBF0F8"
             },
             "line": {
              "color": "white"
             }
            },
            "header": {
             "fill": {
              "color": "#C8D4E3"
             },
             "line": {
              "color": "white"
             }
            },
            "type": "table"
           }
          ]
         },
         "layout": {
          "annotationdefaults": {
           "arrowcolor": "#2a3f5f",
           "arrowhead": 0,
           "arrowwidth": 1
          },
          "autotypenumbers": "strict",
          "coloraxis": {
           "colorbar": {
            "outlinewidth": 0,
            "ticks": ""
           }
          },
          "colorscale": {
           "diverging": [
            [
             0,
             "#8e0152"
            ],
            [
             0.1,
             "#c51b7d"
            ],
            [
             0.2,
             "#de77ae"
            ],
            [
             0.3,
             "#f1b6da"
            ],
            [
             0.4,
             "#fde0ef"
            ],
            [
             0.5,
             "#f7f7f7"
            ],
            [
             0.6,
             "#e6f5d0"
            ],
            [
             0.7,
             "#b8e186"
            ],
            [
             0.8,
             "#7fbc41"
            ],
            [
             0.9,
             "#4d9221"
            ],
            [
             1,
             "#276419"
            ]
           ],
           "sequential": [
            [
             0,
             "#0d0887"
            ],
            [
             0.1111111111111111,
             "#46039f"
            ],
            [
             0.2222222222222222,
             "#7201a8"
            ],
            [
             0.3333333333333333,
             "#9c179e"
            ],
            [
             0.4444444444444444,
             "#bd3786"
            ],
            [
             0.5555555555555556,
             "#d8576b"
            ],
            [
             0.6666666666666666,
             "#ed7953"
            ],
            [
             0.7777777777777778,
             "#fb9f3a"
            ],
            [
             0.8888888888888888,
             "#fdca26"
            ],
            [
             1,
             "#f0f921"
            ]
           ],
           "sequentialminus": [
            [
             0,
             "#0d0887"
            ],
            [
             0.1111111111111111,
             "#46039f"
            ],
            [
             0.2222222222222222,
             "#7201a8"
            ],
            [
             0.3333333333333333,
             "#9c179e"
            ],
            [
             0.4444444444444444,
             "#bd3786"
            ],
            [
             0.5555555555555556,
             "#d8576b"
            ],
            [
             0.6666666666666666,
             "#ed7953"
            ],
            [
             0.7777777777777778,
             "#fb9f3a"
            ],
            [
             0.8888888888888888,
             "#fdca26"
            ],
            [
             1,
             "#f0f921"
            ]
           ]
          },
          "colorway": [
           "#636efa",
           "#EF553B",
           "#00cc96",
           "#ab63fa",
           "#FFA15A",
           "#19d3f3",
           "#FF6692",
           "#B6E880",
           "#FF97FF",
           "#FECB52"
          ],
          "font": {
           "color": "#2a3f5f"
          },
          "geo": {
           "bgcolor": "white",
           "lakecolor": "white",
           "landcolor": "#E5ECF6",
           "showlakes": true,
           "showland": true,
           "subunitcolor": "white"
          },
          "hoverlabel": {
           "align": "left"
          },
          "hovermode": "closest",
          "mapbox": {
           "style": "light"
          },
          "paper_bgcolor": "white",
          "plot_bgcolor": "#E5ECF6",
          "polar": {
           "angularaxis": {
            "gridcolor": "white",
            "linecolor": "white",
            "ticks": ""
           },
           "bgcolor": "#E5ECF6",
           "radialaxis": {
            "gridcolor": "white",
            "linecolor": "white",
            "ticks": ""
           }
          },
          "scene": {
           "xaxis": {
            "backgroundcolor": "#E5ECF6",
            "gridcolor": "white",
            "gridwidth": 2,
            "linecolor": "white",
            "showbackground": true,
            "ticks": "",
            "zerolinecolor": "white"
           },
           "yaxis": {
            "backgroundcolor": "#E5ECF6",
            "gridcolor": "white",
            "gridwidth": 2,
            "linecolor": "white",
            "showbackground": true,
            "ticks": "",
            "zerolinecolor": "white"
           },
           "zaxis": {
            "backgroundcolor": "#E5ECF6",
            "gridcolor": "white",
            "gridwidth": 2,
            "linecolor": "white",
            "showbackground": true,
            "ticks": "",
            "zerolinecolor": "white"
           }
          },
          "shapedefaults": {
           "line": {
            "color": "#2a3f5f"
           }
          },
          "ternary": {
           "aaxis": {
            "gridcolor": "white",
            "linecolor": "white",
            "ticks": ""
           },
           "baxis": {
            "gridcolor": "white",
            "linecolor": "white",
            "ticks": ""
           },
           "bgcolor": "#E5ECF6",
           "caxis": {
            "gridcolor": "white",
            "linecolor": "white",
            "ticks": ""
           }
          },
          "title": {
           "x": 0.05
          },
          "xaxis": {
           "automargin": true,
           "gridcolor": "white",
           "linecolor": "white",
           "ticks": "",
           "title": {
            "standoff": 15
           },
           "zerolinecolor": "white",
           "zerolinewidth": 2
          },
          "yaxis": {
           "automargin": true,
           "gridcolor": "white",
           "linecolor": "white",
           "ticks": "",
           "title": {
            "standoff": 15
           },
           "zerolinecolor": "white",
           "zerolinewidth": 2
          }
         }
        },
        "title": {
         "text": "Successful people in top institutions"
        }
       }
      }
     },
     "metadata": {},
     "output_type": "display_data"
    }
   ],
   "source": [
    "fig = go.Figure(\n",
    "    data = [\n",
    "        go.Pie(\n",
    "            labels = df.Education.head(10).dropna(), \n",
    "            values = df.Education.value_counts().head(10).dropna(), \n",
    "            textinfo='percent', \n",
    "            textposition='inside',\n",
    "            marker=dict(line=dict(color='#000000', width=1)),\n",
    "            hole = 0.5\n",
    "        )\n",
    "    ]\n",
    ")\n",
    "fig.update_layout(\n",
    "    title_text=\"Successful people in top institutions\",\n",
    "    annotations=[dict(text='Institutions', x=0.5, y=0.5, font_size=20, showarrow=False)])\n",
    "fig.show()"
   ]
  },
  {
   "cell_type": "code",
   "execution_count": 20,
   "metadata": {},
   "outputs": [
    {
     "data": {
      "application/vnd.plotly.v1+json": {
       "config": {
        "plotlyServerURL": "https://plot.ly"
       },
       "data": [
        {
         "hole": 0.5,
         "labels": [
          "single",
          "married",
          "divorced",
          "in a relationship"
         ],
         "marker": {
          "line": {
           "color": "#000000",
           "width": 1
          }
         },
         "textinfo": "percent+label",
         "textposition": "inside",
         "type": "pie",
         "values": [
          1350,
          236,
          196,
          35
         ]
        }
       ],
       "layout": {
        "annotations": [
         {
          "font": {
           "size": 20
          },
          "showarrow": false,
          "text": "Relationship",
          "x": 0.5,
          "y": 0.5
         }
        ],
        "template": {
         "data": {
          "bar": [
           {
            "error_x": {
             "color": "#2a3f5f"
            },
            "error_y": {
             "color": "#2a3f5f"
            },
            "marker": {
             "line": {
              "color": "#E5ECF6",
              "width": 0.5
             },
             "pattern": {
              "fillmode": "overlay",
              "size": 10,
              "solidity": 0.2
             }
            },
            "type": "bar"
           }
          ],
          "barpolar": [
           {
            "marker": {
             "line": {
              "color": "#E5ECF6",
              "width": 0.5
             },
             "pattern": {
              "fillmode": "overlay",
              "size": 10,
              "solidity": 0.2
             }
            },
            "type": "barpolar"
           }
          ],
          "carpet": [
           {
            "aaxis": {
             "endlinecolor": "#2a3f5f",
             "gridcolor": "white",
             "linecolor": "white",
             "minorgridcolor": "white",
             "startlinecolor": "#2a3f5f"
            },
            "baxis": {
             "endlinecolor": "#2a3f5f",
             "gridcolor": "white",
             "linecolor": "white",
             "minorgridcolor": "white",
             "startlinecolor": "#2a3f5f"
            },
            "type": "carpet"
           }
          ],
          "choropleth": [
           {
            "colorbar": {
             "outlinewidth": 0,
             "ticks": ""
            },
            "type": "choropleth"
           }
          ],
          "contour": [
           {
            "colorbar": {
             "outlinewidth": 0,
             "ticks": ""
            },
            "colorscale": [
             [
              0,
              "#0d0887"
             ],
             [
              0.1111111111111111,
              "#46039f"
             ],
             [
              0.2222222222222222,
              "#7201a8"
             ],
             [
              0.3333333333333333,
              "#9c179e"
             ],
             [
              0.4444444444444444,
              "#bd3786"
             ],
             [
              0.5555555555555556,
              "#d8576b"
             ],
             [
              0.6666666666666666,
              "#ed7953"
             ],
             [
              0.7777777777777778,
              "#fb9f3a"
             ],
             [
              0.8888888888888888,
              "#fdca26"
             ],
             [
              1,
              "#f0f921"
             ]
            ],
            "type": "contour"
           }
          ],
          "contourcarpet": [
           {
            "colorbar": {
             "outlinewidth": 0,
             "ticks": ""
            },
            "type": "contourcarpet"
           }
          ],
          "heatmap": [
           {
            "colorbar": {
             "outlinewidth": 0,
             "ticks": ""
            },
            "colorscale": [
             [
              0,
              "#0d0887"
             ],
             [
              0.1111111111111111,
              "#46039f"
             ],
             [
              0.2222222222222222,
              "#7201a8"
             ],
             [
              0.3333333333333333,
              "#9c179e"
             ],
             [
              0.4444444444444444,
              "#bd3786"
             ],
             [
              0.5555555555555556,
              "#d8576b"
             ],
             [
              0.6666666666666666,
              "#ed7953"
             ],
             [
              0.7777777777777778,
              "#fb9f3a"
             ],
             [
              0.8888888888888888,
              "#fdca26"
             ],
             [
              1,
              "#f0f921"
             ]
            ],
            "type": "heatmap"
           }
          ],
          "heatmapgl": [
           {
            "colorbar": {
             "outlinewidth": 0,
             "ticks": ""
            },
            "colorscale": [
             [
              0,
              "#0d0887"
             ],
             [
              0.1111111111111111,
              "#46039f"
             ],
             [
              0.2222222222222222,
              "#7201a8"
             ],
             [
              0.3333333333333333,
              "#9c179e"
             ],
             [
              0.4444444444444444,
              "#bd3786"
             ],
             [
              0.5555555555555556,
              "#d8576b"
             ],
             [
              0.6666666666666666,
              "#ed7953"
             ],
             [
              0.7777777777777778,
              "#fb9f3a"
             ],
             [
              0.8888888888888888,
              "#fdca26"
             ],
             [
              1,
              "#f0f921"
             ]
            ],
            "type": "heatmapgl"
           }
          ],
          "histogram": [
           {
            "marker": {
             "pattern": {
              "fillmode": "overlay",
              "size": 10,
              "solidity": 0.2
             }
            },
            "type": "histogram"
           }
          ],
          "histogram2d": [
           {
            "colorbar": {
             "outlinewidth": 0,
             "ticks": ""
            },
            "colorscale": [
             [
              0,
              "#0d0887"
             ],
             [
              0.1111111111111111,
              "#46039f"
             ],
             [
              0.2222222222222222,
              "#7201a8"
             ],
             [
              0.3333333333333333,
              "#9c179e"
             ],
             [
              0.4444444444444444,
              "#bd3786"
             ],
             [
              0.5555555555555556,
              "#d8576b"
             ],
             [
              0.6666666666666666,
              "#ed7953"
             ],
             [
              0.7777777777777778,
              "#fb9f3a"
             ],
             [
              0.8888888888888888,
              "#fdca26"
             ],
             [
              1,
              "#f0f921"
             ]
            ],
            "type": "histogram2d"
           }
          ],
          "histogram2dcontour": [
           {
            "colorbar": {
             "outlinewidth": 0,
             "ticks": ""
            },
            "colorscale": [
             [
              0,
              "#0d0887"
             ],
             [
              0.1111111111111111,
              "#46039f"
             ],
             [
              0.2222222222222222,
              "#7201a8"
             ],
             [
              0.3333333333333333,
              "#9c179e"
             ],
             [
              0.4444444444444444,
              "#bd3786"
             ],
             [
              0.5555555555555556,
              "#d8576b"
             ],
             [
              0.6666666666666666,
              "#ed7953"
             ],
             [
              0.7777777777777778,
              "#fb9f3a"
             ],
             [
              0.8888888888888888,
              "#fdca26"
             ],
             [
              1,
              "#f0f921"
             ]
            ],
            "type": "histogram2dcontour"
           }
          ],
          "mesh3d": [
           {
            "colorbar": {
             "outlinewidth": 0,
             "ticks": ""
            },
            "type": "mesh3d"
           }
          ],
          "parcoords": [
           {
            "line": {
             "colorbar": {
              "outlinewidth": 0,
              "ticks": ""
             }
            },
            "type": "parcoords"
           }
          ],
          "pie": [
           {
            "automargin": true,
            "type": "pie"
           }
          ],
          "scatter": [
           {
            "fillpattern": {
             "fillmode": "overlay",
             "size": 10,
             "solidity": 0.2
            },
            "type": "scatter"
           }
          ],
          "scatter3d": [
           {
            "line": {
             "colorbar": {
              "outlinewidth": 0,
              "ticks": ""
             }
            },
            "marker": {
             "colorbar": {
              "outlinewidth": 0,
              "ticks": ""
             }
            },
            "type": "scatter3d"
           }
          ],
          "scattercarpet": [
           {
            "marker": {
             "colorbar": {
              "outlinewidth": 0,
              "ticks": ""
             }
            },
            "type": "scattercarpet"
           }
          ],
          "scattergeo": [
           {
            "marker": {
             "colorbar": {
              "outlinewidth": 0,
              "ticks": ""
             }
            },
            "type": "scattergeo"
           }
          ],
          "scattergl": [
           {
            "marker": {
             "colorbar": {
              "outlinewidth": 0,
              "ticks": ""
             }
            },
            "type": "scattergl"
           }
          ],
          "scattermapbox": [
           {
            "marker": {
             "colorbar": {
              "outlinewidth": 0,
              "ticks": ""
             }
            },
            "type": "scattermapbox"
           }
          ],
          "scatterpolar": [
           {
            "marker": {
             "colorbar": {
              "outlinewidth": 0,
              "ticks": ""
             }
            },
            "type": "scatterpolar"
           }
          ],
          "scatterpolargl": [
           {
            "marker": {
             "colorbar": {
              "outlinewidth": 0,
              "ticks": ""
             }
            },
            "type": "scatterpolargl"
           }
          ],
          "scatterternary": [
           {
            "marker": {
             "colorbar": {
              "outlinewidth": 0,
              "ticks": ""
             }
            },
            "type": "scatterternary"
           }
          ],
          "surface": [
           {
            "colorbar": {
             "outlinewidth": 0,
             "ticks": ""
            },
            "colorscale": [
             [
              0,
              "#0d0887"
             ],
             [
              0.1111111111111111,
              "#46039f"
             ],
             [
              0.2222222222222222,
              "#7201a8"
             ],
             [
              0.3333333333333333,
              "#9c179e"
             ],
             [
              0.4444444444444444,
              "#bd3786"
             ],
             [
              0.5555555555555556,
              "#d8576b"
             ],
             [
              0.6666666666666666,
              "#ed7953"
             ],
             [
              0.7777777777777778,
              "#fb9f3a"
             ],
             [
              0.8888888888888888,
              "#fdca26"
             ],
             [
              1,
              "#f0f921"
             ]
            ],
            "type": "surface"
           }
          ],
          "table": [
           {
            "cells": {
             "fill": {
              "color": "#EBF0F8"
             },
             "line": {
              "color": "white"
             }
            },
            "header": {
             "fill": {
              "color": "#C8D4E3"
             },
             "line": {
              "color": "white"
             }
            },
            "type": "table"
           }
          ]
         },
         "layout": {
          "annotationdefaults": {
           "arrowcolor": "#2a3f5f",
           "arrowhead": 0,
           "arrowwidth": 1
          },
          "autotypenumbers": "strict",
          "coloraxis": {
           "colorbar": {
            "outlinewidth": 0,
            "ticks": ""
           }
          },
          "colorscale": {
           "diverging": [
            [
             0,
             "#8e0152"
            ],
            [
             0.1,
             "#c51b7d"
            ],
            [
             0.2,
             "#de77ae"
            ],
            [
             0.3,
             "#f1b6da"
            ],
            [
             0.4,
             "#fde0ef"
            ],
            [
             0.5,
             "#f7f7f7"
            ],
            [
             0.6,
             "#e6f5d0"
            ],
            [
             0.7,
             "#b8e186"
            ],
            [
             0.8,
             "#7fbc41"
            ],
            [
             0.9,
             "#4d9221"
            ],
            [
             1,
             "#276419"
            ]
           ],
           "sequential": [
            [
             0,
             "#0d0887"
            ],
            [
             0.1111111111111111,
             "#46039f"
            ],
            [
             0.2222222222222222,
             "#7201a8"
            ],
            [
             0.3333333333333333,
             "#9c179e"
            ],
            [
             0.4444444444444444,
             "#bd3786"
            ],
            [
             0.5555555555555556,
             "#d8576b"
            ],
            [
             0.6666666666666666,
             "#ed7953"
            ],
            [
             0.7777777777777778,
             "#fb9f3a"
            ],
            [
             0.8888888888888888,
             "#fdca26"
            ],
            [
             1,
             "#f0f921"
            ]
           ],
           "sequentialminus": [
            [
             0,
             "#0d0887"
            ],
            [
             0.1111111111111111,
             "#46039f"
            ],
            [
             0.2222222222222222,
             "#7201a8"
            ],
            [
             0.3333333333333333,
             "#9c179e"
            ],
            [
             0.4444444444444444,
             "#bd3786"
            ],
            [
             0.5555555555555556,
             "#d8576b"
            ],
            [
             0.6666666666666666,
             "#ed7953"
            ],
            [
             0.7777777777777778,
             "#fb9f3a"
            ],
            [
             0.8888888888888888,
             "#fdca26"
            ],
            [
             1,
             "#f0f921"
            ]
           ]
          },
          "colorway": [
           "#636efa",
           "#EF553B",
           "#00cc96",
           "#ab63fa",
           "#FFA15A",
           "#19d3f3",
           "#FF6692",
           "#B6E880",
           "#FF97FF",
           "#FECB52"
          ],
          "font": {
           "color": "#2a3f5f"
          },
          "geo": {
           "bgcolor": "white",
           "lakecolor": "white",
           "landcolor": "#E5ECF6",
           "showlakes": true,
           "showland": true,
           "subunitcolor": "white"
          },
          "hoverlabel": {
           "align": "left"
          },
          "hovermode": "closest",
          "mapbox": {
           "style": "light"
          },
          "paper_bgcolor": "white",
          "plot_bgcolor": "#E5ECF6",
          "polar": {
           "angularaxis": {
            "gridcolor": "white",
            "linecolor": "white",
            "ticks": ""
           },
           "bgcolor": "#E5ECF6",
           "radialaxis": {
            "gridcolor": "white",
            "linecolor": "white",
            "ticks": ""
           }
          },
          "scene": {
           "xaxis": {
            "backgroundcolor": "#E5ECF6",
            "gridcolor": "white",
            "gridwidth": 2,
            "linecolor": "white",
            "showbackground": true,
            "ticks": "",
            "zerolinecolor": "white"
           },
           "yaxis": {
            "backgroundcolor": "#E5ECF6",
            "gridcolor": "white",
            "gridwidth": 2,
            "linecolor": "white",
            "showbackground": true,
            "ticks": "",
            "zerolinecolor": "white"
           },
           "zaxis": {
            "backgroundcolor": "#E5ECF6",
            "gridcolor": "white",
            "gridwidth": 2,
            "linecolor": "white",
            "showbackground": true,
            "ticks": "",
            "zerolinecolor": "white"
           }
          },
          "shapedefaults": {
           "line": {
            "color": "#2a3f5f"
           }
          },
          "ternary": {
           "aaxis": {
            "gridcolor": "white",
            "linecolor": "white",
            "ticks": ""
           },
           "baxis": {
            "gridcolor": "white",
            "linecolor": "white",
            "ticks": ""
           },
           "bgcolor": "#E5ECF6",
           "caxis": {
            "gridcolor": "white",
            "linecolor": "white",
            "ticks": ""
           }
          },
          "title": {
           "x": 0.05
          },
          "xaxis": {
           "automargin": true,
           "gridcolor": "white",
           "linecolor": "white",
           "ticks": "",
           "title": {
            "standoff": 15
           },
           "zerolinecolor": "white",
           "zerolinewidth": 2
          },
          "yaxis": {
           "automargin": true,
           "gridcolor": "white",
           "linecolor": "white",
           "ticks": "",
           "title": {
            "standoff": 15
           },
           "zerolinecolor": "white",
           "zerolinewidth": 2
          }
         }
        },
        "title": {
         "text": "Relationship status : "
        }
       }
      }
     },
     "metadata": {},
     "output_type": "display_data"
    }
   ],
   "source": [
    "fig = go.Figure(\n",
    "    data = [\n",
    "        go.Pie(\n",
    "            labels = df.marital_status.dropna().unique(), \n",
    "            values = df.marital_status.value_counts().dropna(), \n",
    "            textinfo='percent + label', \n",
    "            textposition='inside',\n",
    "            marker=dict(line=dict(color='#000000', width=1)),\n",
    "            hole = 0.5\n",
    "        )\n",
    "    ]\n",
    ")\n",
    "fig.update_layout(\n",
    "    title_text=\"Relationship status : \",\n",
    "    annotations=[dict(text='Relationship', x=0.5, y=0.5, font_size=20, showarrow=False)])\n",
    "fig.show()"
   ]
  },
  {
   "cell_type": "code",
   "execution_count": 12,
   "metadata": {},
   "outputs": [
    {
     "data": {
      "image/png": "[encoded data removed]",
      "text/plain": [
       "<Figure size 432x288 with 1 Axes>"
      ]
     },
     "metadata": {
      "needs_background": "light"
     },
     "output_type": "display_data"
    }
   ],
   "source": [
    "df.Degree.value_counts().plot(kind='bar');"
   ]
  },
  {
   "cell_type": "code",
   "execution_count": 13,
   "metadata": {},
   "outputs": [
    {
     "data": {
      "image/png": "[encoded data removed]",
      "text/plain": [
       "<Figure size 432x288 with 1 Axes>"
      ]
     },
     "metadata": {
      "needs_background": "light"
     },
     "output_type": "display_data"
    }
   ],
   "source": [
    "df.country.value_counts().plot(kind = 'bar');"
   ]
  },
  {
   "cell_type": "code",
   "execution_count": null,
   "metadata": {},
   "outputs": [],
   "source": []
  }
 ],
 "metadata": {
  "kernelspec": {
   "display_name": "Python 3.7.9 64-bit (windows store)",
   "language": "python",
   "name": "python3"
  },
  "language_info": {
   "codemirror_mode": {
    "name": "ipython",
    "version": 3
   },
   "file_extension": ".py",
   "mimetype": "text/x-python",
   "name": "python",
   "nbconvert_exporter": "python",
   "pygments_lexer": "ipython3",
   "version": "3.7.9"
  },
  "orig_nbformat": 4,
  "vscode": {
   "interpreter": {
    "hash": "49deadb19ec3199b19c2e07bd674ab90037832d683175982dd3cb88bf7cb6cf2"
   }
  }
 },
 "nbformat": 4,
 "nbformat_minor": 2
}
